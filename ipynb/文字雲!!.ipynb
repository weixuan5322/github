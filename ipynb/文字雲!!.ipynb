{
 "cells": [
  {
   "cell_type": "code",
   "execution_count": 3,
   "metadata": {
    "collapsed": false
   },
   "outputs": [
    {
     "name": "stderr",
     "output_type": "stream",
     "text": [
      "Building prefix dict from the default dictionary ...\n",
      "Loading model from cache c:\\users\\bigdat~1\\appdata\\local\\temp\\jieba.cache\n",
      "Loading model cost 0.262 seconds.\n",
      "Prefix dict has been built succesfully.\n"
     ]
    }
   ],
   "source": [
    "import requests\n",
    "from bs4 import BeautifulSoup\n",
    "import re\n",
    "import jieba\n",
    "section = requests.get('http://www.appledaily.com.tw/realtimenews/section/new/1')\n",
    "soup = BeautifulSoup(section.text,'lxml')\n",
    "domain = 'http://www.appledaily.com.tw'\n",
    "worddic={}\n",
    "for news in soup.select('.rtddt'):    \n",
    "    main = news.select('h1')[0].text\n",
    "    m = re.match('(.*)\\((\\d+)\\)',main) #\\(~~~~~~~~\\)=(要找瓜號裡的值)\n",
    "    if m:\n",
    "        title = m.group(1)\n",
    "        popularity = int(m.group(2))\n",
    "    for wd in jieba.cut(title):\n",
    "        if wd not in worddic:\n",
    "            worddic[wd] = 1\n",
    "        else:\n",
    "            worddic[wd] = worddic[wd] + 1"
   ]
  },
  {
   "cell_type": "code",
   "execution_count": 4,
   "metadata": {
    "collapsed": false,
    "scrolled": true
   },
   "outputs": [
    {
     "name": "stdout",
     "output_type": "stream",
     "text": [
      "颱風天菜價漲　農糧署推平價專區(1557)\n",
      "莫蘭蒂颱風公文這樣寫　網友虧想放假了(13514)\n",
      "車手黑吃黑私吞88萬　遭老大痛扁(0)\n",
      "德反恐警突襲難民營　逮3名疑似IS成員(0)\n",
      "【攤開情史】吳怡霈愛定日本家教男友　抖K...(61811)\n",
      "宏碁台灣總座林佳璋　用交朋友心情做事(0)\n",
      "【不斷更新】莫蘭蒂增強變胖　氣象局：今年...(860440)\n",
      "颱風攪局　梨山音樂會延期(3)\n",
      "【公庫】陳菊開馬路 趕琵鷺 民團為茄萣濕...(16)\n",
      "【不斷更新】莫蘭蒂來襲　台鐵東部幹線、南...(81247)\n",
      "【三星出狠招】不交回Note 7？　以後...(1605)\n",
      "【更新】耐森控球不穩　義大5比4中信(4900)\n",
      "【身價2000億】三星太子爺曾與賈伯斯交...(19924)\n",
      "高鐵明正常行駛　中秋節營運明早10時宣布(207)\n",
      "【醫藥新知】全腦放射線治療未必對腦轉移肺...(74)\n",
      "莫蘭蒂襲花東　東富公路晚間預警性封閉(174)\n",
      "未雨綢繆　高雄杉林土石流區撤離20人(103)\n",
      "【揪心】9歲女哭求「1張全家福」　小禎牽...(132132)\n",
      "【停班課總表】高雄市明停班課　北北基正常...(693012)\n",
      "蕭敬騰對跑車無感　最想入手挖土機(905)\n",
      "看不到曙光！　3成屋主願意降價賣(11489)\n",
      "【央廣RTI】央廣回應段宜康四大誤解懶人...(1930)\n",
      "花蓮東大門夜市遊客少　過半攤商打烊拚防颱(319)\n",
      "陳金鋒將退休　恰恰難忘2戰役(989)\n",
      "【法廣RFI】中國大陸足球大躍進(233)\n",
      "三重民宅火警　4人嗆傷送醫(630)\n",
      "推廣紡織工藝　台南秀時尚(309)\n",
      "【獨家直擊】家暴男持雙刀抵肚4小時　警迂...(5689)\n",
      "【怒】繼母懷孕心情差　竟用熱水燙4歲繼女(5884)\n",
      "【法廣RFI】法國各地普建難民收容所(202)\n"
     ]
    }
   ],
   "source": [
    "test_m=[]\n",
    "for text_news in soup.select('.rtddt'):\n",
    "    print text_news.select('h1')[0].text\n",
    "    test_m.append(text_news.select('h1')[0].text)"
   ]
  },
  {
   "cell_type": "code",
   "execution_count": 5,
   "metadata": {
    "collapsed": false
   },
   "outputs": [],
   "source": [
    "message =\"【補Note7爆炸損失？】三星印表機事業...(30798)\""
   ]
  },
  {
   "cell_type": "code",
   "execution_count": 6,
   "metadata": {
    "collapsed": false
   },
   "outputs": [],
   "source": [
    "x=re.match('.*\\((\\d+)\\)',message)"
   ]
  },
  {
   "cell_type": "code",
   "execution_count": 7,
   "metadata": {
    "collapsed": false,
    "scrolled": true
   },
   "outputs": [
    {
     "name": "stdout",
     "output_type": "stream",
     "text": [
      "【補Note7爆炸損失？】三星印表機事業...(30798)\n"
     ]
    }
   ],
   "source": [
    "print x.string"
   ]
  },
  {
   "cell_type": "code",
   "execution_count": 13,
   "metadata": {
    "collapsed": false
   },
   "outputs": [
    {
     "ename": "ImportError",
     "evalue": "No module named pygame",
     "output_type": "error",
     "traceback": [
      "\u001b[1;31m---------------------------------------------------------------------------\u001b[0m",
      "\u001b[1;31mImportError\u001b[0m                               Traceback (most recent call last)",
      "\u001b[1;32m<ipython-input-13-1e8b4d4d59e6>\u001b[0m in \u001b[0;36m<module>\u001b[1;34m()\u001b[0m\n\u001b[1;32m----> 1\u001b[1;33m \u001b[1;32mfrom\u001b[0m \u001b[0mpytagcloud\u001b[0m \u001b[1;32mimport\u001b[0m \u001b[0mcreate_tag_image\u001b[0m\u001b[1;33m,\u001b[0m\u001b[0mmake_tags\u001b[0m\u001b[1;33m\u001b[0m\u001b[0m\n\u001b[0m\u001b[0;32m      2\u001b[0m \u001b[1;32mfrom\u001b[0m \u001b[0mpytagcloud\u001b[0m\u001b[1;33m.\u001b[0m\u001b[0mlang\u001b[0m\u001b[1;33m.\u001b[0m\u001b[0mcounter\u001b[0m \u001b[1;32mimport\u001b[0m \u001b[0mget_tag_counts\u001b[0m\u001b[1;33m\u001b[0m\u001b[0m\n\u001b[0;32m      3\u001b[0m \u001b[1;32mfrom\u001b[0m \u001b[0mIPython\u001b[0m\u001b[1;33m.\u001b[0m\u001b[0mdisplay\u001b[0m \u001b[1;32mimport\u001b[0m \u001b[0mImage\u001b[0m\u001b[1;33m\u001b[0m\u001b[0m\n\u001b[0;32m      4\u001b[0m \u001b[1;32mfrom\u001b[0m \u001b[0moperator\u001b[0m \u001b[1;32mimport\u001b[0m \u001b[0mitemgetter\u001b[0m\u001b[1;33m\u001b[0m\u001b[0m\n\u001b[0;32m      5\u001b[0m \u001b[1;33m\u001b[0m\u001b[0m\n",
      "\u001b[1;32mE:\\Anaconda2\\lib\\site-packages\\pytagcloud-0.3.5-py2.7.egg\\pytagcloud\\__init__.py\u001b[0m in \u001b[0;36m<module>\u001b[1;34m()\u001b[0m\n\u001b[0;32m      2\u001b[0m \u001b[1;32mfrom\u001b[0m \u001b[0mcopy\u001b[0m \u001b[1;32mimport\u001b[0m \u001b[0mcopy\u001b[0m\u001b[1;33m\u001b[0m\u001b[0m\n\u001b[0;32m      3\u001b[0m \u001b[1;32mfrom\u001b[0m \u001b[0mmath\u001b[0m \u001b[1;32mimport\u001b[0m \u001b[0msin\u001b[0m\u001b[1;33m,\u001b[0m \u001b[0mcos\u001b[0m\u001b[1;33m,\u001b[0m \u001b[0mceil\u001b[0m\u001b[1;33m\u001b[0m\u001b[0m\n\u001b[1;32m----> 4\u001b[1;33m \u001b[1;32mfrom\u001b[0m \u001b[0mpygame\u001b[0m \u001b[1;32mimport\u001b[0m \u001b[0mtransform\u001b[0m\u001b[1;33m,\u001b[0m \u001b[0mfont\u001b[0m\u001b[1;33m,\u001b[0m \u001b[0mmask\u001b[0m\u001b[1;33m,\u001b[0m \u001b[0mSurface\u001b[0m\u001b[1;33m,\u001b[0m \u001b[0mRect\u001b[0m\u001b[1;33m,\u001b[0m \u001b[0mSRCALPHA\u001b[0m\u001b[1;33m,\u001b[0m \u001b[0mdraw\u001b[0m\u001b[1;33m\u001b[0m\u001b[0m\n\u001b[0m\u001b[0;32m      5\u001b[0m \u001b[1;32mfrom\u001b[0m \u001b[0mpygame\u001b[0m\u001b[1;33m.\u001b[0m\u001b[0msprite\u001b[0m \u001b[1;32mimport\u001b[0m \u001b[0mGroup\u001b[0m\u001b[1;33m,\u001b[0m \u001b[0mSprite\u001b[0m\u001b[1;33m,\u001b[0m \u001b[0mcollide_mask\u001b[0m\u001b[1;33m\u001b[0m\u001b[0m\n\u001b[0;32m      6\u001b[0m \u001b[1;32mfrom\u001b[0m \u001b[0mrandom\u001b[0m \u001b[1;32mimport\u001b[0m \u001b[0mrandint\u001b[0m\u001b[1;33m,\u001b[0m \u001b[0mchoice\u001b[0m\u001b[1;33m\u001b[0m\u001b[0m\n",
      "\u001b[1;31mImportError\u001b[0m: No module named pygame"
     ]
    }
   ],
   "source": [
    "from pytagcloud import create_tag_image,make_tags\n",
    "from pytagcloud.lang.counter import get_tag_counts\n",
    "from IPython.display import Image\n",
    "from operator import itemgetter\n",
    "\n",
    "swd = sorted(worddic.iteritems(), key=itemgetter(1), reverse=True)\n",
    "swd = [w for w in swd[1:50] if w[0] not in '【】...'.decode('utf-8')]\n",
    "\n",
    "tags = make_tags(swd, maxsize=120)\n",
    "create_tag_image(tags, 'wc.png', size=(600,400), fontname='SimHei')\n",
    "Image(filename='wc.png') "
   ]
  },
  {
   "cell_type": "code",
   "execution_count": 9,
   "metadata": {
    "collapsed": false
   },
   "outputs": [
    {
     "name": "stdout",
     "output_type": "stream",
     "text": [
      "(u'\\u3000', 24)\n",
      "(u'\\u9858\\u610f', 1)\n",
      "(u'\\u505a\\u4e8b', 1)\n",
      "(u'\\u611b\\u5b9a', 1)\n",
      "(u'\\u653e\\u5047', 1)\n",
      "(u'\\u64a4\\u96e2', 1)\n",
      "(u'\\u300c', 1)\n",
      "(u'\\u3010', 15)\n",
      "(u'\\u5c11', 1)\n",
      "(u'\\u8d95', 1)\n",
      "(u'\\u6012', 1)\n",
      "(u'\\u6c23\\u8c61\\u5c40', 1)\n",
      "(u'\\u7e3d\\u8868', 1)\n",
      "(u'\\u5104', 1)\n",
      "(u' ', 3)\n",
      "(u'20', 1)\n",
      "(u'\\u592e\\u5ee3\\u56de', 1)\n",
      "(u'\\u5165\\u624b', 1)\n",
      "(u'\\u8b66\\u7a81\\u8972', 1)\n",
      "(u'\\u842c', 1)\n",
      "(u'\\u4ea4\\u56de', 1)\n",
      "(u'\\u96e3\\u5fd8', 1)\n",
      "(u'\\u96e3\\u6c11\\u71df', 1)\n",
      "(u'4', 4)\n",
      "(u'\\u6cd5\\u570b', 1)\n",
      "(u'\\u7adf\\u7528', 1)\n",
      "(u'\\u653e\\u5c04', 1)\n",
      "(u'\\u884c\\u99db', 1)\n",
      "(u'\\u5404\\u5730', 1)\n",
      "(u'...', 11)\n",
      "(u'\\u9ed1\\u5403\\u9ed1', 1)\n",
      "(u'\\u61c9\\u6bb5', 1)\n",
      "(u'7', 1)\n",
      "(u'\\u5b9c\\u5eb7', 1)\n",
      "(u'\\u96d9\\u5200', 1)\n",
      "(u'\\u672a\\u96e8\\u7da2\\u7e46', 1)\n",
      "(u'\\u5fc3\\u60c5', 2)\n",
      "(u'\\u8dd1', 1)\n",
      "(u'\\u4e0d\\u65b7', 2)\n",
      "(u'\\u6b63\\u5e38', 2)\n",
      "(u'\\u6fd5', 1)\n",
      "(u'\\u8db3\\u7403', 1)\n",
      "(u'\\u964d\\u50f9', 1)\n",
      "(u'\\u8ce3', 1)\n",
      "(u'\\u80ba', 1)\n",
      "(u'\\u6210', 1)\n",
      "(u'\\u6797\\u4f73\\u748b', 1)\n",
      "(u'\\u8b66', 1)\n",
      "(u'\\u7e7c\\u6bcd', 1)\n",
      "(u'\\u66f4\\u65b0', 3)\n",
      "(u'\\u4ea4\\u670b\\u53cb', 1)\n",
      "(u'\\u6b72', 2)\n",
      "(u'\\u53cd\\u6050', 1)\n",
      "(u'\\u72e0\\u62db', 1)\n",
      "(u'\\u5ef6\\u671f', 1)\n",
      "(u'\\uff01', 1)\n",
      "(u'\\u5c0d\\u8166', 1)\n",
      "(u'\\u8667\\u60f3', 1)\n",
      "(u'\\u53f0\\u5357', 1)\n",
      "(u'\\u8207', 1)\n",
      "(u'\\u63a8\\u5e73', 1)\n",
      "(u'\\u300d', 1)\n",
      "(u'\\u83ab\\u862d\\u8482\\u4f86\\u8972', 1)\n",
      "(u'\\u660e\\u65e9', 1)\n",
      "(u'88', 1)\n",
      "(u'\\u5b8f\\u7881', 1)\n",
      "(u'\\u6771\\u5927\\u9580', 1)\n",
      "(u'\\u5927\\u8e8d\\u9032', 1)\n",
      "(u'\\u505c\\u73ed\\u8ab2', 2)\n",
      "(u'\\u82b1\\u6771', 1)\n",
      "(u'\\u8423', 1)\n",
      "(u'\\uff1a', 1)\n",
      "(u'\\u83ab\\u862d\\u8482\\u8972', 1)\n",
      "(u'\\u9632\\u98b1', 1)\n",
      "(u'\\u5168\\u5bb6\\u798f', 1)\n",
      "(u'\\u98a8', 2)\n",
      "(u'\\u9ad8\\u96c4\\u5e02', 1)\n",
      "(u'RTI', 1)\n",
      "(u'\\u5317\\u5317\\u57fa', 1)\n",
      "(u'3', 2)\n",
      "(u'\\u5f35', 1)\n",
      "(u'\\u53f0\\u9435\\u6771\\u90e8', 1)\n",
      "(u'\\u665a\\u9593', 1)\n",
      "(u'\\u652a\\u5c40', 1)\n",
      "(u'\\u8b8a\\u80d6', 1)\n",
      "(u'\\u4e2d\\u570b\\u5927\\u9678', 1)\n",
      "(u'\\u63a8\\u5ee3\\u7d21\\u7e54', 1)\n",
      "(u'\\u516c\\u6587', 1)\n",
      "(u'\\u8fc2', 1)\n",
      "(u'\\u7e7c\\u5973', 1)\n",
      "(u'\\u83ab\\u862d\\u8482', 2)\n",
      "(u'\\u4e09\\u661f', 2)\n",
      "(u'\\u55c6', 1)\n",
      "(u'K', 1)\n",
      "(u'\\u83ca', 1)\n",
      "(u'\\u9810\\u8b66\\u6027', 1)\n",
      "(u'\\u7e3d\\u5ea7', 1)\n",
      "(u'\\u6210\\u54e1', 1)\n",
      "(u'\\u571f\\u77f3', 1)\n",
      "(u'\\u61f6\\u4eba', 1)\n",
      "(u'\\u7dda', 1)\n",
      "(u'\\u8010\\u68ee', 1)\n",
      "(u'\\u6771\\u5bcc', 1)\n",
      "(u'\\u6a5f', 1)\n",
      "(u'\\u6316\\u571f', 1)\n",
      "(u'\\u5c0f\\u798e', 1)\n",
      "(u'\\u8fb2\\u7ce7\\u7f72', 1)\n",
      "(u'\\u706b\\u8b66', 1)\n",
      "(u'\\u4e0d\\u7a69', 1)\n",
      "(u'\\u592e\\u5ee3', 1)\n",
      "(u'\\u723a\\u66fe', 1)\n",
      "(u'\\u5dee', 1)\n",
      "(u'\\u5ba3\\u5e03', 1)\n",
      "(u'\\u9673', 2)\n",
      "(u'\\u56db\\u5927', 1)\n",
      "(u'\\u65b0\\u77e5', 1)\n",
      "(u'\\u71d9', 1)\n",
      "(u'\\u5bb6\\u6559', 1)\n",
      "(u'\\u51fa', 1)\n",
      "(u'\\u60c5\\u53f2', 1)\n",
      "(u'\\u66d9\\u5149', 1)\n",
      "(u'\\u8304', 1)\n",
      "(u'\\u8aa4\\u89e3', 1)\n",
      "(u'\\u6749\\u6797', 1)\n",
      "(u'\\u660e', 1)\n",
      "(u'Note', 1)\n",
      "(u'\\u97f3\\u6a02\\u6703', 1)\n",
      "(u'\\u9000\\u4f11', 1)\n",
      "(u'\\u4e09\\u91cd', 1)\n",
      "(u'\\u5c4b\\u4e3b', 1)\n",
      "(u'\\u5de5\\u85dd', 1)\n",
      "(u'\\u5c1a', 1)\n",
      "(u'RFI', 2)\n",
      "(u'\\u79c1\\u541e', 1)\n",
      "(u'\\u6070\\u6070', 1)\n",
      "(u'\\u7528', 1)\n",
      "(u'\\u9019\\u6a23', 1)\n",
      "(u'\\u7537\\u53cb', 1)\n",
      "(u'\\u5c0f\\u6642', 1)\n",
      "(u'\\u902e', 1)\n",
      "(u'\\u98b1', 3)\n",
      "(u'\\u6cbb\\u7642', 1)\n",
      "(u'\\u856d\\u656c\\u9a30', 1)\n",
      "(u'2', 1)\n",
      "(u'\\u63a7\\u7403', 1)\n",
      "(u'\\u5fb7', 1)\n",
      "(u'\\u672a\\u5fc5', 1)\n",
      "(u'\\u82b1\\u84ee', 1)\n",
      "(u'\\u65e5\\u672c', 1)\n",
      "(u'\\u68a8\\u5c71', 1)\n",
      "(u'\\u5c01\\u9589', 1)\n",
      "(u'\\u4e0d', 1)\n",
      "(u'\\u7591\\u4f3c', 1)\n",
      "(u'\\u666e\\u5efa', 1)\n",
      "(u'\\u904e\\u534a\\u6524\\u5546', 1)\n",
      "(u'\\u5bb6\\u66b4', 1)\n",
      "(u'\\u5168\\u8166', 1)\n",
      "(u'\\u7db2\\u53cb', 1)\n",
      "(u'10', 1)\n",
      "(u'\\u8f49\\u79fb', 1)\n",
      "(u'\\u4ee5', 1)\n",
      "(u'\\u7537\\u6301', 1)\n",
      "(u'\\u5beb', 1)\n",
      "(u'\\u98a8\\u5929\\u83dc', 1)\n",
      "(u'\\u75db\\u6241', 1)\n",
      "(u'\\u589e\\u5f37', 1)\n",
      "(u'\\u61f7\\u5b55', 1)\n",
      "(u'\\u6c11\\u5b85', 1)\n",
      "(u'\\u770b\\u4e0d\\u5230', 1)\n",
      "(u'\\u4eba', 2)\n",
      "(u'\\u9ad8\\u9435\\u660e', 1)\n",
      "(u'\\u3001', 1)\n",
      "(u'\\u6253\\u70ca', 1)\n",
      "(u'\\u50b7\\u9001\\u91ab', 1)\n",
      "(u'\\u4e86', 1)\n",
      "(u'\\u7368\\u5bb6', 1)\n",
      "(u'\\u8eca\\u624b', 1)\n",
      "(u'\\u540d', 1)\n",
      "(u'\\u5f8c', 1)\n",
      "(u'\\u4e2d\\u79cb', 1)\n",
      "(u'\\u3011', 15)\n",
      "(u'\\u6642', 1)\n",
      "(u'\\u6296', 1)\n",
      "(u'\\u50f9\\u6f32', 1)\n",
      "(u'\\uff1f', 1)\n",
      "(u'\\u8eca\\u7121\\u611f', 1)\n",
      "(u'\\u4e2d\\u4fe1', 1)\n",
      "(u'\\u91ab\\u85e5', 1)\n",
      "(u'\\u7435\\u9dfa', 1)\n",
      "(u'\\u4eca\\u5e74', 1)\n",
      "(u'\\u62b5\\u809a', 1)\n",
      "(u'\\u592a\\u5b50', 1)\n",
      "(u'\\u5973', 1)\n",
      "(u'1', 1)\n",
      "(u'\\u53f0\\u7063', 1)\n",
      "(u'\\u71b1\\u6c34', 1)\n",
      "(u'5', 1)\n",
      "(u'\\u7fa9\\u5927', 1)\n",
      "(u'9', 1)\n",
      "(u'\\u8eab\\u50f9', 1)\n",
      "(u'\\u70ba', 1)\n",
      "(u'\\u8cc8\\u4f2f\\u65af\\u4ea4', 1)\n",
      "(u'\\u6d41\\u5340', 1)\n",
      "(u'\\u54ed\\u6c42', 1)\n",
      "(u'IS', 1)\n",
      "(u'\\u958b\\u99ac\\u8def', 1)\n",
      "(u'\\u9ad8\\u96c4', 1)\n",
      "(u'\\u5c0d', 1)\n",
      "(u'\\u6536\\u5bb9\\u6240', 1)\n",
      "(u'\\u76f4\\u64ca', 1)\n",
      "(u'\\u6bd4', 1)\n",
      "(u'\\u5357', 1)\n",
      "(u'\\u62da', 1)\n",
      "(u'\\u79c0\\u6642', 1)\n",
      "(u'\\u6cd5\\u5ee3', 2)\n",
      "(u'\\u5433\\u6021\\u9708', 1)\n",
      "(u'\\u6524\\u958b', 1)\n",
      "(u'\\u8001\\u5927', 1)\n",
      "(u'\\u91d1\\u92d2\\u5c07', 1)\n",
      "(u'\\u6c11\\u5718', 1)\n",
      "(u'\\u50f9\\u5c08\\u5340', 1)\n",
      "(u'\\u6230\\u5f79', 1)\n",
      "(u'\\u906d', 1)\n",
      "(u'\\u516c\\u5eab', 1)\n",
      "(u'\\u7bc0\\u71df\\u904b', 1)\n",
      "(u'\\u6700\\u60f3', 1)\n",
      "(u'2000', 1)\n",
      "(u'\\u5e79\\u7dda', 1)\n",
      "(u'\\u516c\\u8def', 1)\n",
      "(u'\\u591c\\u5e02', 1)\n",
      "(u'\\u96e3\\u6c11', 1)\n",
      "(u'\\u63ea\\u5fc3', 1)\n",
      "(u'\\u727d', 1)\n",
      "(u'\\u904a\\u5ba2', 1)\n"
     ]
    }
   ],
   "source": [
    "for x in worddic.iteritems():\n",
    "    print x"
   ]
  },
  {
   "cell_type": "code",
   "execution_count": null,
   "metadata": {
    "collapsed": false
   },
   "outputs": [],
   "source": []
  },
  {
   "cell_type": "code",
   "execution_count": null,
   "metadata": {
    "collapsed": true
   },
   "outputs": [],
   "source": []
  }
 ],
 "metadata": {
  "anaconda-cloud": {},
  "kernelspec": {
   "display_name": "Python [Root]",
   "language": "python",
   "name": "Python [Root]"
  },
  "language_info": {
   "codemirror_mode": {
    "name": "ipython",
    "version": 2
   },
   "file_extension": ".py",
   "mimetype": "text/x-python",
   "name": "python",
   "nbconvert_exporter": "python",
   "pygments_lexer": "ipython2",
   "version": "2.7.12"
  }
 },
 "nbformat": 4,
 "nbformat_minor": 0
}
