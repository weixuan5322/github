{
 "cells": [
  {
   "cell_type": "markdown",
   "metadata": {},
   "source": [
    "## python撰寫爬蟲"
   ]
  },
  {
   "cell_type": "code",
   "execution_count": 6,
   "metadata": {
    "collapsed": true
   },
   "outputs": [],
   "source": [
    "import requests ##import進來方法和屬性"
   ]
  },
  {
   "cell_type": "code",
   "execution_count": 7,
   "metadata": {
    "collapsed": false,
    "scrolled": true
   },
   "outputs": [
    {
     "data": {
      "text/plain": [
       "['ConnectTimeout',\n",
       " 'ConnectionError',\n",
       " 'DependencyWarning',\n",
       " 'FileModeWarning',\n",
       " 'HTTPError',\n",
       " 'NullHandler',\n",
       " 'PreparedRequest',\n",
       " 'ReadTimeout',\n",
       " 'Request',\n",
       " 'RequestException',\n",
       " 'Response',\n",
       " 'Session',\n",
       " 'Timeout',\n",
       " 'TooManyRedirects',\n",
       " 'URLRequired',\n",
       " '__author__',\n",
       " '__build__',\n",
       " '__builtins__',\n",
       " '__copyright__',\n",
       " '__doc__',\n",
       " '__file__',\n",
       " '__license__',\n",
       " '__name__',\n",
       " '__package__',\n",
       " '__path__',\n",
       " '__title__',\n",
       " '__version__',\n",
       " 'adapters',\n",
       " 'api',\n",
       " 'auth',\n",
       " 'certs',\n",
       " 'codes',\n",
       " 'compat',\n",
       " 'cookies',\n",
       " 'delete',\n",
       " 'exceptions',\n",
       " 'get',\n",
       " 'head',\n",
       " 'hooks',\n",
       " 'logging',\n",
       " 'models',\n",
       " 'options',\n",
       " 'packages',\n",
       " 'patch',\n",
       " 'post',\n",
       " 'put',\n",
       " 'request',\n",
       " 'session',\n",
       " 'sessions',\n",
       " 'status_codes',\n",
       " 'structures',\n",
       " 'utils',\n",
       " 'warnings']"
      ]
     },
     "execution_count": 7,
     "metadata": {},
     "output_type": "execute_result"
    }
   ],
   "source": [
    "dir(requests) ##像是API了解其方法即屬性"
   ]
  },
  {
   "cell_type": "code",
   "execution_count": 8,
   "metadata": {
    "collapsed": false
   },
   "outputs": [
    {
     "data": {
      "text/plain": [
       "str"
      ]
     },
     "execution_count": 8,
     "metadata": {},
     "output_type": "execute_result"
    }
   ],
   "source": [
    "type('post')##利用type去了解其資料型別"
   ]
  },
  {
   "cell_type": "code",
   "execution_count": 9,
   "metadata": {
    "collapsed": false
   },
   "outputs": [],
   "source": [
    "res =requests.get(\"http://www.appledaily.com.tw/realtimenews/section/new/\")\n",
    "##F12 到 network>  preserve 和 disablecashe 最新更新 Headers 看裡面genenal裡的URL"
   ]
  },
  {
   "cell_type": "code",
   "execution_count": 10,
   "metadata": {
    "collapsed": false
   },
   "outputs": [
    {
     "data": {
      "text/plain": [
       "u'<!DOCTYPE html>\\n<!--[if lt IE 7 ]> <html lang=\"zh-TW\" class=\"ie6 ielt8\"> <![endif]-->\\n<!--[if IE 7 ]>    <html lang=\"zh-TW\" class=\"ie7 ielt8\"> <![endif]-->\\n<!--[if IE 8 ]>    <html lang=\"zh-TW\" class=\"ie8\"> <![endif]-->\\n<!--[if (gte IE 9)|!(IE)]><!--> <html lang=\"zh-TW\"> <!--<![endif]-->\\n<head>\\n  <meta charset=\"utf-8\" />\\n  <title>\\u860b\\u679c\\u5373\\u6642\\u65b0\\u805e\\uff5c\\u860b\\u679c\\u65e5\\u5831\\uff5cApple Daily</title>\\n  <meta name=\"description\" content=\"\\u860b\\u679c\\u65e5\\u5831\\u7db2\\u7ad9\\u63d0\\u4f9b\\u5373\\u6642\\u3001\\u5feb\\u901f\\u3001\\u8c50\\u5bcc\\u7684\\u6700\\u65b0\\u6642\\u4e8b\\u52d5\\u614b\\uff0c\\u5305\\u542b\\u570b\\u969b\\u3001\\u793e\\u6703\\u3001\\u5a1b\\u6a02\\u3001\\u653f\\u6cbb\\u3001\\u751f\\u6d3b\\u3001\\u8ca1\\u7d93\\u7b49\\u6700\\u65b0\\u8a0a\\u606f\\uff0c\\u4e26\\u70ba\\u60a8\\u641c\\u5947\\u5730\\u7403\\u6751\\u842c\\u8c61\\u8207\\u8da3\\u805e\\uff0c\\u5f37\\u8abf\\u6709\\u5716\\u6709\\u771f\\u76f8\\u3001\\u5f71\\u7247\\u6700\\u660e\\u767d\\uff0c\\u8b93\\u60a8\\u6642\\u6642\\u523b\\u523b\\u638c\\u63e1\\u5929\\u4e0b\\u4e8b\\uff01\" />\\n  <meta name=\"keywords\" content=\"\\u860b\\u679c\\u65e5\\u5831,Apple Daily,\\u53f0\\u7063,\\u58f9\\u50b3\\u5a92,Apple, Animation news, Action News, Apple news, news,\\u860b\\u679c,\\u5373\\u6642,\\u6700\\u65b0,\\u860b\\u679c\\u65b0\\u805e,\\u65b0\\u805e,\\u58f9\\u9031\\u520a,\\u58f9\\u96fb\\u8996,\\u52d5\\u65b0\\u805e,\\u5373\\u6642\\u65b0\\u805e,Facebook,\\u81c9\\u66f8,\\u860b\\u679c\\u7c89\\u7d72\\u5718,plurk,twitter,\\u7559\\u8a00,\\u5206\\u4eab,\\u6309\\u8b9a,\\u5929\\u6c23,\\u5f71\\u97f3\\u65b0\\u805e,\\u5f71\\u7247,\\u5f71\\u97f3,\\u884c\\u52d5\\u7248,\\u624b\\u6a5f,App,Android,iphone,Mango,\\u7206\\u6599,\\u6295\\u7a3f,\\u767c\\u7968,\\u7d71\\u4e00\\u767c\\u7968,RSS,\\u751f\\u6d3b,\\u570b\\u969b,\\u5a1b\\u6a02,\\u9ad4\\u80b2,\\u526f\\u520a,\\u8ca1\\u7d93,\\u80a1\\u5e02,\\u6a02\\u900f,\\u5a01\\u529b\\u5f69,\\u793e\\u6703,\\u71b1\\u9580,\\u5f69\\u5238,\\u982d\\u5f69\" />\\n  <meta property=\"og:title\" content=\"\\u860b\\u679c\\u5373\\u6642\\u65b0\\u805e\\uff5c\\u860b\\u679c\\u65e5\\u5831\\uff5cApple Daily\"/>\\n  <meta property=\"og:image\" content=\"http://twimg.edgesuite.net/appledaily/images/core/logo_bg.png\"/>\\n  <meta property=\"og:description\" content=\"\\u860b\\u679c\\u65e5\\u5831\\u7db2\\u7ad9\\u63d0\\u4f9b\\u5373\\u6642\\u3001\\u5feb\\u901f\\u3001\\u8c50\\u5bcc\\u7684\\u6700\\u65b0\\u6642\\u4e8b\\u52d5\\u614b\\uff0c\\u5305\\u542b\\u570b\\u969b\\u3001\\u793e\\u6703\\u3001\\u5a1b\\u6a02\\u3001\\u653f\\u6cbb\\u3001\\u751f\\u6d3b\\u3001\\u8ca1\\u7d93\\u7b49\\u6700\\u65b0\\u8a0a\\u606f\\uff0c\\u4e26\\u70ba\\u60a8\\u641c\\u5947\\u5730\\u7403\\u6751\\u842c\\u8c61\\u8207\\u8da3\\u805e\\uff0c\\u5f37\\u8abf\\u6709\\u5716\\u6709\\u771f\\u76f8\\u3001\\u5f71\\u7247\\u6700\\u660e\\u767d\\uff0c\\u8b93\\u60a8\\u6642\\u6642\\u523b\\u523b\\u638c\\u63e1\\u5929\\u4e0b\\u4e8b\\uff01\"/>\\n  <link rel=\"shortcut icon\" href=\"http://twimg.edgesuite.net/appledaily/pinsite/64x64.ico\">\\n  <link rel=\"shortcut icon\" type=\"image/x-icon\" href=\"http://twimg.edgesuite.net/appledaily/pinsite/64x64.ico\">\\n  <link rel=\"icon\" type=\"image/ico\" href=\"http://twimg.edgesuite.net/appledaily/pinsite/64x64.ico\">\\n  <link rel=\"stylesheet\" href=\"http://twimg.edgesuite.net/appledaily/images/css/style.css\">\\n  <link rel=\"stylesheet\" href=\"http://twimg.edgesuite.net/appledaily/images/css/modules.css\">\\n  <link rel=\"stylesheet\" href=\"http://twimg.edgesuite.net/appledaily/images/css/rtnewslist.css\" />\\n  <link rel=\"stylesheet\" href=\"http://twimg.edgesuite.net/appledaily/style.css\" />\\n  <link rel=\"stylesheet\" href=\"http://twimg.edgesuite.net/appledaily/images/css/realtimenews.css\" />\\n  <script src=\"http://twimg.edgesuite.net/www/js/html5.js\"></script>\\n  <script src=\"http://twimg.edgesuite.net/appledaily/images/js/jquery-1.7.2.min.js\"></script>\\n  <script type=\"text/javascript\" src=\"http://twimg.edgesuite.net/appledaily/images/js/iepngfix.js\"></script>\\n  <script type=\"text/javascript\" src=\"http://twimg.edgesuite.net/appledaily/images/js/jquery.ifixpng.js\"></script>\\n  <script type=\"text/javascript\" language=\"JavaScript\" src=\"http://twimg.edgesuite.net/adx/gpt.js\"></script>\\n  <link rel=\"stylesheet\" href=\"http://twimg.edgesuite.net/appledaily/images/js/owlcarousel/owl.carousel.css\">\\n  <link rel=\"stylesheet\" href=\"http://twimg.edgesuite.net/appledaily/images/js/owlcarousel/carousel-layout.css\">\\n  <link rel=\"stylesheet\" href=\"http://twimg.edgesuite.net/appledaily/images/js/owlcarousel/assets/css/animate-custom.css\">\\n  <script src=\"http://twimg.edgesuite.net/appledaily/images/js/owlcarousel/owl.carousel.fix.js\"></script>\\n  <script type=\"text/javascript\" src=\"http://twimg.edgesuite.net/appledaily/images/js/appledaily-detectmobilebrowser.js\"></script>\\n  <script type=\"text/javascript\" src=\"http://twimg.edgesuite.net/applemobile/js/jquery.cookie.js\"></script>\\n  <script type=\"text/javascript\" src=\"http://twimg.edgesuite.net/appledaily/images/js/GeoApiPC.js\"></script>\\n  <script>\\n        googletag.cmd.push(function() {\\n            var mappingHeadBanner = googletag.sizeMapping().addSize([0, 0], [ [970,90],[970,160], [970,250] ]).build();\\n            var mappingLREC1 = googletag.sizeMapping().addSize([0, 0], [ [300,250], [300,600] ]).build();\\n            HeadBanner = gpt.createAdSlot(\\'AppleDaily/realtimenews_new_index/HeadBanner\\', \\'HeadBanner\\', \\'leaderboard\\', GeoDFP).defineSizeMapping(mappingHeadBanner).setCollapseEmptyDiv(true);\\n            LREC1 = gpt.createAdSlot(\\'AppleDaily/realtimenews_new_index/LREC1\\', \\'LREC\\', \\'rectangleAD1\\', GeoDFP).defineSizeMapping(mappingLREC1).setCollapseEmptyDiv(true);\\n            LREC2 = gpt.createAdSlot(\\'AppleDaily/realtimenews_new_index/LREC2\\', \\'LREC\\', \\'rectangleAD2\\', GeoDFP);\\n            W1 = gpt.createAdSlot(\\'AppleDaily/realtimenews_new_index/Wallpaper1\\', \\'150x800\\', \\'door-left\\', GeoDFP);\\n            W2 = gpt.createAdSlot(\\'AppleDaily/realtimenews_new_index/Wallpaper2\\', \\'150x800\\', \\'door-right\\', GeoDFP);\\n            BottomBanner = gpt.createAdSlot(\\'AppleDaily/realtimenews_new_index/BottomBanner\\', \\'1x1\\', \\'div-ad-bottom\\', GeoDFP);\\n            Minibar = gpt.createAdSlot(\\'AppleDaily/realtimenews_new_index/minibar\\', \\'640x90\\', \\'minibar\\', GeoDFP);\\n            gpt.enableServices();\\n        });\\n  </script>\\n</head>\\n<body id=\"article\" class=\"all\">\\n    <div class=\"wrapper\">\\n        <div class=\"sqrezeer\">\\n            <script>\\n  var _comscore = _comscore || [];\\n  _comscore.push({ c1: \"2\", c2: \"8028476\" });\\n  (function() {\\n    var s = document.createElement(\"script\"), el = document.getElementsByTagName(\"script\")[0]; s.async = true;\\n    s.src = (document.location.protocol == \"https:\" ? \"https://sb\" : \"http://b\") + \".scorecardresearch.com/beacon.js\";\\n    el.parentNode.insertBefore(s, el);\\n  })();\\n</script>\\n<noscript>\\n  <img src=\"http://b.scorecardresearch.com/p?c1=2&c2=8028476&cv=2.0&cj=1\" />\\n</noscript>\\n\\n<!-- 1X1 -->\\n<script type=\"text/javascript\" src=\"http://imp.nextmedia.com/js/nxm_tr_v16.js\"></script>\\n<script type=\"text/javascript\" src=\"http://twimg.edgesuite.net/appledaily/images/js/1x1/fingerprint.js\"></script>\\n<script>\\n    nxmTrack.nxmAddSeg(\"REGION=TW\");\\n    nxmTrack.nxmAddSeg(\"PROD=ADAILY\");\\n    nxmTrack.nxmAddSeg(\"SITE=www.appledaily.com.tw\"); \\n    nxmTrack.nxmAddSeg(\"CH=APPLEDAILY\");\\n    nxmTrack.nxmAddSeg(\"SECTION=REAL\");\\n    nxmTrack.nxmAddSeg(\"MENU=\\u5373\\u6642\\u65b0\\u805e/\\u6700\\u65b0\"); \\n    nxmTrack.nxmAddSeg(\"TITLE=\");\\n    nxmTrack.nxmAddSeg(\"SUBSECT=new\");\\n    nxmTrack.nxmAddSeg(\"SUBSUBSECT=\"); \\n    nxmTrack.nxmAddSeg(\"MEDIA=TEXT\");\\n    nxmTrack.nxmAddSeg(\"CONTENT=INDEX\"); \\n    nxmTrack.nxmAddSeg(\"ISSUEID=\"); \\n    nxmTrack.nxmAddSeg(\"CID=\");    \\n    nxmTrack.nxmAddSeg(\"CAT=new\");     \\n    nxmTrack.nxmAddSeg(\"NEWS=REALTIME\"); \\n    nxmTrack.nxmAddSeg(\"PLATFORM=WEB\"); \\n    nxmTrack.nxmAddSeg(\"EDM=MOST\");\\n    nxmTrack.nxmAddSeg(\"AUTH=\");\\n    nxmTrack.nxmAddSeg(\"KY=\");\\n    nxmTrack.nxmAddSeg(\"ACTION=PAGEVIEW\");\\n    nxmTrack.nxmAddSeg(\"L=\"+document.gtLang().toUpperCase());\\n        var ngs_id = nxmTrack.readCookie(\\'ngs_id\\');\\n    if (ngs_id == null) ngs_id = \\'\\';\\n    nxmTrack.nxmAddSeg(\\'NGSID=\\' + ngs_id);\\n\\n    $(document).ready(function() {\\n        nxmTrack.nxmSendPageDepth(0, new Date().getTime());\\n\\n        //Scroll up/down tracking depth\\n        var trackRecords = [];\\n        $(window).scroll(function() {\\n            var scrollPercent = getPageScrollPercent();\\n            if (scrollPercent >= 25 && trackRecords.indexOf(\"25\") == -1) {\\n                trackRecords.push(\"25\");\\n                nxmTrack.nxmSendPageDepth(25, new Date().getTime());\\n            } else if (scrollPercent >= 50 && trackRecords.indexOf(\"50\") == -1) {\\n                trackRecords.push(\"50\");\\n                nxmTrack.nxmSendPageDepth(50, new Date().getTime());\\n            } else if (scrollPercent >= 75 && trackRecords.indexOf(\"75\") == -1) {\\n                trackRecords.push(\"75\");\\n                nxmTrack.nxmSendPageDepth(75, new Date().getTime());\\n            } else if (scrollPercent == 100 && trackRecords.indexOf(\"100\") == -1) {\\n                trackRecords.push(\"100\");\\n                nxmTrack.nxmSendPageDepth(100, new Date().getTime());\\n            }\\n        });\\n        function getPageScrollPercent() {\\n            var bottom = $(window).height() + $(window).scrollTop();\\n            var height = $(document).height();\\n            return Math.round(100 * bottom / height);\\n        }\\n    });\\n     \\n</script>\\n\\n<style>\\n    #door {position:relative; width:970px; margin-top:45px;}\\n    #door-left{position:absolute;right: 975px;}\\n    #door-right{position:absolute;left: 975px;}\\n    #ypv {float:right;margin:-81px 135px 0px 0px;}\\n    #ypv a {color:#055b94}\\n    .nypv {background: url(\\'http://twimg.edgesuite.net/appledaily/images/core/iconset.png\\') 0px -41px no-repeat;display: inline-block;color: #055b94;width:14px;height:12px;}\\n    #corpnav a {padding: 0 8px 0 8px;}\\n    a.mc {left:843px;}\\n    #corpgs a {top: 9px;}\\n    .nxlik .nh {left: 805px;top: 18px;}\\n    #corpgs .fund {background-image:url(\\'http://twimg.edgesuite.net/appledaily/images/core/foundation_top.png\\');width:65px;height:14px;margin-left:712px;margin-top:18px;}\\n    #worldwide {top: 26px;right: 0px;} \\n    .translate {    position: absolute;top: 10px;right: 270px;}\\n    .translate.twn {display:none}\\n</style>\\n<header id=\"globehead\">\\n    <div class=\"sqzer\">\\n        <hgroup>\\n          <h2 class=\"nlogo\"><a href=\"http://www.nextdigital.com.hk/investor/\" class=\"nextmedia overcooked\">This is a part of NextMedia</a></h2>\\n          <h1 class=\"rlogo\"><a href=\"/realtimenews\" class=\"overcooked\">\\u860b\\u679c\\u65e5\\u5831 | APPLE DAILY</a></h1>\\n          <!--locate start-->\\t\\t\\t\\n            <style>\\n            .locate {width: 122px;position:absolute;top: 10px;left: 455px;}\\n            .locate a {color:black;display:block;position:absolute;top:5px;left: 30px;font-size: 13px;z-index:1}\\n            .locate select {opacity:0;position:absolute;width: 90px;top:5px;left: 25px;z-index:1}\\n            .locate:after {content:url(http://twimg.edgesuite.net/appledaily/images/pclicon.png);width:115px;height:22px;position:absolute;top:0px;    border-left: 1px solid #d5d5d5;border-top: 1px solid #9b9b9b;border-bottom: 1px solid #e8e8e8;border-right: 1px solid #d5d5d5;}\\n            </style>\\n            <div class=\"locate\" id=\"USlocate\" style=\"display:none\">\\n            <a href=\"\">\\u5207\\u63db\\u5730\\u5340</a>\\n            <form>\\n                <select data-role=\"none\" id=\"select-category\" onchange=\"chgUSCat(this.value)\">\\n                    <option value=\"0\">\\u5207\\u63db\\u5730\\u5340</option>\\n                    <option value=\"ny\">\\u7d10\\u7d04</option>\\n                    <option value=\"la\">\\u6d1b\\u6749\\u78ef</option>\\n                    <option value=\"sf\">\\u820a\\u91d1\\u5c71</option>\\n                    <option value=\"us\">\\u5176\\u4ed6\\u7f8e\\u570b\\u5730\\u5340</option>\\n                </select>\\n            </form>\\n            </div>\\n         <!--locate end--> \\n        </hgroup>\\n        <nav id=\"corpnav\">         \\n          <a href=\"/\" class=\"opacity \" target=\"_blank\"><img src=\"http://twimg.edgesuite.net/appledaily/images/core/menu_AppleDaily.png\" alt=\" \\u860b\\u679c\\u65e5\\u5831\" /></a>\\t\\n          <a href=\"/actionnews\" class=\"opacity\" target=\"_blank\"><img src=\"http://twimg.edgesuite.net/appledaily/images/core/menu_AnimatedNews.png\" alt=\" \\u52d5\\u65b0\\u805e\" /></a>\\n          <a href=\"http://www.applelive.com.tw/livechannel/\" class=\"opacity\" target=\"_blank\"><img src=\"http://twimg.edgesuite.net/appledaily/images/core/applelive.gif\" alt=\" \\u860b\\u679cLive\" /></a>\\n          <a href=\"http://apple360.appledaily.com.tw/\" class=\"opacity\" target=\"_blank\"><img src=\"http://twimg.edgesuite.net/appledaily/images/core/360logo.png\" alt=\" \\u860b\\u679c360\" width=\"83\" height=\"30\"/></a>\\n          <a href=\"http://sharpdaily.tw/\" class=\"opacity\" target=\"_blank\"><img src=\"http://twimg.edgesuite.net/appledaily/images/core/menu_SharpDaily.png\" alt=\"\\u723d\\u5831\" /></a>\\n          <a href=\"http://www.nextmag.com.tw\" class=\"opacity\" target=\"_blank\"><img src=\"http://twimg.edgesuite.net/appledaily/images/core/menu_NextMag.png\" alt=\"\\u58f9\\u9031\\u520a\" /></a>\\n          <a href=\"http://www.eat-travel.com.tw/\" class=\"opacity\" target=\"_blank\"><img src=\"http://twimg.edgesuite.net/appledaily/images/core/menu_eatintravel.png\" alt=\"\\u98f2\\u98df\\u7537\\u5973\" /></a>\\n          <a href=\"http://www.tomonews.com/\" class=\"opacity\" target=\"_blank\"><img src=\"http://twimg.edgesuite.net/appledaily/images/core/menu_tomonews_s.png\" alt=\"Tomonews\"/></a>      \\n          <a href=\"https://www.youtube.com/user/twappledaily/\" class=\"opacity\" target=\"_blank\"><img src=\"http://twimg.edgesuite.net/appledaily/images/core/menu_youtube.png\" alt=\"youtube\" /></a>          \\n\\t  <a href=\"/teded\" class=\"opacity last\" target=\"_blank\"><img src=\"http://twimg.edgesuite.net/appledaily/images/core/ted.png\" alt=\"Ted\" /></a>\\n        </nav>      \\n \\n        <!--language start-->\\n        <div class=\"translate\" id=\"googletranslate\" style=\"display:none\">\\n            <div id=\"google_translate_element\"></div>\\n            <script type=\"text/javascript\">\\n            function googleTranslateElementInit() {\\n              new google.translate.TranslateElement({pageLanguage: \\'zh-TW\\', includedLanguages: \\'zh-CN,zh-TW\\', layout: google.translate.TranslateElement.InlineLayout.SIMPLE}, \\'google_translate_element\\');\\n            }\\n            </script>\\n            <script type=\"text/javascript\" src=\"//translate.google.com/translate_a/element.js?cb=googleTranslateElementInit\"></script>\\n        </div>\\n        <!--language end-->\\t  \\n                <section id=\"worldwide\">\\n            <a href=\"http://www.twnextdigital.com/\" class=\"tw on\">\\u53f0\\u7063&nbsp;</a>\\n            <a href=\"http://www.nextdigital.com.hk/\" class=\"hk\">\\u9999\\u6e2f&nbsp;</a>\\n        </section>\\n                <section id=\"ypv\">\\n            <a href=\"http://www.nextdigital.com.hk/investor/\" target=\"_blank\"><span class=\"nypv\"></span><span>\\u6628\\u65e5\\u700f\\u89bd\\u91cf&nbsp;:&nbsp;</span><span id=\"pv\">21688759</span></a>\\n        </section>\\n        <div style=\"clear:both\"></div>\\n        <section id=\"corpgs\">\\n            <a href=\"/ethics/index.html\" class=\"mc\" target=\"_blank\">\\u860b\\u679c\\u65e5\\u5831\\u81ea\\u5f8b\\u59d4\\u54e1\\u6703</a>\\n            <a class=\"fund\" href=\"/charity\" target=\"_blank\"></a>\\n            <a href=\"http://www.nextdigital.com.hk/investor/\" class=\"nxlik\" target=\"_blank\"><span class=\"nh overcooked\">Nextmedia</span></a>\\n        </section>\\n                    <section id=\"door\">\\n                <div id=\"door-left\"><script type=\\'text/javascript\\'>googletag.cmd.push(function() {googletag.display(\\'door-left\\');})</script></div>\\n                <div id=\"door-right\"><script type=\\'text/javascript\\'>googletag.cmd.push(function() {googletag.display(\\'door-right\\');})</script></div>\\n            </section>\\n            </div>\\n</header>\\n<style>\\n    .navlv2 {width: 80.8px;border-top:1px solid #797979;}\\n    .rsearch {width: 241.8px;border-right:0px;border-top:1px solid #797979;}\\n    #newnav .boomed a,#newnav .boom a:hover {background-color:#EC7F27;color: #FFFFFF;}\\n    #newnav .new a:hover,#newnav .newed a {background:#D50404}\\n    .rsbox {width:205px;}\\n    #newnav .usa a:hover,#newnav .usaed a {background-color: #ff0f0f;}\\n    #newnav .usacity a:hover,#newnav .usacityed a {background-color: #2113bf;}\\n    .usacity,.usacityed,.usa,.usaed {display:none}\\n    #newnav .show {display:block;}\\n    li.usacityed.show ~ li.usa.show ~ li.rsearch {width:79.8px}\\n    li.usacityed.show ~ li.usa.show ~ li.rsearch .rsbox {width:43px}\\n    li.usacity.show ~ li.usaed.show ~ li.rsearch {width:79.8px}\\n    li.usacity.show ~ li.usaed.show ~ li.rsearch .rsbox {width:43px}            \\n    li.usacity ~ li.usaed.show ~ li.rsearch {width:160.8px}\\n    li.usacity ~ li.usaed.show ~ li.rsearch .rsbox {width:124px}\\n    li.usacity ~ li.usa.show ~ li.rsearch {width:160.8px}\\n    li.usacity ~ li.usa.show ~ li.rsearch .rsbox {width:124px}\\n    li.usacity.show ~ li.usa.show ~ li.rsearch {width:79.8px}\\n    li.usacity.show ~ li.usa.show ~ li.rsearch .rsbox {width:43px} \\n    .rtddt time font font {margin-right: -20px;}\\n    .rtddt.sp_ad font font {margin-right: 0px;}\\n    .rtddt h2 font {margin-right: 0px;display: inline-block;padding-bottom: 1px;}      \\n    .rtddt h1 font {display: inline-block;margin-right:0px;}\\n</style>\\n<nav id=\"realnav\" >\\n    <div id=\"newnav\">\\n        <ul>\\n            <li id=\"ny\" class=\"usacity navlv2\"><a title=\"\\u7d10\\u7d04\" href=\"/realtimenews/section/ny/\">\\u7d10\\u7d04</a></li>\\n            <li id=\"sf\" class=\"usacity navlv2\"><a title=\"\\u820a\\u91d1\\u5c71\" href=\"/realtimenews/section/sf/\">\\u820a\\u91d1\\u5c71</a></li>\\n            <li id=\"la\" class=\"usacity navlv2\"><a title=\"\\u6d1b\\u6749\\u78ef\" href=\"/realtimenews/section/la/\">\\u6d1b\\u6749\\u78ef</a></li>\\n            <li id=\"us\" class=\"usa navlv2\"><a title=\"\\u7f8e\\u570b\" href=\"/realtimenews/section/us/\">\\u7f8e\\u570b</a></li>\\n            <li class=\"newed navlv2\"><a title=\"\\u6700\\u65b0\" href=\"/realtimenews/section/new/\">\\u6700\\u65b0</a></li>\\n            <li class=\"recommend navlv2\"><a title=\"\\u7126\\u9ede\" href=\"/realtimenews/section/recommend/\">\\u7126\\u9ede</a></li>\\n            <li class=\"hot navlv2\"><a title=\"\\u71b1\\u9580\" href=\"/realtimenews/section/hot/\">\\u71b1\\u9580</a></li>\\n            <li class=\"boom navlv2\"><a title=\"\\u7206\\u793e\" href=\"http://www.appledaily.com.tw/complainevent\" target=\"_blank\">\\u7206\\u793e</a></li>\\n            <li class=\"zoo navlv2\"><a title=\"\\u52d5\\u7269\" href=\"/realtimenews/section/animal/\">\\u52d5\\u7269</a></li>\\n            <li class=\"rsea navlv2\"><a title=\"\\u526f\\u520a\" href=\"/realtimenews/section/strange/\">\\u526f\\u520a</a></li>\\n            <li class=\"ccc navlv2\"><a title=\"3C\" href=\"/realtimenews/section/3c/\">3C</a></li>            \\n            <li class=\"video navlv2\"><a title=\"\\u5f71\\u7247\" href=\"/realtimenews/section/video/\">\\u5f71\\u7247</a></li>\\n            <li class=\"hotg navlv2\"><a title=\"\\u706b\\u7dda\" href=\"http://www.appledaily.com.tw/column/index\">\\u706b\\u7dda</a></li>\\n            <li class=\"sport navlv2\"><a title=\"\\u9ad4\\u80b2\" href=\"/realtimenews/section/sports/\">\\u9ad4\\u80b2</a></li>\\n            <li class=\"fun navlv2\"><a title=\"\\u58f9\\u9031\\u520a\" href=\"/realtimenews/section/nextmag/\">\\u58f9\\u9031\\u520a</a></li>\\n            <li class=\"forum navlv2\"><a title=\"\\u5a92\\u9663\" href=\"/realtimenews/forum/istyle/new/#collaboration\">\\u5a92\\u9663</a></li>\\n            <li class=\"enter navlv2\"><a title=\"\\u5a1b\\u6a02\" href=\"/realtimenews/section/entertainment/\">\\u5a1b\\u6a02</a></li>            \\n            <li class=\"fashion navlv2\"><a title=\"\\u6642\\u5c1a\" href=\"/realtimenews/section/fashion/\">\\u6642\\u5c1a</a></li>\\n            <li class=\"life navlv2\"><a title=\"\\u751f\\u6d3b\" href=\"/realtimenews/section/life/\">\\u751f\\u6d3b</a></li>\\n            <li class=\"soci navlv2\"><a title=\"\\u793e\\u6703\" href=\"/realtimenews/section/local/\">\\u793e\\u6703</a></li>\\n            <li class=\"inter navlv2\"><a title=\"\\u570b\\u969b\" href=\"/realtimenews/section/international/\">\\u570b\\u969b</a></li>\\n            <li class=\"business navlv2\"><a title=\"\\u8ca1\\u7d93\" href=\"/realtimenews/section/finance/\">\\u8ca1\\u7d93</a></li>\\n            <li class=\"house navlv2\"><a title=\"\\u5730\\u7522\" href=\"/realtimenews/section/property/\">\\u5730\\u7522</a></li>\\n            <li class=\"polit navlv2\"><a title=\"\\u653f\\u6cbb\" href=\"/realtimenews/section/politics/\">\\u653f\\u6cbb</a></li>\\n            <li class=\"blog navlv2\"><a title=\"\\u8ad6\\u58c7\" href=\"/realtimenews/section/forum/\">\\u8ad6\\u58c7</a></li>            \\n            <li class=\"rsearch\">\\n                <form name=\"searchform\" id=\"searchform\" action=\"http://search.appledaily.com.tw/appledaily/search\" method=\"POST\">\\n                  <input type=\"hidden\" name=\"searchType\" value=\"text\">\\n                  <input type=\"hidden\" name=\"searchMode\" value=\"Sim\">\\n                  <input type=\"text\" name=\"querystrS\" id=\"search\" class=\"rsbox\" />\\n                  <input type=\"submit\" value=\"\" class=\"rsbtn\" />\\n                </form>\\n            </li>\\n            <div style=\"clear:both\"></div>\\n        </ul>\\n    </div>\\n</nav>\\n<script>\\n    if (GeoDFP[\\'CC\\'] == \\'US\\') {\\n        switch(GeoDFP[\\'D\\']) {\\n            case \\'803\\' :\\n                $(\\'#la\\').addClass(\"show\");\\n                break;\\n            case \\'807\\' :\\n                $(\\'#sf\\').addClass(\"show\");\\n                break;\\n            case \\'501\\' :\\n                $(\\'#ny\\').addClass(\"show\");\\n                break;\\n        }\\n        $(\\'#us\\').addClass(\"show\");\\n        $(\\'#USlocate\\').show();  \\n        $(\\'#googletranslate\\').show();    \\n    }\\n    function chgUSCat(strzone){    \\n          if (strzone!=\\'0\\') {\\n              var GeoUSDFP = {};\\n              GeoJson = JSON.parse($.cookie(\\'GeoDFP\\'));\\n              if(GeoJson){\\n                GeoUSDFP[\\'CC\\'] = GeoJson[\\'DFP\\'][\\'CC\\'];\\n                GeoUSDFP[\\'S\\'] = GeoJson[\\'DFP\\'][\\'S\\'];                           \\n                switch(strzone) {\\n                    case \\'la\\' :\\n                        GeoUSDFP[\\'D\\'] = \\'803\\';\\n                        break;\\n                    case \\'sf\\' :\\n                        GeoUSDFP[\\'D\\'] = \\'807\\';\\n                        break;\\n                    case \\'ny\\' :    \\n                        GeoUSDFP[\\'D\\'] = \\'501\\';\\n                        break;\\n                }                         \\n\\n                $.cookie(\\'GeoDFP\\', JSON.stringify({\"DFP\":GeoUSDFP}),{expires: 7, path: \\'/\\' });\\t\\t\\t\\t\\t\\t\\t                                \\n                location.href = \"/realtimenews/section/\"+strzone;\\n              }\\n          }                                       \\n    }\\n</script>            \\n            <div class=\"soil\">\\n              <section id=\"leaderboard\" class=\"ads\"><script type=\\'text/javascript\\'>googletag.cmd.push(function() {googletag.display(\\'leaderboard\\');})</script></section>\\n              <article id=\"maincontent\" class=\"vertebrae\">\\n                  <style>#hotnewsbox{ background:url(\"http://twimg.edgesuite.net/appledaily/images/yellow_news.gif\") no-repeat; height:36px; padding:14px 0 0 134px}</style>                    <script type=\"text/javascript\" src=\"http://twimg.edgesuite.net/appledaily/images/js/jquery.textslider.min.js\"></script>\\n                    <style>\\n                        .slideText { position: relative; overflow: hidden; height: 32px; }\\n                        .slideText ul, .slideText li {margin: 0;padding: 0;list-style: none;}\\n                        .slideText ul {position: absolute;}\\n                        .slideText li a {font-size:20px;color:#000000;display: block;overflow: hidden;height: 30px;line-height: 25px;text-decoration: none;}\\n                        .slideText li a:hover {text-decoration: underline;}\\n                        #hotnewsbox2 {background: url(\"http://twimg.edgesuite.net/appledaily/images/red_recommend.gif\") no-repeat;height: 36px;padding: 14px 0 0 195px;}\\n                    </style>\\n                    <script type=\"text/javascript\">\\n                      $(document).ready(function(){\\n                          $(\\'.slideText\\').textslider({\\n                              direction : \\'scrollUp\\',\\n                              scrollNum : 1,\\n                              scrollSpeed : 800,\\n                              pause : 3200\\n                          });\\n                      });\\n                    </script>\\n                    <div id=\"hotnewsbox\">\\n                        <div class=\"slideText\">\\n                            <ul>\\n                                <li><a href=\"/realtimenews/article/international/20160826/936123/\" #> \\u3010\\u52d5\\u756b\\u6668\\u5831\\u3011\\u6230\\u706b\\u53c8\\u6dfb\\u51a4\\u9b42\\u3000 \\u963f\\u52d2\\u576111\\u7ae5\\u906d\\u6876\\u88dd\\u70b8\\u5f48\\u596a\\u547d</a></li><li><a href=\"/realtimenews/article/life/20160826/936082/\" #>\\u3010\\u4f60\\u7206\\u52d5\\u756b\\u5831\\u3011\\u611b\\u72ac\\u906d\\u516c\\u6240\\u8aa4\\u6293\\u3000\\u7576\\u5929\\u7adf\\u5df2\\u706b\\u5316</a></li>                            </ul>\\n                        </div>\\n                    </div>\\n                  \\n                  <div class=\"thoracis\">\\n                    <style>\\n                          /* firewire */\\n                          .firewire-container {width: 650px; height: 100px; overflow: hidden; margin-bottom: 10px;}\\n                          #firewire .item {width: 650px;  height: 100px;  background: #dddddd url(http://twimg.edgesuite.net/appledaily/images/js/owlcarousel/ajax-loader.gif) center center no-repeat;}\\n                          #firewire .item a {width: 100%; height: 100%;  display: block;}\\n                          #firewire .item img {display: block; border: none;}\\n                          /* override */\\n                          #splash { margin-bottom: 10px;}\\n                        .hotkeynews {background-color:#e0e0e0}\\n                        .hotkeynews time {color:#ff534f}\\n                        .hotkeynews li {background-color:white;margin-bottom:2px;}\\n                        .topheaddr {background:#cc0000;height:40px;position:relative;margin-top:-15px}\\n                        .topheadrr {width:134px;height:40px;background:#ff1a14;float:left;}\\n                        .topheadrr h1 {display:block;font-size:16px;color:white;padding:12px 0px 0px 19px;}\\n                        .topheaddr time {float:right;color:white;padding:13px 19px 0px 0px;}\\n                        .botlinerr {background:#cc0000;height:5px}\\n                        .botlinedr {width:134px;height:5px;background:#ff1a14}\\n                        .dddd {margin: 0.65em 0 0.65em;}\\n                    </style>\\n                    <section id=\"splash\">\\n                        <div id=\"carousel\">\\n                                                            <div class=\"item\">\\n                                    <a href=\"/realtimenews/article/local/20160826/936125/\" target=\"_blank\">\\n                                      <img  class=\"owl-lazy\" src=\"data:image/gif;base64,R0lGODlhAQABAIAAAAAAAP///yH5BAEAAAAALAAAAAABAAEAAAIBRAA7\" data-src=\"http://twimg.edgesuite.net/images/thumbnail/other/1a0b2a537d527faaf11b777e1c30be62.jpg\" alt=\"\\u8b1d\\u3001\\u838a\\u914d\\u7d10\\u54c8\\u82ac\\u5c0d\\u6c7a\\u3000\\u838a\\u4f73\\u5bb9\\u4e09\\u76e4\\u52dd\\u8b49\\u660e\\u81ea\\u5df1\" tcode=\"\\u8b1d\\u3001\\u838a\\u914d\\u7d10\\u54c8\\u82ac\\u5c0d\\u6c7a\\u3000\\u838a\\u4f73\\u5bb9\\u4e09\\u76e4\\u52dd\\u8b49\\u660e\\u81ea\\u5df1\"/>\\n                                                                          </a>\\n                                </div>\\n                                                            <div class=\"item\">\\n                                    <a href=\"/realtimenews/article/strange/20160826/935983\" target=\"_blank\">\\n                                      <img  class=\"owl-lazy\" src=\"data:image/gif;base64,R0lGODlhAQABAIAAAAAAAP///yH5BAEAAAAALAAAAAABAAEAAAIBRAA7\" data-src=\"http://twimg.edgesuite.net/images/thumbnail/other/2f309e9a6b34e8c31aad094762eb715a.jpg\" alt=\"\\u300a\\u6211\\u611b\\u7d05\\u5a18\\u300b\\u914d\\u5c0d\\u4f73\\u5076\\u300030\\u5e74\\u5f8c\\u8b8a\\u9019\\u6a23\" tcode=\"\\u300a\\u6211\\u611b\\u7d05\\u5a18\\u300b\\u914d\\u5c0d\\u4f73\\u5076\\u300030\\u5e74\\u5f8c\\u8b8a\\u9019\\u6a23\"/>\\n                                                                          </a>\\n                                </div>\\n                                                            <div class=\"item\">\\n                                    <a href=\"/realtimenews/article/life/20160826/936082\" target=\"_blank\">\\n                                      <img  class=\"owl-lazy\" src=\"data:image/gif;base64,R0lGODlhAQABAIAAAAAAAP///yH5BAEAAAAALAAAAAABAAEAAAIBRAA7\" data-src=\"http://twimg.edgesuite.net/images/thumbnail/other/79d146354231ff1c21ca947b1d843b62.jpg\" alt=\"\" tcode=\"\"/>\\n                                                                          </a>\\n                                </div>\\n                                                            <div class=\"item\">\\n                                    <a href=\"/realtimenews/article/life/20160826/936148/\" target=\"_blank\">\\n                                      <img  class=\"owl-lazy\" src=\"data:image/gif;base64,R0lGODlhAQABAIAAAAAAAP///yH5BAEAAAAALAAAAAABAAEAAAIBRAA7\" data-src=\"http://twimg.edgesuite.net/images/thumbnail/other/623e82454d77d831674d8b13dc41f44a.jpg\" alt=\"\" tcode=\"\"/>\\n                                                                          </a>\\n                                </div>\\n                                                            <div class=\"item\">\\n                                    <a href=\"/realtimenews/article/local/20160826/935988\" target=\"_blank\">\\n                                      <img  class=\"owl-lazy\" src=\"data:image/gif;base64,R0lGODlhAQABAIAAAAAAAP///yH5BAEAAAAALAAAAAABAAEAAAIBRAA7\" data-src=\"http://twimg.edgesuite.net/images/thumbnail/other/11ca82d62a120d3c472dc82ef4daef29.jpg\" alt=\"\\u8ffd\\u4e0d\\u5230\\u4eba\\u59bb\\u7adf\\u704c\\u9189\\u6027\\u4fb5\\u3000\\u6e23\\u7537\\u7adf\\u8faf\\u4f60\\u60c5\\u6211\\u9858\" tcode=\"\\u8ffd\\u4e0d\\u5230\\u4eba\\u59bb\\u7adf\\u704c\\u9189\\u6027\\u4fb5\\u3000\\u6e23\\u7537\\u7adf\\u8faf\\u4f60\\u60c5\\u6211\\u9858\"/>\\n                                                                          </a>\\n                                </div>\\n                                                            <div class=\"item\">\\n                                    <a href=\"/realtimenews/article/politics/20160826/936147\" target=\"_blank\">\\n                                      <img  class=\"owl-lazy\" src=\"data:image/gif;base64,R0lGODlhAQABAIAAAAAAAP///yH5BAEAAAAALAAAAAABAAEAAAIBRAA7\" data-src=\"http://twimg.edgesuite.net/images/thumbnail/other/6de46672a13bb04a768070b9439445f4.jpg\" alt=\"\" tcode=\"\"/>\\n                                                                          </a>\\n                                </div>\\n                                                            <div class=\"item\">\\n                                    <a href=\"/realtimenews/article/international/20160826/936035\" target=\"_blank\">\\n                                      <img  class=\"owl-lazy\" src=\"data:image/gif;base64,R0lGODlhAQABAIAAAAAAAP///yH5BAEAAAAALAAAAAABAAEAAAIBRAA7\" data-src=\"http://twimg.edgesuite.net/images/thumbnail/other/06b0e35910d2f08039c0a9e4bede55f6.jpg\" alt=\"\\u88f8\\u6cf3\\u7537\\u88ab\\u9b5a\\u9264\\u52fe\\u5230\\u9f9c\\u982d\\u3000\\u5927\\u53eb\\u300c\\u5225\\u62c9\\u5225\\u62c9\\u300d\" tcode=\"\\u88f8\\u6cf3\\u7537\\u88ab\\u9b5a\\u9264\\u52fe\\u5230\\u9f9c\\u982d\\u3000\\u5927\\u53eb\\u300c\\u5225\\u62c9\\u5225\\u62c9\\u300d\"/>\\n                                                                          </a>\\n                                </div>\\n                                                            <div class=\"item\">\\n                                    <a href=\"/realtimenews/article/life/20160826/935947\" target=\"_blank\">\\n                                      <img  class=\"owl-lazy\" src=\"data:image/gif;base64,R0lGODlhAQABAIAAAAAAAP///yH5BAEAAAAALAAAAAABAAEAAAIBRAA7\" data-src=\"http://twimg.edgesuite.net/images/thumbnail/other/5b852f1a0cadf6fa501e4ef3fbc16918.jpg\" alt=\"\\u3010\\u52d5\\u756b\\u7368\\u5bb6\\u3011\\u4e00\\u9846\\u91cb\\u8fe6\\u3000\\u52fe\\u8d77\\u912d\\u660e\\u5178\\u5c0d\\u5abd\\u5abd\\u7684\\u601d\\u5ff5\" tcode=\"\\u3010\\u52d5\\u756b\\u7368\\u5bb6\\u3011\\u4e00\\u9846\\u91cb\\u8fe6\\u3000\\u52fe\\u8d77\\u912d\\u660e\\u5178\\u5c0d\\u5abd\\u5abd\\u7684\\u601d\\u5ff5\"/>\\n                                                                          </a>\\n                                </div>\\n                                                            <div class=\"item\">\\n                                    <a href=\"/realtimenews/article/strange/20160826/935884\" target=\"_blank\">\\n                                      <img  class=\"owl-lazy\" src=\"data:image/gif;base64,R0lGODlhAQABAIAAAAAAAP///yH5BAEAAAAALAAAAAABAAEAAAIBRAA7\" data-src=\"http://twimg.edgesuite.net/images/thumbnail/other/faf242b82c2739817bf9270fc84f25f3.jpg\" alt=\"\\u4e0d\\u6015\\u88ab\\u4eba\\u7b11\\u3000\\u633d\\u81c9\\u754c\\u5c0f\\u751f\\u64fa\\u812b22K\" tcode=\"\\u4e0d\\u6015\\u88ab\\u4eba\\u7b11\\u3000\\u633d\\u81c9\\u754c\\u5c0f\\u751f\\u64fa\\u812b22K\"/>\\n                                                                          </a>\\n                                </div>\\n                                                            <div class=\"item\">\\n                                    <a href=\"/realtimenews/article/entertainment/20160826/935968\" target=\"_blank\">\\n                                      <img  class=\"owl-lazy\" src=\"data:image/gif;base64,R0lGODlhAQABAIAAAAAAAP///yH5BAEAAAAALAAAAAABAAEAAAIBRAA7\" data-src=\"http://twimg.edgesuite.net/images/thumbnail/other/d41ae33b21e73e1f4e7b1234232819cf.jpg\" alt=\"\\u3010\\u52d5\\u756b\\u91cd\\u5efa\\u3011Fanny\\u5f37\\u570b\\u958b\\u623f\\u3000\\u88ab\\u505a\\u4e86\\u4ec0\\u9ebc\\uff1f\" tcode=\"\\u3010\\u52d5\\u756b\\u91cd\\u5efa\\u3011Fanny\\u5f37\\u570b\\u958b\\u623f\\u3000\\u88ab\\u505a\\u4e86\\u4ec0\\u9ebc\\uff1f\"/>\\n                                                                          </a>\\n                                </div>\\n                                                            <div class=\"item\">\\n                                    <a href=\"/realtimenews/article/entertainment/20160826/935855\" target=\"_blank\">\\n                                      <img  class=\"owl-lazy\" src=\"data:image/gif;base64,R0lGODlhAQABAIAAAAAAAP///yH5BAEAAAAALAAAAAABAAEAAAIBRAA7\" data-src=\"http://twimg.edgesuite.net/images/thumbnail/other/641e6d04cf538b6d54deee8099e0e0ff.jpg\" alt=\"\\u3010\\u72d7\\u4ed4\\u5077\\u62cd\\u3011\\u694a\\u7d2b\\u74ca\\u9910\\u6558\\u738b\\u592a\\u3000\\u4fe0\\u5973\\u4e0d\\u9189\\u9084\\u9001\\u557e\\u54aa\" tcode=\"\\u3010\\u72d7\\u4ed4\\u5077\\u62cd\\u3011\\u694a\\u7d2b\\u74ca\\u9910\\u6558\\u738b\\u592a\\u3000\\u4fe0\\u5973\\u4e0d\\u9189\\u9084\\u9001\\u557e\\u54aa\"/>\\n                                                                          </a>\\n                                </div>\\n                                                            <div class=\"item\">\\n                                    <a href=\"/realtimenews/article/strange/20160826/935877\" target=\"_blank\">\\n                                      <img  class=\"owl-lazy\" src=\"data:image/gif;base64,R0lGODlhAQABAIAAAAAAAP///yH5BAEAAAAALAAAAAABAAEAAAIBRAA7\" data-src=\"http://twimg.edgesuite.net/images/thumbnail/other/09aa8f7c3897dab39dbaea5ec3d6c1bf.jpg\" alt=\"\\u3010\\u52d5\\u756b\\u5fc3\\u7406\\u5b78\\u3011\\u96e3\\u602a\\u5206\\u624b\\uff01\\u56e0\\u70ba\\u4f60\\u5011\\u5006\\u5750\\u932f\\u4f4d\\u5b50\" tcode=\"\\u3010\\u52d5\\u756b\\u5fc3\\u7406\\u5b78\\u3011\\u96e3\\u602a\\u5206\\u624b\\uff01\\u56e0\\u70ba\\u4f60\\u5011\\u5006\\u5750\\u932f\\u4f4d\\u5b50\"/>\\n                                                                          </a>\\n                                </div>\\n                                                            <div class=\"item\">\\n                                    <a href=\"/realtimenews/article/life/20160826/935838\" target=\"_blank\">\\n                                      <img  class=\"owl-lazy\" src=\"data:image/gif;base64,R0lGODlhAQABAIAAAAAAAP///yH5BAEAAAAALAAAAAABAAEAAAIBRAA7\" data-src=\"http://twimg.edgesuite.net/images/thumbnail/other/d98334698d68d7f5cccf05f611eb92fd.jpg\" alt=\"\\u8a55\\u65b0\\u653f\\u5e9c\\u767e\\u65e5\\u52de\\u52d5\\u653f\\u7b56\\u3000\\u5b78\\u8005\\uff1a\\u75b2\\u65bc\\u6ec5\\u706b\" tcode=\"\\u8a55\\u65b0\\u653f\\u5e9c\\u767e\\u65e5\\u52de\\u52d5\\u653f\\u7b56\\u3000\\u5b78\\u8005\\uff1a\\u75b2\\u65bc\\u6ec5\\u706b\"/>\\n                                                                          </a>\\n                                </div>\\n                                                            <div class=\"item\">\\n                                    <a href=\"/realtimenews/article/finance/20160826/936041\" target=\"_blank\">\\n                                      <img  class=\"owl-lazy\" src=\"data:image/gif;base64,R0lGODlhAQABAIAAAAAAAP///yH5BAEAAAAALAAAAAABAAEAAAIBRAA7\" data-src=\"http://twimg.edgesuite.net/images/thumbnail/other/63f23dc824f68aa993b0417b8dccfe4b.jpg\" alt=\"\\u3010\\u540d\\u5bb6\\u89c0\\u9ede\\u3011\\u4e09\\u7acb\\u7d55\\u975e\\u6700\\u5f8c1\\u5bb6\\u3000\\u300c\\u50b3\\u7d71\\u5a92\\u9ad4\\u5c07\\u8840\\u6d41\\u6210\\u6cb3\\u300d\" tcode=\"\\u3010\\u540d\\u5bb6\\u89c0\\u9ede\\u3011\\u4e09\\u7acb\\u7d55\\u975e\\u6700\\u5f8c1\\u5bb6\\u3000\\u300c\\u50b3\\u7d71\\u5a92\\u9ad4\\u5c07\\u8840\\u6d41\\u6210\\u6cb3\\u300d\"/>\\n                                                                          </a>\\n                                </div>\\n                                                            <div class=\"item\">\\n                                    <a href=\"/realtimenews/article/life/20160826/935859\" target=\"_blank\">\\n                                      <img  class=\"owl-lazy\" src=\"data:image/gif;base64,R0lGODlhAQABAIAAAAAAAP///yH5BAEAAAAALAAAAAABAAEAAAIBRAA7\" data-src=\"http://twimg.edgesuite.net/images/thumbnail/other/b45330a8e1587562c61339b29f9c2051.gif\" alt=\"\\u3010\\u5716\\u89e3\\u65b0\\u805e\\u3011\\u5967\\u904b\\u843d\\u5e55\\u30001\\u5206\\u9418\\u641e\\u61c2\\u7981\\u85e5\\u4e4b\\u5bc6\" tcode=\"\\u3010\\u5716\\u89e3\\u65b0\\u805e\\u3011\\u5967\\u904b\\u843d\\u5e55\\u30001\\u5206\\u9418\\u641e\\u61c2\\u7981\\u85e5\\u4e4b\\u5bc6\"/>\\n                                                                          </a>\\n                                </div>\\n                                                    </div>\\n                        <div class=\"xPrev\">\\u4e0a\\u4e00\\u5247</div>\\n                        <div class=\"xNext\">\\u4e0b\\u4e00\\u5247</div>\\n                    </section>\\n                    <!--\\u5341\\u6708\\u570d\\u57ce-->                    \\n                    <script type=\"text/javascript\" src=\"http://twimg.edgesuite.net/property/js/jquery.carouFredSel-6.2.1.js\"></script>\\n<style>\\n#october {width:650px;height:200px;overflow:hidden;}\\n#october .slidebox {width:650px;height:200px;}\\n#october .slidebox .pics {float:left;width:650px;height:183px;overflow:hidden;margin:10px 2px 10px 2px;}\\n#october .slidebox .pics img {max-width:650px;height:auto;}\\n</style>\\n      <div style=\"width:100%;margin-top:-10px;\"></div>\\n      <div id=\"october\">          \\n                    \\n      </div>\\t\\t\\t\\n<script type=\"text/javascript\">\\n$(document).ready(function() {\\n    $(\\'#october\\').carouFredSel({\\n        items: 1,\\n        direction: \"up\",\\n                infinite: true,\\n                circular: true,\\n        scroll: {\\n                    items: 1,\\n                    duration: 1250,\\n                    timeoutDuration: 2500,\\n                    easing: \\'swing\\',\\n                    pauseOnHover: \\'immediate\\'   \\n                },\\n    });\\n});\\n</script>\\t\\t    \\n                    <!--\\u5341\\u6708\\u570d\\u57ce-->                    \\n                    <style>\\n                        .realword {padding-top:5px;padding-bottom:30px;}\\n                        .realword .link1 a {color:red;font-size:22px;font-weight:bold;}\\n                        .realword .link1 {float:left;width:320px;text-align:center;}\\n                        .rtddd .sp_ad {padding: 0.625em 20px;}\\n                        .rtddd .sp_ad time {display: inline;font-size: 1em;margin-right: 20px;vertical-align: middle;}\\n                        .rtddd .sp_ad h2 {background-color:#049000;display: inline;font-size: 1em;margin-right: 20px;vertical-align: middle;}\\n                        .rtddd .sp_ad h1 {display: inline;}\\n                        .rtddd .sp_ad h1 a {display: inline;font-size:16px;color:black;padding-left: 0px;}\\n                        .rtddd .ccc h2 {background-color: #318597; padding:2px 14px;}\\n                    </style>\\t\\t\\t\\t\\t\\n                    <script type=\\'text/javascript\\'>googletag.cmd.push(function() {googletag.display(\\'minibar\\');})</script>\\n                    <div class=\"abdominis rlby clearmen\">                       \\n                        <h1 class=\"dddd\"><time>2016 / 08 / 26</time></h1><ul class=\"rtddd slvl\">                                <li class=\"rtddt nextmag hsv\">\\n                                    <a href=\"/realtimenews/article/nextmag/20160826/936020/\\u3010\\u58f9\\u9031\\u520a\\u3011\\u842c\\u82b1\\u7b52\\u662f\\u4ed6\\u767c\\u660e\\u7684\" target=\"_blank\">\\n                                        <time>08:45</time>\\n                                        <h2>\\u58f9\\u9031\\u520a</h2>\\n                                        <h1><font color=\"#383c40\">\\u3010\\u58f9\\u9031\\u520a\\u3011\\u842c\\u82b1\\u7b52\\u662f\\u4ed6\\u767c\\u660e\\u7684(964)</font></h1>\\n                                    </a>\\n                                </li>\\n                                                        <li class=\"rtddt inter even\">\\n                                    <a href=\"/realtimenews/article/international/20160826/936172/\\u73bb\\u5229\\u7dad\\u4e9e\\u5167\\u653f\\u526f\\u90e8\\u9577\\u3000\\u6158\\u906d\\u7f77\\u5de5\\u7926\\u5de5\\u6d3b\\u6d3b\\u8650\\u6b7b\" target=\"_blank\">\\n                                        <time>08:45</time>\\n                                        <h2>\\u570b\\u969b</h2>\\n                                        <h1><font color=\"#ff0000\">\\u73bb\\u5229\\u7dad\\u4e9e\\u5167\\u653f\\u526f\\u90e8\\u9577\\u3000\\u6158\\u906d\\u7f77\\u5de5\\u7926\\u5de5\\u6d3b\\u6d3b\\u8650\\u6b7b(103)</font></h1>\\n                                    </a>\\n                                </li>\\n                                                        <li class=\"rtddt blog\">\\n                                    <a href=\"/realtimenews/article/forum/20160826/936173/\\u6f02\\u6d6a\\u5cf6\\u5dbc\\uff1a\\u53ea\\u807d\\u4e0d\\u8b49\\u807d\\u8b49\\u6703\\uff0c\\u5047\\u7684\\uff01\" target=\"_blank\">\\n                                        <time>08:35</time>\\n                                        <h2>\\u8ad6\\u58c7</h2>\\n                                        <h1><font color=\"#383c40\">\\u6f02\\u6d6a\\u5cf6\\u5dbc \\uff1a\\u53ea\\u807d\\u4e0d\\u8b49\\u807d\\u8b49\\u6703\\uff0c\\u5047\\u7684\\uff01(0)</font></h1>\\n                                    </a>\\n                                </li>\\n                                                        <li class=\"rtddt sp_ad  even\">                                    \\n                                    <time>08:35</time>\\n                                    <h2>\\u7279\\u4f01</h2>\\t\\t\\t\\t\\t\\t\\t\\t\\t\\t\\n                                    <h1>\\n                                        <a href=\"http://www.appledaily.com.tw/realtimenews/article/life/20160826/935880/\" target=\"_blank\">\\n                                            <font color=\"#383c40\">\\u3010\\u7279\\u4f01\\u3011\\u97d3\\u570b\\u6b50\\u7238\\u6709\\u6487\\u6b65!? \\u6559\\u4f60\\u5982\\u4f55\\u7576\\u500b (931)</span></font>\\n                                        </a>\\t\\n                                    </h1>                                    \\n                                </li>                                \\n                                                        <li class=\"rtddt property hsv\">\\n                                    <a href=\"/realtimenews/article/property/20160826/935298/\\u3010\\u8cb7\\u623f\\u554f\\u860b\\u679c\\u3011\\u70ba\\u5b6b\\u7838\\u8001\\u672c\\u3000\\u963f\\u516c\\u6182\\u8fb2\\u5730\\u53ef\\u8cb8\\u6b3e\\uff1f\" target=\"_blank\">\\n                                        <time>08:32</time>\\n                                        <h2>\\u5730\\u7522</h2>\\n                                        <h1><font color=\"#383c40\">\\u3010\\u8cb7\\u623f\\u554f\\u860b\\u679c\\u3011\\u70ba\\u5b6b\\u7838\\u8001\\u672c\\u3000\\u963f\\u516c\\u6182\\u8fb2\\u5730\\u53ef\\u8cb8...(610)</font></h1>\\n                                    </a>\\n                                </li>\\n                                                        <li class=\"rtddt local even\">\\n                                    <a href=\"/realtimenews/article/local/20160826/936170/\\u626f\\uff012\\u5e74\\u524d\\u8650\\u5152\\u6210\\u690d\\u7269\\u4eba\\u3000\\u72e0\\u7236\\u53c8\\u6253\\u65b7\\u5973\\u5152\\u808b\\u9aa8\" target=\"_blank\">\\n                                        <time>08:25</time>\\n                                        <h2>\\u793e\\u6703</h2>\\n                                        <h1><font color=\"#ff0000\">\\u626f\\uff012\\u5e74\\u524d\\u8650\\u5152\\u6210\\u690d\\u7269\\u4eba\\u3000\\u72e0\\u7236\\u53c8\\u6253\\u65b7\\u5973\\u5152\\u808b...(1428)</font></h1>\\n                                    </a>\\n                                </li>\\n                                                        <li class=\"rtddt enter hsv\">\\n                                    <a href=\"/realtimenews/article/entertainment/20160826/935968/\\u3010\\u52d5\\u756b\\u91cd\\u5efa\\u3011Fanny\\u5f37\\u570b\\u958b\\u623f\\u3000\\u88ab\\u505a\\u4e86\\u4ec0\\u9ebc\\uff1f\" target=\"_blank\">\\n                                        <time>08:24</time>\\n                                        <h2>\\u5a1b\\u6a02</h2>\\n                                        <h1><font color=\"#ff0000\">\\u3010\\u52d5\\u756b\\u91cd\\u5efa\\u3011Fanny\\u5f37\\u570b\\u958b\\u623f\\u3000\\u88ab\\u505a\\u4e86\\u4ec0...(29582)</font></h1>\\n                                    </a>\\n                                </li>\\n                                                        <li class=\"rtddt polit even\">\\n                                    <a href=\"/realtimenews/article/politics/20160826/935455/\\u3010\\u8ca1\\u8a0a\\u3011\\u65b0\\u653f\\u767e\\u65e5\\u6c11\\u8abf\\u4e0b\\u6ed1\\u3000\\u60f3\\u60f3\\u7e3d\\u7d71\\uff0c\\u61c9\\u8a72\\u505a\\u4e00\\u4e9b\\u6539\\u8b8a\\u4e86\\uff01\" target=\"_blank\">\\n                                        <time>08:22</time>\\n                                        <h2>\\u653f\\u6cbb</h2>\\n                                        <h1><font color=\"#383c40\">\\u3010\\u8ca1\\u8a0a\\u3011\\u65b0\\u653f\\u767e\\u65e5\\u6c11\\u8abf\\u4e0b\\u6ed1\\u3000\\u60f3\\u60f3\\u7e3d\\u7d71\\uff0c\\u61c9\\u8a72...(1300)</font></h1>\\n                                    </a>\\n                                </li>\\n                                                        <li class=\"rtddt inter\">\\n                                    <a href=\"/realtimenews/article/international/20160826/936169/\\u7fa9\\u5927\\u5229\\u5f37\\u9707\\u6b7b250\\u4eba\\u3000\\u6b32\\u671d\\u300c\\u4eba\\u798d\\u300d\\u641c\\u67e5\" target=\"_blank\">\\n                                        <time>08:22</time>\\n                                        <h2>\\u570b\\u969b</h2>\\n                                        <h1><font color=\"#383c40\">\\u7fa9\\u5927\\u5229\\u5f37\\u9707\\u6b7b250\\u4eba\\u3000\\u6b32\\u671d\\u300c\\u4eba\\u798d\\u300d\\u641c\\u67e5(1361)</font></h1>\\n                                    </a>\\n                                </li>\\n                                                        <li class=\"rtddt strange even hsv\">\\n                                    <a href=\"/realtimenews/article/strange/20160826/935983/\\u300a\\u6211\\u611b\\u7d05\\u5a18\\u300b\\u914d\\u5c0d\\u4f73\\u5076\\u300030\\u5e74\\u5f8c\\u8b8a\\u9019\\u6a23\" target=\"_blank\">\\n                                        <time>08:15</time>\\n                                        <h2>\\u526f\\u520a</h2>\\n                                        <h1><font color=\"#ff0000\">\\u300a\\u6211\\u611b\\u7d05\\u5a18\\u300b\\u914d\\u5c0d\\u4f73\\u5076\\u300030\\u5e74\\u5f8c\\u8b8a\\u9019\\u6a23(96178)</font></h1>\\n                                    </a>\\n                                </li>\\n                                                        <li class=\"rtddt enter hsv\">\\n                                    <a href=\"/realtimenews/article/entertainment/20160826/936104/\\u3010\\u7368\\u5bb6\\u3011\\u856d\\u4e9e\\u8ed2\\u5c0f\\u9bae\\u8089\\u60c5\\u90ce\\u8d77\\u5e95\\u3000\\u9ad8\\u7403\\u597d\\u624b\\u9ed1\\u58ef\\u5e25\" target=\"_blank\">\\n                                        <time>08:05</time>\\n                                        <h2>\\u5a1b\\u6a02</h2>\\n                                        <h1><font color=\"#ff0000\">\\u3010\\u7368\\u5bb6\\u3011\\u856d\\u4e9e\\u8ed2\\u5c0f\\u9bae\\u8089\\u60c5\\u90ce\\u8d77\\u5e95\\u3000\\u9ad8\\u7403\\u597d\\u624b\\u9ed1...(23538)</font></h1>\\n                                    </a>\\n                                </li>\\n                                                        <li class=\"rtddt inter even\">\\n                                    <a href=\"/realtimenews/article/international/20160826/936167/\\u5730\\u65b9\\u7238\\u7238\\u7b2c\\u4e00\\u6b21\\u53c3\\u52a0\\u6027\\u611b\\u8db4\\u3000\\u559d\\u70c8\\u9152\\u6158\\u6eba\\u6583\" target=\"_blank\">\\n                                        <time>08:02</time>\\n                                        <h2>\\u570b\\u969b</h2>\\n                                        <h1><font color=\"#ff0000\">\\u5730\\u65b9\\u7238\\u7238\\u7b2c\\u4e00\\u6b21\\u53c3\\u52a0\\u6027\\u611b\\u8db4\\u3000\\u559d\\u70c8\\u9152\\u6158\\u6eba\\u6583(5636)</font></h1>\\n                                    </a>\\n                                </li>\\n                                                        <li class=\"rtddt inter\">\\n                                    <a href=\"/realtimenews/article/international/20160826/936166/\\u3010\\u6cd5\\u5ee3RFI\\u3011\\u674e\\u514b\\u5f37\\u6703\\u898b\\u8c37\\u5167\\u6b63\\u592a\\u90ce\\u5354\\u8abfG20\\u5169\\u570b\\u9996\\u8166\\u6703\\u8ac7\\u4e8b\\u5b9c\" target=\"_blank\">\\n                                        <time>07:46</time>\\n                                        <h2>\\u570b\\u969b</h2>\\n                                        <h1><font color=\"#383c40\"> \\u3010\\u6cd5\\u5ee3RFI\\u3011\\u674e\\u514b\\u5f37\\u6703\\u898b\\u8c37\\u5167\\u6b63\\u592a\\u90ce\\u5354\\u8abf...(401)</font></h1>\\n                                    </a>\\n                                </li>\\n                                                        <li class=\"rtddt inter even\">\\n                                    <a href=\"/realtimenews/article/international/20160826/936162/\\u963f\\u516c\\u88ab4\\u5147\\u72ac\\u653b\\u64ca\\u3000\\u6158\\u906d\\u751f\\u5403\\u5206\\u5c4d\\u96e3\\u4ee5\\u8fa8\\u8b58\" target=\"_blank\">\\n                                        <time>07:44</time>\\n                                        <h2>\\u570b\\u969b</h2>\\n                                        <h1><font color=\"#ff0000\">\\u963f\\u516c\\u88ab4\\u5147\\u72ac\\u653b\\u64ca\\u3000\\u6158\\u906d\\u751f\\u5403\\u5206\\u5c4d\\u96e3\\u4ee5\\u8fa8\\u8b58(11330)</font></h1>\\n                                    </a>\\n                                </li>\\n                                                        <li class=\"rtddt local\">\\n                                    <a href=\"/realtimenews/article/local/20160826/936163/\\u6d89\\u6027\\u9a37\\u53c8\\u8972\\u8b66\\u3000\\u5929\\u554a\\uff01\\u571f\\u570b\\u526f\\u4ee3\\u8868\\u5df2\\u96e2\\u53f0\" target=\"_blank\">\\n                                        <time>07:39</time>\\n                                        <h2>\\u793e\\u6703</h2>\\n                                        <h1><font color=\"#ff0000\">\\u6d89\\u6027\\u9a37\\u53c8\\u8972\\u8b66\\u3000\\u5929\\u554a\\uff01\\u571f\\u570b\\u526f\\u4ee3\\u8868\\u5df2\\u96e2\\u53f0(5671)</font></h1>\\n                                    </a>\\n                                </li>\\n                                                        <li class=\"rtddt sport even hsv\">\\n                                    <a href=\"/realtimenews/article/sports/20160826/936165/PGA\\u5b63\\u5f8c\\u8cfd\\u958b\\u6253\\u3000\\u9996\\u56de\\u5408\\u91cc\\u5fb7\\u4e26\\u5217\\u9818\\u5148\" target=\"_blank\">\\n                                        <time>07:39</time>\\n                                        <h2>\\u9ad4\\u80b2</h2>\\n                                        <h1><font color=\"#383c40\">PGA\\u5b63\\u5f8c\\u8cfd\\u958b\\u6253\\u3000\\u9996\\u56de\\u5408\\u91cc\\u5fb7\\u4e26\\u5217\\u9818\\u5148(309)</font></h1>\\n                                    </a>\\n                                </li>\\n                                                        <li class=\"rtddt local\">\\n                                    <a href=\"/realtimenews/article/local/20160826/936151/\\u4e0d\\u9867\\u59bb\\u61f7\\u5b55\\u7522\\u5b50\\u3000\\u53f0\\u58fd\\u4fdd\\u524d\\u8463\\u5ea7\\u4e4b\\u5b50\\u5927\\u641e\\u5c0f\\u4e09\" target=\"_blank\">\\n                                        <time>07:38</time>\\n                                        <h2>\\u793e\\u6703</h2>\\n                                        <h1><font color=\"#ff0000\">\\u4e0d\\u9867\\u59bb\\u61f7\\u5b55\\u7522\\u5b50\\u3000\\u53f0\\u58fd\\u4fdd\\u524d\\u8463\\u5ea7\\u4e4b\\u5b50\\u5927\\u641e\\u5c0f\\u4e09(14741)</font></h1>\\n                                    </a>\\n                                </li>\\n                                                        <li class=\"rtddt inter even\">\\n                                    <a href=\"/realtimenews/article/international/20160826/936164/\\u3010\\u6cd5\\u5ee3RFI\\u3011\\u610f\\u5927\\u5229\\u5730\\u9707\\u6b7b\\u4ea1\\u4eba\\u6578\\u5347\\u81f3250\\u4eba\" target=\"_blank\">\\n                                        <time>07:37</time>\\n                                        <h2>\\u570b\\u969b</h2>\\n                                        <h1><font color=\"#383c40\"> \\u3010\\u6cd5\\u5ee3RFI\\u3011 \\u610f\\u5927\\u5229\\u5730\\u9707\\u6b7b\\u4ea1\\u4eba\\u6578\\u5347\\u81f3...(893)</font></h1>\\n                                    </a>\\n                                </li>\\n                                                        <li class=\"rtddt sport hsv\">\\n                                    <a href=\"/realtimenews/article/sports/20160826/936160/LPGA\\u52a0\\u62ff\\u5927\\u5973\\u5b50\\u516c\\u958b\\u8cfd\\u3000\\u7a0b\\u601d\\u5609\\u4e26\\u521737\\u53f0\\u5c07\\u6700\\u4f73\" target=\"_blank\">\\n                                        <time>07:29</time>\\n                                        <h2>\\u9ad4\\u80b2</h2>\\n                                        <h1><font color=\"#383c40\">LPGA\\u52a0\\u62ff\\u5927\\u5973\\u5b50\\u516c\\u958b\\u8cfd\\u3000\\u7a0b\\u601d\\u5609\\u4e26\\u521737...(564)</font></h1>\\n                                    </a>\\n                                </li>\\n                                                        <li class=\"rtddt local even hsv\">\\n                                    <a href=\"/realtimenews/article/local/20160826/936159/LINE\\u7fa4\\u7d44\\u50b3\\u6700\\u5f8c\\u907a\\u8a00\\u3000\\u6a21\\u7bc4\\u8b66\\u5bdf\\u81ea\\u8f5f\\u8eab\\u4ea1\" target=\"_blank\">\\n                                        <time>07:28</time>\\n                                        <h2>\\u793e\\u6703</h2>\\n                                        <h1><font color=\"#ff0000\">LINE\\u7fa4\\u7d44\\u50b3\\u6700\\u5f8c\\u907a\\u8a00\\u3000\\u6a21\\u7bc4\\u8b66\\u5bdf\\u81ea\\u8f5f\\u8eab\\u4ea1(8911)</font></h1>\\n                                    </a>\\n                                </li>\\n                                                        <li class=\"rtddt inter hsv\">\\n                                    <a href=\"/realtimenews/article/international/20160826/936156/\\u7f8e\\u9e97\\u6d77\\u5cb8\\u8b8a\\u7e31\\u617e\\u96dc\\u4ea4\\u3000\\u7121\\u6065\\u8fb1\\u5438\\u542e\\u300c\\u9670\\u9152\\u300d\" target=\"_blank\">\\n                                        <time>07:26</time>\\n                                        <h2>\\u570b\\u969b</h2>\\n                                        <h1><font color=\"#ff0000\">\\u7f8e\\u9e97\\u6d77\\u5cb8\\u8b8a\\u7e31\\u617e\\u96dc\\u4ea4\\u3000\\u7121\\u6065\\u8fb1\\u5438\\u542e\\u300c\\u9670\\u9152\\u300d(64333)</font></h1>\\n                                    </a>\\n                                </li>\\n                                                        <li class=\"rtddt polit even hsv\">\\n                                    <a href=\"/realtimenews/article/politics/20160826/936158/\\u5c0f\\u82f1\\u6c11\\u8abf\\u4e0d\\u6eff\\u610f\\u904e\\u534a\\u3000\\u79d1\\u6280\\u8001\\u8463\\u6709\\u610f\\u898b\" target=\"_blank\">\\n                                        <time>07:24</time>\\n                                        <h2>\\u653f\\u6cbb</h2>\\n                                        <h1><font color=\"#ff0000\">\\u5c0f\\u82f1\\u6c11\\u8abf\\u4e0d\\u6eff\\u610f\\u904e\\u534a\\u3000\\u79d1\\u6280\\u8001\\u8463\\u6709\\u610f\\u898b(9368)</font></h1>\\n                                    </a>\\n                                </li>\\n                                                        <li class=\"rtddt inter hsv\">\\n                                    <a href=\"/realtimenews/article/international/20160826/936150/\\u5f8c\\u8f2a\\u7121\\u6cd5\\u96e2\\u5730\\u3000\\u6469\\u6d1b\\u54e5\\u5ba2\\u6a5f\\u60f3\\u98db\\u537b\\u98db\\u4e0d\\u8d77\\u4f86\" target=\"_blank\">\\n                                        <time>07:20</time>\\n                                        <h2>\\u570b\\u969b</h2>\\n                                        <h1><font color=\"#383c40\">\\u5f8c\\u8f2a\\u7121\\u6cd5\\u96e2\\u5730\\u3000\\u6469\\u6d1b\\u54e5\\u5ba2\\u6a5f\\u60f3\\u98db\\u537b\\u98db\\u4e0d\\u8d77\\u4f86(5416)</font></h1>\\n                                    </a>\\n                                </li>\\n                                                        <li class=\"rtddt polit even hsv\">\\n                                    <a href=\"/realtimenews/article/politics/20160826/936154/\\u9a5a\\uff01\\u57f7\\u653f100\\u5929\\u3000\\u8521\\u82f1\\u6587\\u4e0d\\u6eff\\u610f\\u5ea6\\u904e\\u534a\" target=\"_blank\">\\n                                        <time>07:20</time>\\n                                        <h2>\\u653f\\u6cbb</h2>\\n                                        <h1><font color=\"#383c40\">\\u9a5a\\uff01\\u57f7\\u653f100\\u5929\\u3000\\u8521\\u82f1\\u6587\\u4e0d\\u6eff\\u610f\\u5ea6\\u904e\\u534a(2588)</font></h1>\\n                                    </a>\\n                                </li>\\n                                                        <li class=\"rtddt inter\">\\n                                    <a href=\"/realtimenews/article/international/20160826/936157/\\u3010\\u6cd5\\u5ee3RFI\\u3011\\u534a\\u4e16\\u7d00\\u5167\\u6230\\u7121\\u8d0f\\u5bb6\\u54e5\\u502b\\u6bd4\\u4e9e\\u7d42\\u548c\\u5e73\" target=\"_blank\">\\n                                        <time>07:16</time>\\n                                        <h2>\\u570b\\u969b</h2>\\n                                        <h1><font color=\"#383c40\"> \\u3010\\u6cd5\\u5ee3RFI\\u3011 \\u534a\\u4e16\\u7d00\\u5167\\u6230\\u7121\\u8d0f\\u5bb6 \\u54e5\\u502b...(697)</font></h1>\\n                                    </a>\\n                                </li>\\n                                                        <li class=\"rtddt life even\">\\n                                    <a href=\"/realtimenews/article/life/20160826/936153/\\u9ad4\\u91cd\\u904e\\u91cdBMI\\u903e30\\u3000\\u5c0f\\u5fc313\\u7a2e\\u764c\\u75c7\\u4e0a\\u8eab\" target=\"_blank\">\\n                                        <time>07:06</time>\\n                                        <h2>\\u751f\\u6d3b</h2>\\n                                        <h1><font color=\"#ff0000\">\\u9ad4\\u91cd\\u904e\\u91cdBMI\\u903e30\\u3000\\u5c0f\\u5fc313\\u7a2e\\u764c\\u75c7\\u4e0a\\u8eab(4310)</font></h1>\\n                                    </a>\\n                                </li>\\n                                                        <li class=\"rtddt inter\">\\n                                    <a href=\"/realtimenews/article/international/20160826/936155/\\u3010\\u6cd5\\u5ee3RFI\\u3011\\u5df4\\u897f\\u5de6\\u7ffc\\u57f7\\u653f13\\u5e74\\u6b77\\u53f2\\u5c07\\u6703\\u7d50\\u675f\\uff1f\" target=\"_blank\">\\n                                        <time>07:06</time>\\n                                        <h2>\\u570b\\u969b</h2>\\n                                        <h1><font color=\"#383c40\"> \\u3010\\u6cd5\\u5ee3RFI\\u3011 \\u5df4\\u897f\\u5de6\\u7ffc\\u57f7\\u653f13\\u5e74\\u6b77\\u53f2...(516)</font></h1>\\n                                    </a>\\n                                </li>\\n                                                        <li class=\"rtddt nextmag even\">\\n                                    <a href=\"/realtimenews/article/nextmag/20160826/935724/\\u3010\\u58f9\\u9031\\u520a\\u3011\\u4eba\\u6e23\\u6587\\u672c\\u89c0\\u9ede\\uff1a\\u90e8\\u9577\\u55ac\\u4e8b\\u4e4b\\u602a\\u73fe\\u72c0\" target=\"_blank\">\\n                                        <time>07:00</time>\\n                                        <h2>\\u58f9\\u9031\\u520a</h2>\\n                                        <h1><font color=\"#383c40\">\\u3010\\u58f9\\u9031\\u520a\\u3011\\u4eba\\u6e23\\u6587\\u672c\\u89c0\\u9ede\\uff1a\\u90e8\\u9577\\u55ac\\u4e8b\\u4e4b\\u602a\\u73fe\\u72c0(3118)</font></h1>\\n                                    </a>\\n                                </li>\\n                                                        <li class=\"rtddt inter hsv\">\\n                                    <a href=\"/realtimenews/article/international/20160826/936123/\\u3010\\u52d5\\u756b\\u6668\\u5831\\u3011\\u6230\\u706b\\u53c8\\u6dfb\\u51a4\\u9b42\\u3000\\u963f\\u52d2\\u576111\\u7ae5\\u906d\\u6876\\u88dd\\u70b8\\u5f48\\u596a\\u547d\" target=\"_blank\">\\n                                        <time>06:51</time>\\n                                        <h2>\\u570b\\u969b</h2>\\n                                        <h1><font color=\"#ff0000\">\\u3010\\u52d5\\u756b\\u6668\\u5831\\u3011\\u6230\\u706b\\u53c8\\u6dfb\\u51a4\\u9b42\\u3000  \\u963f\\u52d2\\u576111...(24197)</font></h1>\\n                                    </a>\\n                                </li>\\n                                                        <li class=\"rtddt nextmag even hsv\">\\n                                    <a href=\"/realtimenews/article/nextmag/20160826/936100/\\u3010\\u58f9\\u9031\\u520a\\u3011\\u990a\\u9b5a\\u88ab\\u7f75\\u73a9\\u7269\\u55aa\\u5fd7\\u3000\\u85e5\\u5546\\u5c0f\\u958b\\u62da\\u6210\\u77f3\\u6591\\u5927\\u738b\" target=\"_blank\">\\n                                        <time>06:45</time>\\n                                        <h2>\\u58f9\\u9031\\u520a</h2>\\n                                        <h1><font color=\"#ff0000\">\\u3010\\u58f9\\u9031\\u520a\\u3011\\u990a\\u9b5a\\u88ab\\u7f75\\u73a9\\u7269\\u55aa\\u5fd7\\u3000\\u85e5\\u5546\\u5c0f\\u958b\\u62da\\u6210...(6333)</font></h1>\\n                                    </a>\\n                                </li>\\n                                                        <li class=\"rtddt life\">\\n                                    <a href=\"/realtimenews/article/life/20160826/936148/\\u4e2d\\u98b1\\u7345\\u5b50\\u5c71\\u4eca\\u660e\\u6700\\u63a5\\u8fd1\\u3000\\u5317\\u53f0\\u7063\\u5348\\u5f8c\\u8f49\\u6709\\u96e8\" target=\"_blank\">\\n                                        <time>06:45</time>\\n                                        <h2>\\u751f\\u6d3b</h2>\\n                                        <h1><font color=\"#ff0000\">\\u4e2d\\u98b1\\u7345\\u5b50\\u5c71\\u4eca\\u660e\\u6700\\u63a5\\u8fd1\\u3000\\u5317\\u53f0\\u7063\\u5348\\u5f8c\\u8f49\\u6709\\u96e8(37347)</font></h1>\\n                                    </a>\\n                                </li>\\n                                                </ul>                            \\n                        <nav class=\"page_switch lisw fillup\" style=\"margin-top:0em;margin-bottom:1em;text-align:center\">\\n                        <a href=\"/realtimenews/section/new/1\" title=\"1\" class=\"enable\">1</a><a href=\"/realtimenews/section/new/2\" title=\"2\" >2</a><a href=\"/realtimenews/section/new/3\" title=\"3\" >3</a><a href=\"/realtimenews/section/new/4\" title=\"4\" >4</a><a href=\"/realtimenews/section/new/5\" title=\"5\" >5</a><a href=\"/realtimenews/section/new/6\" title=\"6\" >6</a><a href=\"/realtimenews/section/new/7\" title=\"7\" >7</a><a href=\"/realtimenews/section/new/8\" title=\"8\" >8</a><a href=\"/realtimenews/section/new/9\" title=\"9\" >9</a><a href=\"/realtimenews/section/new/10\" title=\"10\" >10</a><a href=\"/realtimenews/section/new/11\" title=\"\\u4e0b10\\u9801\">\\u4e0b10\\u9801</a>                        </nav>\\n                        <span class=\"clear man\"></span>\\n                    </div>\\n                </div>\\n                <div class=\"abdominis\"></div>\\n              </article>\\n              <aside id=\"sitesidecontent\" class=\"manu lvl\">\\n                <div id=\"rectangleAD1\" class=\"ads rtb rtf\"><script type=\\'text/javascript\\'>googletag.cmd.push(function() {googletag.display(\\'rectangleAD1\\');})</script></div>\\n                <div id=\"rectangleAD2\" class=\"ads rtb\"><script type=\\'text/javascript\\'>googletag.cmd.push(function() {googletag.display(\\'rectangleAD2\\');})</script></div>\\n                <section id=\"section-hot-sidebox\" class=\"shsb slvl clearmen  shsbfinance\"><header><h1>\\u8ca1\\u7d93\\u6700&nbsp;Hot</h1><span><a target=\"_blank\" href=\"/appledaily/hotdaily/finance\">\\u770b\\u66f4\\u591a</a></span></header><article><ul><li><h2><a href=\"/appledaily/article/finance/20160826/37360852/hotdailyart_right\">\\u6797\\u6587\\u4f2f\\u55c6\\u653f\\u5e9c \\u534a\\u5c0e\\u9ad4\\u5357\\u5411\\u8981...</a></h2><span>8647</span></li><li><h2><a href=\"/appledaily/article/finance/20160826/37360858/hotdailyart_right\">\\u4e2d\\u4fe1\\u91d1\\u8e22\\u9435\\u677f \\u6295\\u8cc7\\u4fe1\\u9280\\u570b\\u969b...</a></h2><span>3690</span></li><li><h2><a href=\"/appledaily/article/finance/20160826/37360871/hotdailyart_right\">\\u90195\\u9ede \\u5eab\\u514b\\u6bd4\\u8cc8\\u4f2f\\u65af\\u505a\\u5f97\\u597d</a></h2><span>3422</span></li><li><h2><a href=\"/appledaily/article/finance/20160826/37360861/hotdailyart_right\">\\u860b\\u679c\\u65b0\\u8ca1\\u6e90 \\u5f9e5\\u9818\\u57df\\u4e0b\\u624b</a></h2><span>2879</span></li><li><h2><a href=\"/appledaily/article/finance/20160826/37360866/hotdailyart_right\">\\u860b\\u679c\\u65b0\\u6a5f \\u5c07\\u5728\\u300c\\u592a\\u7a7a\\u8239\\u300d\\u7e3d...</a></h2><span>2415</span></li></ul></article></section><section id=\"facebookbox\" class=\"fbbx slvl clearmen\">\\r\\n    <header>\\r\\n        <h1>Facebook&nbsp;</h1>\\r\\n        <a id=\"fblikebtn\" class=\"on\">\\u860b\\u679c\\u7c89\\u7d72\\u5718</a>\\r\\n    </header>\\t\\t\\r\\n    <article>\\r\\n        <div id=\"fb-root\"></div>\\r\\n        <script language=\"javascript\">\\r\\n            (function(d, s, id) {\\r\\n              var js, fjs = d.getElementsByTagName(s)[0];\\r\\n              if (d.getElementById(id)) return;\\r\\n              js = d.createElement(s); js.id = id;\\r\\n              js.src = \"//connect.facebook.net/zh_TW/all.js#xfbml=1\";\\r\\n              fjs.parentNode.insertBefore(js, fjs);\\r\\n            }(document, \\'script\\', \\'facebook-jssdk\\'));\\r\\n        </script>              \\r\\n        <div id=\"changeFBlike\">\\r\\n            <div class=\"fb-like-box\" data-href=\"http://www.facebook.com/appledaily.tw\" data-width=\"300\" data-height=\"370\" data-show-faces=\"false\" data-stream=\"true\" data-show-border=\"true\" data-header=\"false\"></div>  \\r\\n        </div>\\r\\n    </article>\\r\\n</section>              </aside>\\n            </div>\\n            <div><script type=\\'text/javascript\\'>googletag.cmd.push(function() {googletag.display(\\'div-ad-bottom\\');})</script></div>\\n            <link rel=\"stylesheet\" href=\"http://twimg.edgesuite.net/appledaily/images/css/dateinput_skin.css\" />\\r\\n<div class=\"abkct clearmen\"><a onClick=\"javascript:window.scroll(0,0)\" class=\"abktp\">\\u56de\\u5230\\u6700\\u4e0a\\u9762</a></div>\\r\\n<section id=\"extras\" class=\"fexbr\">\\r\\n    <div class=\"sqzer fillup\">\\r\\n        <a href=\"/index/dailyquote/\" title=\"\\u6bcf\\u65e5\\u4e00\\u53e5\" class=\"dyw\"><span data-tooltip=\"\\u6bcf\\u5929\\u4e00\\u53e5\\u597d\\u8a71\"></span>\\u6bcf\\u65e5\\u4e00\\u53e5</a>\\r\\n        <a href=\"/index/lottery\" title=\"\\u6a02\\u900f\\u767c\\u7968\" class=\"lnr\"><span data-tooltip=\"\\u770b\\u770b\\u4f60\\u624b\\u6c23\"></span>\\u6a02\\u900f\\u767c\\u7968</a>\\r\\n        <a href=\"#\" title=\"\\u7dda\\u4e0a\\u7f8e\\u8a9e\" class=\"oneg\" onclick=\"JavaScript:window.open(\\'/index/englishlearning/\\',\\'\\',\\'width=650,height=495\\')\"><span data-tooltip=\"\\u5b78\\u7fd2\\u82f1\\u6587\"></span>\\u7dda\\u4e0a\\u7f8e\\u8a9e</a>\\r\\n        <a href=\"/index/weather\" title=\"\\u5929\\u6c23\" class=\"wkw\"><span data-tooltip=\"\\u4eca\\u5929\\u4e00\\u5468\\u5929\\u6c23\\u9810\\u5831\"></span>\\u5929\\u6c23</a>\\r\\n        <a href=\"/index/complain\" title=\"\\u7206\\u6599\\u6295\\u8a34\" class=\"rpter\"><span data-tooltip=\"\\u7206\\u6599\\u7d66\\u860b\\u679c\"></span>\\u7206\\u6599\\u6295\\u8a34</a>\\r\\n        <a href=\"/index/prize\" title=\"\\u4e2d\\u734e\\u540d\\u55ae\" class=\"itul\"><span data-tooltip=\"\\u860b\\u679c\\u9001\\u5927\\u734e\\uff01\">\\u4e2d\\u734e\\u540d\\u55ae</span></a>\\r\\n        <a href=\"/index/ticket\" title=\"\\u8d08\\u734e\\u6d3b\\u52d5\" class=\"pguss\"><span data-tooltip=\"\\u8d08\\u734e\\u6d3b\\u52d5\"></span>\\u8d08\\u734e\\u6d3b\\u52d5</a>\\r\\n        <a href=\"/index/mobileguide\" title=\"\\u884c\\u52d5\\u7248\" class=\"wmvs\"><span data-tooltip=\"\\u884c\\u52d5\\u7248\">\\u884c\\u52d5\\u7248</span></a>\\r\\n    </div>\\r\\n</section>\\r\\n\\r\\n<footer id=\"corpfoot\">\\r\\n    <div class=\"sqzer\">\\r\\n        <figure><a href=\"http://www.nextdigital.com.hk/investor/\"><img src=\"http://twimg.edgesuite.net/images/NextDigital/logo_NextMedia_m.png\" /></a></figure>\\r\\n        <section id=\"corpcompanies\" class=\"clearmen\">\\r\\n            <a href=\"/\" class=\"first\" target=\"_blank\"><img src=\"http://twimg.edgesuite.net/appledaily/images/core/ft_AppleDaily.png\" alt=\"\\u860b\\u679c\\u65e5\\u5831 AppleDaily\"  /></a>\\r\\n            <a href=\"/actionnews/\" target=\"_blank\"><img src=\"http://twimg.edgesuite.net/appledaily/images/core/ft_AnimatedNews.png\" alt=\"\\u52d5\\u65b0\\u805e\"  /></a>\\r\\n            <a href=\"http://www.applelive.com.tw/livechannel/\"  target=\"_blank\"><img src=\"http://twimg.edgesuite.net/appledaily/images/core/applelive.gif\" alt=\"\\u860b\\u679cLive\"  /></a>\\r\\n            <a href=\"http://apple360.appledaily.com.tw/\" target=\"_blank\"><img src=\"http://twimg.edgesuite.net/appledaily/images/core/360logo.png\" alt=\" \\u860b\\u679c360\" width=\"83\" height=\"30\"/></a>\\r\\n            <a href=\"http://sharpdaily.tw/\" target=\"_blank\"><img src=\"http://twimg.edgesuite.net/appledaily/images/core/ft_SharpDaily.png\" alt=\"\\u723d\\u5831\"  /></a>\\r\\n            <a href=\"http://www.nextmag.com.tw/\" target=\"_blank\"><img src=\"http://twimg.edgesuite.net/appledaily/images/core/ft_NextMag.png\" alt=\"\\u58f9\\u5468\\u520a\"  /></a>\\r\\n            <a href=\"http://www.eat-travel.com.tw/\"  target=\"_blank\"><img src=\"http://twimg.edgesuite.net/appledaily/images/core/ft_eatintravel.png\" alt=\"\\u98f2\\u98df\\u7537\\u5973\" /></a>\\r\\n            <a href=\"http://fashion.appledaily.com.tw/\"  target=\"_blank\"><img src=\"http://twimg.edgesuite.net/appledaily/images/core/applefashion_website_head_39x30.png\" alt=\"\\u860b\\u679c\\u6642\\u5c1a\" /></a>\\r\\n            <a href=\"http://www.tomonews.com/\" target=\"_blank\"><img src=\"http://twimg.edgesuite.net/appledaily/images/core/menu_tomonews_s.png\" alt=\"Tomonews\"  /></a>            \\r\\n            <a href=\"https://www.youtube.com/user/twappledaily/\"  target=\"_blank\"><img src=\"http://twimg.edgesuite.net/appledaily/images/core/ft_youtube.png\" alt=\"Youtube\" /></a>\\r\\n            <a href=\"/teded\" class=\"last\"  target=\"_blank\"><img src=\"http://twimg.edgesuite.net/appledaily/images/core/ted.png\" alt=\"Ted\" /></a>\\r\\n        </section>\\r\\n        \\r\\n        <section id=\"corpinfo\" class=\"fillip\">\\r\\n            <a href=\"/rss/\" style=\"color:red\">RSS</a>\\t\\t\\t\\t\\t\\r\\n            <a href=\"/index/aboutus/\">\\u4e86\\u89e3\\u860b\\u679c\\u65e5\\u5831</a>\\r\\n            <a href=\"/index/contactus/\">\\u806f\\u7d61\\u6211\\u5011</a>\\r\\n            <a href=\"/adguide\" target=\"_blank\">\\u5ee3\\u544a\\u520a\\u767b</a>\\r\\n            <a href=\"/index/faq/\">\\u5e38\\u898b\\u554f\\u984c</a>\\r\\n            <a href=\"/index/sitemap/\">\\u7db2\\u7ad9\\u5c0e\\u89bd</a>\\r\\n            <a href=\"/index/termofuse/\">\\u4f7f\\u7528\\u689d\\u6b3e</a>\\r\\n            <a href=\"/index/authorization/\">\\u6388\\u6b0a\\u7533\\u8acb\\u7a0b\\u5e8f</a>\\r\\n            <a href=\"/index/privacy/\">\\u96b1\\u79c1\\u6b0a\\u8aaa\\u660e</a>\\r\\n            <a href=\"/index/disclaimer/\">\\u514d\\u8cac\\u8207\\u5206\\u7d1a</a>\\r\\n            <a href=\"/index/community/\">\\u860b\\u679c\\u793e\\u7fa4</a>\\r\\n            <a href=\"http://www.facebook.com/nextmediastudent/\" target=\"_blank\">\\u6821\\u5712\\u57f9\\u679c\\u8a08\\u756b</a>\\r\\n            <a href=\"http://www.104.com.tw/jobbank/custjob/index.php?r=cust&j=5e3a4326486c3e6a30323c1d1d1d1d5f2443a363189j01&jobsource=checkc\"  target=\"_blank\">\\u860b\\u679c\\u5fb5\\u624d</a>\\r\\n            <a href=\"/index/subscribe\" class=\"last\">\\u8a02\\u95b1\\u860b\\u679c</a>               \\r\\n        </section>\\r\\n        <p id=\"copyright\">\\xa9 2016 www.appledaily.com.tw Limited. All rights reserved. \\u53f0\\u7063\\u860b\\u679c\\u65e5\\u5831 \\u7248\\u6b0a\\u6240\\u6709 \\u4e0d\\u5f97\\u8f49\\u8f09</p>\\r\\n    </div>\\r\\n</footer>\\r\\n<link rel=\"stylesheet\" href=\"http://twimg.edgesuite.net/appledaily/images/css/appledaily.backtotop.css\" />\\r\\n<script src=\"http://twimg.edgesuite.net/appledaily/images/js/jquery.appledaily.backtotop.js\"></script>\\r\\n<div class=\"back-to-top-side\"><a onclick=\"javascript:window.scroll(0,0)\" class=\"back-to-top-btn overcooked\">\\u56de\\u5230\\u6700\\u4e0a\\u9762</a></div><!-- .back-to-top-side -->\\r\\n<script type=\"text/javascript\">\\r\\n    $(document).ready(function() {\\r\\n       var opacity = 0.5,\\r\\n            toOpacity = 1,\\r\\n            duration = 250;\\r\\n        $(\\'.opacity\\').css(\\'opacity\\', opacity).hover(function() {\\r\\n            $(this).fadeTo(duration, toOpacity);\\r\\n        }, function() {\\r\\n            $(this).fadeTo(duration, opacity);\\r\\n        });\\r\\n                \\r\\n       $(window).scroll(function() {\\r\\n         if($(this).scrollTop()>130&&($(this).scrollTop()-(-800)<$(document).height()-350)){\\r\\n             $(\\'#door\\').css(\\'position\\',\\'fixed\\').css(\\'top\\',\\'-45px\\');\\r\\n         }else{\\r\\n             $(\\'#door\\').css(\\'position\\',\\'relative\\').css(\\'top\\',\\'0px\\');\\r\\n         }\\r\\n       });\\r\\n     });\\r\\n</script>\\r\\n\\r\\n<!-- Google Analytics -->\\r\\n<script>\\r\\n  (function(i,s,o,g,r,a,m){i[\\'GoogleAnalyticsObject\\']=r;i[r]=i[r]||function(){\\r\\n      (i[r].q=i[r].q||[]).push(arguments)},i[r].l=1*new Date();a=s.createElement(o),\\r\\n      m=s.getElementsByTagName(o)[0];a.async=1;a.src=g;m.parentNode.insertBefore(a,m)\\r\\n  })(window,document,\\'script\\',\\'//www.google-analytics.com/analytics.js\\',\\'ga\\');\\r\\n\\r\\n  ga(\\'create\\', \\'UA-2067247-40\\', \\'auto\\', {\\'sampleRate\\':1});\\r\\n  ga(\\'require\\', \\'linkid\\', \\'linkid.js\\');\\r\\n  ga(\\'require\\', \\'displayfeatures\\');\\r\\n    \\r\\n</script>\\r\\n<noscript>\\r\\n    <iframe src=\"//www.googletagmanager.com/ns.html?id=GTM-P5MXMC\" height=\"0\" width=\"0\" style=\"display:none;visibility:hidden\"></iframe>\\r\\n</noscript>\\r\\n<script>\\r\\n            dataLayer = [{\\r\\n            \\'pageLevel\\' : \\'Listing\\',\\r\\n            \\'videoArticle\\': \\'non-video\\',\\r\\n            \\'publishDay\\': \\'\\', \\r\\n            \\'columnist\\' : \\'\\', \\r\\n            \\'column\\' : \\'\\' \\r\\n         }];\\r\\n     \\r\\n    (function(w,d,s,l,i){w[l]=w[l]||[];w[l].push({\\'gtm.start\\':\\r\\n    new Date().getTime(),event:\\'gtm.js\\'});var f=d.getElementsByTagName(s)[0],\\r\\n    j=d.createElement(s),dl=l!=\\'dataLayer\\'?\\'&l=\\'+l:\\'\\';j.async=true;j.src=\\'//www.googletagmanager.com/gtm.js?id=\\'+i+dl;f.parentNode.insertBefore(j,f);\\r\\n    })(window,document,\\'script\\',\\'dataLayer\\',\\'GTM-P5MXMC\\');\\r\\n</script>\\r\\n<div id=\"nxm_iframeDiv\" style=\"display:none\"></div>\\r\\n<div id=\"nxm_vtrk_iframeDiv\" style=\"display:none\"></div>\\r\\n<!--page idle-->\\r\\n<link href=\"http://twimg.edgesuite.net/appledaily/images/adidle/css/Ted_fancybox.css\"  rel=\"stylesheet\" type=\"text/css\">\\r\\n<script src=\"http://twimg.edgesuite.net/appledaily/images/adidle/js/Ted_plugin.js\" ></script>\\r\\n<script src=\"http://twimg.edgesuite.net/appledaily/images/adidle/js/Ted_adidle.js\" ></script>\\r\\n<script LANGUAGE=\"JavaScript\">\\r\\n    var intRand = Math.floor((Math.random()*10));\\r\\n    var strHtml = \\'Ted\\';\\r\\n    if(intRand>3 && intRand<6){\\r\\n        strHtml = \\'infographic\\';\\r\\n    }\\r\\n    if(intRand>6){\\r\\n        strHtml = \\'Sale\\';\\r\\n    }\\r\\n    document.write(\\'<a class=\"pageidle\" data-fancybox-type=\"iframe\" href=\"http://www.appledaily.com.tw/\\'+strHtml+\\'_adidle.html#\\'+Math.random()+\\'\"></a>\\');\\r\\n</script>\\r\\n<!--page idle-->\\r\\n        </div>\\n    </div>\\n    <script type=\"text/javascript\" src=\"https://apis.google.com/js/plusone.js\"></script>\\n    <script>\\n        $(document).ready(function($) {\\n          /* main carousel */\\n          $(\\'#carousel\\').on(\\'onInitAfter\\',function(e){\\n            $(this).find(\\'.owl-dots\\').append( \\'<span class=\"masker\"></span>\\' );\\n          }).owlCarousel({\\n            mouseDrag:false,\\n            touchDrag:true,\\n            pullDrag:false,\\n            navText:[\\'\\u4e0b\\u4e00\\u5247\\',\\'\\u4e0a\\u4e00\\u5247\\'],\\n            nav:false,\\n            navSpeed:500,\\n            dotsSpeed:500,\\n            dots:false,\\n            items:1,\\n            autoplay:true,\\n            autoplayHoverPause:false,\\n            autoplayTimeout: 5000,\\n            lazyLoad:true,\\n            info: (typeof getInfo == \\'function\\') ? getInfo : {},\\n            loop:true\\n          }).mouseenter(function() {\\n            $(this).addClass(\\'on\\');\\n            $(this).trigger(\\'pause.owl\\');\\n            $(\\'#splash\\').addClass(\\'on\\');\\n          }).mouseleave(function() {\\n            $(this).removeClass(\\'on\\');\\n            $(this).trigger(\\'autoplay.owl\\');\\n            $(\\'#splash\\').removeClass(\\'on\\');\\n          });\\n\\n          $(\\'.xPrev\\').click(function() {\\n            $(\\'#carousel\\').trigger(\\'prev.owl\\');\\n          });\\n          $(\\'.xNext\\').click(function() {\\n            $(\\'#carousel\\').trigger(\\'next.owl\\');\\n          });\\n\\n          $(\\'.xPrev, .xNext\\').mouseenter(function() {\\n            $(\\'#carousel\\').addClass(\\'on\\');\\n            $(\\'#carousel\\').trigger(\\'pause.owl\\');\\n            $(\\'#splash\\').addClass(\\'on\\');\\n          }).mouseleave(function() {\\n            $(\\'#carousel\\').removeClass(\\'on\\');\\n            $(\\'#carousel\\').trigger(\\'autoplay.owl\\');\\n            $(\\'#splash\\').removeClass(\\'on\\');\\n          });\\n\\n          /* firewire */\\n          $(\\'#firewire\\').owlCarousel({\\n            mouseDrag:false,\\n            touchDrag:false,\\n            pullDrag:false,\\n            animateOut: \\'slideOutDown-100\\',\\n            animateIn: \\'slideInDown-100\\',\\n            nav:false,\\n            navSpeed:1000,\\n            dots:false,\\n            items:1,\\n            autoplay:true,\\n            autoplayHoverPause:true,\\n            autoplayTimeout: 6000,\\n            lazyLoad:true,\\n            loop:true\\n          });\\n\\n        });\\n\\n        function getInfo(owlInfo){\\n          $(\\'#carousel\\').data(\\'currentPosition\\', owlInfo[\\'currentPosition\\']);\\n        }\\n\\n        $( document ).ready(function() {\\n          var mainImgs = $(\\'#carousel\\').find(\\'.owl-item\\').not(\\'.cloned\\').find(\\'.item\\').find(\\'img\\');\\n          var mainLinks = $(\\'#carousel\\').find(\\'.owl-item\\').not(\\'.cloned\\').find(\\'.item\\').find(\\'a\\');\\n\\n          function trackHomeMainImg(action, label) {\\n            if ( ga ) ga(\\'send\\', \\'event\\', \\'HomeMainImg\\', action, label);\\n            if (window[\\'console\\'] !== undefined) { console.log(\\'SendGA: \\'+action) };\\n          }\\n\\n          function isAD(imgAlt) {\\n            return ((imgAlt) && (imgAlt.toUpperCase().substring(0,2)==\"AD\"));\\n          }\\n\\n          function mainImgView(idx) {\\n            var imgAlt = $(mainImgs[idx]).attr(\\'tcode\\');\\n            if (isAD(imgAlt)) trackHomeMainImg(\\'views\\', imgAlt);\\n          }\\n\\n          function mainImgClick(e) {\\n            var imgAlt = $(e.currentTarget).find(\\'img\\').attr(\\'tcode\\');\\n            if (isAD(imgAlt)) trackHomeMainImg(\\'clicks\\', imgAlt);\\n          };\\n\\n          $(\\'#carousel\\').on(\\'onTransitionEnd\\', function(e) {\\n            var idx = $(\\'#carousel\\').data(\\'currentPosition\\');\\n            if ($.isNumeric(idx)) mainImgView(idx);\\n          });\\n\\n          /* entry track */\\n          if ($(\\'#carousel\\')) mainImgView(0);\\n\\n          /* bind click event */\\n          $(\\'#carousel\\').find(\\'.owl-item\\').find(\\'.item\\').find(\\'a\\').click(mainImgClick);\\n\\n        });\\n    </script>\\n    <!-- YAHOO AD -->\\n    <script type=\"text/javascript\">\\n        var sectionCode = sectionCode || [];\\n        sectionCode.push(\"3fbb0747-092b-4c67-b6dc-c522d10c2475\");\\n        (function(){\\n          var script = document.createElement(\"script\");\\n          script.async = true;\\n          script.src = \"https://s.yimg.com/av/gemini/ga/gemini.js\";\\n          document.body.appendChild(script);\\n        })();\\n   </script>\\n   <!-- YAHOO AD -->\\n</body>\\n</html>'"
      ]
     },
     "execution_count": 10,
     "metadata": {},
     "output_type": "execute_result"
    }
   ],
   "source": [
    "res.text"
   ]
  },
  {
   "cell_type": "code",
   "execution_count": 11,
   "metadata": {
    "collapsed": true
   },
   "outputs": [],
   "source": [
    "res1=requests.get(\"http://tw.piaotian.cc/read/25640/15883417.html\")"
   ]
  },
  {
   "cell_type": "code",
   "execution_count": 12,
   "metadata": {
    "collapsed": false
   },
   "outputs": [],
   "source": [
    "res1.encoding ='big5'"
   ]
  },
  {
   "cell_type": "code",
   "execution_count": 13,
   "metadata": {
    "collapsed": false,
    "scrolled": true
   },
   "outputs": [
    {
     "data": {
      "text/plain": [
       "u'<!DOCTYPE html PUBLIC \"-//W3C//DTD XHTML 1.0 Transitional//EN\" \"http://www.w3.org/TR/xhtml1/DTD/xhtml1-transitional.dtd\">\\r\\n<html xmlns=\"http://www.w3.org/1999/xhtml\">\\r\\n<head>\\r\\n<meta http-equiv=\"Cache-Control\" content=\"no-siteapp\" />\\r\\n<meta http-equiv=\"Cache-Control\" content=\"no-transform\" />\\r\\n<script type=\"text/javascript\" src=\"http://tw.piaotian.cc/js/m.js\"></script>\\r\\n<meta http-equiv=\"Content-Type\" content=\"text/html; charset=big5\" />\\r\\n<title> \\u7b2c1009\\u7ae0 \\u6708\\u795e\\u6cd5\\u888d-\\u91cd\\u751f\\u4e4b\\u6700\\u5f37\\u528d\\u795e-\\u98c4\\u5929\\u6587\\u5b78</title>\\r\\n<meta name=\"keywords\" content=\"\\u91cd\\u751f\\u4e4b\\u6700\\u5f37\\u528d\\u795e\" />\\r\\n<meta name=\"description\" content=\"\\u91cd\\u751f\\u4e4b\\u6700\\u5f37\\u528d\\u795e\\u6700\\u65b0\\u7ae0\\u7bc0\\u95b1\\u8b80\" />\\r\\n<meta name=\"MSSmartTagsPreventParsing\" content=\"True\" />\\r\\n<meta http-equiv=\"MSThemeCompatible\" content=\"Yes\" />\\r\\n<link rel=\"stylesheet\" id=\"css_extstyle\" type=\"text/css\" href=\"http://tw.piaotian.cc/css/read.css\" />\\r\\n</head>\\r\\n<link rel=\"stylesheet\" href=\"http://tw.piaotian.cc/css/top_new.css\" />\\r\\n<script type=\"text/javascript\">\\r\\n<!--\\r\\nvar preview_page = \"/read/25640/15879350.html\";\\r\\nvar next_page = \"/read/25640/15887701.html\";\\r\\nvar index_page = \"index.html\";\\r\\nvar article_id = \"25640\";\\r\\nvar chapter_id = \"15883417\";\\r\\nfunction jumpPage() {\\r\\n  var event = document.all ? window.event : arguments[0];\\r\\n  if (event.keyCode == 37) document.location = preview_page;\\r\\n  if (event.keyCode == 39) document.location = next_page;\\r\\n  if (event.keyCode == 13) document.location = index_page;\\r\\n}\\r\\ndocument.onkeydown=jumpPage;\\r\\n-->\\r\\n</script>\\r\\n<div class=\"top\">\\r\\n\\t<div class=\"topBlk1\">\\r\\n\\r\\n<!-- \\u767b\\u9678 begin -->\\r\\n<iframe allowtransparency=true src=\"http://tw.piaotian.cc/loginframe.php\" width=\"60%\" height=\"100%\" frameborder=\"0\" scrolling=\"no\" align=\"left\" ></iframe>\\r\\n<div class=\"tB04\">\\r\\n\\t\\t\\t\\t<ul>\\r\\n\\t\\t\\t\\t\\t<li><a href=\"http://m.piaotian.cc/\" target=\"_blank\" id=\"Mobile\">\\u624b\\u6a5f\\u95b1\\u8b80</a></li>\\r\\n\\t\\t\\t\\t\\t<li><a href=\"javascript:void(0);\" onclick=\"bookmarkit()\" title=\"\\u628a\\u201c\\u98c4\\u5929\\u6587\\u5b78\\u201d\\u52a0\\u5165\\u60a8\\u7684\\u6536\\u85cf\\u593e\\uff01\" target=\"_parent\" id=\"Collection\">\\u52a0\\u70ba\\u6536\\u85cf</a></li>\\r\\n\\t\\t\\t\\t</ul>\\r\\n\\t\\t\\t</div>\\r\\n\\t\\t\\t\\r\\n\\r\\n\\t</div>\\r\\n</div>\\r\\n\\r\\n<div id=\"pagetop\">\\r\\n\\t<div class=\"logonav\">\\r\\n\\t\\t<div class=\"logo\">\\r\\n\\t\\t\\t<a href=\"http://tw.piaotian.cc\" title=\"\\u98c4\\u5929\\u6587\\u5b78\"><img src=\"http://tw.piaotian.cc/images/logo.gif\" title=\"\\u98c4\\u5929\\u6587\\u5b78\" alt=\"\\u98c4\\u5929\\u6587\\u5b78\"/></a>\\r\\n\\t\\t</div>\\r\\n\\t\\t<div class=\"nav\">\\r\\n<!--TOP_\\u5ee3\\u544a\\u4f4d--740*60--begin-->\\r\\n<iframe height=\"60\" frameborder=\"0\" width=\"740\" scrolling=\"no\" marginheight=\"0\" marginwidth=\"0\" src=\"http://tw.piaotian.cc/ad/header_top_fy_740x60.html\"></iframe>\\r\\n\\r\\n\\t\\t</div>\\r\\n\\t</div>\\r\\n<div class=\"tagdh boy\">\\r\\n<div class=\"tagdh_01\">\\r\\n<div class=\"left\">\\r\\n<div class=\"maintype\">\\r\\n<ul>\\r\\n<li><a href=\"http://tw.piaotian.cc\" title=\"\\u5c0f\\u8aaa \\u9996\\u9801\">\\u9996 \\u9801</a></li>\\r\\n<li><a href=\"http://tw.piaotian.cc/top/lastupdate/1/\" title=\"\\u6700\\u65b0\\u66f4\\u65b0\\u5c0f\\u8aaa\\u5217\\u8868\">\\u6700\\u8fd1\\u66f4\\u65b0</a></li>\\r\\n<li class=\"on\"><a href=\"http://tw.piaotian.cc/modules/article/\" title=\"\\u9023\\u8f09\\u66f8\\u5eab\">\\u9023\\u8f09\\u66f8\\u5eab</a></li>\\r\\n<li><a href=\"http://tw.piaotian.cc/modules/article/index.php?fullflag=1\" title=\"\\u5168\\u672c\\u63a8\\u85a6\">\\u5168\\u672c\\u63a8\\u85a6</a></li>\\r\\n</ul>\\r\\n</div>\\r\\n</div>\\r\\n\\t\\t\\t<div class=\"right\">\\r\\n\\t\\t\\t\\t<ul>\\r\\n<li><a href=\"http://tw.piaotian.cc/top/allvisit/1/\">\\u5c0f\\u8aaa\\u6392\\u884c\\u699c</a><span class=\"icon_hot\">\\u71b1</span></li>\\r\\n\\r\\n<li><a href=\"http://tw.piaotian.cc/userdetail.php\" title=\"\\u6703\\u54e1\\u4e2d\\u5fc3\" >\\u6703\\u54e1\\u4e2d\\u5fc3</a></li>\\r\\n<li><a href=\"http://tw.piaotian.cc/bookcase.html\" title=\"\\u6211\\u7684\\u66f8\\u67b6\" >\\u6211\\u7684\\u66f8\\u67b6</a></li>\\r\\n<li><a href=\"http://tw.piaotian.cc/top/allvisit/1/\">\\u95b1\\u8b80\\u699c</a><span class=\"icon_hot\">\\u71b1</span></li>\\r\\n<li><a href=\"http://tw.piaotian.cc/top/allvote/1/\">\\u63a8\\u85a6\\u699c</a><span class=\"icon_hot\">\\u71b1</span></li>\\r\\n<li><a href=\"http://tw.piaotian.cc/top/goodnum/1/\">\\u6536\\u85cf\\u699c</a><span class=\"icon_hot\">\\u71b1</span></li>\\r\\n<li><a href=\"http://tw.piaotian.cc/top/size/1/\">\\u5b57\\u6578\\u699c</a><span class=\"icon_hot\">\\u71b1</span></li>\\r\\n\\r\\n\\t\\t\\t\\t</ul>\\r\\n\\t\\t\\t</div>\\r\\n\\t\\t</div>\\r\\n\\t\\t<div class=\"tagdh_02\"><span></span>\\r\\n\\t\\t\\t<ul>\\r\\n<li><a href=\"http://tw.piaotian.cc/class/1/1/\" >\\u7384\\u5e7b\\u9b54\\u6cd5</a></li> \\r\\n<li><a href=\"http://tw.piaotian.cc/class/2/1/\" >\\u6b66\\u4fe0\\u4fee\\u771f</a></li> \\r\\n<li><a href=\"http://tw.piaotian.cc/class/3/1/\" >\\u90fd\\u5e02\\u8a00\\u60c5</a></li> \\r\\n<li><a href=\"http://tw.piaotian.cc/class/4/1/\" >\\u6b77\\u53f2\\u8ecd\\u4e8b</a></li> \\r\\n<li><a href=\"http://tw.piaotian.cc/class/5/1/\" >\\u5075\\u63a2\\u63a8\\u7406</a></li> \\r\\n<li><a href=\"http://tw.piaotian.cc/class/6/1/\" >\\u7db2\\u6e38\\u52d5\\u6f2b</a></li> \\r\\n<li><a href=\"http://tw.piaotian.cc/class/7/1/\" >\\u79d1\\u5e7b\\u5c0f\\u8aaa</a></li> \\r\\n<li><a href=\"http://tw.piaotian.cc/class/8/1/\" >\\u6050\\u6016\\u9748\\u7570</a></li> \\r\\n<li><a href=\"http://tw.piaotian.cc/class/9/1/\" >\\u6563\\u6587\\u8a69\\u8a5e</a></li> \\r\\n<li><a href=\"http://tw.piaotian.cc/class/10/1/\" >\\u5176\\u4ed6\\u985e\\u578b</a></li>\\r\\n\\r\\n\\r\\n\\t\\t\\t</ul>\\r\\n\\t\\t</div>\\r\\n\\t\\t\\r\\n\\t\\t<div class=\"tagdh_04\">\\r\\n\\r\\n\\r\\n\\t</div>\\r\\n</div>\\r\\n</div>\\r\\n\\r\\n<body id=\"nv_forum\" class=\"pg_read\" >\\r\\n\\r\\n<div id=\"wp\" class=\"wp\">\\r\\n<div id=\"pt\" class=\"bm cl\">\\r\\n<div id=\"sc\" class=\"y\">\\r\\n<table cellpadding=\"0\" cellspacing=\"0\">\\r\\n<tbody><tr>\\r\\n<script type=\"text/javascript\">document.write(\\'<td><select name=novelbgcolor id=novelbgcolor onchange=\"javascript:document.getElementById(\\\\\\'content\\\\\\').style.backgroundColor=this.options[this.selectedIndex].value;\" class=\"novel_set\"><option value=\"#E9FAFF\">\\u95b1\\u8b80\\u5e95\\u8272</option><option value=\"#E9FAFF\" style=\"background-color: #E9FAFF\">\\u6de1\\u85cd\\u6d77\\u6d0b</option><option value=\"#FFFFED\" style=\"background-color: #FFFFED\">\\u660e\\u9ec3\\u6e05\\u4fca</option><option value=\"#eefaee\" style=\"background-color: #eefaee\">\\u7da0\\u610f\\u6de1\\u96c5</option><option value=\"#FCEFFF\" style=\"background-color: #FCEFFF\">\\u7d05\\u7c89\\u4e16\\u5bb6</option><option value=\"#ffffff\" style=\"background-color: #ffffff\">\\u767d\\u96ea\\u5929\\u5730</option><option value=\"#F8F8F8\" style=\"background-color: #F8F8F8\">\\u7070\\u8272\\u4e16\\u754c</option></select></td><td><select name=txtcolor id=txtcolor onchange=\"javascript:document.getElementById(\\\\\\'content\\\\\\').style.color=this.options[this.selectedIndex].value;\" class=\"novel_set\"><option value=\"#000000\">\\u5b57\\u9ad4\\u984f\\u8272</option><option value=\"#ff0000\">\\u7d05\\u8272</option><option value=\"#006600\">\\u7da0\\u8272</option><option value=\"#0000ff\">\\u85cd\\u8272</option><option value=\"#660000\">\\u68d5\\u8272</option><option value=\"#000000\">\\u9ed1\\u8272</option></select></td><td><select name=fonttype id=fonttype onchange=\"javascript:document.getElementById(\\\\\\'content\\\\\\').style.fontSize=this.options[this.selectedIndex].value;\" class=\"novel_set\"><option value=\"10.5pt\">\\u5b57\\u9ad4\\u5927\\u5c0f</option><option value=\"9pt\">\\u5c0f</option><option value=\"10.5pt\">\\u4e2d</option><option value=\"12pt\">\\u4e2d\\u5927</option><option value=\"14pt\">\\u5927</option><option value=\"16pt\">\\u5f88\\u5927</option><option value=\"18pt\">\\u66f4\\u5927</option> </select></td><td><select name=scrollspeed id=scrollspeed onchange=\"javascript:setSpeed();\" class=\"novel_set\"><option value=\"5\">\\u6efe\\u5c4f\\u901f\\u5ea6</option><option value=\"1\">\\u61621</option><option value=\"2\">\\u61622</option><option value=\"3\">\\u61623</option><option value=\"4\">\\u4e2d4</option><option value=\"5\">\\u4e2d5</option><option value=\"6\">\\u4e2d6</option><option value=\"7\">\\u5feb7</option><option value=\"8\">\\u5feb8</option><option value=\"9\">\\u5feb9</option></select></td><td><button name=\"saveset\" id=\"saveset\" type=\"submit\" value=\"\\u4fdd\\u5b58\\u8a2d\\u7f6e\" class=\"xw1\" onclick=\"javascript:saveSet();\">\\u4fdd\\u5b58</button></td>\\');</script>\\r\\n</tr></tbody>\\r\\n</table>\\r\\n</div>\\r\\n<div class=\"z\" style=\"width:550px; height:32px; overflow:hidden\">\\r\\n<a href=\"http://tw.piaotian.cc\" class=\"nvhm\" title=\"\\u98c4\\u5929\\u6587\\u5b78\">\\u98c4\\u5929\\u6587\\u5b78</a> <em>&rsaquo;</em> <a href=\"http://tw.piaotian.cc/modules/article/\">\\u66f8\\u5eab</a> <em>&rsaquo;</em> <a href=\"/class/6/1/\">\\u7db2\\u6e38\\u52d5\\u6f2b</a> <em>&rsaquo;</em> <a href=\"/read/25640/index.html\">\\u91cd\\u751f\\u4e4b\\u6700\\u5f37\\u528d\\u795e</a> <em>&rsaquo;</em> \\u7b2c1009\\u7ae0 \\u6708\\u795e\\u6cd5\\u888d\\r\\n</div>\\r\\n</div>\\r\\n<div class=\"bm novel\" id=\"content\">\\r\\n<div class=\"novel_head\">\\r\\n<h1 class=\"novel_title\"> \\u7b2c1009\\u7ae0 \\u6708\\u795e\\u6cd5\\u888d</h1>\\r\\n<p class=\"novel_info\">\\r\\n\\u5c0f\\u8aaa\\ufe30<a href=\"/read/25640/index.html\" target=\"_blank\">\\u91cd\\u751f\\u4e4b\\u6700\\u5f37\\u528d\\u795e</a><span class=\"pipe\">|</span>\\r\\n\\u4f5c\\u8005\\ufe30<a href=\"http://tw.piaotian.cc/modules/article/authorarticle.php?author=\\u5929\\u904b\\u8001\\u8c93\" target=\"_blank\">\\u5929\\u904b\\u8001\\u8c93</a><span class=\"pipe\">|</span>\\r\\n\\u985e\\u5225\\ufe30\\u7db2\\u6e38\\u52d5\\u6f2b\\r\\n</p>\\r\\n</div>\\r\\n<div class=\"novel_content\"><script language=\"javascript\" type=\"text/javascript\" src=\"/js/ad01.js\"></script>\\r&nbsp;&nbsp;&nbsp;&nbsp;\\u661f\\u6708\\u738b\\u57ce\\u5a01\\u56b4\\u7684\\u5929\\u846c\\u99d0\\u5730\\u5167\\uff0c\\u5927\\u6279\\u5927\\u6279\\u7684\\u81ea\\u7531\\u73a9\\u5bb6\\u532f\\u805a\\u5728\\u5927\\u9580\\u524d\\uff0c\\u4e00\\u500b\\u500b\\u90fd\\u975c\\u975c\\u5728\\u7b49\\u5019\\u5929\\u846c\\u516c\\u6703\\u7684\\u5165\\u6703\\u5be9\\u6838\\u3002( \\u65b0\\u98c4\\u5929\\u6587\\u5b78\\u3000tw.piaotian.cc )<br />\\r\\n<br />\\r\\n&nbsp;&nbsp;&nbsp;&nbsp;\\u9019\\u7a2e\\u4e8b\\u60c5\\u5728\\u4ee5\\u524d\\u7684\\u5929\\u846c\\u516c\\u6703\\u4f86\\u8aaa\\u6839\\u672c\\u4e0d\\u6562\\u60f3\\u8c61\\uff0c\\u4f46\\u662f\\u73fe\\u5728\\u5df2\\u7d93\\u6210\\u70ba\\u4e86\\u661f\\u6708\\u738b\\u57ce\\u7684\\u4e00\\u9053\\u98a8\\u666f\\u7dda\\uff0c\\u773e\\u4eba\\u90fd\\u7fd2\\u4ee5\\u70ba\\u5e38\\u3002<br />\\r\\n<br />\\r\\n&nbsp;&nbsp;&nbsp;&nbsp;\\u5c31\\u5728\\u81ea\\u7531\\u73a9\\u5bb6\\u5011\\u9ed8\\u9ed8\\u7b49\\u5f85\\u6642\\uff0c\\u7a81\\u7136\\u5927\\u8857\\u4e0a\\u97ff\\u8d77\\u6e05\\u8106\\u7684\\u5636\\u9cf4\\u8072\\uff0c\\u773e\\u4eba\\u7d1b\\u7d1b\\u671b\\u53bb\\u3002<br />\\r\\n<br />\\r\\n&nbsp;&nbsp;&nbsp;&nbsp;\\u201c\\u54c7\\uff0c\\u597d\\u591a\\u5750\\u9a0e\\uff01\\u201d<br />\\r\\n<br />\\r\\n&nbsp;&nbsp;&nbsp;&nbsp;\\u201c\\u9019\\u4e9b\\u61c9\\u8a72\\u4e0d\\u662f\\u666e\\u901a\\u5750\\u9a0e\\u5427\\uff01\\u201d<br />\\r\\n<br />\\r\\n&nbsp;&nbsp;&nbsp;&nbsp;\\u201c\\u9019\\u61c9\\u8a72\\u662f\\u6230\\u99ac\\u5427\\uff01\\u542c\\u8aaa\\u6230\\u99ac\\u81f3\\u5c11\\u4e5f\\u662f\\u9752\\u9285\\u7d1a\\u5750\\u9a0e\\uff0c\\u5929\\u846c\\u516c\\u6703\\u4e5f\\u592a\\u53b2\\u5bb3\\u4e86\\uff0c\\u7adf\\u7136\\u80fd\\u5f04\\u5230\\u9019\\u9ebc\\u591a\\u6230\\u99ac\\u3002\\u201d<br />\\r\\n<br />\\r\\n&nbsp;&nbsp;&nbsp;&nbsp;\\u201c\\u6211\\u4e00\\u5b9a\\u8981\\u52a0\\u5165\\u5929\\u846c\\u516c\\u6703\\uff0c\\u5230\\u6642\\u5019\\u5f97\\u5230\\u4e00\\u6279\\u9752\\u9285\\u7d1a\\u6230\\u99ac\\uff0c\\u4e5f\\u7b97\\u6c92\\u6709\\u767d\\u73a9\\u795e\\u57df\\u4e86\\u3002\\u201d<br />\\r\\n<br />\\r\\n&nbsp;&nbsp;&nbsp;&nbsp;\\u53ea\\u898b\\u5341\\u591a\\u540d\\u9a0e\\u8457\\u4e0d\\u540c\\u7a2e\\u985e\\u6230\\u99ac\\u7684\\u73a9\\u5bb6\\u9032\\u5165\\u4e86\\u5929\\u846c\\u516c\\u6703\\u5167\\uff0c\\u773e\\u4eba\\u662f\\u770b\\u7684\\u7fa8\\u6155\\u4e0d\\u5df2\\uff0c\\u5c24\\u5176\\u662f\\u9818\\u968a\\u7684\\u4e00\\u4f4d\\u82f1\\u59ff\\u98af\\u723d\\u7684\\u7f8e\\u8277\\u5973\\u5b50\\uff0c\\u8b93\\u773e\\u4eba\\u4e45\\u4e45\\u4e0d\\u80fd\\u5fd8\\u61f7\\u3002<br />\\r\\n<br />\\r\\n&nbsp;&nbsp;&nbsp;&nbsp;\\u9019\\u4f4d\\u7f8e\\u8277\\u5973\\u5b50\\u4e0d\\u50c5\\u6709\\u8457\\u4e00\\u8eab\\u6975\\u54c1\\u88dd\\u5099\\uff0c\\u9a0e\\u8457\\u7684\\u96ea\\u767d\\u8272\\u6230\\u99ac\\u9084\\u7a7f\\u8457\\u767d\\u9280\\u93a7\\u7532\\uff0c\\u4eff\\u4f5b\\u5973\\u795e\\u4e0b\\u51e1\\uff0c\\u660e\\u8277\\u52d5\\u4eba\\u3002<br />\\r\\n<br />\\r\\n&nbsp;&nbsp;&nbsp;&nbsp;\\u800c\\u9019\\u4f4d\\u5973\\u795e\\u7684\\u540d\\u5b57\\u5728\\u661f\\u6708\\u738b\\u57ce\\u66f4\\u662f\\u7121\\u4eba\\u4e0d\\u77e5\\u3002<br />\\r\\n<br />\\r\\n&nbsp;&nbsp;&nbsp;&nbsp;\\u51b0\\u4e4b\\u9b54\\u5973\\u9727\\u971e\\uff01<br />\\r\\n<br />\\r\\n&nbsp;&nbsp;&nbsp;&nbsp;\\u4e4b\\u6240\\u6709\\u9019\\u6a23\\u7684\\u540d\\u865f\\uff0c\\u5b8c\\u5168\\u662f\\u56e0\\u70ba\\u5728\\u9727\\u971e\\u4e4b\\u524d\\u4e00\\u500b\\u4eba\\u5c31\\u5728\\u526f\\u672c\\u9580\\u53e3\\u5e72\\u6389\\u4e86\\u4e00\\u500b\\u661f\\u6cb3\\u806f\\u76df\\u7684\\u767e\\u4eba\\u7cbe\\u82f1\\u5718\\uff0c\\u4e4b\\u5f8c\\u661f\\u6cb3\\u806f\\u76df\\u4e5f\\u6d3e\\u51fa\\u4e86\\u4e0d\\u5c11\\u9ad8\\u624b\\uff0c\\u5176\\u4e2d\\u9084\\u6709\\u98a8\\u96f2\\u9ad8\\u624b\\u699c\\u4e0a\\u6709\\u540d\\u7684\\u8d64\\u7fbd\\u3002<br />\\r\\n<br />\\r\\n&nbsp;&nbsp;&nbsp;&nbsp;\\u53ef\\u662f\\u6700\\u7d42\\u7684\\u7d50\\u679c\\u90fd\\u88ab\\u9727\\u971e\\u4e00\\u4eba\\u7d66\\u64ca\\u6557\\uff0c\\u751a\\u81f3\\u661f\\u6cb3\\u806f\\u76df\\u7684\\u5143\\u8001\\u8d64\\u7fbd\\u4e5f\\u88ab\\u9727\\u971e\\u89aa\\u624b\\u7d66\\u5e72\\u6389\\u3002<br />\\r\\n<br />\\r\\n&nbsp;&nbsp;&nbsp;&nbsp;\\u5c24\\u5176\\u662f\\u5728\\u5c0d\\u4ed8\\u661f\\u6cb3\\u806f\\u76df\\u6d3e\\u51fa\\u4f86\\u9ad8\\u624b\\u6642\\uff0c\\u9727\\u971e\\u64cd\\u63a7\\u51b0\\u4e4b\\u9b54\\u6cd5\\u7684\\u6280\\u5de7\\u7c21\\u76f4\\u51fa\\u795e\\u5165\\u5316\\uff0c\\u9084\\u7528\\u4e00\\u62db\\u51b0\\u7cfb\\u7684\\u5927\\u578b\\u6bc0\\u6ec5\\u9b54\\u6cd5\\u628a\\u6574\\u500b\\u526f\\u672c\\u5916\\u8b8a\\u6210\\u4e86\\u51b0\\u96ea\\u4e16\\u754c\\uff0c\\u7bc4\\u570d\\u5167\\u7684\\u73a9\\u5bb6\\u662f\\u6c92\\u6709\\u4e00\\u500b\\u751f\\u9084\\uff0c\\u56e0\\u70ba\\u88ab\\u4e00\\u4e9b\\u73a9\\u5bb6\\u5c0a\\u7a31\\u70ba\\u51b0\\u4e4b\\u9b54\\u5973\\u3002<br />\\r\\n<br />\\r\\n&nbsp;&nbsp;&nbsp;&nbsp;\\u800c\\u51b0\\u4e4b\\u9b54\\u5973\\u9019\\u500b\\u7a31\\u865f\\u4e5f\\u88ab\\u773e\\u4eba\\u6240\\u50b3\\u980c\\uff0c\\u4e45\\u800c\\u4e45\\u4e4b\\uff0c\\u661f\\u6708\\u738b\\u57ce\\u5167\\u7684\\u73a9\\u5bb6\\u90fd\\u628a\\u9727\\u971e\\u7a31\\u70ba\\u51b0\\u4e4b\\u9b54\\u5973\\u3002<br />\\r\\n<br />\\r\\n&nbsp;&nbsp;&nbsp;&nbsp;\\u201c\\u592a\\u7f8e\\u4e86\\uff0c\\u6211\\u4e00\\u5b9a\\u8981\\u52a0\\u5165\\u5929\\u846c\\u516c\\u6703\\uff0c\\u4e4b\\u5f8c\\u52a0\\u5165\\u6211\\u5973\\u795e\\u7684\\u9ebe\\u4e0b\\u3002\\u201d<br />\\r\\n<br />\\r\\n&nbsp;&nbsp;&nbsp;&nbsp;\\u201c\\u60f3\\u5f97\\u633a\\u7f8e\\uff0c\\u4f60\\u53ef\\u77e5\\u9053\\u9727\\u971e\\u5927\\u4eba\\u7d71\\u5e25\\u7684\\u53ef\\u662f\\u5929\\u846c\\u516c\\u6703\\u7684\\u51b0\\u9727\\u8ecd\\u5718\\uff0c\\u90a3\\u53ef\\u662f\\u53ea\\u6709\\u7cbe\\u82f1\\u4e2d\\u7684\\u7cbe\\u82f1\\u624d\\u6709\\u53ef\\u80fd\\u9032\\u53bb\\uff0c\\u4f60\\u73fe\\u5728\\u9023\\u6b63\\u5f0f\\u6210\\u54e1\\u90fd\\u4e0d\\u662f\\uff0c\\u9084\\u60f3\\u8981\\u9032\\u53bb\\uff0c\\u7c21\\u76f4\\u505a\\u5922\\u3002\\u201d<br />\\r\\n<br />\\r\\n&nbsp;&nbsp;&nbsp;&nbsp;\\u5728\\u773e\\u591a\\u81ea\\u7531\\u73a9\\u5bb6\\u4e2d\\uff0c\\u6709\\u4e0d\\u5c11\\u73a9\\u5bb6\\u5176\\u5be6\\u90fd\\u662f\\u88ab\\u9727\\u971e\\u7684\\u9b45\\u529b\\u6240\\u5f81\\u670d\\uff0c\\u624d\\u8dd1\\u4f86\\u5929\\u846c\\u516c\\u6703\\uff0c\\u8981\\u4e0d\\u7136\\u4ed6\\u5011\\u65e9\\u5c31\\u53bb\\u66f4\\u597d\\u7684\\u9ed1\\u6c34\\u516c\\u6703\\uff0c\\u7562\\u7adf\\u9ed1\\u6c34\\u516c\\u6703\\u7684\\u5f8c\\u53f0\\u53ef\\u662f\\u7121\\u4eba\\u4e0d\\u77e5\\u9053\\u7684\\u9ed1\\u6c34\\u5927\\u8ca1\\u5718\\uff0c\\u5f88\\u591a\\u60f3\\u8981\\u5728\\u683c\\u6597\\u754c\\u6df7\\u51fa\\u540d\\u7684\\u9078\\u624b\\uff0c\\u90a3\\u500b\\u4e0d\\u60f3\\u8457\\u52a0\\u5165\\u9ed1\\u6c34\\u8ca1\\u5718\\uff1f<br />\\r\\n<br />\\r\\n&nbsp;&nbsp;&nbsp;&nbsp;\\u2026\\u2026<br />\\r\\n<br />\\r\\n&nbsp;&nbsp;&nbsp;&nbsp;\\u201c\\u6703\\u9577\\uff0c\\u4f60\\u7a81\\u7136\\u627e\\u6211\\u5011\\u56de\\u4f86\\u662f\\u6709\\u4ec0\\u9ebc\\u4e8b\\u60c5\\u55ce\\uff1f\\u201d\\u9727\\u971e\\u8d70\\u9032\\u4e86\\u5929\\u846c\\u6703\\u8b70\\u5927\\u5ef3\\u5167\\uff0c\\u770b\\u8457\\u9ad8\\u5750\\u5728\\u6703\\u9577\\u5bf6\\u5ea7\\u4e0a\\u7684\\u4e00\\u856d\\u7368\\u846c\\uff0c\\u76ee\\u5149\\u4e2d\\u6eff\\u662f\\u7591\\u554f\\u3002<br />\\r\\n<br />\\r\\n&nbsp;&nbsp;&nbsp;&nbsp;\\u6b64\\u6642\\u5728\\u6703\\u8b70\\u5927\\u5ef3\\u5167\\u9084\\u5750\\u8457\\u516c\\u6703\\u7684\\u5f88\\u591a\\u9ad8\\u5c64\\uff0c\\u9664\\u4e86\\u751f\\u6d3b\\u8077\\u696d\\u7684\\u5e7e\\u4f4d\\u5927\\u5e2b\\uff0c\\u5176\\u4ed6\\u4eba\\u7684\\u7b49\\u7d1a\\u666e\\u904d\\u90fd\\u662f40\\u7d1a\\uff0c\\u9019\\u5834\\u9762\\u8b93\\u666e\\u901a\\u73a9\\u5bb6\\u770b\\u5230\\u90fd\\u8981\\u817f\\u8173\\u767c\\u8edf\\uff0c\\u56e0\\u70ba\\u5728\\u5834\\u768440\\u7d1a\\u9ad8\\u624b\\u91cc\\uff0c\\u6c92\\u6709\\u4e00\\u500b\\u4e0d\\u662f\\u661f\\u6708\\u738b\\u570b\\u91cc\\u7684\\u9802\\u7d1a\\u9ad8\\u624b\\uff0c\\u5927\\u516c\\u6703\\u7684\\u6703\\u9577\\u9047\\u898b\\u4e86\\u90fd\\u8981\\u656c\\u8b93\\u4e09\\u5206\\u3002<br />\\r\\n<br />\\r\\n&nbsp;&nbsp;&nbsp;&nbsp;\\u201c\\u5148\\u5750\\u4e0b\\u4f86\\uff0c\\u7b49\\u4e00\\u6703\\u81ea\\u7136\\u6703\\u544a\\u8a34\\u4f60\\uff01\\u201d\\u4e00\\u856d\\u7368\\u846c\\u6307\\u4e86\\u6307\\u7a7a\\u5728\\u4e00\\u65c1\\u7684\\u526f\\u6703\\u9577\\u5bf6\\u5ea7\\u3002<br />\\r\\n<br />\\r\\n&nbsp;&nbsp;&nbsp;&nbsp;\\u9727\\u971e\\u542c\\u5230\\u4e00\\u856d\\u7368\\u846c\\u9019\\u9ebc\\u8aaa\\uff0c\\u5fc3\\u4e2d\\u66f4\\u662f\\u8a6b\\u7570\\u4e86\\u3002<br />\\r\\n<br />\\r\\n&nbsp;&nbsp;&nbsp;&nbsp;\\u5728\\u5834\\u773e\\u4eba\\u5dee\\u4e0d\\u591a\\u5df2\\u7d93\\u662f\\u5929\\u846c\\u516c\\u6703\\u7684\\u5168\\u90e8\\u9ad8\\u5c64\\uff0c\\u6709\\u4e9b\\u4eba\\u662f\\u56e0\\u70ba\\u5728\\u8655\\u7406\\u91cd\\u8981\\u4e8b\\u60c5\\uff0c\\u6240\\u4ee5\\u4e0d\\u80fd\\u4f86\\uff0c\\u53ef\\u662f\\u6703\\u9577\\u4e00\\u856d\\u7368\\u846c\\u7684\\u610f\\u601d\\uff0c\\u5979\\u5011\\u9084\\u8981\\u7b49\\u4eba\\u3002<br />\\r\\n<br />\\r\\n&nbsp;&nbsp;&nbsp;&nbsp;\\u201c\\u9019\\u662f\\u600e\\u9ebc\\u56de\\u4e8b\\uff1f\\u201d<br />\\r\\n<br />\\r\\n&nbsp;&nbsp;&nbsp;&nbsp;\\u5728\\u9727\\u971e\\u8d70\\u5230\\u81ea\\u5df1\\u7684\\u526f\\u6703\\u9577\\u4f5c\\u70ba\\u65c1\\u908a\\u6642\\uff0c\\u7a81\\u7136\\u767c\\u73fe\\u5728\\u6703\\u9577\\u8eab\\u65c1\\u9084\\u6709\\u4e00\\u500b\\u7a7a\\u8457\\u7684\\u5ea7\\u4f4d\\uff0c\\u9019\\u500b\\u5ea7\\u4f4d\\u7adf\\u7136\\u8ddf\\u6703\\u9577\\u7684\\u5ea7\\u4f4d\\u4e26\\u5217\\u2026\\u2026<br />\\r\\n<br />\\r\\n&nbsp;&nbsp;&nbsp;&nbsp;\\u5176\\u5be6\\u6574\\u500b\\u6703\\u8b70\\u5927\\u5ef3\\u5167\\uff0c\\u4e0d\\u6b62\\u9727\\u971e\\u4e00\\u500b\\u4eba\\u6709\\u9019\\u6a23\\u7684\\u7591\\u554f\\uff0c\\u6240\\u6709\\u4eba\\u90fd\\u6709\\u3002<br />\\r\\n<br />\\r\\n&nbsp;&nbsp;&nbsp;&nbsp;\\u4e00\\u856d\\u7368\\u846c\\u53ef\\u662f\\u4ed6\\u5011\\u5929\\u846c\\u516c\\u6703\\u552f\\u4e00\\u7684\\u8001\\u5927\\uff0c\\u540c\\u6642\\u4e5f\\u662f\\u4e00\\u500b\\u4eba\\u7368\\u638c\\u6574\\u500b\\u516c\\u6703\\uff0c\\u6839\\u672c\\u4e0d\\u53ef\\u80fd\\u6709\\u4eba\\u80fd\\u8ddf\\u4e00\\u856d\\u7368\\u846c\\u5e73\\u9f4a\\u5e73\\u5750\\uff0c\\u9019\\u4e00\\u9ede\\u5c31\\u7b97\\u662f\\u9ed1\\u6c34\\u516c\\u6703\\u7684\\u73fe\\u4efb\\u6703\\u9577\\u68c4\\u4e00\\u6fe4\\u90fd\\u4e0d\\u884c\\u3002<br />\\r\\n<br />\\r\\n&nbsp;&nbsp;&nbsp;&nbsp;\\u5c31\\u5728\\u773e\\u4eba\\u5145\\u6eff\\u7591\\u60d1\\u7684\\u7b49\\u5f85\\u4e86\\u5341\\u591a\\u5206\\u9418\\u5f8c\\uff0c\\u6703\\u8b70\\u5927\\u5ef3\\u7684\\u539a\\u91cd\\u77f3\\u9580\\u8f5f\\u7136\\u6253\\u958b\\u3002<br />\\r\\n<br />\\r\\n&nbsp;&nbsp;&nbsp;&nbsp;\\u201c\\u5979\\u662f\\u8ab0\\uff1f\\u201d<br />\\r\\n<br />\\r\\n&nbsp;&nbsp;&nbsp;&nbsp;\\u773e\\u4eba\\u7d1b\\u7d1b\\u628a\\u76ee\\u5149\\u6295\\u5411\\u5f9e\\u5927\\u9580\\u5916\\u8d70\\u9032\\u4f86\\u7684\\u4eba\\uff0c\\u53ef\\u662f\\u7a81\\u7136\\u767c\\u73fe\\u8d70\\u9032\\u4f86\\u7684\\u4eba\\u7adf\\u7136\\u662f\\u4e00\\u4f4d\\u7d55\\u4e16\\u7f8e\\u5973\\uff0c\\u9019\\u4f4d\\u5149\\u8277\\u903c\\u4eba\\u7684\\u5e74\\u8f15\\u5973\\u5b50\\u7a7f\\u8457\\u4e00\\u8972\\u7d2b\\u8272\\u7684\\u83ef\\u8cb4\\u9577\\u888d\\u6563\\u843d\\u5728\\u5730\\uff0c\\u628a\\u66fc\\u5999\\u7684\\u66f2\\u7dda\\u51f8\\u986f\\u7684\\u6dcb\\u7055\\u76e1\\u81f4\\uff0c\\u4e09\\u5343\\u9752\\u7d72\\u6ed1\\u843d\\u5728\\u828a\\u7d30\\u7684\\u8170\\u9593\\uff0c\\u6bcf\\u9081\\u51fa\\u4e00\\u6b65\\u90fd\\u4eff\\u4f5b\\u8e29\\u8457\\u773e\\u4eba\\u7684\\u5fc3\\u8072\\uff0c\\u8b93\\u6240\\u6709\\u4eba\\u90fd\\u4e0d\\u7531\\u81ea\\u4e3b\\u7684\\u770b\\u4e0b\\u904e\\u53bb\\u3002<br />\\r\\n<br />\\r\\n&nbsp;&nbsp;&nbsp;&nbsp;\\u201c\\u600e\\u9ebc\\u6703\\u6709\\u9019\\u6a23\\u7684\\u4eba\\uff1f\\u201d\\u9727\\u971e\\u4e5f\\u662f\\u7f8e\\u7738\\u5927\\u775c\\uff0c\\u6c92\\u60f3\\u5230\\u4e16\\u754c\\u4e0a\\u9084\\u6709\\u9019\\u6a23\\u7684\\u5973\\u5b50\\uff0c\\u5c31\\u9023\\u5979\\u770b\\u4e86\\u90fd\\u611f\\u89ba\\u81ea\\u5606\\u4e0d\\u5982\\u5f88\\u662f\\u5fc3\\u52d5\\u3002<br />\\r\\n<br />\\r\\n&nbsp;&nbsp;&nbsp;&nbsp;\\u56e0\\u70ba\\u9019\\u500b\\u5e74\\u8f15\\u5973\\u5b50\\u7684\\u51fa\\u73fe\\uff0c\\u4eff\\u4f5b\\u9019\\u7247\\u7a7a\\u9593\\u90fd\\u662f\\u4ee5\\u9019\\u4f4d\\u5e74\\u8f15\\u5973\\u5b50\\u70ba\\u4e2d\\u5fc3\\u2026\\u2026<br />\\r\\n<br />\\r\\n&nbsp;&nbsp;&nbsp;&nbsp;\\u201c\\u9019\\u4ef6\\u8863\\u670d\\u4e0d\\u662f\\u6708\\u795e\\u6cd5\\u888d\\u55ce\\uff1f\\u201d\\u7267\\u5e2b\\u708e\\u8840\\u770b\\u5230\\u5e74\\u8f15\\u5973\\u5b50\\u8eab\\u4e0a\\u7684\\u83ef\\u8cb4\\u7d2b\\u888d\\uff0c\\u9707\\u9a5a\\u9053\\u3002<br />\\r\\n<br />\\r\\n&nbsp;&nbsp;&nbsp;&nbsp;\\u5176\\u4ed6\\u4eba\\u542c\\u5230\\u708e\\u8840\\u9019\\u9ebc\\u8aaa\\uff0c\\u4e5f\\u90fd\\u4e0d\\u7531\\u4e00\\u9707\\u3002<br />\\r\\n<br />\\r\\n&nbsp;&nbsp;&nbsp;&nbsp;\\u6708\\u795e\\u6cd5\\u888d\\u9019\\u6771\\u897f\\u5c0d\\u4e8e\\u666e\\u901a\\u73a9\\u5bb6\\u4f86\\u8aaa\\u4e5f\\u8a31\\u4e0d\\u77e5\\u9053\\u662f\\u4ec0\\u9ebc\\u6771\\u897f\\uff0c\\u4f46\\u662f\\u5728\\u9ed1\\u7ffc\\u57ce\\u9ad8\\u7d1a\\u62cd\\u8ce3\\u6703\\u4e0a\\u53ef\\u662f\\u76f8\\u7576\\u51fa\\u540d\\uff0c\\u4f5c\\u70ba\\u4e00\\u4ef6\\u53f2\\u8a69\\u7d1a\\u6cd5\\u888d\\uff0c\\u5149\\u662f\\u62cd\\u8ce3\\u7684\\u5e95\\u50f9\\u5c31\\u6709\\u56db\\u5343\\u91d1\\uff0c\\u5df2\\u7d93\\u80fd\\u6bd4\\u64ec\\u53f2\\u8a69\\u7d1a\\u6b66\\u5668\\u4e86\\uff0c\\u800c\\u6700\\u7d42\\u88ab\\u662f\\u4e00\\u4f4d\\u795e\\u79d8\\u73a9\\u5bb6\\u82b1\\u8cbb\\u4e86\\u4e03\\u5343\\u516d\\u767e\\u91d1\\u8cb7\\u8d70\\u3002<br />\\r\\n<br />\\r\\n&nbsp;&nbsp;&nbsp;&nbsp;\\u7576\\u6642\\u5f88\\u591a\\u73a9\\u5bb6\\u90fd\\u6065\\u7b11\\u9019\\u500b\\u795e\\u79d8\\u73a9\\u5bb6\\uff0c\\u7adf\\u7136\\u82b1\\u8cbb\\u9019\\u9ebc\\u591a\\u9322\\u8ddf\\u8cb4\\u65cfnpc\\u53bb\\u722d\\u596a\\u4e00\\u4ef6\\u53f2\\u8a69\\u7d1a\\u8863\\u670d\\uff0c\\u660e\\u660e\\u53ea\\u8981\\u5728\\u586b\\u4e00\\u4e9b\\u91d1\\u5e63\\u90fd\\u53ef\\u4ee5\\u8cb7\\u4e0b\\u5927\\u57ce\\u5e02\\u7684\\u9ec3\\u91d1\\u5730\\u76ae\\uff0c\\u5230\\u6642\\u5019\\u600e\\u9ebc\\u4e5f\\u662f\\u4e00\\u672c\\u842c\\u5229\\u3002<br />\\r\\n<br />\\r\\n&nbsp;&nbsp;&nbsp;&nbsp;\\u6c92\\u60f3\\u5230\\u8cfc\\u8cb7\\u6708\\u795e\\u6cd5\\u888d\\u7684\\u4eba\\u7adf\\u7136\\u5c31\\u662f\\u9019\\u4f4d\\u7d55\\u4e16\\u7f8e\\u5973\\u3002<br />\\r\\n<br />\\r\\n&nbsp;&nbsp;&nbsp;&nbsp;\\u9813\\u6642\\u773e\\u4eba\\u90fd\\u958b\\u555f\\u4e86\\u89c0\\u5bdf\\u6280\\u80fd\\uff0c\\u60f3\\u8981\\u5c0d\\u9019\\u500b\\u7d55\\u4e16\\u7f8e\\u5973\\u4e00\\u770b\\u7a76\\u7adf\\u3002<br />\\r\\n<br />\\r\\n&nbsp;&nbsp;&nbsp;&nbsp;\\u53ef\\u662f\\u7a81\\u7136\\u767c\\u73fe\\uff0c\\u54ea\\u6015\\u662f\\u9ad8\\u7d1a\\u89c0\\u5bdf\\u6280\\u80fd\\uff0c\\u7adf\\u7136\\u4e5f\\u8b80\\u53d6\\u4e0d\\u51fa\\u4efb\\u4f55\\u4fe1\\u606f\\u3002<br />\\r\\n<br />\\r\\n&nbsp;&nbsp;&nbsp;&nbsp;\\u201c\\u4e0d\\u597d\\u610f\\u601d\\uff0c\\u56e0\\u70ba\\u4e00\\u4e9b\\u4e8b\\u60c5\\u4f86\\u665a\\u4e86\\u3002\\u201d\\u5e74\\u8f15\\u5973\\u5b50\\u5728\\u5750\\u4e0b\\u4f86\\u5f8c\\uff0c\\u770b\\u8457\\u773e\\u4eba\\u8f15\\u8072\\u8aaa\\u9053\\u3002<br />\\r\\n<br />\\r\\n&nbsp;&nbsp;&nbsp;&nbsp;\\u201c\\u597d\\u4e86\\uff0c\\u65e2\\u7136\\u4eba\\u90fd\\u9f4a\\u4e86\\uff0c\\u90a3\\u6211\\u5c31\\u4ecb\\u7d39\\u4e00\\u4e0b\\uff0c\\u9019\\u4f4d\\u662f\\u9ed1\\u6c34\\u8ca1\\u5718\\u7684\\u4ee3\\u8868\\u51cc\\u975c\\u8431\\u5c0f\\u59d0\\uff0c\\u9019\\u6b21\\u4f86\\u4e3b\\u8981\\u662f\\u8aaa\\u660e\\u4e00\\u4e0b\\u653b\\u7565\\u77f3\\u6797\\u5c0f\\u93ae\\u7684\\u4e8b\\u60c5\\u3002\\u201d\\u4e00\\u856d\\u7368\\u846c\\u70ba\\u773e\\u4eba\\u4ecb\\u7d39\\u4e86\\u4e00\\u4e0b\\uff0c\\u4e0d\\u904e\\u8a00\\u8a9e\\u4e2d\\u5c0d\\u51cc\\u975c\\u8431\\u7684\\u656c\\u754f\\uff0c\\u5c31\\u7b97\\u662f\\u9727\\u971e\\u7b49\\u4eba\\u90fd\\u770b\\u5f97\\u51fa\\u4f86\\u3002<br />\\r\\n<br />\\r\\n&nbsp;&nbsp;&nbsp;&nbsp;\\u96d6\\u7136\\u53ea\\u662f\\u7c21\\u55ae\\u7684\\u4ecb\\u7d39\\uff0c\\u4f46\\u662f\\u5728\\u5834\\u773e\\u4eba\\u90fd\\u88ab\\u93ae\\u4f4f\\u4e86\\u3002<br />\\r\\n<br />\\r\\n&nbsp;&nbsp;&nbsp;&nbsp;\\u5149\\u662f\\u6703\\u9577\\u5c0d\\u51cc\\u975c\\u8431\\u7684\\u656c\\u754f\\u5c31\\u7b97\\u4e86\\uff0c\\u6c92\\u60f3\\u5230\\u4ed6\\u5011\\u8981\\u8a0e\\u8ad6\\u7684\\u4e8b\\u60c5\\u7adf\\u7136\\u662f\\u8981\\u62ff\\u4e0b\\u77f3\\u6797\\u5c0f\\u93ae\\u2026\\u2026<br />\\r\\n<br />\\r\\n&nbsp;&nbsp;&nbsp;&nbsp;\\u6b63\\u7248\\u8a02\\u95b1\\u5728\\u95b1\\u6587\\u65d7\\u4e0b\\u7684\\u8d77\\u9ede\\uff0c\\u53ef\\u4ee5\\u7b2c\\u4e00\\u6642\\u9593\\u770b\\u5230\\u6700\\u65b0\\u7ae0\\u7bc0(\\u672a\\u5b8c\\u5f85\\u7e8c\\u3002)\\r\\n </div>\\r\\n<div class=\"novel_bottom\"> <script language=\"javascript\" type=\"text/javascript\" src=\"/js/ad02.js\"></script>\\r(\\u5feb\\u6377\\u9375\\u2190)[<a href=\"/read/25640/15879350.html\">\\u4e0a\\u4e00\\u7ae0</a>]&nbsp;&nbsp;[<a href=\"/read/25640/index.html\">\\u56de\\u76ee\\u9304</a>]&nbsp;&nbsp;[<a href=\"/read/25640/15887701.html\">\\u4e0b\\u4e00\\u7ae0</a>](\\u5feb\\u6377\\u9375\\u2192)\\r\\n</div> \\r\\n<div class=\"novel_bottom\"> <br><font color=\"red\">\\u5982\\u679c\\u60a8\\u4e2d\\u9014\\u6709\\u4e8b\\u96e2\\u958b\\uff0c\\u8acb\\u6309CTRL+D\\u9375\\u4fdd\\u5b58\\u7576\\u524d\\u9801\\u9762\\u81f3\\u6536\\u85cf\\u593e\\uff0c\\u4ee5\\u4fbf\\u4ee5\\u5f8c\\u63a5\\u8457\\u89c0\\u770b\\uff01</font><br> <a href=\"/read/25640/index.html\"><b>\\u91cd\\u751f\\u4e4b\\u6700\\u5f37\\u528d\\u795e</b></a> | <a href=\"/read/25640/index.html\"><b>\\u91cd\\u751f\\u4e4b\\u6700\\u5f37\\u528d\\u795e\\u6700\\u65b0\\u7ae0\\u7bc0</b></a>\\r\\n<br />[<a href=\"/modules/article/addbookcase.php?bid=25640&cid=15883417\" target=\"_blank\"><FONT color=\"#0000FF\">\\u52a0\\u5165\\u66f8\\u7c3d</FONT></a>] &nbsp; &nbsp; \\r\\n[<a href=\"/bookcase.html\" target=\"_blank\">\\u6253\\u958b\\u66f8\\u67b6</a>] &nbsp; &nbsp; \\r\\n\\r\\n[<a href=\"/newmessage.php?tosys=1&amp;title=\\u554f\\u984c-\\u91cd\\u751f\\u4e4b\\u6700\\u5f37\\u528d\\u795e&amp;content=\\u5c0f\\u8aaa\\u300a\\u91cd\\u751f\\u4e4b\\u6700\\u5f37\\u528d\\u795e\\u300b\\u7684  \\u7b2c1009\\u7ae0 \\u6708\\u795e\\u6cd5\\u888d\\u554f\\u984c\\u5982\\u4e0b\\ufe30\" target=\"_blank\">\\u932f\\u8aa4\\u5831\\u544a</a>] &nbsp; &nbsp; \\r\\n[<a href=\"/modules/article/uservote.php?id=25640\" target=\"_blank\">\\u6295\\u7968\\u63a8\\u85a6</a>]\\r</div> \\r\\n</div>\\r\\n</div>\\r\\n<script type=\"text/javascript\">\\r\\nvar speed = 5;\\r\\nvar currentpos=1;\\r\\nvar timer;\\r\\nvar novelbgcolor=document.getElementById(\\'novelbgcolor\\');\\r\\nvar txtcolor=document.getElementById(\\'txtcolor\\');\\r\\nvar fonttype=document.getElementById(\\'fonttype\\');\\r\\nvar scrollspeed=document.getElementById(\\'scrollspeed\\');\\r\\nfunction setSpeed()\\r\\n{\\r\\nspeed = parseInt(scrollspeed.value);\\t\\r\\n}\\r\\n\\r\\nfunction stopScroll()\\r\\n{\\r\\n    clearInterval(timer);\\r\\n}\\r\\n\\r\\nfunction beginScroll()\\r\\n{\\r\\ntimer=setInterval(\"scrolling()\",300/speed);\\r\\n}\\r\\n\\r\\nfunction scrolling()\\r\\n{\\r\\nvar currentpos = window.pageYOffset || document.documentElement.scrollTop || document.body.scrollTop || 0;\\r\\n    window.scroll(0, ++currentpos);\\r\\nvar nowpos = window.pageYOffset || document.documentElement.scrollTop || document.body.scrollTop || 0;\\r\\n    if(currentpos != nowpos) clearInterval(timer);\\r\\n}\\r\\n\\r\\nfunction setCookies(cookieName,cookieValue, expirehours)\\r\\n{\\r\\n  var today = new Date();\\r\\n  var expire = new Date();\\r\\n  expire.setTime(today.getTime() + 3600000 * 356 * 24);\\r\\n  document.cookie = cookieName+\\'=\\'+escape(cookieValue)+ \\';expires=\\'+expire.toGMTString()+\\'; path=/\\';\\r\\n}\\r\\nfunction ReadCookies(cookieName)\\r\\n{\\r\\nvar theCookie=\\'\\'+document.cookie;\\r\\nvar ind=theCookie.indexOf(cookieName);\\r\\nif (ind==-1 || cookieName==\\'\\') return \\'\\'; \\r\\nvar ind1=theCookie.indexOf(\\';\\',ind);\\r\\nif (ind1==-1) ind1=theCookie.length;\\r\\nreturn unescape(theCookie.substring(ind+cookieName.length+1,ind1));\\r\\n}\\r\\nfunction saveSet()\\r\\n{\\r\\nsetCookies(\"novelbgcolor\",novelbgcolor.options[novelbgcolor.selectedIndex].value);\\r\\nsetCookies(\"txtcolor\",txtcolor.options[txtcolor.selectedIndex].value);\\r\\nsetCookies(\"fonttype\",fonttype.options[fonttype.selectedIndex].value);\\r\\nsetCookies(\"scrollspeed\",scrollspeed.value);\\r\\n}\\r\\nfunction loadSet()\\r\\n{\\r\\nvar tmpstr;\\r\\ntmpstr = ReadCookies(\"novelbgcolor\");\\r\\nnovelbgcolor.selectedIndex = 0;\\r\\nif (tmpstr != \"\")\\r\\n{\\r\\n    for (var i=0;i<novelbgcolor.length;i++)\\r\\n{\\r\\nif (novelbgcolor.options[i].value == tmpstr)\\r\\n{\\r\\nnovelbgcolor.selectedIndex = i;\\r\\nbreak;\\r\\n}\\r\\n}\\r\\n}\\r\\ntmpstr = ReadCookies(\"txtcolor\");\\r\\ntxtcolor.selectedIndex = 0;\\r\\nif (tmpstr != \"\")\\r\\n{\\r\\nfor (var i=0;i<txtcolor.length;i++)\\r\\n{\\r\\nif (txtcolor.options[i].value == tmpstr)\\r\\n{\\r\\ntxtcolor.selectedIndex = i;\\r\\nbreak;\\r\\n}\\r\\n}\\r\\n}\\r\\ntmpstr = ReadCookies(\"fonttype\");\\r\\nfonttype.selectedIndex = 0;\\r\\nif (tmpstr != \"\")\\r\\n{\\r\\nfor (var i=0;i<fonttype.length;i++)\\r\\n{\\r\\nif (fonttype.options[i].value == tmpstr)\\r\\n{\\r\\nfonttype.selectedIndex = i;\\r\\nbreak;\\r\\n}\\r\\n}\\r\\n}\\r\\n\\r\\ntmpstr = ReadCookies(\"scrollspeed\");\\r\\nif (tmpstr==\\'\\') tmpstr=5;\\r\\nscrollspeed.value=tmpstr;\\r\\nsetSpeed();\\r\\ncontentobj=document.getElementById(\\'content\\');\\r\\ncontentobj.style.backgroundColor=novelbgcolor.options[novelbgcolor.selectedIndex].value;\\r\\ncontentobj.style.fontSize=fonttype.options[fonttype.selectedIndex].value;\\r\\ncontentobj.style.color=txtcolor.options[txtcolor.selectedIndex].value;\\r\\n}\\r\\ndocument.onmousedown=stopScroll;\\r\\ndocument.ondblclick=beginScroll;\\r\\nloadSet();\\r\\n</script>\\r\\n</div>\\r\\n<div id=\"footer\">\\r\\n<p id=\"foot_Navi\"></p>\\r\\n  <p class=\"Copyright\">\\u8acb\\u6240\\u6709\\u4f5c\\u8005\\u767c\\u5e03\\u4f5c\\u54c1\\u6642\\u52d9\\u5fc5\\u9075\\u5b88\\u570b\\u5bb6\\u4e92\\u806f\\u7db2\\u4fe1\\u606f\\u7ba1\\u7406\\u8fa6\\u6cd5\\u898f\\u5b9a\\uff0c\\u6211\\u5011\\u62d2\\u7d55\\u4efb\\u4f55\\u8272\\u60c5\\u5c0f\\u8aaa\\uff0c\\u4e00\\u7d93\\u767c\\u73fe\\uff0c\\u5373\\u4f5c\\u522a\\u9664<br />\\r\\n\\u672c\\u7ad9\\u6240\\u6536\\u9304\\u4f5c\\u54c1\\u3001\\u793e\\u5340\\u8a71\\u984c\\u3001\\u66f8\\u5eab\\u8a55\\u8ad6\\u53ca\\u672c\\u7ad9\\u6240\\u505a\\u4e4b\\u5ee3\\u544a\\u5747\\u5c6c\\u5176\\u500b\\u4eba\\u884c\\u70ba\\uff0c\\u8207\\u672c\\u7ad9\\u7acb\\u5834\\u7121\\u95dc<br />\\r\\nCopyright&copy;1999-2010 <a href=\"http://tw.piaotian.cc\">http://tw.piaotian.cc</a> All   rights Reserved &nbsp;\\u7248\\u6b0a\\u6240\\u6709&nbsp;<script language=\"javascript\" type=\"text/javascript\" src=\"/js/tj.js\"></script><br />\\r\\n<script type=\\'text/javascript\\' src=\\'/ads.js\\'></script>\\r</p>\\r\\n</p>\\r\\n  \\r\\n</div>\\r\\n</body>\\r\\n</html>'"
      ]
     },
     "execution_count": 13,
     "metadata": {},
     "output_type": "execute_result"
    }
   ],
   "source": [
    "res1.text"
   ]
  },
  {
   "cell_type": "code",
   "execution_count": 14,
   "metadata": {
    "collapsed": false
   },
   "outputs": [
    {
     "data": {
      "text/plain": [
       "{'X-Powered-By': 'PHP/5.2.17, ASP.NET', 'Set-Cookie': 'jieqiUserCharset=big5; expires=Sun, 25-Sep-2016 00:52:50 GMT; path=/', 'Content-Encoding': 'gzip', 'Vary': 'Accept-Encoding', 'Server': 'Microsoft-IIS/7.5', 'Connection': 'close', 'ETag': '1472172770|', 'Date': 'Fri, 26 Aug 2016 00:52:50 GMT', 'Content-Type': 'text/html'}"
      ]
     },
     "execution_count": 14,
     "metadata": {},
     "output_type": "execute_result"
    }
   ],
   "source": [
    "res1.headers"
   ]
  },
  {
   "cell_type": "code",
   "execution_count": 15,
   "metadata": {
    "collapsed": false
   },
   "outputs": [
    {
     "name": "stdout",
     "output_type": "stream",
     "text": [
      "<!DOCTYPE html PUBLIC \"-//W3C//DTD XHTML 1.0 Transitional//EN\" \"http://www.w3.org/TR/xhtml1/DTD/xhtml1-transitional.dtd\">\r\n",
      "<html xmlns=\"http://www.w3.org/1999/xhtml\">\r\n",
      "<head>\r\n",
      "<meta http-equiv=\"Cache-Control\" content=\"no-siteapp\" />\r\n",
      "<meta http-equiv=\"Cache-Control\" content=\"no-transform\" />\r\n",
      "<script type=\"text/javascript\" src=\"http://tw.piaotian.cc/js/m.js\"></script>\r\n",
      "<meta http-equiv=\"Content-Type\" content=\"text/html; charset=big5\" />\r\n",
      "<title> 第1009章 月神法袍-重生之最強劍神-飄天文學</title>\r\n",
      "<meta name=\"keywords\" content=\"重生之最強劍神\" />\r\n",
      "<meta name=\"description\" content=\"重生之最強劍神最新章節閱讀\" />\r\n",
      "<meta name=\"MSSmartTagsPreventParsing\" content=\"True\" />\r\n",
      "<meta http-equiv=\"MSThemeCompatible\" content=\"Yes\" />\r\n",
      "<link rel=\"stylesheet\" id=\"css_extstyle\" type=\"text/css\" href=\"http://tw.piaotian.cc/css/read.css\" />\r\n",
      "</head>\r\n",
      "<link rel=\"stylesheet\" href=\"http://tw.piaotian.cc/css/top_new.css\" />\r\n",
      "<script type=\"text/javascript\">\r\n",
      "<!--\r\n",
      "var preview_page = \"/read/25640/15879350.html\";\r\n",
      "var next_page = \"/read/25640/15887701.html\";\r\n",
      "var index_page = \"index.html\";\r\n",
      "var article_id = \"25640\";\r\n",
      "var chapter_id = \"15883417\";\r\n",
      "function jumpPage() {\r\n",
      "  var event = document.all ? window.event : arguments[0];\r\n",
      "  if (event.keyCode == 37) document.location = preview_page;\r\n",
      "  if (event.keyCode == 39) document.location = next_page;\r\n",
      "  if (event.keyCode == 13) document.location = index_page;\r\n",
      "}\r\n",
      "document.onkeydown=jumpPage;\r\n",
      "-->\r\n",
      "</script>\r\n",
      "<div class=\"top\">\r\n",
      "\t<div class=\"topBlk1\">\r\n",
      "\r\n",
      "<!-- 登陸 begin -->\r\n",
      "<iframe allowtransparency=true src=\"http://tw.piaotian.cc/loginframe.php\" width=\"60%\" height=\"100%\" frameborder=\"0\" scrolling=\"no\" align=\"left\" ></iframe>\r\n",
      "<div class=\"tB04\">\r\n",
      "\t\t\t\t<ul>\r\n",
      "\t\t\t\t\t<li><a href=\"http://m.piaotian.cc/\" target=\"_blank\" id=\"Mobile\">手機閱讀</a></li>\r\n",
      "\t\t\t\t\t<li><a href=\"javascript:void(0);\" onclick=\"bookmarkit()\" title=\"把“飄天文學”加入您的收藏夾！\" target=\"_parent\" id=\"Collection\">加為收藏</a></li>\r\n",
      "\t\t\t\t</ul>\r\n",
      "\t\t\t</div>\r\n",
      "\t\t\t\r\n",
      "\r\n",
      "\t</div>\r\n",
      "</div>\r\n",
      "\r\n",
      "<div id=\"pagetop\">\r\n",
      "\t<div class=\"logonav\">\r\n",
      "\t\t<div class=\"logo\">\r\n",
      "\t\t\t<a href=\"http://tw.piaotian.cc\" title=\"飄天文學\"><img src=\"http://tw.piaotian.cc/images/logo.gif\" title=\"飄天文學\" alt=\"飄天文學\"/></a>\r\n",
      "\t\t</div>\r\n",
      "\t\t<div class=\"nav\">\r\n",
      "<!--TOP_廣告位--740*60--begin-->\r\n",
      "<iframe height=\"60\" frameborder=\"0\" width=\"740\" scrolling=\"no\" marginheight=\"0\" marginwidth=\"0\" src=\"http://tw.piaotian.cc/ad/header_top_fy_740x60.html\"></iframe>\r\n",
      "\r\n",
      "\t\t</div>\r\n",
      "\t</div>\r\n",
      "<div class=\"tagdh boy\">\r\n",
      "<div class=\"tagdh_01\">\r\n",
      "<div class=\"left\">\r\n",
      "<div class=\"maintype\">\r\n",
      "<ul>\r\n",
      "<li><a href=\"http://tw.piaotian.cc\" title=\"小說 首頁\">首 頁</a></li>\r\n",
      "<li><a href=\"http://tw.piaotian.cc/top/lastupdate/1/\" title=\"最新更新小說列表\">最近更新</a></li>\r\n",
      "<li class=\"on\"><a href=\"http://tw.piaotian.cc/modules/article/\" title=\"連載書庫\">連載書庫</a></li>\r\n",
      "<li><a href=\"http://tw.piaotian.cc/modules/article/index.php?fullflag=1\" title=\"全本推薦\">全本推薦</a></li>\r\n",
      "</ul>\r\n",
      "</div>\r\n",
      "</div>\r\n",
      "\t\t\t<div class=\"right\">\r\n",
      "\t\t\t\t<ul>\r\n",
      "<li><a href=\"http://tw.piaotian.cc/top/allvisit/1/\">小說排行榜</a><span class=\"icon_hot\">熱</span></li>\r\n",
      "\r\n",
      "<li><a href=\"http://tw.piaotian.cc/userdetail.php\" title=\"會員中心\" >會員中心</a></li>\r\n",
      "<li><a href=\"http://tw.piaotian.cc/bookcase.html\" title=\"我的書架\" >我的書架</a></li>\r\n",
      "<li><a href=\"http://tw.piaotian.cc/top/allvisit/1/\">閱讀榜</a><span class=\"icon_hot\">熱</span></li>\r\n",
      "<li><a href=\"http://tw.piaotian.cc/top/allvote/1/\">推薦榜</a><span class=\"icon_hot\">熱</span></li>\r\n",
      "<li><a href=\"http://tw.piaotian.cc/top/goodnum/1/\">收藏榜</a><span class=\"icon_hot\">熱</span></li>\r\n",
      "<li><a href=\"http://tw.piaotian.cc/top/size/1/\">字數榜</a><span class=\"icon_hot\">熱</span></li>\r\n",
      "\r\n",
      "\t\t\t\t</ul>\r\n",
      "\t\t\t</div>\r\n",
      "\t\t</div>\r\n",
      "\t\t<div class=\"tagdh_02\"><span></span>\r\n",
      "\t\t\t<ul>\r\n",
      "<li><a href=\"http://tw.piaotian.cc/class/1/1/\" >玄幻魔法</a></li> \r\n",
      "<li><a href=\"http://tw.piaotian.cc/class/2/1/\" >武俠修真</a></li> \r\n",
      "<li><a href=\"http://tw.piaotian.cc/class/3/1/\" >都市言情</a></li> \r\n",
      "<li><a href=\"http://tw.piaotian.cc/class/4/1/\" >歷史軍事</a></li> \r\n",
      "<li><a href=\"http://tw.piaotian.cc/class/5/1/\" >偵探推理</a></li> \r\n",
      "<li><a href=\"http://tw.piaotian.cc/class/6/1/\" >網游動漫</a></li> \r\n",
      "<li><a href=\"http://tw.piaotian.cc/class/7/1/\" >科幻小說</a></li> \r\n",
      "<li><a href=\"http://tw.piaotian.cc/class/8/1/\" >恐怖靈異</a></li> \r\n",
      "<li><a href=\"http://tw.piaotian.cc/class/9/1/\" >散文詩詞</a></li> \r\n",
      "<li><a href=\"http://tw.piaotian.cc/class/10/1/\" >其他類型</a></li>\r\n",
      "\r\n",
      "\r\n",
      "\t\t\t</ul>\r\n",
      "\t\t</div>\r\n",
      "\t\t\r\n",
      "\t\t<div class=\"tagdh_04\">\r\n",
      "\r\n",
      "\r\n",
      "\t</div>\r\n",
      "</div>\r\n",
      "</div>\r\n",
      "\r\n",
      "<body id=\"nv_forum\" class=\"pg_read\" >\r\n",
      "\r\n",
      "<div id=\"wp\" class=\"wp\">\r\n",
      "<div id=\"pt\" class=\"bm cl\">\r\n",
      "<div id=\"sc\" class=\"y\">\r\n",
      "<table cellpadding=\"0\" cellspacing=\"0\">\r\n",
      "<tbody><tr>\r\n",
      "<script type=\"text/javascript\">document.write('<td><select name=novelbgcolor id=novelbgcolor onchange=\"javascript:document.getElementById(\\'content\\').style.backgroundColor=this.options[this.selectedIndex].value;\" class=\"novel_set\"><option value=\"#E9FAFF\">閱讀底色</option><option value=\"#E9FAFF\" style=\"background-color: #E9FAFF\">淡藍海洋</option><option value=\"#FFFFED\" style=\"background-color: #FFFFED\">明黃清俊</option><option value=\"#eefaee\" style=\"background-color: #eefaee\">綠意淡雅</option><option value=\"#FCEFFF\" style=\"background-color: #FCEFFF\">紅粉世家</option><option value=\"#ffffff\" style=\"background-color: #ffffff\">白雪天地</option><option value=\"#F8F8F8\" style=\"background-color: #F8F8F8\">灰色世界</option></select></td><td><select name=txtcolor id=txtcolor onchange=\"javascript:document.getElementById(\\'content\\').style.color=this.options[this.selectedIndex].value;\" class=\"novel_set\"><option value=\"#000000\">字體顏色</option><option value=\"#ff0000\">紅色</option><option value=\"#006600\">綠色</option><option value=\"#0000ff\">藍色</option><option value=\"#660000\">棕色</option><option value=\"#000000\">黑色</option></select></td><td><select name=fonttype id=fonttype onchange=\"javascript:document.getElementById(\\'content\\').style.fontSize=this.options[this.selectedIndex].value;\" class=\"novel_set\"><option value=\"10.5pt\">字體大小</option><option value=\"9pt\">小</option><option value=\"10.5pt\">中</option><option value=\"12pt\">中大</option><option value=\"14pt\">大</option><option value=\"16pt\">很大</option><option value=\"18pt\">更大</option> </select></td><td><select name=scrollspeed id=scrollspeed onchange=\"javascript:setSpeed();\" class=\"novel_set\"><option value=\"5\">滾屏速度</option><option value=\"1\">慢1</option><option value=\"2\">慢2</option><option value=\"3\">慢3</option><option value=\"4\">中4</option><option value=\"5\">中5</option><option value=\"6\">中6</option><option value=\"7\">快7</option><option value=\"8\">快8</option><option value=\"9\">快9</option></select></td><td><button name=\"saveset\" id=\"saveset\" type=\"submit\" value=\"保存設置\" class=\"xw1\" onclick=\"javascript:saveSet();\">保存</button></td>');</script>\r\n",
      "</tr></tbody>\r\n",
      "</table>\r\n",
      "</div>\r\n",
      "<div class=\"z\" style=\"width:550px; height:32px; overflow:hidden\">\r\n",
      "<a href=\"http://tw.piaotian.cc\" class=\"nvhm\" title=\"飄天文學\">飄天文學</a> <em>&rsaquo;</em> <a href=\"http://tw.piaotian.cc/modules/article/\">書庫</a> <em>&rsaquo;</em> <a href=\"/class/6/1/\">網游動漫</a> <em>&rsaquo;</em> <a href=\"/read/25640/index.html\">重生之最強劍神</a> <em>&rsaquo;</em> 第1009章 月神法袍\r\n",
      "</div>\r\n",
      "</div>\r\n",
      "<div class=\"bm novel\" id=\"content\">\r\n",
      "<div class=\"novel_head\">\r\n",
      "<h1 class=\"novel_title\"> 第1009章 月神法袍</h1>\r\n",
      "<p class=\"novel_info\">\r\n",
      "小說︰<a href=\"/read/25640/index.html\" target=\"_blank\">重生之最強劍神</a><span class=\"pipe\">|</span>\r\n",
      "作者︰<a href=\"http://tw.piaotian.cc/modules/article/authorarticle.php?author=天運老貓\" target=\"_blank\">天運老貓</a><span class=\"pipe\">|</span>\r\n",
      "類別︰網游動漫\r\n",
      "</p>\r\n",
      "</div>\r\n",
      "<div class=\"novel_content\"><script language=\"javascript\" type=\"text/javascript\" src=\"/js/ad01.js\"></script>\r",
      "&nbsp;&nbsp;&nbsp;&nbsp;星月王城威嚴的天葬駐地內，大批大批的自由玩家匯聚在大門前，一個個都靜靜在等候天葬公會的入會審核。( 新飄天文學　tw.piaotian.cc )<br />\r\n",
      "<br />\r\n",
      "&nbsp;&nbsp;&nbsp;&nbsp;這種事情在以前的天葬公會來說根本不敢想象，但是現在已經成為了星月王城的一道風景線，眾人都習以為常。<br />\r\n",
      "<br />\r\n",
      "&nbsp;&nbsp;&nbsp;&nbsp;就在自由玩家們默默等待時，突然大街上響起清脆的嘶鳴聲，眾人紛紛望去。<br />\r\n",
      "<br />\r\n",
      "&nbsp;&nbsp;&nbsp;&nbsp;“哇，好多坐騎！”<br />\r\n",
      "<br />\r\n",
      "&nbsp;&nbsp;&nbsp;&nbsp;“這些應該不是普通坐騎吧！”<br />\r\n",
      "<br />\r\n",
      "&nbsp;&nbsp;&nbsp;&nbsp;“這應該是戰馬吧！听說戰馬至少也是青銅級坐騎，天葬公會也太厲害了，竟然能弄到這麼多戰馬。”<br />\r\n",
      "<br />\r\n",
      "&nbsp;&nbsp;&nbsp;&nbsp;“我一定要加入天葬公會，到時候得到一批青銅級戰馬，也算沒有白玩神域了。”<br />\r\n",
      "<br />\r\n",
      "&nbsp;&nbsp;&nbsp;&nbsp;只見十多名騎著不同種類戰馬的玩家進入了天葬公會內，眾人是看的羨慕不已，尤其是領隊的一位英姿颯爽的美艷女子，讓眾人久久不能忘懷。<br />\r\n",
      "<br />\r\n",
      "&nbsp;&nbsp;&nbsp;&nbsp;這位美艷女子不僅有著一身極品裝備，騎著的雪白色戰馬還穿著白銀鎧甲，仿佛女神下凡，明艷動人。<br />\r\n",
      "<br />\r\n",
      "&nbsp;&nbsp;&nbsp;&nbsp;而這位女神的名字在星月王城更是無人不知。<br />\r\n",
      "<br />\r\n",
      "&nbsp;&nbsp;&nbsp;&nbsp;冰之魔女霧霞！<br />\r\n",
      "<br />\r\n",
      "&nbsp;&nbsp;&nbsp;&nbsp;之所有這樣的名號，完全是因為在霧霞之前一個人就在副本門口干掉了一個星河聯盟的百人精英團，之後星河聯盟也派出了不少高手，其中還有風雲高手榜上有名的赤羽。<br />\r\n",
      "<br />\r\n",
      "&nbsp;&nbsp;&nbsp;&nbsp;可是最終的結果都被霧霞一人給擊敗，甚至星河聯盟的元老赤羽也被霧霞親手給干掉。<br />\r\n",
      "<br />\r\n",
      "&nbsp;&nbsp;&nbsp;&nbsp;尤其是在對付星河聯盟派出來高手時，霧霞操控冰之魔法的技巧簡直出神入化，還用一招冰系的大型毀滅魔法把整個副本外變成了冰雪世界，範圍內的玩家是沒有一個生還，因為被一些玩家尊稱為冰之魔女。<br />\r\n",
      "<br />\r\n",
      "&nbsp;&nbsp;&nbsp;&nbsp;而冰之魔女這個稱號也被眾人所傳頌，久而久之，星月王城內的玩家都把霧霞稱為冰之魔女。<br />\r\n",
      "<br />\r\n",
      "&nbsp;&nbsp;&nbsp;&nbsp;“太美了，我一定要加入天葬公會，之後加入我女神的麾下。”<br />\r\n",
      "<br />\r\n",
      "&nbsp;&nbsp;&nbsp;&nbsp;“想得挺美，你可知道霧霞大人統帥的可是天葬公會的冰霧軍團，那可是只有精英中的精英才有可能進去，你現在連正式成員都不是，還想要進去，簡直做夢。”<br />\r\n",
      "<br />\r\n",
      "&nbsp;&nbsp;&nbsp;&nbsp;在眾多自由玩家中，有不少玩家其實都是被霧霞的魅力所征服，才跑來天葬公會，要不然他們早就去更好的黑水公會，畢竟黑水公會的後台可是無人不知道的黑水大財團，很多想要在格斗界混出名的選手，那個不想著加入黑水財團？<br />\r\n",
      "<br />\r\n",
      "&nbsp;&nbsp;&nbsp;&nbsp;……<br />\r\n",
      "<br />\r\n",
      "&nbsp;&nbsp;&nbsp;&nbsp;“會長，你突然找我們回來是有什麼事情嗎？”霧霞走進了天葬會議大廳內，看著高坐在會長寶座上的一蕭獨葬，目光中滿是疑問。<br />\r\n",
      "<br />\r\n",
      "&nbsp;&nbsp;&nbsp;&nbsp;此時在會議大廳內還坐著公會的很多高層，除了生活職業的幾位大師，其他人的等級普遍都是40級，這場面讓普通玩家看到都要腿腳發軟，因為在場的40級高手里，沒有一個不是星月王國里的頂級高手，大公會的會長遇見了都要敬讓三分。<br />\r\n",
      "<br />\r\n",
      "&nbsp;&nbsp;&nbsp;&nbsp;“先坐下來，等一會自然會告訴你！”一蕭獨葬指了指空在一旁的副會長寶座。<br />\r\n",
      "<br />\r\n",
      "&nbsp;&nbsp;&nbsp;&nbsp;霧霞听到一蕭獨葬這麼說，心中更是詫異了。<br />\r\n",
      "<br />\r\n",
      "&nbsp;&nbsp;&nbsp;&nbsp;在場眾人差不多已經是天葬公會的全部高層，有些人是因為在處理重要事情，所以不能來，可是會長一蕭獨葬的意思，她們還要等人。<br />\r\n",
      "<br />\r\n",
      "&nbsp;&nbsp;&nbsp;&nbsp;“這是怎麼回事？”<br />\r\n",
      "<br />\r\n",
      "&nbsp;&nbsp;&nbsp;&nbsp;在霧霞走到自己的副會長作為旁邊時，突然發現在會長身旁還有一個空著的座位，這個座位竟然跟會長的座位並列……<br />\r\n",
      "<br />\r\n",
      "&nbsp;&nbsp;&nbsp;&nbsp;其實整個會議大廳內，不止霧霞一個人有這樣的疑問，所有人都有。<br />\r\n",
      "<br />\r\n",
      "&nbsp;&nbsp;&nbsp;&nbsp;一蕭獨葬可是他們天葬公會唯一的老大，同時也是一個人獨掌整個公會，根本不可能有人能跟一蕭獨葬平齊平坐，這一點就算是黑水公會的現任會長棄一濤都不行。<br />\r\n",
      "<br />\r\n",
      "&nbsp;&nbsp;&nbsp;&nbsp;就在眾人充滿疑惑的等待了十多分鐘後，會議大廳的厚重石門轟然打開。<br />\r\n",
      "<br />\r\n",
      "&nbsp;&nbsp;&nbsp;&nbsp;“她是誰？”<br />\r\n",
      "<br />\r\n",
      "&nbsp;&nbsp;&nbsp;&nbsp;眾人紛紛把目光投向從大門外走進來的人，可是突然發現走進來的人竟然是一位絕世美女，這位光艷逼人的年輕女子穿著一襲紫色的華貴長袍散落在地，把曼妙的曲線凸顯的淋灕盡致，三千青絲滑落在芊細的腰間，每邁出一步都仿佛踩著眾人的心聲，讓所有人都不由自主的看下過去。<br />\r\n",
      "<br />\r\n",
      "&nbsp;&nbsp;&nbsp;&nbsp;“怎麼會有這樣的人？”霧霞也是美眸大睜，沒想到世界上還有這樣的女子，就連她看了都感覺自嘆不如很是心動。<br />\r\n",
      "<br />\r\n",
      "&nbsp;&nbsp;&nbsp;&nbsp;因為這個年輕女子的出現，仿佛這片空間都是以這位年輕女子為中心……<br />\r\n",
      "<br />\r\n",
      "&nbsp;&nbsp;&nbsp;&nbsp;“這件衣服不是月神法袍嗎？”牧師炎血看到年輕女子身上的華貴紫袍，震驚道。<br />\r\n",
      "<br />\r\n",
      "&nbsp;&nbsp;&nbsp;&nbsp;其他人听到炎血這麼說，也都不由一震。<br />\r\n",
      "<br />\r\n",
      "&nbsp;&nbsp;&nbsp;&nbsp;月神法袍這東西對于普通玩家來說也許不知道是什麼東西，但是在黑翼城高級拍賣會上可是相當出名，作為一件史詩級法袍，光是拍賣的底價就有四千金，已經能比擬史詩級武器了，而最終被是一位神秘玩家花費了七千六百金買走。<br />\r\n",
      "<br />\r\n",
      "&nbsp;&nbsp;&nbsp;&nbsp;當時很多玩家都恥笑這個神秘玩家，竟然花費這麼多錢跟貴族npc去爭奪一件史詩級衣服，明明只要在填一些金幣都可以買下大城市的黃金地皮，到時候怎麼也是一本萬利。<br />\r\n",
      "<br />\r\n",
      "&nbsp;&nbsp;&nbsp;&nbsp;沒想到購買月神法袍的人竟然就是這位絕世美女。<br />\r\n",
      "<br />\r\n",
      "&nbsp;&nbsp;&nbsp;&nbsp;頓時眾人都開啟了觀察技能，想要對這個絕世美女一看究竟。<br />\r\n",
      "<br />\r\n",
      "&nbsp;&nbsp;&nbsp;&nbsp;可是突然發現，哪怕是高級觀察技能，竟然也讀取不出任何信息。<br />\r\n",
      "<br />\r\n",
      "&nbsp;&nbsp;&nbsp;&nbsp;“不好意思，因為一些事情來晚了。”年輕女子在坐下來後，看著眾人輕聲說道。<br />\r\n",
      "<br />\r\n",
      "&nbsp;&nbsp;&nbsp;&nbsp;“好了，既然人都齊了，那我就介紹一下，這位是黑水財團的代表凌靜萱小姐，這次來主要是說明一下攻略石林小鎮的事情。”一蕭獨葬為眾人介紹了一下，不過言語中對凌靜萱的敬畏，就算是霧霞等人都看得出來。<br />\r\n",
      "<br />\r\n",
      "&nbsp;&nbsp;&nbsp;&nbsp;雖然只是簡單的介紹，但是在場眾人都被鎮住了。<br />\r\n",
      "<br />\r\n",
      "&nbsp;&nbsp;&nbsp;&nbsp;光是會長對凌靜萱的敬畏就算了，沒想到他們要討論的事情竟然是要拿下石林小鎮……<br />\r\n",
      "<br />\r\n",
      "&nbsp;&nbsp;&nbsp;&nbsp;正版訂閱在閱文旗下的起點，可以第一時間看到最新章節(未完待續。)\r\n",
      " </div>\r\n",
      "<div class=\"novel_bottom\"> <script language=\"javascript\" type=\"text/javascript\" src=\"/js/ad02.js\"></script>\r",
      "(快捷鍵←)[<a href=\"/read/25640/15879350.html\">上一章</a>]&nbsp;&nbsp;[<a href=\"/read/25640/index.html\">回目錄</a>]&nbsp;&nbsp;[<a href=\"/read/25640/15887701.html\">下一章</a>](快捷鍵→)\r\n",
      "</div> \r\n",
      "<div class=\"novel_bottom\"> <br><font color=\"red\">如果您中途有事離開，請按CTRL+D鍵保存當前頁面至收藏夾，以便以後接著觀看！</font><br> <a href=\"/read/25640/index.html\"><b>重生之最強劍神</b></a> | <a href=\"/read/25640/index.html\"><b>重生之最強劍神最新章節</b></a>\r\n",
      "<br />[<a href=\"/modules/article/addbookcase.php?bid=25640&cid=15883417\" target=\"_blank\"><FONT color=\"#0000FF\">加入書簽</FONT></a>] &nbsp; &nbsp; \r\n",
      "[<a href=\"/bookcase.html\" target=\"_blank\">打開書架</a>] &nbsp; &nbsp; \r\n",
      "\r\n",
      "[<a href=\"/newmessage.php?tosys=1&amp;title=問題-重生之最強劍神&amp;content=小說《重生之最強劍神》的  第1009章 月神法袍問題如下︰\" target=\"_blank\">錯誤報告</a>] &nbsp; &nbsp; \r\n",
      "[<a href=\"/modules/article/uservote.php?id=25640\" target=\"_blank\">投票推薦</a>]\r",
      "</div> \r\n",
      "</div>\r\n",
      "</div>\r\n",
      "<script type=\"text/javascript\">\r\n",
      "var speed = 5;\r\n",
      "var currentpos=1;\r\n",
      "var timer;\r\n",
      "var novelbgcolor=document.getElementById('novelbgcolor');\r\n",
      "var txtcolor=document.getElementById('txtcolor');\r\n",
      "var fonttype=document.getElementById('fonttype');\r\n",
      "var scrollspeed=document.getElementById('scrollspeed');\r\n",
      "function setSpeed()\r\n",
      "{\r\n",
      "speed = parseInt(scrollspeed.value);\t\r\n",
      "}\r\n",
      "\r\n",
      "function stopScroll()\r\n",
      "{\r\n",
      "    clearInterval(timer);\r\n",
      "}\r\n",
      "\r\n",
      "function beginScroll()\r\n",
      "{\r\n",
      "timer=setInterval(\"scrolling()\",300/speed);\r\n",
      "}\r\n",
      "\r\n",
      "function scrolling()\r\n",
      "{\r\n",
      "var currentpos = window.pageYOffset || document.documentElement.scrollTop || document.body.scrollTop || 0;\r\n",
      "    window.scroll(0, ++currentpos);\r\n",
      "var nowpos = window.pageYOffset || document.documentElement.scrollTop || document.body.scrollTop || 0;\r\n",
      "    if(currentpos != nowpos) clearInterval(timer);\r\n",
      "}\r\n",
      "\r\n",
      "function setCookies(cookieName,cookieValue, expirehours)\r\n",
      "{\r\n",
      "  var today = new Date();\r\n",
      "  var expire = new Date();\r\n",
      "  expire.setTime(today.getTime() + 3600000 * 356 * 24);\r\n",
      "  document.cookie = cookieName+'='+escape(cookieValue)+ ';expires='+expire.toGMTString()+'; path=/';\r\n",
      "}\r\n",
      "function ReadCookies(cookieName)\r\n",
      "{\r\n",
      "var theCookie=''+document.cookie;\r\n",
      "var ind=theCookie.indexOf(cookieName);\r\n",
      "if (ind==-1 || cookieName=='') return ''; \r\n",
      "var ind1=theCookie.indexOf(';',ind);\r\n",
      "if (ind1==-1) ind1=theCookie.length;\r\n",
      "return unescape(theCookie.substring(ind+cookieName.length+1,ind1));\r\n",
      "}\r\n",
      "function saveSet()\r\n",
      "{\r\n",
      "setCookies(\"novelbgcolor\",novelbgcolor.options[novelbgcolor.selectedIndex].value);\r\n",
      "setCookies(\"txtcolor\",txtcolor.options[txtcolor.selectedIndex].value);\r\n",
      "setCookies(\"fonttype\",fonttype.options[fonttype.selectedIndex].value);\r\n",
      "setCookies(\"scrollspeed\",scrollspeed.value);\r\n",
      "}\r\n",
      "function loadSet()\r\n",
      "{\r\n",
      "var tmpstr;\r\n",
      "tmpstr = ReadCookies(\"novelbgcolor\");\r\n",
      "novelbgcolor.selectedIndex = 0;\r\n",
      "if (tmpstr != \"\")\r\n",
      "{\r\n",
      "    for (var i=0;i<novelbgcolor.length;i++)\r\n",
      "{\r\n",
      "if (novelbgcolor.options[i].value == tmpstr)\r\n",
      "{\r\n",
      "novelbgcolor.selectedIndex = i;\r\n",
      "break;\r\n",
      "}\r\n",
      "}\r\n",
      "}\r\n",
      "tmpstr = ReadCookies(\"txtcolor\");\r\n",
      "txtcolor.selectedIndex = 0;\r\n",
      "if (tmpstr != \"\")\r\n",
      "{\r\n",
      "for (var i=0;i<txtcolor.length;i++)\r\n",
      "{\r\n",
      "if (txtcolor.options[i].value == tmpstr)\r\n",
      "{\r\n",
      "txtcolor.selectedIndex = i;\r\n",
      "break;\r\n",
      "}\r\n",
      "}\r\n",
      "}\r\n",
      "tmpstr = ReadCookies(\"fonttype\");\r\n",
      "fonttype.selectedIndex = 0;\r\n",
      "if (tmpstr != \"\")\r\n",
      "{\r\n",
      "for (var i=0;i<fonttype.length;i++)\r\n",
      "{\r\n",
      "if (fonttype.options[i].value == tmpstr)\r\n",
      "{\r\n",
      "fonttype.selectedIndex = i;\r\n",
      "break;\r\n",
      "}\r\n",
      "}\r\n",
      "}\r\n",
      "\r\n",
      "tmpstr = ReadCookies(\"scrollspeed\");\r\n",
      "if (tmpstr=='') tmpstr=5;\r\n",
      "scrollspeed.value=tmpstr;\r\n",
      "setSpeed();\r\n",
      "contentobj=document.getElementById('content');\r\n",
      "contentobj.style.backgroundColor=novelbgcolor.options[novelbgcolor.selectedIndex].value;\r\n",
      "contentobj.style.fontSize=fonttype.options[fonttype.selectedIndex].value;\r\n",
      "contentobj.style.color=txtcolor.options[txtcolor.selectedIndex].value;\r\n",
      "}\r\n",
      "document.onmousedown=stopScroll;\r\n",
      "document.ondblclick=beginScroll;\r\n",
      "loadSet();\r\n",
      "</script>\r\n",
      "</div>\r\n",
      "<div id=\"footer\">\r\n",
      "<p id=\"foot_Navi\"></p>\r\n",
      "  <p class=\"Copyright\">請所有作者發布作品時務必遵守國家互聯網信息管理辦法規定，我們拒絕任何色情小說，一經發現，即作刪除<br />\r\n",
      "本站所收錄作品、社區話題、書庫評論及本站所做之廣告均屬其個人行為，與本站立場無關<br />\r\n",
      "Copyright&copy;1999-2010 <a href=\"http://tw.piaotian.cc\">http://tw.piaotian.cc</a> All   rights Reserved &nbsp;版權所有&nbsp;<script language=\"javascript\" type=\"text/javascript\" src=\"/js/tj.js\"></script><br />\r\n",
      "<script type='text/javascript' src='/ads.js'></script>\r",
      "</p>\r\n",
      "</p>\r\n",
      "  \r\n",
      "</div>\r\n",
      "</body>\r\n",
      "</html>\n"
     ]
    }
   ],
   "source": [
    "print res1.text"
   ]
  },
  {
   "cell_type": "code",
   "execution_count": 16,
   "metadata": {
    "collapsed": false
   },
   "outputs": [
    {
     "name": "stdout",
     "output_type": "stream",
     "text": [
      "<!DOCTYPE html PUBLIC \"-//W3C//DTD XHTML 1.0 Transitional//EN\" \"http://www.w3.org/TR/xhtml1/DTD/xhtml1-transitional.dtd\">\r\n",
      "<html xmlns=\"http://www.w3.org/1999/xhtml\">\r\n",
      "<head>\r\n",
      "<meta http-equiv=\"Cache-Control\" content=\"no-siteapp\" />\r\n",
      "<meta http-equiv=\"Cache-Control\" content=\"no-transform\" />\r\n",
      "<script type=\"text/javascript\" src=\"http://tw.piaotian.cc/js/m.js\"></script>\r\n",
      "<meta http-equiv=\"Content-Type\" content=\"text/html; charset=big5\" />\r\n",
      "<title> 第1009章 月神法袍-重生之最強劍神-飄天文學</title>\r\n",
      "<meta name=\"keywords\" content=\"重生之最強劍神\" />\r\n",
      "<meta name=\"description\" content=\"重生之最強劍神最新章節閱讀\" />\r\n",
      "<meta name=\"MSSmartTagsPreventParsing\" content=\"True\" />\r\n",
      "<meta http-equiv=\"MSThemeCompatible\" content=\"Yes\" />\r\n",
      "<link rel=\"stylesheet\" id=\"css_extstyle\" type=\"text/css\" href=\"http://tw.piaotian.cc/css/read.css\" />\r\n",
      "</head>\r\n",
      "<link rel=\"stylesheet\" href=\"http://tw.piaotian.cc/css/top_new.css\" />\r\n",
      "<script type=\"text/javascript\">\r\n",
      "<!--\r\n",
      "var preview_page = \"/read/25640/15879350.html\";\r\n",
      "var next_page = \"/read/25640/15887701.html\";\r\n",
      "var index_page = \"index.html\";\r\n",
      "var article_id = \"25640\";\r\n",
      "var chapter_id = \"15883417\";\r\n",
      "function jumpPage() {\r\n",
      "  var event = document.all ? window.event : arguments[0];\r\n",
      "  if (event.keyCode == 37) document.location = preview_page;\r\n",
      "  if (event.keyCode == 39) document.location = next_page;\r\n",
      "  if (event.keyCode == 13) document.location = index_page;\r\n",
      "}\r\n",
      "document.onkeydown=jumpPage;\r\n",
      "-->\r\n",
      "</script>\r\n",
      "<div class=\"top\">\r\n",
      "\t<div class=\"topBlk1\">\r\n",
      "\r\n",
      "<!-- 登陸 begin -->\r\n",
      "<iframe allowtransparency=true src=\"http://tw.piaotian.cc/loginframe.php\" width=\"60%\" height=\"100%\" frameborder=\"0\" scrolling=\"no\" align=\"left\" ></iframe>\r\n",
      "<div class=\"tB04\">\r\n",
      "\t\t\t\t<ul>\r\n",
      "\t\t\t\t\t<li><a href=\"http://m.piaotian.cc/\" target=\"_blank\" id=\"Mobile\">手機閱讀</a></li>\r\n",
      "\t\t\t\t\t<li><a href=\"javascript:void(0);\" onclick=\"bookmarkit()\" title=\"把“飄天文學”加入您的收藏夾！\" target=\"_parent\" id=\"Collection\">加為收藏</a></li>\r\n",
      "\t\t\t\t</ul>\r\n",
      "\t\t\t</div>\r\n",
      "\t\t\t\r\n",
      "\r\n",
      "\t</div>\r\n",
      "</div>\r\n",
      "\r\n",
      "<div id=\"pagetop\">\r\n",
      "\t<div class=\"logonav\">\r\n",
      "\t\t<div class=\"logo\">\r\n",
      "\t\t\t<a href=\"http://tw.piaotian.cc\" title=\"飄天文學\"><img src=\"http://tw.piaotian.cc/images/logo.gif\" title=\"飄天文學\" alt=\"飄天文學\"/></a>\r\n",
      "\t\t</div>\r\n",
      "\t\t<div class=\"nav\">\r\n",
      "<!--TOP_廣告位--740*60--begin-->\r\n",
      "<iframe height=\"60\" frameborder=\"0\" width=\"740\" scrolling=\"no\" marginheight=\"0\" marginwidth=\"0\" src=\"http://tw.piaotian.cc/ad/header_top_fy_740x60.html\"></iframe>\r\n",
      "\r\n",
      "\t\t</div>\r\n",
      "\t</div>\r\n",
      "<div class=\"tagdh boy\">\r\n",
      "<div class=\"tagdh_01\">\r\n",
      "<div class=\"left\">\r\n",
      "<div class=\"maintype\">\r\n",
      "<ul>\r\n",
      "<li><a href=\"http://tw.piaotian.cc\" title=\"小說 首頁\">首 頁</a></li>\r\n",
      "<li><a href=\"http://tw.piaotian.cc/top/lastupdate/1/\" title=\"最新更新小說列表\">最近更新</a></li>\r\n",
      "<li class=\"on\"><a href=\"http://tw.piaotian.cc/modules/article/\" title=\"連載書庫\">連載書庫</a></li>\r\n",
      "<li><a href=\"http://tw.piaotian.cc/modules/article/index.php?fullflag=1\" title=\"全本推薦\">全本推薦</a></li>\r\n",
      "</ul>\r\n",
      "</div>\r\n",
      "</div>\r\n",
      "\t\t\t<div class=\"right\">\r\n",
      "\t\t\t\t<ul>\r\n",
      "<li><a href=\"http://tw.piaotian.cc/top/allvisit/1/\">小說排行榜</a><span class=\"icon_hot\">熱</span></li>\r\n",
      "\r\n",
      "<li><a href=\"http://tw.piaotian.cc/userdetail.php\" title=\"會員中心\" >會員中心</a></li>\r\n",
      "<li><a href=\"http://tw.piaotian.cc/bookcase.html\" title=\"我的書架\" >我的書架</a></li>\r\n",
      "<li><a href=\"http://tw.piaotian.cc/top/allvisit/1/\">閱讀榜</a><span class=\"icon_hot\">熱</span></li>\r\n",
      "<li><a href=\"http://tw.piaotian.cc/top/allvote/1/\">推薦榜</a><span class=\"icon_hot\">熱</span></li>\r\n",
      "<li><a href=\"http://tw.piaotian.cc/top/goodnum/1/\">收藏榜</a><span class=\"icon_hot\">熱</span></li>\r\n",
      "<li><a href=\"http://tw.piaotian.cc/top/size/1/\">字數榜</a><span class=\"icon_hot\">熱</span></li>\r\n",
      "\r\n",
      "\t\t\t\t</ul>\r\n",
      "\t\t\t</div>\r\n",
      "\t\t</div>\r\n",
      "\t\t<div class=\"tagdh_02\"><span></span>\r\n",
      "\t\t\t<ul>\r\n",
      "<li><a href=\"http://tw.piaotian.cc/class/1/1/\" >玄幻魔法</a></li> \r\n",
      "<li><a href=\"http://tw.piaotian.cc/class/2/1/\" >武俠修真</a></li> \r\n",
      "<li><a href=\"http://tw.piaotian.cc/class/3/1/\" >都市言情</a></li> \r\n",
      "<li><a href=\"http://tw.piaotian.cc/class/4/1/\" >歷史軍事</a></li> \r\n",
      "<li><a href=\"http://tw.piaotian.cc/class/5/1/\" >偵探推理</a></li> \r\n",
      "<li><a href=\"http://tw.piaotian.cc/class/6/1/\" >網游動漫</a></li> \r\n",
      "<li><a href=\"http://tw.piaotian.cc/class/7/1/\" >科幻小說</a></li> \r\n",
      "<li><a href=\"http://tw.piaotian.cc/class/8/1/\" >恐怖靈異</a></li> \r\n",
      "<li><a href=\"http://tw.piaotian.cc/class/9/1/\" >散文詩詞</a></li> \r\n",
      "<li><a href=\"http://tw.piaotian.cc/class/10/1/\" >其他類型</a></li>\r\n",
      "\r\n",
      "\r\n",
      "\t\t\t</ul>\r\n",
      "\t\t</div>\r\n",
      "\t\t\r\n",
      "\t\t<div class=\"tagdh_04\">\r\n",
      "\r\n",
      "\r\n",
      "\t</div>\r\n",
      "</div>\r\n",
      "</div>\r\n",
      "\r\n",
      "<body id=\"nv_forum\" class=\"pg_read\" >\r\n",
      "\r\n",
      "<div id=\"wp\" class=\"wp\">\r\n",
      "<div id=\"pt\" class=\"bm cl\">\r\n",
      "<div id=\"sc\" class=\"y\">\r\n",
      "<table cellpadding=\"0\" cellspacing=\"0\">\r\n",
      "<tbody><tr>\r\n",
      "<script type=\"text/javascript\">document.write('<td><select name=novelbgcolor id=novelbgcolor onchange=\"javascript:document.getElementById(\\'content\\').style.backgroundColor=this.options[this.selectedIndex].value;\" class=\"novel_set\"><option value=\"#E9FAFF\">閱讀底色</option><option value=\"#E9FAFF\" style=\"background-color: #E9FAFF\">淡藍海洋</option><option value=\"#FFFFED\" style=\"background-color: #FFFFED\">明黃清俊</option><option value=\"#eefaee\" style=\"background-color: #eefaee\">綠意淡雅</option><option value=\"#FCEFFF\" style=\"background-color: #FCEFFF\">紅粉世家</option><option value=\"#ffffff\" style=\"background-color: #ffffff\">白雪天地</option><option value=\"#F8F8F8\" style=\"background-color: #F8F8F8\">灰色世界</option></select></td><td><select name=txtcolor id=txtcolor onchange=\"javascript:document.getElementById(\\'content\\').style.color=this.options[this.selectedIndex].value;\" class=\"novel_set\"><option value=\"#000000\">字體顏色</option><option value=\"#ff0000\">紅色</option><option value=\"#006600\">綠色</option><option value=\"#0000ff\">藍色</option><option value=\"#660000\">棕色</option><option value=\"#000000\">黑色</option></select></td><td><select name=fonttype id=fonttype onchange=\"javascript:document.getElementById(\\'content\\').style.fontSize=this.options[this.selectedIndex].value;\" class=\"novel_set\"><option value=\"10.5pt\">字體大小</option><option value=\"9pt\">小</option><option value=\"10.5pt\">中</option><option value=\"12pt\">中大</option><option value=\"14pt\">大</option><option value=\"16pt\">很大</option><option value=\"18pt\">更大</option> </select></td><td><select name=scrollspeed id=scrollspeed onchange=\"javascript:setSpeed();\" class=\"novel_set\"><option value=\"5\">滾屏速度</option><option value=\"1\">慢1</option><option value=\"2\">慢2</option><option value=\"3\">慢3</option><option value=\"4\">中4</option><option value=\"5\">中5</option><option value=\"6\">中6</option><option value=\"7\">快7</option><option value=\"8\">快8</option><option value=\"9\">快9</option></select></td><td><button name=\"saveset\" id=\"saveset\" type=\"submit\" value=\"保存設置\" class=\"xw1\" onclick=\"javascript:saveSet();\">保存</button></td>');</script>\r\n",
      "</tr></tbody>\r\n",
      "</table>\r\n",
      "</div>\r\n",
      "<div class=\"z\" style=\"width:550px; height:32px; overflow:hidden\">\r\n",
      "<a href=\"http://tw.piaotian.cc\" class=\"nvhm\" title=\"飄天文學\">飄天文學</a> <em>&rsaquo;</em> <a href=\"http://tw.piaotian.cc/modules/article/\">書庫</a> <em>&rsaquo;</em> <a href=\"/class/6/1/\">網游動漫</a> <em>&rsaquo;</em> <a href=\"/read/25640/index.html\">重生之最強劍神</a> <em>&rsaquo;</em> 第1009章 月神法袍\r\n",
      "</div>\r\n",
      "</div>\r\n",
      "<div class=\"bm novel\" id=\"content\">\r\n",
      "<div class=\"novel_head\">\r\n",
      "<h1 class=\"novel_title\"> 第1009章 月神法袍</h1>\r\n",
      "<p class=\"novel_info\">\r\n",
      "小說︰<a href=\"/read/25640/index.html\" target=\"_blank\">重生之最強劍神</a><span class=\"pipe\">|</span>\r\n",
      "作者︰<a href=\"http://tw.piaotian.cc/modules/article/authorarticle.php?author=天運老貓\" target=\"_blank\">天運老貓</a><span class=\"pipe\">|</span>\r\n",
      "類別︰網游動漫\r\n",
      "</p>\r\n",
      "</div>\r\n",
      "<div class=\"novel_content\"><script language=\"javascript\" type=\"text/javascript\" src=\"/js/ad01.js\"></script>\r",
      "&nbsp;&nbsp;&nbsp;&nbsp;星月王城威嚴的天葬駐地內，大批大批的自由玩家匯聚在大門前，一個個都靜靜在等候天葬公會的入會審核。( 新飄天文學　tw.piaotian.cc )<br />\r\n",
      "<br />\r\n",
      "&nbsp;&nbsp;&nbsp;&nbsp;這種事情在以前的天葬公會來說根本不敢想象，但是現在已經成為了星月王城的一道風景線，眾人都習以為常。<br />\r\n",
      "<br />\r\n",
      "&nbsp;&nbsp;&nbsp;&nbsp;就在自由玩家們默默等待時，突然大街上響起清脆的嘶鳴聲，眾人紛紛望去。<br />\r\n",
      "<br />\r\n",
      "&nbsp;&nbsp;&nbsp;&nbsp;“哇，好多坐騎！”<br />\r\n",
      "<br />\r\n",
      "&nbsp;&nbsp;&nbsp;&nbsp;“這些應該不是普通坐騎吧！”<br />\r\n",
      "<br />\r\n",
      "&nbsp;&nbsp;&nbsp;&nbsp;“這應該是戰馬吧！听說戰馬至少也是青銅級坐騎，天葬公會也太厲害了，竟然能弄到這麼多戰馬。”<br />\r\n",
      "<br />\r\n",
      "&nbsp;&nbsp;&nbsp;&nbsp;“我一定要加入天葬公會，到時候得到一批青銅級戰馬，也算沒有白玩神域了。”<br />\r\n",
      "<br />\r\n",
      "&nbsp;&nbsp;&nbsp;&nbsp;只見十多名騎著不同種類戰馬的玩家進入了天葬公會內，眾人是看的羨慕不已，尤其是領隊的一位英姿颯爽的美艷女子，讓眾人久久不能忘懷。<br />\r\n",
      "<br />\r\n",
      "&nbsp;&nbsp;&nbsp;&nbsp;這位美艷女子不僅有著一身極品裝備，騎著的雪白色戰馬還穿著白銀鎧甲，仿佛女神下凡，明艷動人。<br />\r\n",
      "<br />\r\n",
      "&nbsp;&nbsp;&nbsp;&nbsp;而這位女神的名字在星月王城更是無人不知。<br />\r\n",
      "<br />\r\n",
      "&nbsp;&nbsp;&nbsp;&nbsp;冰之魔女霧霞！<br />\r\n",
      "<br />\r\n",
      "&nbsp;&nbsp;&nbsp;&nbsp;之所有這樣的名號，完全是因為在霧霞之前一個人就在副本門口干掉了一個星河聯盟的百人精英團，之後星河聯盟也派出了不少高手，其中還有風雲高手榜上有名的赤羽。<br />\r\n",
      "<br />\r\n",
      "&nbsp;&nbsp;&nbsp;&nbsp;可是最終的結果都被霧霞一人給擊敗，甚至星河聯盟的元老赤羽也被霧霞親手給干掉。<br />\r\n",
      "<br />\r\n",
      "&nbsp;&nbsp;&nbsp;&nbsp;尤其是在對付星河聯盟派出來高手時，霧霞操控冰之魔法的技巧簡直出神入化，還用一招冰系的大型毀滅魔法把整個副本外變成了冰雪世界，範圍內的玩家是沒有一個生還，因為被一些玩家尊稱為冰之魔女。<br />\r\n",
      "<br />\r\n",
      "&nbsp;&nbsp;&nbsp;&nbsp;而冰之魔女這個稱號也被眾人所傳頌，久而久之，星月王城內的玩家都把霧霞稱為冰之魔女。<br />\r\n",
      "<br />\r\n",
      "&nbsp;&nbsp;&nbsp;&nbsp;“太美了，我一定要加入天葬公會，之後加入我女神的麾下。”<br />\r\n",
      "<br />\r\n",
      "&nbsp;&nbsp;&nbsp;&nbsp;“想得挺美，你可知道霧霞大人統帥的可是天葬公會的冰霧軍團，那可是只有精英中的精英才有可能進去，你現在連正式成員都不是，還想要進去，簡直做夢。”<br />\r\n",
      "<br />\r\n",
      "&nbsp;&nbsp;&nbsp;&nbsp;在眾多自由玩家中，有不少玩家其實都是被霧霞的魅力所征服，才跑來天葬公會，要不然他們早就去更好的黑水公會，畢竟黑水公會的後台可是無人不知道的黑水大財團，很多想要在格斗界混出名的選手，那個不想著加入黑水財團？<br />\r\n",
      "<br />\r\n",
      "&nbsp;&nbsp;&nbsp;&nbsp;……<br />\r\n",
      "<br />\r\n",
      "&nbsp;&nbsp;&nbsp;&nbsp;“會長，你突然找我們回來是有什麼事情嗎？”霧霞走進了天葬會議大廳內，看著高坐在會長寶座上的一蕭獨葬，目光中滿是疑問。<br />\r\n",
      "<br />\r\n",
      "&nbsp;&nbsp;&nbsp;&nbsp;此時在會議大廳內還坐著公會的很多高層，除了生活職業的幾位大師，其他人的等級普遍都是40級，這場面讓普通玩家看到都要腿腳發軟，因為在場的40級高手里，沒有一個不是星月王國里的頂級高手，大公會的會長遇見了都要敬讓三分。<br />\r\n",
      "<br />\r\n",
      "&nbsp;&nbsp;&nbsp;&nbsp;“先坐下來，等一會自然會告訴你！”一蕭獨葬指了指空在一旁的副會長寶座。<br />\r\n",
      "<br />\r\n",
      "&nbsp;&nbsp;&nbsp;&nbsp;霧霞听到一蕭獨葬這麼說，心中更是詫異了。<br />\r\n",
      "<br />\r\n",
      "&nbsp;&nbsp;&nbsp;&nbsp;在場眾人差不多已經是天葬公會的全部高層，有些人是因為在處理重要事情，所以不能來，可是會長一蕭獨葬的意思，她們還要等人。<br />\r\n",
      "<br />\r\n",
      "&nbsp;&nbsp;&nbsp;&nbsp;“這是怎麼回事？”<br />\r\n",
      "<br />\r\n",
      "&nbsp;&nbsp;&nbsp;&nbsp;在霧霞走到自己的副會長作為旁邊時，突然發現在會長身旁還有一個空著的座位，這個座位竟然跟會長的座位並列……<br />\r\n",
      "<br />\r\n",
      "&nbsp;&nbsp;&nbsp;&nbsp;其實整個會議大廳內，不止霧霞一個人有這樣的疑問，所有人都有。<br />\r\n",
      "<br />\r\n",
      "&nbsp;&nbsp;&nbsp;&nbsp;一蕭獨葬可是他們天葬公會唯一的老大，同時也是一個人獨掌整個公會，根本不可能有人能跟一蕭獨葬平齊平坐，這一點就算是黑水公會的現任會長棄一濤都不行。<br />\r\n",
      "<br />\r\n",
      "&nbsp;&nbsp;&nbsp;&nbsp;就在眾人充滿疑惑的等待了十多分鐘後，會議大廳的厚重石門轟然打開。<br />\r\n",
      "<br />\r\n",
      "&nbsp;&nbsp;&nbsp;&nbsp;“她是誰？”<br />\r\n",
      "<br />\r\n",
      "&nbsp;&nbsp;&nbsp;&nbsp;眾人紛紛把目光投向從大門外走進來的人，可是突然發現走進來的人竟然是一位絕世美女，這位光艷逼人的年輕女子穿著一襲紫色的華貴長袍散落在地，把曼妙的曲線凸顯的淋灕盡致，三千青絲滑落在芊細的腰間，每邁出一步都仿佛踩著眾人的心聲，讓所有人都不由自主的看下過去。<br />\r\n",
      "<br />\r\n",
      "&nbsp;&nbsp;&nbsp;&nbsp;“怎麼會有這樣的人？”霧霞也是美眸大睜，沒想到世界上還有這樣的女子，就連她看了都感覺自嘆不如很是心動。<br />\r\n",
      "<br />\r\n",
      "&nbsp;&nbsp;&nbsp;&nbsp;因為這個年輕女子的出現，仿佛這片空間都是以這位年輕女子為中心……<br />\r\n",
      "<br />\r\n",
      "&nbsp;&nbsp;&nbsp;&nbsp;“這件衣服不是月神法袍嗎？”牧師炎血看到年輕女子身上的華貴紫袍，震驚道。<br />\r\n",
      "<br />\r\n",
      "&nbsp;&nbsp;&nbsp;&nbsp;其他人听到炎血這麼說，也都不由一震。<br />\r\n",
      "<br />\r\n",
      "&nbsp;&nbsp;&nbsp;&nbsp;月神法袍這東西對于普通玩家來說也許不知道是什麼東西，但是在黑翼城高級拍賣會上可是相當出名，作為一件史詩級法袍，光是拍賣的底價就有四千金，已經能比擬史詩級武器了，而最終被是一位神秘玩家花費了七千六百金買走。<br />\r\n",
      "<br />\r\n",
      "&nbsp;&nbsp;&nbsp;&nbsp;當時很多玩家都恥笑這個神秘玩家，竟然花費這麼多錢跟貴族npc去爭奪一件史詩級衣服，明明只要在填一些金幣都可以買下大城市的黃金地皮，到時候怎麼也是一本萬利。<br />\r\n",
      "<br />\r\n",
      "&nbsp;&nbsp;&nbsp;&nbsp;沒想到購買月神法袍的人竟然就是這位絕世美女。<br />\r\n",
      "<br />\r\n",
      "&nbsp;&nbsp;&nbsp;&nbsp;頓時眾人都開啟了觀察技能，想要對這個絕世美女一看究竟。<br />\r\n",
      "<br />\r\n",
      "&nbsp;&nbsp;&nbsp;&nbsp;可是突然發現，哪怕是高級觀察技能，竟然也讀取不出任何信息。<br />\r\n",
      "<br />\r\n",
      "&nbsp;&nbsp;&nbsp;&nbsp;“不好意思，因為一些事情來晚了。”年輕女子在坐下來後，看著眾人輕聲說道。<br />\r\n",
      "<br />\r\n",
      "&nbsp;&nbsp;&nbsp;&nbsp;“好了，既然人都齊了，那我就介紹一下，這位是黑水財團的代表凌靜萱小姐，這次來主要是說明一下攻略石林小鎮的事情。”一蕭獨葬為眾人介紹了一下，不過言語中對凌靜萱的敬畏，就算是霧霞等人都看得出來。<br />\r\n",
      "<br />\r\n",
      "&nbsp;&nbsp;&nbsp;&nbsp;雖然只是簡單的介紹，但是在場眾人都被鎮住了。<br />\r\n",
      "<br />\r\n",
      "&nbsp;&nbsp;&nbsp;&nbsp;光是會長對凌靜萱的敬畏就算了，沒想到他們要討論的事情竟然是要拿下石林小鎮……<br />\r\n",
      "<br />\r\n",
      "&nbsp;&nbsp;&nbsp;&nbsp;正版訂閱在閱文旗下的起點，可以第一時間看到最新章節(未完待續。)\r\n",
      " </div>\r\n",
      "<div class=\"novel_bottom\"> <script language=\"javascript\" type=\"text/javascript\" src=\"/js/ad02.js\"></script>\r",
      "(快捷鍵←)[<a href=\"/read/25640/15879350.html\">上一章</a>]&nbsp;&nbsp;[<a href=\"/read/25640/index.html\">回目錄</a>]&nbsp;&nbsp;[<a href=\"/read/25640/15887701.html\">下一章</a>](快捷鍵→)\r\n",
      "</div> \r\n",
      "<div class=\"novel_bottom\"> <br><font color=\"red\">如果您中途有事離開，請按CTRL+D鍵保存當前頁面至收藏夾，以便以後接著觀看！</font><br> <a href=\"/read/25640/index.html\"><b>重生之最強劍神</b></a> | <a href=\"/read/25640/index.html\"><b>重生之最強劍神最新章節</b></a>\r\n",
      "<br />[<a href=\"/modules/article/addbookcase.php?bid=25640&cid=15883417\" target=\"_blank\"><FONT color=\"#0000FF\">加入書簽</FONT></a>] &nbsp; &nbsp; \r\n",
      "[<a href=\"/bookcase.html\" target=\"_blank\">打開書架</a>] &nbsp; &nbsp; \r\n",
      "\r\n",
      "[<a href=\"/newmessage.php?tosys=1&amp;title=問題-重生之最強劍神&amp;content=小說《重生之最強劍神》的  第1009章 月神法袍問題如下︰\" target=\"_blank\">錯誤報告</a>] &nbsp; &nbsp; \r\n",
      "[<a href=\"/modules/article/uservote.php?id=25640\" target=\"_blank\">投票推薦</a>]\r",
      "</div> \r\n",
      "</div>\r\n",
      "</div>\r\n",
      "<script type=\"text/javascript\">\r\n",
      "var speed = 5;\r\n",
      "var currentpos=1;\r\n",
      "var timer;\r\n",
      "var novelbgcolor=document.getElementById('novelbgcolor');\r\n",
      "var txtcolor=document.getElementById('txtcolor');\r\n",
      "var fonttype=document.getElementById('fonttype');\r\n",
      "var scrollspeed=document.getElementById('scrollspeed');\r\n",
      "function setSpeed()\r\n",
      "{\r\n",
      "speed = parseInt(scrollspeed.value);\t\r\n",
      "}\r\n",
      "\r\n",
      "function stopScroll()\r\n",
      "{\r\n",
      "    clearInterval(timer);\r\n",
      "}\r\n",
      "\r\n",
      "function beginScroll()\r\n",
      "{\r\n",
      "timer=setInterval(\"scrolling()\",300/speed);\r\n",
      "}\r\n",
      "\r\n",
      "function scrolling()\r\n",
      "{\r\n",
      "var currentpos = window.pageYOffset || document.documentElement.scrollTop || document.body.scrollTop || 0;\r\n",
      "    window.scroll(0, ++currentpos);\r\n",
      "var nowpos = window.pageYOffset || document.documentElement.scrollTop || document.body.scrollTop || 0;\r\n",
      "    if(currentpos != nowpos) clearInterval(timer);\r\n",
      "}\r\n",
      "\r\n",
      "function setCookies(cookieName,cookieValue, expirehours)\r\n",
      "{\r\n",
      "  var today = new Date();\r\n",
      "  var expire = new Date();\r\n",
      "  expire.setTime(today.getTime() + 3600000 * 356 * 24);\r\n",
      "  document.cookie = cookieName+'='+escape(cookieValue)+ ';expires='+expire.toGMTString()+'; path=/';\r\n",
      "}\r\n",
      "function ReadCookies(cookieName)\r\n",
      "{\r\n",
      "var theCookie=''+document.cookie;\r\n",
      "var ind=theCookie.indexOf(cookieName);\r\n",
      "if (ind==-1 || cookieName=='') return ''; \r\n",
      "var ind1=theCookie.indexOf(';',ind);\r\n",
      "if (ind1==-1) ind1=theCookie.length;\r\n",
      "return unescape(theCookie.substring(ind+cookieName.length+1,ind1));\r\n",
      "}\r\n",
      "function saveSet()\r\n",
      "{\r\n",
      "setCookies(\"novelbgcolor\",novelbgcolor.options[novelbgcolor.selectedIndex].value);\r\n",
      "setCookies(\"txtcolor\",txtcolor.options[txtcolor.selectedIndex].value);\r\n",
      "setCookies(\"fonttype\",fonttype.options[fonttype.selectedIndex].value);\r\n",
      "setCookies(\"scrollspeed\",scrollspeed.value);\r\n",
      "}\r\n",
      "function loadSet()\r\n",
      "{\r\n",
      "var tmpstr;\r\n",
      "tmpstr = ReadCookies(\"novelbgcolor\");\r\n",
      "novelbgcolor.selectedIndex = 0;\r\n",
      "if (tmpstr != \"\")\r\n",
      "{\r\n",
      "    for (var i=0;i<novelbgcolor.length;i++)\r\n",
      "{\r\n",
      "if (novelbgcolor.options[i].value == tmpstr)\r\n",
      "{\r\n",
      "novelbgcolor.selectedIndex = i;\r\n",
      "break;\r\n",
      "}\r\n",
      "}\r\n",
      "}\r\n",
      "tmpstr = ReadCookies(\"txtcolor\");\r\n",
      "txtcolor.selectedIndex = 0;\r\n",
      "if (tmpstr != \"\")\r\n",
      "{\r\n",
      "for (var i=0;i<txtcolor.length;i++)\r\n",
      "{\r\n",
      "if (txtcolor.options[i].value == tmpstr)\r\n",
      "{\r\n",
      "txtcolor.selectedIndex = i;\r\n",
      "break;\r\n",
      "}\r\n",
      "}\r\n",
      "}\r\n",
      "tmpstr = ReadCookies(\"fonttype\");\r\n",
      "fonttype.selectedIndex = 0;\r\n",
      "if (tmpstr != \"\")\r\n",
      "{\r\n",
      "for (var i=0;i<fonttype.length;i++)\r\n",
      "{\r\n",
      "if (fonttype.options[i].value == tmpstr)\r\n",
      "{\r\n",
      "fonttype.selectedIndex = i;\r\n",
      "break;\r\n",
      "}\r\n",
      "}\r\n",
      "}\r\n",
      "\r\n",
      "tmpstr = ReadCookies(\"scrollspeed\");\r\n",
      "if (tmpstr=='') tmpstr=5;\r\n",
      "scrollspeed.value=tmpstr;\r\n",
      "setSpeed();\r\n",
      "contentobj=document.getElementById('content');\r\n",
      "contentobj.style.backgroundColor=novelbgcolor.options[novelbgcolor.selectedIndex].value;\r\n",
      "contentobj.style.fontSize=fonttype.options[fonttype.selectedIndex].value;\r\n",
      "contentobj.style.color=txtcolor.options[txtcolor.selectedIndex].value;\r\n",
      "}\r\n",
      "document.onmousedown=stopScroll;\r\n",
      "document.ondblclick=beginScroll;\r\n",
      "loadSet();\r\n",
      "</script>\r\n",
      "</div>\r\n",
      "<div id=\"footer\">\r\n",
      "<p id=\"foot_Navi\"></p>\r\n",
      "  <p class=\"Copyright\">請所有作者發布作品時務必遵守國家互聯網信息管理辦法規定，我們拒絕任何色情小說，一經發現，即作刪除<br />\r\n",
      "本站所收錄作品、社區話題、書庫評論及本站所做之廣告均屬其個人行為，與本站立場無關<br />\r\n",
      "Copyright&copy;1999-2010 <a href=\"http://tw.piaotian.cc\">http://tw.piaotian.cc</a> All   rights Reserved &nbsp;版權所有&nbsp;<script language=\"javascript\" type=\"text/javascript\" src=\"/js/tj.js\"></script><br />\r\n",
      "<script type='text/javascript' src='/ads.js'></script>\r",
      "</p>\r\n",
      "</p>\r\n",
      "  \r\n",
      "</div>\r\n",
      "</body>\r\n",
      "</html>\n"
     ]
    }
   ],
   "source": [
    "print res1.text"
   ]
  },
  {
   "cell_type": "markdown",
   "metadata": {},
   "source": [
    "## BeautifulSoup\n"
   ]
  },
  {
   "cell_type": "code",
   "execution_count": 54,
   "metadata": {
    "collapsed": false
   },
   "outputs": [],
   "source": [
    "res3 = requests.get(\"http://tw.piaotian.cc/read/25640/15900324.html\")"
   ]
  },
  {
   "cell_type": "code",
   "execution_count": 57,
   "metadata": {
    "collapsed": false
   },
   "outputs": [],
   "source": [
    "res3_text=res3.text"
   ]
  },
  {
   "cell_type": "code",
   "execution_count": 56,
   "metadata": {
    "collapsed": false
   },
   "outputs": [
    {
     "ename": "TypeError",
     "evalue": "'str' object is not callable",
     "output_type": "error",
     "traceback": [
      "\u001b[1;31m---------------------------------------------------------------------------\u001b[0m",
      "\u001b[1;31mTypeError\u001b[0m                                 Traceback (most recent call last)",
      "\u001b[1;32m<ipython-input-56-de0b3a94b4f1>\u001b[0m in \u001b[0;36m<module>\u001b[1;34m()\u001b[0m\n\u001b[1;32m----> 1\u001b[1;33m \u001b[0mres3\u001b[0m\u001b[1;33m.\u001b[0m\u001b[0mencoding\u001b[0m\u001b[1;33m(\u001b[0m\u001b[1;34m'big5'\u001b[0m\u001b[1;33m)\u001b[0m\u001b[1;33m\u001b[0m\u001b[0m\n\u001b[0m",
      "\u001b[1;31mTypeError\u001b[0m: 'str' object is not callable"
     ]
    }
   ],
   "source": [
    "res3.encoding('big5')"
   ]
  },
  {
   "cell_type": "code",
   "execution_count": 19,
   "metadata": {
    "collapsed": false
   },
   "outputs": [],
   "source": [
    "from bs4 import BeautifulSoup"
   ]
  },
  {
   "cell_type": "code",
   "execution_count": 20,
   "metadata": {
    "collapsed": false
   },
   "outputs": [],
   "source": [
    "soup5 = BeautifulSoup(res3.text,'lxml')#建立BeatifulSoup物件 把get下來的網頁進行 extract teg 抓取我要的部分資料"
   ]
  },
  {
   "cell_type": "code",
   "execution_count": 25,
   "metadata": {
    "collapsed": false
   },
   "outputs": [
    {
     "data": {
      "text/plain": [
       "[<div class=\"novel_content\"><script language=\"javascript\" src=\"/js/ad01.js\" type=\"text/javascript\"></script>\\r\\xa0\\xa0\\xa0\\xa0\\xa5\\xdb\\xaep\\xa7v\\xa8\\xec\\xa8t\\xb2\\xce\\xb4\\xa3\\xa5\\xdc\\xad\\xb5\\xa1A\\xa5i\\xacO\\xb4h\\xa6n\\xa5b\\xa4\\xd1\\xa1C( \\xb7s\\xc4\\xc6\\xa4\\xd1\\xa4\\xe5\\xbe\\xc7\\xa1@tw.piaotian.cc )<br/>\\n<br/>\\r\\n\\xa0\\xa0\\xa0\\xa0\\xa8S\\xb7Q\\xa8\\xec\\xc1\\xd9\\xaf\\xe0\\xb3o\\xbc\\xcb\\xc0\\xf2\\xb1o\\xb0\\xaa\\xaf\\xc5\\xba\\xd9\\xb8\\xb9\\xa1C<br/>\\n<br/>\\r\\n\\xa0\\xa0\\xa0\\xa0\\xb1o\\xa8\\xec\\xa4@\\xad\\xd3\\xb4\\xb6\\xb3q\\xba\\xd9\\xb8\\xb9\\xb4N\\xa4\\xa3\\xaee\\xa9\\xf6\\xa1A\\xaf\\xe0\\xb1o\\xa8\\xec\\xa4@\\xad\\xd3\\xb0\\xaa\\xaf\\xc5\\xba\\xd9\\xb8\\xb9\\xb3\\xa3\\xacO\\xa8\\xab\\xa4j\\xb9B\\xa1A\\xb2{\\xa6b\\xa5u\\xacO\\xaa\\xe1\\xb6O\\xa4F\\xb0\\xcf\\xb0\\xcf1400\\xaa\\xf7\\xa1A\\xa4\\xa3\\xb6\\xc8\\xb8\\xd1\\xa8M\\xa4F\\xab\\xb0\\xa5\\xab\\xa8\\xbd\\xc3\\xaa\\xb2\\xb4\\xaa\\xba\\xac\\xf5\\xa6W\\xaa\\xb1\\xaea\\xa1A\\xc1\\xd9\\xc1\\xc8\\xa8\\xec\\xa4@\\xad\\xd3\\xb0\\xaa\\xaf\\xc5\\xba\\xd9\\xb8\\xb9\\xa1C<br/>\\n<br/>\\r\\n\\xa0\\xa0\\xa0\\xa0\\xb3o\\xbb\\xa1\\xa5X\\xa5h\\xae\\xa3\\xa9\\xc8\\xb3\\xa3\\xa8S\\xa6\\xb3\\xa4H\\xabH\\xa1C<br/>\\n<br/>\\r\\n\\xa0\\xa0\\xa0\\xa0\\xa4W\\xa4@\\xa5@\\xa8\\xba\\xbb\\xf2\\xa6h\\xa4j\\xa4\\xbd\\xb7|\\xac\\xb0\\xa4F\\xa7\\xcb\\xa8\\xec\\xa4@\\xad\\xd3\\xb0\\xaa\\xaf\\xc5\\xba\\xd9\\xb8\\xb9\\xa1A\\xb4N\\xba\\xe2\\xacO\\xaa\\xe1\\xb6O\\xa4W\\xb8U\\xaa\\xf7\\xb6R\\xa4U\\xa4@\\xad\\xd3\\xb7\\xc7\\xbdT\\xaa\\xba\\xbdu\\xaf\\xc1\\xb3\\xa3\\xc4@\\xb7N\\xa1A\\xac\\xc6\\xa6\\xdc\\xb3\\xa3\\xb7|\\xa5\\xb4\\xaf}\\xc0Y\\xb3\\xa3\\xb1\\xc6\\xa4\\xa3\\xa4W\\xb6\\xa4\\xa1C<br/>\\n<br/>\\r\\n\\xa0\\xa0\\xa0\\xa0\\xa1\\xa7\\xab\\xb0\\xa5\\xab\\xc5@\\xbd\\xc3\\xaa\\xcc\\xa1H\\xa1\\xa8\\xa5\\xdb\\xaep\\xb9\\xef\\xa4_\\xb4\\xb6\\xb3q\\xba\\xd9\\xb8\\xb9\\xc1\\xd9\\xb8\\xfb\\xac\\xb0\\xbc\\xf4\\xb1x\\xa1A\\xb9\\xb3\\xacO\\xb0\\xaa\\xaf\\xc5\\xba\\xd9\\xb8\\xb9\\xb4N\\xa4F\\xb8\\xd1\\xaa\\xba\\xab\\xdc\\xa4\\xd6\\xa4F\\xa1A\\xb2\\xa6\\xb3\\xba\\xb0\\xaa\\xaf\\xc5\\xba\\xd9\\xb8\\xb9\\xae\\xc4\\xaaG\\xa4\\xa3\\xa4@\\xaf\\xeb\\xa1A\\xbd\\xd6\\xa4]\\xa4\\xa3\\xb7|\\xbb\\xb4\\xa9\\xf6\\xaan\\xc5S\\xa1A\\xb4N\\xa6n\\xb9\\xb3\\xb7\\xa5\\xab~\\xaaZ\\xbe\\xb9\\xb8\\xcb\\xb3\\xc6\\xaa\\xba\\xc4\\xdd\\xa9\\xca\\xa9M\\xa7\\xde\\xaf\\xe0\\xa4@\\xbc\\xcb\\xa1C<br/>\\n<br/>\\r\\n\\xa0\\xa0\\xa0\\xa0\\xab\\xb0\\xa5\\xab\\xc5@\\xbd\\xc3\\xaa\\xcc\\xa1A\\xb0\\xaa\\xaf\\xc5\\xba\\xd9\\xb8\\xb9\\xa1A\\xa6b\\xb6\\xc2\\xb7t\\xb6\\xd5\\xa4O\\xaa\\xba\\xbbG\\xbbk\\xa4U\\xabO\\xc5@\\xab\\xb0\\xa5\\xab\\xa4\\xa3\\xa8\\xfc\\xabI\\xae`\\xaa\\xba\\xad^\\xb6\\xaf\\xa1A\\xbe\\xd6\\xa6\\xb3\\xa6\\xb9\\xba\\xd9\\xb8\\xb9\\xaa\\xba\\xaa\\xb1\\xaea\\xaf\\xe0\\xa6b\\xa5\\xf4\\xa6\\xf3\\xa4H\\xb1\\xda\\xab\\xb0\\xa5\\xab\\xa8\\xbd\\xa8\\xc9\\xa6\\xb3\\xa4j\\xb6Q\\xb1\\xda\\xab\\xdd\\xb9J\\xa1A\\xa6P\\xae\\xc9\\xa8C\\xa9P\\xb3\\xa3\\xa5i\\xa5H\\xac\\xb0\\xaa\\xbd\\xc4\\xdd\\xc5@\\xbd\\xc3\\xa6b\\xab_\\xc0I\\xaa\\xcc\\xa4\\xbd\\xb7|\\xb1\\xb5\\xa8\\xfa\\xa8\\xec\\xa4@\\xad\\xd3\\xa5v\\xb8\\xd6\\xaf\\xc5\\xa5\\xf4\\xb0\\xc8\\xa1A\\xa6\\xb9\\xa5~\\xaa\\xbd\\xc4\\xdd\\xc5@\\xbd\\xc3\\xa7\\xb9\\xa6\\xa8\\xa5\\xf4\\xb0\\xc8\\xaa\\xba\\xa6\\xa8\\xa5\\\\\\xb2v\\xbcW\\xa5[5%\\xa1C<br/>\\n<br/>\\r\\n\\xa0\\xa0\\xa0\\xa0\\xa1\\xa7\\xafu\\xa4\\xa3\\xb7\\\\\\xacO\\xb0\\xaa\\xaf\\xc5\\xba\\xd9\\xb8\\xb9\\xa1A\\xb3\\xba\\xb5M\\xaf\\xe0\\xac\\xb0\\xaa\\xbd\\xc4\\xdd\\xc5@\\xbd\\xc3\\xa8C\\xa9P\\xb3\\xa3\\xb1\\xb5\\xa8\\xfa\\xa4@\\xa6\\xb8\\xa5v\\xb8\\xd6\\xaf\\xc5\\xa5\\xf4\\xb0\\xc8\\xa1I\\xa1\\xa8\\xa5\\xdb\\xaep\\xa4\\xa3\\xa5\\xd1\\xc5\\xe5\\xb3Y\\xa1C<br/>\\n<br/>\\r\\n\\xa0\\xa0\\xa0\\xa0\\xaa\\xbd\\xc4\\xdd\\xc5@\\xbd\\xc3\\xb7Q\\xadn\\xa7\\xd6\\xb3t\\xb4\\xa3\\xa4\\xc9\\xa1A\\xb4N\\xac\\xdd\\xb1q\\xab_\\xc0I\\xaa\\xcc\\xa4\\xbd\\xb7|\\xa8\\xbd\\xb1\\xb5\\xa8\\xfa\\xa4\\xb0\\xbb\\xf2\\xa5\\xf4\\xb0\\xc8\\xa1A\\xa5\\xf4\\xb0\\xc8\\xaf\\xc5\\xa7O\\xb6V\\xb0\\xaa\\xa1A\\xa7\\xb9\\xa6\\xa8\\xab\\xe1\\xc0\\xf2\\xa8\\xfa\\xaa\\xba\\xb8g\\xc5\\xe7\\xad\\xc8\\xa9M\\xaaZ\\xbe\\xb9\\xb8\\xcb\\xb3\\xc6\\xb4N\\xb6V\\xa6n\\xa1C<br/>\\n<br/>\\r\\n\\xa0\\xa0\\xa0\\xa0\\xa4\\xa3\\xb9L\\xab_\\xc0I\\xaa\\xcc\\xa4\\xbd\\xb7|\\xa8\\xbd\\xaa\\xba\\xaa\\xbd\\xc4\\xdd\\xc5@\\xbd\\xc3\\xa5\\xf4\\xb0\\xc8\\xa8\\xc3\\xa8S\\xa6\\xb3\\xa4\\xd3\\xa6h\\xaa\\xba\\xbf\\xef\\xbe\\xdc\\xa1A\\xad\\xfe\\xa9\\xc8\\xacO\\xb7t\\xaa\\xf7\\xaf\\xc5\\xa5\\xf4\\xb0\\xc8\\xb3\\xa3\\xab\\xdc\\xa4\\xd6\\xa5X\\xb2{\\xa1A\\xa4@\\xa9P\\xaf\\xe0\\xa5X\\xb2{\\xa4@\\xa6\\xb8\\xb3\\xa3\\xacO\\xb9B\\xae\\xf0\\xa1A\\xa7\\xf3\\xa7O\\xbb\\xa1\\xa5v\\xb8\\xd6\\xaf\\xc5\\xa5\\xf4\\xb0\\xc8\\xa1A\\xa4@\\xad\\xd3\\xa4\\xeb\\xaf\\xe0\\xa4S\\xa4@\\xa6\\xb8\\xb3\\xa3\\xacO\\xbc\\xb2\\xa4j\\xb9B\\xa4F\\xa1C<br/>\\n<br/>\\r\\n\\xa0\\xa0\\xa0\\xa0\\xa6p\\xaaG\\xaf\\xe0\\xa8C\\xa9P\\xc5\\xfd\\xaa\\xbd\\xc4\\xdd\\xc5@\\xbd\\xc3\\xb3\\xa3\\xb6i\\xa6\\xe6\\xa4@\\xa6\\xb8\\xa5v\\xb8\\xd6\\xaf\\xc5\\xa5\\xf4\\xb0\\xc8\\xa1A\\xa8\\xba\\xb4\\xa3\\xa4\\xc9\\xb3t\\xab\\xd7\\xc2\\xb2\\xaa\\xbd\\xa4\\xa3\\xb4\\xb1\\xb7Q\\xb6H\\xa1A\\xa7\\xf3\\xa4\\xa3\\xa5\\xce\\xbb\\xa1\\xaf\\xe0\\xb4\\xa3\\xa4\\xc95%\\xaa\\xba\\xa6\\xa8\\xa5\\\\\\xb2v\\xa1C<br/>\\n<br/>\\r\\n\\xa0\\xa0\\xa0\\xa0\\xadn\\xaa\\xbe\\xb9D\\xb4N\\xba\\xe2\\xacO\\xc5\\xfd\\xb3\\xcd\\xafS\\xa9M\\xa6w\\xaeR\\xb3o\\xbc\\xcb\\xaa\\xba\\xb7t\\xaa\\xf7\\xaf\\xc5\\xc5@\\xbd\\xc3\\xa8\\xd3\\xa7\\xb9\\xa6\\xa8\\xb7t\\xaa\\xf7\\xaf\\xc5\\xa5\\xf4\\xb0\\xc8\\xa1A\\xa6\\xa8\\xa5\\\\\\xb2v\\xa4]\\xb4N50%\\xa1A\\xa6p\\xaaG\\xaaZ\\xbe\\xb9\\xb8\\xcb\\xb3\\xc6\\xabD\\xb1`\\xa6n\\xa1A\\xa6\\xa8\\xa5\\\\\\xb2v\\xa4]\\xb4N80%\\xa1A\\xa8\\xc3\\xa4\\xa3\\xaf\\xe0\\xb9F\\xa8\\xec100%\\xa1A\\xa7\\xf3\\xa7O\\xbb\\xa1\\xa5v\\xb8\\xd6\\xaf\\xc5\\xa5\\xf4\\xb0\\xc8\\xa1C<br/>\\n<br/>\\r\\n\\xa0\\xa0\\xa0\\xa0\\xb4N\\xa5\\xdb\\xaep\\xa9\\xd2\\xa4F\\xb8\\xd1\\xa1A\\xad\\xfe\\xa9\\xc8\\xacO\\xaaZ\\xbe\\xb9\\xb8\\xcb\\xb3\\xc6\\xabD\\xb1`\\xa6n\\xaa\\xba\\xb7t\\xaa\\xf7\\xaf\\xc5\\xc5@\\xbd\\xc3\\xa1A\\xa7\\xb9\\xa6\\xa8\\xa5v\\xb8\\xd6\\xaf\\xc5\\xa5\\xf4\\xb0\\xc8\\xaa\\xba\\xb7\\xa7\\xb2v\\xa4]\\xb4N\\xa5u\\xa6\\xb330%\\xa6\\xd3\\xa4w\\xa1A\\xa5\\xbf\\xb1`\\xb7t\\xaa\\xf7\\xc5@\\xbd\\xc3\\xacO20%\\xaa\\xba\\xb4X\\xb2v\\xa7\\xb9\\xa6\\xa8\\xa1A\\xa6\\xdc\\xa4_\\xa7\\xf3\\xa7C\\xa4@\\xbch\\xaa\\xba\\xba\\xeb\\xaa\\xf7\\xaf\\xc5\\xc5@\\xbd\\xc3\\xa1A\\xad\\xfe\\xa9\\xc8\\xa4@\\xa8\\xad\\xb7\\xa5\\xab~\\xb8\\xcb\\xb3\\xc6\\xa1A\\xaf\\xe0\\xa6\\xb310%\\xaa\\xba\\xa6\\xa8\\xa5\\\\\\xb2v\\xb4N\\xab\\xdc\\xb0f\\xa4\\xd1\\xa4F\\xa1C<br/>\\n<br/>\\r\\n\\xa0\\xa0\\xa0\\xa0\\xa9\\xd2\\xa5H\\xa4@\\xad\\xd3\\xb0\\xaa\\xaf\\xc5\\xba\\xd9\\xb8\\xb9\\xa1A\\xaf\\xe0\\xc5\\xfd\\xa5\\xf4\\xb0\\xc8\\xa6\\xa8\\xa5\\\\\\xb2v\\xb4\\xa3\\xa4\\xc95%\\xa1A\\xa8\\xba\\xacO\\xac\\xdb\\xb7\\xed\\xbcF\\xae`\\xaa\\xba\\xa8\\xc6\\xb1\\xa1\\xa1C<br/>\\n<br/>\\r\\n\\xa0\\xa0\\xa0\\xa0\\xb7Q\\xa8\\xec\\xb3o\\xa8\\xbd\\xa1A\\xa5\\xdb\\xaep\\xb4N\\xa7\\xe2\\xb7I\\xc6F\\xaa\\xcc\\xba\\xd9\\xb8\\xb9\\xb4\\xab\\xa6\\xa8\\xa4F\\xab\\xb0\\xa5\\xab\\xc5@\\xbd\\xc3\\xaa\\xcc\\xba\\xd9\\xb8\\xb9\\xa1A\\xa8\\xc3\\xa5B\\xa5l\\xb3\\xea\\xa5X\\xa4F\\xb3\\xcd\\xafS\\xa9M\\xa6w\\xaeR\\xa8\\xe2\\xa4H\\xb9L\\xa8\\xd3\\xa1C<br/>\\n<br/>\\r\\n\\xa0\\xa0\\xa0\\xa0\\xa4@\\xacq\\xae\\xc9\\xb6\\xa1\\xa4\\xa3\\xa8\\xa3\\xa1A\\xb3\\xcd\\xafS\\xa9M\\xa6w\\xaeR\\xa8\\xe2\\xa4H\\xaa\\xba\\xb5\\xa5\\xaf\\xc5\\xa4]\\xacO\\xb4\\xa3\\xa4\\xc9\\xa4\\xa3\\xa4\\xd6\\xa1A\\xb1q\\xa4\\xa7\\xabe\\xaa\\xba60\\xaf\\xc5\\xa4w\\xb8g\\xb4\\xa3\\xa4\\xc9\\xa8\\xec\\xa4F65\\xaf\\xc5\\xa1C<br/>\\n<br/>\\r\\n\\xa0\\xa0\\xa0\\xa0\\xa4@\\xae\\xc7\\xaa\\xba\\xa4\\xf4\\xa6\\xe2\\xc1\\xa5\\xc1\\xa8\\xa9M\\xa4\\xf5\\xbbR\\xac\\xdd\\xa8\\xec\\xb3\\xcd\\xafS\\xa9M\\xa6w\\xaeR\\xa8\\xe2\\xa4H\\xab\\xe1\\xa1A\\xa4\\xdf\\xa4\\xa4\\xb3\\xa3\\xbe_\\xc5\\xe5\\xa4\\xa3\\xa4w\\xa1C<br/>\\n<br/>\\r\\n\\xa0\\xa0\\xa0\\xa0\\xa1\\xa7\\xab\\xe7\\xbb\\xf2\\xb9\\xea\\xa4O\\xb7|\\xb3o\\xbb\\xf2\\xb1j\\xa1H\\xa1\\xa8\\xa4\\xf4\\xa6\\xe2\\xc1\\xa5\\xc1\\xa8\\xb8\\xd2\\xb2\\xa7\\xb9D\\xa1C<br/>\\n<br/>\\r\\n\\xa0\\xa0\\xa0\\xa0\\xa6o\\xa6\\xad\\xa4w\\xb8g\\xacO\\xa5\\xd5\\xaae\\xab\\xb0\\xaa\\xba\\xa4l\\xc0\\xef\\xa1A\\xa5i\\xa5H\\xa9\\xdb\\xa6\\xac\\xa6\\xdb\\xa4v\\xaa\\xba\\xaa\\xbd\\xc4\\xdd\\xc5@\\xbd\\xc3\\xa1A\\xa4\\xa3\\xb9L\\xb0\\xca\\xa5\\xce\\xbe\\xe3\\xad\\xd3\\xa4\\xbd\\xb7|\\xaa\\xba\\xa4O\\xb6q\\xa1A\\xc1\\xd9\\xa6\\xb3\\xa5\\xdb\\xaep\\xaa\\xba\\xb1q\\xae\\xc7\\xb4\\xa3\\xc2I\\xa1A\\xa4]\\xa4~\\xa6n\\xa4\\xa3\\xaee\\xa9\\xf6\\xb1q\\xacP\\xa4\\xeb\\xa4\\xfd\\xab\\xb0\\xa8\\xbd\\xa9\\xdb\\xa8\\xec\\xa4F\\xa4@\\xad\\xd3\\xba\\xeb\\xaa\\xf7\\xaf\\xc5\\xc5@\\xbd\\xc3\\xa1A\\xa6\\xd3\\xa5B\\xb3o\\xad\\xd3\\xba\\xeb\\xaa\\xf7\\xaf\\xc5\\xc5@\\xbd\\xc3\\xc1\\xd9\\xacO\\xa4@\\xad\\xd3\\xa6u\\xc5@\\xc3M\\xa4h\\xa1A\\xb8\\xf2\\xa6o\\xb0t\\xa6X\\xa6A\\xbeA\\xa6X\\xa4\\xa3\\xb9L\\xa1A\\xb7\\xed\\xae\\xc9\\xa5i\\xa7\\xe2\\xa4\\xf4\\xa6\\xe2\\xc1\\xa5\\xc1\\xa8\\xb0\\xaa\\xbf\\xb3\\xc3a\\xa4F\\xa1C<br/>\\n<br/>\\r\\n\\xa0\\xa0\\xa0\\xa0\\xa6b\\xa6o\\xaa\\xba\\xa5\\xfe\\xa4O\\xb0\\xf6\\xbei\\xa4U\\xa1A\\xb1\\xb5\\xa8\\xfc\\xa4F\\xa6U\\xba\\xd8\\xb0\\xaa\\xaf\\xc5\\xa5\\xf4\\xb0\\xc8\\xa1A\\xb2{\\xa6b\\xa4]\\xa4~\\xabj\\xb1j\\xb9F\\xa8\\xec60\\xaf\\xc5\\xa6\\xd3\\xa4w\\xa1A\\xb6Z\\xc2\\xf765\\xaf\\xc5\\xa4\\xa3\\xaa\\xbe\\xb9D\\xc1\\xd9\\xadn\\xb0\\xb5\\xa6h\\xa4\\xd6\\xa5\\xf4\\xb0\\xc8\\xa4~\\xaf\\xe0\\xa4\\xc9\\xa8\\xec\\xa1A\\xa4\\xa3\\xb9L\\xb3o\\xad\\xd3\\xb5\\xa5\\xaf\\xc5\\xa4w\\xb8g\\xac\\xdb\\xb7\\xed\\xc5\\xe5\\xa4H\\xa1A\\xa8\\xe4\\xa5L\\xa4\\xbd\\xb7|\\xb0\\xaa\\xbch\\xa9\\xdb\\xc5\\xf3\\xaa\\xba\\xaa\\xbd\\xc4\\xdd\\xc5@\\xbd\\xc3\\xa4@\\xaf\\xeb\\xa4]\\xb4N\\xacO55\\xaf\\xc5\\xa8\\xec58\\xaf\\xc5\\xa6\\xd3\\xa4w\\xa1A\\xbd\\xd7\\xa8\\xe4\\xb9\\xea\\xa4O\\xc1\\xd9\\xbb\\xb7\\xa4\\xa3\\xa6p\\xa4\\xf4\\xa6\\xe2\\xc1\\xa5\\xc1\\xa8\\xa9\\xdb\\xc5\\xf3\\xaa\\xba\\xaa\\xbd\\xc4\\xdd\\xc5@\\xbd\\xc3\\xa1C<br/>\\n<br/>\\r\\n\\xa0\\xa0\\xa0\\xa0\\xa5i\\xacO\\xa5\\xdb\\xaep\\xa9\\xdb\\xc5\\xf3\\xaa\\xba\\xa8\\xe2\\xad\\xd3\\xaa\\xbd\\xc4\\xdd\\xc5@\\xbd\\xc3\\xb3\\xba\\xb5M\\xb3\\xa3\\xa6\\xb365\\xaf\\xc5\\xa4\\xa3\\xbb\\xa1\\xa1A\\xb5\\xb9\\xa4H\\xaa\\xba\\xb7P\\xc4\\xb1\\xb4N\\xa6n\\xb9\\xb3\\xacO\\xa6b\\xad\\xb1\\xb9\\xef\\xa8\\xe2\\xad\\xd365\\xaf\\xc5\\xaa\\xba\\xa4j\\xbb\\xe2\\xa5D\\xa4@\\xaf\\xeb\\xa1A\\xc5\\xfd\\xa4H\\xa6\\xb3\\xa4@\\xba\\xd8\\xb2\\xbf\\xae\\xa7\\xaa\\xba\\xb7P\\xc4\\xb1\\xa1C<br/>\\n<br/>\\r\\n\\xa0\\xa0\\xa0\\xa0\\xa5\\xdb\\xaep\\xa6b\\xa5l\\xb3\\xea\\xa5X\\xa4F\\xa8\\xe2\\xa4H\\xab\\xe1\\xa1A\\xaa\\xbd\\xb1\\xb5\\xaa\\xe1\\xb6O200\\xaa\\xf7\\xac\\xb0\\xa8\\xe2\\xa4H\\xb1\\xb5\\xa8\\xfa\\xa4F\\xa5v\\xb8\\xd6\\xaf\\xc5\\xa5\\xf4\\xb0\\xc8\\xa1C<br/>\\n<br/>\\r\\n\\xa0\\xa0\\xa0\\xa0\\xab_\\xc0I\\xaa\\xcc\\xa8\\xf3\\xb7|\\xaa\\xba\\xaa\\xbd\\xc4\\xdd\\xc5@\\xbd\\xc3\\xa5v\\xb8\\xd6\\xaf\\xc5\\xa5\\xf4\\xb0\\xc8\\xa8\\xc3\\xabD\\xa5u\\xaf\\xe0\\xa4@\\xad\\xd3\\xa4H\\xa8\\xd3\\xa7\\xb9\\xa6\\xa8\\xa1A\\xa4]\\xa5i\\xa5H\\xb2\\xd5\\xb6\\xa4\\xa7\\xb9\\xa6\\xa8\\xa1A\\xad\\xc9\\xa6\\xb9\\xa8\\xd3\\xbcW\\xa5[\\xa6\\xa8\\xa5\\\\\\xb2v\\xa1A\\xa4\\xa3\\xb9L\\xb2\\xd5\\xb6\\xa4\\xaf\\xe0\\xacO\\xa6\\xdb\\xa4v\\xaa\\xba\\xaa\\xbd\\xc4\\xdd\\xc5@\\xbd\\xc3\\xa4~\\xa6\\xe6\\xa1A\\xa4\\xa3\\xaf\\xe0\\xbbP\\xa8\\xe4\\xa5L\\xa4H\\xaa\\xba\\xaa\\xbd\\xc4\\xdd\\xc5@\\xbd\\xc3\\xb2\\xd5\\xb6\\xa4\\xa1C<br/>\\n<br/>\\r\\n\\xa0\\xa0\\xa0\\xa0\\xb3\\xcd\\xafS\\xa5[\\xa4W\\xa6w\\xaeR\\xa8\\xe2\\xa4H\\xa4@\\xb0_\\xb0\\xb5\\xa5v\\xb8\\xd6\\xaf\\xc5\\xa5\\xf4\\xb0\\xc8\\xa1A\\xc5\\xe3\\xa5\\xdc\\xa5X\\xa8\\xd3\\xaa\\xba\\xa6\\xa8\\xa5\\\\\\xb2v\\xa4@\\xa4U\\xb4N\\xb4\\xa3\\xa4\\xc9\\xa4\\xa3\\xa4\\xd6\\xa1A\\xa5[\\xa4W\\xb0\\xaa\\xaf\\xc5\\xba\\xd9\\xb8\\xb9\\xa1A\\xa6\\xa8\\xa5\\\\\\xb2v\\xaa\\xbd\\xb1\\xb5\\xf6t\\xa4\\xc9\\xa8\\xec37%\\xa1A\\xb3o\\xad\\xd3\\xa6\\xa8\\xa5\\\\\\xb2v\\xa8\\xac\\xa5H\\xc5\\xfd\\xab\\xdc\\xa6h\\xa4H\\xbfE\\xb0\\xca\\xaa\\xba\\xa4\\xa3\\xaf\\xe0\\xa6\\xdb\\xa4w\\xa1A\\xa4\\xa3\\xb9L\\xa5\\xdb\\xaep\\xa8\\xc3\\xa8S\\xa6\\xb3\\xba\\xa1\\xa8\\xac\\xa4_\\xa6\\xb9\\xa1C<br/>\\n<br/>\\r\\n\\xa0\\xa0\\xa0\\xa037%\\xaa\\xba\\xa6\\xa8\\xa5\\\\\\xb2v\\xac\\xdd\\xa6\\xfc\\xab\\xdc\\xb0\\xaa\\xa1A\\xa6\\xfd\\xacO\\xa5L\\xab\\xdc\\xb2M\\xb7\\xa1\\xa1A\\xa4@\\xaf\\xeb\\xb0\\xb5\\xa4\\xad\\xa6\\xb8\\xb3o\\xbc\\xcb\\xaa\\xba\\xa5\\xf4\\xb0\\xc8\\xa1A\\xa4~\\xaf\\xe0\\xa6\\xa8\\xa5\\\\\\xa4@\\xa6\\xb8\\xa1A\\xa8\\xc3\\xabD\\xb0\\xb5\\xa4T\\xa6\\xb8\\xb4N\\xaf\\xe0\\xa7\\xb9\\xa6\\xa8\\xa4@\\xa6\\xb8\\xa1A\\xa5i\\xacO\\xa5L\\xb1\\xb5\\xa8\\xfa\\xa5v\\xb8\\xd6\\xaf\\xc5\\xa5\\xf4\\xb0\\xc8\\xa1A\\xa4@\\xad\\xd3\\xacP\\xb4\\xc1\\xa4~\\xaf\\xe0100%\\xb1\\xb5\\xa8\\xec\\xa4@\\xa6\\xb8\\xa1A\\xb2\\xca\\xb2\\xa4\\xa6\\xf4\\xba\\xe2\\xa4]\\xb4N\\xacO\\xbb\\xa1\\xa4\\xad\\xad\\xd3\\xacP\\xb4\\xc1\\xa4~\\xaf\\xe0\\xc5\\xfd\\xb3\\xcd\\xafS\\xa9M\\xa6w\\xaeR\\xa7\\xb9\\xa6\\xa8\\xa4@\\xa6\\xb8\\xa5v\\xb8\\xd6\\xaf\\xc5\\xa5\\xf4\\xb0\\xc8\\xa1C<br/>\\n<br/>\\r\\n\\xa0\\xa0\\xa0\\xa0\\xb9\\xef\\xa4_\\xa5\\xdb\\xaep\\xb3o\\xbc\\xcb\\xa5\\xd5\\xa4\\xe2\\xb0_\\xaea\\xa1A\\xa8\\xad\\xab\\xe1\\xa8S\\xa6\\xb3\\xa5\\xf4\\xa6\\xf3\\xa4j\\xb0]\\xb9\\xce\\xa4\\xe4\\xab\\xf9\\xaa\\xba\\xa4\\xbd\\xb7|\\xa8\\xd3\\xbb\\xa1\\xa1A\\xb3o\\xae\\xc4\\xb2v\\xafu\\xaa\\xba\\xa4\\xa3\\xacO\\xab\\xdc\\xb0\\xaa\\xa1C<br/>\\n<br/>\\r\\n\\xa0\\xa0\\xa0\\xa0\\xa1\\xa7\\xac\\xdd\\xa8\\xd3\\xc1\\xd9\\xacO\\xadn\\xa5\\xce\\xb1\\xbc\\xa4F\\xa1C\\xa1\\xa8\\xa5\\xdb\\xaep\\xa5\\xb4\\xb6}\\xadI\\xa5]\\xac\\xdd\\xb5\\xdb\\xadI\\xa5]\\xa8\\xbd\\xc0R\\xc0R\\xa9\\xf1\\xb5\\xdb\\xaa\\xba\\xa4C\\xb1m\\xaaG\\xb9\\xea\\xa1C<br/>\\n<br/>\\r\\n\\xa0\\xa0\\xa0\\xa0\\xa4C\\xb1m\\xaaG\\xb9\\xea\\xa7@\\xac\\xb0\\xb8t\\xaa\\xab\\xa1A\\xa5i\\xa5H\\xa4j\\xb4T\\xb4\\xa3\\xa4\\xc9\\xaa\\xb1\\xaea\\xaa\\xba\\xbc\\xe7\\xa4O\\xa1A\\xac\\xb0\\xab\\xe1\\xad\\xb1\\xae\\xca\\xa4\\xc9\\xa5|\\xb6\\xa5\\xa4\\xad\\xb6\\xa5\\xc2\\xbe\\xb7~\\xa5\\xb4\\xa4U\\xb0\\xed\\xb9\\xea\\xaa\\xba\\xb0\\xf2\\xc2\\xa6\\xa1A\\xac\\xc6\\xa6\\xdc\\xb9\\xef\\xa4_\\xae\\xca\\xa4\\xc9\\xa4\\xbb\\xb6\\xa5\\xc2\\xbe\\xb7~\\xb3\\xa3\\xa6\\xb3\\xc0\\xb0\\xa7U\\xa1A\\xb2\\xa6\\xb3\\xba\\xa5|\\xa4j\\xc1\\xf4\\xc2\\xc3\\xc4\\xdd\\xa9\\xca\\xb9\\xef\\xa4_\\xaa\\xb1\\xaea\\xa8\\xd3\\xbb\\xa1\\xa4\\xd3\\xad\\xab\\xadn\\xa4F\\xa1A\\xb7Q\\xadn\\xb3\\xe6\\xad\\xd3\\xc4\\xdd\\xa9\\xca\\xb4\\xa3\\xa4\\xc9\\xa4@\\xc2I\\xb3\\xa3\\xa4d\\xc3\\xf8\\xb8U\\xc3\\xf8\\xa1A\\xa7\\xf3\\xa7O\\xbb\\xa1\\xa5|\\xa4j\\xc1\\xf4\\xc2\\xc3\\xc4\\xdd\\xa9\\xca\\xa6P\\xae\\xc9\\xb4\\xa3\\xa4\\xc9\\xa4Q\\xa4\\xad\\xc2I\\xa5H\\xa4W\\xa1C<br/>\\n<br/>\\r\\n\\xa0\\xa0\\xa0\\xa0\\xa6\\xfd\\xa6p\\xaaG\\xaf\\xe0\\xb0\\xf6\\xbei\\xa5X\\xa4@\\xa6\\xec\\xaa\\xf1\\xa5G\\xb5L\\xbc\\xc4\\xaa\\xba\\xaa\\xbd\\xc4\\xdd\\xc5@\\xbd\\xc3\\xa1A\\xa4]\\xacO\\xa4@\\xa5\\xf3\\xa4\\xa3\\xbf\\xe0\\xaa\\xba\\xa8\\xc6\\xb1\\xa1\\xa1C<br/>\\n<br/>\\r\\n\\xa0\\xa0\\xa0\\xa0\\xadn\\xaa\\xbe\\xb9D\\xa4W\\xa4@\\xa5@\\xb3\\xcd\\xafS\\xa5u\\xa6\\xb392\\xc2I\\xbc\\xe7\\xa4O\\xa1A\\xa6b\\xa4\\xad\\xb6\\xa5\\xae\\xc9\\xa5i\\xacO\\xa6P\\xb6\\xa5\\xb5L\\xbc\\xc4\\xaa\\xba\\xa6s\\xa6b\\xa1A\\xa5u\\xa6\\xb3\\xa4\\xbb\\xb6\\xa5\\xaf\\xab\\xaf\\xc5\\xaa\\xb1\\xaea\\xa4~\\xaf\\xe0\\xa4O\\xc0\\xa3\\xa4@\\xc4w\\xa1C<br/>\\n<br/>\\r\\n\\xa0\\xa0\\xa0\\xa0\\xa6p\\xaaG\\xafu\\xaf\\xe0\\xb0\\xf6\\xbei\\xa5X\\xa4@\\xa6\\xec\\xa4\\xbb\\xb6\\xa5\\xaa\\xbd\\xc4\\xdd\\xc5@\\xbd\\xc3\\xa1A\\xafu\\xb7\\xed\\xa5i\\xa5H\\xa6b\\xaf\\xab\\xb0\\xec\\xa8\\xbd\\xbe\\xee\\xb5\\xdb\\xa8\\xab\\xa4F\\xa1A\\xa4\\xa3\\xb9L\\xb7Q\\xadn\\xc5\\xfd\\xa4@\\xa6\\xecnpc\\xaa\\xbd\\xc4\\xdd\\xc5@\\xbd\\xc3\\xa6\\xa8\\xac\\xb0\\xa4\\xbb\\xb6\\xa5\\xa1A\\xb3o\\xa5i\\xa4\\xf1\\xaa\\xb1\\xaea\\xae\\xca\\xa4\\xc9\\xa4\\xbb\\xb6\\xa5\\xc3\\xf8\\xa4\\xd3\\xa6h\\xa4F\\xa1A\\xb3o\\xa4w\\xb8g\\xa4\\xa3\\xacO\\xa5\\xfa\\xa6\\xb3\\xb0]\\xa4O\\xb4N\\xaf\\xe0\\xbf\\xec\\xa8\\xec\\xaa\\xba\\xa8\\xc6\\xb1\\xa1\\xa1C<br/>\\n<br/>\\r\\n\\xa0\\xa0\\xa0\\xa0\\xb9B\\xae\\xf0\\xa1B\\xbe\\xf7\\xb9J\\xa1B\\xb9\\xea\\xa4O\\xb3\\xa3\\xadn\\xa5\\xb2\\xa4\\xa3\\xa5i\\xa4\\xd6\\xa1A\\xb3\\xcc\\xb2\\xd7\\xa4~\\xa6\\xb3\\xa5i\\xaf\\xe0\\xb9F\\xa8\\xec\\xa4\\xbb\\xb6\\xa5\\xa1C<br/>\\n<br/>\\r\\n\\xa0\\xa0\\xa0\\xa0\\xa1\\xa7\\xb3\\xcd\\xafS\\xbc\\xe7\\xa4O\\xb2{\\xa6b\\xa6\\xb394\\xc2I\\xa1A\\xa6w\\xaeR\\xbc\\xe7\\xa4O\\xb8\\xfb\\xb0\\xaa\\xa8\\xac\\xa6\\xb396\\xc2I\\xa1A\\xc1\\xf6\\xb5M\\xa6w\\xaeR\\xa6b\\xa7\\xdc\\xa5\\xbf\\xad\\xb1\\xa4W\\xa4\\xa3\\xa6p\\xb3\\xcd\\xafS\\xa1A\\xc1\\xd9\\xacO\\xa7\\xe2\\xa4C\\xb1m\\xaaG\\xb9\\xea\\xb5\\xb9\\xa6w\\xaeR\\xa8\\xd3\\xa5\\xce\\xa7a\\xa1C\\xa1\\xa8\\xa5\\xdb\\xaep\\xb7Q\\xa4F\\xb7Q\\xa1A\\xb3\\xcc\\xb2\\xd7\\xa7\\xe2\\xa4C\\xb1m\\xaaG\\xb9\\xea\\xb5\\xb9\\xa4F\\xa6w\\xaeR\\xad\\xb9\\xa5\\xce\\xa1C<br/>\\n<br/>\\r\\n\\xa0\\xa0\\xa0\\xa0\\xa6w\\xaeR\\xa6b\\xa6Y\\xa4U\\xa4C\\xb1m\\xaaG\\xb9\\xea\\xab\\xe1\\xa1A\\xb9y\\xae\\xc9\\xbe\\xe3\\xad\\xd3\\xa9\\xd0\\xb6\\xa1\\xaa\\xba\\xc5]\\xa4O\\xb3\\xa3\\xa8g\\xbc\\xc9\\xb0_\\xa8\\xd3\\xa1C<br/>\\n<br/>\\r\\n\\xa0\\xa0\\xa0\\xa0\\xb3o\\xba\\xd8\\xa8g\\xbc\\xc9\\xb8\\xf2\\xa8\\xcf\\xa5\\xce\\xb0\\xaa\\xb6\\xa5\\xc5]\\xaak\\xa4\\xa3\\xa6P\\xa1A\\xa7\\xf3\\xb9\\xb3\\xacO\\xa8\\xfc\\xa8\\xec\\xa4F\\xa4\\xb0\\xbb\\xf2\\xaaF\\xa6\\xe8\\xbe\\xde\\xb1\\xb1\\xa4@\\xaf\\xeb\\xa1A\\xa8g\\xbc\\xc9\\xaa\\xba\\xabD\\xb1`\\xa6\\xb3\\xb3W\\xab\\xdf\\xa1A\\xa4\\xa3\\xa6P\\xaa\\xba\\xa4\\xb8\\xaf\\xc0\\xb6\\xb0\\xa6X\\xa6b\\xa4@\\xb0_\\xa1A\\xa4\\xc6\\xac\\xb0\\xa4C\\xb1m\\xc3\\xfa\\xae\\xf0\\xba\\xc6\\xa8g\\xacy\\xa4J\\xa6w\\xaeR\\xaa\\xba\\xa8\\xad\\xc5\\xe9\\xa4\\xba\\xa1C<br/>\\n<br/>\\r\\n\\xa0\\xa0\\xa0\\xa0\\xc0H\\xb5\\xdb\\xb8\\xc1\\xbe\\xd6\\xa6\\xd3\\xa6\\xdc\\xaa\\xba\\xa4C\\xa6\\xe2\\xa4\\xb8\\xaf\\xc0\\xa1A\\xa6w\\xaeR\\xa4]\\xb3Q\\xa4C\\xa6\\xe2\\xa4\\xb8\\xaf\\xc0\\xa7\\xb9\\xa5\\xfe\\xa5]\\xbbq\\xa6\\xed\\xa1A\\xb4N\\xa6n\\xb9\\xb3\\xacO\\xa4@\\xad\\xd3\\xa5\\xa8\\xa4j\\xaa\\xba\\xc5\\xfa\\xc3\\xb5\\xa1A\\xa4@\\xb0{\\xa4@\\xb0{\\xa1A\\xba\\xec\\xa9\\xf1\\xa5X\\xa4C\\xa6\\xe2\\xb5\\xd8\\xa5\\xfa\\xa1A\\xb4\\xb2\\xb5o\\xa5X\\xc5\\xe5\\xa4H\\xaa\\xba\\xab\\xc2\\xc0\\xa3\\xa1A\\xb4N\\xb3s\\xa5\\xdb\\xaep\\xa5\\xbb\\xa4H\\xb3\\xa3\\xb3Q\\xc0\\xa3\\xa8\\xee\\xaa\\xba\\xc1y\\xa6\\xe2\\xc5K\\xabC\\xa1A\\xa5\\xfa\\xacO\\xb2\\xbe\\xb0\\xca\\xa4@\\xae\\xda\\xa4\\xe2\\xab\\xfc\\xb3\\xa3\\xa7x\\xc3\\xf8\\xb8U\\xa4\\xc0\\xa1A\\xb9\\xb3\\xacO\\xa4\\xf4\\xa6\\xe2\\xc1\\xa5\\xc1\\xa8\\xa9M\\xa4\\xf5\\xbbR\\xa8\\xe2\\xa4H\\xacO\\xa7\\xb9\\xa5\\xfe\\xa4\\xa3\\xaf\\xe0\\xb0\\xca\\xbcu\\xa1A\\xa6n\\xb9\\xb3\\xa4@\\xaey\\xa5\\xdb\\xb9\\xb3\\xa1C<br/>\\n<br/>\\r\\n\\xa0\\xa0\\xa0\\xa0\\xa6p\\xaaG\\xb3o\\xa8\\xbd\\xa4\\xa3\\xacO\\xa4G\\xbc\\xd3vip\\xa4j\\xc6U\\xa1A\\xbbP\\xa5~\\xac\\xc9\\xa6\\xb3\\xb5\\xdb\\xc5]\\xaak\\xb0}\\xb9j\\xc2\\xf7\\xa1C<br/>\\n<br/>\\r\\n\\xa0\\xa0\\xa0\\xa0\\xa5\\xdb\\xaep\\xb5\\xb7\\xb2@\\xa4\\xa3\\xc3h\\xba\\xc3\\xbe\\xe3\\xad\\xd3\\xab_\\xc0I\\xaa\\xcc\\xa8\\xf3\\xb7|\\xa4\\xba\\xaa\\xba\\xaa\\xb1\\xaea\\xb3\\xa3\\xb7|\\xadw\\xa6b\\xa6a\\xa4W\\xa1C<br/>\\n<br/>\\r\\n\\xa0\\xa0\\xa0\\xa0\\xc0H\\xab\\xe1\\xa6b\\xb9L\\xa4F\\xa4@\\xa4\\xc0\\xc4\\xc1\\xa4\\xa7\\xab\\xe1\\xa1A\\xa6w\\xaeR\\xa4\\xc6\\xa6\\xa8\\xaa\\xba\\xa4C\\xa6\\xe2\\xc5\\xfa\\xc3\\xb5\\xb5\\xf5\\xa5X\\xa4F\\xa4@\\xb1\\xf8\\xb2\\xd3\\xc1_\\xa1A\\xc0H\\xb5\\xdb\\xbe\\xe3\\xad\\xd3\\xb8H\\xb5\\xf5\\xa1A\\xa6\\xd3\\xa6w\\xaeR\\xa4]\\xb1q\\xc5\\xfa\\xc3\\xb5\\xa4\\xa4\\xbdw\\xbdw\\xa8\\xab\\xa5X\\xa1A\\xa4\\xa3\\xb9L\\xbbP\\xa4\\xa7\\xabe\\xa4\\xa3\\xa6P\\xaa\\xba\\xacO\\xa1A\\xa6w\\xaeR\\xa6\\xb9\\xae\\xc9\\xb4N\\xb9\\xb3\\xacO\\xc5]\\xaak\\xa4\\xb8\\xaf\\xc0\\xaa\\xba\\xa5D\\xae_\\xa1A\\xa5|\\xa9P\\xaa\\xba\\xc5]\\xaak\\xa4\\xb8\\xaf\\xc0\\xacO\\xa7\\xd4\\xa4\\xa3\\xa6\\xed\\xaa\\xba\\xa6\\xda\\xaaA\\xa4_\\xa6w\\xaeR\\xa5\\xbb\\xa4H\\xa1C<br/>\\n<br/>\\r\\n\\xa0\\xa0\\xa0\\xa0\\xa1\\xa7\\xa6\\xa8\\xa5\\\\\\xa4F\\xb6\\xdc\\xa1H\\xa1\\xa8\\xa5\\xdb\\xaep\\xa4\\xa3\\xa5\\xd1\\xba\\xf2\\xb1i\\xa6a\\xacd\\xac\\xdd\\xb0_\\xa6w\\xaeR\\xaa\\xba\\xbc\\xc6\\xbe\\xda\\xa1C<br/>\\n<br/>\\r\\n\\xa0\\xa0\\xa0\\xa0ps\\xa1J\\xb7P\\xc1\\xc2\\xab\\xb8\\xa6a\\xaa\\xba100000\\xa5\\xb4\\xbd\\xe0\\xa1I\\xa9\\xfa\\xa4\\xd1\\xa4T\\xa7\\xf3\\xa1I<br/>\\n<br/>\\r\\n\\xa0\\xa0\\xa0\\xa0\\xa5\\xbf\\xaa\\xa9\\xadq\\xbe\\\\\\xa6b\\xbe\\\\\\xa4\\xe5\\xbaX\\xa4U\\xaa\\xba\\xb0_\\xc2I\\xa1A\\xa5i\\xa5H\\xb2\\xc4\\xa4@\\xae\\xc9\\xb6\\xa1\\xac\\xdd\\xa8\\xec\\xb3\\xcc\\xb7s\\xb3\\xb9\\xb8`(\\xa5\\xbc\\xa7\\xb9\\xab\\xdd\\xc4\\xf2\\xa1C)\\r\\n </div>]"
      ]
     },
     "execution_count": 25,
     "metadata": {},
     "output_type": "execute_result"
    }
   ],
   "source": [
    "div_info = soup5.find_all('div',class_='novel_content')\n",
    "div_info#回傳值動作"
   ]
  },
  {
   "cell_type": "code",
   "execution_count": 48,
   "metadata": {
    "collapsed": false
   },
   "outputs": [
    {
     "data": {
      "text/plain": [
       "bs4.element.Tag"
      ]
     },
     "execution_count": 48,
     "metadata": {},
     "output_type": "execute_result"
    }
   ],
   "source": [
    "type(div_info)#已經得到ul teg物件=ResultSet是物件"
   ]
  },
  {
   "cell_type": "code",
   "execution_count": 50,
   "metadata": {
    "collapsed": false
   },
   "outputs": [
    {
     "data": {
      "text/plain": [
       "['HTML_FORMATTERS',\n",
       " 'XML_FORMATTERS',\n",
       " '__call__',\n",
       " '__class__',\n",
       " '__contains__',\n",
       " '__copy__',\n",
       " '__delattr__',\n",
       " '__delitem__',\n",
       " '__dict__',\n",
       " '__doc__',\n",
       " '__eq__',\n",
       " '__format__',\n",
       " '__getattr__',\n",
       " '__getattribute__',\n",
       " '__getitem__',\n",
       " '__hash__',\n",
       " '__init__',\n",
       " '__iter__',\n",
       " '__len__',\n",
       " '__module__',\n",
       " '__ne__',\n",
       " '__new__',\n",
       " '__nonzero__',\n",
       " '__reduce__',\n",
       " '__reduce_ex__',\n",
       " '__repr__',\n",
       " '__setattr__',\n",
       " '__setitem__',\n",
       " '__sizeof__',\n",
       " '__str__',\n",
       " '__subclasshook__',\n",
       " '__unicode__',\n",
       " '__weakref__',\n",
       " '_all_strings',\n",
       " '_attr_value_as_string',\n",
       " '_attribute_checker',\n",
       " '_find_all',\n",
       " '_find_one',\n",
       " '_formatter_for_name',\n",
       " '_is_xml',\n",
       " '_lastRecursiveChild',\n",
       " '_last_descendant',\n",
       " '_select_debug',\n",
       " '_selector_combinators',\n",
       " '_should_pretty_print',\n",
       " '_tag_name_matches_and',\n",
       " 'append',\n",
       " 'attribselect_re',\n",
       " 'attrs',\n",
       " 'can_be_empty_element',\n",
       " 'childGenerator',\n",
       " 'children',\n",
       " 'clear',\n",
       " 'contents',\n",
       " 'decode',\n",
       " 'decode_contents',\n",
       " 'decompose',\n",
       " 'descendants',\n",
       " 'encode',\n",
       " 'encode_contents',\n",
       " 'extract',\n",
       " 'fetchNextSiblings',\n",
       " 'fetchParents',\n",
       " 'fetchPrevious',\n",
       " 'fetchPreviousSiblings',\n",
       " 'find',\n",
       " 'findAll',\n",
       " 'findAllNext',\n",
       " 'findAllPrevious',\n",
       " 'findChild',\n",
       " 'findChildren',\n",
       " 'findNext',\n",
       " 'findNextSibling',\n",
       " 'findNextSiblings',\n",
       " 'findParent',\n",
       " 'findParents',\n",
       " 'findPrevious',\n",
       " 'findPreviousSibling',\n",
       " 'findPreviousSiblings',\n",
       " 'find_all',\n",
       " 'find_all_next',\n",
       " 'find_all_previous',\n",
       " 'find_next',\n",
       " 'find_next_sibling',\n",
       " 'find_next_siblings',\n",
       " 'find_parent',\n",
       " 'find_parents',\n",
       " 'find_previous',\n",
       " 'find_previous_sibling',\n",
       " 'find_previous_siblings',\n",
       " 'format_string',\n",
       " 'get',\n",
       " 'getText',\n",
       " 'get_text',\n",
       " 'has_attr',\n",
       " 'has_key',\n",
       " 'hidden',\n",
       " 'index',\n",
       " 'insert',\n",
       " 'insert_after',\n",
       " 'insert_before',\n",
       " 'isSelfClosing',\n",
       " 'is_empty_element',\n",
       " 'name',\n",
       " 'namespace',\n",
       " 'next',\n",
       " 'nextGenerator',\n",
       " 'nextSibling',\n",
       " 'nextSiblingGenerator',\n",
       " 'next_element',\n",
       " 'next_elements',\n",
       " 'next_sibling',\n",
       " 'next_siblings',\n",
       " 'parent',\n",
       " 'parentGenerator',\n",
       " 'parents',\n",
       " 'parserClass',\n",
       " 'parser_class',\n",
       " 'prefix',\n",
       " 'prettify',\n",
       " 'previous',\n",
       " 'previousGenerator',\n",
       " 'previousSibling',\n",
       " 'previousSiblingGenerator',\n",
       " 'previous_element',\n",
       " 'previous_elements',\n",
       " 'previous_sibling',\n",
       " 'previous_siblings',\n",
       " 'recursiveChildGenerator',\n",
       " 'renderContents',\n",
       " 'replaceWith',\n",
       " 'replaceWithChildren',\n",
       " 'replace_with',\n",
       " 'replace_with_children',\n",
       " 'select',\n",
       " 'select_one',\n",
       " 'setup',\n",
       " 'string',\n",
       " 'strings',\n",
       " 'stripped_strings',\n",
       " 'tag_name_re',\n",
       " 'text',\n",
       " 'unwrap',\n",
       " 'wrap']"
      ]
     },
     "execution_count": 50,
     "metadata": {},
     "output_type": "execute_result"
    }
   ],
   "source": [
    "dir(div_info) #dir後在知道用哪些方法可以取值"
   ]
  },
  {
   "cell_type": "code",
   "execution_count": 53,
   "metadata": {
    "collapsed": false
   },
   "outputs": [
    {
     "data": {
      "text/plain": [
       "<div class=\"novel_content\"><script language=\"javascript\" src=\"/js/ad01.js\" type=\"text/javascript\"></script>\\r\\xa0\\xa0\\xa0\\xa0\\xa5\\xdb\\xaep\\xa7v\\xa8\\xec\\xa8t\\xb2\\xce\\xb4\\xa3\\xa5\\xdc\\xad\\xb5\\xa1A\\xa5i\\xacO\\xb4h\\xa6n\\xa5b\\xa4\\xd1\\xa1C( \\xb7s\\xc4\\xc6\\xa4\\xd1\\xa4\\xe5\\xbe\\xc7\\xa1@tw.piaotian.cc )<br/>\\n<br/>\\r\\n\\xa0\\xa0\\xa0\\xa0\\xa8S\\xb7Q\\xa8\\xec\\xc1\\xd9\\xaf\\xe0\\xb3o\\xbc\\xcb\\xc0\\xf2\\xb1o\\xb0\\xaa\\xaf\\xc5\\xba\\xd9\\xb8\\xb9\\xa1C<br/>\\n<br/>\\r\\n\\xa0\\xa0\\xa0\\xa0\\xb1o\\xa8\\xec\\xa4@\\xad\\xd3\\xb4\\xb6\\xb3q\\xba\\xd9\\xb8\\xb9\\xb4N\\xa4\\xa3\\xaee\\xa9\\xf6\\xa1A\\xaf\\xe0\\xb1o\\xa8\\xec\\xa4@\\xad\\xd3\\xb0\\xaa\\xaf\\xc5\\xba\\xd9\\xb8\\xb9\\xb3\\xa3\\xacO\\xa8\\xab\\xa4j\\xb9B\\xa1A\\xb2{\\xa6b\\xa5u\\xacO\\xaa\\xe1\\xb6O\\xa4F\\xb0\\xcf\\xb0\\xcf1400\\xaa\\xf7\\xa1A\\xa4\\xa3\\xb6\\xc8\\xb8\\xd1\\xa8M\\xa4F\\xab\\xb0\\xa5\\xab\\xa8\\xbd\\xc3\\xaa\\xb2\\xb4\\xaa\\xba\\xac\\xf5\\xa6W\\xaa\\xb1\\xaea\\xa1A\\xc1\\xd9\\xc1\\xc8\\xa8\\xec\\xa4@\\xad\\xd3\\xb0\\xaa\\xaf\\xc5\\xba\\xd9\\xb8\\xb9\\xa1C<br/>\\n<br/>\\r\\n\\xa0\\xa0\\xa0\\xa0\\xb3o\\xbb\\xa1\\xa5X\\xa5h\\xae\\xa3\\xa9\\xc8\\xb3\\xa3\\xa8S\\xa6\\xb3\\xa4H\\xabH\\xa1C<br/>\\n<br/>\\r\\n\\xa0\\xa0\\xa0\\xa0\\xa4W\\xa4@\\xa5@\\xa8\\xba\\xbb\\xf2\\xa6h\\xa4j\\xa4\\xbd\\xb7|\\xac\\xb0\\xa4F\\xa7\\xcb\\xa8\\xec\\xa4@\\xad\\xd3\\xb0\\xaa\\xaf\\xc5\\xba\\xd9\\xb8\\xb9\\xa1A\\xb4N\\xba\\xe2\\xacO\\xaa\\xe1\\xb6O\\xa4W\\xb8U\\xaa\\xf7\\xb6R\\xa4U\\xa4@\\xad\\xd3\\xb7\\xc7\\xbdT\\xaa\\xba\\xbdu\\xaf\\xc1\\xb3\\xa3\\xc4@\\xb7N\\xa1A\\xac\\xc6\\xa6\\xdc\\xb3\\xa3\\xb7|\\xa5\\xb4\\xaf}\\xc0Y\\xb3\\xa3\\xb1\\xc6\\xa4\\xa3\\xa4W\\xb6\\xa4\\xa1C<br/>\\n<br/>\\r\\n\\xa0\\xa0\\xa0\\xa0\\xa1\\xa7\\xab\\xb0\\xa5\\xab\\xc5@\\xbd\\xc3\\xaa\\xcc\\xa1H\\xa1\\xa8\\xa5\\xdb\\xaep\\xb9\\xef\\xa4_\\xb4\\xb6\\xb3q\\xba\\xd9\\xb8\\xb9\\xc1\\xd9\\xb8\\xfb\\xac\\xb0\\xbc\\xf4\\xb1x\\xa1A\\xb9\\xb3\\xacO\\xb0\\xaa\\xaf\\xc5\\xba\\xd9\\xb8\\xb9\\xb4N\\xa4F\\xb8\\xd1\\xaa\\xba\\xab\\xdc\\xa4\\xd6\\xa4F\\xa1A\\xb2\\xa6\\xb3\\xba\\xb0\\xaa\\xaf\\xc5\\xba\\xd9\\xb8\\xb9\\xae\\xc4\\xaaG\\xa4\\xa3\\xa4@\\xaf\\xeb\\xa1A\\xbd\\xd6\\xa4]\\xa4\\xa3\\xb7|\\xbb\\xb4\\xa9\\xf6\\xaan\\xc5S\\xa1A\\xb4N\\xa6n\\xb9\\xb3\\xb7\\xa5\\xab~\\xaaZ\\xbe\\xb9\\xb8\\xcb\\xb3\\xc6\\xaa\\xba\\xc4\\xdd\\xa9\\xca\\xa9M\\xa7\\xde\\xaf\\xe0\\xa4@\\xbc\\xcb\\xa1C<br/>\\n<br/>\\r\\n\\xa0\\xa0\\xa0\\xa0\\xab\\xb0\\xa5\\xab\\xc5@\\xbd\\xc3\\xaa\\xcc\\xa1A\\xb0\\xaa\\xaf\\xc5\\xba\\xd9\\xb8\\xb9\\xa1A\\xa6b\\xb6\\xc2\\xb7t\\xb6\\xd5\\xa4O\\xaa\\xba\\xbbG\\xbbk\\xa4U\\xabO\\xc5@\\xab\\xb0\\xa5\\xab\\xa4\\xa3\\xa8\\xfc\\xabI\\xae`\\xaa\\xba\\xad^\\xb6\\xaf\\xa1A\\xbe\\xd6\\xa6\\xb3\\xa6\\xb9\\xba\\xd9\\xb8\\xb9\\xaa\\xba\\xaa\\xb1\\xaea\\xaf\\xe0\\xa6b\\xa5\\xf4\\xa6\\xf3\\xa4H\\xb1\\xda\\xab\\xb0\\xa5\\xab\\xa8\\xbd\\xa8\\xc9\\xa6\\xb3\\xa4j\\xb6Q\\xb1\\xda\\xab\\xdd\\xb9J\\xa1A\\xa6P\\xae\\xc9\\xa8C\\xa9P\\xb3\\xa3\\xa5i\\xa5H\\xac\\xb0\\xaa\\xbd\\xc4\\xdd\\xc5@\\xbd\\xc3\\xa6b\\xab_\\xc0I\\xaa\\xcc\\xa4\\xbd\\xb7|\\xb1\\xb5\\xa8\\xfa\\xa8\\xec\\xa4@\\xad\\xd3\\xa5v\\xb8\\xd6\\xaf\\xc5\\xa5\\xf4\\xb0\\xc8\\xa1A\\xa6\\xb9\\xa5~\\xaa\\xbd\\xc4\\xdd\\xc5@\\xbd\\xc3\\xa7\\xb9\\xa6\\xa8\\xa5\\xf4\\xb0\\xc8\\xaa\\xba\\xa6\\xa8\\xa5\\\\\\xb2v\\xbcW\\xa5[5%\\xa1C<br/>\\n<br/>\\r\\n\\xa0\\xa0\\xa0\\xa0\\xa1\\xa7\\xafu\\xa4\\xa3\\xb7\\\\\\xacO\\xb0\\xaa\\xaf\\xc5\\xba\\xd9\\xb8\\xb9\\xa1A\\xb3\\xba\\xb5M\\xaf\\xe0\\xac\\xb0\\xaa\\xbd\\xc4\\xdd\\xc5@\\xbd\\xc3\\xa8C\\xa9P\\xb3\\xa3\\xb1\\xb5\\xa8\\xfa\\xa4@\\xa6\\xb8\\xa5v\\xb8\\xd6\\xaf\\xc5\\xa5\\xf4\\xb0\\xc8\\xa1I\\xa1\\xa8\\xa5\\xdb\\xaep\\xa4\\xa3\\xa5\\xd1\\xc5\\xe5\\xb3Y\\xa1C<br/>\\n<br/>\\r\\n\\xa0\\xa0\\xa0\\xa0\\xaa\\xbd\\xc4\\xdd\\xc5@\\xbd\\xc3\\xb7Q\\xadn\\xa7\\xd6\\xb3t\\xb4\\xa3\\xa4\\xc9\\xa1A\\xb4N\\xac\\xdd\\xb1q\\xab_\\xc0I\\xaa\\xcc\\xa4\\xbd\\xb7|\\xa8\\xbd\\xb1\\xb5\\xa8\\xfa\\xa4\\xb0\\xbb\\xf2\\xa5\\xf4\\xb0\\xc8\\xa1A\\xa5\\xf4\\xb0\\xc8\\xaf\\xc5\\xa7O\\xb6V\\xb0\\xaa\\xa1A\\xa7\\xb9\\xa6\\xa8\\xab\\xe1\\xc0\\xf2\\xa8\\xfa\\xaa\\xba\\xb8g\\xc5\\xe7\\xad\\xc8\\xa9M\\xaaZ\\xbe\\xb9\\xb8\\xcb\\xb3\\xc6\\xb4N\\xb6V\\xa6n\\xa1C<br/>\\n<br/>\\r\\n\\xa0\\xa0\\xa0\\xa0\\xa4\\xa3\\xb9L\\xab_\\xc0I\\xaa\\xcc\\xa4\\xbd\\xb7|\\xa8\\xbd\\xaa\\xba\\xaa\\xbd\\xc4\\xdd\\xc5@\\xbd\\xc3\\xa5\\xf4\\xb0\\xc8\\xa8\\xc3\\xa8S\\xa6\\xb3\\xa4\\xd3\\xa6h\\xaa\\xba\\xbf\\xef\\xbe\\xdc\\xa1A\\xad\\xfe\\xa9\\xc8\\xacO\\xb7t\\xaa\\xf7\\xaf\\xc5\\xa5\\xf4\\xb0\\xc8\\xb3\\xa3\\xab\\xdc\\xa4\\xd6\\xa5X\\xb2{\\xa1A\\xa4@\\xa9P\\xaf\\xe0\\xa5X\\xb2{\\xa4@\\xa6\\xb8\\xb3\\xa3\\xacO\\xb9B\\xae\\xf0\\xa1A\\xa7\\xf3\\xa7O\\xbb\\xa1\\xa5v\\xb8\\xd6\\xaf\\xc5\\xa5\\xf4\\xb0\\xc8\\xa1A\\xa4@\\xad\\xd3\\xa4\\xeb\\xaf\\xe0\\xa4S\\xa4@\\xa6\\xb8\\xb3\\xa3\\xacO\\xbc\\xb2\\xa4j\\xb9B\\xa4F\\xa1C<br/>\\n<br/>\\r\\n\\xa0\\xa0\\xa0\\xa0\\xa6p\\xaaG\\xaf\\xe0\\xa8C\\xa9P\\xc5\\xfd\\xaa\\xbd\\xc4\\xdd\\xc5@\\xbd\\xc3\\xb3\\xa3\\xb6i\\xa6\\xe6\\xa4@\\xa6\\xb8\\xa5v\\xb8\\xd6\\xaf\\xc5\\xa5\\xf4\\xb0\\xc8\\xa1A\\xa8\\xba\\xb4\\xa3\\xa4\\xc9\\xb3t\\xab\\xd7\\xc2\\xb2\\xaa\\xbd\\xa4\\xa3\\xb4\\xb1\\xb7Q\\xb6H\\xa1A\\xa7\\xf3\\xa4\\xa3\\xa5\\xce\\xbb\\xa1\\xaf\\xe0\\xb4\\xa3\\xa4\\xc95%\\xaa\\xba\\xa6\\xa8\\xa5\\\\\\xb2v\\xa1C<br/>\\n<br/>\\r\\n\\xa0\\xa0\\xa0\\xa0\\xadn\\xaa\\xbe\\xb9D\\xb4N\\xba\\xe2\\xacO\\xc5\\xfd\\xb3\\xcd\\xafS\\xa9M\\xa6w\\xaeR\\xb3o\\xbc\\xcb\\xaa\\xba\\xb7t\\xaa\\xf7\\xaf\\xc5\\xc5@\\xbd\\xc3\\xa8\\xd3\\xa7\\xb9\\xa6\\xa8\\xb7t\\xaa\\xf7\\xaf\\xc5\\xa5\\xf4\\xb0\\xc8\\xa1A\\xa6\\xa8\\xa5\\\\\\xb2v\\xa4]\\xb4N50%\\xa1A\\xa6p\\xaaG\\xaaZ\\xbe\\xb9\\xb8\\xcb\\xb3\\xc6\\xabD\\xb1`\\xa6n\\xa1A\\xa6\\xa8\\xa5\\\\\\xb2v\\xa4]\\xb4N80%\\xa1A\\xa8\\xc3\\xa4\\xa3\\xaf\\xe0\\xb9F\\xa8\\xec100%\\xa1A\\xa7\\xf3\\xa7O\\xbb\\xa1\\xa5v\\xb8\\xd6\\xaf\\xc5\\xa5\\xf4\\xb0\\xc8\\xa1C<br/>\\n<br/>\\r\\n\\xa0\\xa0\\xa0\\xa0\\xb4N\\xa5\\xdb\\xaep\\xa9\\xd2\\xa4F\\xb8\\xd1\\xa1A\\xad\\xfe\\xa9\\xc8\\xacO\\xaaZ\\xbe\\xb9\\xb8\\xcb\\xb3\\xc6\\xabD\\xb1`\\xa6n\\xaa\\xba\\xb7t\\xaa\\xf7\\xaf\\xc5\\xc5@\\xbd\\xc3\\xa1A\\xa7\\xb9\\xa6\\xa8\\xa5v\\xb8\\xd6\\xaf\\xc5\\xa5\\xf4\\xb0\\xc8\\xaa\\xba\\xb7\\xa7\\xb2v\\xa4]\\xb4N\\xa5u\\xa6\\xb330%\\xa6\\xd3\\xa4w\\xa1A\\xa5\\xbf\\xb1`\\xb7t\\xaa\\xf7\\xc5@\\xbd\\xc3\\xacO20%\\xaa\\xba\\xb4X\\xb2v\\xa7\\xb9\\xa6\\xa8\\xa1A\\xa6\\xdc\\xa4_\\xa7\\xf3\\xa7C\\xa4@\\xbch\\xaa\\xba\\xba\\xeb\\xaa\\xf7\\xaf\\xc5\\xc5@\\xbd\\xc3\\xa1A\\xad\\xfe\\xa9\\xc8\\xa4@\\xa8\\xad\\xb7\\xa5\\xab~\\xb8\\xcb\\xb3\\xc6\\xa1A\\xaf\\xe0\\xa6\\xb310%\\xaa\\xba\\xa6\\xa8\\xa5\\\\\\xb2v\\xb4N\\xab\\xdc\\xb0f\\xa4\\xd1\\xa4F\\xa1C<br/>\\n<br/>\\r\\n\\xa0\\xa0\\xa0\\xa0\\xa9\\xd2\\xa5H\\xa4@\\xad\\xd3\\xb0\\xaa\\xaf\\xc5\\xba\\xd9\\xb8\\xb9\\xa1A\\xaf\\xe0\\xc5\\xfd\\xa5\\xf4\\xb0\\xc8\\xa6\\xa8\\xa5\\\\\\xb2v\\xb4\\xa3\\xa4\\xc95%\\xa1A\\xa8\\xba\\xacO\\xac\\xdb\\xb7\\xed\\xbcF\\xae`\\xaa\\xba\\xa8\\xc6\\xb1\\xa1\\xa1C<br/>\\n<br/>\\r\\n\\xa0\\xa0\\xa0\\xa0\\xb7Q\\xa8\\xec\\xb3o\\xa8\\xbd\\xa1A\\xa5\\xdb\\xaep\\xb4N\\xa7\\xe2\\xb7I\\xc6F\\xaa\\xcc\\xba\\xd9\\xb8\\xb9\\xb4\\xab\\xa6\\xa8\\xa4F\\xab\\xb0\\xa5\\xab\\xc5@\\xbd\\xc3\\xaa\\xcc\\xba\\xd9\\xb8\\xb9\\xa1A\\xa8\\xc3\\xa5B\\xa5l\\xb3\\xea\\xa5X\\xa4F\\xb3\\xcd\\xafS\\xa9M\\xa6w\\xaeR\\xa8\\xe2\\xa4H\\xb9L\\xa8\\xd3\\xa1C<br/>\\n<br/>\\r\\n\\xa0\\xa0\\xa0\\xa0\\xa4@\\xacq\\xae\\xc9\\xb6\\xa1\\xa4\\xa3\\xa8\\xa3\\xa1A\\xb3\\xcd\\xafS\\xa9M\\xa6w\\xaeR\\xa8\\xe2\\xa4H\\xaa\\xba\\xb5\\xa5\\xaf\\xc5\\xa4]\\xacO\\xb4\\xa3\\xa4\\xc9\\xa4\\xa3\\xa4\\xd6\\xa1A\\xb1q\\xa4\\xa7\\xabe\\xaa\\xba60\\xaf\\xc5\\xa4w\\xb8g\\xb4\\xa3\\xa4\\xc9\\xa8\\xec\\xa4F65\\xaf\\xc5\\xa1C<br/>\\n<br/>\\r\\n\\xa0\\xa0\\xa0\\xa0\\xa4@\\xae\\xc7\\xaa\\xba\\xa4\\xf4\\xa6\\xe2\\xc1\\xa5\\xc1\\xa8\\xa9M\\xa4\\xf5\\xbbR\\xac\\xdd\\xa8\\xec\\xb3\\xcd\\xafS\\xa9M\\xa6w\\xaeR\\xa8\\xe2\\xa4H\\xab\\xe1\\xa1A\\xa4\\xdf\\xa4\\xa4\\xb3\\xa3\\xbe_\\xc5\\xe5\\xa4\\xa3\\xa4w\\xa1C<br/>\\n<br/>\\r\\n\\xa0\\xa0\\xa0\\xa0\\xa1\\xa7\\xab\\xe7\\xbb\\xf2\\xb9\\xea\\xa4O\\xb7|\\xb3o\\xbb\\xf2\\xb1j\\xa1H\\xa1\\xa8\\xa4\\xf4\\xa6\\xe2\\xc1\\xa5\\xc1\\xa8\\xb8\\xd2\\xb2\\xa7\\xb9D\\xa1C<br/>\\n<br/>\\r\\n\\xa0\\xa0\\xa0\\xa0\\xa6o\\xa6\\xad\\xa4w\\xb8g\\xacO\\xa5\\xd5\\xaae\\xab\\xb0\\xaa\\xba\\xa4l\\xc0\\xef\\xa1A\\xa5i\\xa5H\\xa9\\xdb\\xa6\\xac\\xa6\\xdb\\xa4v\\xaa\\xba\\xaa\\xbd\\xc4\\xdd\\xc5@\\xbd\\xc3\\xa1A\\xa4\\xa3\\xb9L\\xb0\\xca\\xa5\\xce\\xbe\\xe3\\xad\\xd3\\xa4\\xbd\\xb7|\\xaa\\xba\\xa4O\\xb6q\\xa1A\\xc1\\xd9\\xa6\\xb3\\xa5\\xdb\\xaep\\xaa\\xba\\xb1q\\xae\\xc7\\xb4\\xa3\\xc2I\\xa1A\\xa4]\\xa4~\\xa6n\\xa4\\xa3\\xaee\\xa9\\xf6\\xb1q\\xacP\\xa4\\xeb\\xa4\\xfd\\xab\\xb0\\xa8\\xbd\\xa9\\xdb\\xa8\\xec\\xa4F\\xa4@\\xad\\xd3\\xba\\xeb\\xaa\\xf7\\xaf\\xc5\\xc5@\\xbd\\xc3\\xa1A\\xa6\\xd3\\xa5B\\xb3o\\xad\\xd3\\xba\\xeb\\xaa\\xf7\\xaf\\xc5\\xc5@\\xbd\\xc3\\xc1\\xd9\\xacO\\xa4@\\xad\\xd3\\xa6u\\xc5@\\xc3M\\xa4h\\xa1A\\xb8\\xf2\\xa6o\\xb0t\\xa6X\\xa6A\\xbeA\\xa6X\\xa4\\xa3\\xb9L\\xa1A\\xb7\\xed\\xae\\xc9\\xa5i\\xa7\\xe2\\xa4\\xf4\\xa6\\xe2\\xc1\\xa5\\xc1\\xa8\\xb0\\xaa\\xbf\\xb3\\xc3a\\xa4F\\xa1C<br/>\\n<br/>\\r\\n\\xa0\\xa0\\xa0\\xa0\\xa6b\\xa6o\\xaa\\xba\\xa5\\xfe\\xa4O\\xb0\\xf6\\xbei\\xa4U\\xa1A\\xb1\\xb5\\xa8\\xfc\\xa4F\\xa6U\\xba\\xd8\\xb0\\xaa\\xaf\\xc5\\xa5\\xf4\\xb0\\xc8\\xa1A\\xb2{\\xa6b\\xa4]\\xa4~\\xabj\\xb1j\\xb9F\\xa8\\xec60\\xaf\\xc5\\xa6\\xd3\\xa4w\\xa1A\\xb6Z\\xc2\\xf765\\xaf\\xc5\\xa4\\xa3\\xaa\\xbe\\xb9D\\xc1\\xd9\\xadn\\xb0\\xb5\\xa6h\\xa4\\xd6\\xa5\\xf4\\xb0\\xc8\\xa4~\\xaf\\xe0\\xa4\\xc9\\xa8\\xec\\xa1A\\xa4\\xa3\\xb9L\\xb3o\\xad\\xd3\\xb5\\xa5\\xaf\\xc5\\xa4w\\xb8g\\xac\\xdb\\xb7\\xed\\xc5\\xe5\\xa4H\\xa1A\\xa8\\xe4\\xa5L\\xa4\\xbd\\xb7|\\xb0\\xaa\\xbch\\xa9\\xdb\\xc5\\xf3\\xaa\\xba\\xaa\\xbd\\xc4\\xdd\\xc5@\\xbd\\xc3\\xa4@\\xaf\\xeb\\xa4]\\xb4N\\xacO55\\xaf\\xc5\\xa8\\xec58\\xaf\\xc5\\xa6\\xd3\\xa4w\\xa1A\\xbd\\xd7\\xa8\\xe4\\xb9\\xea\\xa4O\\xc1\\xd9\\xbb\\xb7\\xa4\\xa3\\xa6p\\xa4\\xf4\\xa6\\xe2\\xc1\\xa5\\xc1\\xa8\\xa9\\xdb\\xc5\\xf3\\xaa\\xba\\xaa\\xbd\\xc4\\xdd\\xc5@\\xbd\\xc3\\xa1C<br/>\\n<br/>\\r\\n\\xa0\\xa0\\xa0\\xa0\\xa5i\\xacO\\xa5\\xdb\\xaep\\xa9\\xdb\\xc5\\xf3\\xaa\\xba\\xa8\\xe2\\xad\\xd3\\xaa\\xbd\\xc4\\xdd\\xc5@\\xbd\\xc3\\xb3\\xba\\xb5M\\xb3\\xa3\\xa6\\xb365\\xaf\\xc5\\xa4\\xa3\\xbb\\xa1\\xa1A\\xb5\\xb9\\xa4H\\xaa\\xba\\xb7P\\xc4\\xb1\\xb4N\\xa6n\\xb9\\xb3\\xacO\\xa6b\\xad\\xb1\\xb9\\xef\\xa8\\xe2\\xad\\xd365\\xaf\\xc5\\xaa\\xba\\xa4j\\xbb\\xe2\\xa5D\\xa4@\\xaf\\xeb\\xa1A\\xc5\\xfd\\xa4H\\xa6\\xb3\\xa4@\\xba\\xd8\\xb2\\xbf\\xae\\xa7\\xaa\\xba\\xb7P\\xc4\\xb1\\xa1C<br/>\\n<br/>\\r\\n\\xa0\\xa0\\xa0\\xa0\\xa5\\xdb\\xaep\\xa6b\\xa5l\\xb3\\xea\\xa5X\\xa4F\\xa8\\xe2\\xa4H\\xab\\xe1\\xa1A\\xaa\\xbd\\xb1\\xb5\\xaa\\xe1\\xb6O200\\xaa\\xf7\\xac\\xb0\\xa8\\xe2\\xa4H\\xb1\\xb5\\xa8\\xfa\\xa4F\\xa5v\\xb8\\xd6\\xaf\\xc5\\xa5\\xf4\\xb0\\xc8\\xa1C<br/>\\n<br/>\\r\\n\\xa0\\xa0\\xa0\\xa0\\xab_\\xc0I\\xaa\\xcc\\xa8\\xf3\\xb7|\\xaa\\xba\\xaa\\xbd\\xc4\\xdd\\xc5@\\xbd\\xc3\\xa5v\\xb8\\xd6\\xaf\\xc5\\xa5\\xf4\\xb0\\xc8\\xa8\\xc3\\xabD\\xa5u\\xaf\\xe0\\xa4@\\xad\\xd3\\xa4H\\xa8\\xd3\\xa7\\xb9\\xa6\\xa8\\xa1A\\xa4]\\xa5i\\xa5H\\xb2\\xd5\\xb6\\xa4\\xa7\\xb9\\xa6\\xa8\\xa1A\\xad\\xc9\\xa6\\xb9\\xa8\\xd3\\xbcW\\xa5[\\xa6\\xa8\\xa5\\\\\\xb2v\\xa1A\\xa4\\xa3\\xb9L\\xb2\\xd5\\xb6\\xa4\\xaf\\xe0\\xacO\\xa6\\xdb\\xa4v\\xaa\\xba\\xaa\\xbd\\xc4\\xdd\\xc5@\\xbd\\xc3\\xa4~\\xa6\\xe6\\xa1A\\xa4\\xa3\\xaf\\xe0\\xbbP\\xa8\\xe4\\xa5L\\xa4H\\xaa\\xba\\xaa\\xbd\\xc4\\xdd\\xc5@\\xbd\\xc3\\xb2\\xd5\\xb6\\xa4\\xa1C<br/>\\n<br/>\\r\\n\\xa0\\xa0\\xa0\\xa0\\xb3\\xcd\\xafS\\xa5[\\xa4W\\xa6w\\xaeR\\xa8\\xe2\\xa4H\\xa4@\\xb0_\\xb0\\xb5\\xa5v\\xb8\\xd6\\xaf\\xc5\\xa5\\xf4\\xb0\\xc8\\xa1A\\xc5\\xe3\\xa5\\xdc\\xa5X\\xa8\\xd3\\xaa\\xba\\xa6\\xa8\\xa5\\\\\\xb2v\\xa4@\\xa4U\\xb4N\\xb4\\xa3\\xa4\\xc9\\xa4\\xa3\\xa4\\xd6\\xa1A\\xa5[\\xa4W\\xb0\\xaa\\xaf\\xc5\\xba\\xd9\\xb8\\xb9\\xa1A\\xa6\\xa8\\xa5\\\\\\xb2v\\xaa\\xbd\\xb1\\xb5\\xf6t\\xa4\\xc9\\xa8\\xec37%\\xa1A\\xb3o\\xad\\xd3\\xa6\\xa8\\xa5\\\\\\xb2v\\xa8\\xac\\xa5H\\xc5\\xfd\\xab\\xdc\\xa6h\\xa4H\\xbfE\\xb0\\xca\\xaa\\xba\\xa4\\xa3\\xaf\\xe0\\xa6\\xdb\\xa4w\\xa1A\\xa4\\xa3\\xb9L\\xa5\\xdb\\xaep\\xa8\\xc3\\xa8S\\xa6\\xb3\\xba\\xa1\\xa8\\xac\\xa4_\\xa6\\xb9\\xa1C<br/>\\n<br/>\\r\\n\\xa0\\xa0\\xa0\\xa037%\\xaa\\xba\\xa6\\xa8\\xa5\\\\\\xb2v\\xac\\xdd\\xa6\\xfc\\xab\\xdc\\xb0\\xaa\\xa1A\\xa6\\xfd\\xacO\\xa5L\\xab\\xdc\\xb2M\\xb7\\xa1\\xa1A\\xa4@\\xaf\\xeb\\xb0\\xb5\\xa4\\xad\\xa6\\xb8\\xb3o\\xbc\\xcb\\xaa\\xba\\xa5\\xf4\\xb0\\xc8\\xa1A\\xa4~\\xaf\\xe0\\xa6\\xa8\\xa5\\\\\\xa4@\\xa6\\xb8\\xa1A\\xa8\\xc3\\xabD\\xb0\\xb5\\xa4T\\xa6\\xb8\\xb4N\\xaf\\xe0\\xa7\\xb9\\xa6\\xa8\\xa4@\\xa6\\xb8\\xa1A\\xa5i\\xacO\\xa5L\\xb1\\xb5\\xa8\\xfa\\xa5v\\xb8\\xd6\\xaf\\xc5\\xa5\\xf4\\xb0\\xc8\\xa1A\\xa4@\\xad\\xd3\\xacP\\xb4\\xc1\\xa4~\\xaf\\xe0100%\\xb1\\xb5\\xa8\\xec\\xa4@\\xa6\\xb8\\xa1A\\xb2\\xca\\xb2\\xa4\\xa6\\xf4\\xba\\xe2\\xa4]\\xb4N\\xacO\\xbb\\xa1\\xa4\\xad\\xad\\xd3\\xacP\\xb4\\xc1\\xa4~\\xaf\\xe0\\xc5\\xfd\\xb3\\xcd\\xafS\\xa9M\\xa6w\\xaeR\\xa7\\xb9\\xa6\\xa8\\xa4@\\xa6\\xb8\\xa5v\\xb8\\xd6\\xaf\\xc5\\xa5\\xf4\\xb0\\xc8\\xa1C<br/>\\n<br/>\\r\\n\\xa0\\xa0\\xa0\\xa0\\xb9\\xef\\xa4_\\xa5\\xdb\\xaep\\xb3o\\xbc\\xcb\\xa5\\xd5\\xa4\\xe2\\xb0_\\xaea\\xa1A\\xa8\\xad\\xab\\xe1\\xa8S\\xa6\\xb3\\xa5\\xf4\\xa6\\xf3\\xa4j\\xb0]\\xb9\\xce\\xa4\\xe4\\xab\\xf9\\xaa\\xba\\xa4\\xbd\\xb7|\\xa8\\xd3\\xbb\\xa1\\xa1A\\xb3o\\xae\\xc4\\xb2v\\xafu\\xaa\\xba\\xa4\\xa3\\xacO\\xab\\xdc\\xb0\\xaa\\xa1C<br/>\\n<br/>\\r\\n\\xa0\\xa0\\xa0\\xa0\\xa1\\xa7\\xac\\xdd\\xa8\\xd3\\xc1\\xd9\\xacO\\xadn\\xa5\\xce\\xb1\\xbc\\xa4F\\xa1C\\xa1\\xa8\\xa5\\xdb\\xaep\\xa5\\xb4\\xb6}\\xadI\\xa5]\\xac\\xdd\\xb5\\xdb\\xadI\\xa5]\\xa8\\xbd\\xc0R\\xc0R\\xa9\\xf1\\xb5\\xdb\\xaa\\xba\\xa4C\\xb1m\\xaaG\\xb9\\xea\\xa1C<br/>\\n<br/>\\r\\n\\xa0\\xa0\\xa0\\xa0\\xa4C\\xb1m\\xaaG\\xb9\\xea\\xa7@\\xac\\xb0\\xb8t\\xaa\\xab\\xa1A\\xa5i\\xa5H\\xa4j\\xb4T\\xb4\\xa3\\xa4\\xc9\\xaa\\xb1\\xaea\\xaa\\xba\\xbc\\xe7\\xa4O\\xa1A\\xac\\xb0\\xab\\xe1\\xad\\xb1\\xae\\xca\\xa4\\xc9\\xa5|\\xb6\\xa5\\xa4\\xad\\xb6\\xa5\\xc2\\xbe\\xb7~\\xa5\\xb4\\xa4U\\xb0\\xed\\xb9\\xea\\xaa\\xba\\xb0\\xf2\\xc2\\xa6\\xa1A\\xac\\xc6\\xa6\\xdc\\xb9\\xef\\xa4_\\xae\\xca\\xa4\\xc9\\xa4\\xbb\\xb6\\xa5\\xc2\\xbe\\xb7~\\xb3\\xa3\\xa6\\xb3\\xc0\\xb0\\xa7U\\xa1A\\xb2\\xa6\\xb3\\xba\\xa5|\\xa4j\\xc1\\xf4\\xc2\\xc3\\xc4\\xdd\\xa9\\xca\\xb9\\xef\\xa4_\\xaa\\xb1\\xaea\\xa8\\xd3\\xbb\\xa1\\xa4\\xd3\\xad\\xab\\xadn\\xa4F\\xa1A\\xb7Q\\xadn\\xb3\\xe6\\xad\\xd3\\xc4\\xdd\\xa9\\xca\\xb4\\xa3\\xa4\\xc9\\xa4@\\xc2I\\xb3\\xa3\\xa4d\\xc3\\xf8\\xb8U\\xc3\\xf8\\xa1A\\xa7\\xf3\\xa7O\\xbb\\xa1\\xa5|\\xa4j\\xc1\\xf4\\xc2\\xc3\\xc4\\xdd\\xa9\\xca\\xa6P\\xae\\xc9\\xb4\\xa3\\xa4\\xc9\\xa4Q\\xa4\\xad\\xc2I\\xa5H\\xa4W\\xa1C<br/>\\n<br/>\\r\\n\\xa0\\xa0\\xa0\\xa0\\xa6\\xfd\\xa6p\\xaaG\\xaf\\xe0\\xb0\\xf6\\xbei\\xa5X\\xa4@\\xa6\\xec\\xaa\\xf1\\xa5G\\xb5L\\xbc\\xc4\\xaa\\xba\\xaa\\xbd\\xc4\\xdd\\xc5@\\xbd\\xc3\\xa1A\\xa4]\\xacO\\xa4@\\xa5\\xf3\\xa4\\xa3\\xbf\\xe0\\xaa\\xba\\xa8\\xc6\\xb1\\xa1\\xa1C<br/>\\n<br/>\\r\\n\\xa0\\xa0\\xa0\\xa0\\xadn\\xaa\\xbe\\xb9D\\xa4W\\xa4@\\xa5@\\xb3\\xcd\\xafS\\xa5u\\xa6\\xb392\\xc2I\\xbc\\xe7\\xa4O\\xa1A\\xa6b\\xa4\\xad\\xb6\\xa5\\xae\\xc9\\xa5i\\xacO\\xa6P\\xb6\\xa5\\xb5L\\xbc\\xc4\\xaa\\xba\\xa6s\\xa6b\\xa1A\\xa5u\\xa6\\xb3\\xa4\\xbb\\xb6\\xa5\\xaf\\xab\\xaf\\xc5\\xaa\\xb1\\xaea\\xa4~\\xaf\\xe0\\xa4O\\xc0\\xa3\\xa4@\\xc4w\\xa1C<br/>\\n<br/>\\r\\n\\xa0\\xa0\\xa0\\xa0\\xa6p\\xaaG\\xafu\\xaf\\xe0\\xb0\\xf6\\xbei\\xa5X\\xa4@\\xa6\\xec\\xa4\\xbb\\xb6\\xa5\\xaa\\xbd\\xc4\\xdd\\xc5@\\xbd\\xc3\\xa1A\\xafu\\xb7\\xed\\xa5i\\xa5H\\xa6b\\xaf\\xab\\xb0\\xec\\xa8\\xbd\\xbe\\xee\\xb5\\xdb\\xa8\\xab\\xa4F\\xa1A\\xa4\\xa3\\xb9L\\xb7Q\\xadn\\xc5\\xfd\\xa4@\\xa6\\xecnpc\\xaa\\xbd\\xc4\\xdd\\xc5@\\xbd\\xc3\\xa6\\xa8\\xac\\xb0\\xa4\\xbb\\xb6\\xa5\\xa1A\\xb3o\\xa5i\\xa4\\xf1\\xaa\\xb1\\xaea\\xae\\xca\\xa4\\xc9\\xa4\\xbb\\xb6\\xa5\\xc3\\xf8\\xa4\\xd3\\xa6h\\xa4F\\xa1A\\xb3o\\xa4w\\xb8g\\xa4\\xa3\\xacO\\xa5\\xfa\\xa6\\xb3\\xb0]\\xa4O\\xb4N\\xaf\\xe0\\xbf\\xec\\xa8\\xec\\xaa\\xba\\xa8\\xc6\\xb1\\xa1\\xa1C<br/>\\n<br/>\\r\\n\\xa0\\xa0\\xa0\\xa0\\xb9B\\xae\\xf0\\xa1B\\xbe\\xf7\\xb9J\\xa1B\\xb9\\xea\\xa4O\\xb3\\xa3\\xadn\\xa5\\xb2\\xa4\\xa3\\xa5i\\xa4\\xd6\\xa1A\\xb3\\xcc\\xb2\\xd7\\xa4~\\xa6\\xb3\\xa5i\\xaf\\xe0\\xb9F\\xa8\\xec\\xa4\\xbb\\xb6\\xa5\\xa1C<br/>\\n<br/>\\r\\n\\xa0\\xa0\\xa0\\xa0\\xa1\\xa7\\xb3\\xcd\\xafS\\xbc\\xe7\\xa4O\\xb2{\\xa6b\\xa6\\xb394\\xc2I\\xa1A\\xa6w\\xaeR\\xbc\\xe7\\xa4O\\xb8\\xfb\\xb0\\xaa\\xa8\\xac\\xa6\\xb396\\xc2I\\xa1A\\xc1\\xf6\\xb5M\\xa6w\\xaeR\\xa6b\\xa7\\xdc\\xa5\\xbf\\xad\\xb1\\xa4W\\xa4\\xa3\\xa6p\\xb3\\xcd\\xafS\\xa1A\\xc1\\xd9\\xacO\\xa7\\xe2\\xa4C\\xb1m\\xaaG\\xb9\\xea\\xb5\\xb9\\xa6w\\xaeR\\xa8\\xd3\\xa5\\xce\\xa7a\\xa1C\\xa1\\xa8\\xa5\\xdb\\xaep\\xb7Q\\xa4F\\xb7Q\\xa1A\\xb3\\xcc\\xb2\\xd7\\xa7\\xe2\\xa4C\\xb1m\\xaaG\\xb9\\xea\\xb5\\xb9\\xa4F\\xa6w\\xaeR\\xad\\xb9\\xa5\\xce\\xa1C<br/>\\n<br/>\\r\\n\\xa0\\xa0\\xa0\\xa0\\xa6w\\xaeR\\xa6b\\xa6Y\\xa4U\\xa4C\\xb1m\\xaaG\\xb9\\xea\\xab\\xe1\\xa1A\\xb9y\\xae\\xc9\\xbe\\xe3\\xad\\xd3\\xa9\\xd0\\xb6\\xa1\\xaa\\xba\\xc5]\\xa4O\\xb3\\xa3\\xa8g\\xbc\\xc9\\xb0_\\xa8\\xd3\\xa1C<br/>\\n<br/>\\r\\n\\xa0\\xa0\\xa0\\xa0\\xb3o\\xba\\xd8\\xa8g\\xbc\\xc9\\xb8\\xf2\\xa8\\xcf\\xa5\\xce\\xb0\\xaa\\xb6\\xa5\\xc5]\\xaak\\xa4\\xa3\\xa6P\\xa1A\\xa7\\xf3\\xb9\\xb3\\xacO\\xa8\\xfc\\xa8\\xec\\xa4F\\xa4\\xb0\\xbb\\xf2\\xaaF\\xa6\\xe8\\xbe\\xde\\xb1\\xb1\\xa4@\\xaf\\xeb\\xa1A\\xa8g\\xbc\\xc9\\xaa\\xba\\xabD\\xb1`\\xa6\\xb3\\xb3W\\xab\\xdf\\xa1A\\xa4\\xa3\\xa6P\\xaa\\xba\\xa4\\xb8\\xaf\\xc0\\xb6\\xb0\\xa6X\\xa6b\\xa4@\\xb0_\\xa1A\\xa4\\xc6\\xac\\xb0\\xa4C\\xb1m\\xc3\\xfa\\xae\\xf0\\xba\\xc6\\xa8g\\xacy\\xa4J\\xa6w\\xaeR\\xaa\\xba\\xa8\\xad\\xc5\\xe9\\xa4\\xba\\xa1C<br/>\\n<br/>\\r\\n\\xa0\\xa0\\xa0\\xa0\\xc0H\\xb5\\xdb\\xb8\\xc1\\xbe\\xd6\\xa6\\xd3\\xa6\\xdc\\xaa\\xba\\xa4C\\xa6\\xe2\\xa4\\xb8\\xaf\\xc0\\xa1A\\xa6w\\xaeR\\xa4]\\xb3Q\\xa4C\\xa6\\xe2\\xa4\\xb8\\xaf\\xc0\\xa7\\xb9\\xa5\\xfe\\xa5]\\xbbq\\xa6\\xed\\xa1A\\xb4N\\xa6n\\xb9\\xb3\\xacO\\xa4@\\xad\\xd3\\xa5\\xa8\\xa4j\\xaa\\xba\\xc5\\xfa\\xc3\\xb5\\xa1A\\xa4@\\xb0{\\xa4@\\xb0{\\xa1A\\xba\\xec\\xa9\\xf1\\xa5X\\xa4C\\xa6\\xe2\\xb5\\xd8\\xa5\\xfa\\xa1A\\xb4\\xb2\\xb5o\\xa5X\\xc5\\xe5\\xa4H\\xaa\\xba\\xab\\xc2\\xc0\\xa3\\xa1A\\xb4N\\xb3s\\xa5\\xdb\\xaep\\xa5\\xbb\\xa4H\\xb3\\xa3\\xb3Q\\xc0\\xa3\\xa8\\xee\\xaa\\xba\\xc1y\\xa6\\xe2\\xc5K\\xabC\\xa1A\\xa5\\xfa\\xacO\\xb2\\xbe\\xb0\\xca\\xa4@\\xae\\xda\\xa4\\xe2\\xab\\xfc\\xb3\\xa3\\xa7x\\xc3\\xf8\\xb8U\\xa4\\xc0\\xa1A\\xb9\\xb3\\xacO\\xa4\\xf4\\xa6\\xe2\\xc1\\xa5\\xc1\\xa8\\xa9M\\xa4\\xf5\\xbbR\\xa8\\xe2\\xa4H\\xacO\\xa7\\xb9\\xa5\\xfe\\xa4\\xa3\\xaf\\xe0\\xb0\\xca\\xbcu\\xa1A\\xa6n\\xb9\\xb3\\xa4@\\xaey\\xa5\\xdb\\xb9\\xb3\\xa1C<br/>\\n<br/>\\r\\n\\xa0\\xa0\\xa0\\xa0\\xa6p\\xaaG\\xb3o\\xa8\\xbd\\xa4\\xa3\\xacO\\xa4G\\xbc\\xd3vip\\xa4j\\xc6U\\xa1A\\xbbP\\xa5~\\xac\\xc9\\xa6\\xb3\\xb5\\xdb\\xc5]\\xaak\\xb0}\\xb9j\\xc2\\xf7\\xa1C<br/>\\n<br/>\\r\\n\\xa0\\xa0\\xa0\\xa0\\xa5\\xdb\\xaep\\xb5\\xb7\\xb2@\\xa4\\xa3\\xc3h\\xba\\xc3\\xbe\\xe3\\xad\\xd3\\xab_\\xc0I\\xaa\\xcc\\xa8\\xf3\\xb7|\\xa4\\xba\\xaa\\xba\\xaa\\xb1\\xaea\\xb3\\xa3\\xb7|\\xadw\\xa6b\\xa6a\\xa4W\\xa1C<br/>\\n<br/>\\r\\n\\xa0\\xa0\\xa0\\xa0\\xc0H\\xab\\xe1\\xa6b\\xb9L\\xa4F\\xa4@\\xa4\\xc0\\xc4\\xc1\\xa4\\xa7\\xab\\xe1\\xa1A\\xa6w\\xaeR\\xa4\\xc6\\xa6\\xa8\\xaa\\xba\\xa4C\\xa6\\xe2\\xc5\\xfa\\xc3\\xb5\\xb5\\xf5\\xa5X\\xa4F\\xa4@\\xb1\\xf8\\xb2\\xd3\\xc1_\\xa1A\\xc0H\\xb5\\xdb\\xbe\\xe3\\xad\\xd3\\xb8H\\xb5\\xf5\\xa1A\\xa6\\xd3\\xa6w\\xaeR\\xa4]\\xb1q\\xc5\\xfa\\xc3\\xb5\\xa4\\xa4\\xbdw\\xbdw\\xa8\\xab\\xa5X\\xa1A\\xa4\\xa3\\xb9L\\xbbP\\xa4\\xa7\\xabe\\xa4\\xa3\\xa6P\\xaa\\xba\\xacO\\xa1A\\xa6w\\xaeR\\xa6\\xb9\\xae\\xc9\\xb4N\\xb9\\xb3\\xacO\\xc5]\\xaak\\xa4\\xb8\\xaf\\xc0\\xaa\\xba\\xa5D\\xae_\\xa1A\\xa5|\\xa9P\\xaa\\xba\\xc5]\\xaak\\xa4\\xb8\\xaf\\xc0\\xacO\\xa7\\xd4\\xa4\\xa3\\xa6\\xed\\xaa\\xba\\xa6\\xda\\xaaA\\xa4_\\xa6w\\xaeR\\xa5\\xbb\\xa4H\\xa1C<br/>\\n<br/>\\r\\n\\xa0\\xa0\\xa0\\xa0\\xa1\\xa7\\xa6\\xa8\\xa5\\\\\\xa4F\\xb6\\xdc\\xa1H\\xa1\\xa8\\xa5\\xdb\\xaep\\xa4\\xa3\\xa5\\xd1\\xba\\xf2\\xb1i\\xa6a\\xacd\\xac\\xdd\\xb0_\\xa6w\\xaeR\\xaa\\xba\\xbc\\xc6\\xbe\\xda\\xa1C<br/>\\n<br/>\\r\\n\\xa0\\xa0\\xa0\\xa0ps\\xa1J\\xb7P\\xc1\\xc2\\xab\\xb8\\xa6a\\xaa\\xba100000\\xa5\\xb4\\xbd\\xe0\\xa1I\\xa9\\xfa\\xa4\\xd1\\xa4T\\xa7\\xf3\\xa1I<br/>\\n<br/>\\r\\n\\xa0\\xa0\\xa0\\xa0\\xa5\\xbf\\xaa\\xa9\\xadq\\xbe\\\\\\xa6b\\xbe\\\\\\xa4\\xe5\\xbaX\\xa4U\\xaa\\xba\\xb0_\\xc2I\\xa1A\\xa5i\\xa5H\\xb2\\xc4\\xa4@\\xae\\xc9\\xb6\\xa1\\xac\\xdd\\xa8\\xec\\xb3\\xcc\\xb7s\\xb3\\xb9\\xb8`(\\xa5\\xbc\\xa7\\xb9\\xab\\xdd\\xc4\\xf2\\xa1C)\\r\\n </div>"
      ]
     },
     "execution_count": 53,
     "metadata": {},
     "output_type": "execute_result"
    }
   ],
   "source": [
    "div_info"
   ]
  },
  {
   "cell_type": "code",
   "execution_count": null,
   "metadata": {
    "collapsed": false
   },
   "outputs": [],
   "source": [
    "test={}\n",
    "test.get#測試除了tpye以外可以直接dir後的方法  用.方法測試\n"
   ]
  },
  {
   "cell_type": "code",
   "execution_count": null,
   "metadata": {
    "collapsed": false
   },
   "outputs": [],
   "source": [
    "test.keys"
   ]
  },
  {
   "cell_type": "code",
   "execution_count": null,
   "metadata": {
    "collapsed": true
   },
   "outputs": [],
   "source": [
    "dir(test)"
   ]
  },
  {
   "cell_type": "code",
   "execution_count": 51,
   "metadata": {
    "collapsed": false
   },
   "outputs": [
    {
     "data": {
      "text/plain": [
       "166"
      ]
     },
     "execution_count": 51,
     "metadata": {},
     "output_type": "execute_result"
    }
   ],
   "source": [
    "len(div_info)"
   ]
  },
  {
   "cell_type": "code",
   "execution_count": 52,
   "metadata": {
    "collapsed": false
   },
   "outputs": [
    {
     "ename": "KeyError",
     "evalue": "'div'",
     "output_type": "error",
     "traceback": [
      "\u001b[1;31m---------------------------------------------------------------------------\u001b[0m",
      "\u001b[1;31mKeyError\u001b[0m                                  Traceback (most recent call last)",
      "\u001b[1;32m<ipython-input-52-454e4d3cfe65>\u001b[0m in \u001b[0;36m<module>\u001b[1;34m()\u001b[0m\n\u001b[0;32m      1\u001b[0m \u001b[0mresult_list\u001b[0m \u001b[1;33m=\u001b[0m \u001b[1;33m[\u001b[0m\u001b[1;33m]\u001b[0m\u001b[1;33m\u001b[0m\u001b[0m\n\u001b[0;32m      2\u001b[0m \u001b[1;32mfor\u001b[0m \u001b[0mlink\u001b[0m \u001b[1;32min\u001b[0m \u001b[0mdiv_info\u001b[0m\u001b[1;33m:\u001b[0m\u001b[1;31m#把link值作迴圈到 有30筆就列印30次\u001b[0m\u001b[1;33m\u001b[0m\u001b[0m\n\u001b[1;32m----> 3\u001b[1;33m     \u001b[1;32mprint\u001b[0m \u001b[0mlink\u001b[0m\u001b[1;33m[\u001b[0m\u001b[1;34m'div'\u001b[0m\u001b[1;33m]\u001b[0m\u001b[1;33m\u001b[0m\u001b[0m\n\u001b[0m\u001b[0;32m      4\u001b[0m     \u001b[0mresult_list\u001b[0m\u001b[1;33m.\u001b[0m\u001b[0mappend\u001b[0m\u001b[1;33m(\u001b[0m\u001b[0mlink\u001b[0m\u001b[1;33m[\u001b[0m\u001b[1;34m'div'\u001b[0m\u001b[1;33m]\u001b[0m\u001b[1;33m)\u001b[0m\u001b[1;31m#做了一個list讓其他function可以使用\u001b[0m\u001b[1;33m\u001b[0m\u001b[0m\n\u001b[0;32m      5\u001b[0m \u001b[1;33m\u001b[0m\u001b[0m\n",
      "\u001b[1;32mE:\\Anaconda2\\lib\\site-packages\\bs4\\element.pyc\u001b[0m in \u001b[0;36m__getitem__\u001b[1;34m(self, key)\u001b[0m\n\u001b[0;32m    956\u001b[0m         \"\"\"tag[key] returns the value of the 'key' attribute for the tag,\n\u001b[0;32m    957\u001b[0m         and throws an exception if it's not there.\"\"\"\n\u001b[1;32m--> 958\u001b[1;33m         \u001b[1;32mreturn\u001b[0m \u001b[0mself\u001b[0m\u001b[1;33m.\u001b[0m\u001b[0mattrs\u001b[0m\u001b[1;33m[\u001b[0m\u001b[0mkey\u001b[0m\u001b[1;33m]\u001b[0m\u001b[1;33m\u001b[0m\u001b[0m\n\u001b[0m\u001b[0;32m    959\u001b[0m \u001b[1;33m\u001b[0m\u001b[0m\n\u001b[0;32m    960\u001b[0m     \u001b[1;32mdef\u001b[0m \u001b[0m__iter__\u001b[0m\u001b[1;33m(\u001b[0m\u001b[0mself\u001b[0m\u001b[1;33m)\u001b[0m\u001b[1;33m:\u001b[0m\u001b[1;33m\u001b[0m\u001b[0m\n",
      "\u001b[1;31mKeyError\u001b[0m: 'div'"
     ]
    }
   ],
   "source": [
    "result_list = []\n",
    "for link in div_info:#把link值作迴圈到 有30筆就列印30次\n",
    "    print link['div']\n",
    "    result_list.append(link['div'])#做了一個list讓其他function可以使用\n",
    "    "
   ]
  },
  {
   "cell_type": "code",
   "execution_count": null,
   "metadata": {
    "collapsed": false
   },
   "outputs": [],
   "source": [
    "result_list"
   ]
  },
  {
   "cell_type": "code",
   "execution_count": 1,
   "metadata": {
    "collapsed": true
   },
   "outputs": [],
   "source": [
    "def add_demo(x,y):\n",
    "    print \"x={},y={}\".format(x,y)\n",
    "    return x+y"
   ]
  },
  {
   "cell_type": "code",
   "execution_count": 2,
   "metadata": {
    "collapsed": false
   },
   "outputs": [
    {
     "name": "stdout",
     "output_type": "stream",
     "text": [
      "x=20,y=50\n"
     ]
    },
    {
     "data": {
      "text/plain": [
       "70"
      ]
     },
     "execution_count": 2,
     "metadata": {},
     "output_type": "execute_result"
    }
   ],
   "source": [
    "add_demo(20,50)"
   ]
  },
  {
   "cell_type": "code",
   "execution_count": 16,
   "metadata": {
    "collapsed": false
   },
   "outputs": [
    {
     "name": "stdout",
     "output_type": "stream",
     "text": [
      "[2, 4, 6, 8, 10, 12, 14, 16, 18, 20, 22, 24, 26, 28]\n"
     ]
    }
   ],
   "source": [
    "print [x for x in range(1,30) if x % 2 ==0]\n"
   ]
  },
  {
   "cell_type": "code",
   "execution_count": 18,
   "metadata": {
    "collapsed": false
   },
   "outputs": [
    {
     "ename": "SyntaxError",
     "evalue": "invalid syntax (<ipython-input-18-cc54c4545cae>, line 1)",
     "output_type": "error",
     "traceback": [
      "\u001b[1;36m  File \u001b[1;32m\"<ipython-input-18-cc54c4545cae>\"\u001b[1;36m, line \u001b[1;32m1\u001b[0m\n\u001b[1;33m    for x in range(1,30) if x% 2 == 0\u001b[0m\n\u001b[1;37m                                     ^\u001b[0m\n\u001b[1;31mSyntaxError\u001b[0m\u001b[1;31m:\u001b[0m invalid syntax\n"
     ]
    }
   ],
   "source": [
    "for x in range(1,30)\n",
    "   "
   ]
  },
  {
   "cell_type": "code",
   "execution_count": 19,
   "metadata": {
    "collapsed": false
   },
   "outputs": [
    {
     "name": "stdout",
     "output_type": "stream",
     "text": [
      "enter some data:454564564564\n"
     ]
    }
   ],
   "source": [
    "testinput1=raw_input('enter some data:')"
   ]
  },
  {
   "cell_type": "code",
   "execution_count": 20,
   "metadata": {
    "collapsed": true
   },
   "outputs": [],
   "source": [
    "#SQLAlchemy"
   ]
  },
  {
   "cell_type": "code",
   "execution_count": null,
   "metadata": {
    "collapsed": true
   },
   "outputs": [],
   "source": []
  }
 ],
 "metadata": {
  "anaconda-cloud": {},
  "kernelspec": {
   "display_name": "Python [Root]",
   "language": "python",
   "name": "Python [Root]"
  },
  "language_info": {
   "codemirror_mode": {
    "name": "ipython",
    "version": 2
   },
   "file_extension": ".py",
   "mimetype": "text/x-python",
   "name": "python",
   "nbconvert_exporter": "python",
   "pygments_lexer": "ipython2",
   "version": "2.7.12"
  }
 },
 "nbformat": 4,
 "nbformat_minor": 0
}
