{
 "cells": [
  {
   "cell_type": "markdown",
   "metadata": {},
   "source": [
    "# 什麼是ETL？\n",
    "- Data extraction – 從同質或異質來源萃取資料\n",
    "- Data transformation – 根據分析或存取的目的，將資料轉換成合適的儲存格式或結構\n",
    "- Data loading – 將資料存入最終目的地 (資料庫)"
   ]
  },
  {
   "cell_type": "markdown",
   "metadata": {},
   "source": [
    "# Variables, Strings, and Numbers"
   ]
  },
  {
   "cell_type": "markdown",
   "metadata": {},
   "source": [
    "### 變數（Variable）"
   ]
  },
  {
   "cell_type": "markdown",
   "metadata": {},
   "source": [
    "範例"
   ]
  },
  {
   "cell_type": "code",
   "execution_count": 1,
   "metadata": {
    "collapsed": false
   },
   "outputs": [
    {
     "name": "stdout",
     "output_type": "stream",
     "text": [
      "I like pokemon\n"
     ]
    }
   ],
   "source": [
    "message = \"I like pokemon\"\n",
    "print message"
   ]
  },
  {
   "cell_type": "code",
   "execution_count": 2,
   "metadata": {
    "collapsed": false
   },
   "outputs": [
    {
     "name": "stdout",
     "output_type": "stream",
     "text": [
      "I like pokemon\n",
      "Pikachu is my favorite pokemon\n"
     ]
    }
   ],
   "source": [
    "message = \"I like pokemon\"\n",
    "print message\n",
    "\n",
    "message = \"Pikachu is my favorite pokemon\"\n",
    "print message"
   ]
  },
  {
   "cell_type": "code",
   "execution_count": 3,
   "metadata": {
    "collapsed": false
   },
   "outputs": [
    {
     "name": "stdout",
     "output_type": "stream",
     "text": [
      "Enter some data: ian\n"
     ]
    }
   ],
   "source": [
    "# 使用者輸入內容\n",
    "input_string_var = raw_input(\"Enter some data: \")"
   ]
  },
  {
   "cell_type": "markdown",
   "metadata": {},
   "source": [
    "變數命名規則\n",
    "---\n",
    "- 變數可以含有英文，數字，及底線。但不可以數字為開頭。\n",
    "- 變數名稱不可以有空白符號，所以我們使用底線來代替， 範例： 用student_name來代替\"student name\".\n",
    "- 不可使用 [Python keywords](http://docs.python.org/2/reference/lexical_analysis.html#keywords) 來做變數名稱.\n",
    "- 變數名稱要有意義，但是亦不可太長。 範例：mc_wheels與\"wheels\"與number_of_wheels_on_a_motorycle."
   ]
  },
  {
   "cell_type": "code",
   "execution_count": 4,
   "metadata": {
    "collapsed": false
   },
   "outputs": [],
   "source": [
    "message = \"Thank you for sharing Python with the world, Guido!\"\n",
    "#print mesage"
   ]
  },
  {
   "cell_type": "markdown",
   "metadata": {},
   "source": [
    "<a id=\"Exercises-variables\"></a>\n",
    "練習\n",
    "---\n",
    "#### 練習1\n",
    "\n",
    "- 定義一段字串（如\"Hello World\"）並且將字串存在一個variable裡面，然後將它print出來.\n",
    "\n",
    "#### 練習2:\n",
    "- 存一段訊息到variable裡，然後將它print出來。\n",
    "- 存一段新的訊息到同一個variable裡，然後將它print出來."
   ]
  },
  {
   "cell_type": "markdown",
   "metadata": {},
   "source": [
    "### 字串（String）"
   ]
  },
  {
   "cell_type": "markdown",
   "metadata": {},
   "source": [
    "字串可以使用單引號或雙引號"
   ]
  },
  {
   "cell_type": "code",
   "execution_count": 5,
   "metadata": {
    "collapsed": true
   },
   "outputs": [],
   "source": [
    "my_string = \"This is a double-quoted string.\"\n",
    "my_string = 'This is a single-quoted string.'"
   ]
  },
  {
   "cell_type": "code",
   "execution_count": 6,
   "metadata": {
    "collapsed": true
   },
   "outputs": [],
   "source": [
    "quote = \"Linus Torvalds once said, 'Any program is only as good as it is useful.'\""
   ]
  },
  {
   "cell_type": "markdown",
   "metadata": {},
   "source": [
    "變換大小寫\n",
    "---\n",
    "你可以容易的變換字串的大小寫"
   ]
  },
  {
   "cell_type": "code",
   "execution_count": 7,
   "metadata": {
    "collapsed": false
   },
   "outputs": [
    {
     "name": "stdout",
     "output_type": "stream",
     "text": [
      "ian\n",
      "Ian\n"
     ]
    }
   ],
   "source": [
    "first_name = 'ian'\n",
    "\n",
    "print first_name\n",
    "print first_name.title()"
   ]
  },
  {
   "cell_type": "code",
   "execution_count": 8,
   "metadata": {
    "collapsed": false
   },
   "outputs": [
    {
     "name": "stdout",
     "output_type": "stream",
     "text": [
      "ian\n",
      "Ian\n",
      "IAN\n",
      "ian\n"
     ]
    }
   ],
   "source": [
    "first_name = 'ian'\n",
    "\n",
    "print first_name\n",
    "print first_name.title()\n",
    "print first_name.upper()\n",
    "\n",
    "first_name = 'Ian'\n",
    "print first_name.lower() "
   ]
  },
  {
   "cell_type": "markdown",
   "metadata": {},
   "source": [
    "這樣的寫法很常見，在variable的後面加上.然後動作的名字及括號。括號裡面可能有或沒有東西。\n",
    "\n",
    "variable_name.action()\n",
    "\n",
    "在這個範例裡，action這個字是method的名字。method可以對物件進行操作。例如，lower, title, upper是內建的methods，可以對String這個物件進行操作。"
   ]
  },
  {
   "cell_type": "markdown",
   "metadata": {},
   "source": [
    "字串結合 (concatenation)\n",
    "---"
   ]
  },
  {
   "cell_type": "code",
   "execution_count": 9,
   "metadata": {
    "collapsed": false
   },
   "outputs": [
    {
     "name": "stdout",
     "output_type": "stream",
     "text": [
      "Ian Chen\n"
     ]
    }
   ],
   "source": [
    "first_name = 'Ian'\n",
    "last_name = 'Chen'\n",
    "\n",
    "full_name = first_name + ' ' + last_name\n",
    "\n",
    "print full_name.title()"
   ]
  },
  {
   "cell_type": "markdown",
   "metadata": {},
   "source": [
    "兩個字串可以使用＋號連結起來, 英文稱為\"concatenation\". 你可以使用無限多個＋號來串連字串。"
   ]
  },
  {
   "cell_type": "code",
   "execution_count": 10,
   "metadata": {
    "collapsed": false
   },
   "outputs": [
    {
     "name": "stdout",
     "output_type": "stream",
     "text": [
      "Ian Chen wants to become a pokemon master\n"
     ]
    }
   ],
   "source": [
    "first_name = 'ian'\n",
    "last_name = 'chen'\n",
    "full_name = first_name + ' ' + last_name\n",
    "\n",
    "message = full_name.title() + ' ' + \"wants to become a pokemon master\"\n",
    "\n",
    "print message"
   ]
  },
  {
   "cell_type": "markdown",
   "metadata": {},
   "source": [
    "空白符號（Whitespace）\n",
    "---\n",
    "\"whitespace\"代表電腦看的到，但是人看不到的字元. 最常見的whitespace有空格, tab與換行符號.\n",
    "\n",
    "* 空格(space) = ''\n",
    "* tab = '\\t'\n",
    "* 換行符號(newline) = '\\n'"
   ]
  },
  {
   "cell_type": "code",
   "execution_count": 11,
   "metadata": {
    "collapsed": false
   },
   "outputs": [
    {
     "name": "stdout",
     "output_type": "stream",
     "text": [
      "Hello everyone!\n"
     ]
    }
   ],
   "source": [
    "print \"Hello everyone!\""
   ]
  },
  {
   "cell_type": "code",
   "execution_count": 12,
   "metadata": {
    "collapsed": false
   },
   "outputs": [
    {
     "name": "stdout",
     "output_type": "stream",
     "text": [
      "\tHello everyone!\n"
     ]
    }
   ],
   "source": [
    "print \"\\tHello everyone!\""
   ]
  },
  {
   "cell_type": "code",
   "execution_count": 13,
   "metadata": {
    "collapsed": false
   },
   "outputs": [
    {
     "name": "stdout",
     "output_type": "stream",
     "text": [
      "Hello eve\tryone!\n"
     ]
    }
   ],
   "source": [
    "print \"Hello eve\\tryone!\""
   ]
  },
  {
   "cell_type": "code",
   "execution_count": 14,
   "metadata": {
    "collapsed": false
   },
   "outputs": [
    {
     "name": "stdout",
     "output_type": "stream",
     "text": [
      "\n",
      "Hello everyone!\n"
     ]
    }
   ],
   "source": [
    "print \"\\nHello everyone!\""
   ]
  },
  {
   "cell_type": "code",
   "execution_count": 15,
   "metadata": {
    "collapsed": false
   },
   "outputs": [
    {
     "name": "stdout",
     "output_type": "stream",
     "text": [
      "\n",
      "Hello ever\n",
      "yone!\n"
     ]
    }
   ],
   "source": [
    "print \"\\nHello ever\\nyone!\""
   ]
  },
  {
   "cell_type": "code",
   "execution_count": 16,
   "metadata": {
    "collapsed": false
   },
   "outputs": [
    {
     "name": "stdout",
     "output_type": "stream",
     "text": [
      "\n",
      "\n",
      "\n",
      "Hello everyone!\n"
     ]
    }
   ],
   "source": [
    "print \"\\n\\n\\nHello everyone!\""
   ]
  },
  {
   "cell_type": "markdown",
   "metadata": {},
   "source": [
    "清理字串兩端的空白符號(Stripping whitespace)\n",
    "---\n",
    "\n",
    "很多時候我們會從其他資料來源取得字串，有可能是網頁、使用者輸入等等，這些字串可能會有空白符號在它們的兩端（為了排版？）。這些空白符號包含space、tab、newline。\n",
    "\n",
    "在使用從其他資料來源取得的字串時，通常我們需要把其兩端的空白符號給去除。 例如, 我們從網頁上面爬取了文章的title，為了排版需求，爬下來的結果為'\\tHow to catch all pokemons in one day\\n', 我們必須將前後的空白符號去除，才能跟資料庫裡面的資料做比對，看看這篇文章是否已經爬過了。\n",
    "\n",
    "Python提供一些內建的方法來從字串的左邊，右邊，或是兩邊來去除空白符號。"
   ]
  },
  {
   "cell_type": "code",
   "execution_count": 17,
   "metadata": {
    "collapsed": false
   },
   "outputs": [
    {
     "name": "stdout",
     "output_type": "stream",
     "text": [
      "ian\n",
      "\n",
      "\tian\n",
      "ian\n"
     ]
    }
   ],
   "source": [
    "name = '\\tian\\n'\n",
    "\n",
    "print name.lstrip()\n",
    "print name.rstrip()\n",
    "print name.strip()"
   ]
  },
  {
   "cell_type": "code",
   "execution_count": 18,
   "metadata": {
    "collapsed": false
   },
   "outputs": [
    {
     "name": "stdout",
     "output_type": "stream",
     "text": [
      "-ian\n",
      "-\n",
      "-\tian-\n",
      "-ian-\n"
     ]
    }
   ],
   "source": [
    "name = '\\tian\\n'\n",
    "\n",
    "print '-' + name.lstrip() + '-'\n",
    "print '-' + name.rstrip() + '-'\n",
    "print '-' + name.strip() + '-'"
   ]
  },
  {
   "cell_type": "code",
   "execution_count": 19,
   "metadata": {
    "collapsed": false
   },
   "outputs": [
    {
     "name": "stdout",
     "output_type": "stream",
     "text": [
      "HelloHelloHello\n",
      "T\n"
     ]
    }
   ],
   "source": [
    "# 可以用乘號快速產生string\n",
    "print \"Hello\" * 3  # => \"HelloHelloHello\"\n",
    "\n",
    "# 可使用[n]來選擇第n個字元\n",
    "print \"This is a string\"[0]  # => 'T'"
   ]
  },
  {
   "cell_type": "code",
   "execution_count": 20,
   "metadata": {
    "collapsed": false
   },
   "outputs": [],
   "source": [
    "# 字串替代 （舊方法），未來Python可能會把這個方法拿掉\n",
    "# 使用%, \n",
    "x = 'apple'\n",
    "y = 'lemon'\n",
    "z = \"The items in the basket are %s and %s\" % (x,y)"
   ]
  },
  {
   "cell_type": "code",
   "execution_count": 21,
   "metadata": {
    "collapsed": false
   },
   "outputs": [
    {
     "data": {
      "text/plain": [
       "'Bob wants to eat lasagna'"
      ]
     },
     "execution_count": 21,
     "metadata": {},
     "output_type": "execute_result"
    }
   ],
   "source": [
    "# 新版的字串替代方法（.format()）\n",
    "# 建議使用\n",
    "\"{} is a {}\".format(\"This\", \"placeholder\")\n",
    "\"{0} can be {1}\".format(\"strings\", \"formatted\")\n",
    "# 新增了使用keyword的方法，讓字串看起來更直覺好懂\n",
    "\"{name} wants to eat {food}\".format(name=\"Bob\", food=\"lasagna\")"
   ]
  },
  {
   "cell_type": "markdown",
   "metadata": {},
   "source": [
    "<a id=\"Exercises-strings\"></a>\n",
    "Exercises\n",
    "---\n",
    "#### Someone Said\n",
    "- 存一句名言佳句到一個variable裡，然後把它print出來\n",
    "\n",
    "#### First Name Cases\n",
    "- 把你的英文名字存在一個variable裡（小寫）.\n",
    "- 使用剛才的variable, print出三種不同的format（大寫，小寫，Title格式）.\n",
    "\n",
    "#### Full Name\n",
    "- 把你的英文名字跟姓氏存在兩個不同的variable裡面，然後把他們concatnate起來，並且print出來。\n",
    "\n",
    "#### About This Person\n",
    "- 把你隔壁同學的英文名字和姓氏存在兩個variable裡面\n",
    "- 用concatenate的方式還有同學的名字，造一個句子。\n",
    "- 把句子print出來\n",
    "\n",
    "#### Name Strip\n",
    "- 把自己的英文名字存在一個variable裡面，這次在名字的兩邊，加上至少兩種不同的空白符號。\n",
    "- 把名字直接print出來。\n",
    "- 使用三種不同的strip方法，把strip過的名字print出來。"
   ]
  },
  {
   "cell_type": "markdown",
   "metadata": {},
   "source": [
    "整數(Integers)\n",
    "---\n",
    "- 加 = +\n",
    "- 減 = -\n",
    "- 乘 = *\n",
    "- 除 = /\n",
    "- 次方 = **\n",
    "- 餘數(mod) = %"
   ]
  },
  {
   "cell_type": "code",
   "execution_count": 22,
   "metadata": {
    "collapsed": false
   },
   "outputs": [
    {
     "name": "stdout",
     "output_type": "stream",
     "text": [
      "2\n",
      "7\n",
      "20\n",
      "7\n",
      "1\n",
      "16\n"
     ]
    }
   ],
   "source": [
    "print 1 + 1  # => 2\n",
    "print 8 - 1  # => 7\n",
    "print 10 * 2  # => 20\n",
    "print 35 / 5  # => 7\n",
    "print 7 % 3 # => 1\n",
    "print 2**4 # => 16"
   ]
  },
  {
   "cell_type": "markdown",
   "metadata": {},
   "source": [
    "跟數學一樣可以使用括號來改變計算順序"
   ]
  },
  {
   "cell_type": "code",
   "execution_count": 23,
   "metadata": {
    "collapsed": false
   },
   "outputs": [
    {
     "name": "stdout",
     "output_type": "stream",
     "text": [
      "14\n"
     ]
    }
   ],
   "source": [
    "standard_order = 2+3*4\n",
    "print(standard_order)"
   ]
  },
  {
   "cell_type": "code",
   "execution_count": 24,
   "metadata": {
    "collapsed": false
   },
   "outputs": [
    {
     "name": "stdout",
     "output_type": "stream",
     "text": [
      "20\n"
     ]
    }
   ],
   "source": [
    "my_order = (2+3)*4\n",
    "print(my_order)"
   ]
  },
  {
   "cell_type": "markdown",
   "metadata": {},
   "source": [
    "浮點運算"
   ]
  },
  {
   "cell_type": "code",
   "execution_count": 25,
   "metadata": {
    "collapsed": false
   },
   "outputs": [
    {
     "name": "stdout",
     "output_type": "stream",
     "text": [
      "0.2\n"
     ]
    }
   ],
   "source": [
    "print 0.1+0.1"
   ]
  },
  {
   "cell_type": "code",
   "execution_count": 26,
   "metadata": {
    "collapsed": false
   },
   "outputs": [
    {
     "name": "stdout",
     "output_type": "stream",
     "text": [
      "-0.1\n"
     ]
    }
   ],
   "source": [
    "print 0.1-0.2"
   ]
  },
  {
   "cell_type": "code",
   "execution_count": 27,
   "metadata": {
    "collapsed": false
   },
   "outputs": [
    {
     "name": "stdout",
     "output_type": "stream",
     "text": [
      "0.3\n"
     ]
    }
   ],
   "source": [
    "print 3*0.1"
   ]
  },
  {
   "cell_type": "markdown",
   "metadata": {},
   "source": [
    "Python2...\n",
    "兩個整數相除的時候，一定會return整數（無條件捨去）。"
   ]
  },
  {
   "cell_type": "code",
   "execution_count": 28,
   "metadata": {
    "collapsed": false,
    "scrolled": true
   },
   "outputs": [
    {
     "name": "stdout",
     "output_type": "stream",
     "text": [
      "1\n"
     ]
    }
   ],
   "source": [
    "print 5/3"
   ]
  },
  {
   "cell_type": "markdown",
   "metadata": {},
   "source": [
    "解決方法\n",
    "---\n",
    "使用浮點運算"
   ]
  },
  {
   "cell_type": "code",
   "execution_count": 29,
   "metadata": {
    "collapsed": false
   },
   "outputs": [
    {
     "name": "stdout",
     "output_type": "stream",
     "text": [
      "1.66666666667\n"
     ]
    }
   ],
   "source": [
    "print 5.0 / 3.0"
   ]
  },
  {
   "cell_type": "code",
   "execution_count": 30,
   "metadata": {
    "collapsed": false
   },
   "outputs": [
    {
     "name": "stdout",
     "output_type": "stream",
     "text": [
      "1.66666666667\n"
     ]
    }
   ],
   "source": [
    "print 5.0 / 3"
   ]
  },
  {
   "cell_type": "code",
   "execution_count": 31,
   "metadata": {
    "collapsed": false
   },
   "outputs": [
    {
     "name": "stdout",
     "output_type": "stream",
     "text": [
      "1.66666666667\n"
     ]
    }
   ],
   "source": [
    "print 5 / 3.0"
   ]
  },
  {
   "cell_type": "markdown",
   "metadata": {},
   "source": [
    "## 布林運算"
   ]
  },
  {
   "cell_type": "code",
   "execution_count": 32,
   "metadata": {
    "collapsed": false
   },
   "outputs": [
    {
     "name": "stdout",
     "output_type": "stream",
     "text": [
      "False\n",
      "True\n"
     ]
    }
   ],
   "source": [
    "# 注意and跟or要小寫\n",
    "print True and False #=> False\n",
    "print False or True #=> True"
   ]
  },
  {
   "cell_type": "code",
   "execution_count": 33,
   "metadata": {
    "collapsed": false
   },
   "outputs": [
    {
     "name": "stdout",
     "output_type": "stream",
     "text": [
      "True\n",
      "False\n",
      "True\n"
     ]
    }
   ],
   "source": [
    "print 0 == False #=> True\n",
    "print 2 == True #=> False\n",
    "print 1 == True #=> True"
   ]
  },
  {
   "cell_type": "code",
   "execution_count": 34,
   "metadata": {
    "collapsed": false
   },
   "outputs": [
    {
     "name": "stdout",
     "output_type": "stream",
     "text": [
      "False\n",
      "True\n"
     ]
    }
   ],
   "source": [
    "# 使用not來把值反過來（True -> Flase, False -> True)\n",
    "print not True  # => False\n",
    "print not False  # => True"
   ]
  },
  {
   "cell_type": "code",
   "execution_count": 35,
   "metadata": {
    "collapsed": false
   },
   "outputs": [
    {
     "name": "stdout",
     "output_type": "stream",
     "text": [
      "True\n",
      "False\n"
     ]
    }
   ],
   "source": [
    "# 測試是否相等 ==\n",
    "print 1 == 1  # => True\n",
    "print 2 == 1  # => False"
   ]
  },
  {
   "cell_type": "code",
   "execution_count": 36,
   "metadata": {
    "collapsed": false
   },
   "outputs": [
    {
     "name": "stdout",
     "output_type": "stream",
     "text": [
      "False\n",
      "True\n"
     ]
    }
   ],
   "source": [
    "# 不相等 !=\n",
    "print 1 != 1  # => False\n",
    "print 2 != 1  # => True"
   ]
  },
  {
   "cell_type": "code",
   "execution_count": 37,
   "metadata": {
    "collapsed": false
   },
   "outputs": [
    {
     "name": "stdout",
     "output_type": "stream",
     "text": [
      "True\n",
      "False\n",
      "True\n",
      "True\n"
     ]
    }
   ],
   "source": [
    "# 更多邏輯運算\n",
    "print 1 < 10  # => True\n",
    "print 1 > 10  # => False\n",
    "print 2 <= 2  # => True\n",
    "print 2 >= 2  # => True"
   ]
  },
  {
   "cell_type": "code",
   "execution_count": 38,
   "metadata": {
    "collapsed": false
   },
   "outputs": [
    {
     "name": "stdout",
     "output_type": "stream",
     "text": [
      "True\n",
      "False\n"
     ]
    }
   ],
   "source": [
    "print 1 < 2 < 3  # => True\n",
    "print 2 < 3 < 2  # => False"
   ]
  },
  {
   "cell_type": "markdown",
   "metadata": {},
   "source": [
    "### 下列為Falsy:\n",
    "- None\n",
    "- zero of any numeric type (e.g., 0, 0L, 0.0, 0j)\n",
    "- empty sequences (e.g., '', (), [])\n",
    "- empty containers (e.g., {}, set())\n",
    "- instances of user-defined classes meeting certain conditions\n",
    "\n",
    "### 其他皆為True"
   ]
  },
  {
   "cell_type": "markdown",
   "metadata": {},
   "source": [
    "# List"
   ]
  },
  {
   "cell_type": "markdown",
   "metadata": {},
   "source": [
    "List的命名與定義\n",
    "---\n",
    "List是一個複數的集合，所以通常我們會用英文名詞的複數形式來命名.\n",
    "\n",
    "範例：cars = [car1, car2, car3]\n",
    "\n",
    "dogs = [dog1, dog2, dog3]"
   ]
  },
  {
   "cell_type": "code",
   "execution_count": 39,
   "metadata": {
    "collapsed": false
   },
   "outputs": [],
   "source": [
    "# Lists 儲存 sequences\n",
    "pokemons = []\n",
    "# 可以直接在中括號內定義List\n",
    "digimons = [4, 5, 6]"
   ]
  },
  {
   "cell_type": "code",
   "execution_count": 40,
   "metadata": {
    "collapsed": false
   },
   "outputs": [
    {
     "name": "stdout",
     "output_type": "stream",
     "text": [
      "['pikachu', 'Charizard', 'Blastoise', 'Venusaur']\n"
     ]
    }
   ],
   "source": [
    "# 利用append()將值放在List的最後面\n",
    "pokemons.append('pikachu')    # li is now [1]\n",
    "pokemons.append('Charizard')    # li is now [1, 2]\n",
    "pokemons.append('Blastoise')    # li is now [1, 2, 4]\n",
    "pokemons.append('Venusaur')    # li is now [1, 2, 4, 3]\n",
    "print pokemons"
   ]
  },
  {
   "cell_type": "code",
   "execution_count": 41,
   "metadata": {
    "collapsed": false
   },
   "outputs": [
    {
     "name": "stdout",
     "output_type": "stream",
     "text": [
      "['pikachu', 'Charizard', 'Blastoise']\n"
     ]
    }
   ],
   "source": [
    "# 用pop()把List內最後面一個element拿掉\n",
    "pokemons.pop()        # => 3 and li is now [1, 2, 4]\n",
    "print pokemons"
   ]
  },
  {
   "cell_type": "code",
   "execution_count": 42,
   "metadata": {
    "collapsed": false
   },
   "outputs": [
    {
     "name": "stdout",
     "output_type": "stream",
     "text": [
      "['pikachu', 'Charizard', 'Blastoise', 'Rainer']\n"
     ]
    }
   ],
   "source": [
    "# 在把剛才的值加回去\n",
    "pokemons.append('Rainer')    # li is now [1, 2, 4, 3] again.\n",
    "print pokemons"
   ]
  },
  {
   "cell_type": "code",
   "execution_count": 43,
   "metadata": {
    "collapsed": false
   },
   "outputs": [
    {
     "name": "stdout",
     "output_type": "stream",
     "text": [
      "pikachu\n",
      "Pidgey\n",
      "Rainer\n"
     ]
    }
   ],
   "source": [
    "# 如果有學過其他的程式語言，List的取值方法也是使用[n]\n",
    "print pokemons[0]  # => 1\n",
    "# 可以用=重新賦予已經有值的index新的值\n",
    "pokemons[0] = 'Pidgey'\n",
    "print pokemons[0]  # => 42\n",
    "pokemons[0] = 'Caterpie'  # Note: setting it back to the original value\n"
   ]
  },
  {
   "cell_type": "code",
   "execution_count": 82,
   "metadata": {
    "collapsed": false
   },
   "outputs": [
    {
     "name": "stdout",
     "output_type": "stream",
     "text": [
      "doraamon\n"
     ]
    }
   ],
   "source": [
    "# 查看最後一個Element\n",
    "print pokemons[-1]  # => dorramon\n",
    "\n",
    "# 超過index範圍會產生IndexError\n",
    "#pokemons[4]  # Raises an IndexError"
   ]
  },
  {
   "cell_type": "code",
   "execution_count": 84,
   "metadata": {
    "collapsed": false
   },
   "outputs": [
    {
     "name": "stdout",
     "output_type": "stream",
     "text": [
      "['pikachu', 'Charizard', 'Blastoise', 'Venusaur']\n",
      "['Charizard', 'Blastoise']\n",
      "['Blastoise', 'Venusaur']\n",
      "['pikachu', 'Charizard', 'Blastoise']\n",
      "['pikachu', 'Blastoise']\n",
      "['Venusaur', 'Blastoise', 'Charizard', 'pikachu']\n"
     ]
    }
   ],
   "source": [
    "# 可以使用slice syntax來擷取一段List.\n",
    "pokemons = ['pikachu', 'Charizard', 'Blastoise', 'Venusaur']\n",
    "print pokemons\n",
    "print pokemons[1:3]  # => ['Charizard', 'Blastoise']\n",
    "# Omit the beginning\n",
    "print pokemons[2:]  # => ['Blastoise', 'Venusaur']\n",
    "# Omit the end\n",
    "print pokemons[:3]  # => ['pikachu', 'Charizard', 'Blastoise']\n",
    "# Select every second entry\n",
    "print pokemons[::2]   # =>['pikachu', 'Blastoise']\n",
    "# Reverse a copy of the list\n",
    "print pokemons[::-1]   # => ['Venusaur', 'Blastoise', 'Charizard', 'pikachu']\n",
    "# Use any combination of these to make advanced slices\n",
    "# li[start:end:step]"
   ]
  },
  {
   "cell_type": "code",
   "execution_count": 85,
   "metadata": {
    "collapsed": false
   },
   "outputs": [
    {
     "name": "stdout",
     "output_type": "stream",
     "text": [
      "['pikachu', 'Charizard', 'Venusaur']\n",
      "['pikachu', 'Charizard', 'Venusaur', 'digimon']\n",
      "['pikachu', 'Charizard', 'Venusaur', 'doraamon']\n"
     ]
    }
   ],
   "source": [
    "# 使用del來刪除某個index的Element\n",
    "del pokemons[2] # => ['pikachu', 'Charizard', 'Venusaur']\n",
    "print pokemons\n",
    "\n",
    "# 可以使用concatenate連結List\n",
    "print pokemons + ['digimon']   # => ['pikachu', 'Charizard', 'Venusaur', 'digimon']\n",
    "# Note: concatenate會return一個新值，原本的List不會被改變\n",
    "\n",
    "# 使用extend()來Concatenate List\n",
    "pokemons.extend(['doraamon'])   # => ['pikachu', 'Charizard', 'Venusaur', 'doraamon']\n",
    "print pokemons"
   ]
  },
  {
   "cell_type": "code",
   "execution_count": 87,
   "metadata": {
    "collapsed": false
   },
   "outputs": [
    {
     "name": "stdout",
     "output_type": "stream",
     "text": [
      "['pikachu', 'Venusaur', 'doraamon']\n",
      "['pikachu', 'Venusaur']\n"
     ]
    }
   ],
   "source": [
    "# 刪除第一個出現的值\n",
    "pokemons.remove('Charizard')  # => ['pikachu', 'Venusaur', 'doraamon']\n",
    "print pokemons\n",
    "pokemons.remove('doraamon')  # => ['pikachu', 'Venusaur']\n",
    "print pokemons\n"
   ]
  },
  {
   "cell_type": "code",
   "execution_count": 88,
   "metadata": {
    "collapsed": false
   },
   "outputs": [
    {
     "name": "stdout",
     "output_type": "stream",
     "text": [
      "['pikachu', 'pikachu', 'Venusaur']\n"
     ]
    }
   ],
   "source": [
    "# 在某個index中插入值\n",
    "pokemons.insert(1, 'pikachu')  # => ['pikachu', 'pikachu', 'Venusaur']\n",
    "print pokemons"
   ]
  },
  {
   "cell_type": "code",
   "execution_count": 91,
   "metadata": {
    "collapsed": false
   },
   "outputs": [
    {
     "name": "stdout",
     "output_type": "stream",
     "text": [
      "0\n"
     ]
    },
    {
     "ename": "ValueError",
     "evalue": "'Rainer' is not in list",
     "output_type": "error",
     "traceback": [
      "\u001b[0;31m---------------------------------------------------------------------------\u001b[0m",
      "\u001b[0;31mValueError\u001b[0m                                Traceback (most recent call last)",
      "\u001b[0;32m<ipython-input-91-377c63e62478>\u001b[0m in \u001b[0;36m<module>\u001b[0;34m()\u001b[0m\n\u001b[1;32m      1\u001b[0m \u001b[0;31m# 取得第一個找到的值的index\u001b[0m\u001b[0;34m\u001b[0m\u001b[0;34m\u001b[0m\u001b[0m\n\u001b[1;32m      2\u001b[0m \u001b[0;32mprint\u001b[0m \u001b[0mpokemons\u001b[0m\u001b[0;34m.\u001b[0m\u001b[0mindex\u001b[0m\u001b[0;34m(\u001b[0m\u001b[0;34m'pikachu'\u001b[0m\u001b[0;34m)\u001b[0m  \u001b[0;31m# => 1\u001b[0m\u001b[0;34m\u001b[0m\u001b[0m\n\u001b[0;32m----> 3\u001b[0;31m \u001b[0;32mprint\u001b[0m \u001b[0mpokemons\u001b[0m\u001b[0;34m.\u001b[0m\u001b[0mindex\u001b[0m\u001b[0;34m(\u001b[0m\u001b[0;34m'Rainer'\u001b[0m\u001b[0;34m)\u001b[0m  \u001b[0;31m# Raises a ValueError as Rainer is not in the list\u001b[0m\u001b[0;34m\u001b[0m\u001b[0m\n\u001b[0m",
      "\u001b[0;31mValueError\u001b[0m: 'Rainer' is not in list"
     ]
    }
   ],
   "source": [
    "# 取得第一個找到的值的index\n",
    "print pokemons.index('pikachu')  # => 1\n",
    "print pokemons.index('Rainer')  # Raises a ValueError as Rainer is not in the list\n"
   ]
  },
  {
   "cell_type": "code",
   "execution_count": 92,
   "metadata": {
    "collapsed": false
   },
   "outputs": [
    {
     "data": {
      "text/plain": [
       "3"
      ]
     },
     "execution_count": 92,
     "metadata": {},
     "output_type": "execute_result"
    }
   ],
   "source": [
    "# 使用\"in\"來測試字串有無出現在List中\n",
    "'pikachu' in pokemons   # => True\n",
    "\n",
    "# 只用len(List)來得到List長度\n",
    "len(pokemons)   # => 6"
   ]
  },
  {
   "cell_type": "markdown",
   "metadata": {},
   "source": [
    "## Tuples"
   ]
  },
  {
   "cell_type": "code",
   "execution_count": 50,
   "metadata": {
    "collapsed": false
   },
   "outputs": [
    {
     "data": {
      "text/plain": [
       "1"
      ]
     },
     "execution_count": 50,
     "metadata": {},
     "output_type": "execute_result"
    }
   ],
   "source": [
    "# Tuples 跟List很像，只是Tuple一旦被定義了就不能被修改\n",
    "tup = (1, 2, 3)\n",
    "tup[0]   # => 1\n",
    "#tup[0] = 3  # Raises a TypeError"
   ]
  },
  {
   "cell_type": "code",
   "execution_count": 94,
   "metadata": {
    "collapsed": false
   },
   "outputs": [
    {
     "name": "stdout",
     "output_type": "stream",
     "text": [
      "3\n",
      "(1, 2, 3, 4, 5, 6)\n",
      "(1, 2)\n",
      "True\n"
     ]
    }
   ],
   "source": [
    "# 可以用在List上面的methods大部分都可以使用在List上\n",
    "print len(tup)   # => Tuple的長度為3\n",
    "print tup + (4, 5, 6)   # => Concatenate tuple 得到 (1, 2, 3, 4, 5, 6)\n",
    "print tup[:2]   # => Slice Tuple 得到 (1, 2)\n",
    "print 2 in tup   # => 檢查值是否在Tuple中，得到True"
   ]
  },
  {
   "cell_type": "code",
   "execution_count": 96,
   "metadata": {
    "collapsed": false
   },
   "outputs": [
    {
     "name": "stdout",
     "output_type": "stream",
     "text": [
      "1 2 3\n"
     ]
    }
   ],
   "source": [
    "# 可以直接把Tuple（或List）的內容assign到variable\n",
    "a, b, c = (1, 2, 3)\n",
    "print a, b, c"
   ]
  },
  {
   "cell_type": "markdown",
   "metadata": {},
   "source": [
    "## Dictionary"
   ]
  },
  {
   "cell_type": "code",
   "execution_count": 98,
   "metadata": {
    "collapsed": false
   },
   "outputs": [],
   "source": [
    "# Dictionaries 儲存1對1的key-value mapping\n",
    "empty_dict = {}\n",
    "# 以下是一個範例\n",
    "filled_dict = {\"one\": 1, \"two\": 2, \"three\": 3}"
   ]
  },
  {
   "cell_type": "code",
   "execution_count": 99,
   "metadata": {
    "collapsed": false
   },
   "outputs": [
    {
     "data": {
      "text/plain": [
       "1"
      ]
     },
     "execution_count": 99,
     "metadata": {},
     "output_type": "execute_result"
    }
   ],
   "source": [
    "# 使用[key]來存取資料\n",
    "filled_dict[\"one\"]   # => 1"
   ]
  },
  {
   "cell_type": "code",
   "execution_count": 102,
   "metadata": {
    "collapsed": false
   },
   "outputs": [
    {
     "data": {
      "text/plain": [
       "['three', 'two', 'one']"
      ]
     },
     "execution_count": 102,
     "metadata": {},
     "output_type": "execute_result"
    }
   ],
   "source": [
    "# keys() method會用List回傳當前Dict的所有keys\n",
    "filled_dict.keys()   # => [\"three\", \"two\", \"one\"]\n",
    "# 注意 - Dictionary 不保證排序."
   ]
  },
  {
   "cell_type": "code",
   "execution_count": 56,
   "metadata": {
    "collapsed": false
   },
   "outputs": [
    {
     "data": {
      "text/plain": [
       "[3, 2, 1]"
      ]
     },
     "execution_count": 56,
     "metadata": {},
     "output_type": "execute_result"
    }
   ],
   "source": [
    "# values() method會用List回傳當前Dict的所有values\n",
    "filled_dict.values()   # => [3, 2, 1]\n",
    "# 注意 - Dictionary 不保證排序."
   ]
  },
  {
   "cell_type": "code",
   "execution_count": 57,
   "metadata": {
    "collapsed": false
   },
   "outputs": [
    {
     "data": {
      "text/plain": [
       "False"
      ]
     },
     "execution_count": 57,
     "metadata": {},
     "output_type": "execute_result"
    }
   ],
   "source": [
    "# 使用in syntax測試Dict是否有某個key\n",
    "\"one\" in filled_dict   # => True\n",
    "1 in filled_dict   # => False"
   ]
  },
  {
   "cell_type": "code",
   "execution_count": 58,
   "metadata": {
    "collapsed": false
   },
   "outputs": [],
   "source": [
    "# 若查詢一個不存在的key，會raise KeyError\n",
    "#filled_dict[\"four\"]   # KeyError"
   ]
  },
  {
   "cell_type": "markdown",
   "metadata": {},
   "source": [
    "解決方法\n",
    "---\n",
    "使用get()來查詢dict"
   ]
  },
  {
   "cell_type": "code",
   "execution_count": 105,
   "metadata": {
    "collapsed": false
   },
   "outputs": [
    {
     "name": "stdout",
     "output_type": "stream",
     "text": [
      "1\n",
      "None\n"
     ]
    }
   ],
   "source": [
    "# 使用get()來避免KeyError\n",
    "print filled_dict.get(\"one\")   # => 1\n",
    "print filled_dict.get(\"four\")   # => None"
   ]
  },
  {
   "cell_type": "code",
   "execution_count": 103,
   "metadata": {
    "collapsed": false
   },
   "outputs": [
    {
     "name": "stdout",
     "output_type": "stream",
     "text": [
      "1\n",
      "4\n"
     ]
    }
   ],
   "source": [
    "# get()支援回傳預設值，當value不存在的時候\n",
    "print filled_dict.get(\"one\", 4)   # => 1\n",
    "print filled_dict.get(\"four\", 4)   # => 4\n",
    "# 注意 filled_dict.get(\"four\") 還是 => None\n",
    "# (get() 不會修改dict的內容)"
   ]
  },
  {
   "cell_type": "code",
   "execution_count": 107,
   "metadata": {
    "collapsed": false
   },
   "outputs": [
    {
     "name": "stdout",
     "output_type": "stream",
     "text": [
      "{'four': 4, 'three': 3, 'two': 2, 'one': 1}\n"
     ]
    }
   ],
   "source": [
    "# assign某個key一個value\n",
    "filled_dict[\"four\"] = 4  # 現在, filled_dict[\"four\"] => 4\n",
    "print filled_dict"
   ]
  },
  {
   "cell_type": "code",
   "execution_count": 111,
   "metadata": {
    "collapsed": false
   },
   "outputs": [
    {
     "name": "stdout",
     "output_type": "stream",
     "text": [
      "{'four': 4, 'three': 3, 'five': 5, 'two': 2, 'one': 1}\n",
      "{'four': 4, 'three': 3, 'five': 5, 'two': 2, 'one': 1}\n"
     ]
    }
   ],
   "source": [
    "# \"setdefault()\"會檢查dict是否有這個key，若沒有則會新增\n",
    "filled_dict.setdefault(\"five\", 5)  # filled_dict[\"five\"] = 5\n",
    "print filled_dict\n",
    "filled_dict.setdefault(\"five\", 6)  # filled_dict[\"five\"] 還是 5\n",
    "print filled_dict"
   ]
  },
  {
   "cell_type": "markdown",
   "metadata": {},
   "source": [
    "# Control Flow"
   ]
  },
  {
   "cell_type": "code",
   "execution_count": 112,
   "metadata": {
    "collapsed": false
   },
   "outputs": [],
   "source": [
    "# 先設定一個variable\n",
    "some_var = 5"
   ]
  },
  {
   "cell_type": "code",
   "execution_count": 113,
   "metadata": {
    "collapsed": false
   },
   "outputs": [
    {
     "name": "stdout",
     "output_type": "stream",
     "text": [
      "some_var is smaller than 10.\n"
     ]
    }
   ],
   "source": [
    "# 下面是一個if statement，注意：縮排在Python很重要\n",
    "# prints \"some_var is smaller than 10\"\n",
    "if some_var > 10:\n",
    "    print \"some_var is totally bigger than 10.\"\n",
    "elif some_var < 10:\n",
    "    print \"some_var is smaller than 10.\"\n",
    "else:  \n",
    "    print \"some_var is indeed 10.\""
   ]
  },
  {
   "cell_type": "code",
   "execution_count": 115,
   "metadata": {
    "collapsed": false
   },
   "outputs": [
    {
     "name": "stdout",
     "output_type": "stream",
     "text": [
      "dog is a mammal\n",
      "cat is a mammal\n",
      "mouse is a mammal\n"
     ]
    }
   ],
   "source": [
    "\"\"\"\n",
    "For loops iterate over lists\n",
    "prints:\n",
    "    dog is a mammal\n",
    "    cat is a mammal\n",
    "    mouse is a mammal\n",
    "\"\"\"\n",
    "for animal in [\"dog\", \"cat\", \"mouse\"]:\n",
    "    # 你可以用 {0}來interpolate formatted strings. (參考上面範例)\n",
    "    print \"{0} is a mammal\".format(animal)"
   ]
  },
  {
   "cell_type": "code",
   "execution_count": 117,
   "metadata": {
    "collapsed": false
   },
   "outputs": [
    {
     "name": "stdout",
     "output_type": "stream",
     "text": [
      "0\n",
      "1\n",
      "2\n",
      "3\n"
     ]
    }
   ],
   "source": [
    "\"\"\"\n",
    "\"range(number)\" 回傳一個list of numbers\n",
    "從0到number\n",
    "prints:\n",
    "    0\n",
    "    1\n",
    "    2\n",
    "    3\n",
    "\"\"\"\n",
    "for i in range(4):\n",
    "    print i"
   ]
  },
  {
   "cell_type": "code",
   "execution_count": 67,
   "metadata": {
    "collapsed": false
   },
   "outputs": [
    {
     "name": "stdout",
     "output_type": "stream",
     "text": [
      "4\n",
      "5\n",
      "6\n",
      "7\n"
     ]
    }
   ],
   "source": [
    "\"\"\"\n",
    "\"range(lower, upper)\" 回傳一個list of numbers\n",
    "從lower number到upper number\n",
    "prints:\n",
    "    4\n",
    "    5\n",
    "    6\n",
    "    7\n",
    "\"\"\"\n",
    "for i in range(4, 8):\n",
    "    print i"
   ]
  },
  {
   "cell_type": "code",
   "execution_count": 119,
   "metadata": {
    "collapsed": false
   },
   "outputs": [
    {
     "name": "stdout",
     "output_type": "stream",
     "text": [
      "0\n",
      "1\n",
      "2\n",
      "3\n"
     ]
    }
   ],
   "source": [
    "\"\"\"\n",
    "While loop會一直執行知道某個condition不成立\n",
    "prints:\n",
    "    0\n",
    "    1\n",
    "    2\n",
    "    3\n",
    "\"\"\"\n",
    "x = 0\n",
    "while x < 4:\n",
    "    print x\n",
    "    x += 1  #  x = x + 1的縮寫"
   ]
  },
  {
   "cell_type": "markdown",
   "metadata": {},
   "source": [
    "## 使用try/except block進行Exceptions處理"
   ]
  },
  {
   "cell_type": "code",
   "execution_count": 122,
   "metadata": {
    "collapsed": false
   },
   "outputs": [
    {
     "name": "stdout",
     "output_type": "stream",
     "text": [
      "We can clean up resources here\n"
     ]
    }
   ],
   "source": [
    "try:\n",
    "    # 用\"raise\"來raise一個error\n",
    "    raise IndexError(\"This is an index error\")\n",
    "except IndexError as e:\n",
    "    \"\"\"通常在except block裡面進行恢復\"\"\"\n",
    "    pass    # Pass => 什麼都不做，純粹為了syntax需要一個縮排\n",
    "except (TypeError, NameError):\n",
    "    pass    # 可以一次catch很多的Exception種類\n",
    "else:   # 當沒有Exception的時候，else裡面的code才會run\n",
    "    print \"All good!\"\n",
    "finally: # finally底下的code不管如何都會run，通常拿來做clean up（如：關閉檔案）\n",
    "    print \"We can clean up resources here\""
   ]
  },
  {
   "cell_type": "code",
   "execution_count": 124,
   "metadata": {
    "collapsed": false
   },
   "outputs": [],
   "source": [
    "# 若是關閉檔案的話，有另外一個選擇是使用with syntax\n",
    "#with open(\"myfile.txt\") as f:\n",
    "#    for line in f:\n",
    "#        print line"
   ]
  },
  {
   "cell_type": "markdown",
   "metadata": {},
   "source": [
    "# Functions"
   ]
  },
  {
   "cell_type": "code",
   "execution_count": 126,
   "metadata": {
    "collapsed": false
   },
   "outputs": [
    {
     "name": "stdout",
     "output_type": "stream",
     "text": [
      "x is 5 and y is 6\n",
      "x is 5 and y is 6\n"
     ]
    },
    {
     "data": {
      "text/plain": [
       "11"
      ]
     },
     "execution_count": 126,
     "metadata": {},
     "output_type": "execute_result"
    }
   ],
   "source": [
    "# 用 \"def\" 創造新的function\n",
    "def add(x, y):\n",
    "    print \"x is {0} and y is {1}\".format(x, y)\n",
    "    return x + y    # Return結果\n",
    "\n",
    "# Call function\n",
    "add(5, 6)   # => prints \"x is 5 and y is 6\" 然後 returns 11\n",
    "\n",
    "# 也可以用keyword arguments來call function\n",
    "add(y=6, x=5)   # Keyword arguemnt沒有順序問題"
   ]
  },
  {
   "cell_type": "markdown",
   "metadata": {},
   "source": [
    "如果今天function argument的長度不確定呢？"
   ]
  },
  {
   "cell_type": "code",
   "execution_count": 138,
   "metadata": {
    "collapsed": false
   },
   "outputs": [
    {
     "name": "stdout",
     "output_type": "stream",
     "text": [
      "1\n",
      "(1, 2, 3)\n",
      "<type 'tuple'>\n",
      "1\n"
     ]
    },
    {
     "data": {
      "text/plain": [
       "(1, 2, 3)"
      ]
     },
     "execution_count": 138,
     "metadata": {},
     "output_type": "execute_result"
    }
   ],
   "source": [
    "# 可以使用*來表示有順序性的動態長度arguments\n",
    "# *會把args變成tuple\n",
    "def varargs(*args):\n",
    "    a, b = args[:2]\n",
    "    print a\n",
    "    print args\n",
    "    print type(args)\n",
    "    print args[0]\n",
    "    return args\n",
    "\n",
    "varargs(1, 2, 3)   # => (1, 2, 3)"
   ]
  },
  {
   "cell_type": "code",
   "execution_count": 139,
   "metadata": {
    "collapsed": false
   },
   "outputs": [
    {
     "data": {
      "text/plain": [
       "{'big': 'foot', 'loch': 'ness'}"
      ]
     },
     "execution_count": 139,
     "metadata": {},
     "output_type": "execute_result"
    }
   ],
   "source": [
    "# 或者可以使用**來代表動態長度的keyword arguments\n",
    "# **會把kwargs解讀成dict\n",
    "def keyword_args(**kwargs):\n",
    "    return kwargs\n",
    "\n",
    "keyword_args(big=\"foot\", loch=\"ness\")   # => {\"big\": \"foot\", \"loch\": \"ness\"}"
   ]
  },
  {
   "cell_type": "code",
   "execution_count": 142,
   "metadata": {
    "collapsed": false
   },
   "outputs": [
    {
     "name": "stdout",
     "output_type": "stream",
     "text": [
      "(1, 2, 3, 4)\n",
      "{}\n",
      "()\n",
      "{'a': 3, 'b': 4}\n",
      "(1, 2, 3, 4)\n",
      "{'a': 3, 'b': 4}\n"
     ]
    }
   ],
   "source": [
    "# 也可以兩個都用\n",
    "def all_the_args(*args, **kwargs):\n",
    "    print args\n",
    "    print kwargs\n",
    "\"\"\"\n",
    "all_the_args(1, 2, a=3, b=4) prints:\n",
    "    (1, 2)\n",
    "    {\"a\": 3, \"b\": 4}\n",
    "\"\"\"\n",
    "\n",
    "# Call function的時候也可以使用 args/kwargs!\n",
    "# 用 * 來expand positional args 然後用 ** 來 expand keyword args.\n",
    "args = (1, 2, 3, 4)\n",
    "kwargs = {\"a\": 3, \"b\": 4}\n",
    "all_the_args(*args)   # => foo(1, 2, 3, 4)\n",
    "all_the_args(**kwargs)   # => foo(a=3, b=4)\n",
    "all_the_args(*args, **kwargs)   # => foo(1, 2, 3, 4, a=3, b=4)\n",
    "\n",
    "# 也可以把*args, **kwargs直接傳進另外一個take *args, **kwags的function\n",
    "def pass_all_the_args(*args, **kwargs):\n",
    "    all_the_args(*args, **kwargs)\n",
    "    print varargs(*args)\n",
    "    print keyword_args(**kwargs)"
   ]
  },
  {
   "cell_type": "code",
   "execution_count": 144,
   "metadata": {
    "collapsed": false
   },
   "outputs": [
    {
     "name": "stdout",
     "output_type": "stream",
     "text": [
      "43\n",
      "5\n",
      "6\n"
     ]
    }
   ],
   "source": [
    "# Function Scope\n",
    "x = 5\n",
    "\n",
    "def set_x(num):\n",
    "    # function裡面的local variable x跟外面的global variable沒有關聯\n",
    "    x = num # => 43\n",
    "    print x # => 43\n",
    "\n",
    "def set_global_x(num):\n",
    "    global x\n",
    "    print x # => 5\n",
    "    x = num # global var x => 6\n",
    "    print x # => 6\n",
    "\n",
    "set_x(43)\n",
    "set_global_x(6)"
   ]
  },
  {
   "cell_type": "code",
   "execution_count": 76,
   "metadata": {
    "collapsed": false
   },
   "outputs": [
    {
     "data": {
      "text/plain": [
       "13"
      ]
     },
     "execution_count": 76,
     "metadata": {},
     "output_type": "execute_result"
    }
   ],
   "source": [
    "# functions在Python裡是first class\n",
    "def create_adder(x):\n",
    "    def adder(y):\n",
    "        return x + y\n",
    "    return adder\n",
    "\n",
    "add_10 = create_adder(10)\n",
    "add_10(3)   # => 13"
   ]
  },
  {
   "cell_type": "code",
   "execution_count": 146,
   "metadata": {
    "collapsed": false
   },
   "outputs": [
    {
     "data": {
      "text/plain": [
       "5"
      ]
     },
     "execution_count": 146,
     "metadata": {},
     "output_type": "execute_result"
    }
   ],
   "source": [
    "# 也有匿名函示\n",
    "(lambda x: x > 2)(3)   # => True\n",
    "(lambda x, y: x ** 2 + y ** 2)(2, 1) # => 5"
   ]
  },
  {
   "cell_type": "code",
   "execution_count": 148,
   "metadata": {
    "collapsed": false
   },
   "outputs": [
    {
     "name": "stdout",
     "output_type": "stream",
     "text": [
      "[11, 12, 13]\n",
      "[4, 2, 3]\n",
      "[6, 7]\n"
     ]
    }
   ],
   "source": [
    "# 也有內建一些higher order functions\n",
    "print map(add_10, [1, 2, 3])   # => [11, 12, 13]\n",
    "print map(max, [1, 2, 3], [4, 2, 1])   # => [4, 2, 3]\n",
    "\n",
    "print filter(lambda x: x > 5, [3, 4, 5, 6, 7])   # => [6, 7]"
   ]
  },
  {
   "cell_type": "code",
   "execution_count": 149,
   "metadata": {
    "collapsed": false
   },
   "outputs": [
    {
     "name": "stdout",
     "output_type": "stream",
     "text": [
      "[11, 12, 13]\n",
      "[6, 7]\n"
     ]
    }
   ],
   "source": [
    "# list comprehensions\n",
    "print [add_10(i) for i in [1, 2, 3]]  # => [11, 12, 13]\n",
    "print [x for x in [3, 4, 5, 6, 7] if x > 5]   # => [6, 7]"
   ]
  },
  {
   "cell_type": "markdown",
   "metadata": {},
   "source": [
    "# 物件導向程式（Object Oriented)"
   ]
  },
  {
   "cell_type": "code",
   "execution_count": 80,
   "metadata": {
    "collapsed": false
   },
   "outputs": [
    {
     "name": "stdout",
     "output_type": "stream",
     "text": [
      "Ian: hi\n",
      "Joel: hello\n"
     ]
    },
    {
     "data": {
      "text/plain": [
       "42"
      ]
     },
     "execution_count": 80,
     "metadata": {},
     "output_type": "execute_result"
    }
   ],
   "source": [
    "# Subclass from object 來取得一個Class.\n",
    "class Human(object):\n",
    "\n",
    "    # Class attribute. Shared by 所有這個Class的instance\n",
    "    species = \"H. sapiens\"\n",
    "\n",
    "    # 基本 initializer, 在instance建立時被呼叫.\n",
    "    def __init__(self, name):\n",
    "        # Assign argument裡的name to instance的name attribute\n",
    "        self.name = name\n",
    "\n",
    "        # 初始化property\n",
    "        self.age = 0\n",
    "\n",
    "\n",
    "    # instance method. 所有的methods都需要\"self\"作為第一個argument\n",
    "    def say(self, msg):\n",
    "        return \"{0}: {1}\".format(self.name, msg)\n",
    "\n",
    "    # class method => 所有instance共享的\n",
    "    # calling class是第一個argument\n",
    "    @classmethod\n",
    "    def get_species(cls):\n",
    "        return cls.species\n",
    "\n",
    "    # Static method呼叫時不需要instance或class的reference\n",
    "    @staticmethod\n",
    "    def grunt():\n",
    "        return \"*grunt*\"\n",
    "\n",
    "    # Property就像是getter.\n",
    "    # 它把跟他一樣名字的attribute變成read-only的型態\n",
    "    @property\n",
    "    def age(self):\n",
    "        return self._age\n",
    "\n",
    "    # setter\n",
    "    @age.setter\n",
    "    def age(self, age):\n",
    "        self._age = age\n",
    "\n",
    "    # deleter\n",
    "    @age.deleter\n",
    "    def age(self):\n",
    "        del self._age\n",
    "\n",
    "\n",
    "# 建立一個instance of a class\n",
    "i = Human(name=\"Ian\")\n",
    "print i.say(\"hi\")     # prints out \"Ian: hi\"\n",
    "\n",
    "j = Human(\"Joel\")\n",
    "print j.say(\"hello\")  # prints out \"Joel: hello\"\n",
    "\n",
    "# Call 我們的 class method\n",
    "i.get_species()   # => \"H. sapiens\"\n",
    "\n",
    "# 改變 shared attribute\n",
    "Human.species = \"H. neanderthalensis\"\n",
    "i.get_species()   # => \"H. neanderthalensis\"\n",
    "j.get_species()   # => \"H. neanderthalensis\"\n",
    "\n",
    "# Call static method\n",
    "Human.grunt()   # => \"*grunt*\"\n",
    "\n",
    "# Update the property\n",
    "i.age = 42\n",
    "\n",
    "# Get the property\n",
    "i.age # => 42\n",
    "\n",
    "# Delete the property\n",
    "#del i.age\n",
    "#i.age  # => raises an AttributeError"
   ]
  },
  {
   "cell_type": "code",
   "execution_count": null,
   "metadata": {
    "collapsed": true
   },
   "outputs": [],
   "source": []
  }
 ],
 "metadata": {
  "kernelspec": {
   "display_name": "Python [Root]",
   "language": "python",
   "name": "Python [Root]"
  },
  "language_info": {
   "codemirror_mode": {
    "name": "ipython",
    "version": 2
   },
   "file_extension": ".py",
   "mimetype": "text/x-python",
   "name": "python",
   "nbconvert_exporter": "python",
   "pygments_lexer": "ipython2",
   "version": "2.7.12"
  }
 },
 "nbformat": 4,
 "nbformat_minor": 0
}
