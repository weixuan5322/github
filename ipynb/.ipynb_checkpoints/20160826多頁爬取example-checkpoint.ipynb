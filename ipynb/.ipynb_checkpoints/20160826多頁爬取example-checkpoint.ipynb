{
 "cells": [
  {
   "cell_type": "code",
   "execution_count": 2,
   "metadata": {
    "collapsed": true
   },
   "outputs": [],
   "source": [
    "# Reviews"
   ]
  },
  {
   "cell_type": "code",
   "execution_count": 3,
   "metadata": {
    "collapsed": true
   },
   "outputs": [],
   "source": [
    "import requests as r"
   ]
  },
  {
   "cell_type": "code",
   "execution_count": 4,
   "metadata": {
    "collapsed": true
   },
   "outputs": [],
   "source": [
    "res = r.get(\"http://www.appledaily.com.tw/realtimenews/section/new/\")"
   ]
  },
  {
   "cell_type": "code",
   "execution_count": 5,
   "metadata": {
    "collapsed": false
   },
   "outputs": [
    {
     "data": {
      "text/plain": [
       "requests.models.Response"
      ]
     },
     "execution_count": 5,
     "metadata": {},
     "output_type": "execute_result"
    }
   ],
   "source": [
    "# Check the type of res\n",
    "type(res)"
   ]
  },
  {
   "cell_type": "code",
   "execution_count": 6,
   "metadata": {
    "collapsed": false
   },
   "outputs": [
    {
     "data": {
      "text/plain": [
       "['__attrs__',\n",
       " '__bool__',\n",
       " '__class__',\n",
       " '__delattr__',\n",
       " '__dict__',\n",
       " '__doc__',\n",
       " '__format__',\n",
       " '__getattribute__',\n",
       " '__getstate__',\n",
       " '__hash__',\n",
       " '__init__',\n",
       " '__iter__',\n",
       " '__module__',\n",
       " '__new__',\n",
       " '__nonzero__',\n",
       " '__reduce__',\n",
       " '__reduce_ex__',\n",
       " '__repr__',\n",
       " '__setattr__',\n",
       " '__setstate__',\n",
       " '__sizeof__',\n",
       " '__str__',\n",
       " '__subclasshook__',\n",
       " '__weakref__',\n",
       " '_content',\n",
       " '_content_consumed',\n",
       " 'apparent_encoding',\n",
       " 'close',\n",
       " 'connection',\n",
       " 'content',\n",
       " 'cookies',\n",
       " 'elapsed',\n",
       " 'encoding',\n",
       " 'headers',\n",
       " 'history',\n",
       " 'is_permanent_redirect',\n",
       " 'is_redirect',\n",
       " 'iter_content',\n",
       " 'iter_lines',\n",
       " 'json',\n",
       " 'links',\n",
       " 'ok',\n",
       " 'raise_for_status',\n",
       " 'raw',\n",
       " 'reason',\n",
       " 'request',\n",
       " 'status_code',\n",
       " 'text',\n",
       " 'url']"
      ]
     },
     "execution_count": 6,
     "metadata": {},
     "output_type": "execute_result"
    }
   ],
   "source": [
    "# Use dir() to check the methods and attributes of Response Object\n",
    "dir(res)"
   ]
  },
  {
   "cell_type": "code",
   "execution_count": 7,
   "metadata": {
    "collapsed": false
   },
   "outputs": [
    {
     "data": {
      "text/plain": [
       "u'<!DOCTYPE html>\\n<!--[if lt IE 7 ]> <html lang=\"zh-TW\" class=\"ie6 ielt8\"> <![endif]-->\\n<!--[if IE 7 ]>    <html lang=\"zh-TW\" class=\"ie7 ielt8\"> <![endif]-->\\n<!--[if IE 8 ]>    <html lang=\"zh-TW\" class=\"ie8\"> <![endif]-->\\n<!--[if (gte IE 9)|!(IE)]><!--> <html lang=\"zh-TW\"> <!--<![endif]-->\\n<head>\\n  <meta charset=\"utf-8\" />\\n  <title>\\u860b\\u679c\\u5373\\u6642\\u65b0\\u805e\\uff5c\\u860b\\u679c\\u65e5\\u5831\\uff5cApple Daily</title>\\n  <meta name=\"description\" content=\"\\u860b\\u679c\\u65e5\\u5831\\u7db2\\u7ad9\\u63d0\\u4f9b\\u5373\\u6642\\u3001\\u5feb\\u901f\\u3001\\u8c50\\u5bcc\\u7684\\u6700\\u65b0\\u6642\\u4e8b\\u52d5\\u614b\\uff0c\\u5305\\u542b\\u570b\\u969b\\u3001\\u793e\\u6703\\u3001\\u5a1b\\u6a02\\u3001\\u653f\\u6cbb\\u3001\\u751f\\u6d3b\\u3001\\u8ca1\\u7d93\\u7b49\\u6700\\u65b0\\u8a0a\\u606f\\uff0c\\u4e26\\u70ba\\u60a8\\u641c\\u5947\\u5730\\u7403\\u6751\\u842c\\u8c61\\u8207\\u8da3\\u805e\\uff0c\\u5f37\\u8abf\\u6709\\u5716\\u6709\\u771f\\u76f8\\u3001\\u5f71\\u7247\\u6700\\u660e\\u767d\\uff0c\\u8b93\\u60a8\\u6642\\u6642\\u523b\\u523b\\u638c\\u63e1\\u5929\\u4e0b\\u4e8b\\uff01\" />\\n  <meta name=\"keywords\" content=\"\\u860b\\u679c\\u65e5\\u5831,Apple Daily,\\u53f0\\u7063,\\u58f9\\u50b3\\u5a92,Apple, Animation news, Action News, Apple news, news,\\u860b\\u679c,\\u5373\\u6642,\\u6700\\u65b0,\\u860b\\u679c\\u65b0\\u805e,\\u65b0\\u805e,\\u58f9\\u9031\\u520a,\\u58f9\\u96fb\\u8996,\\u52d5\\u65b0\\u805e,\\u5373\\u6642\\u65b0\\u805e,Facebook,\\u81c9\\u66f8,\\u860b\\u679c\\u7c89\\u7d72\\u5718,plurk,twitter,\\u7559\\u8a00,\\u5206\\u4eab,\\u6309\\u8b9a,\\u5929\\u6c23,\\u5f71\\u97f3\\u65b0\\u805e,\\u5f71\\u7247,\\u5f71\\u97f3,\\u884c\\u52d5\\u7248,\\u624b\\u6a5f,App,Android,iphone,Mango,\\u7206\\u6599,\\u6295\\u7a3f,\\u767c\\u7968,\\u7d71\\u4e00\\u767c\\u7968,RSS,\\u751f\\u6d3b,\\u570b\\u969b,\\u5a1b\\u6a02,\\u9ad4\\u80b2,\\u526f\\u520a,\\u8ca1\\u7d93,\\u80a1\\u5e02,\\u6a02\\u900f,\\u5a01\\u529b\\u5f69,\\u793e\\u6703,\\u71b1\\u9580,\\u5f69\\u5238,\\u982d\\u5f69\" />\\n  <meta property=\"og:title\" content=\"\\u860b\\u679c\\u5373\\u6642\\u65b0\\u805e\\uff5c\\u860b\\u679c\\u65e5\\u5831\\uff5cApple Daily\"/>\\n  <meta property=\"og:image\" content=\"http://twimg.edgesuite.net/appledaily/images/core/logo_bg.png\"/>\\n  <meta property=\"og:description\" content=\"\\u860b\\u679c\\u65e5\\u5831\\u7db2\\u7ad9\\u63d0\\u4f9b\\u5373\\u6642\\u3001\\u5feb\\u901f\\u3001\\u8c50\\u5bcc\\u7684\\u6700\\u65b0\\u6642\\u4e8b\\u52d5\\u614b\\uff0c\\u5305\\u542b\\u570b\\u969b\\u3001\\u793e\\u6703\\u3001\\u5a1b\\u6a02\\u3001\\u653f\\u6cbb\\u3001\\u751f\\u6d3b\\u3001\\u8ca1\\u7d93\\u7b49\\u6700\\u65b0\\u8a0a\\u606f\\uff0c\\u4e26\\u70ba\\u60a8\\u641c\\u5947\\u5730\\u7403\\u6751\\u842c\\u8c61\\u8207\\u8da3\\u805e\\uff0c\\u5f37\\u8abf\\u6709\\u5716\\u6709\\u771f\\u76f8\\u3001\\u5f71\\u7247\\u6700\\u660e\\u767d\\uff0c\\u8b93\\u60a8\\u6642\\u6642\\u523b\\u523b\\u638c\\u63e1\\u5929\\u4e0b\\u4e8b\\uff01\"/>\\n  <link rel=\"shortcut icon\" href=\"http://twimg.edgesuite.net/appledaily/pinsite/64x64.ico\">\\n  <link rel=\"shortcut icon\" type=\"image/x-icon\" href=\"http://twimg.edgesuite.net/appledaily/pinsite/64x64.ico\">\\n  <link rel=\"icon\" type=\"image/ico\" href=\"http://twimg.edgesuite.net/appledaily/pinsite/64x64.ico\">\\n  <link rel=\"stylesheet\" href=\"http://twimg.edgesuite.net/appledaily/images/css/style.css\">\\n  <link rel=\"stylesheet\" href=\"http://twimg.edgesuite.net/appledaily/images/css/modules.css\">\\n  <link rel=\"stylesheet\" href=\"http://twimg.edgesuite.net/appledaily/images/css/rtnewslist.css\" />\\n  <link rel=\"stylesheet\" href=\"http://twimg.edgesuite.net/appledaily/style.css\" />\\n  <link rel=\"stylesheet\" href=\"http://twimg.edgesuite.net/appledaily/images/css/realtimenews.css\" />\\n  <script src=\"http://twimg.edgesuite.net/www/js/html5.js\"></script>\\n  <script src=\"http://twimg.edgesuite.net/appledaily/images/js/jquery-1.7.2.min.js\"></script>\\n  <script type=\"text/javascript\" src=\"http://twimg.edgesuite.net/appledaily/images/js/iepngfix.js\"></script>\\n  <script type=\"text/javascript\" src=\"http://twimg.edgesuite.net/appledaily/images/js/jquery.ifixpng.js\"></script>\\n  <script type=\"text/javascript\" language=\"JavaScript\" src=\"http://twimg.edgesuite.net/adx/gpt.js\"></script>\\n  <link rel=\"stylesheet\" href=\"http://twimg.edgesuite.net/appledaily/images/js/owlcarousel/owl.carousel.css\">\\n  <link rel=\"stylesheet\" href=\"http://twimg.edgesuite.net/appledaily/images/js/owlcarousel/carousel-layout.css\">\\n  <link rel=\"stylesheet\" href=\"http://twimg.edgesuite.net/appledaily/images/js/owlcarousel/assets/css/animate-custom.css\">\\n  <script src=\"http://twimg.edgesuite.net/appledaily/images/js/owlcarousel/owl.carousel.fix.js\"></script>\\n  <script type=\"text/javascript\" src=\"http://twimg.edgesuite.net/appledaily/images/js/appledaily-detectmobilebrowser.js\"></script>\\n  <script type=\"text/javascript\" src=\"http://twimg.edgesuite.net/applemobile/js/jquery.cookie.js\"></script>\\n  <script type=\"text/javascript\" src=\"http://twimg.edgesuite.net/appledaily/images/js/GeoApiPC.js\"></script>\\n  <script>\\n        googletag.cmd.push(function() {\\n            var mappingHeadBanner = googletag.sizeMapping().addSize([0, 0], [ [970,90],[970,160], [970,250] ]).build();\\n            var mappingLREC1 = googletag.sizeMapping().addSize([0, 0], [ [300,250], [300,600] ]).build();\\n            HeadBanner = gpt.createAdSlot(\\'AppleDaily/realtimenews_new_index/HeadBanner\\', \\'HeadBanner\\', \\'leaderboard\\', GeoDFP).defineSizeMapping(mappingHeadBanner).setCollapseEmptyDiv(true);\\n            LREC1 = gpt.createAdSlot(\\'AppleDaily/realtimenews_new_index/LREC1\\', \\'LREC\\', \\'rectangleAD1\\', GeoDFP).defineSizeMapping(mappingLREC1).setCollapseEmptyDiv(true);\\n            LREC2 = gpt.createAdSlot(\\'AppleDaily/realtimenews_new_index/LREC2\\', \\'LREC\\', \\'rectangleAD2\\', GeoDFP);\\n            W1 = gpt.createAdSlot(\\'AppleDaily/realtimenews_new_index/Wallpaper1\\', \\'150x800\\', \\'door-left\\', GeoDFP);\\n            W2 = gpt.createAdSlot(\\'AppleDaily/realtimenews_new_index/Wallpaper2\\', \\'150x800\\', \\'door-right\\', GeoDFP);\\n            BottomBanner = gpt.createAdSlot(\\'AppleDaily/realtimenews_new_index/BottomBanner\\', \\'1x1\\', \\'div-ad-bottom\\', GeoDFP);\\n            Minibar = gpt.createAdSlot(\\'AppleDaily/realtimenews_new_index/minibar\\', \\'640x90\\', \\'minibar\\', GeoDFP);\\n            gpt.enableServices();\\n        });\\n  </script>\\n</head>\\n<body id=\"article\" class=\"all\">\\n    <div class=\"wrapper\">\\n        <div class=\"sqrezeer\">\\n            <script>\\n  var _comscore = _comscore || [];\\n  _comscore.push({ c1: \"2\", c2: \"8028476\" });\\n  (function() {\\n    var s = document.createElement(\"script\"), el = document.getElementsByTagName(\"script\")[0]; s.async = true;\\n    s.src = (document.location.protocol == \"https:\" ? \"https://sb\" : \"http://b\") + \".scorecardresearch.com/beacon.js\";\\n    el.parentNode.insertBefore(s, el);\\n  })();\\n</script>\\n<noscript>\\n  <img src=\"http://b.scorecardresearch.com/p?c1=2&c2=8028476&cv=2.0&cj=1\" />\\n</noscript>\\n\\n<!-- 1X1 -->\\n<script type=\"text/javascript\" src=\"http://imp.nextmedia.com/js/nxm_tr_v16.js\"></script>\\n<script type=\"text/javascript\" src=\"http://twimg.edgesuite.net/appledaily/images/js/1x1/fingerprint.js\"></script>\\n<script>\\n    nxmTrack.nxmAddSeg(\"REGION=TW\");\\n    nxmTrack.nxmAddSeg(\"PROD=ADAILY\");\\n    nxmTrack.nxmAddSeg(\"SITE=www.appledaily.com.tw\"); \\n    nxmTrack.nxmAddSeg(\"CH=APPLEDAILY\");\\n    nxmTrack.nxmAddSeg(\"SECTION=REAL\");\\n    nxmTrack.nxmAddSeg(\"MENU=\\u5373\\u6642\\u65b0\\u805e/\\u6700\\u65b0\"); \\n    nxmTrack.nxmAddSeg(\"TITLE=\");\\n    nxmTrack.nxmAddSeg(\"SUBSECT=new\");\\n    nxmTrack.nxmAddSeg(\"SUBSUBSECT=\"); \\n    nxmTrack.nxmAddSeg(\"MEDIA=TEXT\");\\n    nxmTrack.nxmAddSeg(\"CONTENT=INDEX\"); \\n    nxmTrack.nxmAddSeg(\"ISSUEID=\"); \\n    nxmTrack.nxmAddSeg(\"CID=\");    \\n    nxmTrack.nxmAddSeg(\"CAT=new\");     \\n    nxmTrack.nxmAddSeg(\"NEWS=REALTIME\"); \\n    nxmTrack.nxmAddSeg(\"PLATFORM=WEB\"); \\n    nxmTrack.nxmAddSeg(\"EDM=MOST\");\\n    nxmTrack.nxmAddSeg(\"AUTH=\");\\n    nxmTrack.nxmAddSeg(\"KY=\");\\n    nxmTrack.nxmAddSeg(\"ACTION=PAGEVIEW\");\\n    nxmTrack.nxmAddSeg(\"L=\"+document.gtLang().toUpperCase());\\n        var ngs_id = nxmTrack.readCookie(\\'ngs_id\\');\\n    if (ngs_id == null) ngs_id = \\'\\';\\n    nxmTrack.nxmAddSeg(\\'NGSID=\\' + ngs_id);\\n\\n    $(document).ready(function() {\\n        nxmTrack.nxmSendPageDepth(0, new Date().getTime());\\n\\n        //Scroll up/down tracking depth\\n        var trackRecords = [];\\n        $(window).scroll(function() {\\n            var scrollPercent = getPageScrollPercent();\\n            if (scrollPercent >= 25 && trackRecords.indexOf(\"25\") == -1) {\\n                trackRecords.push(\"25\");\\n                nxmTrack.nxmSendPageDepth(25, new Date().getTime());\\n            } else if (scrollPercent >= 50 && trackRecords.indexOf(\"50\") == -1) {\\n                trackRecords.push(\"50\");\\n                nxmTrack.nxmSendPageDepth(50, new Date().getTime());\\n            } else if (scrollPercent >= 75 && trackRecords.indexOf(\"75\") == -1) {\\n                trackRecords.push(\"75\");\\n                nxmTrack.nxmSendPageDepth(75, new Date().getTime());\\n            } else if (scrollPercent == 100 && trackRecords.indexOf(\"100\") == -1) {\\n                trackRecords.push(\"100\");\\n                nxmTrack.nxmSendPageDepth(100, new Date().getTime());\\n            }\\n        });\\n        function getPageScrollPercent() {\\n            var bottom = $(window).height() + $(window).scrollTop();\\n            var height = $(document).height();\\n            return Math.round(100 * bottom / height);\\n        }\\n    });\\n     \\n</script>\\n\\n<style>\\n    #door {position:relative; width:970px; margin-top:45px;}\\n    #door-left{position:absolute;right: 975px;}\\n    #door-right{position:absolute;left: 975px;}\\n    #ypv {float:right;margin:-81px 135px 0px 0px;}\\n    #ypv a {color:#055b94}\\n    .nypv {background: url(\\'http://twimg.edgesuite.net/appledaily/images/core/iconset.png\\') 0px -41px no-repeat;display: inline-block;color: #055b94;width:14px;height:12px;}\\n    #corpnav a {padding: 0 8px 0 8px;}\\n    a.mc {left:843px;}\\n    #corpgs a {top: 9px;}\\n    .nxlik .nh {left: 805px;top: 18px;}\\n    #corpgs .fund {background-image:url(\\'http://twimg.edgesuite.net/appledaily/images/core/foundation_top.png\\');width:65px;height:14px;margin-left:712px;margin-top:18px;}\\n    #worldwide {top: 26px;right: 0px;} \\n    .translate {    position: absolute;top: 10px;right: 270px;}\\n    .translate.twn {display:none}\\n</style>\\n<header id=\"globehead\">\\n    <div class=\"sqzer\">\\n        <hgroup>\\n          <h2 class=\"nlogo\"><a href=\"http://www.nextdigital.com.hk/investor/\" class=\"nextmedia overcooked\">This is a part of NextMedia</a></h2>\\n          <h1 class=\"rlogo\"><a href=\"/realtimenews\" class=\"overcooked\">\\u860b\\u679c\\u65e5\\u5831 | APPLE DAILY</a></h1>\\n          <!--locate start-->\\t\\t\\t\\n            <style>\\n            .locate {width: 122px;position:absolute;top: 10px;left: 455px;}\\n            .locate a {color:black;display:block;position:absolute;top:5px;left: 30px;font-size: 13px;z-index:1}\\n            .locate select {opacity:0;position:absolute;width: 90px;top:5px;left: 25px;z-index:1}\\n            .locate:after {content:url(http://twimg.edgesuite.net/appledaily/images/pclicon.png);width:115px;height:22px;position:absolute;top:0px;    border-left: 1px solid #d5d5d5;border-top: 1px solid #9b9b9b;border-bottom: 1px solid #e8e8e8;border-right: 1px solid #d5d5d5;}\\n            </style>\\n            <div class=\"locate\" id=\"USlocate\" style=\"display:none\">\\n            <a href=\"\">\\u5207\\u63db\\u5730\\u5340</a>\\n            <form>\\n                <select data-role=\"none\" id=\"select-category\" onchange=\"chgUSCat(this.value)\">\\n                    <option value=\"0\">\\u5207\\u63db\\u5730\\u5340</option>\\n                    <option value=\"ny\">\\u7d10\\u7d04</option>\\n                    <option value=\"la\">\\u6d1b\\u6749\\u78ef</option>\\n                    <option value=\"sf\">\\u820a\\u91d1\\u5c71</option>\\n                    <option value=\"us\">\\u5176\\u4ed6\\u7f8e\\u570b\\u5730\\u5340</option>\\n                </select>\\n            </form>\\n            </div>\\n         <!--locate end--> \\n        </hgroup>\\n        <nav id=\"corpnav\">         \\n          <a href=\"/\" class=\"opacity \" target=\"_blank\"><img src=\"http://twimg.edgesuite.net/appledaily/images/core/menu_AppleDaily.png\" alt=\" \\u860b\\u679c\\u65e5\\u5831\" /></a>\\t\\n          <a href=\"/actionnews\" class=\"opacity\" target=\"_blank\"><img src=\"http://twimg.edgesuite.net/appledaily/images/core/menu_AnimatedNews.png\" alt=\" \\u52d5\\u65b0\\u805e\" /></a>\\n          <a href=\"http://www.applelive.com.tw/livechannel/\" class=\"opacity\" target=\"_blank\"><img src=\"http://twimg.edgesuite.net/appledaily/images/core/applelive.gif\" alt=\" \\u860b\\u679cLive\" /></a>\\n          <a href=\"http://apple360.appledaily.com.tw/\" class=\"opacity\" target=\"_blank\"><img src=\"http://twimg.edgesuite.net/appledaily/images/core/360logo.png\" alt=\" \\u860b\\u679c360\" width=\"83\" height=\"30\"/></a>\\n          <a href=\"http://sharpdaily.tw/\" class=\"opacity\" target=\"_blank\"><img src=\"http://twimg.edgesuite.net/appledaily/images/core/menu_SharpDaily.png\" alt=\"\\u723d\\u5831\" /></a>\\n          <a href=\"http://www.nextmag.com.tw\" class=\"opacity\" target=\"_blank\"><img src=\"http://twimg.edgesuite.net/appledaily/images/core/menu_NextMag.png\" alt=\"\\u58f9\\u9031\\u520a\" /></a>\\n          <a href=\"http://www.eat-travel.com.tw/\" class=\"opacity\" target=\"_blank\"><img src=\"http://twimg.edgesuite.net/appledaily/images/core/menu_eatintravel.png\" alt=\"\\u98f2\\u98df\\u7537\\u5973\" /></a>\\n          <a href=\"http://www.tomonews.com/\" class=\"opacity\" target=\"_blank\"><img src=\"http://twimg.edgesuite.net/appledaily/images/core/menu_tomonews_s.png\" alt=\"Tomonews\"/></a>      \\n          <a href=\"https://www.youtube.com/user/twappledaily/\" class=\"opacity\" target=\"_blank\"><img src=\"http://twimg.edgesuite.net/appledaily/images/core/menu_youtube.png\" alt=\"youtube\" /></a>          \\n\\t  <a href=\"/teded\" class=\"opacity last\" target=\"_blank\"><img src=\"http://twimg.edgesuite.net/appledaily/images/core/ted.png\" alt=\"Ted\" /></a>\\n        </nav>      \\n \\n        <!--language start-->\\n        <div class=\"translate\" id=\"googletranslate\" style=\"display:none\">\\n            <div id=\"google_translate_element\"></div>\\n            <script type=\"text/javascript\">\\n            function googleTranslateElementInit() {\\n              new google.translate.TranslateElement({pageLanguage: \\'zh-TW\\', includedLanguages: \\'zh-CN,zh-TW\\', layout: google.translate.TranslateElement.InlineLayout.SIMPLE}, \\'google_translate_element\\');\\n            }\\n            </script>\\n            <script type=\"text/javascript\" src=\"//translate.google.com/translate_a/element.js?cb=googleTranslateElementInit\"></script>\\n        </div>\\n        <!--language end-->\\t  \\n                <section id=\"worldwide\">\\n            <a href=\"http://www.twnextdigital.com/\" class=\"tw on\">\\u53f0\\u7063&nbsp;</a>\\n            <a href=\"http://www.nextdigital.com.hk/\" class=\"hk\">\\u9999\\u6e2f&nbsp;</a>\\n        </section>\\n                <section id=\"ypv\">\\n            <a href=\"http://www.nextdigital.com.hk/investor/\" target=\"_blank\"><span class=\"nypv\"></span><span>\\u6628\\u65e5\\u700f\\u89bd\\u91cf&nbsp;:&nbsp;</span><span id=\"pv\">21688759</span></a>\\n        </section>\\n        <div style=\"clear:both\"></div>\\n        <section id=\"corpgs\">\\n            <a href=\"/ethics/index.html\" class=\"mc\" target=\"_blank\">\\u860b\\u679c\\u65e5\\u5831\\u81ea\\u5f8b\\u59d4\\u54e1\\u6703</a>\\n            <a class=\"fund\" href=\"/charity\" target=\"_blank\"></a>\\n            <a href=\"http://www.nextdigital.com.hk/investor/\" class=\"nxlik\" target=\"_blank\"><span class=\"nh overcooked\">Nextmedia</span></a>\\n        </section>\\n                    <section id=\"door\">\\n                <div id=\"door-left\"><script type=\\'text/javascript\\'>googletag.cmd.push(function() {googletag.display(\\'door-left\\');})</script></div>\\n                <div id=\"door-right\"><script type=\\'text/javascript\\'>googletag.cmd.push(function() {googletag.display(\\'door-right\\');})</script></div>\\n            </section>\\n            </div>\\n</header>\\n<style>\\n    .navlv2 {width: 80.8px;border-top:1px solid #797979;}\\n    .rsearch {width: 241.8px;border-right:0px;border-top:1px solid #797979;}\\n    #newnav .boomed a,#newnav .boom a:hover {background-color:#EC7F27;color: #FFFFFF;}\\n    #newnav .new a:hover,#newnav .newed a {background:#D50404}\\n    .rsbox {width:205px;}\\n    #newnav .usa a:hover,#newnav .usaed a {background-color: #ff0f0f;}\\n    #newnav .usacity a:hover,#newnav .usacityed a {background-color: #2113bf;}\\n    .usacity,.usacityed,.usa,.usaed {display:none}\\n    #newnav .show {display:block;}\\n    li.usacityed.show ~ li.usa.show ~ li.rsearch {width:79.8px}\\n    li.usacityed.show ~ li.usa.show ~ li.rsearch .rsbox {width:43px}\\n    li.usacity.show ~ li.usaed.show ~ li.rsearch {width:79.8px}\\n    li.usacity.show ~ li.usaed.show ~ li.rsearch .rsbox {width:43px}            \\n    li.usacity ~ li.usaed.show ~ li.rsearch {width:160.8px}\\n    li.usacity ~ li.usaed.show ~ li.rsearch .rsbox {width:124px}\\n    li.usacity ~ li.usa.show ~ li.rsearch {width:160.8px}\\n    li.usacity ~ li.usa.show ~ li.rsearch .rsbox {width:124px}\\n    li.usacity.show ~ li.usa.show ~ li.rsearch {width:79.8px}\\n    li.usacity.show ~ li.usa.show ~ li.rsearch .rsbox {width:43px} \\n    .rtddt time font font {margin-right: -20px;}\\n    .rtddt.sp_ad font font {margin-right: 0px;}\\n    .rtddt h2 font {margin-right: 0px;display: inline-block;padding-bottom: 1px;}      \\n    .rtddt h1 font {display: inline-block;margin-right:0px;}\\n</style>\\n<nav id=\"realnav\" >\\n    <div id=\"newnav\">\\n        <ul>\\n            <li id=\"ny\" class=\"usacity navlv2\"><a title=\"\\u7d10\\u7d04\" href=\"/realtimenews/section/ny/\">\\u7d10\\u7d04</a></li>\\n            <li id=\"sf\" class=\"usacity navlv2\"><a title=\"\\u820a\\u91d1\\u5c71\" href=\"/realtimenews/section/sf/\">\\u820a\\u91d1\\u5c71</a></li>\\n            <li id=\"la\" class=\"usacity navlv2\"><a title=\"\\u6d1b\\u6749\\u78ef\" href=\"/realtimenews/section/la/\">\\u6d1b\\u6749\\u78ef</a></li>\\n            <li id=\"us\" class=\"usa navlv2\"><a title=\"\\u7f8e\\u570b\" href=\"/realtimenews/section/us/\">\\u7f8e\\u570b</a></li>\\n            <li class=\"newed navlv2\"><a title=\"\\u6700\\u65b0\" href=\"/realtimenews/section/new/\">\\u6700\\u65b0</a></li>\\n            <li class=\"recommend navlv2\"><a title=\"\\u7126\\u9ede\" href=\"/realtimenews/section/recommend/\">\\u7126\\u9ede</a></li>\\n            <li class=\"hot navlv2\"><a title=\"\\u71b1\\u9580\" href=\"/realtimenews/section/hot/\">\\u71b1\\u9580</a></li>\\n            <li class=\"boom navlv2\"><a title=\"\\u7206\\u793e\" href=\"http://www.appledaily.com.tw/complainevent\" target=\"_blank\">\\u7206\\u793e</a></li>\\n            <li class=\"zoo navlv2\"><a title=\"\\u52d5\\u7269\" href=\"/realtimenews/section/animal/\">\\u52d5\\u7269</a></li>\\n            <li class=\"rsea navlv2\"><a title=\"\\u526f\\u520a\" href=\"/realtimenews/section/strange/\">\\u526f\\u520a</a></li>\\n            <li class=\"ccc navlv2\"><a title=\"3C\" href=\"/realtimenews/section/3c/\">3C</a></li>            \\n            <li class=\"video navlv2\"><a title=\"\\u5f71\\u7247\" href=\"/realtimenews/section/video/\">\\u5f71\\u7247</a></li>\\n            <li class=\"hotg navlv2\"><a title=\"\\u706b\\u7dda\" href=\"http://www.appledaily.com.tw/column/index\">\\u706b\\u7dda</a></li>\\n            <li class=\"sport navlv2\"><a title=\"\\u9ad4\\u80b2\" href=\"/realtimenews/section/sports/\">\\u9ad4\\u80b2</a></li>\\n            <li class=\"fun navlv2\"><a title=\"\\u58f9\\u9031\\u520a\" href=\"/realtimenews/section/nextmag/\">\\u58f9\\u9031\\u520a</a></li>\\n            <li class=\"forum navlv2\"><a title=\"\\u5a92\\u9663\" href=\"/realtimenews/forum/istyle/new/#collaboration\">\\u5a92\\u9663</a></li>\\n            <li class=\"enter navlv2\"><a title=\"\\u5a1b\\u6a02\" href=\"/realtimenews/section/entertainment/\">\\u5a1b\\u6a02</a></li>            \\n            <li class=\"fashion navlv2\"><a title=\"\\u6642\\u5c1a\" href=\"/realtimenews/section/fashion/\">\\u6642\\u5c1a</a></li>\\n            <li class=\"life navlv2\"><a title=\"\\u751f\\u6d3b\" href=\"/realtimenews/section/life/\">\\u751f\\u6d3b</a></li>\\n            <li class=\"soci navlv2\"><a title=\"\\u793e\\u6703\" href=\"/realtimenews/section/local/\">\\u793e\\u6703</a></li>\\n            <li class=\"inter navlv2\"><a title=\"\\u570b\\u969b\" href=\"/realtimenews/section/international/\">\\u570b\\u969b</a></li>\\n            <li class=\"business navlv2\"><a title=\"\\u8ca1\\u7d93\" href=\"/realtimenews/section/finance/\">\\u8ca1\\u7d93</a></li>\\n            <li class=\"house navlv2\"><a title=\"\\u5730\\u7522\" href=\"/realtimenews/section/property/\">\\u5730\\u7522</a></li>\\n            <li class=\"polit navlv2\"><a title=\"\\u653f\\u6cbb\" href=\"/realtimenews/section/politics/\">\\u653f\\u6cbb</a></li>\\n            <li class=\"blog navlv2\"><a title=\"\\u8ad6\\u58c7\" href=\"/realtimenews/section/forum/\">\\u8ad6\\u58c7</a></li>            \\n            <li class=\"rsearch\">\\n                <form name=\"searchform\" id=\"searchform\" action=\"http://search.appledaily.com.tw/appledaily/search\" method=\"POST\">\\n                  <input type=\"hidden\" name=\"searchType\" value=\"text\">\\n                  <input type=\"hidden\" name=\"searchMode\" value=\"Sim\">\\n                  <input type=\"text\" name=\"querystrS\" id=\"search\" class=\"rsbox\" />\\n                  <input type=\"submit\" value=\"\" class=\"rsbtn\" />\\n                </form>\\n            </li>\\n            <div style=\"clear:both\"></div>\\n        </ul>\\n    </div>\\n</nav>\\n<script>\\n    if (GeoDFP[\\'CC\\'] == \\'US\\') {\\n        switch(GeoDFP[\\'D\\']) {\\n            case \\'803\\' :\\n                $(\\'#la\\').addClass(\"show\");\\n                break;\\n            case \\'807\\' :\\n                $(\\'#sf\\').addClass(\"show\");\\n                break;\\n            case \\'501\\' :\\n                $(\\'#ny\\').addClass(\"show\");\\n                break;\\n        }\\n        $(\\'#us\\').addClass(\"show\");\\n        $(\\'#USlocate\\').show();  \\n        $(\\'#googletranslate\\').show();    \\n    }\\n    function chgUSCat(strzone){    \\n          if (strzone!=\\'0\\') {\\n              var GeoUSDFP = {};\\n              GeoJson = JSON.parse($.cookie(\\'GeoDFP\\'));\\n              if(GeoJson){\\n                GeoUSDFP[\\'CC\\'] = GeoJson[\\'DFP\\'][\\'CC\\'];\\n                GeoUSDFP[\\'S\\'] = GeoJson[\\'DFP\\'][\\'S\\'];                           \\n                switch(strzone) {\\n                    case \\'la\\' :\\n                        GeoUSDFP[\\'D\\'] = \\'803\\';\\n                        break;\\n                    case \\'sf\\' :\\n                        GeoUSDFP[\\'D\\'] = \\'807\\';\\n                        break;\\n                    case \\'ny\\' :    \\n                        GeoUSDFP[\\'D\\'] = \\'501\\';\\n                        break;\\n                }                         \\n\\n                $.cookie(\\'GeoDFP\\', JSON.stringify({\"DFP\":GeoUSDFP}),{expires: 7, path: \\'/\\' });\\t\\t\\t\\t\\t\\t\\t                                \\n                location.href = \"/realtimenews/section/\"+strzone;\\n              }\\n          }                                       \\n    }\\n</script>            \\n            <div class=\"soil\">\\n              <section id=\"leaderboard\" class=\"ads\"><script type=\\'text/javascript\\'>googletag.cmd.push(function() {googletag.display(\\'leaderboard\\');})</script></section>\\n              <article id=\"maincontent\" class=\"vertebrae\">\\n                  <style>#hotnewsbox{ background:url(\"http://twimg.edgesuite.net/appledaily/images/yellow_news.gif\") no-repeat; height:36px; padding:14px 0 0 134px}</style>                    <script type=\"text/javascript\" src=\"http://twimg.edgesuite.net/appledaily/images/js/jquery.textslider.min.js\"></script>\\n                    <style>\\n                        .slideText { position: relative; overflow: hidden; height: 32px; }\\n                        .slideText ul, .slideText li {margin: 0;padding: 0;list-style: none;}\\n                        .slideText ul {position: absolute;}\\n                        .slideText li a {font-size:20px;color:#000000;display: block;overflow: hidden;height: 30px;line-height: 25px;text-decoration: none;}\\n                        .slideText li a:hover {text-decoration: underline;}\\n                        #hotnewsbox2 {background: url(\"http://twimg.edgesuite.net/appledaily/images/red_recommend.gif\") no-repeat;height: 36px;padding: 14px 0 0 195px;}\\n                    </style>\\n                    <script type=\"text/javascript\">\\n                      $(document).ready(function(){\\n                          $(\\'.slideText\\').textslider({\\n                              direction : \\'scrollUp\\',\\n                              scrollNum : 1,\\n                              scrollSpeed : 800,\\n                              pause : 3200\\n                          });\\n                      });\\n                    </script>\\n                    <div id=\"hotnewsbox\">\\n                        <div class=\"slideText\">\\n                            <ul>\\n                                <li><a href=\"/realtimenews/article/politics/20160826/936242/\" #>\\u53f8\\u6cd5\\u9662\\u6b63\\u526f\\u9662\\u9577\\u5b9a\\u6848\\u3000\\u8521\\u82f1\\u6587\\u6c7a\\u5b9a\\u63d0\\u540d\\u8a31\\u5b97\\u529b\\u3001\\u8521\\u70f1\\u71c9</a></li>                            </ul>\\n                        </div>\\n                    </div>\\n                  \\n                  <div class=\"thoracis\">\\n                    <style>\\n                          /* firewire */\\n                          .firewire-container {width: 650px; height: 100px; overflow: hidden; margin-bottom: 10px;}\\n                          #firewire .item {width: 650px;  height: 100px;  background: #dddddd url(http://twimg.edgesuite.net/appledaily/images/js/owlcarousel/ajax-loader.gif) center center no-repeat;}\\n                          #firewire .item a {width: 100%; height: 100%;  display: block;}\\n                          #firewire .item img {display: block; border: none;}\\n                          /* override */\\n                          #splash { margin-bottom: 10px;}\\n                        .hotkeynews {background-color:#e0e0e0}\\n                        .hotkeynews time {color:#ff534f}\\n                        .hotkeynews li {background-color:white;margin-bottom:2px;}\\n                        .topheaddr {background:#cc0000;height:40px;position:relative;margin-top:-15px}\\n                        .topheadrr {width:134px;height:40px;background:#ff1a14;float:left;}\\n                        .topheadrr h1 {display:block;font-size:16px;color:white;padding:12px 0px 0px 19px;}\\n                        .topheaddr time {float:right;color:white;padding:13px 19px 0px 0px;}\\n                        .botlinerr {background:#cc0000;height:5px}\\n                        .botlinedr {width:134px;height:5px;background:#ff1a14}\\n                        .dddd {margin: 0.65em 0 0.65em;}\\n                    </style>\\n                    <section id=\"splash\">\\n                        <div id=\"carousel\">\\n                                                            <div class=\"item\">\\n                                    <a href=\"/realtimenews/article/life/20160826/936194\" target=\"_blank\">\\n                                      <img  class=\"owl-lazy\" src=\"data:image/gif;base64,R0lGODlhAQABAIAAAAAAAP///yH5BAEAAAAALAAAAAABAAEAAAIBRAA7\" data-src=\"http://twimg.edgesuite.net/images/thumbnail/other/4b9596c155c303698af9cec9dd91c8b0.jpg\" alt=\"\\u5165\\u79cb\\u9996\\u6ce2\\u51b7\\u7a7a\\u6c23\\u5f8c\\u5929\\u5230\\u3000\\u6c23\\u8c61\\u9054\\u4eba\\uff1a\\u6709\\u9ede\\u65e9\" tcode=\"\\u5165\\u79cb\\u9996\\u6ce2\\u51b7\\u7a7a\\u6c23\\u5f8c\\u5929\\u5230\\u3000\\u6c23\\u8c61\\u9054\\u4eba\\uff1a\\u6709\\u9ede\\u65e9\"/>\\n                                                                          </a>\\n                                </div>\\n                                                            <div class=\"item\">\\n                                    <a href=\"/realtimenews/article/sports/20160826/936132/\" target=\"_blank\">\\n                                      <img  class=\"owl-lazy\" src=\"data:image/gif;base64,R0lGODlhAQABAIAAAAAAAP///yH5BAEAAAAALAAAAAABAAEAAAIBRAA7\" data-src=\"http://twimg.edgesuite.net/images/thumbnail/other/a5ff83e5af928118a538cb2a3af6bb44.jpg\" alt=\"\\u8b1d\\u3001\\u838a\\u914d\\u7d10\\u54c8\\u82ac\\u5c0d\\u6c7a\\u3000\\u838a\\u4f73\\u5bb9\\u4e09\\u76e4\\u52dd\\u8b49\\u660e\\u81ea\\u5df1\" tcode=\"\\u8b1d\\u3001\\u838a\\u914d\\u7d10\\u54c8\\u82ac\\u5c0d\\u6c7a\\u3000\\u838a\\u4f73\\u5bb9\\u4e09\\u76e4\\u52dd\\u8b49\\u660e\\u81ea\\u5df1\"/>\\n                                                                          </a>\\n                                </div>\\n                                                            <div class=\"item\">\\n                                    <a href=\"/realtimenews/article/sports/20160826/936189/\" target=\"_blank\">\\n                                      <img  class=\"owl-lazy\" src=\"data:image/gif;base64,R0lGODlhAQABAIAAAAAAAP///yH5BAEAAAAALAAAAAABAAEAAAIBRAA7\" data-src=\"http://twimg.edgesuite.net/images/thumbnail/other/ff4e8b67e0c098697ee6cd5fed023818.jpg\" alt=\"\" tcode=\"\"/>\\n                                                                          </a>\\n                                </div>\\n                                                            <div class=\"item\">\\n                                    <a href=\"/realtimenews/article/local/20160826/936171/\" target=\"_blank\">\\n                                      <img  class=\"owl-lazy\" src=\"data:image/gif;base64,R0lGODlhAQABAIAAAAAAAP///yH5BAEAAAAALAAAAAABAAEAAAIBRAA7\" data-src=\"http://twimg.edgesuite.net/images/thumbnail/other/cfc17c21ce76f72796aab4720938637d.jpg\" alt=\"\\u6a5f\\u8eca\\u64e6\\u649e\\u5927\\u578b\\u540a\\u8eca\\u3000\\u9a0e\\u58eb\\u906d\\u8f3e\\u7206\\u982d\\u55aa\\u547d\" tcode=\"\\u6a5f\\u8eca\\u64e6\\u649e\\u5927\\u578b\\u540a\\u8eca\\u3000\\u9a0e\\u58eb\\u906d\\u8f3e\\u7206\\u982d\\u55aa\\u547d\"/>\\n                                                                          </a>\\n                                </div>\\n                                                            <div class=\"item\">\\n                                    <a href=\"/realtimenews/article/local/20160826/936152\" target=\"_blank\">\\n                                      <img  class=\"owl-lazy\" src=\"data:image/gif;base64,R0lGODlhAQABAIAAAAAAAP///yH5BAEAAAAALAAAAAABAAEAAAIBRAA7\" data-src=\"http://twimg.edgesuite.net/images/thumbnail/other/5cb30e08c2f1691cf8d91041b9328e6c.jpg\" alt=\"\" tcode=\"\"/>\\n                                                                          </a>\\n                                </div>\\n                                                            <div class=\"item\">\\n                                    <a href=\"/realtimenews/article/strange/20160826/935983\" target=\"_blank\">\\n                                      <img  class=\"owl-lazy\" src=\"data:image/gif;base64,R0lGODlhAQABAIAAAAAAAP///yH5BAEAAAAALAAAAAABAAEAAAIBRAA7\" data-src=\"http://twimg.edgesuite.net/images/thumbnail/other/2f309e9a6b34e8c31aad094762eb715a.jpg\" alt=\"\\u300a\\u6211\\u611b\\u7d05\\u5a18\\u300b\\u914d\\u5c0d\\u4f73\\u5076\\u300030\\u5e74\\u5f8c\\u8b8a\\u9019\\u6a23\" tcode=\"\\u300a\\u6211\\u611b\\u7d05\\u5a18\\u300b\\u914d\\u5c0d\\u4f73\\u5076\\u300030\\u5e74\\u5f8c\\u8b8a\\u9019\\u6a23\"/>\\n                                                                          </a>\\n                                </div>\\n                                                            <div class=\"item\">\\n                                    <a href=\"/realtimenews/article/life/20160826/936082\" target=\"_blank\">\\n                                      <img  class=\"owl-lazy\" src=\"data:image/gif;base64,R0lGODlhAQABAIAAAAAAAP///yH5BAEAAAAALAAAAAABAAEAAAIBRAA7\" data-src=\"http://twimg.edgesuite.net/images/thumbnail/other/fbd4a4bae577b724f89c557d61534382.jpg\" alt=\"\" tcode=\"\"/>\\n                                                                          </a>\\n                                </div>\\n                                                            <div class=\"item\">\\n                                    <a href=\"/realtimenews/article/life/20160826/936148/\" target=\"_blank\">\\n                                      <img  class=\"owl-lazy\" src=\"data:image/gif;base64,R0lGODlhAQABAIAAAAAAAP///yH5BAEAAAAALAAAAAABAAEAAAIBRAA7\" data-src=\"http://twimg.edgesuite.net/images/thumbnail/other/623e82454d77d831674d8b13dc41f44a.jpg\" alt=\"\" tcode=\"\"/>\\n                                                                          </a>\\n                                </div>\\n                                                            <div class=\"item\">\\n                                    <a href=\"/realtimenews/article/local/20160826/935988\" target=\"_blank\">\\n                                      <img  class=\"owl-lazy\" src=\"data:image/gif;base64,R0lGODlhAQABAIAAAAAAAP///yH5BAEAAAAALAAAAAABAAEAAAIBRAA7\" data-src=\"http://twimg.edgesuite.net/images/thumbnail/other/11ca82d62a120d3c472dc82ef4daef29.jpg\" alt=\"\\u8ffd\\u4e0d\\u5230\\u4eba\\u59bb\\u7adf\\u704c\\u9189\\u6027\\u4fb5\\u3000\\u6e23\\u7537\\u7adf\\u8faf\\u4f60\\u60c5\\u6211\\u9858\" tcode=\"\\u8ffd\\u4e0d\\u5230\\u4eba\\u59bb\\u7adf\\u704c\\u9189\\u6027\\u4fb5\\u3000\\u6e23\\u7537\\u7adf\\u8faf\\u4f60\\u60c5\\u6211\\u9858\"/>\\n                                                                          </a>\\n                                </div>\\n                                                            <div class=\"item\">\\n                                    <a href=\"/realtimenews/article/strange/20160826/935884\" target=\"_blank\">\\n                                      <img  class=\"owl-lazy\" src=\"data:image/gif;base64,R0lGODlhAQABAIAAAAAAAP///yH5BAEAAAAALAAAAAABAAEAAAIBRAA7\" data-src=\"http://twimg.edgesuite.net/images/thumbnail/other/faf242b82c2739817bf9270fc84f25f3.jpg\" alt=\"\\u4e0d\\u6015\\u88ab\\u4eba\\u7b11\\u3000\\u633d\\u81c9\\u754c\\u5c0f\\u751f\\u64fa\\u812b22K\" tcode=\"\\u4e0d\\u6015\\u88ab\\u4eba\\u7b11\\u3000\\u633d\\u81c9\\u754c\\u5c0f\\u751f\\u64fa\\u812b22K\"/>\\n                                                                          </a>\\n                                </div>\\n                                                            <div class=\"item\">\\n                                    <a href=\"/realtimenews/article/entertainment/20160826/935968\" target=\"_blank\">\\n                                      <img  class=\"owl-lazy\" src=\"data:image/gif;base64,R0lGODlhAQABAIAAAAAAAP///yH5BAEAAAAALAAAAAABAAEAAAIBRAA7\" data-src=\"http://twimg.edgesuite.net/images/thumbnail/other/d41ae33b21e73e1f4e7b1234232819cf.jpg\" alt=\"\\u3010\\u52d5\\u756b\\u91cd\\u5efa\\u3011Fanny\\u5f37\\u570b\\u958b\\u623f\\u3000\\u88ab\\u505a\\u4e86\\u4ec0\\u9ebc\\uff1f\" tcode=\"\\u3010\\u52d5\\u756b\\u91cd\\u5efa\\u3011Fanny\\u5f37\\u570b\\u958b\\u623f\\u3000\\u88ab\\u505a\\u4e86\\u4ec0\\u9ebc\\uff1f\"/>\\n                                                                          </a>\\n                                </div>\\n                                                            <div class=\"item\">\\n                                    <a href=\"/realtimenews/article/strange/20160826/935877\" target=\"_blank\">\\n                                      <img  class=\"owl-lazy\" src=\"data:image/gif;base64,R0lGODlhAQABAIAAAAAAAP///yH5BAEAAAAALAAAAAABAAEAAAIBRAA7\" data-src=\"http://twimg.edgesuite.net/images/thumbnail/other/09aa8f7c3897dab39dbaea5ec3d6c1bf.jpg\" alt=\"\\u3010\\u52d5\\u756b\\u5fc3\\u7406\\u5b78\\u3011\\u96e3\\u602a\\u5206\\u624b\\uff01\\u56e0\\u70ba\\u4f60\\u5011\\u5006\\u5750\\u932f\\u4f4d\\u5b50\" tcode=\"\\u3010\\u52d5\\u756b\\u5fc3\\u7406\\u5b78\\u3011\\u96e3\\u602a\\u5206\\u624b\\uff01\\u56e0\\u70ba\\u4f60\\u5011\\u5006\\u5750\\u932f\\u4f4d\\u5b50\"/>\\n                                                                          </a>\\n                                </div>\\n                                                            <div class=\"item\">\\n                                    <a href=\"/realtimenews/article/finance/20160826/936041\" target=\"_blank\">\\n                                      <img  class=\"owl-lazy\" src=\"data:image/gif;base64,R0lGODlhAQABAIAAAAAAAP///yH5BAEAAAAALAAAAAABAAEAAAIBRAA7\" data-src=\"http://twimg.edgesuite.net/images/thumbnail/other/63f23dc824f68aa993b0417b8dccfe4b.jpg\" alt=\"\\u3010\\u540d\\u5bb6\\u89c0\\u9ede\\u3011\\u4e09\\u7acb\\u7d55\\u975e\\u6700\\u5f8c1\\u5bb6\\u3000\\u300c\\u50b3\\u7d71\\u5a92\\u9ad4\\u5c07\\u8840\\u6d41\\u6210\\u6cb3\\u300d\" tcode=\"\\u3010\\u540d\\u5bb6\\u89c0\\u9ede\\u3011\\u4e09\\u7acb\\u7d55\\u975e\\u6700\\u5f8c1\\u5bb6\\u3000\\u300c\\u50b3\\u7d71\\u5a92\\u9ad4\\u5c07\\u8840\\u6d41\\u6210\\u6cb3\\u300d\"/>\\n                                                                          </a>\\n                                </div>\\n                                                            <div class=\"item\">\\n                                    <a href=\"/realtimenews/article/life/20160826/935859\" target=\"_blank\">\\n                                      <img  class=\"owl-lazy\" src=\"data:image/gif;base64,R0lGODlhAQABAIAAAAAAAP///yH5BAEAAAAALAAAAAABAAEAAAIBRAA7\" data-src=\"http://twimg.edgesuite.net/images/thumbnail/other/b45330a8e1587562c61339b29f9c2051.gif\" alt=\"\\u3010\\u5716\\u89e3\\u65b0\\u805e\\u3011\\u5967\\u904b\\u843d\\u5e55\\u30001\\u5206\\u9418\\u641e\\u61c2\\u7981\\u85e5\\u4e4b\\u5bc6\" tcode=\"\\u3010\\u5716\\u89e3\\u65b0\\u805e\\u3011\\u5967\\u904b\\u843d\\u5e55\\u30001\\u5206\\u9418\\u641e\\u61c2\\u7981\\u85e5\\u4e4b\\u5bc6\"/>\\n                                                                          </a>\\n                                </div>\\n                                                    </div>\\n                        <div class=\"xPrev\">\\u4e0a\\u4e00\\u5247</div>\\n                        <div class=\"xNext\">\\u4e0b\\u4e00\\u5247</div>\\n                    </section>\\n                    <!--\\u5341\\u6708\\u570d\\u57ce-->                    \\n                    <script type=\"text/javascript\" src=\"http://twimg.edgesuite.net/property/js/jquery.carouFredSel-6.2.1.js\"></script>\\n<style>\\n#october {width:650px;height:200px;overflow:hidden;}\\n#october .slidebox {width:650px;height:200px;}\\n#october .slidebox .pics {float:left;width:650px;height:183px;overflow:hidden;margin:10px 2px 10px 2px;}\\n#october .slidebox .pics img {max-width:650px;height:auto;}\\n</style>\\n      <div style=\"width:100%;margin-top:-10px;\"></div>\\n      <div id=\"october\">          \\n                    \\n      </div>\\t\\t\\t\\n<script type=\"text/javascript\">\\n$(document).ready(function() {\\n    $(\\'#october\\').carouFredSel({\\n        items: 1,\\n        direction: \"up\",\\n                infinite: true,\\n                circular: true,\\n        scroll: {\\n                    items: 1,\\n                    duration: 1250,\\n                    timeoutDuration: 2500,\\n                    easing: \\'swing\\',\\n                    pauseOnHover: \\'immediate\\'   \\n                },\\n    });\\n});\\n</script>\\t\\t    \\n                    <!--\\u5341\\u6708\\u570d\\u57ce-->                    \\n                    <style>\\n                        .realword {padding-top:5px;padding-bottom:30px;}\\n                        .realword .link1 a {color:red;font-size:22px;font-weight:bold;}\\n                        .realword .link1 {float:left;width:320px;text-align:center;}\\n                        .rtddd .sp_ad {padding: 0.625em 20px;}\\n                        .rtddd .sp_ad time {display: inline;font-size: 1em;margin-right: 20px;vertical-align: middle;}\\n                        .rtddd .sp_ad h2 {background-color:#049000;display: inline;font-size: 1em;margin-right: 20px;vertical-align: middle;}\\n                        .rtddd .sp_ad h1 {display: inline;}\\n                        .rtddd .sp_ad h1 a {display: inline;font-size:16px;color:black;padding-left: 0px;}\\n                        .rtddd .ccc h2 {background-color: #318597; padding:2px 14px;}\\n                    </style>\\t\\t\\t\\t\\t\\n                    <script type=\\'text/javascript\\'>googletag.cmd.push(function() {googletag.display(\\'minibar\\');})</script>\\n                    <div class=\"abdominis rlby clearmen\">                       \\n                        <h1 class=\"dddd\"><time>2016 / 08 / 26</time></h1><ul class=\"rtddd slvl\">                                <li class=\"rtddt polit\">\\n                                    <a href=\"/realtimenews/article/politics/20160826/936259/\\u200b500\\u4eba\\u4ee5\\u4e0a\\u4f01\\u696d\\u61c9\\u8058\\u9ad4\\u80b2\\u4eba\\u54e1\\u3000\\u4e2d\\u6cb9\\u53f0\\u7cd6\\u639b\\u96f6\" target=\"_blank\">\\n                                        <time>11:23</time>\\n                                        <h2>\\u653f\\u6cbb</h2>\\n                                        <h1><font color=\"#383c40\">\\u200b500\\u4eba\\u4ee5\\u4e0a\\u4f01\\u696d\\u61c9\\u8058\\u9ad4\\u80b2\\u4eba\\u54e1\\u3000\\u4e2d\\u6cb9\\u53f0\\u7cd6...(0)</font></h1>\\n                                    </a>\\n                                </li>\\n                                                        <li class=\"rtddt life even hsv\">\\n                                    <a href=\"/realtimenews/article/life/20160826/936193/\\u3010\\u4f60\\u7206\\u860b\\u679c\\u5831\\u3011\\u9999\\u5409\\u58eb\\u662f\\u4f60\\uff1f\\uff01\\u3000\\u53fc\\u83f8\\u6599\\u7406\\u70e4\\u9d28\\u9084\\u52a0\\u6599\" target=\"_blank\">\\n                                        <time>11:21</time>\\n                                        <h2>\\u751f\\u6d3b</h2>\\n                                        <h1><font color=\"#383c40\">\\u3010\\u4f60\\u7206\\u860b\\u679c\\u5831\\u3011\\u9999\\u5409\\u58eb\\u662f\\u4f60\\uff1f\\uff01\\u3000\\u53fc\\u83f8\\u6599\\u7406\\u70e4...(0)</font></h1>\\n                                    </a>\\n                                </li>\\n                                                        <li class=\"rtddt local\">\\n                                    <a href=\"/realtimenews/article/local/20160826/936254/\\u9152\\u99d5\\u4e1f\\u91d1\\u934a\\u55c6\\u8b66\\u3000\\u5047\\u9738\\u54e5\\u4e00\\u79d2\\u8b8a\\u7238\\u5bf6\" target=\"_blank\">\\n                                        <time>11:21</time>\\n                                        <h2>\\u793e\\u6703</h2>\\n                                        <h1><font color=\"#383c40\">\\u9152\\u99d5\\u4e1f\\u91d1\\u934a\\u55c6\\u8b66\\u3000\\u5047\\u9738\\u54e5\\u4e00\\u79d2\\u8b8a\\u7238\\u5bf6(0)</font></h1>\\n                                    </a>\\n                                </li>\\n                                                        <li class=\"rtddt sp_ad  even\">                                    \\n                                    <time>11:21</time>\\n                                    <h2>\\u7279\\u4f01</h2>\\t\\t\\t\\t\\t\\t\\t\\t\\t\\t\\n                                    <h1>\\n                                        <a href=\"http://www.appledaily.com.tw/realtimenews/article/life/20160826/935880/\" target=\"_blank\">\\n                                            <font color=\"#383c40\">\\u3010\\u7279\\u4f01\\u3011\\u97d3\\u570b\\u6b50\\u7238\\u6709\\u6487\\u6b65!? \\u6559\\u4f60\\u5982\\u4f55\\u7576\\u500b (1489)</span></font>\\n                                        </a>\\t\\n                                    </h1>                                    \\n                                </li>                                \\n                                                        <li class=\"rtddt local\">\\n                                    <a href=\"/realtimenews/article/local/20160826/936255/\\u9023\\u9019\\u6b3e\\u7c73\\u5440\\u4e5f\\u8981\\u5077\\u3000\\u72e1\\u8faf\\u8f09\\u932f\\u6771\\u897f\\u64fa\\u932f\\u4f4d\" target=\"_blank\">\\n                                        <time>11:21</time>\\n                                        <h2>\\u793e\\u6703</h2>\\n                                        <h1><font color=\"#383c40\">\\u9023\\u9019\\u6b3e\\u7c73\\u5440\\u4e5f\\u8981\\u5077\\u3000\\u72e1\\u8faf\\u8f09\\u932f\\u6771\\u897f\\u64fa\\u932f\\u4f4d(0)</font></h1>\\n                                    </a>\\n                                </li>\\n                                                        <li class=\"rtddt polit even\">\\n                                    <a href=\"/realtimenews/article/politics/20160826/936257/\\u82f1\\u5168\\u4e0d\\u6eff\\u610f\\u5ea6\\u78345\\u6210\\u3000\\u671d\\u91ce\\u7acb\\u59d4\\u547c\\u7c72\\u8abf\\u6574\\u95a3\\u54e1\" target=\"_blank\">\\n                                        <time>11:21</time>\\n                                        <h2>\\u653f\\u6cbb</h2>\\n                                        <h1><font color=\"#383c40\">\\u82f1\\u5168\\u4e0d\\u6eff\\u610f\\u5ea6\\u78345\\u6210\\u3000\\u671d\\u91ce\\u7acb\\u59d4\\u547c\\u7c72\\u8abf\\u6574\\u95a3\\u54e1(0)</font></h1>\\n                                    </a>\\n                                </li>\\n                                                        <li class=\"rtddt local hsv\">\\n                                    <a href=\"/realtimenews/article/local/20160826/936260/\\u8f4e\\u8eca\\u5931\\u63a7\\u649e\\u98db\\u5c0d\\u5411\\u6a5f\\u8eca\\u3000\\u9a0e\\u58eb\\u6454\\u6eaa\\u5e95\\u7372\\u6551\" target=\"_blank\">\\n                                        <time>11:21</time>\\n                                        <h2>\\u793e\\u6703</h2>\\n                                        <h1><font color=\"#383c40\">\\u8f4e\\u8eca\\u5931\\u63a7\\u649e\\u98db\\u5c0d\\u5411\\u6a5f\\u8eca\\u3000\\u9a0e\\u58eb\\u6454\\u6eaa\\u5e95\\u7372\\u6551(274)</font></h1>\\n                                    </a>\\n                                </li>\\n                                                        <li class=\"rtddt enter even\">\\n                                    <a href=\"/realtimenews/article/entertainment/20160826/936181/\\u5f37\\u54e5\\u5206\\u624b\\u8cbb\\u7d66\\u5f97\\u4e0d\\u4e7e\\u8106\\u3000\\u5ae9\\u59bb\\u8981\\u4ed6\\u52a0\\u500d\\u511f\\u9084\" target=\"_blank\">\\n                                        <time>11:20</time>\\n                                        <h2>\\u5a1b\\u6a02</h2>\\n                                        <h1><font color=\"#383c40\">\\u5f37\\u54e5\\u5206\\u624b\\u8cbb\\u7d66\\u5f97\\u4e0d\\u4e7e\\u8106\\u3000\\u5ae9\\u59bb\\u8981\\u4ed6\\u52a0\\u500d\\u511f\\u9084(0)</font></h1>\\n                                    </a>\\n                                </li>\\n                                                        <li class=\"rtddt life\">\\n                                    <a href=\"/realtimenews/article/life/20160826/936269/\\u5927\\u5275\\u71b1\\u8ce3\\u7684\\u9019\\u5546\\u54c1\\u8001\\u7f3a\\u8ca8\\uff1f\\u539f\\u4f86\\u662f\\u9019\\u500b\\u539f\\u56e0\" target=\"_blank\">\\n                                        <time>11:20</time>\\n                                        <h2>\\u751f\\u6d3b</h2>\\n                                        <h1><font color=\"#ff0000\">\\u5927\\u5275\\u71b1\\u8ce3\\u7684\\u9019\\u5546\\u54c1\\u8001\\u7f3a\\u8ca8\\uff1f\\u539f\\u4f86\\u662f\\u9019\\u500b\\u539f\\u56e0(0)</font></h1>\\n                                    </a>\\n                                </li>\\n                                                        <li class=\"rtddt polit even\">\\n                                    <a href=\"/realtimenews/article/politics/20160826/936267/\\u53f0\\u7063\\u667a\\u5eab\\u516c\\u5e03\\u8521\\u653f\\u5e9c\\u767e\\u65e5\\u6c11\\u8abf\\u3000\\u6eff\\u610f\\u5ea6\\u8dcc\\u7834\\u4e94\\u6210\" target=\"_blank\">\\n                                        <time>11:19</time>\\n                                        <h2>\\u653f\\u6cbb</h2>\\n                                        <h1><font color=\"#383c40\">\\u53f0\\u7063\\u667a\\u5eab\\u516c\\u5e03\\u8521\\u653f\\u5e9c\\u767e\\u65e5\\u6c11\\u8abf\\u3000\\u6eff\\u610f\\u5ea6\\u8dcc\\u7834\\u4e94...(0)</font></h1>\\n                                    </a>\\n                                </li>\\n                                                        <li class=\"rtddt life\">\\n                                    <a href=\"/realtimenews/article/life/20160826/936270/\\u200b\\u8b77\\u7406\\u5e2b\\u5de5\\u6642\\u9577\\u3000\\u7f8e\\u5973\\u628a\\u5236\\u670d\\u812b\\u4e86\\u8f49\\u884c\" target=\"_blank\">\\n                                        <time>11:17</time>\\n                                        <h2>\\u751f\\u6d3b</h2>\\n                                        <h1><font color=\"#ff0000\">\\u200b\\u8b77\\u7406\\u5e2b\\u5de5\\u6642\\u9577\\u3000\\u7f8e\\u5973\\u628a\\u5236\\u670d\\u812b\\u4e86\\u8f49\\u884c(0)</font></h1>\\n                                    </a>\\n                                </li>\\n                                                        <li class=\"rtddt polit even\">\\n                                    <a href=\"/realtimenews/article/politics/20160826/936242/\\u53f8\\u6cd5\\u9662\\u6b63\\u526f\\u9662\\u9577\\u5b9a\\u6848\\u3000\\u8521\\u82f1\\u6587\\u6c7a\\u5b9a\\u63d0\\u540d\\u8a31\\u5b97\\u529b\\u3001\\u8521\\u70f1\\u71c9\" target=\"_blank\">\\n                                        <time>11:16</time>\\n                                        <h2>\\u653f\\u6cbb</h2>\\n                                        <h1><font color=\"#ff0000\">\\u53f8\\u6cd5\\u9662\\u6b63\\u526f\\u9662\\u9577\\u5b9a\\u6848\\u3000\\u8521\\u82f1\\u6587\\u6c7a\\u5b9a\\u63d0\\u540d\\u8a31\\u5b97\\u529b...(1226)</font></h1>\\n                                    </a>\\n                                </li>\\n                                                        <li class=\"rtddt sport\">\\n                                    <a href=\"/realtimenews/article/sports/20160826/936266/KD\\u53db\\u9003\\u592a\\u96e3\\u904e\\u3000\\u300c\\u675c\\u862d\\u7279\\u300d\\u5e02\\u9762\\u81e8\\u6539\\u540d\\u547d\\u904b\" target=\"_blank\">\\n                                        <time>11:15</time>\\n                                        <h2>\\u9ad4\\u80b2</h2>\\n                                        <h1><font color=\"#383c40\">KD\\u53db\\u9003\\u592a\\u96e3\\u904e\\u3000\\u300c\\u675c\\u862d\\u7279\\u300d\\u5e02\\u9762\\u81e8\\u6539\\u540d\\u547d\\u904b(39)</font></h1>\\n                                    </a>\\n                                </li>\\n                                                        <li class=\"rtddt busi even\">\\n                                    <a href=\"/realtimenews/article/finance/20160826/936264/\\u53f0\\u80a1\\u76e4\\u4e2d\\uff5e\\u975c\\u5f85\\u8449\\u502b\\u6f14\\u8aaa\\u3000\\u9707\\u76ea\\u76e4\\u5805\" target=\"_blank\">\\n                                        <time>11:12</time>\\n                                        <h2>\\u8ca1\\u7d93</h2>\\n                                        <h1><font color=\"#383c40\">\\u53f0\\u80a1\\u76e4\\u4e2d\\uff5e\\u975c\\u5f85\\u8449\\u502b\\u6f14\\u8aaa\\u3000\\u9707\\u76ea\\u76e4\\u5805(113)</font></h1>\\n                                    </a>\\n                                </li>\\n                                                        <li class=\"rtddt inter\">\\n                                    <a href=\"/realtimenews/article/international/20160826/936250/\\u3010\\u592e\\u5ee3RTI\\u3011Uber\\u4e0a\\u534a\\u5e74\\u8667\\u640d\\u81f3\\u5c1112.7\\u5104\\u7f8e\\u5143\" target=\"_blank\">\\n                                        <time>11:10</time>\\n                                        <h2>\\u570b\\u969b</h2>\\n                                        <h1><font color=\"#383c40\">\\u3010\\u592e\\u5ee3RTI\\u3011Uber\\u4e0a\\u534a\\u5e74\\u8667\\u640d\\u81f3\\u5c1112...(231)</font></h1>\\n                                    </a>\\n                                </li>\\n                                                        <li class=\"rtddt local even\">\\n                                    <a href=\"/realtimenews/article/local/20160826/936253/88\\u6b72\\u8001\\u5a66\\u5931\\u8e644\\u5929\\u3000\\u5c71\\u6797\\u8349\\u53e2\\u5c0b\\u7372\\u5e78\\u7121\\u7919\" target=\"_blank\">\\n                                        <time>11:10</time>\\n                                        <h2>\\u793e\\u6703</h2>\\n                                        <h1><font color=\"#ff0000\">88\\u6b72\\u8001\\u5a66\\u5931\\u8e644\\u5929\\u3000\\u5c71\\u6797\\u8349\\u53e2\\u5c0b\\u7372\\u5e78\\u7121\\u7919(318)</font></h1>\\n                                    </a>\\n                                </li>\\n                                                        <li class=\"rtddt polit\">\\n                                    <a href=\"/realtimenews/article/politics/20160826/936256/\\u7e3d\\u7d71\\u5e9c\\u89aa\\u5b50\\u65e5\\u3000\\u8521\\u82f1\\u6587\\u62b1\\u5b30\\u5152\\u6b61\\u6a02\\u5408\\u7167\" target=\"_blank\">\\n                                        <time>11:10</time>\\n                                        <h2>\\u653f\\u6cbb</h2>\\n                                        <h1><font color=\"#ff0000\">\\u7e3d\\u7d71\\u5e9c\\u89aa\\u5b50\\u65e5\\u3000\\u8521\\u82f1\\u6587\\u62b1\\u5b30\\u5152\\u6b61\\u6a02\\u5408\\u7167(255)</font></h1>\\n                                    </a>\\n                                </li>\\n                                                        <li class=\"rtddt inter even\">\\n                                    <a href=\"/realtimenews/article/international/20160826/936262/\\u5c3c\\u6cca\\u723e\\u5df4\\u58eb\\u589c\\u6cb3\\u3000\\u81f3\\u5c1120\\u6b7b17\\u50b7\" target=\"_blank\">\\n                                        <time>11:10</time>\\n                                        <h2>\\u570b\\u969b</h2>\\n                                        <h1><font color=\"#383c40\">\\u5c3c\\u6cca\\u723e\\u5df4\\u58eb\\u589c\\u6cb3\\u3000\\u81f3\\u5c1120\\u6b7b17\\u50b7(80)</font></h1>\\n                                    </a>\\n                                </li>\\n                                                        <li class=\"rtddt polit\">\\n                                    <a href=\"/realtimenews/article/politics/20160826/936246/\\u5378\\u4efb\\u570b\\u7b56\\u9867\\u554f10\\u6708\\u63d0\\u6848\\u3000\\u63a8\\u300c\\u99ac\\u7fd2\\u300d\\u89d2\\u9010\\u8afe\\u8c9d\\u723e\\u548c\\u5e73\\u734e\" target=\"_blank\">\\n                                        <time>11:09</time>\\n                                        <h2>\\u653f\\u6cbb</h2>\\n                                        <h1><font color=\"#383c40\">\\u5378\\u4efb\\u570b\\u7b56\\u9867\\u554f10\\u6708\\u63d0\\u6848\\u3000\\u63a8\\u300c\\u99ac\\u7fd2\\u300d\\u89d2\\u9010\\u8afe...(188)</font></h1>\\n                                    </a>\\n                                </li>\\n                                                        <li class=\"rtddt polit even\">\\n                                    <a href=\"/realtimenews/article/politics/20160826/936261/\\u3010\\u6c11\\u5831\\u90b1\\u842c\\u8208\\u5c08\\u6b04\\u3011\\u6c11\\u9032\\u9ee8\\u7d44\\u9ee8\\u7684\\u300c\\u5341\\u4eba\\u79d8\\u5bc6\\u5c0f\\u7d44\\u300d\" target=\"_blank\">\\n                                        <time>11:07</time>\\n                                        <h2>\\u653f\\u6cbb</h2>\\n                                        <h1><font color=\"#383c40\">\\u3010\\u6c11\\u5831 \\u90b1\\u842c\\u8208\\u5c08\\u6b04\\u3011\\u6c11\\u9032\\u9ee8\\u7d44\\u9ee8\\u7684\\u300c\\u5341\\u4eba\\u79d8...(242)</font></h1>\\n                                    </a>\\n                                </li>\\n                                                        <li class=\"rtddt local hsv\">\\n                                    <a href=\"/realtimenews/article/local/20160826/936119/\\u6cb9\\u58a8\\u5de5\\u5ee0\\u5ef6\\u71d2500\\u576a\\u3000\\u70c8\\u7130\\u71d2\\u6bc04\\u5c4b\" target=\"_blank\">\\n                                        <time>11:04</time>\\n                                        <h2>\\u793e\\u6703</h2>\\n                                        <h1><font color=\"#383c40\">\\u6cb9\\u58a8\\u5de5\\u5ee0\\u5ef6\\u71d2500\\u576a\\u3000\\u70c8\\u7130\\u71d2\\u6bc04\\u5c4b(10377)</font></h1>\\n                                    </a>\\n                                </li>\\n                                                        <li class=\"rtddt local even hsv\">\\n                                    <a href=\"/realtimenews/article/local/20160826/936137/\\u7537\\u5b78\\u751f\\u7591\\u611f\\u60c5\\u56e0\\u7d20\\u3000\\u4f4f\\u5bb6\\u9802\\u589c\\u6a13\\u9001\\u91ab\\u4e0d\\u6cbb\" target=\"_blank\">\\n                                        <time>11:02</time>\\n                                        <h2>\\u793e\\u6703</h2>\\n                                        <h1><font color=\"#383c40\">\\u7537\\u5b78\\u751f\\u7591\\u611f\\u60c5\\u56e0\\u7d20\\u3000\\u4f4f\\u5bb6\\u9802\\u589c\\u6a13\\u9001\\u91ab\\u4e0d\\u6cbb(17989)</font></h1>\\n                                    </a>\\n                                </li>\\n                                                        <li class=\"rtddt inter\">\\n                                    <a href=\"/realtimenews/article/international/20160826/936235/\\u597d\\u5927\\uff01\\u8840\\u6708\\u9ad8\\u639b\\u7d10\\u7d04\\u591c\\u7a7a\\u3000\" target=\"_blank\">\\n                                        <time>11:02</time>\\n                                        <h2>\\u570b\\u969b</h2>\\n                                        <h1><font color=\"#ff0000\">\\u597d\\u5927\\uff01\\u8840\\u6708\\u9ad8\\u639b\\u7d10\\u7d04\\u591c\\u7a7a\\u3000(1160)</font></h1>\\n                                    </a>\\n                                </li>\\n                                                        <li class=\"rtddt inter even\">\\n                                    <a href=\"/realtimenews/article/international/20160826/936180/\\u3010\\u7121\\u826f\\u8a50\\u9a19\\u3011\\u300c\\u8e29\\u5230\\u8840\\u8981\\u7948\\u798f\\u6d88\\u707d\\u300d\\u3000\\u83ef\\u8001\\u5a66\\u68fa\\u6750\\u672c\\u906d\\u9a19\" target=\"_blank\">\\n                                        <time>11:01</time>\\n                                        <h2>\\u570b\\u969b</h2>\\n                                        <h1><font color=\"#383c40\">\\u3010\\u7121\\u826f\\u8a50\\u9a19\\u3011\\u300c\\u8e29\\u5230\\u8840\\u8981\\u7948\\u798f\\u6d88\\u707d\\u300d\\u3000\\u83ef\\u8001\\u5a66...(478)</font></h1>\\n                                    </a>\\n                                </li>\\n                                                        <li class=\"rtddt inter\">\\n                                    <a href=\"/realtimenews/article/international/20160826/936245/\\u3010\\u592e\\u5ee3RTI\\u3011\\u4e16\\u885b\\u7d44\\u7e54\\uff1a\\u91cc\\u7d04\\u5967\\u904b\\u7121\\u8332\\u5361\\u78ba\\u8a3a\\u75c5\\u4f8b\" target=\"_blank\">\\n                                        <time>11:00</time>\\n                                        <h2>\\u570b\\u969b</h2>\\n                                        <h1><font color=\"#383c40\">\\u3010\\u592e\\u5ee3RTI\\u3011\\u4e16\\u885b\\u7d44\\u7e54\\uff1a\\u91cc\\u7d04\\u5967\\u904b\\u7121\\u8332\\u5361\\u78ba...(124)</font></h1>\\n                                    </a>\\n                                </li>\\n                                                        <li class=\"rtddt enter even hsv\">\\n                                    <a href=\"/realtimenews/article/entertainment/20160826/936191/\\u3010MV\\u98a8\\u6ce2\\u3011\\u7396\\u58f9\\u58f9\\u906d\\u5916\\u7c4d\\u4eba\\u58eb\\u7832\\u8f5f\\u3000\\u5148\\u5207\\u5272\\u9ec3\\u660e\\u5fd7\\u5f8c\\u9053\\u6b49\" target=\"_blank\">\\n                                        <time>10:58</time>\\n                                        <h2>\\u5a1b\\u6a02</h2>\\n                                        <h1><font color=\"#ff0000\">\\u3010MV\\u98a8\\u6ce2\\u3011\\u7396\\u58f9\\u58f9\\u906d\\u5916\\u7c4d\\u4eba\\u58eb\\u7832\\u8f5f\\u3000\\u5148\\u5207\\u5272...(2048)</font></h1>\\n                                    </a>\\n                                </li>\\n                                                        <li class=\"rtddt sport\">\\n                                    <a href=\"/realtimenews/article/sports/20160826/936244/\\u859b\\u6fa4\\u98c610K\\u64908\\u5c40\\u7121\\u5931\\u5206\\u3000\\u6551\\u4e86\\u570b\\u6c11\\u725b\\u68da\" target=\"_blank\">\\n                                        <time>10:55</time>\\n                                        <h2>\\u9ad4\\u80b2</h2>\\n                                        <h1><font color=\"#383c40\">\\u859b\\u6fa4\\u98c610K\\u64908\\u5c40\\u7121\\u5931\\u5206\\u3000\\u6551\\u4e86\\u570b\\u6c11\\u725b\\u68da(608)</font></h1>\\n                                    </a>\\n                                </li>\\n                                                        <li class=\"rtddt life even\">\\n                                    <a href=\"/realtimenews/article/life/20160826/936243/\\u5168\\u7403\\u6700\\u65b0\\u4e16\\u4ee3A350XWB\\u3000\\u7b2c\\u4e09\\u5b63\\u5c07\\u4ea4\\u6a5f\\u7d66\\u83ef\\u822a\" target=\"_blank\">\\n                                        <time>10:54</time>\\n                                        <h2>\\u751f\\u6d3b</h2>\\n                                        <h1><font color=\"#383c40\">\\u5168\\u7403\\u6700\\u65b0\\u4e16\\u4ee3A350 XWB\\u3000\\u7b2c\\u4e09\\u5b63\\u5c07\\u4ea4...(1030)</font></h1>\\n                                    </a>\\n                                </li>\\n                                                        <li class=\"rtddt inter\">\\n                                    <a href=\"/realtimenews/article/international/20160826/936196/\\u4e16\\u4e0a\\u6700\\u96e3\\u8a02\\u9910\\u5ef3\\u7206\\u5bb6\\u65cf\\u5167\\u8a0c\\u3000Rao\\'s\\u524d\\u9014\\u672a\\u535c\" target=\"_blank\">\\n                                        <time>10:53</time>\\n                                        <h2>\\u570b\\u969b</h2>\\n                                        <h1><font color=\"#383c40\">\\u4e16\\u4e0a\\u6700\\u96e3\\u8a02\\u9910\\u5ef3\\u7206\\u5bb6\\u65cf\\u5167\\u8a0c\\u3000Rao\\'s\\u524d\\u9014...(1414)</font></h1>\\n                                    </a>\\n                                </li>\\n                                                        <li class=\"rtddt enter even\">\\n                                    <a href=\"/realtimenews/article/entertainment/20160826/936232/\\u9f8d\\u5343\\u7389\\u300c\\u611b\\u5152\\u75c5\\u60c5\\u7a69\\u5b9a\\u300d\\u3000\\u6eff\\u6eff\\u611f\\u8b1d\\u5831\\u5e73\\u5b89\" target=\"_blank\">\\n                                        <time>10:52</time>\\n                                        <h2>\\u5a1b\\u6a02</h2>\\n                                        <h1><font color=\"#ff0000\">\\u9f8d\\u5343\\u7389\\u300c\\u611b\\u5152\\u75c5\\u60c5\\u7a69\\u5b9a\\u300d\\u3000\\u6eff\\u6eff\\u611f\\u8b1d\\u5831\\u5e73\\u5b89(1746)</font></h1>\\n                                    </a>\\n                                </li>\\n                                                        <li class=\"rtddt life\">\\n                                    <a href=\"/realtimenews/article/life/20160826/936247/\\u90b1\\u7d20\\u8c9e\\u745c\\u4f3d\\u60e1\\u6027\\u5012\\u9589\\u3000\\u6d88\\u4fdd\\u8655\\uff1a\\u5718\\u8a1f\\u53d7\\u7406\\u81f3\\u6708\\u5e95\" target=\"_blank\">\\n                                        <time>10:51</time>\\n                                        <h2>\\u751f\\u6d3b</h2>\\n                                        <h1><font color=\"#383c40\">\\u90b1\\u7d20\\u8c9e\\u745c\\u4f3d\\u60e1\\u6027\\u5012\\u9589\\u3000\\u6d88\\u4fdd\\u8655\\uff1a\\u5718\\u8a1f\\u53d7\\u7406\\u81f3\\u6708...(303)</font></h1>\\n                                    </a>\\n                                </li>\\n                                                </ul>                            \\n                        <nav class=\"page_switch lisw fillup\" style=\"margin-top:0em;margin-bottom:1em;text-align:center\">\\n                        <a href=\"/realtimenews/section/new/1\" title=\"1\" class=\"enable\">1</a><a href=\"/realtimenews/section/new/2\" title=\"2\" >2</a><a href=\"/realtimenews/section/new/3\" title=\"3\" >3</a><a href=\"/realtimenews/section/new/4\" title=\"4\" >4</a><a href=\"/realtimenews/section/new/5\" title=\"5\" >5</a><a href=\"/realtimenews/section/new/6\" title=\"6\" >6</a><a href=\"/realtimenews/section/new/7\" title=\"7\" >7</a><a href=\"/realtimenews/section/new/8\" title=\"8\" >8</a><a href=\"/realtimenews/section/new/9\" title=\"9\" >9</a><a href=\"/realtimenews/section/new/10\" title=\"10\" >10</a><a href=\"/realtimenews/section/new/11\" title=\"\\u4e0b10\\u9801\">\\u4e0b10\\u9801</a>                        </nav>\\n                        <span class=\"clear man\"></span>\\n                    </div>\\n                </div>\\n                <div class=\"abdominis\"></div>\\n              </article>\\n              <aside id=\"sitesidecontent\" class=\"manu lvl\">\\n                <div id=\"rectangleAD1\" class=\"ads rtb rtf\"><script type=\\'text/javascript\\'>googletag.cmd.push(function() {googletag.display(\\'rectangleAD1\\');})</script></div>\\n                <div id=\"rectangleAD2\" class=\"ads rtb\"><script type=\\'text/javascript\\'>googletag.cmd.push(function() {googletag.display(\\'rectangleAD2\\');})</script></div>\\n                <section id=\"section-hot-sidebox\" class=\"shsb slvl clearmen  shsbentertainment\"><header><h1>\\u5a1b\\u6a02\\u6700&nbsp;Hot</h1><span><a target=\"_blank\" href=\"/appledaily/hotdaily/entertainment\">\\u770b\\u66f4\\u591a</a></span></header><article><ul><li><h2><a href=\"/appledaily/article/entertainment/20160826/37360647/hotdailyart_right\">Fanny 3\\u9304\\u97f3\\u6a94\\u63ed\\u4e2d\\u570b...</a></h2><span>71287</span></li><li><h2><a href=\"/appledaily/article/entertainment/20160826/37360695/hotdailyart_right\">\\u99ac\\u84c9\\u88ab\\u5c0f\\u59d1\\u902e\\u51fa\\u8ecc \\u5047\\u9762\\u592b\\u59bb...</a></h2><span>28566</span></li><li><h2><a href=\"/appledaily/article/entertainment/20160826/37360655/hotdailyart_right\">\\u4e09\\u7acb\\u7e2e\\u7de8\\u8f49\\u578b\\u6c42\\u751f\\u8def \\u8d70\\u9418\\u5287...</a></h2><span>27876</span></li><li><h2><a href=\"/appledaily/article/entertainment/20160826/37360668/hotdailyart_right\">\\u694a\\u7d2b\\u74ca\\u9910\\u6558\\u590f\\u59ff\\u738b\\u592a\\u4e00\\u5bb617...</a></h2><span>15956</span></li><li><h2><a href=\"/appledaily/article/entertainment/20160826/37360699/hotdailyart_right\">\\u5f35\\u514b\\u5e06\\u7c4c\\u5a5a\\u4e8b\\u7239\\u4e2d\\u98a8 \\u5169\\u982d\\u71d2...</a></h2><span>15772</span></li></ul></article></section><section id=\"facebookbox\" class=\"fbbx slvl clearmen\">\\r\\n    <header>\\r\\n        <h1>Facebook&nbsp;</h1>\\r\\n        <a id=\"fblikebtn\" class=\"on\">\\u860b\\u679c\\u7c89\\u7d72\\u5718</a>\\r\\n    </header>\\t\\t\\r\\n    <article>\\r\\n        <div id=\"fb-root\"></div>\\r\\n        <script language=\"javascript\">\\r\\n            (function(d, s, id) {\\r\\n              var js, fjs = d.getElementsByTagName(s)[0];\\r\\n              if (d.getElementById(id)) return;\\r\\n              js = d.createElement(s); js.id = id;\\r\\n              js.src = \"//connect.facebook.net/zh_TW/all.js#xfbml=1\";\\r\\n              fjs.parentNode.insertBefore(js, fjs);\\r\\n            }(document, \\'script\\', \\'facebook-jssdk\\'));\\r\\n        </script>              \\r\\n        <div id=\"changeFBlike\">\\r\\n            <div class=\"fb-like-box\" data-href=\"http://www.facebook.com/appledaily.tw\" data-width=\"300\" data-height=\"370\" data-show-faces=\"false\" data-stream=\"true\" data-show-border=\"true\" data-header=\"false\"></div>  \\r\\n        </div>\\r\\n    </article>\\r\\n</section>              </aside>\\n            </div>\\n            <div><script type=\\'text/javascript\\'>googletag.cmd.push(function() {googletag.display(\\'div-ad-bottom\\');})</script></div>\\n            <link rel=\"stylesheet\" href=\"http://twimg.edgesuite.net/appledaily/images/css/dateinput_skin.css\" />\\r\\n<div class=\"abkct clearmen\"><a onClick=\"javascript:window.scroll(0,0)\" class=\"abktp\">\\u56de\\u5230\\u6700\\u4e0a\\u9762</a></div>\\r\\n<section id=\"extras\" class=\"fexbr\">\\r\\n    <div class=\"sqzer fillup\">\\r\\n        <a href=\"/index/dailyquote/\" title=\"\\u6bcf\\u65e5\\u4e00\\u53e5\" class=\"dyw\"><span data-tooltip=\"\\u6bcf\\u5929\\u4e00\\u53e5\\u597d\\u8a71\"></span>\\u6bcf\\u65e5\\u4e00\\u53e5</a>\\r\\n        <a href=\"/index/lottery\" title=\"\\u6a02\\u900f\\u767c\\u7968\" class=\"lnr\"><span data-tooltip=\"\\u770b\\u770b\\u4f60\\u624b\\u6c23\"></span>\\u6a02\\u900f\\u767c\\u7968</a>\\r\\n        <a href=\"#\" title=\"\\u7dda\\u4e0a\\u7f8e\\u8a9e\" class=\"oneg\" onclick=\"JavaScript:window.open(\\'/index/englishlearning/\\',\\'\\',\\'width=650,height=495\\')\"><span data-tooltip=\"\\u5b78\\u7fd2\\u82f1\\u6587\"></span>\\u7dda\\u4e0a\\u7f8e\\u8a9e</a>\\r\\n        <a href=\"/index/weather\" title=\"\\u5929\\u6c23\" class=\"wkw\"><span data-tooltip=\"\\u4eca\\u5929\\u4e00\\u5468\\u5929\\u6c23\\u9810\\u5831\"></span>\\u5929\\u6c23</a>\\r\\n        <a href=\"/index/complain\" title=\"\\u7206\\u6599\\u6295\\u8a34\" class=\"rpter\"><span data-tooltip=\"\\u7206\\u6599\\u7d66\\u860b\\u679c\"></span>\\u7206\\u6599\\u6295\\u8a34</a>\\r\\n        <a href=\"/index/prize\" title=\"\\u4e2d\\u734e\\u540d\\u55ae\" class=\"itul\"><span data-tooltip=\"\\u860b\\u679c\\u9001\\u5927\\u734e\\uff01\">\\u4e2d\\u734e\\u540d\\u55ae</span></a>\\r\\n        <a href=\"/index/ticket\" title=\"\\u8d08\\u734e\\u6d3b\\u52d5\" class=\"pguss\"><span data-tooltip=\"\\u8d08\\u734e\\u6d3b\\u52d5\"></span>\\u8d08\\u734e\\u6d3b\\u52d5</a>\\r\\n        <a href=\"/index/mobileguide\" title=\"\\u884c\\u52d5\\u7248\" class=\"wmvs\"><span data-tooltip=\"\\u884c\\u52d5\\u7248\">\\u884c\\u52d5\\u7248</span></a>\\r\\n    </div>\\r\\n</section>\\r\\n\\r\\n<footer id=\"corpfoot\">\\r\\n    <div class=\"sqzer\">\\r\\n        <figure><a href=\"http://www.nextdigital.com.hk/investor/\"><img src=\"http://twimg.edgesuite.net/images/NextDigital/logo_NextMedia_m.png\" /></a></figure>\\r\\n        <section id=\"corpcompanies\" class=\"clearmen\">\\r\\n            <a href=\"/\" class=\"first\" target=\"_blank\"><img src=\"http://twimg.edgesuite.net/appledaily/images/core/ft_AppleDaily.png\" alt=\"\\u860b\\u679c\\u65e5\\u5831 AppleDaily\"  /></a>\\r\\n            <a href=\"/actionnews/\" target=\"_blank\"><img src=\"http://twimg.edgesuite.net/appledaily/images/core/ft_AnimatedNews.png\" alt=\"\\u52d5\\u65b0\\u805e\"  /></a>\\r\\n            <a href=\"http://www.applelive.com.tw/livechannel/\"  target=\"_blank\"><img src=\"http://twimg.edgesuite.net/appledaily/images/core/applelive.gif\" alt=\"\\u860b\\u679cLive\"  /></a>\\r\\n            <a href=\"http://apple360.appledaily.com.tw/\" target=\"_blank\"><img src=\"http://twimg.edgesuite.net/appledaily/images/core/360logo.png\" alt=\" \\u860b\\u679c360\" width=\"83\" height=\"30\"/></a>\\r\\n            <a href=\"http://sharpdaily.tw/\" target=\"_blank\"><img src=\"http://twimg.edgesuite.net/appledaily/images/core/ft_SharpDaily.png\" alt=\"\\u723d\\u5831\"  /></a>\\r\\n            <a href=\"http://www.nextmag.com.tw/\" target=\"_blank\"><img src=\"http://twimg.edgesuite.net/appledaily/images/core/ft_NextMag.png\" alt=\"\\u58f9\\u5468\\u520a\"  /></a>\\r\\n            <a href=\"http://www.eat-travel.com.tw/\"  target=\"_blank\"><img src=\"http://twimg.edgesuite.net/appledaily/images/core/ft_eatintravel.png\" alt=\"\\u98f2\\u98df\\u7537\\u5973\" /></a>\\r\\n            <a href=\"http://fashion.appledaily.com.tw/\"  target=\"_blank\"><img src=\"http://twimg.edgesuite.net/appledaily/images/core/applefashion_website_head_39x30.png\" alt=\"\\u860b\\u679c\\u6642\\u5c1a\" /></a>\\r\\n            <a href=\"http://www.tomonews.com/\" target=\"_blank\"><img src=\"http://twimg.edgesuite.net/appledaily/images/core/menu_tomonews_s.png\" alt=\"Tomonews\"  /></a>            \\r\\n            <a href=\"https://www.youtube.com/user/twappledaily/\"  target=\"_blank\"><img src=\"http://twimg.edgesuite.net/appledaily/images/core/ft_youtube.png\" alt=\"Youtube\" /></a>\\r\\n            <a href=\"/teded\" class=\"last\"  target=\"_blank\"><img src=\"http://twimg.edgesuite.net/appledaily/images/core/ted.png\" alt=\"Ted\" /></a>\\r\\n        </section>\\r\\n        \\r\\n        <section id=\"corpinfo\" class=\"fillip\">\\r\\n            <a href=\"/rss/\" style=\"color:red\">RSS</a>\\t\\t\\t\\t\\t\\r\\n            <a href=\"/index/aboutus/\">\\u4e86\\u89e3\\u860b\\u679c\\u65e5\\u5831</a>\\r\\n            <a href=\"/index/contactus/\">\\u806f\\u7d61\\u6211\\u5011</a>\\r\\n            <a href=\"/adguide\" target=\"_blank\">\\u5ee3\\u544a\\u520a\\u767b</a>\\r\\n            <a href=\"/index/faq/\">\\u5e38\\u898b\\u554f\\u984c</a>\\r\\n            <a href=\"/index/sitemap/\">\\u7db2\\u7ad9\\u5c0e\\u89bd</a>\\r\\n            <a href=\"/index/termofuse/\">\\u4f7f\\u7528\\u689d\\u6b3e</a>\\r\\n            <a href=\"/index/authorization/\">\\u6388\\u6b0a\\u7533\\u8acb\\u7a0b\\u5e8f</a>\\r\\n            <a href=\"/index/privacy/\">\\u96b1\\u79c1\\u6b0a\\u8aaa\\u660e</a>\\r\\n            <a href=\"/index/disclaimer/\">\\u514d\\u8cac\\u8207\\u5206\\u7d1a</a>\\r\\n            <a href=\"/index/community/\">\\u860b\\u679c\\u793e\\u7fa4</a>\\r\\n            <a href=\"http://www.facebook.com/nextmediastudent/\" target=\"_blank\">\\u6821\\u5712\\u57f9\\u679c\\u8a08\\u756b</a>\\r\\n            <a href=\"http://www.104.com.tw/jobbank/custjob/index.php?r=cust&j=5e3a4326486c3e6a30323c1d1d1d1d5f2443a363189j01&jobsource=checkc\"  target=\"_blank\">\\u860b\\u679c\\u5fb5\\u624d</a>\\r\\n            <a href=\"/index/subscribe\" class=\"last\">\\u8a02\\u95b1\\u860b\\u679c</a>               \\r\\n        </section>\\r\\n        <p id=\"copyright\">\\xa9 2016 www.appledaily.com.tw Limited. All rights reserved. \\u53f0\\u7063\\u860b\\u679c\\u65e5\\u5831 \\u7248\\u6b0a\\u6240\\u6709 \\u4e0d\\u5f97\\u8f49\\u8f09</p>\\r\\n    </div>\\r\\n</footer>\\r\\n<link rel=\"stylesheet\" href=\"http://twimg.edgesuite.net/appledaily/images/css/appledaily.backtotop.css\" />\\r\\n<script src=\"http://twimg.edgesuite.net/appledaily/images/js/jquery.appledaily.backtotop.js\"></script>\\r\\n<div class=\"back-to-top-side\"><a onclick=\"javascript:window.scroll(0,0)\" class=\"back-to-top-btn overcooked\">\\u56de\\u5230\\u6700\\u4e0a\\u9762</a></div><!-- .back-to-top-side -->\\r\\n<script type=\"text/javascript\">\\r\\n    $(document).ready(function() {\\r\\n       var opacity = 0.5,\\r\\n            toOpacity = 1,\\r\\n            duration = 250;\\r\\n        $(\\'.opacity\\').css(\\'opacity\\', opacity).hover(function() {\\r\\n            $(this).fadeTo(duration, toOpacity);\\r\\n        }, function() {\\r\\n            $(this).fadeTo(duration, opacity);\\r\\n        });\\r\\n                \\r\\n       $(window).scroll(function() {\\r\\n         if($(this).scrollTop()>130&&($(this).scrollTop()-(-800)<$(document).height()-350)){\\r\\n             $(\\'#door\\').css(\\'position\\',\\'fixed\\').css(\\'top\\',\\'-45px\\');\\r\\n         }else{\\r\\n             $(\\'#door\\').css(\\'position\\',\\'relative\\').css(\\'top\\',\\'0px\\');\\r\\n         }\\r\\n       });\\r\\n     });\\r\\n</script>\\r\\n\\r\\n<!-- Google Analytics -->\\r\\n<script>\\r\\n  (function(i,s,o,g,r,a,m){i[\\'GoogleAnalyticsObject\\']=r;i[r]=i[r]||function(){\\r\\n      (i[r].q=i[r].q||[]).push(arguments)},i[r].l=1*new Date();a=s.createElement(o),\\r\\n      m=s.getElementsByTagName(o)[0];a.async=1;a.src=g;m.parentNode.insertBefore(a,m)\\r\\n  })(window,document,\\'script\\',\\'//www.google-analytics.com/analytics.js\\',\\'ga\\');\\r\\n\\r\\n  ga(\\'create\\', \\'UA-2067247-40\\', \\'auto\\', {\\'sampleRate\\':1});\\r\\n  ga(\\'require\\', \\'linkid\\', \\'linkid.js\\');\\r\\n  ga(\\'require\\', \\'displayfeatures\\');\\r\\n    \\r\\n</script>\\r\\n<noscript>\\r\\n    <iframe src=\"//www.googletagmanager.com/ns.html?id=GTM-P5MXMC\" height=\"0\" width=\"0\" style=\"display:none;visibility:hidden\"></iframe>\\r\\n</noscript>\\r\\n<script>\\r\\n            dataLayer = [{\\r\\n            \\'pageLevel\\' : \\'Listing\\',\\r\\n            \\'videoArticle\\': \\'non-video\\',\\r\\n            \\'publishDay\\': \\'\\', \\r\\n            \\'columnist\\' : \\'\\', \\r\\n            \\'column\\' : \\'\\' \\r\\n         }];\\r\\n     \\r\\n    (function(w,d,s,l,i){w[l]=w[l]||[];w[l].push({\\'gtm.start\\':\\r\\n    new Date().getTime(),event:\\'gtm.js\\'});var f=d.getElementsByTagName(s)[0],\\r\\n    j=d.createElement(s),dl=l!=\\'dataLayer\\'?\\'&l=\\'+l:\\'\\';j.async=true;j.src=\\'//www.googletagmanager.com/gtm.js?id=\\'+i+dl;f.parentNode.insertBefore(j,f);\\r\\n    })(window,document,\\'script\\',\\'dataLayer\\',\\'GTM-P5MXMC\\');\\r\\n</script>\\r\\n<div id=\"nxm_iframeDiv\" style=\"display:none\"></div>\\r\\n<div id=\"nxm_vtrk_iframeDiv\" style=\"display:none\"></div>\\r\\n<!--page idle-->\\r\\n<link href=\"http://twimg.edgesuite.net/appledaily/images/adidle/css/Ted_fancybox.css\"  rel=\"stylesheet\" type=\"text/css\">\\r\\n<script src=\"http://twimg.edgesuite.net/appledaily/images/adidle/js/Ted_plugin.js\" ></script>\\r\\n<script src=\"http://twimg.edgesuite.net/appledaily/images/adidle/js/Ted_adidle.js\" ></script>\\r\\n<script LANGUAGE=\"JavaScript\">\\r\\n    var intRand = Math.floor((Math.random()*10));\\r\\n    var strHtml = \\'Ted\\';\\r\\n    if(intRand>3 && intRand<6){\\r\\n        strHtml = \\'infographic\\';\\r\\n    }\\r\\n    if(intRand>6){\\r\\n        strHtml = \\'Sale\\';\\r\\n    }\\r\\n    document.write(\\'<a class=\"pageidle\" data-fancybox-type=\"iframe\" href=\"http://www.appledaily.com.tw/\\'+strHtml+\\'_adidle.html#\\'+Math.random()+\\'\"></a>\\');\\r\\n</script>\\r\\n<!--page idle-->\\r\\n        </div>\\n    </div>\\n    <script type=\"text/javascript\" src=\"https://apis.google.com/js/plusone.js\"></script>\\n    <script>\\n        $(document).ready(function($) {\\n          /* main carousel */\\n          $(\\'#carousel\\').on(\\'onInitAfter\\',function(e){\\n            $(this).find(\\'.owl-dots\\').append( \\'<span class=\"masker\"></span>\\' );\\n          }).owlCarousel({\\n            mouseDrag:false,\\n            touchDrag:true,\\n            pullDrag:false,\\n            navText:[\\'\\u4e0b\\u4e00\\u5247\\',\\'\\u4e0a\\u4e00\\u5247\\'],\\n            nav:false,\\n            navSpeed:500,\\n            dotsSpeed:500,\\n            dots:false,\\n            items:1,\\n            autoplay:true,\\n            autoplayHoverPause:false,\\n            autoplayTimeout: 5000,\\n            lazyLoad:true,\\n            info: (typeof getInfo == \\'function\\') ? getInfo : {},\\n            loop:true\\n          }).mouseenter(function() {\\n            $(this).addClass(\\'on\\');\\n            $(this).trigger(\\'pause.owl\\');\\n            $(\\'#splash\\').addClass(\\'on\\');\\n          }).mouseleave(function() {\\n            $(this).removeClass(\\'on\\');\\n            $(this).trigger(\\'autoplay.owl\\');\\n            $(\\'#splash\\').removeClass(\\'on\\');\\n          });\\n\\n          $(\\'.xPrev\\').click(function() {\\n            $(\\'#carousel\\').trigger(\\'prev.owl\\');\\n          });\\n          $(\\'.xNext\\').click(function() {\\n            $(\\'#carousel\\').trigger(\\'next.owl\\');\\n          });\\n\\n          $(\\'.xPrev, .xNext\\').mouseenter(function() {\\n            $(\\'#carousel\\').addClass(\\'on\\');\\n            $(\\'#carousel\\').trigger(\\'pause.owl\\');\\n            $(\\'#splash\\').addClass(\\'on\\');\\n          }).mouseleave(function() {\\n            $(\\'#carousel\\').removeClass(\\'on\\');\\n            $(\\'#carousel\\').trigger(\\'autoplay.owl\\');\\n            $(\\'#splash\\').removeClass(\\'on\\');\\n          });\\n\\n          /* firewire */\\n          $(\\'#firewire\\').owlCarousel({\\n            mouseDrag:false,\\n            touchDrag:false,\\n            pullDrag:false,\\n            animateOut: \\'slideOutDown-100\\',\\n            animateIn: \\'slideInDown-100\\',\\n            nav:false,\\n            navSpeed:1000,\\n            dots:false,\\n            items:1,\\n            autoplay:true,\\n            autoplayHoverPause:true,\\n            autoplayTimeout: 6000,\\n            lazyLoad:true,\\n            loop:true\\n          });\\n\\n        });\\n\\n        function getInfo(owlInfo){\\n          $(\\'#carousel\\').data(\\'currentPosition\\', owlInfo[\\'currentPosition\\']);\\n        }\\n\\n        $( document ).ready(function() {\\n          var mainImgs = $(\\'#carousel\\').find(\\'.owl-item\\').not(\\'.cloned\\').find(\\'.item\\').find(\\'img\\');\\n          var mainLinks = $(\\'#carousel\\').find(\\'.owl-item\\').not(\\'.cloned\\').find(\\'.item\\').find(\\'a\\');\\n\\n          function trackHomeMainImg(action, label) {\\n            if ( ga ) ga(\\'send\\', \\'event\\', \\'HomeMainImg\\', action, label);\\n            if (window[\\'console\\'] !== undefined) { console.log(\\'SendGA: \\'+action) };\\n          }\\n\\n          function isAD(imgAlt) {\\n            return ((imgAlt) && (imgAlt.toUpperCase().substring(0,2)==\"AD\"));\\n          }\\n\\n          function mainImgView(idx) {\\n            var imgAlt = $(mainImgs[idx]).attr(\\'tcode\\');\\n            if (isAD(imgAlt)) trackHomeMainImg(\\'views\\', imgAlt);\\n          }\\n\\n          function mainImgClick(e) {\\n            var imgAlt = $(e.currentTarget).find(\\'img\\').attr(\\'tcode\\');\\n            if (isAD(imgAlt)) trackHomeMainImg(\\'clicks\\', imgAlt);\\n          };\\n\\n          $(\\'#carousel\\').on(\\'onTransitionEnd\\', function(e) {\\n            var idx = $(\\'#carousel\\').data(\\'currentPosition\\');\\n            if ($.isNumeric(idx)) mainImgView(idx);\\n          });\\n\\n          /* entry track */\\n          if ($(\\'#carousel\\')) mainImgView(0);\\n\\n          /* bind click event */\\n          $(\\'#carousel\\').find(\\'.owl-item\\').find(\\'.item\\').find(\\'a\\').click(mainImgClick);\\n\\n        });\\n    </script>\\n    <!-- YAHOO AD -->\\n    <script type=\"text/javascript\">\\n        var sectionCode = sectionCode || [];\\n        sectionCode.push(\"3fbb0747-092b-4c67-b6dc-c522d10c2475\");\\n        (function(){\\n          var script = document.createElement(\"script\");\\n          script.async = true;\\n          script.src = \"https://s.yimg.com/av/gemini/ga/gemini.js\";\\n          document.body.appendChild(script);\\n        })();\\n   </script>\\n   <!-- YAHOO AD -->\\n</body>\\n</html>'"
      ]
     },
     "execution_count": 7,
     "metadata": {},
     "output_type": "execute_result"
    }
   ],
   "source": [
    "res.text"
   ]
  },
  {
   "cell_type": "code",
   "execution_count": 8,
   "metadata": {
    "collapsed": true
   },
   "outputs": [],
   "source": [
    "# POST\n",
    "data = {\n",
    "    'key': 'val'\n",
    "}\n",
    "res = r.post(\"https://httpbin.org/post\", data=data)"
   ]
  },
  {
   "cell_type": "code",
   "execution_count": 9,
   "metadata": {
    "collapsed": false
   },
   "outputs": [
    {
     "name": "stdout",
     "output_type": "stream",
     "text": [
      "{\n",
      "  \"args\": {}, \n",
      "  \"data\": \"\", \n",
      "  \"files\": {}, \n",
      "  \"form\": {\n",
      "    \"key\": \"val\"\n",
      "  }, \n",
      "  \"headers\": {\n",
      "    \"Accept\": \"*/*\", \n",
      "    \"Accept-Encoding\": \"gzip, deflate\", \n",
      "    \"Content-Length\": \"7\", \n",
      "    \"Content-Type\": \"application/x-www-form-urlencoded\", \n",
      "    \"Host\": \"httpbin.org\", \n",
      "    \"User-Agent\": \"python-requests/2.10.0\"\n",
      "  }, \n",
      "  \"json\": null, \n",
      "  \"origin\": \"140.115.236.39\", \n",
      "  \"url\": \"https://httpbin.org/post\"\n",
      "}\n",
      "\n"
     ]
    }
   ],
   "source": [
    "print res.text"
   ]
  },
  {
   "cell_type": "code",
   "execution_count": 10,
   "metadata": {
    "collapsed": false
   },
   "outputs": [
    {
     "data": {
      "text/plain": [
       "{'Content-Length': '410', 'Server': 'nginx', 'Connection': 'keep-alive', 'Access-Control-Allow-Credentials': 'true', 'Date': 'Fri, 26 Aug 2016 03:26:22 GMT', 'Access-Control-Allow-Origin': '*', 'Content-Type': 'application/json'}"
      ]
     },
     "execution_count": 10,
     "metadata": {},
     "output_type": "execute_result"
    }
   ],
   "source": [
    "# Check the response header\n",
    "# Note that the Content-Type is 'application/json'\n",
    "res.headers"
   ]
  },
  {
   "cell_type": "code",
   "execution_count": 11,
   "metadata": {
    "collapsed": false
   },
   "outputs": [
    {
     "data": {
      "text/plain": [
       "{u'args': {},\n",
       " u'data': u'',\n",
       " u'files': {},\n",
       " u'form': {u'key': u'val'},\n",
       " u'headers': {u'Accept': u'*/*',\n",
       "  u'Accept-Encoding': u'gzip, deflate',\n",
       "  u'Content-Length': u'7',\n",
       "  u'Content-Type': u'application/x-www-form-urlencoded',\n",
       "  u'Host': u'httpbin.org',\n",
       "  u'User-Agent': u'python-requests/2.10.0'},\n",
       " u'json': None,\n",
       " u'origin': u'140.115.236.39',\n",
       " u'url': u'https://httpbin.org/post'}"
      ]
     },
     "execution_count": 11,
     "metadata": {},
     "output_type": "execute_result"
    }
   ],
   "source": [
    "# Use Response.json() method to decode JSON string into python Dictionary\n",
    "res.json()"
   ]
  },
  {
   "cell_type": "code",
   "execution_count": 12,
   "metadata": {
    "collapsed": true
   },
   "outputs": [],
   "source": [
    "# BeautifulSoup(HTML parsing)\n",
    "# text/HTML -> Python objects\n",
    "from bs4 import BeautifulSoup"
   ]
  },
  {
   "cell_type": "code",
   "execution_count": 13,
   "metadata": {
    "collapsed": true
   },
   "outputs": [],
   "source": [
    "res = r.get(\"http://www.appledaily.com.tw/realtimenews/section/new/\")"
   ]
  },
  {
   "cell_type": "code",
   "execution_count": null,
   "metadata": {
    "collapsed": false
   },
   "outputs": [],
   "source": [
    "type(json)"
   ]
  },
  {
   "cell_type": "code",
   "execution_count": 14,
   "metadata": {
    "collapsed": true
   },
   "outputs": [],
   "source": [
    "soup = BeautifulSoup(res.text, 'lxml')"
   ]
  },
  {
   "cell_type": "code",
   "execution_count": 15,
   "metadata": {
    "collapsed": false
   },
   "outputs": [
    {
     "data": {
      "text/plain": [
       "bs4.BeautifulSoup"
      ]
     },
     "execution_count": 15,
     "metadata": {},
     "output_type": "execute_result"
    }
   ],
   "source": [
    "type(soup)"
   ]
  },
  {
   "cell_type": "code",
   "execution_count": 16,
   "metadata": {
    "collapsed": false,
    "scrolled": true
   },
   "outputs": [
    {
     "data": {
      "text/plain": [
       "[<li class=\"rtddt polit\">\\n<a href=\"/realtimenews/article/politics/20160826/936259/\\u200b500\\u4eba\\u4ee5\\u4e0a\\u4f01\\u696d\\u61c9\\u8058\\u9ad4\\u80b2\\u4eba\\u54e1\\u3000\\u4e2d\\u6cb9\\u53f0\\u7cd6\\u639b\\u96f6\" target=\"_blank\">\\n<time>11:23</time>\\n<h2>\\u653f\\u6cbb</h2>\\n<h1><font color=\"#383c40\">\\u200b500\\u4eba\\u4ee5\\u4e0a\\u4f01\\u696d\\u61c9\\u8058\\u9ad4\\u80b2\\u4eba\\u54e1\\u3000\\u4e2d\\u6cb9\\u53f0\\u7cd6...(0)</font></h1>\\n</a>\\n</li>,\n",
       " <li class=\"rtddt life even hsv\">\\n<a href=\"/realtimenews/article/life/20160826/936193/\\u3010\\u4f60\\u7206\\u860b\\u679c\\u5831\\u3011\\u9999\\u5409\\u58eb\\u662f\\u4f60\\uff1f\\uff01\\u3000\\u53fc\\u83f8\\u6599\\u7406\\u70e4\\u9d28\\u9084\\u52a0\\u6599\" target=\"_blank\">\\n<time>11:21</time>\\n<h2>\\u751f\\u6d3b</h2>\\n<h1><font color=\"#383c40\">\\u3010\\u4f60\\u7206\\u860b\\u679c\\u5831\\u3011\\u9999\\u5409\\u58eb\\u662f\\u4f60\\uff1f\\uff01\\u3000\\u53fc\\u83f8\\u6599\\u7406\\u70e4...(0)</font></h1>\\n</a>\\n</li>,\n",
       " <li class=\"rtddt local\">\\n<a href=\"/realtimenews/article/local/20160826/936254/\\u9152\\u99d5\\u4e1f\\u91d1\\u934a\\u55c6\\u8b66\\u3000\\u5047\\u9738\\u54e5\\u4e00\\u79d2\\u8b8a\\u7238\\u5bf6\" target=\"_blank\">\\n<time>11:21</time>\\n<h2>\\u793e\\u6703</h2>\\n<h1><font color=\"#383c40\">\\u9152\\u99d5\\u4e1f\\u91d1\\u934a\\u55c6\\u8b66\\u3000\\u5047\\u9738\\u54e5\\u4e00\\u79d2\\u8b8a\\u7238\\u5bf6(0)</font></h1>\\n</a>\\n</li>,\n",
       " <li class=\"rtddt sp_ad even\">\\n<time>11:21</time>\\n<h2>\\u7279\\u4f01</h2>\\n<h1>\\n<a href=\"http://www.appledaily.com.tw/realtimenews/article/life/20160826/935880/\" target=\"_blank\">\\n<font color=\"#383c40\">\\u3010\\u7279\\u4f01\\u3011\\u97d3\\u570b\\u6b50\\u7238\\u6709\\u6487\\u6b65!? \\u6559\\u4f60\\u5982\\u4f55\\u7576\\u500b (1489)</font>\\n</a>\\n</h1>\\n</li>,\n",
       " <li class=\"rtddt local\">\\n<a href=\"/realtimenews/article/local/20160826/936255/\\u9023\\u9019\\u6b3e\\u7c73\\u5440\\u4e5f\\u8981\\u5077\\u3000\\u72e1\\u8faf\\u8f09\\u932f\\u6771\\u897f\\u64fa\\u932f\\u4f4d\" target=\"_blank\">\\n<time>11:21</time>\\n<h2>\\u793e\\u6703</h2>\\n<h1><font color=\"#383c40\">\\u9023\\u9019\\u6b3e\\u7c73\\u5440\\u4e5f\\u8981\\u5077\\u3000\\u72e1\\u8faf\\u8f09\\u932f\\u6771\\u897f\\u64fa\\u932f\\u4f4d(0)</font></h1>\\n</a>\\n</li>,\n",
       " <li class=\"rtddt polit even\">\\n<a href=\"/realtimenews/article/politics/20160826/936257/\\u82f1\\u5168\\u4e0d\\u6eff\\u610f\\u5ea6\\u78345\\u6210\\u3000\\u671d\\u91ce\\u7acb\\u59d4\\u547c\\u7c72\\u8abf\\u6574\\u95a3\\u54e1\" target=\"_blank\">\\n<time>11:21</time>\\n<h2>\\u653f\\u6cbb</h2>\\n<h1><font color=\"#383c40\">\\u82f1\\u5168\\u4e0d\\u6eff\\u610f\\u5ea6\\u78345\\u6210\\u3000\\u671d\\u91ce\\u7acb\\u59d4\\u547c\\u7c72\\u8abf\\u6574\\u95a3\\u54e1(0)</font></h1>\\n</a>\\n</li>,\n",
       " <li class=\"rtddt local hsv\">\\n<a href=\"/realtimenews/article/local/20160826/936260/\\u8f4e\\u8eca\\u5931\\u63a7\\u649e\\u98db\\u5c0d\\u5411\\u6a5f\\u8eca\\u3000\\u9a0e\\u58eb\\u6454\\u6eaa\\u5e95\\u7372\\u6551\" target=\"_blank\">\\n<time>11:21</time>\\n<h2>\\u793e\\u6703</h2>\\n<h1><font color=\"#383c40\">\\u8f4e\\u8eca\\u5931\\u63a7\\u649e\\u98db\\u5c0d\\u5411\\u6a5f\\u8eca\\u3000\\u9a0e\\u58eb\\u6454\\u6eaa\\u5e95\\u7372\\u6551(274)</font></h1>\\n</a>\\n</li>,\n",
       " <li class=\"rtddt enter even\">\\n<a href=\"/realtimenews/article/entertainment/20160826/936181/\\u5f37\\u54e5\\u5206\\u624b\\u8cbb\\u7d66\\u5f97\\u4e0d\\u4e7e\\u8106\\u3000\\u5ae9\\u59bb\\u8981\\u4ed6\\u52a0\\u500d\\u511f\\u9084\" target=\"_blank\">\\n<time>11:20</time>\\n<h2>\\u5a1b\\u6a02</h2>\\n<h1><font color=\"#383c40\">\\u5f37\\u54e5\\u5206\\u624b\\u8cbb\\u7d66\\u5f97\\u4e0d\\u4e7e\\u8106\\u3000\\u5ae9\\u59bb\\u8981\\u4ed6\\u52a0\\u500d\\u511f\\u9084(0)</font></h1>\\n</a>\\n</li>,\n",
       " <li class=\"rtddt life\">\\n<a href=\"/realtimenews/article/life/20160826/936269/\\u5927\\u5275\\u71b1\\u8ce3\\u7684\\u9019\\u5546\\u54c1\\u8001\\u7f3a\\u8ca8\\uff1f\\u539f\\u4f86\\u662f\\u9019\\u500b\\u539f\\u56e0\" target=\"_blank\">\\n<time>11:20</time>\\n<h2>\\u751f\\u6d3b</h2>\\n<h1><font color=\"#ff0000\">\\u5927\\u5275\\u71b1\\u8ce3\\u7684\\u9019\\u5546\\u54c1\\u8001\\u7f3a\\u8ca8\\uff1f\\u539f\\u4f86\\u662f\\u9019\\u500b\\u539f\\u56e0(0)</font></h1>\\n</a>\\n</li>,\n",
       " <li class=\"rtddt polit even\">\\n<a href=\"/realtimenews/article/politics/20160826/936267/\\u53f0\\u7063\\u667a\\u5eab\\u516c\\u5e03\\u8521\\u653f\\u5e9c\\u767e\\u65e5\\u6c11\\u8abf\\u3000\\u6eff\\u610f\\u5ea6\\u8dcc\\u7834\\u4e94\\u6210\" target=\"_blank\">\\n<time>11:19</time>\\n<h2>\\u653f\\u6cbb</h2>\\n<h1><font color=\"#383c40\">\\u53f0\\u7063\\u667a\\u5eab\\u516c\\u5e03\\u8521\\u653f\\u5e9c\\u767e\\u65e5\\u6c11\\u8abf\\u3000\\u6eff\\u610f\\u5ea6\\u8dcc\\u7834\\u4e94...(0)</font></h1>\\n</a>\\n</li>,\n",
       " <li class=\"rtddt life\">\\n<a href=\"/realtimenews/article/life/20160826/936270/\\u200b\\u8b77\\u7406\\u5e2b\\u5de5\\u6642\\u9577\\u3000\\u7f8e\\u5973\\u628a\\u5236\\u670d\\u812b\\u4e86\\u8f49\\u884c\" target=\"_blank\">\\n<time>11:17</time>\\n<h2>\\u751f\\u6d3b</h2>\\n<h1><font color=\"#ff0000\">\\u200b\\u8b77\\u7406\\u5e2b\\u5de5\\u6642\\u9577\\u3000\\u7f8e\\u5973\\u628a\\u5236\\u670d\\u812b\\u4e86\\u8f49\\u884c(0)</font></h1>\\n</a>\\n</li>,\n",
       " <li class=\"rtddt polit even\">\\n<a href=\"/realtimenews/article/politics/20160826/936242/\\u53f8\\u6cd5\\u9662\\u6b63\\u526f\\u9662\\u9577\\u5b9a\\u6848\\u3000\\u8521\\u82f1\\u6587\\u6c7a\\u5b9a\\u63d0\\u540d\\u8a31\\u5b97\\u529b\\u3001\\u8521\\u70f1\\u71c9\" target=\"_blank\">\\n<time>11:16</time>\\n<h2>\\u653f\\u6cbb</h2>\\n<h1><font color=\"#ff0000\">\\u53f8\\u6cd5\\u9662\\u6b63\\u526f\\u9662\\u9577\\u5b9a\\u6848\\u3000\\u8521\\u82f1\\u6587\\u6c7a\\u5b9a\\u63d0\\u540d\\u8a31\\u5b97\\u529b...(1226)</font></h1>\\n</a>\\n</li>,\n",
       " <li class=\"rtddt sport\">\\n<a href=\"/realtimenews/article/sports/20160826/936266/KD\\u53db\\u9003\\u592a\\u96e3\\u904e\\u3000\\u300c\\u675c\\u862d\\u7279\\u300d\\u5e02\\u9762\\u81e8\\u6539\\u540d\\u547d\\u904b\" target=\"_blank\">\\n<time>11:15</time>\\n<h2>\\u9ad4\\u80b2</h2>\\n<h1><font color=\"#383c40\">KD\\u53db\\u9003\\u592a\\u96e3\\u904e\\u3000\\u300c\\u675c\\u862d\\u7279\\u300d\\u5e02\\u9762\\u81e8\\u6539\\u540d\\u547d\\u904b(39)</font></h1>\\n</a>\\n</li>,\n",
       " <li class=\"rtddt busi even\">\\n<a href=\"/realtimenews/article/finance/20160826/936264/\\u53f0\\u80a1\\u76e4\\u4e2d\\uff5e\\u975c\\u5f85\\u8449\\u502b\\u6f14\\u8aaa\\u3000\\u9707\\u76ea\\u76e4\\u5805\" target=\"_blank\">\\n<time>11:12</time>\\n<h2>\\u8ca1\\u7d93</h2>\\n<h1><font color=\"#383c40\">\\u53f0\\u80a1\\u76e4\\u4e2d\\uff5e\\u975c\\u5f85\\u8449\\u502b\\u6f14\\u8aaa\\u3000\\u9707\\u76ea\\u76e4\\u5805(113)</font></h1>\\n</a>\\n</li>,\n",
       " <li class=\"rtddt inter\">\\n<a href=\"/realtimenews/article/international/20160826/936250/\\u3010\\u592e\\u5ee3RTI\\u3011Uber\\u4e0a\\u534a\\u5e74\\u8667\\u640d\\u81f3\\u5c1112.7\\u5104\\u7f8e\\u5143\" target=\"_blank\">\\n<time>11:10</time>\\n<h2>\\u570b\\u969b</h2>\\n<h1><font color=\"#383c40\">\\u3010\\u592e\\u5ee3RTI\\u3011Uber\\u4e0a\\u534a\\u5e74\\u8667\\u640d\\u81f3\\u5c1112...(231)</font></h1>\\n</a>\\n</li>,\n",
       " <li class=\"rtddt local even\">\\n<a href=\"/realtimenews/article/local/20160826/936253/88\\u6b72\\u8001\\u5a66\\u5931\\u8e644\\u5929\\u3000\\u5c71\\u6797\\u8349\\u53e2\\u5c0b\\u7372\\u5e78\\u7121\\u7919\" target=\"_blank\">\\n<time>11:10</time>\\n<h2>\\u793e\\u6703</h2>\\n<h1><font color=\"#ff0000\">88\\u6b72\\u8001\\u5a66\\u5931\\u8e644\\u5929\\u3000\\u5c71\\u6797\\u8349\\u53e2\\u5c0b\\u7372\\u5e78\\u7121\\u7919(318)</font></h1>\\n</a>\\n</li>,\n",
       " <li class=\"rtddt polit\">\\n<a href=\"/realtimenews/article/politics/20160826/936256/\\u7e3d\\u7d71\\u5e9c\\u89aa\\u5b50\\u65e5\\u3000\\u8521\\u82f1\\u6587\\u62b1\\u5b30\\u5152\\u6b61\\u6a02\\u5408\\u7167\" target=\"_blank\">\\n<time>11:10</time>\\n<h2>\\u653f\\u6cbb</h2>\\n<h1><font color=\"#ff0000\">\\u7e3d\\u7d71\\u5e9c\\u89aa\\u5b50\\u65e5\\u3000\\u8521\\u82f1\\u6587\\u62b1\\u5b30\\u5152\\u6b61\\u6a02\\u5408\\u7167(255)</font></h1>\\n</a>\\n</li>,\n",
       " <li class=\"rtddt inter even\">\\n<a href=\"/realtimenews/article/international/20160826/936262/\\u5c3c\\u6cca\\u723e\\u5df4\\u58eb\\u589c\\u6cb3\\u3000\\u81f3\\u5c1120\\u6b7b17\\u50b7\" target=\"_blank\">\\n<time>11:10</time>\\n<h2>\\u570b\\u969b</h2>\\n<h1><font color=\"#383c40\">\\u5c3c\\u6cca\\u723e\\u5df4\\u58eb\\u589c\\u6cb3\\u3000\\u81f3\\u5c1120\\u6b7b17\\u50b7(80)</font></h1>\\n</a>\\n</li>,\n",
       " <li class=\"rtddt polit\">\\n<a href=\"/realtimenews/article/politics/20160826/936246/\\u5378\\u4efb\\u570b\\u7b56\\u9867\\u554f10\\u6708\\u63d0\\u6848\\u3000\\u63a8\\u300c\\u99ac\\u7fd2\\u300d\\u89d2\\u9010\\u8afe\\u8c9d\\u723e\\u548c\\u5e73\\u734e\" target=\"_blank\">\\n<time>11:09</time>\\n<h2>\\u653f\\u6cbb</h2>\\n<h1><font color=\"#383c40\">\\u5378\\u4efb\\u570b\\u7b56\\u9867\\u554f10\\u6708\\u63d0\\u6848\\u3000\\u63a8\\u300c\\u99ac\\u7fd2\\u300d\\u89d2\\u9010\\u8afe...(188)</font></h1>\\n</a>\\n</li>,\n",
       " <li class=\"rtddt polit even\">\\n<a href=\"/realtimenews/article/politics/20160826/936261/\\u3010\\u6c11\\u5831\\u90b1\\u842c\\u8208\\u5c08\\u6b04\\u3011\\u6c11\\u9032\\u9ee8\\u7d44\\u9ee8\\u7684\\u300c\\u5341\\u4eba\\u79d8\\u5bc6\\u5c0f\\u7d44\\u300d\" target=\"_blank\">\\n<time>11:07</time>\\n<h2>\\u653f\\u6cbb</h2>\\n<h1><font color=\"#383c40\">\\u3010\\u6c11\\u5831 \\u90b1\\u842c\\u8208\\u5c08\\u6b04\\u3011\\u6c11\\u9032\\u9ee8\\u7d44\\u9ee8\\u7684\\u300c\\u5341\\u4eba\\u79d8...(242)</font></h1>\\n</a>\\n</li>,\n",
       " <li class=\"rtddt local hsv\">\\n<a href=\"/realtimenews/article/local/20160826/936119/\\u6cb9\\u58a8\\u5de5\\u5ee0\\u5ef6\\u71d2500\\u576a\\u3000\\u70c8\\u7130\\u71d2\\u6bc04\\u5c4b\" target=\"_blank\">\\n<time>11:04</time>\\n<h2>\\u793e\\u6703</h2>\\n<h1><font color=\"#383c40\">\\u6cb9\\u58a8\\u5de5\\u5ee0\\u5ef6\\u71d2500\\u576a\\u3000\\u70c8\\u7130\\u71d2\\u6bc04\\u5c4b(10377)</font></h1>\\n</a>\\n</li>,\n",
       " <li class=\"rtddt local even hsv\">\\n<a href=\"/realtimenews/article/local/20160826/936137/\\u7537\\u5b78\\u751f\\u7591\\u611f\\u60c5\\u56e0\\u7d20\\u3000\\u4f4f\\u5bb6\\u9802\\u589c\\u6a13\\u9001\\u91ab\\u4e0d\\u6cbb\" target=\"_blank\">\\n<time>11:02</time>\\n<h2>\\u793e\\u6703</h2>\\n<h1><font color=\"#383c40\">\\u7537\\u5b78\\u751f\\u7591\\u611f\\u60c5\\u56e0\\u7d20\\u3000\\u4f4f\\u5bb6\\u9802\\u589c\\u6a13\\u9001\\u91ab\\u4e0d\\u6cbb(17989)</font></h1>\\n</a>\\n</li>,\n",
       " <li class=\"rtddt inter\">\\n<a href=\"/realtimenews/article/international/20160826/936235/\\u597d\\u5927\\uff01\\u8840\\u6708\\u9ad8\\u639b\\u7d10\\u7d04\\u591c\\u7a7a\\u3000\" target=\"_blank\">\\n<time>11:02</time>\\n<h2>\\u570b\\u969b</h2>\\n<h1><font color=\"#ff0000\">\\u597d\\u5927\\uff01\\u8840\\u6708\\u9ad8\\u639b\\u7d10\\u7d04\\u591c\\u7a7a\\u3000(1160)</font></h1>\\n</a>\\n</li>,\n",
       " <li class=\"rtddt inter even\">\\n<a href=\"/realtimenews/article/international/20160826/936180/\\u3010\\u7121\\u826f\\u8a50\\u9a19\\u3011\\u300c\\u8e29\\u5230\\u8840\\u8981\\u7948\\u798f\\u6d88\\u707d\\u300d\\u3000\\u83ef\\u8001\\u5a66\\u68fa\\u6750\\u672c\\u906d\\u9a19\" target=\"_blank\">\\n<time>11:01</time>\\n<h2>\\u570b\\u969b</h2>\\n<h1><font color=\"#383c40\">\\u3010\\u7121\\u826f\\u8a50\\u9a19\\u3011\\u300c\\u8e29\\u5230\\u8840\\u8981\\u7948\\u798f\\u6d88\\u707d\\u300d\\u3000\\u83ef\\u8001\\u5a66...(478)</font></h1>\\n</a>\\n</li>,\n",
       " <li class=\"rtddt inter\">\\n<a href=\"/realtimenews/article/international/20160826/936245/\\u3010\\u592e\\u5ee3RTI\\u3011\\u4e16\\u885b\\u7d44\\u7e54\\uff1a\\u91cc\\u7d04\\u5967\\u904b\\u7121\\u8332\\u5361\\u78ba\\u8a3a\\u75c5\\u4f8b\" target=\"_blank\">\\n<time>11:00</time>\\n<h2>\\u570b\\u969b</h2>\\n<h1><font color=\"#383c40\">\\u3010\\u592e\\u5ee3RTI\\u3011\\u4e16\\u885b\\u7d44\\u7e54\\uff1a\\u91cc\\u7d04\\u5967\\u904b\\u7121\\u8332\\u5361\\u78ba...(124)</font></h1>\\n</a>\\n</li>,\n",
       " <li class=\"rtddt enter even hsv\">\\n<a href=\"/realtimenews/article/entertainment/20160826/936191/\\u3010MV\\u98a8\\u6ce2\\u3011\\u7396\\u58f9\\u58f9\\u906d\\u5916\\u7c4d\\u4eba\\u58eb\\u7832\\u8f5f\\u3000\\u5148\\u5207\\u5272\\u9ec3\\u660e\\u5fd7\\u5f8c\\u9053\\u6b49\" target=\"_blank\">\\n<time>10:58</time>\\n<h2>\\u5a1b\\u6a02</h2>\\n<h1><font color=\"#ff0000\">\\u3010MV\\u98a8\\u6ce2\\u3011\\u7396\\u58f9\\u58f9\\u906d\\u5916\\u7c4d\\u4eba\\u58eb\\u7832\\u8f5f\\u3000\\u5148\\u5207\\u5272...(2048)</font></h1>\\n</a>\\n</li>,\n",
       " <li class=\"rtddt sport\">\\n<a href=\"/realtimenews/article/sports/20160826/936244/\\u859b\\u6fa4\\u98c610K\\u64908\\u5c40\\u7121\\u5931\\u5206\\u3000\\u6551\\u4e86\\u570b\\u6c11\\u725b\\u68da\" target=\"_blank\">\\n<time>10:55</time>\\n<h2>\\u9ad4\\u80b2</h2>\\n<h1><font color=\"#383c40\">\\u859b\\u6fa4\\u98c610K\\u64908\\u5c40\\u7121\\u5931\\u5206\\u3000\\u6551\\u4e86\\u570b\\u6c11\\u725b\\u68da(608)</font></h1>\\n</a>\\n</li>,\n",
       " <li class=\"rtddt life even\">\\n<a href=\"/realtimenews/article/life/20160826/936243/\\u5168\\u7403\\u6700\\u65b0\\u4e16\\u4ee3A350XWB\\u3000\\u7b2c\\u4e09\\u5b63\\u5c07\\u4ea4\\u6a5f\\u7d66\\u83ef\\u822a\" target=\"_blank\">\\n<time>10:54</time>\\n<h2>\\u751f\\u6d3b</h2>\\n<h1><font color=\"#383c40\">\\u5168\\u7403\\u6700\\u65b0\\u4e16\\u4ee3A350 XWB\\u3000\\u7b2c\\u4e09\\u5b63\\u5c07\\u4ea4...(1030)</font></h1>\\n</a>\\n</li>,\n",
       " <li class=\"rtddt inter\">\\n<a href=\"/realtimenews/article/international/20160826/936196/\\u4e16\\u4e0a\\u6700\\u96e3\\u8a02\\u9910\\u5ef3\\u7206\\u5bb6\\u65cf\\u5167\\u8a0c\\u3000Rao's\\u524d\\u9014\\u672a\\u535c\" target=\"_blank\">\\n<time>10:53</time>\\n<h2>\\u570b\\u969b</h2>\\n<h1><font color=\"#383c40\">\\u4e16\\u4e0a\\u6700\\u96e3\\u8a02\\u9910\\u5ef3\\u7206\\u5bb6\\u65cf\\u5167\\u8a0c\\u3000Rao's\\u524d\\u9014...(1414)</font></h1>\\n</a>\\n</li>,\n",
       " <li class=\"rtddt enter even\">\\n<a href=\"/realtimenews/article/entertainment/20160826/936232/\\u9f8d\\u5343\\u7389\\u300c\\u611b\\u5152\\u75c5\\u60c5\\u7a69\\u5b9a\\u300d\\u3000\\u6eff\\u6eff\\u611f\\u8b1d\\u5831\\u5e73\\u5b89\" target=\"_blank\">\\n<time>10:52</time>\\n<h2>\\u5a1b\\u6a02</h2>\\n<h1><font color=\"#ff0000\">\\u9f8d\\u5343\\u7389\\u300c\\u611b\\u5152\\u75c5\\u60c5\\u7a69\\u5b9a\\u300d\\u3000\\u6eff\\u6eff\\u611f\\u8b1d\\u5831\\u5e73\\u5b89(1746)</font></h1>\\n</a>\\n</li>,\n",
       " <li class=\"rtddt life\">\\n<a href=\"/realtimenews/article/life/20160826/936247/\\u90b1\\u7d20\\u8c9e\\u745c\\u4f3d\\u60e1\\u6027\\u5012\\u9589\\u3000\\u6d88\\u4fdd\\u8655\\uff1a\\u5718\\u8a1f\\u53d7\\u7406\\u81f3\\u6708\\u5e95\" target=\"_blank\">\\n<time>10:51</time>\\n<h2>\\u751f\\u6d3b</h2>\\n<h1><font color=\"#383c40\">\\u90b1\\u7d20\\u8c9e\\u745c\\u4f3d\\u60e1\\u6027\\u5012\\u9589\\u3000\\u6d88\\u4fdd\\u8655\\uff1a\\u5718\\u8a1f\\u53d7\\u7406\\u81f3\\u6708...(303)</font></h1>\\n</a>\\n</li>]"
      ]
     },
     "execution_count": 16,
     "metadata": {},
     "output_type": "execute_result"
    }
   ],
   "source": [
    "soup.find_all(class_='rtddt')"
   ]
  },
  {
   "cell_type": "code",
   "execution_count": 17,
   "metadata": {
    "collapsed": false,
    "scrolled": true
   },
   "outputs": [],
   "source": [
    "news_list = soup.find_all('li', class_='rtddt')"
   ]
  },
  {
   "cell_type": "code",
   "execution_count": 18,
   "metadata": {
    "collapsed": false
   },
   "outputs": [
    {
     "name": "stdout",
     "output_type": "stream",
     "text": [
      "​500人以上企業應聘體育人員　中油台糖...(0)\n",
      "【你爆蘋果報】香吉士是你？！　叼菸料理烤...(0)\n",
      "酒駕丟金鍊嗆警　假霸哥一秒變爸寶(0)\n",
      "【特企】韓國歐爸有撇步!? 教你如何當個 (1489)\n",
      "連這款米呀也要偷　狡辯載錯東西擺錯位(0)\n",
      "英全不滿意度破5成　朝野立委呼籲調整閣員(0)\n",
      "轎車失控撞飛對向機車　騎士摔溪底獲救(274)\n",
      "強哥分手費給得不乾脆　嫩妻要他加倍償還(0)\n",
      "大創熱賣的這商品老缺貨？原來是這個原因(0)\n",
      "台灣智庫公布蔡政府百日民調　滿意度跌破五...(0)\n",
      "​護理師工時長　美女把制服脫了轉行(0)\n",
      "司法院正副院長定案　蔡英文決定提名許宗力...(1226)\n",
      "KD叛逃太難過　「杜蘭特」市面臨改名命運(39)\n",
      "台股盤中～靜待葉倫演說　震盪盤堅(113)\n",
      "【央廣RTI】Uber上半年虧損至少12...(231)\n",
      "88歲老婦失蹤4天　山林草叢尋獲幸無礙(318)\n",
      "總統府親子日　蔡英文抱嬰兒歡樂合照(255)\n",
      "尼泊爾巴士墜河　至少20死17傷(80)\n",
      "卸任國策顧問10月提案　推「馬習」角逐諾...(188)\n",
      "【民報 邱萬興專欄】民進黨組黨的「十人秘...(242)\n",
      "油墨工廠延燒500坪　烈焰燒毀4屋(10377)\n",
      "男學生疑感情因素　住家頂墜樓送醫不治(17989)\n",
      "好大！血月高掛紐約夜空　(1160)\n",
      "【無良詐騙】「踩到血要祈福消災」　華老婦...(478)\n",
      "【央廣RTI】世衛組織：里約奧運無茲卡確...(124)\n",
      "【MV風波】玖壹壹遭外籍人士砲轟　先切割...(2048)\n",
      "薛澤飆10K撐8局無失分　救了國民牛棚(608)\n",
      "全球最新世代A350 XWB　第三季將交...(1030)\n",
      "世上最難訂餐廳爆家族內訌　Rao's前途...(1414)\n",
      "龍千玉「愛兒病情穩定」　滿滿感謝報平安(1746)\n",
      "邱素貞瑜伽惡性倒閉　消保處：團訟受理至月...(303)\n"
     ]
    }
   ],
   "source": [
    "for news in news_list:\n",
    "    print news.font.text"
   ]
  },
  {
   "cell_type": "code",
   "execution_count": 19,
   "metadata": {
    "collapsed": true
   },
   "outputs": [],
   "source": [
    "## Appledaily complete example\n",
    "# STEP1: Find url pattern\n",
    "# http://www.appledaily.com.tw/realtimenews/section/new/1 => page 1\n",
    "# http://www.appledaily.com.tw/realtimenews/section/new/2 => page 2"
   ]
  },
  {
   "cell_type": "code",
   "execution_count": 20,
   "metadata": {
    "collapsed": false
   },
   "outputs": [],
   "source": [
    "one_to_ten = range(1,11)"
   ]
  },
  {
   "cell_type": "code",
   "execution_count": 21,
   "metadata": {
    "collapsed": false
   },
   "outputs": [
    {
     "data": {
      "text/plain": [
       "list"
      ]
     },
     "execution_count": 21,
     "metadata": {},
     "output_type": "execute_result"
    }
   ],
   "source": [
    "type(one_to_ten)"
   ]
  },
  {
   "cell_type": "code",
   "execution_count": 22,
   "metadata": {
    "collapsed": false
   },
   "outputs": [
    {
     "data": {
      "text/plain": [
       "xrange(1, 11)"
      ]
     },
     "execution_count": 22,
     "metadata": {},
     "output_type": "execute_result"
    }
   ],
   "source": [
    "# generator or iterator\n",
    "xrange(1,11)"
   ]
  },
  {
   "cell_type": "code",
   "execution_count": 23,
   "metadata": {
    "collapsed": false
   },
   "outputs": [
    {
     "data": {
      "text/plain": [
       "xrange"
      ]
     },
     "execution_count": 23,
     "metadata": {},
     "output_type": "execute_result"
    }
   ],
   "source": [
    "type(xrange(1,11))"
   ]
  },
  {
   "cell_type": "code",
   "execution_count": 24,
   "metadata": {
    "collapsed": false
   },
   "outputs": [
    {
     "name": "stdout",
     "output_type": "stream",
     "text": [
      "Crawling page 1\n",
      "Crawling page 2\n",
      "Crawling page 3\n",
      "Crawling page 4\n",
      "Crawling page 5\n",
      "Crawling page 6\n",
      "Crawling page 7\n",
      "Crawling page 8\n",
      "Crawling page 9\n",
      "Crawling page 10\n"
     ]
    }
   ],
   "source": [
    "# let's crawl 10 pages of Appledaily\n",
    "for page in range(1,11):\n",
    "    print \"Crawling page {}\".format(page)"
   ]
  },
  {
   "cell_type": "code",
   "execution_count": 25,
   "metadata": {
    "collapsed": false
   },
   "outputs": [
    {
     "name": "stdout",
     "output_type": "stream",
     "text": [
      "Crawling page 1\n",
      "Crawling page 2\n",
      "Crawling page 3\n",
      "Crawling page 4\n",
      "Crawling page 5\n",
      "Crawling page 6\n",
      "Crawling page 7\n",
      "Crawling page 8\n",
      "Crawling page 9\n",
      "Crawling page 10\n"
     ]
    }
   ],
   "source": [
    "# let's crawl 10 pages of Appledaily\n",
    "URL = \"http://www.appledaily.com.tw/realtimenews/section/new/\"\n",
    "for page in range(1,11):\n",
    "    # page is type int\n",
    "    print \"Crawling page {}\".format(page)\n",
    "    #current_url = URL + page"
   ]
  },
  {
   "cell_type": "code",
   "execution_count": 26,
   "metadata": {
    "collapsed": true
   },
   "outputs": [],
   "source": [
    "def list_crawler(url):\n",
    "    \"\"\" This is a function that crawls the list page of appledaily news\n",
    "        Args:\n",
    "             url: The url of news list page\n",
    "        Return:\n",
    "             article_url_list: list of article urls\n",
    "    \"\"\"\n",
    "    article_url_list = []\n",
    "    res = r.get(url)\n",
    "    soup = BeautifulSoup(res.text, 'lxml')\n",
    "    news_list = soup.find_all('li', class_='rtddt')\n",
    "    for news in news_list:\n",
    "        print news.font.text\n",
    "        # news.a['href'] does not include host http://www.appledaily.com.tw\n",
    "        print \"http://www.appledaily.com.tw\" + news.a['href']\n",
    "        article_url_list.append(\"http://www.appledaily.com.tw\" + news.a['href'])\n",
    "    return article_url_list"
   ]
  },
  {
   "cell_type": "code",
   "execution_count": 27,
   "metadata": {
    "collapsed": false,
    "scrolled": true
   },
   "outputs": [
    {
     "name": "stdout",
     "output_type": "stream",
     "text": [
      "​500人以上企業應聘體育人員　中油台糖...(0)\n",
      "http://www.appledaily.com.tw/realtimenews/article/politics/20160826/936259/​500人以上企業應聘體育人員　中油台糖掛零\n",
      "【你爆蘋果報】香吉士是你？！　叼菸料理烤...(0)\n",
      "http://www.appledaily.com.tw/realtimenews/article/life/20160826/936193/【你爆蘋果報】香吉士是你？！　叼菸料理烤鴨還加料\n",
      "酒駕丟金鍊嗆警　假霸哥一秒變爸寶(0)\n",
      "http://www.appledaily.com.tw/realtimenews/article/local/20160826/936254/酒駕丟金鍊嗆警　假霸哥一秒變爸寶\n",
      "【特企】韓國歐爸有撇步!? 教你如何當個 (1489)\n",
      "http://www.appledaily.com.twhttp://www.appledaily.com.tw/realtimenews/article/life/20160826/935880/\n",
      "連這款米呀也要偷　狡辯載錯東西擺錯位(0)\n",
      "http://www.appledaily.com.tw/realtimenews/article/local/20160826/936255/連這款米呀也要偷　狡辯載錯東西擺錯位\n",
      "英全不滿意度破5成　朝野立委呼籲調整閣員(0)\n",
      "http://www.appledaily.com.tw/realtimenews/article/politics/20160826/936257/英全不滿意度破5成　朝野立委呼籲調整閣員\n",
      "轎車失控撞飛對向機車　騎士摔溪底獲救(274)\n",
      "http://www.appledaily.com.tw/realtimenews/article/local/20160826/936260/轎車失控撞飛對向機車　騎士摔溪底獲救\n",
      "強哥分手費給得不乾脆　嫩妻要他加倍償還(78)\n",
      "http://www.appledaily.com.tw/realtimenews/article/entertainment/20160826/936181/強哥分手費給得不乾脆　嫩妻要他加倍償還\n",
      "大創熱賣的這商品老缺貨？原來是這個原因(0)\n",
      "http://www.appledaily.com.tw/realtimenews/article/life/20160826/936269/大創熱賣的這商品老缺貨？原來是這個原因\n",
      "台灣智庫公布蔡政府百日民調　滿意度跌破五...(45)\n",
      "http://www.appledaily.com.tw/realtimenews/article/politics/20160826/936267/台灣智庫公布蔡政府百日民調　滿意度跌破五成\n",
      "​護理師工時長　美女把制服脫了轉行(0)\n",
      "http://www.appledaily.com.tw/realtimenews/article/life/20160826/936270/​護理師工時長　美女把制服脫了轉行\n",
      "司法院正副院長定案　蔡英文決定提名許宗力...(1226)\n",
      "http://www.appledaily.com.tw/realtimenews/article/politics/20160826/936242/司法院正副院長定案　蔡英文決定提名許宗力、蔡烱燉\n",
      "KD叛逃太難過　「杜蘭特」市面臨改名命運(39)\n",
      "http://www.appledaily.com.tw/realtimenews/article/sports/20160826/936266/KD叛逃太難過　「杜蘭特」市面臨改名命運\n",
      "台股盤中～靜待葉倫演說　震盪盤堅(113)\n",
      "http://www.appledaily.com.tw/realtimenews/article/finance/20160826/936264/台股盤中～靜待葉倫演說　震盪盤堅\n",
      "四物湯催生子宮肌瘤？中醫師公會有話說(0)\n",
      "http://www.appledaily.com.tw/realtimenews/article/life/20160826/936273/四物湯催生子宮肌瘤？中醫師公會有話說\n",
      "【央廣RTI】Uber上半年虧損至少12...(498)\n",
      "http://www.appledaily.com.tw/realtimenews/article/international/20160826/936250/【央廣RTI】Uber上半年虧損至少12.7億美元\n",
      "88歲老婦失蹤4天　山林草叢尋獲幸無礙(318)\n",
      "http://www.appledaily.com.tw/realtimenews/article/local/20160826/936253/88歲老婦失蹤4天　山林草叢尋獲幸無礙\n",
      "總統府親子日　蔡英文抱嬰兒歡樂合照(255)\n",
      "http://www.appledaily.com.tw/realtimenews/article/politics/20160826/936256/總統府親子日　蔡英文抱嬰兒歡樂合照\n",
      "尼泊爾巴士墜河　至少20死17傷(80)\n",
      "http://www.appledaily.com.tw/realtimenews/article/international/20160826/936262/尼泊爾巴士墜河　至少20死17傷\n",
      "卸任國策顧問10月提案　推「馬習」角逐諾...(188)\n",
      "http://www.appledaily.com.tw/realtimenews/article/politics/20160826/936246/卸任國策顧問10月提案　推「馬習」角逐諾貝爾和平獎\n",
      "【民報 邱萬興專欄】民進黨組黨的「十人秘...(242)\n",
      "http://www.appledaily.com.tw/realtimenews/article/politics/20160826/936261/【民報邱萬興專欄】民進黨組黨的「十人秘密小組」\n",
      "油墨工廠延燒500坪　烈焰燒毀4屋(10402)\n",
      "http://www.appledaily.com.tw/realtimenews/article/local/20160826/936119/油墨工廠延燒500坪　烈焰燒毀4屋\n",
      "男學生疑感情因素　住家頂墜樓送醫不治(18068)\n",
      "http://www.appledaily.com.tw/realtimenews/article/local/20160826/936137/男學生疑感情因素　住家頂墜樓送醫不治\n",
      "好大！血月高掛紐約夜空　(1160)\n",
      "http://www.appledaily.com.tw/realtimenews/article/international/20160826/936235/好大！血月高掛紐約夜空　\n",
      "【無良詐騙】「踩到血要祈福消災」　華老婦...(478)\n",
      "http://www.appledaily.com.tw/realtimenews/article/international/20160826/936180/【無良詐騙】「踩到血要祈福消災」　華老婦棺材本遭騙\n",
      "【央廣RTI】世衛組織：里約奧運無茲卡確...(124)\n",
      "http://www.appledaily.com.tw/realtimenews/article/international/20160826/936245/【央廣RTI】世衛組織：里約奧運無茲卡確診病例\n",
      "【MV風波】玖壹壹遭外籍人士砲轟　先切割...(2048)\n",
      "http://www.appledaily.com.tw/realtimenews/article/entertainment/20160826/936191/【MV風波】玖壹壹遭外籍人士砲轟　先切割黃明志後道歉\n",
      "薛澤飆10K撐8局無失分　救了國民牛棚(608)\n",
      "http://www.appledaily.com.tw/realtimenews/article/sports/20160826/936244/薛澤飆10K撐8局無失分　救了國民牛棚\n",
      "全球最新世代A350 XWB　第三季將交...(1030)\n",
      "http://www.appledaily.com.tw/realtimenews/article/life/20160826/936243/全球最新世代A350XWB　第三季將交機給華航\n",
      "世上最難訂餐廳爆家族內訌　Rao's前途...(1414)\n",
      "http://www.appledaily.com.tw/realtimenews/article/international/20160826/936196/世上最難訂餐廳爆家族內訌　Rao's前途未卜\n",
      "龍千玉「愛兒病情穩定」　滿滿感謝報平安(1746)\n",
      "http://www.appledaily.com.tw/realtimenews/article/entertainment/20160826/936232/龍千玉「愛兒病情穩定」　滿滿感謝報平安\n"
     ]
    }
   ],
   "source": [
    "url_list = list_crawler(\"http://www.appledaily.com.tw/realtimenews/section/new/1\")"
   ]
  },
  {
   "cell_type": "code",
   "execution_count": 28,
   "metadata": {
    "collapsed": false
   },
   "outputs": [
    {
     "name": "stdout",
     "output_type": "stream",
     "text": [
      "http://www.appledaily.com.tw/realtimenews/article/politics/20160826/936259/​500人以上企業應聘體育人員　中油台糖掛零\n",
      "http://www.appledaily.com.tw/realtimenews/article/life/20160826/936193/【你爆蘋果報】香吉士是你？！　叼菸料理烤鴨還加料\n",
      "http://www.appledaily.com.tw/realtimenews/article/local/20160826/936254/酒駕丟金鍊嗆警　假霸哥一秒變爸寶\n",
      "http://www.appledaily.com.twhttp://www.appledaily.com.tw/realtimenews/article/life/20160826/935880/\n",
      "http://www.appledaily.com.tw/realtimenews/article/local/20160826/936255/連這款米呀也要偷　狡辯載錯東西擺錯位\n",
      "http://www.appledaily.com.tw/realtimenews/article/politics/20160826/936257/英全不滿意度破5成　朝野立委呼籲調整閣員\n",
      "http://www.appledaily.com.tw/realtimenews/article/local/20160826/936260/轎車失控撞飛對向機車　騎士摔溪底獲救\n",
      "http://www.appledaily.com.tw/realtimenews/article/entertainment/20160826/936181/強哥分手費給得不乾脆　嫩妻要他加倍償還\n",
      "http://www.appledaily.com.tw/realtimenews/article/life/20160826/936269/大創熱賣的這商品老缺貨？原來是這個原因\n",
      "http://www.appledaily.com.tw/realtimenews/article/politics/20160826/936267/台灣智庫公布蔡政府百日民調　滿意度跌破五成\n",
      "http://www.appledaily.com.tw/realtimenews/article/life/20160826/936270/​護理師工時長　美女把制服脫了轉行\n",
      "http://www.appledaily.com.tw/realtimenews/article/politics/20160826/936242/司法院正副院長定案　蔡英文決定提名許宗力、蔡烱燉\n",
      "http://www.appledaily.com.tw/realtimenews/article/sports/20160826/936266/KD叛逃太難過　「杜蘭特」市面臨改名命運\n",
      "http://www.appledaily.com.tw/realtimenews/article/finance/20160826/936264/台股盤中～靜待葉倫演說　震盪盤堅\n",
      "http://www.appledaily.com.tw/realtimenews/article/life/20160826/936273/四物湯催生子宮肌瘤？中醫師公會有話說\n",
      "http://www.appledaily.com.tw/realtimenews/article/international/20160826/936250/【央廣RTI】Uber上半年虧損至少12.7億美元\n",
      "http://www.appledaily.com.tw/realtimenews/article/local/20160826/936253/88歲老婦失蹤4天　山林草叢尋獲幸無礙\n",
      "http://www.appledaily.com.tw/realtimenews/article/politics/20160826/936256/總統府親子日　蔡英文抱嬰兒歡樂合照\n",
      "http://www.appledaily.com.tw/realtimenews/article/international/20160826/936262/尼泊爾巴士墜河　至少20死17傷\n",
      "http://www.appledaily.com.tw/realtimenews/article/politics/20160826/936246/卸任國策顧問10月提案　推「馬習」角逐諾貝爾和平獎\n",
      "http://www.appledaily.com.tw/realtimenews/article/politics/20160826/936261/【民報邱萬興專欄】民進黨組黨的「十人秘密小組」\n",
      "http://www.appledaily.com.tw/realtimenews/article/local/20160826/936119/油墨工廠延燒500坪　烈焰燒毀4屋\n",
      "http://www.appledaily.com.tw/realtimenews/article/local/20160826/936137/男學生疑感情因素　住家頂墜樓送醫不治\n",
      "http://www.appledaily.com.tw/realtimenews/article/international/20160826/936235/好大！血月高掛紐約夜空　\n",
      "http://www.appledaily.com.tw/realtimenews/article/international/20160826/936180/【無良詐騙】「踩到血要祈福消災」　華老婦棺材本遭騙\n",
      "http://www.appledaily.com.tw/realtimenews/article/international/20160826/936245/【央廣RTI】世衛組織：里約奧運無茲卡確診病例\n",
      "http://www.appledaily.com.tw/realtimenews/article/entertainment/20160826/936191/【MV風波】玖壹壹遭外籍人士砲轟　先切割黃明志後道歉\n",
      "http://www.appledaily.com.tw/realtimenews/article/sports/20160826/936244/薛澤飆10K撐8局無失分　救了國民牛棚\n",
      "http://www.appledaily.com.tw/realtimenews/article/life/20160826/936243/全球最新世代A350XWB　第三季將交機給華航\n",
      "http://www.appledaily.com.tw/realtimenews/article/international/20160826/936196/世上最難訂餐廳爆家族內訌　Rao's前途未卜\n",
      "http://www.appledaily.com.tw/realtimenews/article/entertainment/20160826/936232/龍千玉「愛兒病情穩定」　滿滿感謝報平安\n"
     ]
    }
   ],
   "source": [
    "for url in url_list:\n",
    "    print url"
   ]
  },
  {
   "cell_type": "code",
   "execution_count": 29,
   "metadata": {
    "collapsed": true
   },
   "outputs": [],
   "source": [
    "def parse_article(url):\n",
    "    \"\"\"This function extracts the title and content of the news article\n",
    "       Args:\n",
    "            url: url of the article\n",
    "       Return:\n",
    "            art_dict: dictionary of artilce title and content\n",
    "            \n",
    "            art_dict = {\n",
    "                'title': \"I am a title\",\n",
    "                'content': \"This is the content of the news artile\",\n",
    "                'pub_date': \"2016年08月26日09:15\",\n",
    "                'category': \"sports\"\n",
    "            }\n",
    "    \n",
    "    \"\"\"\n",
    "    art_dict = {}\n",
    "    res = r.get(url)\n",
    "    soup = BeautifulSoup(res.text, 'lxml')\n",
    "    art_dict['title'] = soup.find(id='h1').text\n",
    "    art_dict['content'] = soup.find(id='summary').text\n",
    "    art_dict['pub_date'] = soup.find('time').text\n",
    "#     print url\n",
    "#     print url.split('/')\n",
    "#     print url.split('/')[5]\n",
    "    art_dict['category'] = url.split('/')[5]\n",
    "    return art_dict"
   ]
  },
  {
   "cell_type": "code",
   "execution_count": 30,
   "metadata": {
    "collapsed": false
   },
   "outputs": [],
   "source": [
    "article_dict = parse_article(\"http://www.appledaily.com.tw/realtimenews/article/sports/20160826/936183/%E7%B6%93%E5%85%B8%E8%B3%BD%E5%85%A8%E8%B3%BD%E7%A8%8B%E5%87%BA%E7%88%90%E3%80%80%E6%9C%80%E7%B5%82%E6%B1%BA%E6%88%B0%E9%81%93%E5%A5%87%E7%90%83%E5%A0%B4\")"
   ]
  },
  {
   "cell_type": "code",
   "execution_count": null,
   "metadata": {
    "collapsed": false,
    "scrolled": true
   },
   "outputs": [
    {
     "name": "stdout",
     "output_type": "stream",
     "text": [
      "經典賽全賽程出爐　最終決戰道奇球場\n",
      "2017年經典賽(World Baseball Classic，簡稱WBC)先前已先確定亞洲部份賽程，大聯盟今天公布完整賽程與場地資訊，準決賽與決賽將在道奇球場舉行，這也是道奇球場繼2009年之後，再度舉行經典賽決賽。影片：2017經典賽決戰將在道奇球場舉行Your browser does not support iframes.台灣隊首輪將在首爾高尺巨蛋與前屆同組的南韓、荷蘭，以及剩一組的資格賽勝出者(推測是巴西)，力拼前兩名晉級下一輪，如果能創造歷史、挺到最後一關，將在台灣時間3月21~23日在道奇球場出賽。連結：2017經典賽PDF檔2017經典賽各區各組賽日阿與場地如下，均為當地日期，A組，3月7~10日，東京巨蛋參賽國：澳洲、中國、古巴、日本B組：3月7~10日，首爾高尺巨蛋參賽國：台灣、南韓、荷蘭、最後一個資格賽名額(9月22~25在紐約布魯克林，由巴西、英國、以色列、巴基斯坦競爭最後一個名額)C組：3月9~12日，邁阿密馬林魚球場參賽國：加拿大、哥倫比亞、多明尼加、美國D組：3月9~12日，墨西哥爪達拉哈市哈利斯科運動場參賽國：義大利、墨西哥、波多黎各、委內瑞拉E組8強賽：3月12~15日，東京巨蛋參賽國：A、B組前兩名球隊F組8強賽：3月14~18日，聖地牙哥PETCO球場參賽國：C、D組前兩名球隊準決賽與決賽：3月20~22日，洛杉磯道奇球場F組第一對E組第二、E組第一對F組第二，勝者爭冠(謝岱穎／綜合報導)\n",
      "2016年08月26日09:15\n",
      "sports\n"
     ]
    }
   ],
   "source": [
    "#print article_dict\n",
    "print article_dict['title']\n",
    "print article_dict['content']\n",
    "print article_dict['pub_date']\n",
    "print article_dict['category']"
   ]
  },
  {
   "cell_type": "code",
   "execution_count": null,
   "metadata": {
    "collapsed": false
   },
   "outputs": [
    {
     "name": "stdout",
     "output_type": "stream",
     "text": [
      "Crawling page 1\n",
      "Current url is http://www.appledaily.com.tw/realtimenews/section/new/1\n",
      "​500人以上企業應聘體育人員　中油台糖...(0)\n",
      "http://www.appledaily.com.tw/realtimenews/article/politics/20160826/936259/​500人以上企業應聘體育人員　中油台糖掛零\n",
      "【你爆蘋果報】香吉士是你？！　叼菸料理烤...(0)\n",
      "http://www.appledaily.com.tw/realtimenews/article/life/20160826/936193/【你爆蘋果報】香吉士是你？！　叼菸料理烤鴨還加料\n",
      "酒駕丟金鍊嗆警　假霸哥一秒變爸寶(0)\n",
      "http://www.appledaily.com.tw/realtimenews/article/local/20160826/936254/酒駕丟金鍊嗆警　假霸哥一秒變爸寶\n",
      "【特企】韓國歐爸有撇步!? 教你如何當個 (1489)\n",
      "http://www.appledaily.com.twhttp://www.appledaily.com.tw/realtimenews/article/life/20160826/935880/\n",
      "連這款米呀也要偷　狡辯載錯東西擺錯位(0)\n",
      "http://www.appledaily.com.tw/realtimenews/article/local/20160826/936255/連這款米呀也要偷　狡辯載錯東西擺錯位\n",
      "英全不滿意度破5成　朝野立委呼籲調整閣員(0)\n",
      "http://www.appledaily.com.tw/realtimenews/article/politics/20160826/936257/英全不滿意度破5成　朝野立委呼籲調整閣員\n",
      "轎車失控撞飛對向機車　騎士摔溪底獲救(274)\n",
      "http://www.appledaily.com.tw/realtimenews/article/local/20160826/936260/轎車失控撞飛對向機車　騎士摔溪底獲救\n",
      "強哥分手費給得不乾脆　嫩妻要他加倍償還(78)\n",
      "http://www.appledaily.com.tw/realtimenews/article/entertainment/20160826/936181/強哥分手費給得不乾脆　嫩妻要他加倍償還\n",
      "大創熱賣的這商品老缺貨？原來是這個原因(0)\n",
      "http://www.appledaily.com.tw/realtimenews/article/life/20160826/936269/大創熱賣的這商品老缺貨？原來是這個原因\n",
      "台灣智庫公布蔡政府百日民調　滿意度跌破五...(45)\n",
      "http://www.appledaily.com.tw/realtimenews/article/politics/20160826/936267/台灣智庫公布蔡政府百日民調　滿意度跌破五成\n",
      "​護理師工時長　美女把制服脫了轉行(0)\n",
      "http://www.appledaily.com.tw/realtimenews/article/life/20160826/936270/​護理師工時長　美女把制服脫了轉行\n",
      "司法院正副院長定案　蔡英文決定提名許宗力...(1226)\n",
      "http://www.appledaily.com.tw/realtimenews/article/politics/20160826/936242/司法院正副院長定案　蔡英文決定提名許宗力、蔡烱燉\n",
      "KD叛逃太難過　「杜蘭特」市面臨改名命運(39)\n",
      "http://www.appledaily.com.tw/realtimenews/article/sports/20160826/936266/KD叛逃太難過　「杜蘭特」市面臨改名命運\n",
      "台股盤中～靜待葉倫演說　震盪盤堅(113)\n",
      "http://www.appledaily.com.tw/realtimenews/article/finance/20160826/936264/台股盤中～靜待葉倫演說　震盪盤堅\n",
      "四物湯催生子宮肌瘤？中醫師公會有話說(0)\n",
      "http://www.appledaily.com.tw/realtimenews/article/life/20160826/936273/四物湯催生子宮肌瘤？中醫師公會有話說\n",
      "【央廣RTI】Uber上半年虧損至少12...(498)\n",
      "http://www.appledaily.com.tw/realtimenews/article/international/20160826/936250/【央廣RTI】Uber上半年虧損至少12.7億美元\n",
      "88歲老婦失蹤4天　山林草叢尋獲幸無礙(318)\n",
      "http://www.appledaily.com.tw/realtimenews/article/local/20160826/936253/88歲老婦失蹤4天　山林草叢尋獲幸無礙\n",
      "總統府親子日　蔡英文抱嬰兒歡樂合照(255)\n",
      "http://www.appledaily.com.tw/realtimenews/article/politics/20160826/936256/總統府親子日　蔡英文抱嬰兒歡樂合照\n",
      "尼泊爾巴士墜河　至少20死17傷(80)\n",
      "http://www.appledaily.com.tw/realtimenews/article/international/20160826/936262/尼泊爾巴士墜河　至少20死17傷\n",
      "卸任國策顧問10月提案　推「馬習」角逐諾...(188)\n",
      "http://www.appledaily.com.tw/realtimenews/article/politics/20160826/936246/卸任國策顧問10月提案　推「馬習」角逐諾貝爾和平獎\n",
      "【民報 邱萬興專欄】民進黨組黨的「十人秘...(242)\n",
      "http://www.appledaily.com.tw/realtimenews/article/politics/20160826/936261/【民報邱萬興專欄】民進黨組黨的「十人秘密小組」\n",
      "油墨工廠延燒500坪　烈焰燒毀4屋(10402)\n",
      "http://www.appledaily.com.tw/realtimenews/article/local/20160826/936119/油墨工廠延燒500坪　烈焰燒毀4屋\n",
      "男學生疑感情因素　住家頂墜樓送醫不治(18068)\n",
      "http://www.appledaily.com.tw/realtimenews/article/local/20160826/936137/男學生疑感情因素　住家頂墜樓送醫不治\n",
      "好大！血月高掛紐約夜空　(1160)\n",
      "http://www.appledaily.com.tw/realtimenews/article/international/20160826/936235/好大！血月高掛紐約夜空　\n",
      "【無良詐騙】「踩到血要祈福消災」　華老婦...(478)\n",
      "http://www.appledaily.com.tw/realtimenews/article/international/20160826/936180/【無良詐騙】「踩到血要祈福消災」　華老婦棺材本遭騙\n",
      "【央廣RTI】世衛組織：里約奧運無茲卡確...(124)\n",
      "http://www.appledaily.com.tw/realtimenews/article/international/20160826/936245/【央廣RTI】世衛組織：里約奧運無茲卡確診病例\n",
      "【MV風波】玖壹壹遭外籍人士砲轟　先切割...(2048)\n",
      "http://www.appledaily.com.tw/realtimenews/article/entertainment/20160826/936191/【MV風波】玖壹壹遭外籍人士砲轟　先切割黃明志後道歉\n",
      "薛澤飆10K撐8局無失分　救了國民牛棚(608)\n",
      "http://www.appledaily.com.tw/realtimenews/article/sports/20160826/936244/薛澤飆10K撐8局無失分　救了國民牛棚\n",
      "全球最新世代A350 XWB　第三季將交...(1030)\n",
      "http://www.appledaily.com.tw/realtimenews/article/life/20160826/936243/全球最新世代A350XWB　第三季將交機給華航\n",
      "世上最難訂餐廳爆家族內訌　Rao's前途...(1414)\n",
      "http://www.appledaily.com.tw/realtimenews/article/international/20160826/936196/世上最難訂餐廳爆家族內訌　Rao's前途未卜\n",
      "龍千玉「愛兒病情穩定」　滿滿感謝報平安(1746)\n",
      "http://www.appledaily.com.tw/realtimenews/article/entertainment/20160826/936232/龍千玉「愛兒病情穩定」　滿滿感謝報平安\n",
      "HTTPConnectionPool(host='www.appledaily.com.twhttp', port=80): Max retries exceeded with url: //www.appledaily.com.tw/realtimenews/article/life/20160826/935880/ (Caused by NewConnectionError('<requests.packages.urllib3.connection.HTTPConnection object at 0x0000000005FC4E48>: Failed to establish a new connection: [Errno 11004] getaddrinfo failed',))\n",
      "Crawling page 2\n",
      "Current url is http://www.appledaily.com.tw/realtimenews/section/new/2\n",
      "邱素貞瑜伽惡性倒閉　消保處：團訟受理至月...(303)\n",
      "http://www.appledaily.com.tw/realtimenews/article/life/20160826/936247/邱素貞瑜伽惡性倒閉　消保處：團訟受理至月底\n",
      "【照片說故事】警察在洗碗槽內洗baby ...(10283)\n",
      "http://www.appledaily.com.tw/realtimenews/article/international/20160826/936138/【照片說故事】警察在洗碗槽內洗baby　真相是...\n",
      "驅離過10次仍不怕　陸船越界捕魚遭海巡押...(1104)\n",
      "http://www.appledaily.com.tw/realtimenews/article/local/20160826/936222/驅離過10次仍不怕　陸船越界捕魚遭海巡押回\n",
      "追中信金掏空案　特偵再訊主秘陳永晉(497)\n",
      "http://www.appledaily.com.tw/realtimenews/article/local/20160826/936230/追中信金掏空案　特偵再訊主秘陳永晉\n",
      "【遭重罰不意外？】前員工爆兆豐法務人員制...(1668)\n",
      "http://www.appledaily.com.tw/realtimenews/article/finance/20160826/936241/【遭重罰不意外？】前員工爆兆豐法務人員制度多項缺失\n",
      "鬍子男胡歌站台伯爵　表情超多der～(672)\n",
      "http://www.appledaily.com.tw/realtimenews/article/fashion/20160826/936185/鬍子男胡歌站台伯爵　表情超多der～\n",
      "慶騎士隊史首冠　玉米田變奪冠主題大型迷宮(360)\n",
      "http://www.appledaily.com.tw/realtimenews/article/sports/20160826/936240/慶騎士隊史首冠　玉米田變奪冠主題大型迷宮\n",
      "南沙群島今高溫達48.1℃？　氣象局：儀...(817)\n",
      "http://www.appledaily.com.tw/realtimenews/article/life/20160826/936237/南沙群島今高溫達48.1℃？　氣象局：儀器故障\n",
      "韓樂天副會長　接受檢方調查前驚傳自殺亡(2829)\n",
      "http://www.appledaily.com.tw/realtimenews/article/international/20160826/936227/韓樂天副會長　接受檢方調查前驚傳自殺亡\n",
      "台中沙鹿青沐寬  微森林生機別墅(795)\n",
      "http://www.appledaily.com.tw/realtimenews/article/property/20160826/936175/台中沙鹿青沐寬微森林生機別墅\n",
      "【巷仔口社會學】遊戲之外：Pokémon...(316)\n",
      "http://www.appledaily.com.tw/realtimenews/article/forum/20160826/936238/【巷仔口社會學】遊戲之外：Pokémon、隱私與國家安全\n",
      "【淑薇真心話】臉書賀莊佳容：拿下冠軍吧！(3226)\n",
      "http://www.appledaily.com.tw/realtimenews/article/sports/20160826/936234/【淑薇真心話】臉書賀莊佳容：拿下冠軍吧！\n",
      "【悲苦】醫院拒運送　男扛妻遺體走12公里...(16409)\n",
      "http://www.appledaily.com.tw/realtimenews/article/international/20160826/936133/【悲苦】醫院拒運送　男扛妻遺體走12公里回家\n",
      "SONY怎會沒有輕旗艦　傳X Compa...(734)\n",
      "http://www.appledaily.com.tw/realtimenews/article/finance/20160826/936236/SONY怎會沒有輕旗艦　傳XCompact有譜\n",
      "重現失傳「蹺功」絕技！劉子微《三寸金蓮》...(5072)\n",
      "http://www.appledaily.com.tw/realtimenews/article/international/20160826/936129/重現失傳「蹺功」絕技！劉子微《三寸金蓮》紐約首演\n",
      "【男女老實說】「那個味道很臭」讓女生不喜...(14611)\n",
      "http://www.appledaily.com.tw/realtimenews/article/life/20160826/933448/【男女老實說】「那個味道很臭」讓女生不喜歡\n",
      "加拿大驚傳十字弓凶殺案　3死1傷(984)\n",
      "http://www.appledaily.com.tw/realtimenews/article/international/20160826/936220/加拿大驚傳十字弓凶殺案　3死1傷\n",
      "步姊腰瘦秀辣照　罩杯UP大過頭(3758)\n",
      "http://www.appledaily.com.tw/realtimenews/article/entertainment/20160826/936024/步姊腰瘦秀辣照　罩杯UP大過頭\n",
      "中颱獅子山發威　大台北恐飆37℃高溫(1691)\n",
      "http://www.appledaily.com.tw/realtimenews/article/life/20160826/936229/中颱獅子山發威　大台北恐飆37℃高溫\n",
      "男女大橋上活春宮　駕駛路過看了好興奮(9123)\n",
      "http://www.appledaily.com.tw/realtimenews/article/international/20160826/936203/男女大橋上活春宮　駕駛路過看了好興奮\n",
      "【民報】演習尬陣? 台灣漢光vs.日本富...(1141)\n",
      "http://www.appledaily.com.tw/realtimenews/article/international/20160826/936226/【民報】演習尬陣?台灣漢光vs.日本富士8月大拚場\n",
      "【你爆動畫報】愛犬遭公所誤抓　當天竟已火...(65549)\n",
      "http://www.appledaily.com.tw/realtimenews/article/life/20160826/936082/【你爆動畫報】愛犬遭公所誤抓　當天竟已火化\n",
      "【劣】向同志情侶潑滾燙熱水　美惡男判40...(1082)\n",
      "http://www.appledaily.com.tw/realtimenews/article/international/20160826/936178/【劣】向同志情侶潑滾燙熱水　美惡男判40年監禁\n",
      "康黴素超標2倍　林口「王承富牧場」8噸生...(904)\n",
      "http://www.appledaily.com.tw/realtimenews/article/life/20160826/936228/康黴素超標2倍　林口「王承富牧場」8噸生乳銷毀\n",
      "在國會玩寶可夢挨轟　挪威議員辯「可更專注...(683)\n",
      "http://www.appledaily.com.tw/realtimenews/article/international/20160826/936192/在國會玩寶可夢挨轟　挪威議員辯「可更專注」\n",
      "詹姆士跨足影視　自製電視劇和真人秀好夯(863)\n",
      "http://www.appledaily.com.tw/realtimenews/article/sports/20160826/936221/詹姆士跨足影視　自製電視劇和真人秀好夯\n",
      "【央廣RTI】1961年來頭一遭 捷藍3...(453)\n",
      "http://www.appledaily.com.tw/realtimenews/article/international/20160826/936217/【央廣RTI】1961年來頭一遭捷藍31日直飛古巴\n",
      "小心！蘋果手機系統遭駭　一點連結就「越獄...(2122)\n",
      "http://www.appledaily.com.tw/realtimenews/article/international/20160826/936216/小心！蘋果手機系統遭駭　一點連結就「越獄」\n",
      "【執政百日】《蘋果》民調：50％民眾不滿...(12081)\n",
      "http://www.appledaily.com.tw/realtimenews/article/politics/20160826/935919/【執政百日】《蘋果》民調：50％民眾不滿意蔡英文施政\n",
      "​乳癌怎麼治都復發　原來是基因突變讓治療...(1359)\n",
      "http://www.appledaily.com.tw/realtimenews/article/life/20160826/936219/​乳癌怎麼治都復發　原來是基因突變讓治療無效\n",
      "Crawling page 3\n",
      "Current url is http://www.appledaily.com.tw/realtimenews/section/new/3\n",
      "【民報】里約奧運檢討系列／別人帶廚師? ...(950)\n",
      "http://www.appledaily.com.tw/realtimenews/article/sports/20160826/936218/【民報】里約奧運檢討系列／別人帶廚師?台灣隊只能帶泡麵?\n",
      "【央廣RTI】哥倫比亞達和平協議 聯合國...(216)\n",
      "http://www.appledaily.com.tw/realtimenews/article/international/20160826/936208/【央廣RTI】哥倫比亞達和平協議聯合國開會因應\n",
      "【財訊】新政百日民調：年金改革忙茫盲　沒...(1479)\n",
      "http://www.appledaily.com.tw/realtimenews/article/politics/20160826/936213/【財訊】新政百日民調：年金改革忙茫盲　沒有方向\n",
      "東京奧運以「台灣」出賽　日網站連署破7成(8068)\n",
      "http://www.appledaily.com.tw/realtimenews/article/sports/20160826/936207/東京奧運以「台灣」出賽　日網站連署破7成\n",
      "【台灣英文新聞】東京膠囊旅館改頭換面　外...(977)\n",
      "http://www.appledaily.com.tw/realtimenews/article/international/20160826/936215/【台灣英文新聞】東京膠囊旅館改頭換面　外國遊客瘋體驗　\n",
      "護樹團控水利會違法賣地　恐害人瑞無家可歸(665)\n",
      "http://www.appledaily.com.tw/realtimenews/article/local/20160826/936085/護樹團控水利會違法賣地　恐害人瑞無家可歸\n",
      "【民報】根除Ｃ肝 全面啟動！(783)\n",
      "http://www.appledaily.com.tw/realtimenews/article/life/20160826/936212/【民報】根除Ｃ肝全面啟動！\n",
      "【已羨慕】台積電開獎　員工百萬分紅打掛科...(3635)\n",
      "http://www.appledaily.com.tw/realtimenews/article/finance/20160826/936209/【已羨慕】台積電開獎　員工百萬分紅打掛科技廠\n",
      "【壹週刊】西洋人怕鬼～林美秀想當鬼　原因...(3510)\n",
      "http://www.appledaily.com.tw/realtimenews/article/nextmag/20160826/935920/【壹週刊】西洋人怕鬼～林美秀想當鬼　原因好哀傷\n",
      "美選開跑後首次　民調：希拉蕊支持率逾半(652)\n",
      "http://www.appledaily.com.tw/realtimenews/article/international/20160826/936197/美選開跑後首次　民調：希拉蕊支持率逾半\n",
      "【執政百日】蔡英文出席員工家庭日 【蘋果...(1706)\n",
      "http://www.appledaily.com.tw/realtimenews/article/politics/20160826/936199/【執政百日】蔡英文出席員工家庭日【蘋果Live】10:30線上直播\n",
      "【央廣RTI】「維基解密」亞桑傑厄瓜多使...(300)\n",
      "http://www.appledaily.com.tw/realtimenews/article/international/20160826/936206/【央廣RTI】「維基解密」亞桑傑厄瓜多使館就訊\n",
      "皇家戴森沒收全壘打　馬林魚球場第一次(2521)\n",
      "http://www.appledaily.com.tw/realtimenews/article/sports/20160826/936205/皇家戴森沒收全壘打　馬林魚球場第一次\n",
      "【動畫重建】Fanny強國開房　被做了什...(45122)\n",
      "http://www.appledaily.com.tw/realtimenews/article/entertainment/20160826/935968/【動畫重建】Fanny強國開房　被做了什麼？\n",
      "奧運後首對決　莊佳容三盤勝謝淑薇　證明自...(119927)\n",
      "http://www.appledaily.com.tw/realtimenews/article/sports/20160826/936132/奧運後首對決　莊佳容三盤勝謝淑薇　證明自己\n",
      "【央廣RTI】黃石國家公園慶NPS百週年...(347)\n",
      "http://www.appledaily.com.tw/realtimenews/article/international/20160826/936200/【央廣RTI】黃石國家公園慶NPS百週年野火來攪局\n",
      "入秋首波冷空氣後天到　氣象達人：有點早(61033)\n",
      "http://www.appledaily.com.tw/realtimenews/article/life/20160826/936194/入秋首波冷空氣後天到　氣象達人：有點早\n",
      "【網路溫度計】膽小鬼勿進！大數據解密全台...(1126)\n",
      "http://www.appledaily.com.tw/realtimenews/article/life/20160826/936202/【網路溫度計】膽小鬼勿進！大數據解密全台十大鬼屋！\n",
      "不敵世界第17　盧彥勳單打無緣4強(923)\n",
      "http://www.appledaily.com.tw/realtimenews/article/sports/20160826/936201/不敵世界第17　盧彥勳單打無緣4強\n",
      "【奧運】暴龍明星後衛也不愛豪華郵輪　因為...(2415)\n",
      "http://www.appledaily.com.tw/realtimenews/article/sports/20160826/936195/【奧運】暴龍明星後衛也不愛豪華郵輪　因為他會....\n",
      "【壹週刊】菜瓜布可以做出指甲彩繪！Mag...(1989)\n",
      "http://www.appledaily.com.tw/realtimenews/article/nextmag/20160826/935307/【壹週刊】菜瓜布可以做出指甲彩繪！Magic～（驚）\n",
      "追不到人妻竟灌醉性侵　渣男竟辯你情我願(50284)\n",
      "http://www.appledaily.com.tw/realtimenews/article/local/20160826/935988/追不到人妻竟灌醉性侵　渣男竟辯你情我願\n",
      "【輸球後發文】莊佳容打不了奧運　謝淑薇：...(29401)\n",
      "http://www.appledaily.com.tw/realtimenews/article/sports/20160826/936189/【輸球後發文】莊佳容打不了奧運　謝淑薇：與我無關\n",
      "超可愛～小童潮穿H&M伴酷樂尬舞(760)\n",
      "http://www.appledaily.com.tw/realtimenews/article/fashion/20160826/936081/超可愛～小童潮穿H&M伴酷樂尬舞\n",
      "北投公園24小時實戰紀錄　網友驚：你觀光...(7366)\n",
      "http://www.appledaily.com.tw/realtimenews/article/life/20160826/936188/北投公園24小時實戰紀錄　網友驚：你觀光系？\n",
      "氣象達人：獅子山恐變強颱　往日本移動(1757)\n",
      "http://www.appledaily.com.tw/realtimenews/article/life/20160826/936187/氣象達人：獅子山恐變強颱　往日本移動\n",
      "巫師明星雙衛鬧不和　都是沃爾嫉妒心惹的禍(1932)\n",
      "http://www.appledaily.com.tw/realtimenews/article/sports/20160826/936190/巫師明星雙衛鬧不和　都是沃爾嫉妒心惹的禍\n",
      "機車擦撞大型吊車　騎士遭輾爆頭喪命(5136)\n",
      "http://www.appledaily.com.tw/realtimenews/article/local/20160826/936171/機車擦撞大型吊車　騎士遭輾爆頭喪命\n",
      "中颱獅子山今明最接近　北台灣午後轉有雨(49935)\n",
      "http://www.appledaily.com.tw/realtimenews/article/life/20160826/936148/中颱獅子山今明最接近　北台灣午後轉有雨\n",
      "比利時1運動場館爆炸　傳1死2傷(594)\n",
      "http://www.appledaily.com.tw/realtimenews/article/international/20160826/936184/比利時1運動場館爆炸　傳1死2傷\n",
      "Crawling page 4\n",
      "Current url is http://www.appledaily.com.tw/realtimenews/section/new/4\n",
      "勇嫂5個月孕肚曝光！明年初誕福星(7168)\n",
      "http://www.appledaily.com.tw/realtimenews/article/entertainment/20160826/936043/勇嫂5個月孕肚曝光！明年初誕福星\n",
      "鍾小平挑戰柯P　9月發動罷免台北市長(6141)\n",
      "http://www.appledaily.com.tw/realtimenews/article/politics/20160826/936174/鍾小平挑戰柯P　9月發動罷免台北市長\n",
      "漁船挨撞失蹤64小時　人船尋獲船長身亡(2692)\n",
      "http://www.appledaily.com.tw/realtimenews/article/local/20160826/936179/漁船挨撞失蹤64小時　人船尋獲船長身亡\n",
      "男人套上這個環　號稱生殖器硬挺12小時(11627)\n",
      "http://www.appledaily.com.tw/realtimenews/article/international/20160826/936176/男人套上這個環　號稱生殖器硬挺12小時\n",
      "經典賽全賽程出爐　最終決戰道奇球場(11470)\n",
      "http://www.appledaily.com.tw/realtimenews/article/sports/20160826/936183/經典賽全賽程出爐　最終決戰道奇球場\n",
      "【名家觀點】三立絕非最後1家　「傳統媒體...(22558)\n",
      "http://www.appledaily.com.tw/realtimenews/article/finance/20160826/936041/【名家觀點】三立絕非最後1家　「傳統媒體將血流成河」\n",
      "iPhone改全玻璃機殼好嗎？　康寧說性...(17586)\n",
      "http://www.appledaily.com.tw/realtimenews/article/finance/20160826/936122/iPhone改全玻璃機殼好嗎？　康寧說性能掛保證\n",
      "獅子山恐再增強　午後防局部大雨(2697)\n",
      "http://www.appledaily.com.tw/realtimenews/article/life/20160826/918085/獅子山恐再增強　午後防局部大雨\n",
      "長腿妹酒駕拒測又反悔　友人挑釁求警賞巴掌(14088)\n",
      "http://www.appledaily.com.tw/realtimenews/article/local/20160826/936152/長腿妹酒駕拒測又反悔　友人挑釁求警賞巴掌\n",
      "凌華董座：明年跳躍年　視頻監控、霧運算大...(931)\n",
      "http://www.appledaily.com.tw/realtimenews/article/finance/20160826/936116/凌華董座：明年跳躍年　視頻監控、霧運算大成長\n",
      "【旁白哥抓漏】整個八月如寶可夢一場(27719)\n",
      "http://www.appledaily.com.tw/realtimenews/article/entertainment/20160826/936121/【旁白哥抓漏】整個八月如寶可夢一場\n",
      "【壹週刊】萬花筒是他發明的(2982)\n",
      "http://www.appledaily.com.tw/realtimenews/article/nextmag/20160826/936020/【壹週刊】萬花筒是他發明的\n",
      "玻利維亞內政副部長　慘遭罷工礦工活活虐死(6735)\n",
      "http://www.appledaily.com.tw/realtimenews/article/international/20160826/936172/玻利維亞內政副部長　慘遭罷工礦工活活虐死\n",
      "漂浪島嶼 ：只聽不證聽證會，假的！(1211)\n",
      "http://www.appledaily.com.tw/realtimenews/article/forum/20160826/936173/漂浪島嶼：只聽不證聽證會，假的！\n",
      "【買房問蘋果】為孫砸老本　阿公憂農地可貸...(4780)\n",
      "http://www.appledaily.com.tw/realtimenews/article/property/20160826/935298/【買房問蘋果】為孫砸老本　阿公憂農地可貸款？\n",
      "扯！2年前虐兒成植物人　狠父又打斷女兒肋...(8836)\n",
      "http://www.appledaily.com.tw/realtimenews/article/local/20160826/936170/扯！2年前虐兒成植物人　狠父又打斷女兒肋骨\n",
      "【財訊】新政百日民調下滑　想想總統，應該...(4374)\n",
      "http://www.appledaily.com.tw/realtimenews/article/politics/20160826/935455/【財訊】新政百日民調下滑　想想總統，應該做一些改變了！\n",
      "義大利強震死250人　欲朝「人禍」搜查(4795)\n",
      "http://www.appledaily.com.tw/realtimenews/article/international/20160826/936169/義大利強震死250人　欲朝「人禍」搜查\n",
      "《我愛紅娘》配對佳偶　30年後變這樣(176021)\n",
      "http://www.appledaily.com.tw/realtimenews/article/strange/20160826/935983/《我愛紅娘》配對佳偶　30年後變這樣\n",
      "【獨家】蕭亞軒小鮮肉情郎起底　高球好手黑...(38640)\n",
      "http://www.appledaily.com.tw/realtimenews/article/entertainment/20160826/936104/【獨家】蕭亞軒小鮮肉情郎起底　高球好手黑壯帥\n",
      "地方爸爸第一次參加性愛趴　喝烈酒慘溺斃(14030)\n",
      "http://www.appledaily.com.tw/realtimenews/article/international/20160826/936167/地方爸爸第一次參加性愛趴　喝烈酒慘溺斃\n",
      " 【法廣RFI】李克強會見谷內正太郎協調...(803)\n",
      "http://www.appledaily.com.tw/realtimenews/article/international/20160826/936166/【法廣RFI】李克強會見谷內正太郎協調G20兩國首腦會談事宜\n",
      "阿公被4兇犬攻擊　慘遭生吃分屍難以辨識(49841)\n",
      "http://www.appledaily.com.tw/realtimenews/article/international/20160826/936162/阿公被4兇犬攻擊　慘遭生吃分屍難以辨識\n",
      "涉性騷又襲警　天啊！土國副代表已離台(10618)\n",
      "http://www.appledaily.com.tw/realtimenews/article/local/20160826/936163/涉性騷又襲警　天啊！土國副代表已離台\n",
      "PGA季後賽開打　首回合里德並列領先(671)\n",
      "http://www.appledaily.com.tw/realtimenews/article/sports/20160826/936165/PGA季後賽開打　首回合里德並列領先\n",
      "不顧妻懷孕產子　台壽保前董座之子大搞小三(35403)\n",
      "http://www.appledaily.com.tw/realtimenews/article/local/20160826/936151/不顧妻懷孕產子　台壽保前董座之子大搞小三\n",
      " 【法廣RFI】 意大利地震死亡人數升至...(1407)\n",
      "http://www.appledaily.com.tw/realtimenews/article/international/20160826/936164/【法廣RFI】意大利地震死亡人數升至250人\n",
      "LPGA加拿大女子公開賽　程思嘉並列37...(994)\n",
      "http://www.appledaily.com.tw/realtimenews/article/sports/20160826/936160/LPGA加拿大女子公開賽　程思嘉並列37台將最佳\n",
      "LINE群組傳最後遺言　模範警察自轟身亡(18103)\n",
      "http://www.appledaily.com.tw/realtimenews/article/local/20160826/936159/LINE群組傳最後遺言　模範警察自轟身亡\n",
      "美麗海岸變縱慾雜交　無恥辱吸吮「陰酒」(196082)\n",
      "http://www.appledaily.com.tw/realtimenews/article/international/20160826/936156/美麗海岸變縱慾雜交　無恥辱吸吮「陰酒」\n",
      "Crawling page 5\n",
      "Current url is http://www.appledaily.com.tw/realtimenews/section/new/5\n",
      "小英民調不滿意過半　科技老董有意見(18626)\n",
      "http://www.appledaily.com.tw/realtimenews/article/politics/20160826/936158/小英民調不滿意過半　科技老董有意見\n",
      "後輪無法離地　摩洛哥客機想飛卻飛不起來(9825)\n",
      "http://www.appledaily.com.tw/realtimenews/article/international/20160826/936150/後輪無法離地　摩洛哥客機想飛卻飛不起來\n",
      "驚！執政100天　蔡英文不滿意度過半(5261)\n",
      "http://www.appledaily.com.tw/realtimenews/article/politics/20160826/936154/驚！執政100天　蔡英文不滿意度過半\n",
      " 【法廣RFI】 半世紀內戰無贏家 哥倫...(1133)\n",
      "http://www.appledaily.com.tw/realtimenews/article/international/20160826/936157/【法廣RFI】半世紀內戰無贏家哥倫比亞終和平\n",
      "體重過重BMI逾30　小心13種癌症上身(7433)\n",
      "http://www.appledaily.com.tw/realtimenews/article/life/20160826/936153/體重過重BMI逾30　小心13種癌症上身\n",
      " 【法廣RFI】 巴西左翼執政13年歷史...(723)\n",
      "http://www.appledaily.com.tw/realtimenews/article/international/20160826/936155/【法廣RFI】巴西左翼執政13年歷史將會結束？\n",
      "【壹週刊】人渣文本觀點：部長喬事之怪現狀(4604)\n",
      "http://www.appledaily.com.tw/realtimenews/article/nextmag/20160826/935724/【壹週刊】人渣文本觀點：部長喬事之怪現狀\n",
      "【動畫晨報】戰火又添冤魂　  阿勒坡11...(41682)\n",
      "http://www.appledaily.com.tw/realtimenews/article/international/20160826/936123/【動畫晨報】戰火又添冤魂　阿勒坡11童遭桶裝炸彈奪命\n",
      "【壹週刊】養魚被罵玩物喪志　藥商小開拚成...(9922)\n",
      "http://www.appledaily.com.tw/realtimenews/article/nextmag/20160826/936100/【壹週刊】養魚被罵玩物喪志　藥商小開拚成石斑大王\n",
      "【壹週刊】CL、李秉憲都有　時尚後背包怎...(2647)\n",
      "http://www.appledaily.com.tw/realtimenews/article/nextmag/20160826/936019/【壹週刊】CL、李秉憲都有　時尚後背包怎能少\n",
      "八月二十六日世界各報頭條搶先報(1576)\n",
      "http://www.appledaily.com.tw/realtimenews/article/international/20160826/936149/八月二十六日世界各報頭條搶先報\n",
      "八月二十六日各報頭條搶先報(4012)\n",
      "http://www.appledaily.com.tw/realtimenews/article/politics/20160826/936147/八月二十六日各報頭條搶先報\n",
      "【壹週刊】先生驟逝　老店轉讓　空姐廚娘靠...(15783)\n",
      "http://www.appledaily.com.tw/realtimenews/article/nextmag/20160826/936102/【壹週刊】先生驟逝　老店轉讓　空姐廚娘靠此重新站起\n",
      "水湳夜市黑衣人爆衝突　警啟快打(30358)\n",
      "http://www.appledaily.com.tw/realtimenews/article/local/20160826/936125/水湳夜市黑衣人爆衝突　警啟快打\n",
      "【壹週刊】當男孩遇上流浪貓小花(2978)\n",
      "http://www.appledaily.com.tw/realtimenews/article/nextmag/20160826/935944/【壹週刊】當男孩遇上流浪貓小花\n",
      "【壹週刊】提籠五秒變汽座　狗狗安全上路(1506)\n",
      "http://www.appledaily.com.tw/realtimenews/article/nextmag/20160826/934384/【壹週刊】提籠五秒變汽座　狗狗安全上路\n",
      "八月二十六日財經焦點搶先看(3402)\n",
      "http://www.appledaily.com.tw/realtimenews/article/finance/20160826/936146/八月二十六日財經焦點搶先看\n",
      "【壹週刊】學會這三招　中秋烤魚烤蝦超簡單(8429)\n",
      "http://www.appledaily.com.tw/realtimenews/article/nextmag/20160826/935905/【壹週刊】學會這三招　中秋烤魚烤蝦超簡單\n",
      "【壹週刊】不生病的飲食法　4種東西少吃(21559)\n",
      "http://www.appledaily.com.tw/realtimenews/article/nextmag/20160826/935898/【壹週刊】不生病的飲食法　4種東西少吃\n",
      "洛克提傳遭巴西起訴　將被傳喚作證(2062)\n",
      "http://www.appledaily.com.tw/realtimenews/article/international/20160826/936145/洛克提傳遭巴西起訴　將被傳喚作證\n",
      "鋪路賣廣告　WhatsApp將分享用戶電...(1854)\n",
      "http://www.appledaily.com.tw/realtimenews/article/international/20160826/936144/鋪路賣廣告　WhatsApp將分享用戶電話給臉書\n",
      "小米又被控抄襲　藍芽喇叭酷似Mini J...(4546)\n",
      "http://www.appledaily.com.tw/realtimenews/article/international/20160826/936143/小米又被控抄襲　藍芽喇叭酷似MiniJambox\n",
      "老虎咬死人　陸動物園重開業遊客絡繹不絕(3938)\n",
      "http://www.appledaily.com.tw/realtimenews/article/international/20160826/936142/老虎咬死人　陸動物園重開業遊客絡繹不絕\n",
      "百度搜電話訂機票　陝西2女被詐騙10萬元(1939)\n",
      "http://www.appledaily.com.tw/realtimenews/article/international/20160826/936141/百度搜電話訂機票　陝西2女被詐騙10萬元\n",
      "伊朗連2日逼近美軍艦　美方3度開火示警(6818)\n",
      "http://www.appledaily.com.tw/realtimenews/article/international/20160826/936140/伊朗連2日逼近美軍艦　美方3度開火示警\n",
      "愛愛不願換姿勢　陸女遭男友痛打喊救命(24907)\n",
      "http://www.appledaily.com.tw/realtimenews/article/international/20160826/936136/愛愛不願換姿勢　陸女遭男友痛打喊救命\n",
      "睡天使醒惡魔：日本農村體驗 自己採收做咖...(3239)\n",
      "http://www.appledaily.com.tw/realtimenews/article/forum/20160826/936134/睡天使醒惡魔：日本農村體驗自己採收做咖哩飯\n",
      "H：追趕幽魂的詹皇(2291)\n",
      "http://www.appledaily.com.tw/realtimenews/article/forum/20160826/936135/H：追趕幽魂的詹皇\n",
      "彈劾案進入最後階段　羅塞夫命運30日表決(1156)\n",
      "http://www.appledaily.com.tw/realtimenews/article/international/20160826/936131/彈劾案進入最後階段　羅塞夫命運30日表決\n",
      "王寶強婚變12天首發微博　見到她笑到露齒(31373)\n",
      "http://www.appledaily.com.tw/realtimenews/article/entertainment/20160826/936128/王寶強婚變12天首發微博　見到她笑到露齒\n",
      "Crawling page 6\n",
      "Current url is http://www.appledaily.com.tw/realtimenews/section/new/6\n",
      "【蘋果數】南極冰川現8千個湖泊(6618)\n",
      "http://www.appledaily.com.tw/realtimenews/article/international/20160826/936130/【蘋果數】南極冰川現8千個湖泊\n",
      "【動畫】高鐵找回遺失行李　男怨損失20萬...(18197)\n",
      "http://www.appledaily.com.tw/realtimenews/article/local/20160826/936127/【動畫】高鐵找回遺失行李　男怨損失20萬\n",
      "【國際為什麼】誰能說「川普精神有問題」?(4404)\n",
      "http://www.appledaily.com.tw/realtimenews/article/international/20160826/936124/【國際為什麼】誰能說「川普精神有問題」?\n",
      "挑戰「遺願清單」　美婦不慎跌落身亡(10658)\n",
      "http://www.appledaily.com.tw/realtimenews/article/international/20160826/936126/挑戰「遺願清單」　美婦不慎跌落身亡\n",
      "【執政百日】藍委諷小英變神隱少女　綠委建...(6007)\n",
      "http://www.appledaily.com.tw/realtimenews/article/politics/20160826/935763/【執政百日】藍委諷小英變神隱少女　綠委建議林全應更強勢\n",
      "【圖解動畫】義大利震災　為什麽傷亡這麼嚴...(13823)\n",
      "http://www.appledaily.com.tw/realtimenews/article/international/20160826/936114/【圖解動畫】義大利震災　為什麽傷亡這麼嚴重\n",
      "沈建宏攻韓賣聲　金秀賢靚妹跨刀同台(7256)\n",
      "http://www.appledaily.com.tw/realtimenews/article/entertainment/20160826/936062/沈建宏攻韓賣聲　金秀賢靚妹跨刀同台\n",
      "亞洲人口老化速度居冠　2030年65歲以...(2197)\n",
      "http://www.appledaily.com.tw/realtimenews/article/international/20160826/936120/亞洲人口老化速度居冠　2030年65歲以上將達2億人\n",
      "嘴上如裝彈簧　吳慷仁獲封「快嘴王」(6306)\n",
      "http://www.appledaily.com.tw/realtimenews/article/entertainment/20160826/936118/嘴上如裝彈簧　吳慷仁獲封「快嘴王」\n",
      "3C大展嗆網購　首推買貴退差價(3229)\n",
      "http://www.appledaily.com.tw/realtimenews/article/3c/20160826/935942/3C大展嗆網購　首推買貴退差價\n",
      "這款APP讓你酒後 人車安全到家！(3010)\n",
      "http://www.appledaily.com.tw/realtimenews/article/3c/20160826/935886/這款APP讓你酒後人車安全到家！\n",
      "不只寶可夢　裝潢擺設也靠它(2050)\n",
      "http://www.appledaily.com.tw/realtimenews/article/3c/20160826/935966/不只寶可夢　裝潢擺設也靠它\n",
      "哭哭！夏天變胖 你需要這款減肥利器(3442)\n",
      "http://www.appledaily.com.tw/realtimenews/article/3c/20160826/935991/哭哭！夏天變胖你需要這款減肥利器\n",
      "寶可夢出彩妝！打趴冠軍迪士尼(1864)\n",
      "http://www.appledaily.com.tw/realtimenews/article/3c/20160826/936053/寶可夢出彩妝！打趴冠軍迪士尼\n",
      "推動台灣入聯　陸學者：兩岸將直接攤牌(7689)\n",
      "http://www.appledaily.com.tw/realtimenews/article/international/20160826/936115/推動台灣入聯　陸學者：兩岸將直接攤牌\n",
      "進階挑戰　北台灣4大超刺激巨石岩場(1479)\n",
      "http://www.appledaily.com.tw/realtimenews/article/strange/20160826/935891/進階挑戰　北台灣4大超刺激巨石岩場\n",
      "【穿搭教學】寬褲Bye！百褶裙正夯(6243)\n",
      "http://www.appledaily.com.tw/realtimenews/article/strange/20160826/935874/【穿搭教學】寬褲Bye！百褶裙正夯\n",
      "【愛飛遜】微風信義之夜Marc Jaco...(1761)\n",
      "http://www.appledaily.com.tw/realtimenews/article/strange/20160826/935767/【愛飛遜】微風信義之夜MarcJacobs推獨家包款\n",
      "這一條　放廚房比放浴室還實用(9333)\n",
      "http://www.appledaily.com.tw/realtimenews/article/strange/20160826/935911/這一條　放廚房比放浴室還實用\n",
      "柯有倫和她同遊北京　玩抓周是哪招(8299)\n",
      "http://www.appledaily.com.tw/realtimenews/article/entertainment/20160826/936117/柯有倫和她同遊北京　玩抓周是哪招\n",
      "汪汪悶又氣 但汪汪隱忍(6241)\n",
      "http://www.appledaily.com.tw/realtimenews/article/animal/20160826/935967/汪汪悶又氣但汪汪隱忍\n",
      "香氣四溢！肯德基破天荒推出炸雞防曬乳(2432)\n",
      "http://www.appledaily.com.tw/realtimenews/article/strange/20160826/935973/香氣四溢！肯德基破天荒推出炸雞防曬乳\n",
      "【動畫心理學】難怪分手！因為你們倆坐錯位...(25252)\n",
      "http://www.appledaily.com.tw/realtimenews/article/strange/20160826/935877/【動畫心理學】難怪分手！因為你們倆坐錯位子\n",
      "被譽為全世界最美的貓 就是這一隻！(6999)\n",
      "http://www.appledaily.com.tw/realtimenews/article/animal/20160826/935943/被譽為全世界最美的貓就是這一隻！\n",
      "​【占卜】不想離開舒適圈　你也害怕改變嗎...(3011)\n",
      "http://www.appledaily.com.tw/realtimenews/article/strange/20160826/935906/​【占卜】不想離開舒適圈　你也害怕改變嗎？\n",
      "VALENTINO變火熱　A-Lin穿著...(1803)\n",
      "http://www.appledaily.com.tw/realtimenews/article/fashion/20160826/936014/VALENTINO變火熱　A-Lin穿著嗨\n",
      "賴芳玉：離婚這麼難？(9548)\n",
      "http://www.appledaily.com.tw/realtimenews/article/forum/20160826/936025/賴芳玉：離婚這麼難？\n",
      "毛小孩也文青！英國推出首個狗狗互動藝術展(983)\n",
      "http://www.appledaily.com.tw/realtimenews/article/animal/20160826/935970/毛小孩也文青！英國推出首個狗狗互動藝術展\n",
      "動物穿衣服 笑果十足(1584)\n",
      "http://www.appledaily.com.tw/realtimenews/article/animal/20160826/935976/動物穿衣服笑果十足\n",
      "【消夜文】寶可夢，變惡夢(2847)\n",
      "http://www.appledaily.com.tw/realtimenews/article/strange/20160826/936044/【消夜文】寶可夢，變惡夢\n",
      "Crawling page 7\n",
      "Current url is http://www.appledaily.com.tw/realtimenews/section/new/7\n",
      "呂秋遠：協會獨佔資源　運動欠缺支援(2649)\n",
      "http://www.appledaily.com.tw/realtimenews/article/forum/20160826/936083/呂秋遠：協會獨佔資源　運動欠缺支援\n",
      "【狗仔偷拍】楊紫瓊餐敘王太　俠女不醉還送...(11595)\n",
      "http://www.appledaily.com.tw/realtimenews/article/entertainment/20160826/935855/【狗仔偷拍】楊紫瓊餐敘王太　俠女不醉還送啾咪\n",
      "這樣卸妝　臉上恐爆痘長粉刺(3741)\n",
      "http://www.appledaily.com.tw/realtimenews/article/strange/20160826/935883/這樣卸妝　臉上恐爆痘長粉刺\n",
      "主人無奈只想安靜看電視 但貓和狗卻在他背...(4376)\n",
      "http://www.appledaily.com.tw/realtimenews/article/animal/20160826/935940/主人無奈只想安靜看電視但貓和狗卻在他背後...\n",
      "不怕被人笑　挽臉界小生擺脫22K(6169)\n",
      "http://www.appledaily.com.tw/realtimenews/article/strange/20160826/935884/不怕被人笑　挽臉界小生擺脫22K\n",
      "冷冽外表下的喵喵　卻是照顧這隻迷你猴的媽...(1806)\n",
      "http://www.appledaily.com.tw/realtimenews/article/animal/20160826/935969/冷冽外表下的喵喵　卻是照顧這隻迷你猴的媽媽\n",
      "陸客不來誰受害(11471)\n",
      "http://www.appledaily.com.tw/realtimenews/article/forum/20160826/936071/陸客不來誰受害\n",
      "【動畫解說】電子鹽度計一插　高鈉鬼怪都現...(2661)\n",
      "http://www.appledaily.com.tw/realtimenews/article/strange/20160826/935875/【動畫解說】電子鹽度計一插　高鈉鬼怪都現形\n",
      "太神奇！他們竟然是好朋友(2448)\n",
      "http://www.appledaily.com.tw/realtimenews/article/animal/20160826/935999/太神奇！他們竟然是好朋友\n",
      "評新政府百日勞動政策　學者：疲於滅火(4411)\n",
      "http://www.appledaily.com.tw/realtimenews/article/life/20160826/935838/評新政府百日勞動政策　學者：疲於滅火\n",
      "好可愛的打呼聲！　被吵醒也甘願(1651)\n",
      "http://www.appledaily.com.tw/realtimenews/article/animal/20160826/935937/好可愛的打呼聲！　被吵醒也甘願\n",
      "食之無味的雙城論壇(1202)\n",
      "http://www.appledaily.com.tw/realtimenews/article/forum/20160826/936067/食之無味的雙城論壇\n",
      "【動畫有解】性愛6大紀錄　世界上最大的陰...(47610)\n",
      "http://www.appledaily.com.tw/realtimenews/article/strange/20160826/935671/【動畫有解】性愛6大紀錄　世界上最大的陰道是…\n",
      "【圖解新聞】奧運落幕　1分鐘搞懂禁藥之密(4775)\n",
      "http://www.appledaily.com.tw/realtimenews/article/life/20160826/935859/【圖解新聞】奧運落幕　1分鐘搞懂禁藥之密\n",
      "【動畫獨家】一顆釋迦　勾起鄭明典對媽媽的...(2650)\n",
      "http://www.appledaily.com.tw/realtimenews/article/life/20160826/935947/【動畫獨家】一顆釋迦　勾起鄭明典對媽媽的思念\n",
      "【祕密客】飲料做很慢的文青咖啡店(1500)\n",
      "http://www.appledaily.com.tw/realtimenews/article/strange/20160826/935963/【祕密客】飲料做很慢的文青咖啡店\n",
      "超強毛孩子　自行打包入袋(1732)\n",
      "http://www.appledaily.com.tw/realtimenews/article/animal/20160826/935996/超強毛孩子　自行打包入袋\n",
      "「無招勝有招」的司法改革(1499)\n",
      "http://www.appledaily.com.tw/realtimenews/article/forum/20160826/936064/「無招勝有招」的司法改革\n",
      "阿拉伯之春後　衝突釀人均壽命縮短(921)\n",
      "http://www.appledaily.com.tw/realtimenews/article/international/20160826/936113/阿拉伯之春後　衝突釀人均壽命縮短\n",
      "​8月26日(五)　全球重要經濟數據預覽(962)\n",
      "http://www.appledaily.com.tw/realtimenews/article/finance/20160826/933843/​8月26日(五)　全球重要經濟數據預覽\n",
      "【特企】韓國歐爸有撇步!? 教你如何當個...(1489)\n",
      "http://www.appledaily.com.tw/realtimenews/article/life/20160826/935880/【特企】韓國歐爸有撇步!?教你如何當個Mr.Suit\n",
      "【中職戰報】耐森3連勝正夯　象新莊屠犀利...(4092)\n",
      "http://www.appledaily.com.tw/realtimenews/article/sports/20160826/935958/【中職戰報】耐森3連勝正夯　象新莊屠犀利多　\n",
      "【爽報周冷】完全合法做愛指南(11035)\n",
      "http://www.appledaily.com.tw/realtimenews/article/strange/20160826/936022/【爽報周冷】完全合法做愛指南\n",
      "【法律問蘋果】她受贈40萬買屋允母同住　...(6214)\n",
      "http://www.appledaily.com.tw/realtimenews/article/local/20160826/931975/【法律問蘋果】她受贈40萬買屋允母同住　事後反悔要款？\n",
      "世新法律極品正妹　32D奶細腰性感火辣(10395)\n",
      "http://www.appledaily.com.tw/realtimenews/article/life/20160826/935892/世新法律極品正妹　32D奶細腰性感火辣\n",
      "【運彩報馬仔】道奇黑色星期五　推小熊PK...(1095)\n",
      "http://www.appledaily.com.tw/realtimenews/article/sports/20160826/935903/【運彩報馬仔】道奇黑色星期五　推小熊PK勝\n",
      "【中職戰報】10勝洋投大車拼　獅踢館桃園...(2157)\n",
      "http://www.appledaily.com.tw/realtimenews/article/sports/20160826/935961/【中職戰報】10勝洋投大車拼　獅踢館桃園氣旺\n",
      "裸泳男被魚鉤勾到龜頭　大叫「別拉別拉」(32779)\n",
      "http://www.appledaily.com.tw/realtimenews/article/international/20160826/936035/裸泳男被魚鉤勾到龜頭　大叫「別拉別拉」\n",
      "陳芳明：不要只看百日維新(2436)\n",
      "http://www.appledaily.com.tw/realtimenews/article/forum/20160826/936059/陳芳明：不要只看百日維新\n",
      "趙少康：蔡英文100天(3677)\n",
      "http://www.appledaily.com.tw/realtimenews/article/forum/20160826/936079/趙少康：蔡英文100天\n"
     ]
    }
   ],
   "source": [
    "# let's crawl 10 pages of Appledaily\n",
    "URL = \"http://www.appledaily.com.tw/realtimenews/section/new/\"\n",
    "final_list = []\n",
    "for page in range(1,11):\n",
    "    # page is type int\n",
    "    print \"Crawling page {}\".format(page)\n",
    "    current_url = URL + str(page)\n",
    "    print \"Current url is {}\".format(current_url)\n",
    "    article_url_list = list_crawler(current_url) # We get the list of article_urls\n",
    "    for article_url in article_url_list:\n",
    "        try:\n",
    "            final_list.append(parse_article(article_url))\n",
    "        except Exception as e:\n",
    "            print e\n",
    "print final_list\n",
    "\"\"\"\n",
    "[\n",
    "{'title': 'one', 'content': 'asdfasdfasd', 'pub_date': 'asdfasdfdsf'}, # from parse_article(url)\n",
    "{'title': 'one', 'content': 'asdfasdfasd', 'pub_date': 'asdfasdfdsf'},\n",
    "{'title': 'one', 'content': 'asdfasdfasd', 'pub_date': 'asdfasdfdsf'},\n",
    "{'title': 'one', 'content': 'asdfasdfasd', 'pub_date': 'asdfasdfdsf'},\n",
    "{'title': 'one', 'content': 'asdfasdfasd', 'pub_date': 'asdfasdfdsf'},\n",
    "]\n",
    "\"\"\""
   ]
  },
  {
   "cell_type": "code",
   "execution_count": null,
   "metadata": {
    "collapsed": true
   },
   "outputs": [],
   "source": [
    "# Python 檔案操作\n",
    "# open(file, mode)\n",
    "#open('./myfile.txt', 'r')\n",
    "#open('./myfile.txt', 'w')\n",
    "#open('./myfile.txt', 'a')\n",
    "#open('./myimg.jpg', 'rb')\n",
    "#open('./myimg.jpg', 'wb')"
   ]
  },
  {
   "cell_type": "code",
   "execution_count": null,
   "metadata": {
    "collapsed": true
   },
   "outputs": [],
   "source": [
    "f = open('./myfile.txt', 'w')"
   ]
  },
  {
   "cell_type": "code",
   "execution_count": null,
   "metadata": {
    "collapsed": false
   },
   "outputs": [],
   "source": [
    "type(f)"
   ]
  },
  {
   "cell_type": "code",
   "execution_count": null,
   "metadata": {
    "collapsed": false,
    "scrolled": true
   },
   "outputs": [],
   "source": [
    "dir(f)"
   ]
  },
  {
   "cell_type": "code",
   "execution_count": null,
   "metadata": {
    "collapsed": true
   },
   "outputs": [],
   "source": [
    "f.write(\"Hello world\")"
   ]
  },
  {
   "cell_type": "code",
   "execution_count": null,
   "metadata": {
    "collapsed": true
   },
   "outputs": [],
   "source": [
    "f.close()"
   ]
  },
  {
   "cell_type": "code",
   "execution_count": null,
   "metadata": {
    "collapsed": true
   },
   "outputs": [],
   "source": [
    "f = open('./myfile2.txt', 'w')\n",
    "f.write(\"second time\")\n",
    "f.close()"
   ]
  },
  {
   "cell_type": "code",
   "execution_count": null,
   "metadata": {
    "collapsed": true
   },
   "outputs": [],
   "source": [
    "# Best way to do file operations....\n",
    "# \"with\" will close the file for you...\n",
    "with open('./applydaily.json', 'w') as f:\n",
    "    f.write(\"appledaily\")"
   ]
  },
  {
   "cell_type": "code",
   "execution_count": null,
   "metadata": {
    "collapsed": false
   },
   "outputs": [],
   "source": [
    "# Back to out Appledaily crawler....\n",
    "# Let's write the result to a json file....\n",
    "import json\n",
    "len(final_list)\n",
    "#dir(json)\n",
    "# NOTE: when dealing with json.dumps() and Unicode, make sure to set ensure_ascii=False\n",
    "mystr = json.dumps(final_list, ensure_ascii=False)\n",
    "with open('./applydaily.json', 'w') as f:\n",
    "    f.write(mystr.encode('utf-8'))"
   ]
  },
  {
   "cell_type": "code",
   "execution_count": null,
   "metadata": {
    "collapsed": false
   },
   "outputs": [],
   "source": [
    "withspace = '      \\nHI\\t'\n",
    "print withspace\n",
    "repr(withspace)"
   ]
  },
  {
   "cell_type": "code",
   "execution_count": null,
   "metadata": {
    "collapsed": false
   },
   "outputs": [],
   "source": [
    "pokemon = '皮卡丘'\n",
    "print type(pokemon)\n",
    "repr(pokemon)"
   ]
  },
  {
   "cell_type": "code",
   "execution_count": null,
   "metadata": {
    "collapsed": false
   },
   "outputs": [],
   "source": [
    "pokemon = u'皮卡丘'\n",
    "print type(pokemon)\n",
    "repr(pokemon)"
   ]
  },
  {
   "cell_type": "code",
   "execution_count": null,
   "metadata": {
    "collapsed": false,
    "scrolled": true
   },
   "outputs": [],
   "source": [
    "# x = 1\n",
    "# while True:\n",
    "#     print x\n",
    "#     x = x + 1\n",
    "#     res = r.get(\"\")\n",
    "#     if res.status_code != '200':\n",
    "#         break"
   ]
  },
  {
   "cell_type": "code",
   "execution_count": null,
   "metadata": {
    "collapsed": true
   },
   "outputs": [],
   "source": []
  }
 ],
 "metadata": {
  "anaconda-cloud": {},
  "kernelspec": {
   "display_name": "Python [Root]",
   "language": "python",
   "name": "Python [Root]"
  },
  "language_info": {
   "codemirror_mode": {
    "name": "ipython",
    "version": 2
   },
   "file_extension": ".py",
   "mimetype": "text/x-python",
   "name": "python",
   "nbconvert_exporter": "python",
   "pygments_lexer": "ipython2",
   "version": "2.7.12"
  }
 },
 "nbformat": 4,
 "nbformat_minor": 0
}
