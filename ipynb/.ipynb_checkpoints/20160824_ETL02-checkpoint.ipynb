{
 "cells": [
  {
   "cell_type": "code",
   "execution_count": 19,
   "metadata": {
    "collapsed": true
   },
   "outputs": [],
   "source": [
    "# Obect Oriented Programming review\n",
    "# Class\n",
    "# Object\n",
    "# method\n",
    "# attribute"
   ]
  },
  {
   "cell_type": "markdown",
   "metadata": {},
   "source": [
    "Web概念介紹\n",
    "---\n",
    "常用的HTTP四個動詞\n",
    "- GET（查）\n",
    "- POST（增）\n",
    "- PUT（改）\n",
    "- DELETE（刪）\n",
    "\n",
    "HTTP狀態碼\n",
    "---\n",
    "- 200 用來表示請求成功.\n",
    "- 300 來表示重定向.\n",
    "- 400 用來表示請求出現問題.\n",
    "- 500 用來表示伺服器出現問題.\n",
    "\n",
    "#### 常用的HTTP狀態碼\n",
    "- 200 成功 （OK）\n",
    "- 404 沒有找到 （Not Found）\n",
    "- 401 未經授權 （Unauthorized）\n",
    "- 403 被禁止（Forbidden）\n",
    "- 302（或307）臨時移動（Moved Temporarily） 和 301 永久移動（Moved Permanently）\n",
    "- 500 伺服器錯誤（Internal Server Error）\n",
    "\n",
    "#### 來看看實際上的HTTP headers\n",
    "- 好用的工具 -> chrome dev tools\n",
    "\n",
    "#### Session\n",
    "通常為server side狀態\n",
    "\n",
    "#### Cookie\n",
    "通常為client side狀態\n",
    "\n",
    "REST(Representational State Transfer) API\n",
    "---\n",
    "- 資源是由URI來指定。\n",
    "- 對資源的操作包括獲取、創建、修改和刪除資源，這些操作正好對應HTTP協議提供的GET、POST、PUT和DELETE方法。\n",
    "- 通過操作資源的表現形式來操作資源。\n",
    "- 資源的表現形式則是XML或者HTML，取決於讀者是機器還是人，是消費web服務的客戶軟體還是web瀏覽器。當然也可以是任何其他的格式。\n",
    "\n",
    "### REST的要求\n",
    "- 客戶端和伺服器結構\n",
    "- 連接協議具有無狀態性\n",
    "- 能夠利用Cache機制增進性能\n",
    "- 一致性的操作界面\n",
    "- 層次化的系統\n",
    "\n",
    "![REST_API](http://blog.ciaranoconnor.me/content/images/2016/02/RESTful-API-design-1014x457.jpg)\n",
    "\n",
    "JSON(JavaScript Object Notation)\n",
    "---\n",
    "<pre>\n",
    "{\n",
    "     \"firstName\": \"John\",\n",
    "     \"lastName\": \"Smith\",\n",
    "     \"sex\": \"male\",\n",
    "     \"age\": 25,\n",
    "     \"address\": \n",
    "     {\n",
    "         \"streetAddress\": \"21 2nd Street\",\n",
    "         \"city\": \"New York\",\n",
    "         \"state\": \"NY\",\n",
    "         \"postalCode\": \"10021\"\n",
    "     },\n",
    "     \"phoneNumber\": \n",
    "     [\n",
    "         {\n",
    "           \"type\": \"home\",\n",
    "           \"number\": \"212 555-1234\"\n",
    "         },\n",
    "         {\n",
    "           \"type\": \"fax\",\n",
    "           \"number\": \"646 555-4567\"\n",
    "         }\n",
    "     ]\n",
    "}\n",
    "</pre>"
   ]
  },
  {
   "cell_type": "raw",
   "metadata": {},
   "source": [
    "HTML\n",
    "---\n",
    "<raw>\n",
    "<!DOCTYPE html>\n",
    " <html>\n",
    "   <head>\n",
    "     <title>這是標題</title>\n",
    "   </head>\n",
    "   <body>\n",
    "     <p>Hello world!</p>\n",
    "   </body>\n",
    " </html>\n",
    "</raw>"
   ]
  },
  {
   "cell_type": "markdown",
   "metadata": {},
   "source": [
    "## Chrome Dev Tools"
   ]
  },
  {
   "cell_type": "markdown",
   "metadata": {},
   "source": [
    "Python modules\n",
    "---\n",
    "有多種調用python module的方法，根據使用情境以及環境選擇最佳的一種。"
   ]
  },
  {
   "cell_type": "code",
   "execution_count": 6,
   "metadata": {
    "collapsed": false
   },
   "outputs": [],
   "source": [
    "import requests # requests.get()\n",
    "import requests as r # r.get()\n",
    "from requests import get # get\n",
    "#from requests import * # get, post..."
   ]
  },
  {
   "cell_type": "code",
   "execution_count": 8,
   "metadata": {
    "collapsed": false
   },
   "outputs": [],
   "source": [
    "res = requests.get('https://google.com')"
   ]
  },
  {
   "cell_type": "code",
   "execution_count": 20,
   "metadata": {
    "collapsed": false
   },
   "outputs": [
    {
     "data": {
      "text/plain": [
       "requests.models.Response"
      ]
     },
     "execution_count": 20,
     "metadata": {},
     "output_type": "execute_result"
    }
   ],
   "source": [
    "# 使用type()來檢視回傳的形態\n",
    "type(res)"
   ]
  },
  {
   "cell_type": "code",
   "execution_count": 22,
   "metadata": {
    "collapsed": false
   },
   "outputs": [
    {
     "data": {
      "text/plain": [
       "['__attrs__',\n",
       " '__bool__',\n",
       " '__class__',\n",
       " '__delattr__',\n",
       " '__dict__',\n",
       " '__doc__',\n",
       " '__format__',\n",
       " '__getattribute__',\n",
       " '__getstate__',\n",
       " '__hash__',\n",
       " '__init__',\n",
       " '__iter__',\n",
       " '__module__',\n",
       " '__new__',\n",
       " '__nonzero__',\n",
       " '__reduce__',\n",
       " '__reduce_ex__',\n",
       " '__repr__',\n",
       " '__setattr__',\n",
       " '__setstate__',\n",
       " '__sizeof__',\n",
       " '__str__',\n",
       " '__subclasshook__',\n",
       " '__weakref__',\n",
       " '_content',\n",
       " '_content_consumed',\n",
       " 'apparent_encoding',\n",
       " 'close',\n",
       " 'connection',\n",
       " 'content',\n",
       " 'cookies',\n",
       " 'elapsed',\n",
       " 'encoding',\n",
       " 'headers',\n",
       " 'history',\n",
       " 'is_permanent_redirect',\n",
       " 'is_redirect',\n",
       " 'iter_content',\n",
       " 'iter_lines',\n",
       " 'json',\n",
       " 'links',\n",
       " 'ok',\n",
       " 'raise_for_status',\n",
       " 'raw',\n",
       " 'reason',\n",
       " 'request',\n",
       " 'status_code',\n",
       " 'text',\n",
       " 'url']"
      ]
     },
     "execution_count": 22,
     "metadata": {},
     "output_type": "execute_result"
    }
   ],
   "source": [
    "# 使用dir()查看可用的attributes與methods\n",
    "dir(res)"
   ]
  },
  {
   "cell_type": "code",
   "execution_count": 23,
   "metadata": {
    "collapsed": false,
    "scrolled": true
   },
   "outputs": [
    {
     "data": {
      "text/plain": [
       "u'<!doctype html><html itemscope=\"\" itemtype=\"http://schema.org/WebPage\" lang=\"zh-TW\"><head><meta content=\"text/html; charset=UTF-8\" http-equiv=\"Content-Type\"><meta content=\"/images/branding/googleg/1x/googleg_standard_color_128dp.png\" itemprop=\"image\"><title>Google</title><script>(function(){window.google={kEI:\\'ZGW8V6H7IsOp0AT63IC4DA\\',kEXPI:\\'18167,1351568,1351587,3700327,3700389,4003510,4029815,4031109,4032677,4036509,4036527,4038012,4039268,4043492,4045841,4048347,4054590,4061154,4062706,4063881,4064904,4065786,4065794,4066195,4066654,4066708,4067175,4067860,4067924,4068550,4068604,4068832,4069458,4069839,4069841,4069905,4070221,4070316,4070329,4070453,4070598,4071229,4071577,4071604,4071773,4071824,4071842,4071998,4072000,4072098,4072211,4072288,4072364,4072579,4072624,4072654,4072682,4072773,4073250,4073405,4073419,4073889,4073958,4073980,4074796,4074801,4075122,4075782,4075860,4075966,4075974,4076074,4076087,4076096,4076115,4076119,4077221,8300273,8502184,8503585,8504845,8505150,8505152,8505677,10200083,10200096,10202024,16200027\\',authuser:0,kscs:\\'c9c918f0_24\\'};google.kHL=\\'zh-TW\\';})();(function(){google.lc=[];google.li=0;google.getEI=function(a){for(var b;a&&(!a.getAttribute||!(b=a.getAttribute(\"eid\")));)a=a.parentNode;return b||google.kEI};google.getLEI=function(a){for(var b=null;a&&(!a.getAttribute||!(b=a.getAttribute(\"leid\")));)a=a.parentNode;return b};google.https=function(){return\"https:\"==window.location.protocol};google.ml=function(){return null};google.wl=function(a,b){try{google.ml(Error(a),!1,b)}catch(c){}};google.time=function(){return(new Date).getTime()};google.log=function(a,b,c,e,g){a=google.logUrl(a,b,c,e,g);if(\"\"!=a){b=new Image;var d=google.lc,f=google.li;d[f]=b;b.onerror=b.onload=b.onabort=function(){delete d[f]};window.google&&window.google.vel&&window.google.vel.lu&&window.google.vel.lu(a);b.src=a;google.li=f+1}};google.logUrl=function(a,b,c,e,g){var d=\"\",f=google.ls||\"\";if(!c&&-1==b.search(\"&ei=\")){var h=google.getEI(e),d=\"&ei=\"+h;-1==b.search(\"&lei=\")&&((e=google.getLEI(e))?d+=\"&lei=\"+e:h!=google.kEI&&(d+=\"&lei=\"+google.kEI))}a=c||\"/\"+(g||\"gen_204\")+\"?atyp=i&ct=\"+a+\"&cad=\"+b+d+f+\"&zx=\"+google.time();/^http:/i.test(a)&&google.https()&&(google.ml(Error(\"a\"),!1,{src:a,glmm:1}),a=\"\");return a};google.y={};google.x=function(a,b){google.y[a.id]=[a,b];return!1};google.load=function(a,b,c){google.x({id:a+k++},function(){google.load(a,b,c)})};var k=0;})();var _gjwl=location;function _gjuc(){var a=_gjwl.href.indexOf(\"#\");if(0<=a&&(a=_gjwl.href.substring(a),0<a.indexOf(\"&q=\")||0<=a.indexOf(\"#q=\"))&&(a=a.substring(1),-1==a.indexOf(\"#\"))){for(var d=0;d<a.length;){var b=d;\"&\"==a.charAt(b)&&++b;var c=a.indexOf(\"&\",b);-1==c&&(c=a.length);b=a.substring(b,c);if(0==b.indexOf(\"fp=\"))a=a.substring(0,d)+a.substring(c,a.length),c=d;else if(\"cad=h\"==b)return 0;d=c}_gjwl.href=\"/search?\"+a+\"&cad=h\";return 1}return 0}\\nfunction _gjh(){!_gjuc()&&window.google&&google.x&&google.x({id:\"GJH\"},function(){google.nav&&google.nav.gjh&&google.nav.gjh()})};window._gjh&&_gjh();</script><style>#gbar,#guser{font-size:13px;padding-top:1px !important;}#gbar{height:22px}#guser{padding-bottom:7px !important;text-align:right}.gbh,.gbd{border-top:1px solid #c9d7f1;font-size:1px}.gbh{height:0;position:absolute;top:24px;width:100%}@media all{.gb1{height:22px;margin-right:.5em;vertical-align:top}#gbar{float:left}}a.gb1,a.gb4{text-decoration:underline !important}a.gb1,a.gb4{color:#00c !important}.gbi .gb4{color:#dd8e27 !important}.gbf .gb4{color:#900 !important}\\n</style><style>body,td,a,p,.h{font-family:arial,sans-serif}body{margin:0;overflow-y:scroll}#gog{padding:3px 8px 0}td{line-height:.8em}.gac_m td{line-height:17px}form{margin-bottom:20px}.h{color:#36c}.q{color:#00c}.ts td{padding:0}.ts{border-collapse:collapse}em{color:#c03;font-style:normal;font-weight:normal}a em{text-decoration:underline}.lst{height:25px;width:496px}.gsfi,.lst{font:18px arial,sans-serif}.gsfs{font:17px arial,sans-serif}.ds{display:inline-box;display:inline-block;margin:3px 0 4px;margin-left:4px}input{font-family:inherit}a.gb1,a.gb2,a.gb3,a.gb4{color:#11c !important}body{background:#fff;color:black}a{color:#11c;text-decoration:none}a:hover,a:active{text-decoration:underline}.fl a{color:#36c}a:visited{color:#551a8b}a.gb1,a.gb4{text-decoration:underline}a.gb3:hover{text-decoration:none}#ghead a.gb2:hover{color:#fff !important}.sblc{padding-top:5px}.sblc a{display:block;margin:2px 0;margin-left:13px;font-size:11px}.lsbb{background:#eee;border:solid 1px;border-color:#ccc #999 #999 #ccc;height:30px}.lsbb{display:block}.ftl,#fll a{display:inline-block;margin:0 12px}.lsb{background:url(/images/nav_logo229.png) 0 -261px repeat-x;border:none;color:#000;cursor:pointer;height:30px;margin:0;outline:0;font:15px arial,sans-serif;vertical-align:top}.lsb:active{background:#ccc}.lst:focus{outline:none}</style><script></script><link href=\"/images/branding/product/ico/googleg_lodp.ico\" rel=\"shortcut icon\"></head><body bgcolor=\"#fff\"><script>(function(){var src=\\'/images/nav_logo229.png\\';var iesg=false;document.body.onload = function(){window.n && window.n();if (document.images){new Image().src=src;}\\nif (!iesg){document.f&&document.f.q.focus();document.gbqf&&document.gbqf.q.focus();}\\n}\\n})();</script><div id=\"mngb\">    <div id=gbar><nobr><b class=gb1>\\u641c\\u5c0b</b> <a class=gb1 href=\"https://www.google.com.tw/imghp?hl=zh-TW&tab=wi\">\\u5716\\u7247</a> <a class=gb1 href=\"https://maps.google.com.tw/maps?hl=zh-TW&tab=wl\">\\u5730\\u5716</a> <a class=gb1 href=\"https://play.google.com/?hl=zh-TW&tab=w8\">Play</a> <a class=gb1 href=\"https://www.youtube.com/?gl=TW&tab=w1\">YouTube</a> <a class=gb1 href=\"https://news.google.com.tw/nwshp?hl=zh-TW&tab=wn\">\\u65b0\\u805e</a> <a class=gb1 href=\"https://mail.google.com/mail/?tab=wm\">Gmail</a> <a class=gb1 href=\"https://drive.google.com/?tab=wo\">\\u96f2\\u7aef\\u786c\\u789f</a> <a class=gb1 style=\"text-decoration:none\" href=\"https://www.google.com.tw/intl/zh-TW/options/\"><u>\\u66f4\\u591a</u> &raquo;</a></nobr></div><div id=guser width=100%><nobr><span id=gbn class=gbi></span><span id=gbf class=gbf></span><span id=gbe></span><a href=\"http://www.google.com.tw/history/optout?hl=zh-TW\" class=gb4>\\u7db2\\u9801\\u7d00\\u9304</a> | <a  href=\"/preferences?hl=zh-TW\" class=gb4>\\u8a2d\\u5b9a</a> | <a target=_top id=gb_70 href=\"https://accounts.google.com/ServiceLogin?hl=zh-TW&passive=true&continue=https://www.google.com.tw/%3Fgfe_rd%3Dcr%26ei%3DZGW8V9tQksDgAveIiegC\" class=gb4>\\u767b\\u5165</a></nobr></div><div class=gbh style=left:0></div><div class=gbh style=right:0></div>    </div><center><br clear=\"all\" id=\"lgpd\"><div id=\"lga\"><div style=\"padding:28px 0 3px\"><div style=\"height:110px;width:276px;background:url(/images/branding/googlelogo/1x/googlelogo_white_background_color_272x92dp.png) no-repeat\" title=\"Google\" align=\"left\" id=\"hplogo\" onload=\"window.lol&&lol()\"><div style=\"color:#777;font-size:16px;font-weight:bold;position:relative;top:70px;left:218px\" nowrap=\"\">\\u53f0\\u7063</div></div></div><br></div><form action=\"/search\" name=\"f\"><table cellpadding=\"0\" cellspacing=\"0\"><tr valign=\"top\"><td width=\"25%\">&nbsp;</td><td align=\"center\" nowrap=\"\"><input name=\"ie\" value=\"Big5\" type=\"hidden\"><input value=\"zh-TW\" name=\"hl\" type=\"hidden\"><input name=\"source\" type=\"hidden\" value=\"hp\"><input name=\"biw\" type=\"hidden\"><input name=\"bih\" type=\"hidden\"><div class=\"ds\" style=\"height:32px;margin:4px 0\"><input style=\"color:#000;margin:0;padding:5px 8px 0 6px;vertical-align:top\" autocomplete=\"off\" class=\"lst\" value=\"\" title=\"Google \\u641c\\u5c0b\" maxlength=\"2048\" name=\"q\" size=\"57\"></div><br style=\"line-height:0\"><span class=\"ds\"><span class=\"lsbb\"><input class=\"lsb\" value=\"Google \\u641c\\u5c0b\" name=\"btnG\" type=\"submit\"></span></span><span class=\"ds\"><span class=\"lsbb\"><input class=\"lsb\" value=\"\\u597d\\u624b\\u6c23\" name=\"btnI\" onclick=\"if(this.form.q.value)this.checked=1; else top.location=\\'/doodles/\\'\" type=\"submit\"></span></span></td><td class=\"fl sblc\" align=\"left\" nowrap=\"\" width=\"25%\"><a href=\"/advanced_search?hl=zh-TW&amp;authuser=0\">\\u9032\\u968e\\u641c\\u5c0b</a><a href=\"/language_tools?hl=zh-TW&amp;authuser=0\">\\u8a9e\\u8a00\\u5de5\\u5177</a></td></tr></table><input id=\"gbv\" name=\"gbv\" type=\"hidden\" value=\"1\"></form><div id=\"gac_scont\"></div><div style=\"font-size:83%;min-height:3.5em\"><br></div><span id=\"footer\"><div style=\"font-size:10pt\"><div style=\"margin:19px auto;text-align:center\" id=\"fll\"><a href=\"/intl/zh-TW/ads/\">\\u5ee3\\u544a\\u670d\\u52d9</a><a href=\"http://www.google.com.tw/intl/zh-TW/services/\">\\u5546\\u696d\\u89e3\\u6c7a\\u65b9\\u6848</a><a href=\"/intl/zh-TW/about.html\">Google \\u5b8c\\u5168\\u624b\\u518a</a><a href=\"https://www.google.com.tw/setprefdomain?prefdom=US&amp;sig=__H5WOunuDFHQLJvfz0IBvqJEGG90%3D\" id=\"fehl\">Google.com</a></div></div><p style=\"color:#767676;font-size:8pt\">&copy; 2016 - <a href=\"/intl/zh-TW/policies/privacy/\">\\u96b1\\u79c1\\u6b0a</a> - <a href=\"/intl/zh-TW/policies/terms/\">\\u670d\\u52d9\\u689d\\u6b3e</a></p></span></center><script>(function(){window.google.cdo={height:0,width:0};(function(){var a=window.innerWidth,b=window.innerHeight;if(!a||!b)var c=window.document,d=\"CSS1Compat\"==c.compatMode?c.documentElement:c.body,a=d.clientWidth,b=d.clientHeight;a&&b&&(a!=google.cdo.width||b!=google.cdo.height)&&google.log(\"\",\"\",\"/client_204?&atyp=i&biw=\"+a+\"&bih=\"+b+\"&ei=\"+google.kEI);})();})();</script><div id=\"xjsd\"></div><div id=\"xjsi\"><script>(function(){function c(b){window.setTimeout(function(){var a=document.createElement(\"script\");a.src=b;document.getElementById(\"xjsd\").appendChild(a)},0)}google.dljp=function(b,a){google.xjsu=b;c(a)};google.dlj=c;})();(function(){window.google.xjsrm=[];})();if(google.y)google.y.first=[];if(!google.xjs){window._=window._||{};window._._DumpException=function(e){throw e};if(google.timers&&google.timers.load.t){google.timers.load.t.xjsls=new Date().getTime();}google.dljp(\\'/xjs/_/js/k\\\\x3dxjs.hp.en_US.8q7yooQuBnE.O/m\\\\x3dsb_he,d/rt\\\\x3dj/d\\\\x3d1/t\\\\x3dzcms/rs\\\\x3dACT90oGEkQ2Aia2v-aoN4KGJyT0LpGxxow\\',\\'/xjs/_/js/k\\\\x3dxjs.hp.en_US.8q7yooQuBnE.O/m\\\\x3dsb_he,d/rt\\\\x3dj/d\\\\x3d1/t\\\\x3dzcms/rs\\\\x3dACT90oGEkQ2Aia2v-aoN4KGJyT0LpGxxow\\');google.xjs=1;}google.pmc={\"sb_he\":{\"agen\":true,\"cgen\":true,\"client\":\"heirloom-hp\",\"dh\":true,\"dhqt\":true,\"ds\":\"\",\"fl\":true,\"host\":\"google.com.tw\",\"isbh\":28,\"jam\":0,\"jsonp\":true,\"msgs\":{\"cibl\":\"\\u6e05\\u9664\\u641c\\u5c0b\",\"dym\":\"\\u60a8\\u662f\\u4e0d\\u662f\\u8981\\u67e5\\uff1a\",\"lcky\":\"\\u597d\\u624b\\u6c23\",\"lml\":\"\\u77ad\\u89e3\\u8a73\\u60c5\",\"oskt\":\"\\u8f38\\u5165\\u5de5\\u5177\",\"psrc\":\"\\u5df2\\u5f9e\\u60a8\\u7684\\u300c\\\\u003Ca href=\\\\\"/history\\\\\"\\\\u003E\\u7db2\\u9801\\u7d00\\u9304\\\\u003C/a\\\\u003E\\u300d\\u4e2d\\u79fb\\u9664\\u9019\\u7b46\\u641c\\u5c0b\\u7d00\\u9304\",\"psrl\":\"\\u79fb\\u9664\",\"sbit\":\"\\u4ee5\\u5716\\u641c\\u5c0b\",\"srch\":\"Google \\u641c\\u5c0b\"},\"nds\":true,\"ovr\":{},\"pq\":\"\",\"refpd\":true,\"refspre\":true,\"rfs\":[],\"scd\":10,\"sce\":5,\"stok\":\"_GR_fv7YcgFsvHKdLrJsYmjP2pA\"},\"d\":{}};google.y.first.push(function(){if(google.med){google.med(\\'init\\');google.initHistory();google.med(\\'history\\');}});if(google.j&&google.j.en&&google.j.xi){window.setTimeout(google.j.xi,0);}\\n</script></div></body></html>'"
      ]
     },
     "execution_count": 23,
     "metadata": {},
     "output_type": "execute_result"
    }
   ],
   "source": [
    "# 一些常用的attributes\n",
    "res.text # 檢視文字"
   ]
  },
  {
   "cell_type": "code",
   "execution_count": 10,
   "metadata": {
    "collapsed": false
   },
   "outputs": [
    {
     "data": {
      "text/plain": [
       "{'Alternate-Protocol': '443:quic', 'X-XSS-Protection': '1; mode=block', 'Content-Encoding': 'gzip', 'Transfer-Encoding': 'chunked', 'Set-Cookie': 'NID=85=j7hNtLpDmJ3NHK5iCUP1D--SnUGHBWdQ3uGA-Jy2xQw6DTfemU_3jHHyWlxn1xkfbbdJPSWmEMpjrnjQ7F8HX6l9h8uh2wVVV83c3l25oXa4T3XAhUjkxBTaqILKF0ZY; expires=Wed, 22-Feb-2017 15:01:56 GMT; path=/; domain=.google.com.tw; HttpOnly', 'Expires': '-1', 'Server': 'gws', 'Cache-Control': 'private, max-age=0', 'Date': 'Tue, 23 Aug 2016 15:01:56 GMT', 'P3P': 'CP=\"This is not a P3P policy! See https://www.google.com/support/accounts/answer/151657?hl=en for more info.\"', 'Alt-Svc': 'quic=\":443\"; ma=2592000; v=\"35,34,33,32,31,30\"', 'Content-Type': 'text/html; charset=Big5', 'X-Frame-Options': 'SAMEORIGIN'}"
      ]
     },
     "execution_count": 10,
     "metadata": {},
     "output_type": "execute_result"
    }
   ],
   "source": [
    "res.headers # 檢視headers"
   ]
  },
  {
   "cell_type": "code",
   "execution_count": 12,
   "metadata": {
    "collapsed": false
   },
   "outputs": [
    {
     "data": {
      "text/plain": [
       "200"
      ]
     },
     "execution_count": 12,
     "metadata": {},
     "output_type": "execute_result"
    }
   ],
   "source": [
    "res.status_code # 檢視HTTP狀態碼"
   ]
  },
  {
   "cell_type": "code",
   "execution_count": 13,
   "metadata": {
    "collapsed": true
   },
   "outputs": [],
   "source": [
    "# 試試看JSON API\n",
    "res_json = requests.get('http://jsonplaceholder.typicode.com/posts')"
   ]
  },
  {
   "cell_type": "code",
   "execution_count": 17,
   "metadata": {
    "collapsed": false
   },
   "outputs": [
    {
     "data": {
      "text/plain": [
       "requests.models.Response"
      ]
     },
     "execution_count": 17,
     "metadata": {},
     "output_type": "execute_result"
    }
   ],
   "source": [
    "type(res_json)"
   ]
  },
  {
   "cell_type": "code",
   "execution_count": 18,
   "metadata": {
    "collapsed": false
   },
   "outputs": [
    {
     "data": {
      "text/plain": [
       "[{u'body': u'quia et suscipit\\nsuscipit recusandae consequuntur expedita et cum\\nreprehenderit molestiae ut ut quas totam\\nnostrum rerum est autem sunt rem eveniet architecto',\n",
       "  u'id': 1,\n",
       "  u'title': u'sunt aut facere repellat provident occaecati excepturi optio reprehenderit',\n",
       "  u'userId': 1},\n",
       " {u'body': u'est rerum tempore vitae\\nsequi sint nihil reprehenderit dolor beatae ea dolores neque\\nfugiat blanditiis voluptate porro vel nihil molestiae ut reiciendis\\nqui aperiam non debitis possimus qui neque nisi nulla',\n",
       "  u'id': 2,\n",
       "  u'title': u'qui est esse',\n",
       "  u'userId': 1},\n",
       " {u'body': u'et iusto sed quo iure\\nvoluptatem occaecati omnis eligendi aut ad\\nvoluptatem doloribus vel accusantium quis pariatur\\nmolestiae porro eius odio et labore et velit aut',\n",
       "  u'id': 3,\n",
       "  u'title': u'ea molestias quasi exercitationem repellat qui ipsa sit aut',\n",
       "  u'userId': 1},\n",
       " {u'body': u'ullam et saepe reiciendis voluptatem adipisci\\nsit amet autem assumenda provident rerum culpa\\nquis hic commodi nesciunt rem tenetur doloremque ipsam iure\\nquis sunt voluptatem rerum illo velit',\n",
       "  u'id': 4,\n",
       "  u'title': u'eum et est occaecati',\n",
       "  u'userId': 1},\n",
       " {u'body': u'repudiandae veniam quaerat sunt sed\\nalias aut fugiat sit autem sed est\\nvoluptatem omnis possimus esse voluptatibus quis\\nest aut tenetur dolor neque',\n",
       "  u'id': 5,\n",
       "  u'title': u'nesciunt quas odio',\n",
       "  u'userId': 1},\n",
       " {u'body': u'ut aspernatur corporis harum nihil quis provident sequi\\nmollitia nobis aliquid molestiae\\nperspiciatis et ea nemo ab reprehenderit accusantium quas\\nvoluptate dolores velit et doloremque molestiae',\n",
       "  u'id': 6,\n",
       "  u'title': u'dolorem eum magni eos aperiam quia',\n",
       "  u'userId': 1},\n",
       " {u'body': u'dolore placeat quibusdam ea quo vitae\\nmagni quis enim qui quis quo nemo aut saepe\\nquidem repellat excepturi ut quia\\nsunt ut sequi eos ea sed quas',\n",
       "  u'id': 7,\n",
       "  u'title': u'magnam facilis autem',\n",
       "  u'userId': 1},\n",
       " {u'body': u'dignissimos aperiam dolorem qui eum\\nfacilis quibusdam animi sint suscipit qui sint possimus cum\\nquaerat magni maiores excepturi\\nipsam ut commodi dolor voluptatum modi aut vitae',\n",
       "  u'id': 8,\n",
       "  u'title': u'dolorem dolore est ipsam',\n",
       "  u'userId': 1},\n",
       " {u'body': u'consectetur animi nesciunt iure dolore\\nenim quia ad\\nveniam autem ut quam aut nobis\\net est aut quod aut provident voluptas autem voluptas',\n",
       "  u'id': 9,\n",
       "  u'title': u'nesciunt iure omnis dolorem tempora et accusantium',\n",
       "  u'userId': 1},\n",
       " {u'body': u'quo et expedita modi cum officia vel magni\\ndoloribus qui repudiandae\\nvero nisi sit\\nquos veniam quod sed accusamus veritatis error',\n",
       "  u'id': 10,\n",
       "  u'title': u'optio molestias id quia eum',\n",
       "  u'userId': 1},\n",
       " {u'body': u'delectus reiciendis molestiae occaecati non minima eveniet qui voluptatibus\\naccusamus in eum beatae sit\\nvel qui neque voluptates ut commodi qui incidunt\\nut animi commodi',\n",
       "  u'id': 11,\n",
       "  u'title': u'et ea vero quia laudantium autem',\n",
       "  u'userId': 2},\n",
       " {u'body': u'itaque id aut magnam\\npraesentium quia et ea odit et ea voluptas et\\nsapiente quia nihil amet occaecati quia id voluptatem\\nincidunt ea est distinctio odio',\n",
       "  u'id': 12,\n",
       "  u'title': u'in quibusdam tempore odit est dolorem',\n",
       "  u'userId': 2},\n",
       " {u'body': u'aut dicta possimus sint mollitia voluptas commodi quo doloremque\\niste corrupti reiciendis voluptatem eius rerum\\nsit cumque quod eligendi laborum minima\\nperferendis recusandae assumenda consectetur porro architecto ipsum ipsam',\n",
       "  u'id': 13,\n",
       "  u'title': u'dolorum ut in voluptas mollitia et saepe quo animi',\n",
       "  u'userId': 2},\n",
       " {u'body': u'fuga et accusamus dolorum perferendis illo voluptas\\nnon doloremque neque facere\\nad qui dolorum molestiae beatae\\nsed aut voluptas totam sit illum',\n",
       "  u'id': 14,\n",
       "  u'title': u'voluptatem eligendi optio',\n",
       "  u'userId': 2},\n",
       " {u'body': u'reprehenderit quos placeat\\nvelit minima officia dolores impedit repudiandae molestiae nam\\nvoluptas recusandae quis delectus\\nofficiis harum fugiat vitae',\n",
       "  u'id': 15,\n",
       "  u'title': u'eveniet quod temporibus',\n",
       "  u'userId': 2},\n",
       " {u'body': u'suscipit nam nisi quo aperiam aut\\nasperiores eos fugit maiores voluptatibus quia\\nvoluptatem quis ullam qui in alias quia est\\nconsequatur magni mollitia accusamus ea nisi voluptate dicta',\n",
       "  u'id': 16,\n",
       "  u'title': u'sint suscipit perspiciatis velit dolorum rerum ipsa laboriosam odio',\n",
       "  u'userId': 2},\n",
       " {u'body': u'eos voluptas et aut odit natus earum\\naspernatur fuga molestiae ullam\\ndeserunt ratione qui eos\\nqui nihil ratione nemo velit ut aut id quo',\n",
       "  u'id': 17,\n",
       "  u'title': u'fugit voluptas sed molestias voluptatem provident',\n",
       "  u'userId': 2},\n",
       " {u'body': u'eveniet quo quis\\nlaborum totam consequatur non dolor\\nut et est repudiandae\\nest voluptatem vel debitis et magnam',\n",
       "  u'id': 18,\n",
       "  u'title': u'voluptate et itaque vero tempora molestiae',\n",
       "  u'userId': 2},\n",
       " {u'body': u'illum quis cupiditate provident sit magnam\\nea sed aut omnis\\nveniam maiores ullam consequatur atque\\nadipisci quo iste expedita sit quos voluptas',\n",
       "  u'id': 19,\n",
       "  u'title': u'adipisci placeat illum aut reiciendis qui',\n",
       "  u'userId': 2},\n",
       " {u'body': u'qui consequuntur ducimus possimus quisquam amet similique\\nsuscipit porro ipsam amet\\neos veritatis officiis exercitationem vel fugit aut necessitatibus totam\\nomnis rerum consequatur expedita quidem cumque explicabo',\n",
       "  u'id': 20,\n",
       "  u'title': u'doloribus ad provident suscipit at',\n",
       "  u'userId': 2},\n",
       " {u'body': u'repellat aliquid praesentium dolorem quo\\nsed totam minus non itaque\\nnihil labore molestiae sunt dolor eveniet hic recusandae veniam\\ntempora et tenetur expedita sunt',\n",
       "  u'id': 21,\n",
       "  u'title': u'asperiores ea ipsam voluptatibus modi minima quia sint',\n",
       "  u'userId': 3},\n",
       " {u'body': u'eos qui et ipsum ipsam suscipit aut\\nsed omnis non odio\\nexpedita earum mollitia molestiae aut atque rem suscipit\\nnam impedit esse',\n",
       "  u'id': 22,\n",
       "  u'title': u'dolor sint quo a velit explicabo quia nam',\n",
       "  u'userId': 3},\n",
       " {u'body': u'veritatis unde neque eligendi\\nquae quod architecto quo neque vitae\\nest illo sit tempora doloremque fugit quod\\net et vel beatae sequi ullam sed tenetur perspiciatis',\n",
       "  u'id': 23,\n",
       "  u'title': u'maxime id vitae nihil numquam',\n",
       "  u'userId': 3},\n",
       " {u'body': u'enim et ex nulla\\nomnis voluptas quia qui\\nvoluptatem consequatur numquam aliquam sunt\\ntotam recusandae id dignissimos aut sed asperiores deserunt',\n",
       "  u'id': 24,\n",
       "  u'title': u'autem hic labore sunt dolores incidunt',\n",
       "  u'userId': 3},\n",
       " {u'body': u'ullam consequatur ut\\nomnis quis sit vel consequuntur\\nipsa eligendi ipsum molestiae et omnis error nostrum\\nmolestiae illo tempore quia et distinctio',\n",
       "  u'id': 25,\n",
       "  u'title': u'rem alias distinctio quo quis',\n",
       "  u'userId': 3},\n",
       " {u'body': u'similique esse doloribus nihil accusamus\\nomnis dolorem fuga consequuntur reprehenderit fugit recusandae temporibus\\nperspiciatis cum ut laudantium\\nomnis aut molestiae vel vero',\n",
       "  u'id': 26,\n",
       "  u'title': u'est et quae odit qui non',\n",
       "  u'userId': 3},\n",
       " {u'body': u'eum sed dolores ipsam sint possimus debitis occaecati\\ndebitis qui qui et\\nut placeat enim earum aut odit facilis\\nconsequatur suscipit necessitatibus rerum sed inventore temporibus consequatur',\n",
       "  u'id': 27,\n",
       "  u'title': u'quasi id et eos tenetur aut quo autem',\n",
       "  u'userId': 3},\n",
       " {u'body': u'non et quaerat ex quae ad maiores\\nmaiores recusandae totam aut blanditiis mollitia quas illo\\nut voluptatibus voluptatem\\nsimilique nostrum eum',\n",
       "  u'id': 28,\n",
       "  u'title': u'delectus ullam et corporis nulla voluptas sequi',\n",
       "  u'userId': 3},\n",
       " {u'body': u'odit magnam ut saepe sed non qui\\ntempora atque nihil\\naccusamus illum doloribus illo dolor\\neligendi repudiandae odit magni similique sed cum maiores',\n",
       "  u'id': 29,\n",
       "  u'title': u'iusto eius quod necessitatibus culpa ea',\n",
       "  u'userId': 3},\n",
       " {u'body': u'alias dolor cumque\\nimpedit blanditiis non eveniet odio maxime\\nblanditiis amet eius quis tempora quia autem rem\\na provident perspiciatis quia',\n",
       "  u'id': 30,\n",
       "  u'title': u'a quo magni similique perferendis',\n",
       "  u'userId': 3},\n",
       " {u'body': u'debitis eius sed quibusdam non quis consectetur vitae\\nimpedit ut qui consequatur sed aut in\\nquidem sit nostrum et maiores adipisci atque\\nquaerat voluptatem adipisci repudiandae',\n",
       "  u'id': 31,\n",
       "  u'title': u'ullam ut quidem id aut vel consequuntur',\n",
       "  u'userId': 4},\n",
       " {u'body': u'deserunt eos nobis asperiores et hic\\nest debitis repellat molestiae optio\\nnihil ratione ut eos beatae quibusdam distinctio maiores\\nearum voluptates et aut adipisci ea maiores voluptas maxime',\n",
       "  u'id': 32,\n",
       "  u'title': u'doloremque illum aliquid sunt',\n",
       "  u'userId': 4},\n",
       " {u'body': u'rerum ut et numquam laborum odit est sit\\nid qui sint in\\nquasi tenetur tempore aperiam et quaerat qui in\\nrerum officiis sequi cumque quod',\n",
       "  u'id': 33,\n",
       "  u'title': u'qui explicabo molestiae dolorem',\n",
       "  u'userId': 4},\n",
       " {u'body': u'ea velit perferendis earum ut voluptatem voluptate itaque iusto\\ntotam pariatur in\\nnemo voluptatem voluptatem autem magni tempora minima in\\nest distinctio qui assumenda accusamus dignissimos officia nesciunt nobis',\n",
       "  u'id': 34,\n",
       "  u'title': u'magnam ut rerum iure',\n",
       "  u'userId': 4},\n",
       " {u'body': u'nisi error delectus possimus ut eligendi vitae\\nplaceat eos harum cupiditate facilis reprehenderit voluptatem beatae\\nmodi ducimus quo illum voluptas eligendi\\net nobis quia fugit',\n",
       "  u'id': 35,\n",
       "  u'title': u'id nihil consequatur molestias animi provident',\n",
       "  u'userId': 4},\n",
       " {u'body': u'ad mollitia et omnis minus architecto odit\\nvoluptas doloremque maxime aut non ipsa qui alias veniam\\nblanditiis culpa aut quia nihil cumque facere et occaecati\\nqui aspernatur quia eaque ut aperiam inventore',\n",
       "  u'id': 36,\n",
       "  u'title': u'fuga nam accusamus voluptas reiciendis itaque',\n",
       "  u'userId': 4},\n",
       " {u'body': u'debitis et eaque non officia sed nesciunt pariatur vel\\nvoluptatem iste vero et ea\\nnumquam aut expedita ipsum nulla in\\nvoluptates omnis consequatur aut enim officiis in quam qui',\n",
       "  u'id': 37,\n",
       "  u'title': u'provident vel ut sit ratione est',\n",
       "  u'userId': 4},\n",
       " {u'body': u'animi esse sit aut sit nesciunt assumenda eum voluptas\\nquia voluptatibus provident quia necessitatibus ea\\nrerum repudiandae quia voluptatem delectus fugit aut id quia\\nratione optio eos iusto veniam iure',\n",
       "  u'id': 38,\n",
       "  u'title': u'explicabo et eos deleniti nostrum ab id repellendus',\n",
       "  u'userId': 4},\n",
       " {u'body': u'corporis rerum ducimus vel eum accusantium\\nmaxime aspernatur a porro possimus iste omnis\\nest in deleniti asperiores fuga aut\\nvoluptas sapiente vel dolore minus voluptatem incidunt ex',\n",
       "  u'id': 39,\n",
       "  u'title': u'eos dolorem iste accusantium est eaque quam',\n",
       "  u'userId': 4},\n",
       " {u'body': u'ut voluptatum aliquid illo tenetur nemo sequi quo facilis\\nipsum rem optio mollitia quas\\nvoluptatem eum voluptas qui\\nunde omnis voluptatem iure quasi maxime voluptas nam',\n",
       "  u'id': 40,\n",
       "  u'title': u'enim quo cumque',\n",
       "  u'userId': 4},\n",
       " {u'body': u'molestias id nostrum\\nexcepturi molestiae dolore omnis repellendus quaerat saepe\\nconsectetur iste quaerat tenetur asperiores accusamus ex ut\\nnam quidem est ducimus sunt debitis saepe',\n",
       "  u'id': 41,\n",
       "  u'title': u'non est facere',\n",
       "  u'userId': 5},\n",
       " {u'body': u'odio fugit voluptatum ducimus earum autem est incidunt voluptatem\\nodit reiciendis aliquam sunt sequi nulla dolorem\\nnon facere repellendus voluptates quia\\nratione harum vitae ut',\n",
       "  u'id': 42,\n",
       "  u'title': u'commodi ullam sint et excepturi error explicabo praesentium voluptas',\n",
       "  u'userId': 5},\n",
       " {u'body': u'similique fugit est\\nillum et dolorum harum et voluptate eaque quidem\\nexercitationem quos nam commodi possimus cum odio nihil nulla\\ndolorum exercitationem magnam ex et a et distinctio debitis',\n",
       "  u'id': 43,\n",
       "  u'title': u'eligendi iste nostrum consequuntur adipisci praesentium sit beatae perferendis',\n",
       "  u'userId': 5},\n",
       " {u'body': u'temporibus est consectetur dolore\\net libero debitis vel velit laboriosam quia\\nipsum quibusdam qui itaque fuga rem aut\\nea et iure quam sed maxime ut distinctio quae',\n",
       "  u'id': 44,\n",
       "  u'title': u'optio dolor molestias sit',\n",
       "  u'userId': 5},\n",
       " {u'body': u'est natus reiciendis nihil possimus aut provident\\nex et dolor\\nrepellat pariatur est\\nnobis rerum repellendus dolorem autem',\n",
       "  u'id': 45,\n",
       "  u'title': u'ut numquam possimus omnis eius suscipit laudantium iure',\n",
       "  u'userId': 5},\n",
       " {u'body': u'voluptatem quisquam iste\\nvoluptatibus natus officiis facilis dolorem\\nquis quas ipsam\\nvel et voluptatum in aliquid',\n",
       "  u'id': 46,\n",
       "  u'title': u'aut quo modi neque nostrum ducimus',\n",
       "  u'userId': 5},\n",
       " {u'body': u'voluptatem assumenda ut qui ut cupiditate aut impedit veniam\\noccaecati nemo illum voluptatem laudantium\\nmolestiae beatae rerum ea iure soluta nostrum\\neligendi et voluptate',\n",
       "  u'id': 47,\n",
       "  u'title': u'quibusdam cumque rem aut deserunt',\n",
       "  u'userId': 5},\n",
       " {u'body': u'voluptates quo voluptatem facilis iure occaecati\\nvel assumenda rerum officia et\\nillum perspiciatis ab deleniti\\nlaudantium repellat ad ut et autem reprehenderit',\n",
       "  u'id': 48,\n",
       "  u'title': u'ut voluptatem illum ea doloribus itaque eos',\n",
       "  u'userId': 5},\n",
       " {u'body': u'inventore ab sint\\nnatus fugit id nulla sequi architecto nihil quaerat\\neos tenetur in in eum veritatis non\\nquibusdam officiis aspernatur cumque aut commodi aut',\n",
       "  u'id': 49,\n",
       "  u'title': u'laborum non sunt aut ut assumenda perspiciatis voluptas',\n",
       "  u'userId': 5},\n",
       " {u'body': u'error suscipit maxime adipisci consequuntur recusandae\\nvoluptas eligendi et est et voluptates\\nquia distinctio ab amet quaerat molestiae et vitae\\nadipisci impedit sequi nesciunt quis consectetur',\n",
       "  u'id': 50,\n",
       "  u'title': u'repellendus qui recusandae incidunt voluptates tenetur qui omnis exercitationem',\n",
       "  u'userId': 5},\n",
       " {u'body': u'sunt dolores aut doloribus\\ndolore doloribus voluptates tempora et\\ndoloremque et quo\\ncum asperiores sit consectetur dolorem',\n",
       "  u'id': 51,\n",
       "  u'title': u'soluta aliquam aperiam consequatur illo quis voluptas',\n",
       "  u'userId': 6},\n",
       " {u'body': u'iusto est quibusdam fuga quas quaerat molestias\\na enim ut sit accusamus enim\\ntemporibus iusto accusantium provident architecto\\nsoluta esse reprehenderit qui laborum',\n",
       "  u'id': 52,\n",
       "  u'title': u'qui enim et consequuntur quia animi quis voluptate quibusdam',\n",
       "  u'userId': 6},\n",
       " {u'body': u'minima harum praesentium eum rerum illo dolore\\nquasi exercitationem rerum nam\\nporro quis neque quo\\nconsequatur minus dolor quidem veritatis sunt non explicabo similique',\n",
       "  u'id': 53,\n",
       "  u'title': u'ut quo aut ducimus alias',\n",
       "  u'userId': 6},\n",
       " {u'body': u'totam corporis dignissimos\\nvitae dolorem ut occaecati accusamus\\nex velit deserunt\\net exercitationem vero incidunt corrupti mollitia',\n",
       "  u'id': 54,\n",
       "  u'title': u'sit asperiores ipsam eveniet odio non quia',\n",
       "  u'userId': 6},\n",
       " {u'body': u'debitis excepturi ea perferendis harum libero optio\\neos accusamus cum fuga ut sapiente repudiandae\\net ut incidunt omnis molestiae\\nnihil ut eum odit',\n",
       "  u'id': 55,\n",
       "  u'title': u'sit vel voluptatem et non libero',\n",
       "  u'userId': 6},\n",
       " {u'body': u'aut est omnis dolores\\nneque rerum quod ea rerum velit pariatur beatae excepturi\\net provident voluptas corrupti\\ncorporis harum reprehenderit dolores eligendi',\n",
       "  u'id': 56,\n",
       "  u'title': u'qui et at rerum necessitatibus',\n",
       "  u'userId': 6},\n",
       " {u'body': u'at pariatur consequuntur earum quidem\\nquo est laudantium soluta voluptatem\\nqui ullam et est\\net cum voluptas voluptatum repellat est',\n",
       "  u'id': 57,\n",
       "  u'title': u'sed ab est est',\n",
       "  u'userId': 6},\n",
       " {u'body': u'veniam voluptatum quae adipisci id\\net id quia eos ad et dolorem\\naliquam quo nisi sunt eos impedit error\\nad similique veniam',\n",
       "  u'id': 58,\n",
       "  u'title': u'voluptatum itaque dolores nisi et quasi',\n",
       "  u'userId': 6},\n",
       " {u'body': u'perspiciatis et quam ea autem temporibus non voluptatibus qui\\nbeatae a earum officia nesciunt dolores suscipit voluptas et\\nanimi doloribus cum rerum quas et magni\\net hic ut ut commodi expedita sunt',\n",
       "  u'id': 59,\n",
       "  u'title': u'qui commodi dolor at maiores et quis id accusantium',\n",
       "  u'userId': 6},\n",
       " {u'body': u'asperiores sunt ab assumenda cumque modi velit\\nqui esse omnis\\nvoluptate et fuga perferendis voluptas\\nillo ratione amet aut et omnis',\n",
       "  u'id': 60,\n",
       "  u'title': u'consequatur placeat omnis quisquam quia reprehenderit fugit veritatis facere',\n",
       "  u'userId': 6},\n",
       " {u'body': u'ab nemo optio odio\\ndelectus tenetur corporis similique nobis repellendus rerum omnis facilis\\nvero blanditiis debitis in nesciunt doloribus dicta dolores\\nmagnam minus velit',\n",
       "  u'id': 61,\n",
       "  u'title': u'voluptatem doloribus consectetur est ut ducimus',\n",
       "  u'userId': 7},\n",
       " {u'body': u'enim aspernatur illo distinctio quae praesentium\\nbeatae alias amet delectus qui voluptate distinctio\\nodit sint accusantium autem omnis\\nquo molestiae omnis ea eveniet optio',\n",
       "  u'id': 62,\n",
       "  u'title': u'beatae enim quia vel',\n",
       "  u'userId': 7},\n",
       " {u'body': u'enim adipisci aspernatur nemo\\nnumquam omnis facere dolorem dolor ex quis temporibus incidunt\\nab delectus culpa quo reprehenderit blanditiis asperiores\\naccusantium ut quam in voluptatibus voluptas ipsam dicta',\n",
       "  u'id': 63,\n",
       "  u'title': u'voluptas blanditiis repellendus animi ducimus error sapiente et suscipit',\n",
       "  u'userId': 7},\n",
       " {u'body': u'id velit blanditiis\\neum ea voluptatem\\nmolestiae sint occaecati est eos perspiciatis\\nincidunt a error provident eaque aut aut qui',\n",
       "  u'id': 64,\n",
       "  u'title': u'et fugit quas eum in in aperiam quod',\n",
       "  u'userId': 7},\n",
       " {u'body': u'voluptatibus ex esse\\nsint explicabo est aliquid cumque adipisci fuga repellat labore\\nmolestiae corrupti ex saepe at asperiores et perferendis\\nnatus id esse incidunt pariatur',\n",
       "  u'id': 65,\n",
       "  u'title': u'consequatur id enim sunt et et',\n",
       "  u'userId': 7},\n",
       " {u'body': u'officia veritatis tenetur vero qui itaque\\nsint non ratione\\nsed et ut asperiores iusto eos molestiae nostrum\\nveritatis quibusdam et nemo iusto saepe',\n",
       "  u'id': 66,\n",
       "  u'title': u'repudiandae ea animi iusto',\n",
       "  u'userId': 7},\n",
       " {u'body': u'reprehenderit id nostrum\\nvoluptas doloremque pariatur sint et accusantium quia quod aspernatur\\net fugiat amet\\nnon sapiente et consequatur necessitatibus molestiae',\n",
       "  u'id': 67,\n",
       "  u'title': u'aliquid eos sed fuga est maxime repellendus',\n",
       "  u'userId': 7},\n",
       " {u'body': u'magnam molestiae perferendis quisquam\\nqui cum reiciendis\\nquaerat animi amet hic inventore\\nea quia deleniti quidem saepe porro velit',\n",
       "  u'id': 68,\n",
       "  u'title': u'odio quis facere architecto reiciendis optio',\n",
       "  u'userId': 7},\n",
       " {u'body': u'officiis error culpa consequatur modi asperiores et\\ndolorum assumenda voluptas et vel qui aut vel rerum\\nvoluptatum quisquam perspiciatis quia rerum consequatur totam quas\\nsequi commodi repudiandae asperiores et saepe a',\n",
       "  u'id': 69,\n",
       "  u'title': u'fugiat quod pariatur odit minima',\n",
       "  u'userId': 7},\n",
       " {u'body': u'sunt repellendus quae\\nest asperiores aut deleniti esse accusamus repellendus quia aut\\nquia dolorem unde\\neum tempora esse dolore',\n",
       "  u'id': 70,\n",
       "  u'title': u'voluptatem laborum magni',\n",
       "  u'userId': 7},\n",
       " {u'body': u'occaecati a doloribus\\niste saepe consectetur placeat eum voluptate dolorem et\\nqui quo quia voluptas\\nrerum ut id enim velit est perferendis',\n",
       "  u'id': 71,\n",
       "  u'title': u'et iusto veniam et illum aut fuga',\n",
       "  u'userId': 8},\n",
       " {u'body': u'quam occaecati qui deleniti consectetur\\nconsequatur aut facere quas exercitationem aliquam hic voluptas\\nneque id sunt ut aut accusamus\\nsunt consectetur expedita inventore velit',\n",
       "  u'id': 72,\n",
       "  u'title': u'sint hic doloribus consequatur eos non id',\n",
       "  u'userId': 8},\n",
       " {u'body': u'voluptatem cumque tenetur consequatur expedita ipsum nemo quia explicabo\\naut eum minima consequatur\\ntempore cumque quae est et\\net in consequuntur voluptatem voluptates aut',\n",
       "  u'id': 73,\n",
       "  u'title': u'consequuntur deleniti eos quia temporibus ab aliquid at',\n",
       "  u'userId': 8},\n",
       " {u'body': u'odit qui et et necessitatibus sint veniam\\nmollitia amet doloremque molestiae commodi similique magnam et quam\\nblanditiis est itaque\\nquo et tenetur ratione occaecati molestiae tempora',\n",
       "  u'id': 74,\n",
       "  u'title': u'enim unde ratione doloribus quas enim ut sit sapiente',\n",
       "  u'userId': 8},\n",
       " {u'body': u'commodi non non omnis et voluptas sit\\nautem aut nobis magnam et sapiente voluptatem\\net laborum repellat qui delectus facilis temporibus\\nrerum amet et nemo voluptate expedita adipisci error dolorem',\n",
       "  u'id': 75,\n",
       "  u'title': u'dignissimos eum dolor ut enim et delectus in',\n",
       "  u'userId': 8},\n",
       " {u'body': u'ut animi facere\\ntotam iusto tempore\\nmolestiae eum aut et dolorem aperiam\\nquaerat recusandae totam odio',\n",
       "  u'id': 76,\n",
       "  u'title': u'doloremque officiis ad et non perferendis',\n",
       "  u'userId': 8},\n",
       " {u'body': u'modi ut in nulla repudiandae dolorum nostrum eos\\naut consequatur omnis\\nut incidunt est omnis iste et quam\\nvoluptates sapiente aliquam asperiores nobis amet corrupti repudiandae provident',\n",
       "  u'id': 77,\n",
       "  u'title': u'necessitatibus quasi exercitationem odio',\n",
       "  u'userId': 8},\n",
       " {u'body': u'nobis facilis odit tempore cupiditate quia\\nassumenda doloribus rerum qui ea\\nillum et qui totam\\naut veniam repellendus',\n",
       "  u'id': 78,\n",
       "  u'title': u'quam voluptatibus rerum veritatis',\n",
       "  u'userId': 8},\n",
       " {u'body': u'libero accusantium et et facere incidunt sit dolorem\\nnon excepturi qui quia sed laudantium\\nquisquam molestiae ducimus est\\nofficiis esse molestiae iste et quos',\n",
       "  u'id': 79,\n",
       "  u'title': u'pariatur consequatur quia magnam autem omnis non amet',\n",
       "  u'userId': 8},\n",
       " {u'body': u'ex quod dolorem ea eum iure qui provident amet\\nquia qui facere excepturi et repudiandae\\nasperiores molestias provident\\nminus incidunt vero fugit rerum sint sunt excepturi provident',\n",
       "  u'id': 80,\n",
       "  u'title': u'labore in ex et explicabo corporis aut quas',\n",
       "  u'userId': 8},\n",
       " {u'body': u'facere qui nesciunt est voluptatum voluptatem nisi\\nsequi eligendi necessitatibus ea at rerum itaque\\nharum non ratione velit laboriosam quis consequuntur\\nex officiis minima doloremque voluptas ut aut',\n",
       "  u'id': 81,\n",
       "  u'title': u'tempora rem veritatis voluptas quo dolores vero',\n",
       "  u'userId': 9},\n",
       " {u'body': u'ut libero sit aut totam inventore sunt\\nporro sint qui sunt molestiae\\nconsequatur cupiditate qui iste ducimus adipisci\\ndolor enim assumenda soluta laboriosam amet iste delectus hic',\n",
       "  u'id': 82,\n",
       "  u'title': u'laudantium voluptate suscipit sunt enim enim',\n",
       "  u'userId': 9},\n",
       " {u'body': u'est molestiae facilis quis tempora numquam nihil qui\\nvoluptate sapiente consequatur est qui\\nnecessitatibus autem aut ipsa aperiam modi dolore numquam\\nreprehenderit eius rem quibusdam',\n",
       "  u'id': 83,\n",
       "  u'title': u'odit et voluptates doloribus alias odio et',\n",
       "  u'userId': 9},\n",
       " {u'body': u'sint molestiae magni a et quos\\neaque et quasi\\nut rerum debitis similique veniam\\nrecusandae dignissimos dolor incidunt consequatur odio',\n",
       "  u'id': 84,\n",
       "  u'title': u'optio ipsam molestias necessitatibus occaecati facilis veritatis dolores aut',\n",
       "  u'userId': 9},\n",
       " {u'body': u'similique sed nisi voluptas iusto omnis\\nmollitia et quo\\nassumenda suscipit officia magnam sint sed tempora\\nenim provident pariatur praesentium atque animi amet ratione',\n",
       "  u'id': 85,\n",
       "  u'title': u'dolore veritatis porro provident adipisci blanditiis et sunt',\n",
       "  u'userId': 9},\n",
       " {u'body': u'quasi excepturi consequatur iste autem temporibus sed molestiae beatae\\net quaerat et esse ut\\nvoluptatem occaecati et vel explicabo autem\\nasperiores pariatur deserunt optio',\n",
       "  u'id': 86,\n",
       "  u'title': u'placeat quia et porro iste',\n",
       "  u'userId': 9},\n",
       " {u'body': u'eos et molestiae\\nnesciunt ut a\\ndolores perspiciatis repellendus repellat aliquid\\nmagnam sint rem ipsum est',\n",
       "  u'id': 87,\n",
       "  u'title': u'nostrum quis quasi placeat',\n",
       "  u'userId': 9},\n",
       " {u'body': u'consequatur omnis est praesentium\\nducimus non iste\\nneque hic deserunt\\nvoluptatibus veniam cum et rerum sed',\n",
       "  u'id': 88,\n",
       "  u'title': u'sapiente omnis fugit eos',\n",
       "  u'userId': 9},\n",
       " {u'body': u'repellat aut aperiam totam temporibus autem et\\narchitecto magnam ut\\nconsequatur qui cupiditate rerum quia soluta dignissimos nihil iure\\ntempore quas est',\n",
       "  u'id': 89,\n",
       "  u'title': u'sint soluta et vel magnam aut ut sed qui',\n",
       "  u'userId': 9},\n",
       " {u'body': u'minus omnis soluta quia\\nqui sed adipisci voluptates illum ipsam voluptatem\\neligendi officia ut in\\neos soluta similique molestias praesentium blanditiis',\n",
       "  u'id': 90,\n",
       "  u'title': u'ad iusto omnis odit dolor voluptatibus',\n",
       "  u'userId': 9},\n",
       " {u'body': u'libero voluptate eveniet aperiam sed\\nsunt placeat suscipit molestias\\nsimilique fugit nam natus\\nexpedita consequatur consequatur dolores quia eos et placeat',\n",
       "  u'id': 91,\n",
       "  u'title': u'aut amet sed',\n",
       "  u'userId': 10},\n",
       " {u'body': u'aut et excepturi dicta laudantium sint rerum nihil\\nlaudantium et at\\na neque minima officia et similique libero et\\ncommodi voluptate qui',\n",
       "  u'id': 92,\n",
       "  u'title': u'ratione ex tenetur perferendis',\n",
       "  u'userId': 10},\n",
       " {u'body': u'dolorem quibusdam ducimus consequuntur dicta aut quo laboriosam\\nvoluptatem quis enim recusandae ut sed sunt\\nnostrum est odit totam\\nsit error sed sunt eveniet provident qui nulla',\n",
       "  u'id': 93,\n",
       "  u'title': u'beatae soluta recusandae',\n",
       "  u'userId': 10},\n",
       " {u'body': u'aspernatur expedita soluta quo ab ut similique\\nexpedita dolores amet\\nsed temporibus distinctio magnam saepe deleniti\\nomnis facilis nam ipsum natus sint similique omnis',\n",
       "  u'id': 94,\n",
       "  u'title': u'qui qui voluptates illo iste minima',\n",
       "  u'userId': 10},\n",
       " {u'body': u'earum voluptatem facere provident blanditiis velit laboriosam\\npariatur accusamus odio saepe\\ncumque dolor qui a dicta ab doloribus consequatur omnis\\ncorporis cupiditate eaque assumenda ad nesciunt',\n",
       "  u'id': 95,\n",
       "  u'title': u'id minus libero illum nam ad officiis',\n",
       "  u'userId': 10},\n",
       " {u'body': u'in non odio excepturi sint eum\\nlabore voluptates vitae quia qui et\\ninventore itaque rerum\\nveniam non exercitationem delectus aut',\n",
       "  u'id': 96,\n",
       "  u'title': u'quaerat velit veniam amet cupiditate aut numquam ut sequi',\n",
       "  u'userId': 10},\n",
       " {u'body': u'eum non blanditiis soluta porro quibusdam voluptas\\nvel voluptatem qui placeat dolores qui velit aut\\nvel inventore aut cumque culpa explicabo aliquid at\\nperspiciatis est et voluptatem dignissimos dolor itaque sit nam',\n",
       "  u'id': 97,\n",
       "  u'title': u'quas fugiat ut perspiciatis vero provident',\n",
       "  u'userId': 10},\n",
       " {u'body': u'doloremque ex facilis sit sint culpa\\nsoluta assumenda eligendi non ut eius\\nsequi ducimus vel quasi\\nveritatis est dolores',\n",
       "  u'id': 98,\n",
       "  u'title': u'laboriosam dolor voluptates',\n",
       "  u'userId': 10},\n",
       " {u'body': u'quo deleniti praesentium dicta non quod\\naut est molestias\\nmolestias et officia quis nihil\\nitaque dolorem quia',\n",
       "  u'id': 99,\n",
       "  u'title': u'temporibus sit alias delectus eligendi possimus magni',\n",
       "  u'userId': 10},\n",
       " {u'body': u'cupiditate quo est a modi nesciunt soluta\\nipsa voluptas error itaque dicta in\\nautem qui minus magnam et distinctio eum\\naccusamus ratione error aut',\n",
       "  u'id': 100,\n",
       "  u'title': u'at nam consequatur ea labore ea harum',\n",
       "  u'userId': 10},\n",
       " {u'id': 101}]"
      ]
     },
     "execution_count": 18,
     "metadata": {},
     "output_type": "execute_result"
    }
   ],
   "source": [
    "# 注意requests.models.Response Object的json()是一個method不是attribute\n",
    "res_json.json() # 自動將json轉換為Python dictionary"
   ]
  },
  {
   "cell_type": "code",
   "execution_count": 25,
   "metadata": {
    "collapsed": false
   },
   "outputs": [],
   "source": [
    "# 另外一個可以取得資料的方法，POST\n",
    "# 通常用在有表單／查詢的地方\n",
    "URL = \"https://www.thsrc.com.tw/tw/TimeTable/SearchResult\"\n",
    "data = {\n",
    "    'StartStation':'977abb69-413a-4ccf-a109-0272c24fd490',\n",
    "    'EndStation':'9c5ac6ca-ec89-48f8-aab0-41b738cb1814',\n",
    "    'SearchDate':'2016/08/23',\n",
    "    'SearchTime':'06:30',\n",
    "    'SearchWay':'DepartureInMandarin',\n",
    "}\n",
    "res = requests.post(URL, data=data)"
   ]
  },
  {
   "cell_type": "code",
   "execution_count": 26,
   "metadata": {
    "collapsed": true
   },
   "outputs": [
    {
     "data": {
      "text/plain": [
       "u'\\r\\n\\r\\n<!DOCTYPE html>\\r\\n<html lang=\"zh-tw\">\\r\\n\\r\\n\\r\\n\\r\\n<meta charset=\"utf-8\" />\\r\\n<link rel=\"shortcut icon\" href=\"/Content/favicon/favicon.ico\" />\\r\\n<!--<meta name=\"viewport\" content=\"width=device-width, initial-scale=1.0, user-scalable=no, minimum-scale=1.0, maximum-scale=1.0\" />-->\\r\\n<meta name=\"keywords\" content=\"\\u9ad8\\u9435,\\u5feb\\u901f,\\u65c5\\u904a\\u5047\\u671f,\\u904a\\u73a9\">\\r\\n<meta name=\"description\" content=\"\\u53f0\\u7063\\u9ad8\\u9435\\u9023\\u7d50\\u53f0\\u7063\\u5357\\u5317\\u4e3b\\u8981\\u57ce\\u5e02\\uff0c\\u6211\\u5011\\u4e0d\\u53ea\\u662f\\u4ea4\\u901a\\u904b\\u8f38\\u696d\\uff0c\\u66f4\\u662f\\u63a8\\u52d5\\u53f0\\u7063\\xad\\u524d\\u9032\\u7684\\u670d\\u52d9\\u696d\\uff1b\\u6211\\u5011\\u4ee3\\u8868\\u7684\\u4e0d\\u50c5\\u53ea\\u662f\\u901f\\u5ea6\\uff0c\\u800c\\u662f\\u901f\\u5ea6\\u6240\\u5e36\\u4f86\\u7684\\u73fe\\u4ee3\\u751f\\u6d3b\\u65b0\\u614b\\u5ea6\\uff1b\\u6211\\u5011\\u4ee5\\u66f4\\u6587\\u660e\\u7684\\u65c5\\u884c\\u9ad4\\u9a57\\uff0c\\u6210\\u70ba\\u4f60\\u5be6\\u73fe\\u5922\\u60f3\\u7684\\u52a9\\u529b\\uff0c\\u53f0\\u7063\\u9ad8\\u9435\\uff0c\\u5be6\\u8e10\\u53f0\\u7063\\u65b0\\u751f\\u6d3b\\u3002\">\\r\\n<meta name=\"author\" content=\"mi70 uni-net\" />\\r\\n\\r\\n\\r\\n    <meta http-equiv=\"cache-control\" content=\"private\">\\r\\n\\r\\n\\r\\n<!--Facebook SEO start-->\\r\\n\\r\\n<meta property=\"og:title\" content=\"\\u53f0\\u7063\\u9ad8\\u9435\" />\\r\\n<meta property=\"og:url\" content=\"http://www.thsrc.com.tw/\" />\\r\\n<meta property=\"og:image\" content=\"http://www.thsrc.com.tw/Content/logo.jpg\" />\\r\\n<!--Facebook SEO end-->\\r\\n    \\r\\n<!--Google +1 start-->\\r\\n<meta itemprop=\"name\" content=\"\\u53f0\\u7063\\u9ad8\\u9435\" />\\r\\n<meta itemprop=\"description\" content=\"\\u53f0\\u7063\\u9ad8\\u9435\\u9023\\u7d50\\u53f0\\u7063\\u5357\\u5317\\u4e3b\\u8981\\u57ce\\u5e02\\uff0c\\u6211\\u5011\\u4e0d\\u53ea\\u662f\\u4ea4\\u901a\\u904b\\u8f38\\u696d\\uff0c\\u66f4\\u662f\\u63a8\\u52d5\\u53f0\\u7063\\xad\\u524d\\u9032\\u7684\\u670d\\u52d9\\u696d\\uff1b\\u6211\\u5011\\u4ee3\\u8868\\u7684\\u4e0d\\u50c5\\u53ea\\u662f\\u901f\\u5ea6\\uff0c\\u800c\\u662f\\u901f\\u5ea6\\u6240\\u5e36\\u4f86\\u7684\\u73fe\\u4ee3\\u751f\\u6d3b\\u65b0\\u614b\\u5ea6\\uff1b\\u6211\\u5011\\u4ee5\\u66f4\\u6587\\u660e\\u7684\\u65c5\\u884c\\u9ad4\\u9a57\\uff0c\\u6210\\u70ba\\u4f60\\u5be6\\u73fe\\u5922\\u60f3\\u7684\\u52a9\\u529b\\uff0c\\u53f0\\u7063\\u9ad8\\u9435\\uff0c\\u5be6\\u8e10\\u53f0\\u7063\\u65b0\\u751f\\u6d3b\\u3002\" />\\r\\n<meta itemprop=\"image\" content=\"http://www.thsrc.com.tw/Content/logo.jpg\" />\\r\\n<!--Google +1 end-->\\r\\n\\r\\n<!--[if lt IE 9]>\\r\\n<script src=\"//html5shim.googlecode.com/svn/trunk/html5.js\"></script>\\r\\n<script src=\"/Content/dist/html5shiv.js\" type=\"text/javaScript\"></script>\\r\\n<script src=\"/Content/dist/html5shiv-printshiv.js\" type=\"text/javaScript\"></script>\\r\\n<![endif]-->\\r\\n<!--[if IE 7]>\\r\\n<script src=\"//ie7-js.googlecode.com/svn/version/2.1(beta4)/IE9.js\"></script>\\r\\n<![endif]-->\\r\\n<!--[if IE 8]>\\r\\n<script src=\"//ie7-js.googlecode.com/svn/version/2.1(beta4)/IE9.js\"></script>\\r\\n<![endif]-->\\r\\n<!--[if IE 6]>\\r\\n<link href=\"/Content/css/pngFix.css\"  rel=\"stylesheet\" type=\"text/css\" />\\r\\n<script src=\"/Content/iepngfix/iepngfix_tilebg.js\" type=\"text/javaScript\"></script> \\r\\n<![endif]-->\\r\\n\\r\\n\\r\\n\\r\\n<!-- Original CSS for the template -->\\r\\n<link href=\"/Content/css/css_reset.css\" rel=\"stylesheet\" type=\"text/css\" />\\r\\n\\r\\n<!-------------------->\\r\\n<!-- CSS for jQuery -->\\r\\n<!-------------------->\\r\\n<link href=\"/Content/css/jquery-ui-1.8.5.custom.css\" rel=\"stylesheet\" type=\"text/css\" />\\r\\n<link href=\"/Content/css/jquery.ui.datepicker.css\"  rel=\"stylesheet\" type=\"text/css\" />\\r\\n<link href=\"/Content/Script/fancybox/jquery.fancybox-1.3.1.css\" rel=\"stylesheet\" type=\"text/css\"  media=\"screen\" />\\r\\n\\r\\n\\r\\n<script src=\"/Content/Script/jquery-1.8.3.min.js\" type=\"text/javascript\"></script>\\r\\n<script src=\"/Content/Script/jquery-ui-1.8.5.custom.min.js\" type=\"text/javaScript\"></script>\\r\\n\\r\\n<script src=\"/Content/Script/ui.datepicker-zh-TW.js\" type=\"text/javaScript\"></script>\\r\\n\\r\\n<script src=\"/Content/Script/jquery.ui.datepicker.js\" type=\"text/javaScript\"></script>\\r\\n<script src=\"/Content/Script/fancybox/jquery.mousewheel-3.0.2.pack.js\" type=\"text/javaScript\"></script>\\r\\n<script src=\"/Content/Script/fancybox/jquery.fancybox-1.3.1.js\" type=\"text/javaScript\"></script>\\r\\n<script src=\"/Content/Script/dateTool.js\" type=\"text/javaScript\"></script>\\r\\n<script src=\"/Content/Script/THSRC.Common.js\" type=\"text/javaScript\"></script>\\r\\n<script language=\"JavaScript\" type=\"text/javascript\">\\r\\n    if (top.location != self.location) {\\r\\n        location.href = \"http://\" + self.location.host + \"/APPool/notice.html\";\\r\\n    }\\r\\n    </script>\\r\\n\\r\\n<!-------------------->\\r\\n<!------ jQuery ------>\\r\\n<!-------------------->\\r\\n\\r\\n<script src=\"/Content/Script/jquery.validate.min.js\" type=\"text/javaScript\"></script>\\r\\n<script src=\"/Content/Script/jquery.validate.extension.js\" type=\"text/javaScript\"></script>\\r\\n<script src=\"/Content/Script/date.js\" type=\"text/javaScript\"></script>\\r\\n\\r\\n\\r\\n\\r\\n<script src=\"/Content/Script/json2.js\" type=\"text/javaScript\"></script> \\r\\n<script src=\"/Content/Script/JSON4ms.js\" type=\"text/javaScript\"></script>\\r\\n<script src=\"/Content/Script/jquery.tmpl.min.js\" type=\"text/javaScript\"></script>\\r\\n<script src=\"/Content/Script/jquery.tmplPlus.min.js\" type=\"text/javaScript\"></script>\\r\\n\\r\\n\\r\\n<script src=\"/Content/Script/jquery.cookie.js\" type=\"text/javaScript\"></script>\\r\\n<script src=\"/Content/Script/jquery.keyfilter.js\" type=\"text/javaScript\"></script>\\r\\n\\r\\n<script src=\"/Content/Script/jquery.easing.1.3.js\" type=\"text/javaScript\"></script>\\r\\n<script src=\"/Content/Script/jquery.ui.core.js\" type=\"text/javaScript\"></script>\\r\\n\\r\\n<script src=\"/Content/Script/jquery.ui.mouse.js\" type=\"text/javaScript\"></script>\\r\\n\\r\\n\\r\\n<script src=\"/Content/Script/jquery.scrollTo-min.js\" type=\"text/javaScript\"></script>\\r\\n<script src=\"/Content/Script/jquery.jqprint-0.3.js\" type=\"text/javaScript\"></script>\\r\\n\\r\\n\\r\\n\\r\\n\\r\\n<!------------------------------>\\r\\n<!-- Uninet Customize Library -->\\r\\n<!------------------------------>\\r\\n<script src=\"/Content/Script/check.js\" type=\"text/javaScript\"></script>\\r\\n\\r\\n<script src=\"/Content/Script/behaviour.js\" type=\"text/javaScript\"></script>\\r\\n\\r\\n\\r\\n\\r\\n\\r\\n\\r\\n<script src=\"/Content/Script/THSRC.Extends.js\" type=\"text/javaScript\"></script>\\r\\n<script src=\"/Content/Script/THSRC.Property.js\" type=\"text/javaScript\"></script>\\r\\n<script src=\"/Content/Script/THSRC.AjaxCheckBox.js\" type=\"text/javaScript\"></script>\\r\\n<script src=\"/Content/Script/THSRC.AjaxDropDownList.js\" type=\"text/javaScript\"></script>\\r\\n<script src=\"/Content/Script/FancyBox.js\" type=\"text/javascript\"></script>\\r\\n<script src=\"/Content/Script/nextPrevBtn.js\" type=\"text/javascript\"></script>\\r\\n<script src=\"/Content/Script/photoCenter.js\" type=\"text/javascript\"></script>\\r\\n<script src=\"/Content/Script/SocialMedia.ShareButton.js\" type=\"text/javascript\"></script>\\r\\n\\r\\n<head id=\"ctl00_Head1\"><title>\\r\\n\\t\\r\\n        \\u53f0\\u7063\\u9ad8\\u9435 Taiwan High Speed Rail - \\u6642\\u523b\\u8868\\u8207\\u7968\\u50f9\\u67e5\\u8a62\\r\\n    \\r\\n</title></head>\\r\\n\\r\\n<link href=\"/Content/css/innerCommon.css\"      rel=\"stylesheet\" type=\"text/css\">\\r\\n\\r\\n<link href=\"/Content/css/inner_all_common.css\" rel=\"stylesheet\" type=\"text/css\">\\r\\n<link href=\"/Content/css/time_search.css\"      rel=\"stylesheet\" type=\"text/css\">\\r\\n\\r\\n<body>\\r\\n    <div class=\"wrapper\">\\r\\n        \\r\\n\\r\\n<header>\\r\\n            <h1><a href=\"/\" title=\"TAIWAN HIGH SPEED RAIL\" tabindex=\"1\">\\u53f0\\u7063\\u9ad8\\u9435</a></h1>\\r\\n            <aside class=\"top_aside\">\\r\\n              \\r\\n<ul>\\r\\n    <li class=\"aaBtn\"><a class=\"guildePoint\" href=\"#\" title=\"\\u4e0a\\u65b9\\u9078\\u55ae\\u5340\" accesskey=\"U\"><span style=\"color: white; margin: 0 8px 0 -8px;\">:::</span><a href=\"/tw/SiteMap\" title=\"\\u7db2\\u7ad9\\u5c0e\\u89bd\">\\u7db2\\u7ad9\\u5c0e\\u89bd</a></a></li>\\r\\n    <li class=\"addLine\"><a title=\\'\\u7e41\\u9ad4\\u4e2d\\u6587\\'\\r\\n        href=\"/tw/Home/Index\">\\r\\n        \\u7e41\\u9ad4\\u4e2d\\u6587\\r\\n    </a>\\r\\n    </li>\\r\\n    <li class=\"addLine\">\\r\\n        \\r\\n        \\r\\n        <a title=\\'\\u65e5\\u672c\\u8a9e\\'\\r\\n        href=\"http://www5.thsrc.com.tw/jp/\">\\r\\n        \\u65e5\\u672c\\u8a9e</a>\\r\\n\\r\\n        \\r\\n        \\r\\n    </li>\\r\\n    <li class=\"addLine\">\\r\\n        \\r\\n        \\r\\n        <a title=\\'English\\'\\r\\n        href=\"http://www5.thsrc.com.tw/en/\">\\r\\n        English</a>\\r\\n\\r\\n        \\r\\n        \\r\\n    </li>\\r\\n</ul>\\r\\n<form action=\"/tw/Home/Search\" id=\"formWholeSiteSearch\" method=\"post\" name=\"formWholeSiteSearch\">\\r\\n    <label for=\"searchBar\"><span style=\"display:none;\">\\u5168\\u7ad9\\u67e5\\u8a62</span></label>\\r\\n    <input id=\"searchBar\" name=\"searchBar\" placeholder=\"\\u8acb\\u8f38\\u5165\\u67e5\\u8a62\\u95dc\\u9375\\u5b57\" title=\"\\u8acb\\u8f38\\u5165\\u67e5\\u8a62\\u95dc\\u9375\\u5b57\" type=\"text\" value=\"\" />\\r\\n    <input type=\"submit\" id=\"searchBarSend\" onkeypress=\"SubmitSearch();return false;\" onclick=\"SubmitSearch();return false;\" />\\r\\n</form>\\r\\n<script type=\"text/javascript\">\\r\\n    function SubmitSearch() {\\r\\n        var keyword = $(\"#searchBar\").val();\\r\\n        if (keyword != \"\") {\\r\\n            $(\"#formWholeSiteSearch\").submit();\\r\\n        } else {\\r\\n            alert(\"\\u8acb\\u8f38\\u5165\\u641c\\u5c0b\\u5167\\u5bb9\");\\r\\n        }\\r\\n    }\\r\\n</script>\\r\\n<noscript>\\r\\n\\u8acb\\u8f38\\u5165\\u641c\\u5c0b\\u5167\\u5bb9\\r\\n</noscript>\\r\\n              <a href=\"https://www.facebook.com/thsrco\" target=\"_blank\" style=\"position:absolute; right:0px; top:34px;\" title=\"\\u9023\\u7d50\\u7c89\\u7d72\\u5c08\\u5340[\\u5c07\\u53e6\\u958b\\u65b0\\u8996\\u7a97]\">\\r\\n    <img border=\"0\" alt=\"\\u7c89\\u7d72\\u5c08\\u9801\" src=\"/Content/images_cn/common/fb_thsrco.jpg\"></a>\\r\\n            </aside>\\r\\n            \\r\\n\\r\\n <script type=\"text/javascript\" src=\"/Content/Script/forListMenu.js\"></script>\\r\\n  <script type=\"text/javascript\" src=\"/Content/Script/jquery.bgiframe.js\"></script>\\r\\n <link href=\"/Content/css/common_list_menu.css\" rel=\"stylesheet\" type=\"text/css\">\\r\\n <link href=\"/Content/css/common_list_menu_en_jp.css\" rel=\"stylesheet\" type=\"text/css\">\\r\\n\\r\\n\\r\\n<nav class=\"top_nav top_nav_tw\">\\r\\n\\t<ul>\\r\\n\\t<li class=\"nav_hot\" ><a href=\"/tw/SiteMap/#N\" title = \"\\u512a\\u60e0\\u6d3b\\u52d5\">\\u512a\\u60e0\\u6d3b\\u52d5</a>\\r\\n\\t\\t\\t\\t\\t\\t\\t\\t<div class=\"dl height_304\">\\r\\n\\t\\t\\t\\t\\t\\t\\t\\t\\t<div class=\"first_list\">\\r\\n\\t\\t\\t\\t\\t\\t\\t\\t\\t\\t<div class=\"has_photo_list\"><img src=\"/event/index_img/nav_hot.jpg\" width=\"200\" height=\"120\" alt=\"\\u512a\\u60e0\\u6d3b\\u52d5\" title = \"\\u512a\\u60e0\\u6d3b\\u52d5\"></div>\\r\\n\\t\\t\\t\\t\\t\\t\\t\\t\\t\\t<div title =\\u5bc6\\u96c6\\u65b9\\u4fbf\\uff0c\\u9ad8\\u9435\\u63d0\\u4f9b\\u60a8\\u6e96\\u9ede\\u53ef\\u9760\\u7684\\u5217\\u8eca\\u670d\\u52d9\\u3002 class=\"photo_list_word\">\\u5bc6\\u96c6\\u65b9\\u4fbf\\uff0c\\u9ad8\\u9435\\u63d0\\u4f9b\\u60a8\\u6e96\\u9ede\\u53ef\\u9760\\u7684\\u5217\\u8eca\\u670d\\u52d9\\u3002</div>\\r\\n\\t\\t\\t\\t\\t\\t\\t\\t\\t</div>\\r\\n\\t\\t\\t\\t\\t\\t\\t\\t\\t<div class=\"list_area list_area_tw\"> \\r\\n\\t\\t\\t\\t\\t\\t\\t\\t<div title =\"\\u8cfc\\u7968\\u512a\\u60e0\" class=\"dtnolink\">\\u8cfc\\u7968\\u512a\\u60e0</div>\\r\\n<div class=\"dd\">\\r\\n\\t\\t\\t\\t\\t\\t\\t<a title = \"\\u65e9\\u9ce5\\u512a\\u60e0\"  href=\"/tw/Article/ArticleContent/7039d17d-1463-4c14-ad93-4d491dedcad5\" alt = \"\\u65e9\\u9ce5\\u512a\\u60e0\"  >\\r\\n\\t\\t\\t\\t\\t\\t\\t\\u65e9\\u9ce5\\u512a\\u60e0\\r\\n\\t\\t\\t\\t\\t\\t\\t</a>\\r\\n\\t\\t\\t\\t\\t\\t\\t</div>\\r\\n<div class=\"dd\">\\r\\n\\t\\t\\t\\t\\t\\t\\t<a title = \"\\u4fe1\\u7528\\u5361\\u512a\\u60e0\\u5c08\\u5340\"  href=\"/tw/Article/ArticleContent/566d6bff-4427-461d-8b88-b6c4868f75c9\" alt = \"\\u4fe1\\u7528\\u5361\\u512a\\u60e0\\u5c08\\u5340\"  >\\r\\n\\t\\t\\t\\t\\t\\t\\t\\u4fe1\\u7528\\u5361\\u512a\\u60e0\\u5c08\\u5340\\r\\n\\t\\t\\t\\t\\t\\t\\t</a>\\r\\n\\t\\t\\t\\t\\t\\t\\t</div>\\r\\n<div class=\"dd\">\\r\\n\\t\\t\\t\\t\\t\\t\\t<a title = \"\\u6d3b\\u52d5\\u5957\\u7968\"  href=\"/tw/Article/ArticleContent/d794b386-96a7-445c-8a50-160862a037e9\" alt = \"\\u6d3b\\u52d5\\u5957\\u7968\"  >\\r\\n\\t\\t\\t\\t\\t\\t\\t\\u6d3b\\u52d5\\u5957\\u7968\\r\\n\\t\\t\\t\\t\\t\\t\\t</a>\\r\\n\\t\\t\\t\\t\\t\\t\\t</div>\\r\\n<div class=\"dd\">\\r\\n\\t\\t\\t\\t\\t\\t\\t<a title = \"\\u5927\\u5b78\\u751f\\u512a\\u60e0\"  href=\"/tw/Article/ArticleContent/530e869c-479d-441a-a4b4-61a8166827e9\" alt = \"\\u5927\\u5b78\\u751f\\u512a\\u60e0\"  >\\r\\n\\t\\t\\t\\t\\t\\t\\t\\u5927\\u5b78\\u751f\\u512a\\u60e0\\r\\n\\t\\t\\t\\t\\t\\t\\t</a>\\r\\n\\t\\t\\t\\t\\t\\t\\t</div>\\r\\n<div class=\"dd\">\\r\\n\\t\\t\\t\\t\\t\\t\\t<a title = \"\\u5e73\\u65e5\\u96e2\\u5cf096\\u6298\"  href=\"/tw/Article/ArticleContent/e75eb64d-0cbf-42de-a7fb-dc43116be985\" alt = \"\\u5e73\\u65e5\\u96e2\\u5cf096\\u6298\"  >\\r\\n\\t\\t\\t\\t\\t\\t\\t\\u5e73\\u65e5\\u96e2\\u5cf096\\u6298\\r\\n\\t\\t\\t\\t\\t\\t\\t</a>\\r\\n\\t\\t\\t\\t\\t\\t\\t</div>\\r\\n<div class=\"dd\">\\r\\n\\t\\t\\t\\t\\t\\t\\t<a title = \"25\\u4eba\\u4ee5\\u4e0a\\u5718\\u9ad4\\u512a\\u60e0\"  href=\"/tw/Article/ArticleContent/89a14510-7982-4b5e-88af-074305bfefed\" alt = \"25\\u4eba\\u4ee5\\u4e0a\\u5718\\u9ad4\\u512a\\u60e0\"  >\\r\\n\\t\\t\\t\\t\\t\\t\\t25\\u4eba\\u4ee5\\u4e0a\\u5718\\u9ad4\\u512a\\u60e0\\r\\n\\t\\t\\t\\t\\t\\t\\t</a>\\r\\n\\t\\t\\t\\t\\t\\t\\t</div>\\r\\n<div class=\"dd\">\\r\\n\\t\\t\\t\\t\\t\\t\\t<a title = \"\\u6821\\u5916\\u6559\\u5b78\\u512a\\u60e0\"  href=\"/tw/Article/ArticleContent/ca09cf02-8f65-4f87-b25e-31cb9c0e187b\" alt = \"\\u6821\\u5916\\u6559\\u5b78\\u512a\\u60e0\"  >\\r\\n\\t\\t\\t\\t\\t\\t\\t\\u6821\\u5916\\u6559\\u5b78\\u512a\\u60e0\\r\\n\\t\\t\\t\\t\\t\\t\\t</a>\\r\\n\\t\\t\\t\\t\\t\\t\\t</div>\\r\\n<div class=\"dd\">\\r\\n\\t\\t\\t\\t\\t\\t\\t<a title = \"\\u5718\\u9ad4\\u8a02\\u7968\"  href=\"/tw/Article/ArticleContent/41421730-b8ab-4fe3-b251-89e32cba8453\" alt = \"\\u5718\\u9ad4\\u8a02\\u7968\"  >\\r\\n\\t\\t\\t\\t\\t\\t\\t\\u5718\\u9ad4\\u8a02\\u7968\\r\\n\\t\\t\\t\\t\\t\\t\\t</a>\\r\\n\\t\\t\\t\\t\\t\\t\\t</div>\\r\\n<div class=\"dd\">\\r\\n\\t\\t\\t\\t\\t\\t\\t<a title = \"\\u56de\\u6578\\u7968\\u512a\\u60e0\"  href=\"/tw/Article/ArticleContent/8f06ca76-ab2d-4b77-bc20-73218ce3b892\" alt = \"\\u56de\\u6578\\u7968\\u512a\\u60e0\"  >\\r\\n\\t\\t\\t\\t\\t\\t\\t\\u56de\\u6578\\u7968\\u512a\\u60e0\\r\\n\\t\\t\\t\\t\\t\\t\\t</a>\\r\\n\\t\\t\\t\\t\\t\\t\\t</div>\\r\\n\\r\\n\\t\\t\\t\\t\\t\\t\\t</div>\\r\\n<div class=\"list_line\"></div>\\r\\n<div class=\"list_area list_area_tw\"> \\r\\n\\t\\t\\t\\t\\t\\t\\t\\t<div class=\"dd\">\\r\\n\\t\\t\\t\\t\\t\\t\\t<a title = \"\\u5b9a\\u671f\\u7968\\u512a\\u60e0\"  href=\"/tw/Article/ArticleContent/b7b46e29-424c-4fc4-8ec7-0ab3031f2c9c\" alt = \"\\u5b9a\\u671f\\u7968\\u512a\\u60e0\"  >\\r\\n\\t\\t\\t\\t\\t\\t\\t\\u5b9a\\u671f\\u7968\\u512a\\u60e0\\r\\n\\t\\t\\t\\t\\t\\t\\t</a>\\r\\n\\t\\t\\t\\t\\t\\t\\t</div>\\r\\n<div class=\"dd\">\\r\\n\\t\\t\\t\\t\\t\\t\\t<a title = \"\\u4f01\\u696d\\u6703\\u54e1\"  href=\"/tw/Article/ArticleContent/376238fd-2f6d-48f8-b070-9f2ea61b14b5\" alt = \"\\u4f01\\u696d\\u6703\\u54e1\"  >\\r\\n\\t\\t\\t\\t\\t\\t\\t\\u4f01\\u696d\\u6703\\u54e1\\r\\n\\t\\t\\t\\t\\t\\t\\t</a>\\r\\n\\t\\t\\t\\t\\t\\t\\t</div>\\r\\n<div class=\"dd\">\\r\\n\\t\\t\\t\\t\\t\\t\\t<a title = \"\\u5c11\\u5e74\\u642d\\u9ad8\\u9435\\u512a\\u60e0\"  href=\"/tw/Article/ArticleContent/eec3ca13-bd37-43fb-8ba1-4832491619e8\" alt = \"\\u5c11\\u5e74\\u642d\\u9ad8\\u9435\\u512a\\u60e0\"  >\\r\\n\\t\\t\\t\\t\\t\\t\\t\\u5c11\\u5e74\\u642d\\u9ad8\\u9435\\u512a\\u60e0<em></em>\\r\\n\\t\\t\\t\\t\\t\\t\\t</a>\\r\\n\\t\\t\\t\\t\\t\\t\\t</div>\\r\\n<div title =\"\\u6700\\u65b0\\u516c\\u544a\" class=\"dtnolink\">\\u6700\\u65b0\\u516c\\u544a</div>\\r\\n<div class=\"dd\">\\r\\n\\t\\t\\t\\t\\t\\t\\t<a title = \"\\u6700\\u65b0\\u6d88\\u606f\"  href=\"/tw/News/Index\" alt = \"\\u6700\\u65b0\\u6d88\\u606f\"  >\\r\\n\\t\\t\\t\\t\\t\\t\\t\\u6700\\u65b0\\u6d88\\u606f\\r\\n\\t\\t\\t\\t\\t\\t\\t</a>\\r\\n\\t\\t\\t\\t\\t\\t\\t</div>\\r\\n<div class=\"dd\">\\r\\n\\t\\t\\t\\t\\t\\t\\t<a title = \"\\u5217\\u8eca\\u904b\\u884c\\u72c0\\u6cc1\"  href=\"/tw/Operation/Index\" alt = \"\\u5217\\u8eca\\u904b\\u884c\\u72c0\\u6cc1\"  >\\r\\n\\t\\t\\t\\t\\t\\t\\t\\u5217\\u8eca\\u904b\\u884c\\u72c0\\u6cc1<em></em>\\r\\n\\t\\t\\t\\t\\t\\t\\t</a>\\r\\n\\t\\t\\t\\t\\t\\t\\t</div>\\r\\n<div title =\"\\u71b1\\u9580\\u6d3b\\u52d5\" class=\"dtnolink\">\\u71b1\\u9580\\u6d3b\\u52d5</div>\\r\\n<div class=\"dd\">\\r\\n\\t\\t\\t\\t\\t\\t\\t<a title = \"\\u9ad8\\u9435\\u71df\\u968a(2016\\u6691\\u5047)\"  href=\"http://www.thsrc.com.tw/tw/TCamp/Detail/f2b6cff3-14e6-4114-81d1-0b12105220e6\" alt = \"\\u9ad8\\u9435\\u71df\\u968a(2016\\u6691\\u5047)\"  >\\r\\n\\t\\t\\t\\t\\t\\t\\t\\u9ad8\\u9435\\u71df\\u968a(2016\\u6691\\u5047)\\r\\n\\t\\t\\t\\t\\t\\t\\t</a>\\r\\n\\t\\t\\t\\t\\t\\t\\t</div>\\r\\n<div class=\"dd\">\\r\\n\\t\\t\\t\\t\\t\\t\\t<a title = \"\\u6d3b\\u52d5\\u5408\\u4f5c\"  href=\"/tw/Article/ArticleContent/99ba7783-c46e-4b68-849b-e9084e5a0e15\" alt = \"\\u6d3b\\u52d5\\u5408\\u4f5c\"  >\\r\\n\\t\\t\\t\\t\\t\\t\\t\\u6d3b\\u52d5\\u5408\\u4f5c\\r\\n\\t\\t\\t\\t\\t\\t\\t</a>\\r\\n\\t\\t\\t\\t\\t\\t\\t</div>\\r\\n<div class=\"dd\">\\r\\n\\t\\t\\t\\t\\t\\t\\t<a title = \"\\u300c\\u85dd\\u300d\\u8d77\\u4f86\\u9ad8\\u9435\"  href=\"/tw/Article/ArticleContent/d9eee6e4-3bc9-4c1b-8e5c-f471fd0b7539\" alt = \"\\u300c\\u85dd\\u300d\\u8d77\\u4f86\\u9ad8\\u9435\"  >\\r\\n\\t\\t\\t\\t\\t\\t\\t\\u300c\\u85dd\\u300d\\u8d77\\u4f86\\u9ad8\\u9435<em></em>\\r\\n\\t\\t\\t\\t\\t\\t\\t</a>\\r\\n\\t\\t\\t\\t\\t\\t\\t</div>\\r\\n\\r\\n\\t\\t\\t\\t\\t\\t\\t</div>\\r\\n<div class=\"list_line\"></div>\\r\\n\\r\\n\\t\\t\\t\\t\\t\\t\\t\\t</div>\\r\\n\\t\\t\\t\\t\\t\\t\\t</li>\\r\\n<li class=\"nav_ticket\" ><a href=\"/tw/SiteMap/#T\" title = \"\\u8cfc\\u7968\\u8cc7\\u8a0a\">\\u8cfc\\u7968\\u8cc7\\u8a0a</a>\\r\\n\\t\\t\\t\\t\\t\\t\\t\\t<div class=\"dl height_304\">\\r\\n\\t\\t\\t\\t\\t\\t\\t\\t\\t<div class=\"first_list\">\\r\\n\\t\\t\\t\\t\\t\\t\\t\\t\\t\\t<div class=\"has_photo_list\"><img src=\"/event/index_img/nav_ticket.jpg\" width=\"200\" height=\"120\" alt=\"\\u8cfc\\u7968\\u8cc7\\u8a0a\" title = \"\\u8cfc\\u7968\\u8cc7\\u8a0a\"></div>\\r\\n\\t\\t\\t\\t\\t\\t\\t\\t\\t\\t<div title =\\u6700\\u65b0\\u7684\\u8cfc\\u7968\\u512a\\u60e0\\u53ca\\u5217\\u8eca\\u8cc7\\u8a0a\\uff0c\\u5feb\\u901f\\u638c\\u63e1\\u9ad8\\u9435\\u52d5\\u614b\\u3002 class=\"photo_list_word\">\\u6700\\u65b0\\u7684\\u8cfc\\u7968\\u512a\\u60e0\\u53ca\\u5217\\u8eca\\u8cc7\\u8a0a\\uff0c\\u5feb\\u901f\\u638c\\u63e1\\u9ad8\\u9435\\u52d5\\u614b\\u3002</div>\\r\\n\\t\\t\\t\\t\\t\\t\\t\\t\\t</div>\\r\\n\\t\\t\\t\\t\\t\\t\\t\\t\\t<div class=\"list_area list_area_tw\"> \\r\\n\\t\\t\\t\\t\\t\\t\\t\\t<div title =\"\\u7968\\u7a2e\\u8aaa\\u660e\" class=\"dtnolink\">\\u7968\\u7a2e\\u8aaa\\u660e</div>\\r\\n<div class=\"dd\">\\r\\n\\t\\t\\t\\t\\t\\t\\t<a title = \"\\u7968\\u50f9\\u7522\\u54c1\\u4e00\\u89bd\\u8868\"  href=\"/tw/Article/ArticleContent/caa6fac8-b875-4ad6-b1e6-96c2902d12a6\" alt = \"\\u7968\\u50f9\\u7522\\u54c1\\u4e00\\u89bd\\u8868\"  >\\r\\n\\t\\t\\t\\t\\t\\t\\t\\u7968\\u50f9\\u7522\\u54c1\\u4e00\\u89bd\\u8868<em></em>\\r\\n\\t\\t\\t\\t\\t\\t\\t</a>\\r\\n\\t\\t\\t\\t\\t\\t\\t</div>\\r\\n<div title =\"\\u5982\\u4f55\\u8cfc\\u7968\" class=\"dtnolink\">\\u5982\\u4f55\\u8cfc\\u7968</div>\\r\\n<div class=\"dd\">\\r\\n\\t\\t\\t\\t\\t\\t\\t<a title = \"\\u7db2\\u8def\\u8a02\\u7968\"  href=\"/tw/Article/ArticleContent/dea241a9-fe69-4e9d-b9a5-6caed6e486d6\" alt = \"\\u7db2\\u8def\\u8a02\\u7968\"  >\\r\\n\\t\\t\\t\\t\\t\\t\\t\\u7db2\\u8def\\u8a02\\u7968\\r\\n\\t\\t\\t\\t\\t\\t\\t</a>\\r\\n\\t\\t\\t\\t\\t\\t\\t</div>\\r\\n<div class=\"dd\">\\r\\n\\t\\t\\t\\t\\t\\t\\t<a title = \"\\u300cT-EX\\u884c\\u52d5\\u8cfc\\u7968\\u300dApp\"  href=\"/tw/Article/ArticleContent/4d262503-84bc-4963-a58e-4ca1a6453ad3\" alt = \"\\u300cT-EX\\u884c\\u52d5\\u8cfc\\u7968\\u300dApp\"  >\\r\\n\\t\\t\\t\\t\\t\\t\\t\\u300cT-EX\\u884c\\u52d5\\u8cfc\\u7968\\u300dApp\\r\\n\\t\\t\\t\\t\\t\\t\\t</a>\\r\\n\\t\\t\\t\\t\\t\\t\\t</div>\\r\\n<div class=\"dd\">\\r\\n\\t\\t\\t\\t\\t\\t\\t<a title = \"\\u4fbf\\u5229\\u5546\\u5e97\\u8cfc\\u7968\"  href=\"/tw/Article/ArticleContent/baba745a-d802-440c-b762-3eef37b96b60\" alt = \"\\u4fbf\\u5229\\u5546\\u5e97\\u8cfc\\u7968\"  >\\r\\n\\t\\t\\t\\t\\t\\t\\t\\u4fbf\\u5229\\u5546\\u5e97\\u8cfc\\u7968\\r\\n\\t\\t\\t\\t\\t\\t\\t</a>\\r\\n\\t\\t\\t\\t\\t\\t\\t</div>\\r\\n<div class=\"dd\">\\r\\n\\t\\t\\t\\t\\t\\t\\t<a title = \"\\u81ea\\u52d5\\u8a9e\\u97f3\\u8a02\\u4f4d\\u670d\\u52d9\"  href=\"/tw/Article/ArticleContent/7a96ad53-6efa-4c58-bb17-70c9f649b4e3\" alt = \"\\u81ea\\u52d5\\u8a9e\\u97f3\\u8a02\\u4f4d\\u670d\\u52d9\"  >\\r\\n\\t\\t\\t\\t\\t\\t\\t\\u81ea\\u52d5\\u8a9e\\u97f3\\u8a02\\u4f4d\\u670d\\u52d9\\r\\n\\t\\t\\t\\t\\t\\t\\t</a>\\r\\n\\t\\t\\t\\t\\t\\t\\t</div>\\r\\n<div class=\"dd\">\\r\\n\\t\\t\\t\\t\\t\\t\\t<a title = \"\\u81ea\\u52d5\\u552e\\u7968\\u6a5f\\u8cfc\\u7968\"  href=\"/tw/Article/ArticleContent/6be4173c-91dc-4d06-ae3e-a19de420a237\" alt = \"\\u81ea\\u52d5\\u552e\\u7968\\u6a5f\\u8cfc\\u7968\"  >\\r\\n\\t\\t\\t\\t\\t\\t\\t\\u81ea\\u52d5\\u552e\\u7968\\u6a5f\\u8cfc\\u7968\\r\\n\\t\\t\\t\\t\\t\\t\\t</a>\\r\\n\\t\\t\\t\\t\\t\\t\\t</div>\\r\\n<div class=\"dd\">\\r\\n\\t\\t\\t\\t\\t\\t\\t<a title = \"\\u5718\\u9ad4\\u8a02\\u7968\"  href=\"/tw/Article/ArticleContent/41421730-b8ab-4fe3-b251-89e32cba8453\" alt = \"\\u5718\\u9ad4\\u8a02\\u7968\"  >\\r\\n\\t\\t\\t\\t\\t\\t\\t\\u5718\\u9ad4\\u8a02\\u7968\\r\\n\\t\\t\\t\\t\\t\\t\\t</a>\\r\\n\\t\\t\\t\\t\\t\\t\\t</div>\\r\\n<div class=\"dd\">\\r\\n\\t\\t\\t\\t\\t\\t\\t<a title = \"\\u8eca\\u7ad9\\u7a97\\u53e3\\u8cfc\\u7968\"  href=\"/tw/Article/ArticleContent/43d5e5e2-3777-46b9-bc8f-8b5b579b50ed\" alt = \"\\u8eca\\u7ad9\\u7a97\\u53e3\\u8cfc\\u7968\"  >\\r\\n\\t\\t\\t\\t\\t\\t\\t\\u8eca\\u7ad9\\u7a97\\u53e3\\u8cfc\\u7968\\r\\n\\t\\t\\t\\t\\t\\t\\t</a>\\r\\n\\t\\t\\t\\t\\t\\t\\t</div>\\r\\n\\r\\n\\t\\t\\t\\t\\t\\t\\t</div>\\r\\n<div class=\"list_line\"></div>\\r\\n<div class=\"list_area list_area_tw\"> \\r\\n\\t\\t\\t\\t\\t\\t\\t\\t<div class=\"dd\">\\r\\n\\t\\t\\t\\t\\t\\t\\t<a title = \"\\u60a0\\u904a\\u806f\\u540d\\u5361\"  href=\"/tw/Article/ArticleContent/27bf64ed-5a99-4c0f-9021-dbe609998cdb\" alt = \"\\u60a0\\u904a\\u806f\\u540d\\u5361\"  >\\r\\n\\t\\t\\t\\t\\t\\t\\t\\u60a0\\u904a\\u806f\\u540d\\u5361\\r\\n\\t\\t\\t\\t\\t\\t\\t</a>\\r\\n\\t\\t\\t\\t\\t\\t\\t</div>\\r\\n<div class=\"dd\">\\r\\n\\t\\t\\t\\t\\t\\t\\t<a title = \"\\u7121\\u969c\\u7919\\u670d\\u52d9\"  href=\"/tw/Article/ArticleContent/dba4ecd0-5ef0-45d2-aa64-bcecdf7d5fde\" alt = \"\\u7121\\u969c\\u7919\\u670d\\u52d9\"  >\\r\\n\\t\\t\\t\\t\\t\\t\\t\\u7121\\u969c\\u7919\\u670d\\u52d9<em></em>\\r\\n\\t\\t\\t\\t\\t\\t\\t</a>\\r\\n\\t\\t\\t\\t\\t\\t\\t</div>\\r\\n<div title =\"\\u5feb\\u901f\\u67e5\\u8a62\" class=\"dtnolink\">\\u5feb\\u901f\\u67e5\\u8a62</div>\\r\\n<div class=\"dd\">\\r\\n\\t\\t\\t\\t\\t\\t\\t<a title = \"\\u6642\\u523b\\u8868\\u8207\\u7968\\u50f9\\u67e5\\u8a62\"  href=\"/tw/TimeTable/SearchResult\" alt = \"\\u6642\\u523b\\u8868\\u8207\\u7968\\u50f9\\u67e5\\u8a62\"  >\\r\\n\\t\\t\\t\\t\\t\\t\\t\\u6642\\u523b\\u8868\\u8207\\u7968\\u50f9\\u67e5\\u8a62\\r\\n\\t\\t\\t\\t\\t\\t\\t</a>\\r\\n\\t\\t\\t\\t\\t\\t\\t</div>\\r\\n<div class=\"dd\">\\r\\n\\t\\t\\t\\t\\t\\t\\t<a title = \"T Express \\u642d\\u4e58\\u7d00\\u9304[\\u5c07\\u53e6\\u958b\\u65b0\\u8996\\u7a97 ]\"  href=\"http://ptis.thsrc.com.tw/ptis/web_proof/texp_index.jsp\" alt = \"T Express \\u642d\\u4e58\\u7d00\\u9304[\\u5c07\\u53e6\\u958b\\u65b0\\u8996\\u7a97 ]\" target=\"_blank\" >\\r\\n\\t\\t\\t\\t\\t\\t\\tT Express \\u642d\\u4e58\\u7d00\\u9304<span style=\\'display:none;\\'>[\\u5c07\\u53e6\\u958b\\u65b0\\u8996\\u7a97 ]</span>\\r\\n\\t\\t\\t\\t\\t\\t\\t</a>\\r\\n\\t\\t\\t\\t\\t\\t\\t</div>\\r\\n<div class=\"dd\">\\r\\n\\t\\t\\t\\t\\t\\t\\t<a title = \"\\u56de\\u6578 / \\u5b9a\\u671f\\u7968\\u642d\\u4e58\\u7d00\\u9304[\\u5c07\\u53e6\\u958b\\u65b0\\u8996\\u7a97 ]\"  href=\"http://ptis.thsrc.com.tw/ptis/web_proof/csc_travel.jsp\" alt = \"\\u56de\\u6578 / \\u5b9a\\u671f\\u7968\\u642d\\u4e58\\u7d00\\u9304[\\u5c07\\u53e6\\u958b\\u65b0\\u8996\\u7a97 ]\" target=\"_blank\" >\\r\\n\\t\\t\\t\\t\\t\\t\\t\\u56de\\u6578 / \\u5b9a\\u671f\\u7968\\u642d\\u4e58\\u7d00\\u9304<span style=\\'display:none;\\'>[\\u5c07\\u53e6\\u958b\\u65b0\\u8996\\u7a97 ]</span>\\r\\n\\t\\t\\t\\t\\t\\t\\t</a>\\r\\n\\t\\t\\t\\t\\t\\t\\t</div>\\r\\n<div class=\"dd\">\\r\\n\\t\\t\\t\\t\\t\\t\\t<a title = \"\\u60a0\\u904a\\u806f\\u540d\\u5361\\u642d\\u4e58\\u7d00\\u9304[\\u5c07\\u53e6\\u958b\\u65b0\\u8996\\u7a97 ]\"  href=\"https://queryweb.tscc.com.tw/thsrc_web/\" alt = \"\\u60a0\\u904a\\u806f\\u540d\\u5361\\u642d\\u4e58\\u7d00\\u9304[\\u5c07\\u53e6\\u958b\\u65b0\\u8996\\u7a97 ]\" target=\"_blank\" >\\r\\n\\t\\t\\t\\t\\t\\t\\t\\u60a0\\u904a\\u806f\\u540d\\u5361\\u642d\\u4e58\\u7d00\\u9304<span style=\\'display:none;\\'>[\\u5c07\\u53e6\\u958b\\u65b0\\u8996\\u7a97 ]</span><span style=\\'display:none;\\'>[\\u5c07\\u53e6\\u958b\\u65b0\\u8996\\u7a97 ]</span><em></em>\\r\\n\\t\\t\\t\\t\\t\\t\\t</a>\\r\\n\\t\\t\\t\\t\\t\\t\\t</div>\\r\\n<div title =\"\\u4f01\\u696d\\u6703\\u54e1\" class=\"dtnolink\">\\u4f01\\u696d\\u6703\\u54e1</div>\\r\\n<div class=\"dd\">\\r\\n\\t\\t\\t\\t\\t\\t\\t<a title = \"\\u52a0\\u5165\\u4f01\\u696d\\u6703\\u54e1\"  href=\"http://www.thsrc.com.tw/tw/Article/ArticleContent/376238fd-2f6d-48f8-b070-9f2ea61b14b5\" alt = \"\\u52a0\\u5165\\u4f01\\u696d\\u6703\\u54e1\"  >\\r\\n\\t\\t\\t\\t\\t\\t\\t\\u52a0\\u5165\\u4f01\\u696d\\u6703\\u54e1<em></em>\\r\\n\\t\\t\\t\\t\\t\\t\\t</a>\\r\\n\\t\\t\\t\\t\\t\\t\\t</div>\\r\\n<div title =\"\\u76f8\\u95dc\\u6cd5\\u898f\" class=\"dtnolink\">\\u76f8\\u95dc\\u6cd5\\u898f</div>\\r\\n\\r\\n\\t\\t\\t\\t\\t\\t\\t</div>\\r\\n<div class=\"list_line\"></div>\\r\\n<div class=\"list_area list_area_tw\"> \\r\\n\\t\\t\\t\\t\\t\\t\\t\\t<div class=\"dd\">\\r\\n\\t\\t\\t\\t\\t\\t\\t<a title = \"\\u76f8\\u95dc\\u6cd5\\u898f\"  href=\"/tw/Article/ArticleContent/7de57796-db08-4d94-b183-bd62618859db\" alt = \"\\u76f8\\u95dc\\u6cd5\\u898f\"  >\\r\\n\\t\\t\\t\\t\\t\\t\\t\\u76f8\\u95dc\\u6cd5\\u898f<em></em>\\r\\n\\t\\t\\t\\t\\t\\t\\t</a>\\r\\n\\t\\t\\t\\t\\t\\t\\t</div>\\r\\n\\r\\n\\t\\t\\t\\t\\t\\t\\t</div>\\r\\n<div class=\"list_line\"></div>\\r\\n\\r\\n\\t\\t\\t\\t\\t\\t\\t\\t</div>\\r\\n\\t\\t\\t\\t\\t\\t\\t</li>\\r\\n<li class=\"nav_info\" ><a href=\"/tw/SiteMap/#C\" title = \"\\u4e58\\u8eca\\u6307\\u5357\">\\u4e58\\u8eca\\u6307\\u5357</a>\\r\\n\\t\\t\\t\\t\\t\\t\\t\\t<div class=\"dl height_304\">\\r\\n\\t\\t\\t\\t\\t\\t\\t\\t\\t<div class=\"first_list\">\\r\\n\\t\\t\\t\\t\\t\\t\\t\\t\\t\\t<div class=\"has_photo_list\"><img src=\"/event/index_img/nav_info.jpg\" width=\"200\" height=\"120\" alt=\"\\u4e58\\u8eca\\u6307\\u5357\" title = \"\\u4e58\\u8eca\\u6307\\u5357\"></div>\\r\\n\\t\\t\\t\\t\\t\\t\\t\\t\\t\\t<div title =\\u8212\\u9069\\u7684\\u74b0\\u5883\\u53ca\\u4fbf\\u6377\\u7684\\u4ea4\\u901a\\u8f49\\u4e58\\uff0c\\u9ad8\\u9435\\u8207\\u60a8\\u5171\\u5275\\u7f8e\\u597d\\u65c5\\u7a0b\\u3002 class=\"photo_list_word\">\\u8212\\u9069\\u7684\\u74b0\\u5883\\u53ca\\u4fbf\\u6377\\u7684\\u4ea4\\u901a\\u8f49\\u4e58\\uff0c\\u9ad8\\u9435\\u8207\\u60a8\\u5171\\u5275\\u7f8e\\u597d\\u65c5\\u7a0b\\u3002</div>\\r\\n\\t\\t\\t\\t\\t\\t\\t\\t\\t</div>\\r\\n\\t\\t\\t\\t\\t\\t\\t\\t\\t<div class=\"list_area list_area_tw\"> \\r\\n\\t\\t\\t\\t\\t\\t\\t\\t<div title =\"\\u8eca\\u7ad9\\u8cc7\\u8a0a\" class=\"dtnolink\">\\u8eca\\u7ad9\\u8cc7\\u8a0a</div>\\r\\n<div class=\"dd\">\\r\\n\\t\\t\\t\\t\\t\\t\\t<a title = \"\\u5357\\u6e2f\\u7ad9\"  href=\"/tw/StationInfo/Prospect/2F940836-CEDC-41EF-8E28-C2336AC8FE68\" alt = \"\\u5357\\u6e2f\\u7ad9\"  >\\r\\n\\t\\t\\t\\t\\t\\t\\t\\u5357\\u6e2f\\u7ad9\\r\\n\\t\\t\\t\\t\\t\\t\\t</a>\\r\\n\\t\\t\\t\\t\\t\\t\\t</div>\\r\\n<div class=\"dd\">\\r\\n\\t\\t\\t\\t\\t\\t\\t<a title = \"\\u53f0\\u5317\\u7ad9\"  href=\"http://www.thsrc.com.tw/tw/StationInfo/prospect/977abb69-413a-4ccf-a109-0272c24fd490\" alt = \"\\u53f0\\u5317\\u7ad9\"  >\\r\\n\\t\\t\\t\\t\\t\\t\\t\\u53f0\\u5317\\u7ad9\\r\\n\\t\\t\\t\\t\\t\\t\\t</a>\\r\\n\\t\\t\\t\\t\\t\\t\\t</div>\\r\\n<div class=\"dd\">\\r\\n\\t\\t\\t\\t\\t\\t\\t<a title = \"\\u677f\\u6a4b\\u7ad9\"  href=\"/tw/StationInfo/Prospect/e6e26e66-7dc1-458f-b2f3-71ce65fdc95f\" alt = \"\\u677f\\u6a4b\\u7ad9\"  >\\r\\n\\t\\t\\t\\t\\t\\t\\t\\u677f\\u6a4b\\u7ad9\\r\\n\\t\\t\\t\\t\\t\\t\\t</a>\\r\\n\\t\\t\\t\\t\\t\\t\\t</div>\\r\\n<div class=\"dd\">\\r\\n\\t\\t\\t\\t\\t\\t\\t<a title = \"\\u6843\\u5712\\u7ad9\"  href=\"/tw/StationInfo/Prospect/fbd828d8-b1da-4b06-a3bd-680cdca4d2cd\" alt = \"\\u6843\\u5712\\u7ad9\"  >\\r\\n\\t\\t\\t\\t\\t\\t\\t\\u6843\\u5712\\u7ad9\\r\\n\\t\\t\\t\\t\\t\\t\\t</a>\\r\\n\\t\\t\\t\\t\\t\\t\\t</div>\\r\\n<div class=\"dd\">\\r\\n\\t\\t\\t\\t\\t\\t\\t<a title = \"\\u65b0\\u7af9\\u7ad9\"  href=\"/tw/StationInfo/Prospect/a7a04c89-900b-4798-95a3-c01c455622f4\" alt = \"\\u65b0\\u7af9\\u7ad9\"  >\\r\\n\\t\\t\\t\\t\\t\\t\\t\\u65b0\\u7af9\\u7ad9\\r\\n\\t\\t\\t\\t\\t\\t\\t</a>\\r\\n\\t\\t\\t\\t\\t\\t\\t</div>\\r\\n<div class=\"dd\">\\r\\n\\t\\t\\t\\t\\t\\t\\t<a title = \"\\u82d7\\u6817\\u7ad9\"  href=\"/tw/StationInfo/Prospect/E8FC2123-2AAF-46FF-AD79-51D4002A1EF3\" alt = \"\\u82d7\\u6817\\u7ad9\"  >\\r\\n\\t\\t\\t\\t\\t\\t\\t\\u82d7\\u6817\\u7ad9\\r\\n\\t\\t\\t\\t\\t\\t\\t</a>\\r\\n\\t\\t\\t\\t\\t\\t\\t</div>\\r\\n<div class=\"dd\">\\r\\n\\t\\t\\t\\t\\t\\t\\t<a title = \"\\u53f0\\u4e2d\\u7ad9\"  href=\"/tw/StationInfo/Prospect/3301e395-46b8-47aa-aa37-139e15708779\" alt = \"\\u53f0\\u4e2d\\u7ad9\"  >\\r\\n\\t\\t\\t\\t\\t\\t\\t\\u53f0\\u4e2d\\u7ad9\\r\\n\\t\\t\\t\\t\\t\\t\\t</a>\\r\\n\\t\\t\\t\\t\\t\\t\\t</div>\\r\\n<div class=\"dd\">\\r\\n\\t\\t\\t\\t\\t\\t\\t<a title = \"\\u5f70\\u5316\\u7ad9\"  href=\"/tw/StationInfo/Prospect/38B8C40B-AEF0-4D66-B257-DA96EC51620E\" alt = \"\\u5f70\\u5316\\u7ad9\"  >\\r\\n\\t\\t\\t\\t\\t\\t\\t\\u5f70\\u5316\\u7ad9\\r\\n\\t\\t\\t\\t\\t\\t\\t</a>\\r\\n\\t\\t\\t\\t\\t\\t\\t</div>\\r\\n<div class=\"dd\">\\r\\n\\t\\t\\t\\t\\t\\t\\t<a title = \"\\u96f2\\u6797\\u7ad9\"  href=\"/tw/StationInfo/Prospect/5F4C7BB0-C676-4E39-8D3C-F12FC188EE5F\" alt = \"\\u96f2\\u6797\\u7ad9\"  >\\r\\n\\t\\t\\t\\t\\t\\t\\t\\u96f2\\u6797\\u7ad9\\r\\n\\t\\t\\t\\t\\t\\t\\t</a>\\r\\n\\t\\t\\t\\t\\t\\t\\t</div>\\r\\n\\r\\n\\t\\t\\t\\t\\t\\t\\t</div>\\r\\n<div class=\"list_line\"></div>\\r\\n<div class=\"list_area list_area_tw\"> \\r\\n\\t\\t\\t\\t\\t\\t\\t\\t<div class=\"dd\">\\r\\n\\t\\t\\t\\t\\t\\t\\t<a title = \"\\u5609\\u7fa9\\u7ad9\"  href=\"/tw/StationInfo/Prospect/60831846-f0e4-47f6-9b5b-46323ebdcef7\" alt = \"\\u5609\\u7fa9\\u7ad9\"  >\\r\\n\\t\\t\\t\\t\\t\\t\\t\\u5609\\u7fa9\\u7ad9\\r\\n\\t\\t\\t\\t\\t\\t\\t</a>\\r\\n\\t\\t\\t\\t\\t\\t\\t</div>\\r\\n<div class=\"dd\">\\r\\n\\t\\t\\t\\t\\t\\t\\t<a title = \"\\u53f0\\u5357\\u7ad9\"  href=\"/tw/StationInfo/Prospect/9c5ac6ca-ec89-48f8-aab0-41b738cb1814\" alt = \"\\u53f0\\u5357\\u7ad9\"  >\\r\\n\\t\\t\\t\\t\\t\\t\\t\\u53f0\\u5357\\u7ad9\\r\\n\\t\\t\\t\\t\\t\\t\\t</a>\\r\\n\\t\\t\\t\\t\\t\\t\\t</div>\\r\\n<div class=\"dd\">\\r\\n\\t\\t\\t\\t\\t\\t\\t<a title = \"\\u5de6\\u71df\\u7ad9\"  href=\"/tw/StationInfo/Prospect/f2519629-5973-4d08-913b-479cce78a356\" alt = \"\\u5de6\\u71df\\u7ad9\"  >\\r\\n\\t\\t\\t\\t\\t\\t\\t\\u5de6\\u71df\\u7ad9<em></em>\\r\\n\\t\\t\\t\\t\\t\\t\\t</a>\\r\\n\\t\\t\\t\\t\\t\\t\\t</div>\\r\\n<div title =\"\\u8f49\\u4e58\\u670d\\u52d9\" class=\"dtnolink\">\\u8f49\\u4e58\\u670d\\u52d9</div>\\r\\n<div class=\"dd\">\\r\\n\\t\\t\\t\\t\\t\\t\\t<a title = \"\\u8f49\\u4e58\\u670d\\u52d9\\u7e3d\\u89bd\"  href=\"/tw/Article/ArticleContent/c2a8fd9d-ced6-43b1-9297-9eab4127b5ff\" alt = \"\\u8f49\\u4e58\\u670d\\u52d9\\u7e3d\\u89bd\"  >\\r\\n\\t\\t\\t\\t\\t\\t\\t\\u8f49\\u4e58\\u670d\\u52d9\\u7e3d\\u89bd<em></em>\\r\\n\\t\\t\\t\\t\\t\\t\\t</a>\\r\\n\\t\\t\\t\\t\\t\\t\\t</div>\\r\\n<div title =\"\\u670d\\u52d9\\u8207\\u8a2d\\u65bd\" class=\"dtnolink\">\\u670d\\u52d9\\u8207\\u8a2d\\u65bd</div>\\r\\n<div class=\"dd\">\\r\\n\\t\\t\\t\\t\\t\\t\\t<a title = \"\\u670d\\u52d9\\u8207\\u8a2d\\u65bd\\u7e3d\\u89bd\"  href=\"/tw/Article/ArticleContent/9915abee-dc70-4ba3-9f6d-c425873c3475\" alt = \"\\u670d\\u52d9\\u8207\\u8a2d\\u65bd\\u7e3d\\u89bd\"  >\\r\\n\\t\\t\\t\\t\\t\\t\\t\\u670d\\u52d9\\u8207\\u8a2d\\u65bd\\u7e3d\\u89bd\\r\\n\\t\\t\\t\\t\\t\\t\\t</a>\\r\\n\\t\\t\\t\\t\\t\\t\\t</div>\\r\\n<div class=\"dd\">\\r\\n\\t\\t\\t\\t\\t\\t\\t<a title = \"\\u7121\\u969c\\u7919\\u670d\\u52d9\"  href=\"http://www.thsrc.com.tw/tw/Article/ArticleContent/dba4ecd0-5ef0-45d2-aa64-bcecdf7d5fde\" alt = \"\\u7121\\u969c\\u7919\\u670d\\u52d9\"  >\\r\\n\\t\\t\\t\\t\\t\\t\\t\\u7121\\u969c\\u7919\\u670d\\u52d9\\r\\n\\t\\t\\t\\t\\t\\t\\t</a>\\r\\n\\t\\t\\t\\t\\t\\t\\t</div>\\r\\n<div class=\"dd\">\\r\\n\\t\\t\\t\\t\\t\\t\\t<a title = \"\\u8eca\\u5ec2\\u4ecb\\u7d39\"  href=\"/tw/StationInfo/Accommondation\" alt = \"\\u8eca\\u5ec2\\u4ecb\\u7d39\"  >\\r\\n\\t\\t\\t\\t\\t\\t\\t\\u8eca\\u5ec2\\u4ecb\\u7d39\\r\\n\\t\\t\\t\\t\\t\\t\\t</a>\\r\\n\\t\\t\\t\\t\\t\\t\\t</div>\\r\\n<div class=\"dd\">\\r\\n\\t\\t\\t\\t\\t\\t\\t<a title = \"\\u8eca\\u5ec2\\u670d\\u52d9\\u4ecb\\u7d39\"  href=\"/tw/Article/ArticleContent/feb91116-8a73-46b7-a6b7-f115a3137ccf\" alt = \"\\u8eca\\u5ec2\\u670d\\u52d9\\u4ecb\\u7d39\"  >\\r\\n\\t\\t\\t\\t\\t\\t\\t\\u8eca\\u5ec2\\u670d\\u52d9\\u4ecb\\u7d39\\r\\n\\t\\t\\t\\t\\t\\t\\t</a>\\r\\n\\t\\t\\t\\t\\t\\t\\t</div>\\r\\n\\r\\n\\t\\t\\t\\t\\t\\t\\t</div>\\r\\n<div class=\"list_line\"></div>\\r\\n<div class=\"list_area list_area_tw\"> \\r\\n\\t\\t\\t\\t\\t\\t\\t\\t<div class=\"dd\">\\r\\n\\t\\t\\t\\t\\t\\t\\t<a title = \"T Life \\u8eca\\u4e0a\\u520a\\u7269\"  href=\"/tw/Article/ArticleContent/2cc958af-c283-4efa-b6e6-22bb84ac5bab\" alt = \"T Life \\u8eca\\u4e0a\\u520a\\u7269\"  >\\r\\n\\t\\t\\t\\t\\t\\t\\tT Life \\u8eca\\u4e0a\\u520a\\u7269\\r\\n\\t\\t\\t\\t\\t\\t\\t</a>\\r\\n\\t\\t\\t\\t\\t\\t\\t</div>\\r\\n<div class=\"dd\">\\r\\n\\t\\t\\t\\t\\t\\t\\t<a title = \"\\u591a\\u529f\\u80fd\\u6703\\u8b70\\u5ba4\"  href=\"/tw/Article/ArticleContent/347fa4fb-479d-4a90-b5aa-e0ba9b22ed41\" alt = \"\\u591a\\u529f\\u80fd\\u6703\\u8b70\\u5ba4\"  >\\r\\n\\t\\t\\t\\t\\t\\t\\t\\u591a\\u529f\\u80fd\\u6703\\u8b70\\u5ba4<em></em>\\r\\n\\t\\t\\t\\t\\t\\t\\t</a>\\r\\n\\t\\t\\t\\t\\t\\t\\t</div>\\r\\n<div title =\"\\u4e58\\u8eca\\u5b89\\u5168\" class=\"dtnolink\">\\u4e58\\u8eca\\u5b89\\u5168</div>\\r\\n<div class=\"dd\">\\r\\n\\t\\t\\t\\t\\t\\t\\t<a title = \"\\u5217\\u8eca\\u5b89\\u5168\"  href=\"/tw/Article/ArticleContent/33741541-0f76-4397-a3f7-44367240a344\" alt = \"\\u5217\\u8eca\\u5b89\\u5168\"  >\\r\\n\\t\\t\\t\\t\\t\\t\\t\\u5217\\u8eca\\u5b89\\u5168\\r\\n\\t\\t\\t\\t\\t\\t\\t</a>\\r\\n\\t\\t\\t\\t\\t\\t\\t</div>\\r\\n<div class=\"dd\">\\r\\n\\t\\t\\t\\t\\t\\t\\t<a title = \"\\u8eca\\u7ad9\\u5b89\\u5168\"  href=\"/tw/Article/ArticleContent/b47a688b-2115-4719-88bf-3b8b740d73e1\" alt = \"\\u8eca\\u7ad9\\u5b89\\u5168\"  >\\r\\n\\t\\t\\t\\t\\t\\t\\t\\u8eca\\u7ad9\\u5b89\\u5168\\r\\n\\t\\t\\t\\t\\t\\t\\t</a>\\r\\n\\t\\t\\t\\t\\t\\t\\t</div>\\r\\n<div class=\"dd\">\\r\\n\\t\\t\\t\\t\\t\\t\\t<a title = \"\\u9435\\u8def\\u5b89\\u5168\"  href=\"/tw/Article/ArticleContent/9780e036-5fdb-4c48-8732-1242beafafbd\" alt = \"\\u9435\\u8def\\u5b89\\u5168\"  >\\r\\n\\t\\t\\t\\t\\t\\t\\t\\u9435\\u8def\\u5b89\\u5168<em></em>\\r\\n\\t\\t\\t\\t\\t\\t\\t</a>\\r\\n\\t\\t\\t\\t\\t\\t\\t</div>\\r\\n<div title =\"\\u4eab\\u6a02\\u8cfc\\u7269\\u8da3\" class=\"dtnolink\">\\u4eab\\u6a02\\u8cfc\\u7269\\u8da3</div>\\r\\n<div class=\"dd\">\\r\\n\\t\\t\\t\\t\\t\\t\\t<a title = \"\\u5217\\u8eca\\u8ca9\\u552e\"  href=\"/tw/TShop/TrainShopping\" alt = \"\\u5217\\u8eca\\u8ca9\\u552e\"  >\\r\\n\\t\\t\\t\\t\\t\\t\\t\\u5217\\u8eca\\u8ca9\\u552e\\r\\n\\t\\t\\t\\t\\t\\t\\t</a>\\r\\n\\t\\t\\t\\t\\t\\t\\t</div>\\r\\n<div class=\"dd\">\\r\\n\\t\\t\\t\\t\\t\\t\\t<a title = \"\\u7d00\\u5ff5\\u5546\\u54c1\"  href=\"/tw/Souvenir\" alt = \"\\u7d00\\u5ff5\\u5546\\u54c1\"  >\\r\\n\\t\\t\\t\\t\\t\\t\\t\\u7d00\\u5ff5\\u5546\\u54c1\\r\\n\\t\\t\\t\\t\\t\\t\\t</a>\\r\\n\\t\\t\\t\\t\\t\\t\\t</div>\\r\\n<div class=\"dd\">\\r\\n\\t\\t\\t\\t\\t\\t\\t<a title = \"\\u8eca\\u7ad9\\u8ca9\\u552e\"  href=\"http://www.thsrc.com.tw/tw/TShop/FoodCourt/977abb69-413a-4ccf-a109-0272c24fd490\" alt = \"\\u8eca\\u7ad9\\u8ca9\\u552e\"  >\\r\\n\\t\\t\\t\\t\\t\\t\\t\\u8eca\\u7ad9\\u8ca9\\u552e<em></em>\\r\\n\\t\\t\\t\\t\\t\\t\\t</a>\\r\\n\\t\\t\\t\\t\\t\\t\\t</div>\\r\\n\\r\\n\\t\\t\\t\\t\\t\\t\\t</div>\\r\\n<div class=\"list_line\"></div>\\r\\n<div class=\"list_area list_area_tw\"> \\r\\n\\t\\t\\t\\t\\t\\t\\t\\t<div title =\"\\u6ce8\\u610f\\u4e8b\\u9805\" class=\"dtnolink\">\\u6ce8\\u610f\\u4e8b\\u9805</div>\\r\\n<div class=\"dd\">\\r\\n\\t\\t\\t\\t\\t\\t\\t<a title = \"\\u4e58\\u8eca\\u9808\\u77e5\"  href=\"/tw/Article/ArticleContent/2f73bfbb-d9bb-400e-b806-f6c5ba539368\" alt = \"\\u4e58\\u8eca\\u9808\\u77e5\"  >\\r\\n\\t\\t\\t\\t\\t\\t\\t\\u4e58\\u8eca\\u9808\\u77e5\\r\\n\\t\\t\\t\\t\\t\\t\\t</a>\\r\\n\\t\\t\\t\\t\\t\\t\\t</div>\\r\\n<div class=\"dd\">\\r\\n\\t\\t\\t\\t\\t\\t\\t<a title = \"\\u9a57\\u7968\\u9598\\u9580\\u53ca\\u901a\\u95dc\"  href=\"/tw/Article/ArticleContent/4f77e9e6-f337-4af4-8f60-fbd6054e608f\" alt = \"\\u9a57\\u7968\\u9598\\u9580\\u53ca\\u901a\\u95dc\"  >\\r\\n\\t\\t\\t\\t\\t\\t\\t\\u9a57\\u7968\\u9598\\u9580\\u53ca\\u901a\\u95dc<em></em>\\r\\n\\t\\t\\t\\t\\t\\t\\t</a>\\r\\n\\t\\t\\t\\t\\t\\t\\t</div>\\r\\n<div title =\"\\u9ad8\\u9435\\u767e\\u79d1\" class=\"dtnolink\">\\u9ad8\\u9435\\u767e\\u79d1</div>\\r\\n<div class=\"dd\">\\r\\n\\t\\t\\t\\t\\t\\t\\t<a title = \"\\u5730\\u9707\\u9632\\u8b77\\u8207\\u61c9\\u8b8a[\\u5c07\\u53e6\\u958b\\u65b0\\u8996\\u7a97 ]\"  href=\"http://www.thsrc.com.tw/event/Encyclopedia/Earthquake/index.html\" alt = \"\\u5730\\u9707\\u9632\\u8b77\\u8207\\u61c9\\u8b8a[\\u5c07\\u53e6\\u958b\\u65b0\\u8996\\u7a97 ]\" target=\"_blank\" >\\r\\n\\t\\t\\t\\t\\t\\t\\t\\u5730\\u9707\\u9632\\u8b77\\u8207\\u61c9\\u8b8a<span style=\\'display:none;\\'>[\\u5c07\\u53e6\\u958b\\u65b0\\u8996\\u7a97 ]</span><span style=\\'display:none;\\'>[\\u5c07\\u53e6\\u958b\\u65b0\\u8996\\u7a97 ]</span><em></em>\\r\\n\\t\\t\\t\\t\\t\\t\\t</a>\\r\\n\\t\\t\\t\\t\\t\\t\\t</div>\\r\\n\\r\\n\\t\\t\\t\\t\\t\\t\\t</div>\\r\\n\\r\\n\\t\\t\\t\\t\\t\\t\\t\\t</div>\\r\\n\\t\\t\\t\\t\\t\\t\\t</li>\\r\\n<li class=\"nav_about\" ><a href=\"/tw/Article/ArticleContent/841afa46-f7d7-4747-889c-b03469fdb455\" title = \"\\u95dc\\u65bc\\u9ad8\\u9435\">\\u95dc\\u65bc\\u9ad8\\u9435</a>\\r\\n\\t\\t\\t\\t\\t\\t\\t\\t<div class=\"dl height_304\">\\r\\n\\t\\t\\t\\t\\t\\t\\t\\t\\t<div class=\"first_list\">\\r\\n\\t\\t\\t\\t\\t\\t\\t\\t\\t\\t<div class=\"has_photo_list\"><img src=\"/event/index_img/nav_about.jpg\" width=\"200\" height=\"120\" alt=\"\\u95dc\\u65bc\\u9ad8\\u9435\" title = \"\\u95dc\\u65bc\\u9ad8\\u9435\"></div>\\r\\n\\t\\t\\t\\t\\t\\t\\t\\t\\t\\t<div title =\\u65c5\\u904a\\u8cfc\\u7269\\u8f15\\u9b06\\u6eff\\u8db3\\uff0c\\u9ad8\\u9435\\u751f\\u6d3b\\u597d\\u4fbf\\u5229\\uff01 class=\"photo_list_word\">\\u65c5\\u904a\\u8cfc\\u7269\\u8f15\\u9b06\\u6eff\\u8db3\\uff0c\\u9ad8\\u9435\\u751f\\u6d3b\\u597d\\u4fbf\\u5229\\uff01</div>\\r\\n\\t\\t\\t\\t\\t\\t\\t\\t\\t</div>\\r\\n\\t\\t\\t\\t\\t\\t\\t\\t\\t<div class=\"list_area list_area_tw\"> \\r\\n\\t\\t\\t\\t\\t\\t\\t\\t<div class=\"dt\">\\r\\n\\t\\t\\t\\t\\t\\t\\t<a title = \"\\u7372\\u734e\\u4e8b\\u8e5f\"  href=\"/tw/Article/ArticleContent/63d60a32-0600-4cd7-ac37-6ad8316b7f1e\" alt = \"\\u7372\\u734e\\u4e8b\\u8e5f\"  >\\r\\n\\t\\t\\t\\t\\t\\t\\t\\u7372\\u734e\\u4e8b\\u8e5f<em></em>\\r\\n\\t\\t\\t\\t\\t\\t\\t</a>\\r\\n\\t\\t\\t\\t\\t\\t\\t</div>\\r\\n<div title =\"\\u4f01\\u696d\\u8cc7\\u8a0a\" class=\"dtnolink\">\\u4f01\\u696d\\u8cc7\\u8a0a</div>\\r\\n<div class=\"dd\">\\r\\n\\t\\t\\t\\t\\t\\t\\t<a title = \"\\u4f01\\u696d\\u793e\\u6703\\u8cac\\u4efb\"  href=\"/tw/Article/ArticleContent/8d291a1a-90ba-4b0f-b4d5-db2a35d881f5\" alt = \"\\u4f01\\u696d\\u793e\\u6703\\u8cac\\u4efb\"  >\\r\\n\\t\\t\\t\\t\\t\\t\\t\\u4f01\\u696d\\u793e\\u6703\\u8cac\\u4efb\\r\\n\\t\\t\\t\\t\\t\\t\\t</a>\\r\\n\\t\\t\\t\\t\\t\\t\\t</div>\\r\\n<div class=\"dd\">\\r\\n\\t\\t\\t\\t\\t\\t\\t<a title = \"\\u5927\\u4e8b\\u7d00\\u8981\"  href=\"/tw/Article/ArticleContent/b792e45d-5416-469b-82fd-ed383bef4691\" alt = \"\\u5927\\u4e8b\\u7d00\\u8981\"  >\\r\\n\\t\\t\\t\\t\\t\\t\\t\\u5927\\u4e8b\\u7d00\\u8981\\r\\n\\t\\t\\t\\t\\t\\t\\t</a>\\r\\n\\t\\t\\t\\t\\t\\t\\t</div>\\r\\n<div class=\"dd\">\\r\\n\\t\\t\\t\\t\\t\\t\\t<a title = \"\\u4f01\\u696d\\u8b58\\u5225\"  href=\"/tw/Article/ArticleContent/605d1cb2-2d98-4d73-9586-7e8363ee44e3\" alt = \"\\u4f01\\u696d\\u8b58\\u5225\"  >\\r\\n\\t\\t\\t\\t\\t\\t\\t\\u4f01\\u696d\\u8b58\\u5225\\r\\n\\t\\t\\t\\t\\t\\t\\t</a>\\r\\n\\t\\t\\t\\t\\t\\t\\t</div>\\r\\n<div class=\"dd\">\\r\\n\\t\\t\\t\\t\\t\\t\\t<a title = \"\\u74b0\\u4fdd\\u8207\\u7814\\u767c\\u652f\\u51fa\\u8cc7\\u8a0a\"  href=\"/tw/Article/ArticleContent/34d8a763-9a98-4478-919c-6b88d07fecaa\" alt = \"\\u74b0\\u4fdd\\u8207\\u7814\\u767c\\u652f\\u51fa\\u8cc7\\u8a0a\"  >\\r\\n\\t\\t\\t\\t\\t\\t\\t\\u74b0\\u4fdd\\u8207\\u7814\\u767c\\u652f\\u51fa\\u8cc7\\u8a0a\\r\\n\\t\\t\\t\\t\\t\\t\\t</a>\\r\\n\\t\\t\\t\\t\\t\\t\\t</div>\\r\\n<div class=\"dd\">\\r\\n\\t\\t\\t\\t\\t\\t\\t<a title = \"\\u9ad8\\u901f\\u9435\\u8def\\u904b\\u8f38\\u670d\\u52d9\\u78b3\\u8db3\\u8de1\"  href=\"/tw/Article/ArticleContent/5a1f4c72-b564-4706-bcdd-efbda93c3d93\" alt = \"\\u9ad8\\u901f\\u9435\\u8def\\u904b\\u8f38\\u670d\\u52d9\\u78b3\\u8db3\\u8de1\"  >\\r\\n\\t\\t\\t\\t\\t\\t\\t\\u9ad8\\u901f\\u9435\\u8def\\u904b\\u8f38\\u670d\\u52d9\\u78b3\\u8db3\\u8de1<em></em>\\r\\n\\t\\t\\t\\t\\t\\t\\t</a>\\r\\n\\t\\t\\t\\t\\t\\t\\t</div>\\r\\n<div title =\"\\u71df\\u904b\\u73fe\\u72c0\" class=\"dtnolink\">\\u71df\\u904b\\u73fe\\u72c0</div>\\r\\n<div class=\"dd\">\\r\\n\\t\\t\\t\\t\\t\\t\\t<a title = \"\\u71df\\u904b\\u5e74\\u5ea6\\u6982\\u6cc1\"  href=\"/tw/Article/ArticleContent/1e07f685-045e-403c-bf92-88c2d86bf826\" alt = \"\\u71df\\u904b\\u5e74\\u5ea6\\u6982\\u6cc1\"  >\\r\\n\\t\\t\\t\\t\\t\\t\\t\\u71df\\u904b\\u5e74\\u5ea6\\u6982\\u6cc1<em></em>\\r\\n\\t\\t\\t\\t\\t\\t\\t</a>\\r\\n\\t\\t\\t\\t\\t\\t\\t</div>\\r\\n<div title =\"\\u653f\\u7b56\\u6cd5\\u898f\" class=\"dtnolink\">\\u653f\\u7b56\\u6cd5\\u898f</div>\\r\\n\\r\\n\\t\\t\\t\\t\\t\\t\\t</div>\\r\\n<div class=\"list_line\"></div>\\r\\n<div class=\"list_area list_area_tw\"> \\r\\n\\t\\t\\t\\t\\t\\t\\t\\t<div class=\"dd\">\\r\\n\\t\\t\\t\\t\\t\\t\\t<a title = \"\\u7dda\\u4e0a\\u8cfc\\u7968\\u4ea4\\u6613\\u6ce8\\u610f\\u4e8b\\u9805\"  href=\"/tw/Article/ArticleContent/291d80fe-080f-4442-90d0-9a9b82f119e5\" alt = \"\\u7dda\\u4e0a\\u8cfc\\u7968\\u4ea4\\u6613\\u6ce8\\u610f\\u4e8b\\u9805\"  >\\r\\n\\t\\t\\t\\t\\t\\t\\t\\u7dda\\u4e0a\\u8cfc\\u7968\\u4ea4\\u6613\\u6ce8\\u610f\\u4e8b\\u9805\\r\\n\\t\\t\\t\\t\\t\\t\\t</a>\\r\\n\\t\\t\\t\\t\\t\\t\\t</div>\\r\\n<div class=\"dd\">\\r\\n\\t\\t\\t\\t\\t\\t\\t<a title = \"\\u500b\\u4eba\\u8cc7\\u6599\\u4fdd\\u8b77\\u5c08\\u5340\"  href=\"/tw/Article/ArticleContent/d1fa3bcb-a016-47e2-88c6-7b7cbed00ed5\" alt = \"\\u500b\\u4eba\\u8cc7\\u6599\\u4fdd\\u8b77\\u5c08\\u5340\"  >\\r\\n\\t\\t\\t\\t\\t\\t\\t\\u500b\\u4eba\\u8cc7\\u6599\\u4fdd\\u8b77\\u5c08\\u5340\\r\\n\\t\\t\\t\\t\\t\\t\\t</a>\\r\\n\\t\\t\\t\\t\\t\\t\\t</div>\\r\\n<div class=\"dd\">\\r\\n\\t\\t\\t\\t\\t\\t\\t<a title = \"\\u76f8\\u95dc\\u6cd5\\u898f\"  href=\"/tw/Article/ArticleContent/7de57796-db08-4d94-b183-bd62618859db\" alt = \"\\u76f8\\u95dc\\u6cd5\\u898f\"  >\\r\\n\\t\\t\\t\\t\\t\\t\\t\\u76f8\\u95dc\\u6cd5\\u898f<em></em>\\r\\n\\t\\t\\t\\t\\t\\t\\t</a>\\r\\n\\t\\t\\t\\t\\t\\t\\t</div>\\r\\n<div title =\"\\u5408\\u4f5c\\u5925\\u4f34\" class=\"dtnolink\">\\u5408\\u4f5c\\u5925\\u4f34</div>\\r\\n<div class=\"dd\">\\r\\n\\t\\t\\t\\t\\t\\t\\t<a title = \"\\u696d\\u52d9\\u7533\\u8fa6 \"  href=\"/tw/Article/ArticleContent/4efcd63f-6d07-4363-8a52-26a4a4f462cb\" alt = \"\\u696d\\u52d9\\u7533\\u8fa6 \"  >\\r\\n\\t\\t\\t\\t\\t\\t\\t\\u696d\\u52d9\\u7533\\u8fa6 <em></em>\\r\\n\\t\\t\\t\\t\\t\\t\\t</a>\\r\\n\\t\\t\\t\\t\\t\\t\\t</div>\\r\\n<div class=\"dt\">\\r\\n\\t\\t\\t\\t\\t\\t\\t<a title = \"\\u62db\\u6a19\\u8cc7\\u8a0a\"  href=\"/tw/Tendering\" alt = \"\\u62db\\u6a19\\u8cc7\\u8a0a\"  >\\r\\n\\t\\t\\t\\t\\t\\t\\t\\u62db\\u6a19\\u8cc7\\u8a0a<em></em>\\r\\n\\t\\t\\t\\t\\t\\t\\t</a>\\r\\n\\t\\t\\t\\t\\t\\t\\t</div>\\r\\n<div title =\"\\u52a0\\u5165\\u9ad8\\u9435\" class=\"dtnolink\">\\u52a0\\u5165\\u9ad8\\u9435</div>\\r\\n<div class=\"dd\">\\r\\n\\t\\t\\t\\t\\t\\t\\t<a title = \"\\u5e78\\u798f\\u9ad8\\u9435\"  href=\"/tw/Article/ArticleContent/91918831-5417-459a-9774-312f31a66ca2\" alt = \"\\u5e78\\u798f\\u9ad8\\u9435\"  >\\r\\n\\t\\t\\t\\t\\t\\t\\t\\u5e78\\u798f\\u9ad8\\u9435\\r\\n\\t\\t\\t\\t\\t\\t\\t</a>\\r\\n\\t\\t\\t\\t\\t\\t\\t</div>\\r\\n<div class=\"dd\">\\r\\n\\t\\t\\t\\t\\t\\t\\t<a title = \"\\u7504\\u9078\\u6d41\\u7a0b\"  href=\"/tw/Article/ArticleContent/923049a0-10dd-4c2f-927b-66e470c9c16e\" alt = \"\\u7504\\u9078\\u6d41\\u7a0b\"  >\\r\\n\\t\\t\\t\\t\\t\\t\\t\\u7504\\u9078\\u6d41\\u7a0b\\r\\n\\t\\t\\t\\t\\t\\t\\t</a>\\r\\n\\t\\t\\t\\t\\t\\t\\t</div>\\r\\n<div class=\"dd\">\\r\\n\\t\\t\\t\\t\\t\\t\\t<a title = \"\\u6211\\u8981\\u61c9\\u5fb5[\\u5c07\\u53e6\\u958b\\u65b0\\u8996\\u7a97 ]\"  href=\"http://ehrweb.104.com.tw/job.do?uno=16446274\" alt = \"\\u6211\\u8981\\u61c9\\u5fb5[\\u5c07\\u53e6\\u958b\\u65b0\\u8996\\u7a97 ]\" target=\"_blank\" >\\r\\n\\t\\t\\t\\t\\t\\t\\t\\u6211\\u8981\\u61c9\\u5fb5<span style=\\'display:none;\\'>[\\u5c07\\u53e6\\u958b\\u65b0\\u8996\\u7a97 ]</span><span style=\\'display:none;\\'>[\\u5c07\\u53e6\\u958b\\u65b0\\u8996\\u7a97 ]</span><em></em>\\r\\n\\t\\t\\t\\t\\t\\t\\t</a>\\r\\n\\t\\t\\t\\t\\t\\t\\t</div>\\r\\n\\r\\n\\t\\t\\t\\t\\t\\t\\t</div>\\r\\n<div class=\"list_line\"></div>\\r\\n\\r\\n\\t\\t\\t\\t\\t\\t\\t\\t</div>\\r\\n\\t\\t\\t\\t\\t\\t\\t</li>\\r\\n<li class=\"nav_sponsor\" ><a href=\"/tw//\" title = \"\\u6295\\u8cc7\\u4eba\\u95dc\\u4fc2\">\\u6295\\u8cc7\\u4eba\\u95dc\\u4fc2</a>\\r\\n\\t\\t\\t\\t\\t\\t\\t\\t<div class=\"dl height_304\">\\r\\n\\t\\t\\t\\t\\t\\t\\t\\t\\t<div class=\"first_list\">\\r\\n\\t\\t\\t\\t\\t\\t\\t\\t\\t\\t<div class=\"has_photo_list\"><img src=\"/event/index_img/nav_sponsor.jpg\" width=\"200\" height=\"120\" alt=\"\\u6295\\u8cc7\\u4eba\\u95dc\\u4fc2\" title = \"\\u6295\\u8cc7\\u4eba\\u95dc\\u4fc2\"></div>\\r\\n\\t\\t\\t\\t\\t\\t\\t\\t\\t\\t<div title =\\u8207\\u6642\\u9593\\u7af6\\u901f\\uff0c\\u8207\\u6642\\u4ee3\\u4e26\\u9032\\uff0c\\u9ad8\\u9435\\u671f\\u671b\\u8207\\u60a8\\u4e00\\u540c\\u5c55\\u671b\\u66f4\\u8fc5\\u6377\\u7f8e\\u597d\\u7684\\u672a\\u4f86\\u3002 class=\"photo_list_word\">\\u8207\\u6642\\u9593\\u7af6\\u901f\\uff0c\\u8207\\u6642\\u4ee3\\u4e26\\u9032\\uff0c\\u9ad8\\u9435\\u671f\\u671b\\u8207\\u60a8\\u4e00\\u540c\\u5c55\\u671b\\u66f4\\u8fc5\\u6377\\u7f8e\\u597d\\u7684\\u672a\\u4f86\\u3002</div>\\r\\n\\t\\t\\t\\t\\t\\t\\t\\t\\t</div>\\r\\n\\t\\t\\t\\t\\t\\t\\t\\t\\t<div class=\"list_area list_area_tw\"> \\r\\n\\t\\t\\t\\t\\t\\t\\t\\t<div title =\"\\u6295\\u8cc7\\u4eba\\u95dc\\u4fc2\" class=\"dtnolink\">\\u6295\\u8cc7\\u4eba\\u95dc\\u4fc2</div>\\r\\n<div class=\"dd\">\\r\\n\\t\\t\\t\\t\\t\\t\\t<a title = \"\\u57fa\\u672c\\u8cc7\\u6599\"  href=\"/tw/StockInfo/Index\" alt = \"\\u57fa\\u672c\\u8cc7\\u6599\"  >\\r\\n\\t\\t\\t\\t\\t\\t\\t\\u57fa\\u672c\\u8cc7\\u6599\\r\\n\\t\\t\\t\\t\\t\\t\\t</a>\\r\\n\\t\\t\\t\\t\\t\\t\\t</div>\\r\\n<div class=\"dd\">\\r\\n\\t\\t\\t\\t\\t\\t\\t<a title = \"\\u7d44\\u7e54\\u7cfb\\u7d71\\u5716\"  href=\"/tw/Article/ArticleContent/07a19853-350d-42e4-b0c6-5bdd76c3ce7d\" alt = \"\\u7d44\\u7e54\\u7cfb\\u7d71\\u5716\"  >\\r\\n\\t\\t\\t\\t\\t\\t\\t\\u7d44\\u7e54\\u7cfb\\u7d71\\u5716\\r\\n\\t\\t\\t\\t\\t\\t\\t</a>\\r\\n\\t\\t\\t\\t\\t\\t\\t</div>\\r\\n<div class=\"dd\">\\r\\n\\t\\t\\t\\t\\t\\t\\t<a title = \"\\u8463\\u4e8b\\u6703\\u53ca\\u7d93\\u71df\\u5718\\u968a\"  href=\"/tw/Article/ArticleContent/eba2a49b-df9a-4955-9582-d3bfab0892d5\" alt = \"\\u8463\\u4e8b\\u6703\\u53ca\\u7d93\\u71df\\u5718\\u968a\"  >\\r\\n\\t\\t\\t\\t\\t\\t\\t\\u8463\\u4e8b\\u6703\\u53ca\\u7d93\\u71df\\u5718\\u968a\\r\\n\\t\\t\\t\\t\\t\\t\\t</a>\\r\\n\\t\\t\\t\\t\\t\\t\\t</div>\\r\\n<div class=\"dd\">\\r\\n\\t\\t\\t\\t\\t\\t\\t<a title = \"\\u91cd\\u5927\\u8a0a\\u606f\"  href=\"/tw/StockInfo/GreatNewsIndex\" alt = \"\\u91cd\\u5927\\u8a0a\\u606f\"  >\\r\\n\\t\\t\\t\\t\\t\\t\\t\\u91cd\\u5927\\u8a0a\\u606f\\r\\n\\t\\t\\t\\t\\t\\t\\t</a>\\r\\n\\t\\t\\t\\t\\t\\t\\t</div>\\r\\n<div class=\"dd\">\\r\\n\\t\\t\\t\\t\\t\\t\\t<a title = \"\\u81ea\\u7d50\\u640d\\u76ca\"  href=\"/tw/Article/ArticleContent/5aebf2ce-4186-463d-8a15-46234169e05b\" alt = \"\\u81ea\\u7d50\\u640d\\u76ca\"  >\\r\\n\\t\\t\\t\\t\\t\\t\\t\\u81ea\\u7d50\\u640d\\u76ca\\r\\n\\t\\t\\t\\t\\t\\t\\t</a>\\r\\n\\t\\t\\t\\t\\t\\t\\t</div>\\r\\n<div class=\"dd\">\\r\\n\\t\\t\\t\\t\\t\\t\\t<a title = \"\\u6587\\u4ef6\\u4e0b\\u8f09\"  href=\"/tw/Article/ArticleContent/d2933fd1-c223-46b0-9620-14a8501d6f51\" alt = \"\\u6587\\u4ef6\\u4e0b\\u8f09\"  >\\r\\n\\t\\t\\t\\t\\t\\t\\t\\u6587\\u4ef6\\u4e0b\\u8f09<em></em>\\r\\n\\t\\t\\t\\t\\t\\t\\t</a>\\r\\n\\t\\t\\t\\t\\t\\t\\t</div>\\r\\n\\r\\n\\t\\t\\t\\t\\t\\t\\t</div>\\r\\n<div class=\"list_line\"></div>\\r\\n\\r\\n\\t\\t\\t\\t\\t\\t\\t\\t</div>\\r\\n\\t\\t\\t\\t\\t\\t\\t</li>\\r\\n<li class=\"nav_life\" ><a href=\"/tw/Article/ArticleContent/e8af1baf-4afa-4f5b-875e-577340aa302e\" title = \"\\u642d\\u9ad8\\u9435\\u2027\\u904a\\u53f0\\u7063\">\\u642d\\u9ad8\\u9435\\u2027\\u904a\\u53f0\\u7063</a>\\r\\n\\t\\t\\t\\t\\t\\t\\t\\t<div class=\"dl height_304\">\\r\\n\\t\\t\\t\\t\\t\\t\\t\\t\\t<div class=\"first_list\">\\r\\n\\t\\t\\t\\t\\t\\t\\t\\t\\t\\t<div class=\"has_photo_list\"><img src=\"/event/index_img/nav_life.jpg\" width=\"200\" height=\"120\" alt=\"\\u642d\\u9ad8\\u9435\\u2027\\u904a\\u53f0\\u7063\" title = \"\\u642d\\u9ad8\\u9435\\u2027\\u904a\\u53f0\\u7063\"></div>\\r\\n\\t\\t\\t\\t\\t\\t\\t\\t\\t\\t<div title =\\u642d\\u9ad8\\u9435\\u2022\\u904a\\u53f0\\u7063 \\u9ad4\\u9a57\\u53f0\\u7063\\u5728\\u5730\\u7f8e\\u597d\\uff01 class=\"photo_list_word\">\\u642d\\u9ad8\\u9435\\u2022\\u904a\\u53f0\\u7063 \\u9ad4\\u9a57\\u53f0\\u7063\\u5728\\u5730\\u7f8e\\u597d\\uff01</div>\\r\\n\\t\\t\\t\\t\\t\\t\\t\\t\\t</div>\\r\\n\\t\\t\\t\\t\\t\\t\\t\\t\\t<div class=\"list_area list_area_tw\"> \\r\\n\\t\\t\\t\\t\\t\\t\\t\\t<div class=\"dt\">\\r\\n\\t\\t\\t\\t\\t\\t\\t<a title = \"\\u9ad8\\u9435\\u5047\\u671f[\\u5c07\\u53e6\\u958b\\u65b0\\u8996\\u7a97]\"  href=\"http://tholiday.thsrc.com.tw/\" alt = \"\\u9ad8\\u9435\\u5047\\u671f[\\u5c07\\u53e6\\u958b\\u65b0\\u8996\\u7a97]\" target=\"_blank\" >\\r\\n\\t\\t\\t\\t\\t\\t\\t\\u9ad8\\u9435\\u5047\\u671f\\r\\n\\t\\t\\t\\t\\t\\t\\t</a>\\r\\n\\t\\t\\t\\t\\t\\t\\t</div>\\r\\n<div class=\"dd\">\\r\\n\\t\\t\\t\\t\\t\\t\\t<a title = \"2016\\u590f\\u79cb\\u5b63\\u865f[\\u5c07\\u53e6\\u958b\\u65b0\\u8996\\u7a97 ]\"  href=\"http://tholiday.thsrc.com.tw/TC/search.aspx?ThemeID=97c9887f-d766-4c0a-8b7e-de0b209afdc4\" alt = \"2016\\u590f\\u79cb\\u5b63\\u865f[\\u5c07\\u53e6\\u958b\\u65b0\\u8996\\u7a97 ]\" target=\"_blank\" >\\r\\n\\t\\t\\t\\t\\t\\t\\t2016\\u590f\\u79cb\\u5b63\\u865f<span style=\\'display:none;\\'>[\\u5c07\\u53e6\\u958b\\u65b0\\u8996\\u7a97 ]</span>\\r\\n\\t\\t\\t\\t\\t\\t\\t</a>\\r\\n\\t\\t\\t\\t\\t\\t\\t</div>\\r\\n<div class=\"dd\">\\r\\n\\t\\t\\t\\t\\t\\t\\t<a title = \"\\u76db\\u590f\\u6a02\\u904a\\u65b9\\u6848[\\u5c07\\u53e6\\u958b\\u65b0\\u8996\\u7a97 ]\"  href=\"/tw/Article/ArticleContent/99ba7783-c46e-4b68-849b-e9084e5a0e15\" alt = \"\\u76db\\u590f\\u6a02\\u904a\\u65b9\\u6848[\\u5c07\\u53e6\\u958b\\u65b0\\u8996\\u7a97 ]\" target=\"_blank\" >\\r\\n\\t\\t\\t\\t\\t\\t\\t\\u76db\\u590f\\u6a02\\u904a\\u65b9\\u6848<span style=\\'display:none;\\'>[\\u5c07\\u53e6\\u958b\\u65b0\\u8996\\u7a97 ]</span>\\r\\n\\t\\t\\t\\t\\t\\t\\t</a>\\r\\n\\t\\t\\t\\t\\t\\t\\t</div>\\r\\n<div class=\"dd\">\\r\\n\\t\\t\\t\\t\\t\\t\\t<a title = \"\\u5c0f\\u8cc7\\u8d85\\u503c\\u904a[\\u5c07\\u53e6\\u958b\\u65b0\\u8996\\u7a97 ]\"  href=\"http://tholiday.thsrc.com.tw/TC/search.aspx?ThemeID=518ca0ef-b217-483d-b51c-04420ed54b45\" alt = \"\\u5c0f\\u8cc7\\u8d85\\u503c\\u904a[\\u5c07\\u53e6\\u958b\\u65b0\\u8996\\u7a97 ]\" target=\"_blank\" >\\r\\n\\t\\t\\t\\t\\t\\t\\t\\u5c0f\\u8cc7\\u8d85\\u503c\\u904a<span style=\\'display:none;\\'>[\\u5c07\\u53e6\\u958b\\u65b0\\u8996\\u7a97 ]</span>\\r\\n\\t\\t\\t\\t\\t\\t\\t</a>\\r\\n\\t\\t\\t\\t\\t\\t\\t</div>\\r\\n<div class=\"dd\">\\r\\n\\t\\t\\t\\t\\t\\t\\t<a title = \"\\u8d85\\u503c\\u4e00\\u65e5\\u8c50\\u5bcc\\u884c[\\u5c07\\u53e6\\u958b\\u65b0\\u8996\\u7a97 ]\"  href=\"http://tholiday.thsrc.com.tw/TC/search.aspx?ThemeID=34fb4d48-58d4-447d-ad05-ab31fd3e84c9\" alt = \"\\u8d85\\u503c\\u4e00\\u65e5\\u8c50\\u5bcc\\u884c[\\u5c07\\u53e6\\u958b\\u65b0\\u8996\\u7a97 ]\" target=\"_blank\" >\\r\\n\\t\\t\\t\\t\\t\\t\\t\\u8d85\\u503c\\u4e00\\u65e5\\u8c50\\u5bcc\\u884c<span style=\\'display:none;\\'>[\\u5c07\\u53e6\\u958b\\u65b0\\u8996\\u7a97 ]</span>\\r\\n\\t\\t\\t\\t\\t\\t\\t</a>\\r\\n\\t\\t\\t\\t\\t\\t\\t</div>\\r\\n<div class=\"dd\">\\r\\n\\t\\t\\t\\t\\t\\t\\t<a title = \"\\u9047\\u898b\\u6545\\u5bae\\u5357\\u9662[\\u5c07\\u53e6\\u958b\\u65b0\\u8996\\u7a97 ]\"  href=\"http://tholiday.thsrc.com.tw/TC/search.aspx?ThemeID=b1b1cdaa-b409-4430-a063-44939fe931bf\" alt = \"\\u9047\\u898b\\u6545\\u5bae\\u5357\\u9662[\\u5c07\\u53e6\\u958b\\u65b0\\u8996\\u7a97 ]\" target=\"_blank\" >\\r\\n\\t\\t\\t\\t\\t\\t\\t\\u9047\\u898b\\u6545\\u5bae\\u5357\\u9662<span style=\\'display:none;\\'>[\\u5c07\\u53e6\\u958b\\u65b0\\u8996\\u7a97 ]</span>\\r\\n\\t\\t\\t\\t\\t\\t\\t</a>\\r\\n\\t\\t\\t\\t\\t\\t\\t</div>\\r\\n<div class=\"dd\">\\r\\n\\t\\t\\t\\t\\t\\t\\t<a title = \"\\u708e\\u708e\\u590f\\u65e5\\uff0e\\u6232\\u6c34\\u8da3[\\u5c07\\u53e6\\u958b\\u65b0\\u8996\\u7a97 ]\"  href=\"http://tholiday.thsrc.com.tw/TC/search.aspx?ThemeID=11a99b86-0492-4b3d-bc3e-832ee21f0e56\" alt = \"\\u708e\\u708e\\u590f\\u65e5\\uff0e\\u6232\\u6c34\\u8da3[\\u5c07\\u53e6\\u958b\\u65b0\\u8996\\u7a97 ]\" target=\"_blank\" >\\r\\n\\t\\t\\t\\t\\t\\t\\t\\u708e\\u708e\\u590f\\u65e5\\uff0e\\u6232\\u6c34\\u8da3<span style=\\'display:none;\\'>[\\u5c07\\u53e6\\u958b\\u65b0\\u8996\\u7a97 ]</span>\\r\\n\\t\\t\\t\\t\\t\\t\\t</a>\\r\\n\\t\\t\\t\\t\\t\\t\\t</div>\\r\\n<div class=\"dd\">\\r\\n\\t\\t\\t\\t\\t\\t\\t<a title = \"\\u5c0b\\u53e4\\u8a2a\\u5e7d\\uff0e\\u53e4\\u57ce\\u5de1\\u79ae[\\u5c07\\u53e6\\u958b\\u65b0\\u8996\\u7a97 ]\"  href=\"http://tholiday.thsrc.com.tw/TC/search.aspx?ThemeID=7e8a878e-a873-4659-ab9d-50622ba0f3d4\" alt = \"\\u5c0b\\u53e4\\u8a2a\\u5e7d\\uff0e\\u53e4\\u57ce\\u5de1\\u79ae[\\u5c07\\u53e6\\u958b\\u65b0\\u8996\\u7a97 ]\" target=\"_blank\" >\\r\\n\\t\\t\\t\\t\\t\\t\\t\\u5c0b\\u53e4\\u8a2a\\u5e7d\\uff0e\\u53e4\\u57ce\\u5de1\\u79ae<span style=\\'display:none;\\'>[\\u5c07\\u53e6\\u958b\\u65b0\\u8996\\u7a97 ]</span>\\r\\n\\t\\t\\t\\t\\t\\t\\t</a>\\r\\n\\t\\t\\t\\t\\t\\t\\t</div>\\r\\n<div class=\"dd\">\\r\\n\\t\\t\\t\\t\\t\\t\\t<a title = \"\\u642d\\u9ad8\\u9435\\uff0e\\u760b\\u6a02\\u5712[\\u5c07\\u53e6\\u958b\\u65b0\\u8996\\u7a97 ]\"  href=\"http://tholiday.thsrc.com.tw/TC/search.aspx?ThemeID=1a25a8da-d0a8-423a-9e2d-ef3b7e4def7f\" alt = \"\\u642d\\u9ad8\\u9435\\uff0e\\u760b\\u6a02\\u5712[\\u5c07\\u53e6\\u958b\\u65b0\\u8996\\u7a97 ]\" target=\"_blank\" >\\r\\n\\t\\t\\t\\t\\t\\t\\t\\u642d\\u9ad8\\u9435\\uff0e\\u760b\\u6a02\\u5712<span style=\\'display:none;\\'>[\\u5c07\\u53e6\\u958b\\u65b0\\u8996\\u7a97 ]</span><span style=\\'display:none;\\'>[\\u5c07\\u53e6\\u958b\\u65b0\\u8996\\u7a97 ]</span><em></em>\\r\\n\\t\\t\\t\\t\\t\\t\\t</a>\\r\\n\\t\\t\\t\\t\\t\\t\\t</div>\\r\\n<div class=\"dt\">\\r\\n\\t\\t\\t\\t\\t\\t\\t<a title = \"\\u4ea4\\u901a\\u806f\\u7968\"  href=\"/tw/Article/ArticleContent/5af4ceb8-4c6f-44ec-b02d-0c398c0ad917\" alt = \"\\u4ea4\\u901a\\u806f\\u7968\"  >\\r\\n\\t\\t\\t\\t\\t\\t\\t\\u4ea4\\u901a\\u806f\\u7968\\r\\n\\t\\t\\t\\t\\t\\t\\t</a>\\r\\n\\t\\t\\t\\t\\t\\t\\t</div>\\r\\n\\r\\n\\t\\t\\t\\t\\t\\t\\t</div>\\r\\n<div class=\"list_line\"></div>\\r\\n<div class=\"list_area list_area_tw\"> \\r\\n\\t\\t\\t\\t\\t\\t\\t\\t<div class=\"dd\">\\r\\n\\t\\t\\t\\t\\t\\t\\t<a title = \"\\u9ad8\\u9435+\\u9ad8\\u96c4\\u6377\\u904b\"  href=\"/tw/Article/ArticleContent/842a6c80-c554-4bf3-810c-d026409045e7\" alt = \"\\u9ad8\\u9435+\\u9ad8\\u96c4\\u6377\\u904b\"  >\\r\\n\\t\\t\\t\\t\\t\\t\\t\\u9ad8\\u9435+\\u9ad8\\u96c4\\u6377\\u904b\\r\\n\\t\\t\\t\\t\\t\\t\\t</a>\\r\\n\\t\\t\\t\\t\\t\\t\\t</div>\\r\\n<div class=\"dd\">\\r\\n\\t\\t\\t\\t\\t\\t\\t<a title = \"\\u9ad8\\u9435+\\u53f0\\u7063\\u597d\\u884c\"  href=\"http://www.thsrc.com.tw/tw/Article/ArticleContent/5af4ceb8-4c6f-44ec-b02d-0c398c0ad917#theGo1\" alt = \"\\u9ad8\\u9435+\\u53f0\\u7063\\u597d\\u884c\"  >\\r\\n\\t\\t\\t\\t\\t\\t\\t\\u9ad8\\u9435+\\u53f0\\u7063\\u597d\\u884c\\r\\n\\t\\t\\t\\t\\t\\t\\t</a>\\r\\n\\t\\t\\t\\t\\t\\t\\t</div>\\r\\n<div class=\"dd\">\\r\\n\\t\\t\\t\\t\\t\\t\\t<a title = \"\\u9ad8\\u9435+\\u822a\\u7a7a\\u516c\\u53f8\"  href=\"http://www.thsrc.com.tw/tw/Article/ArticleContent/5af4ceb8-4c6f-44ec-b02d-0c398c0ad917#theGo9\" alt = \"\\u9ad8\\u9435+\\u822a\\u7a7a\\u516c\\u53f8\"  >\\r\\n\\t\\t\\t\\t\\t\\t\\t\\u9ad8\\u9435+\\u822a\\u7a7a\\u516c\\u53f8<em></em>\\r\\n\\t\\t\\t\\t\\t\\t\\t</a>\\r\\n\\t\\t\\t\\t\\t\\t\\t</div>\\r\\n<div class=\"dt\">\\r\\n\\t\\t\\t\\t\\t\\t\\t<a title = \"\\u98ef\\u5e97\\u806f\\u7968\"  href=\"/tw/Article/ArticleContent/c2bae549-bc17-4373-a43a-3496780aa4ea\" alt = \"\\u98ef\\u5e97\\u806f\\u7968\"  >\\r\\n\\t\\t\\t\\t\\t\\t\\t\\u98ef\\u5e97\\u806f\\u7968\\r\\n\\t\\t\\t\\t\\t\\t\\t</a>\\r\\n\\t\\t\\t\\t\\t\\t\\t</div>\\r\\n<div class=\"dd\">\\r\\n\\t\\t\\t\\t\\t\\t\\t<a title = \"\\u5317\\u90e8\\u98ef\\u5e97\"  href=\"/tw/Article/ArticleContent/84b5f8e5-98b5-48b5-bc5f-9a24cfe6119a\" alt = \"\\u5317\\u90e8\\u98ef\\u5e97\"  >\\r\\n\\t\\t\\t\\t\\t\\t\\t\\u5317\\u90e8\\u98ef\\u5e97\\r\\n\\t\\t\\t\\t\\t\\t\\t</a>\\r\\n\\t\\t\\t\\t\\t\\t\\t</div>\\r\\n<div class=\"dd\">\\r\\n\\t\\t\\t\\t\\t\\t\\t<a title = \"\\u4e2d\\u90e8\\u98ef\\u5e97\"  href=\"/tw/Article/ArticleContent/6fdec9c4-0da5-4a67-b38d-5c11d538b7c0\" alt = \"\\u4e2d\\u90e8\\u98ef\\u5e97\"  >\\r\\n\\t\\t\\t\\t\\t\\t\\t\\u4e2d\\u90e8\\u98ef\\u5e97\\r\\n\\t\\t\\t\\t\\t\\t\\t</a>\\r\\n\\t\\t\\t\\t\\t\\t\\t</div>\\r\\n<div class=\"dd\">\\r\\n\\t\\t\\t\\t\\t\\t\\t<a title = \"\\u5357\\u90e8\\u98ef\\u5e97\"  href=\"/tw/Article/ArticleContent/d157819a-dd4e-4191-b60c-5645b02432d6\" alt = \"\\u5357\\u90e8\\u98ef\\u5e97\"  >\\r\\n\\t\\t\\t\\t\\t\\t\\t\\u5357\\u90e8\\u98ef\\u5e97\\r\\n\\t\\t\\t\\t\\t\\t\\t</a>\\r\\n\\t\\t\\t\\t\\t\\t\\t</div>\\r\\n<div class=\"dd\">\\r\\n\\t\\t\\t\\t\\t\\t\\t<a title = \"\\u6771\\u90e8\\u98ef\\u5e97\"  href=\"/tw/Article/ArticleContent/ae14d887-26c3-4c6f-9811-d8a88c17abd9\" alt = \"\\u6771\\u90e8\\u98ef\\u5e97\"  >\\r\\n\\t\\t\\t\\t\\t\\t\\t\\u6771\\u90e8\\u98ef\\u5e97\\r\\n\\t\\t\\t\\t\\t\\t\\t</a>\\r\\n\\t\\t\\t\\t\\t\\t\\t</div>\\r\\n<div class=\"dd\">\\r\\n\\t\\t\\t\\t\\t\\t\\t<a title = \"\\u5927\\u624b\\u62c9\\u5c0f\\u624b\\uff0e\\u4e00\\u540c\\u53bb\\u65c5\\u884c\"  href=\"/tw/Article/ArticleContent/ee8fa906-030f-4654-a302-1349d72a832e\" alt = \"\\u5927\\u624b\\u62c9\\u5c0f\\u624b\\uff0e\\u4e00\\u540c\\u53bb\\u65c5\\u884c\"  >\\r\\n\\t\\t\\t\\t\\t\\t\\t\\u5927\\u624b\\u62c9\\u5c0f\\u624b\\uff0e\\u4e00\\u540c\\u53bb\\u65c5\\u884c\\r\\n\\t\\t\\t\\t\\t\\t\\t</a>\\r\\n\\t\\t\\t\\t\\t\\t\\t</div>\\r\\n<div class=\"dd\">\\r\\n\\t\\t\\t\\t\\t\\t\\t<a title = \"\\u6162\\u6d3b\\u68ee\\u547c\\u5438 \\u6d88\\u6691\\u6dbc\\u590f\\u98ef\\u5e97\"  href=\"/tw/Article/ArticleContent/d44c289c-8bc3-4b7e-9f63-7daa2529d4f2\" alt = \"\\u6162\\u6d3b\\u68ee\\u547c\\u5438 \\u6d88\\u6691\\u6dbc\\u590f\\u98ef\\u5e97\"  >\\r\\n\\t\\t\\t\\t\\t\\t\\t\\u6162\\u6d3b\\u68ee\\u547c\\u5438 \\u6d88\\u6691\\u6dbc\\u590f\\u98ef\\u5e97\\r\\n\\t\\t\\t\\t\\t\\t\\t</a>\\r\\n\\t\\t\\t\\t\\t\\t\\t</div>\\r\\n\\r\\n\\t\\t\\t\\t\\t\\t\\t</div>\\r\\n<div class=\"list_line\"></div>\\r\\n<div class=\"list_area list_area_tw\"> \\r\\n\\t\\t\\t\\t\\t\\t\\t\\t<div class=\"dd\">\\r\\n\\t\\t\\t\\t\\t\\t\\t<a title = \"\\u5922\\u5e7b\\u7f8e\\u666f\\u7121\\u908a\\u969b\\u6cf3\\u6c60\\u63a8\\u85a6\"  href=\"/tw/Article/ArticleContent/922c29cf-2ac3-4e84-860d-4ac707a99e69\" alt = \"\\u5922\\u5e7b\\u7f8e\\u666f\\u7121\\u908a\\u969b\\u6cf3\\u6c60\\u63a8\\u85a6\"  >\\r\\n\\t\\t\\t\\t\\t\\t\\t\\u5922\\u5e7b\\u7f8e\\u666f\\u7121\\u908a\\u969b\\u6cf3\\u6c60\\u63a8\\u85a6\\r\\n\\t\\t\\t\\t\\t\\t\\t</a>\\r\\n\\t\\t\\t\\t\\t\\t\\t</div>\\r\\n<div class=\"dd\">\\r\\n\\t\\t\\t\\t\\t\\t\\t<a title = \"\\u8c6a\\u83ef\\u661f\\u7d1a\\u4eab\\u6a02\\u904a\"  href=\"/tw/Article/ArticleContent/bbb690c1-d388-4692-bc95-0d12a81b1b81\" alt = \"\\u8c6a\\u83ef\\u661f\\u7d1a\\u4eab\\u6a02\\u904a\"  >\\r\\n\\t\\t\\t\\t\\t\\t\\t\\u8c6a\\u83ef\\u661f\\u7d1a\\u4eab\\u6a02\\u904a\\r\\n\\t\\t\\t\\t\\t\\t\\t</a>\\r\\n\\t\\t\\t\\t\\t\\t\\t</div>\\r\\n<div class=\"dd\">\\r\\n\\t\\t\\t\\t\\t\\t\\t<a title = \"\\u5c0f\\u8cc7\\u7cbe\\u7701\\u65c5\\u904a\\u8da3\"  href=\"/tw/Article/ArticleContent/ccd52eb1-80ab-4895-ab94-f412f45e9dbf\" alt = \"\\u5c0f\\u8cc7\\u7cbe\\u7701\\u65c5\\u904a\\u8da3\"  >\\r\\n\\t\\t\\t\\t\\t\\t\\t\\u5c0f\\u8cc7\\u7cbe\\u7701\\u65c5\\u904a\\u8da3\\r\\n\\t\\t\\t\\t\\t\\t\\t</a>\\r\\n\\t\\t\\t\\t\\t\\t\\t</div>\\r\\n<div class=\"dd\">\\r\\n\\t\\t\\t\\t\\t\\t\\t<a title = \"\\u512a\\u60e0\\u6210\\u96d9\\uff0e\\u597d\\u8a55\\u518d\\u52a0\\u78bc\"  href=\"/tw/Article/ArticleContent/680ce7d5-6320-41f1-8d9a-250158b39e87\" alt = \"\\u512a\\u60e0\\u6210\\u96d9\\uff0e\\u597d\\u8a55\\u518d\\u52a0\\u78bc\"  >\\r\\n\\t\\t\\t\\t\\t\\t\\t\\u512a\\u60e0\\u6210\\u96d9\\uff0e\\u597d\\u8a55\\u518d\\u52a0\\u78bc<em></em>\\r\\n\\t\\t\\t\\t\\t\\t\\t</a>\\r\\n\\t\\t\\t\\t\\t\\t\\t</div>\\r\\n<div title =\"\\u642d\\u9ad8\\u9435\\uff0e\\u904a\\u53f0\\u7063\" class=\"dtnolink\">\\u642d\\u9ad8\\u9435\\uff0e\\u904a\\u53f0\\u7063</div>\\r\\n<div class=\"dd\">\\r\\n\\t\\t\\t\\t\\t\\t\\t<a title = \"\\u9ad8\\u901f\\u6162\\u6d3b\"  href=\"/tw/Article/ArticleContent/383d9d45-698b-4e17-a84f-c7cb90b5adc5\" alt = \"\\u9ad8\\u901f\\u6162\\u6d3b\"  >\\r\\n\\t\\t\\t\\t\\t\\t\\t\\u9ad8\\u901f\\u6162\\u6d3b\\r\\n\\t\\t\\t\\t\\t\\t\\t</a>\\r\\n\\t\\t\\t\\t\\t\\t\\t</div>\\r\\n<div class=\"dd\">\\r\\n\\t\\t\\t\\t\\t\\t\\t<a title = \"\\u5927\\u624b\\u62c9\\u5c0f\\u624b\"  href=\"/tw/Article/ArticleContent/e8af1baf-4afa-4f5b-875e-577340aa302e\" alt = \"\\u5927\\u624b\\u62c9\\u5c0f\\u624b\"  >\\r\\n\\t\\t\\t\\t\\t\\t\\t\\u5927\\u624b\\u62c9\\u5c0f\\u624b<em></em>\\r\\n\\t\\t\\t\\t\\t\\t\\t</a>\\r\\n\\t\\t\\t\\t\\t\\t\\t</div>\\r\\n\\r\\n\\t\\t\\t\\t\\t\\t\\t</div>\\r\\n<div class=\"list_line\"></div>\\r\\n\\r\\n\\t\\t\\t\\t\\t\\t\\t\\t</div>\\r\\n\\t\\t\\t\\t\\t\\t\\t</li>\\r\\n<li class=\"top_24hours\">\\r\\n\\t\\t\\t\\t\\t\\t\\t\\t<a href=\"https://irs.thsrc.com.tw/IMINT?locale=tw\" alt = \"24\\u5c0f\\u6642\\u7db2\\u8def\\u8a02\\u7968[\\u5c07\\u53e6\\u958b\\u65b0\\u8996\\u7a97]\" title = \"24\\u5c0f\\u6642\\u7db2\\u8def\\u8a02\\u7968[\\u5c07\\u53e6\\u958b\\u65b0\\u8996\\u7a97]\" target=\"_blank\">24\\u5c0f\\u6642\\u7db2\\u8def\\u8a02\\u7968[\\u5c07\\u53e6\\u958b\\u65b0\\u8996\\u7a97]</a>\\r\\n\\r\\n\\t</ul>\\r\\n</nav>\\r\\n\\r\\n</header>\\r\\n\\r\\n        <div id=\"printcontent\">\\r\\n            \\r\\n\\r\\n<aside class=\"ticket_bread\">\\r\\n    \\r\\n<div class=\"ticket_bread_left\">\\r\\n    <ul>\\r\\n\\r\\n               <li class=\"ticket_bread_one\"><a href=\"#\" class=\"aaBrick\" title=\"\\u4e3b\\u8981\\u5167\\u5bb9\\u5340\" accesskey=\"C\"><span>:::</span></a><a title=\\'\\u9996\\u9801\\'  href=\"/\">\\u9996\\u9801</a></li>\\r\\n            \\r\\n                    <li><a href=\"/tw/SiteMap/#T\" title=\\'\\u8cfc\\u7968\\u8cc7\\u8a0a\\'>\\u8cfc\\u7968\\u8cc7\\u8a0a</a></li> \\r\\n                \\r\\n                    <li><a href=\"/tw\" title=\\'\\u5feb\\u901f\\u67e5\\u8a62\\'>\\u5feb\\u901f\\u67e5\\u8a62</a></li> \\r\\n                \\r\\n                <li><a class=\"current\" href=\"javascript:;\" title=\\'\\u6642\\u523b\\u8868\\u8207\\u7968\\u50f9\\u67e5\\u8a62\\' style=\"cursor:default\">\\u6642\\u523b\\u8868\\u8207\\u7968\\u50f9\\u67e5\\u8a62</a></li>\\r\\n                    \\r\\n    </ul>\\r\\n    <br />\\r\\n</div>\\r\\n<!--ticket_bread_left-->\\r\\n            <div class=\"ticket_bread_right\">\\r\\n                \\r\\n<!--Content_Start-->\\r\\n    \\r\\n    <noscript style=\"\\r\\n    position: absolute;\\r\\n    top: 55px;\\r\\n    right: 0px;\\r\\n    line-height: 18px;\\r\\n    width: 500px;\\r\\n    z-index:100;\\r\\n    background:#FFF;\\r\\n\" >\\r\\n    <p>\\u53cb\\u5584\\u5217\\u5370SCRIPT\\uff0c\\u5982\\u60a8\\u7684\\u700f\\u89bd\\u5668\\u4e0d\\u652f\\u63f4\\uff0c\\u8acb\\u5229\\u7528\\u9375\\u76e4\\u6309\\u4f4fCtrl\\u9375 + P\\u3002 <br />\\r\\n     \\u5b57\\u7d1a\\u5927\\u5c0fSCRIPT\\uff0c\\u5982\\u60a8\\u7684\\u700f\\u89bd\\u5668\\u4e0d\\u652f\\u63f4\\uff0cIE6\\u8acb\\u5229\\u7528\\u9375\\u76e4\\u6309\\u4f4fALT\\u9375 + V \\u2192 X \\u2192 (G)\\u6700\\u5927><br />\\r\\n     (L)\\u8f03\\u5927(M)\\u4e2d(S)\\u8f03\\u5c0f(A)\\u5c0f\\uff0c\\u4f86\\u9078\\u64c7\\u9069\\u5408\\u60a8\\u7684\\u6587\\u5b57\\u5927\\u5c0f\\uff0c\\u5982\\u70baIE7\\u6216Firefoxy\\u8207Chrome\\u700f\\u89bd\\u5668\\u5247<br />\\r\\n     \\u53ef\\u5229\\u7528\\u9375\\u76e4 Ctrl + (+)\\u653e\\u5927 (-)\\u7e2e\\u5c0f\\u4f86\\u6539\\u8b8a\\u5b57\\u578b\\u5927\\u5c0f\\u3002</p>\\r\\n     </noscript>\\r\\n    \\r\\n    <a class=\"print_this\" href=\"javascript:;\" title=\"\\u5217\\u5370\\u672c\\u9801\">\\u5217\\u5370\\u672c\\u9801</a>\\r\\n   \\r\\n    <!--Content_End-->\\r\\n            </div>\\r\\n\\r\\n            <script type=\"text/javascript\">\\r\\n                /*\\u5b57\\u9ad4\\u5927\\u5c0f\\u5340-------------------------------------------------------------------------------------------*/\\r\\n                $(document).ready(function () {\\r\\n                    $(\\'.ticket_bread_right ol li\\').click(function () {\\r\\n                        $(\\'.ticket_bread_right ol li\\').removeClass(\\'current\\');\\r\\n                        $(this).addClass(\\'current\\');\\r\\n                        switch ($(this).index()) {\\r\\n                            case 0:\\r\\n                                $(\\'.word_size\\').css(\\'font-size\\', \\'18px\\');\\r\\n                                break;\\r\\n                            case 1:\\r\\n                                $(\\'.word_size\\').css(\\'font-size\\', \\'15px\\');\\r\\n                                break;\\r\\n                            case 2:\\r\\n                                $(\\'.word_size\\').css(\\'font-size\\', \\'12px\\');\\r\\n                                break;\\r\\n\\r\\n                        }\\r\\n\\r\\n                    });\\r\\n                    $(\\'.ticket_bread_right ol li\\').keypress(function () {\\r\\n                        $(\\'.ticket_bread_right ol li\\').removeClass(\\'current\\');\\r\\n                        $(this).addClass(\\'current\\');\\r\\n                        switch ($(this).index()) {\\r\\n                            case 0:\\r\\n                                $(\\'.word_size\\').css(\\'font-size\\', \\'18px\\');\\r\\n                                break;\\r\\n                            case 1:\\r\\n                                $(\\'.word_size\\').css(\\'font-size\\', \\'15px\\');\\r\\n                                break;\\r\\n                            case 2:\\r\\n                                $(\\'.word_size\\').css(\\'font-size\\', \\'12px\\');\\r\\n                                break;\\r\\n\\r\\n                        }\\r\\n\\r\\n                    });\\r\\n                });\\r\\n                /*\\u5b57\\u9ad4\\u5927\\u5c0f\\u5340 End-------------------------------------------------------------------------------------------*/\\r\\n            </script>\\r\\n</aside>\\r\\n<!--ticket_bread-->\\r\\n<!--print js-->\\r\\n<script src=\"/Content/Script/printFunction.js\" type=\"text/javascript\"></script>\\r\\n<!--print js-->\\r\\n<!--\\u4e3b\\u8981\\u5167\\u5bb9\\u5340\\u5c0e\\u76f2\\u78da-->\\r\\n\\r\\n<section class=\"common_content\">\\r\\n    <br/>\\r\\n    <h2 class=\"time_search_title\" title = \"\\u6642\\u523b\\u8868\\u8207\\u7968\\u50f9\\u67e5\\u8a62\">\\u6642\\u523b\\u8868\\u8207\\u7968\\u50f9\\u67e5\\u8a62</h2>\\r\\n    <section class=\"time_check time_check_tw\">\\r\\n        <h3 class=\"time_check_title time_check_title_tw\" title = \"\\u8acb\\u9078\\u64c7\\u67e5\\u8a62\\u689d\\u4ef6\">\\u8acb\\u9078\\u64c7\\u67e5\\u8a62\\u689d\\u4ef6 </h3>\\r\\n        <section class=\"time_check_left time_check_left_tw\">\\r\\n   \\t\\t    <form action=\"/tw/TimeTable/SearchResult\" id=\"formQuickTimeTableSearch\" method=\"post\" name=\"formQuickTimeTableSearch\">\\r\\n    <fieldset class=\"start_time\">\\r\\n        \\r\\n        <label for=\"StartStation\">\\u51fa\\u767c\\u7ad9<em> : </em> \\r\\n        <select id=\"StartStation\" name=\"StartStation\"  style=\"width: 155px;\" ><option value=\\'\\' > \\u8acb\\u9078\\u64c7</option>\\r\\n<option value=\\'2f940836-cedc-41ef-8e28-c2336ac8fe68\\' > \\u5357\\u6e2f\\u7ad9</option>\\r\\n<option value=\\'977abb69-413a-4ccf-a109-0272c24fd490\\' selected> \\u53f0\\u5317\\u7ad9</option>\\r\\n<option value=\\'e6e26e66-7dc1-458f-b2f3-71ce65fdc95f\\' > \\u677f\\u6a4b\\u7ad9</option>\\r\\n<option value=\\'fbd828d8-b1da-4b06-a3bd-680cdca4d2cd\\' > \\u6843\\u5712\\u7ad9</option>\\r\\n<option value=\\'a7a04c89-900b-4798-95a3-c01c455622f4\\' > \\u65b0\\u7af9\\u7ad9</option>\\r\\n<option value=\\'e8fc2123-2aaf-46ff-ad79-51d4002a1ef3\\' > \\u82d7\\u6817\\u7ad9</option>\\r\\n<option value=\\'3301e395-46b8-47aa-aa37-139e15708779\\' > \\u53f0\\u4e2d\\u7ad9</option>\\r\\n<option value=\\'38b8c40b-aef0-4d66-b257-da96ec51620e\\' > \\u5f70\\u5316\\u7ad9</option>\\r\\n<option value=\\'5f4c7bb0-c676-4e39-8d3c-f12fc188ee5f\\' > \\u96f2\\u6797\\u7ad9</option>\\r\\n<option value=\\'60831846-f0e4-47f6-9b5b-46323ebdcef7\\' > \\u5609\\u7fa9\\u7ad9</option>\\r\\n<option value=\\'9c5ac6ca-ec89-48f8-aab0-41b738cb1814\\' > \\u53f0\\u5357\\u7ad9</option>\\r\\n<option value=\\'f2519629-5973-4d08-913b-479cce78a356\\' > \\u5de6\\u71df\\u7ad9</option>\\r\\n</select>\\r\\n\\r\\n    </fieldset>\\r\\n    <fieldset class=\"end_time end_time_tw\">\\r\\n        \\r\\n        <label for=\"EndStation\">\\u5230\\u9054\\u7ad9<em> : </em></label>\\r\\n        <select id=\"EndStation\" name=\"EndStation\"  style=\"width: 155px;\" ><option value=\\'\\' > \\u8acb\\u9078\\u64c7</option>\\r\\n<option value=\\'2f940836-cedc-41ef-8e28-c2336ac8fe68\\' > \\u5357\\u6e2f\\u7ad9</option>\\r\\n<option value=\\'977abb69-413a-4ccf-a109-0272c24fd490\\' > \\u53f0\\u5317\\u7ad9</option>\\r\\n<option value=\\'e6e26e66-7dc1-458f-b2f3-71ce65fdc95f\\' > \\u677f\\u6a4b\\u7ad9</option>\\r\\n<option value=\\'fbd828d8-b1da-4b06-a3bd-680cdca4d2cd\\' > \\u6843\\u5712\\u7ad9</option>\\r\\n<option value=\\'a7a04c89-900b-4798-95a3-c01c455622f4\\' > \\u65b0\\u7af9\\u7ad9</option>\\r\\n<option value=\\'e8fc2123-2aaf-46ff-ad79-51d4002a1ef3\\' > \\u82d7\\u6817\\u7ad9</option>\\r\\n<option value=\\'3301e395-46b8-47aa-aa37-139e15708779\\' > \\u53f0\\u4e2d\\u7ad9</option>\\r\\n<option value=\\'38b8c40b-aef0-4d66-b257-da96ec51620e\\' > \\u5f70\\u5316\\u7ad9</option>\\r\\n<option value=\\'5f4c7bb0-c676-4e39-8d3c-f12fc188ee5f\\' > \\u96f2\\u6797\\u7ad9</option>\\r\\n<option value=\\'60831846-f0e4-47f6-9b5b-46323ebdcef7\\' > \\u5609\\u7fa9\\u7ad9</option>\\r\\n<option value=\\'9c5ac6ca-ec89-48f8-aab0-41b738cb1814\\' selected> \\u53f0\\u5357\\u7ad9</option>\\r\\n<option value=\\'f2519629-5973-4d08-913b-479cce78a356\\' > \\u5de6\\u71df\\u7ad9</option>\\r\\n</select>\\r\\n\\r\\n    </fieldset>\\r\\n    <fieldset class=\"date_for date_for_tw\">\\r\\n        \\r\\n        <label for=\"SearchDate\">\\u65e5 \\u671f<em> : </em></label>\\r\\n            <input class=\"datemodel\" id=\"SearchDate\" name=\"SearchDate\" placeholder=\"\\u897f\\u5143\\u5e74/\\u6708/\\u65e5\" size=\"12\" type=\"textbox\" value=\"2016/08/23\" /><script>\\r\\n$(document).ready(function() {\\r\\n$(\"#SearchDate\").datepicker(\"option\", \"minDate\", new Date(2016, 8 - 1, 23));\\r\\n$(\"#SearchDate\").datepicker(\"option\", \"maxDate\", new Date(2016, 9 - 1, 19));\\r\\n});\\r\\n</script>\\r\\n \\r\\n    </fieldset>\\r\\n    <fieldset class=\"which_time which_time_tw\">\\r\\n            \\r\\n            <label for=\"SearchTime\">\\u6642 \\u9593<em> : </em></label>\\r\\n            <select id=\"SearchTime\" name=\"SearchTime\" style=\"width: 100px;\"><option value=\"\">\\u8acb\\u9078\\u64c7</option>\\r\\n<option value=\"06:00\">06:00</option>\\r\\n<option selected=\"selected\" value=\"06:30\">06:30</option>\\r\\n<option value=\"07:00\">07:00</option>\\r\\n<option value=\"07:30\">07:30</option>\\r\\n<option value=\"08:00\">08:00</option>\\r\\n<option value=\"08:30\">08:30</option>\\r\\n<option value=\"09:00\">09:00</option>\\r\\n<option value=\"09:30\">09:30</option>\\r\\n<option value=\"10:00\">10:00</option>\\r\\n<option value=\"10:30\">10:30</option>\\r\\n<option value=\"11:00\">11:00</option>\\r\\n<option value=\"11:30\">11:30</option>\\r\\n<option value=\"12:00\">12:00</option>\\r\\n<option value=\"12:30\">12:30</option>\\r\\n<option value=\"13:00\">13:00</option>\\r\\n<option value=\"13:30\">13:30</option>\\r\\n<option value=\"14:00\">14:00</option>\\r\\n<option value=\"14:30\">14:30</option>\\r\\n<option value=\"15:00\">15:00</option>\\r\\n<option value=\"15:30\">15:30</option>\\r\\n<option value=\"16:00\">16:00</option>\\r\\n<option value=\"16:30\">16:30</option>\\r\\n<option value=\"17:00\">17:00</option>\\r\\n<option value=\"17:30\">17:30</option>\\r\\n<option value=\"18:00\">18:00</option>\\r\\n<option value=\"18:30\">18:30</option>\\r\\n<option value=\"19:00\">19:00</option>\\r\\n<option value=\"19:30\">19:30</option>\\r\\n<option value=\"20:00\">20:00</option>\\r\\n<option value=\"20:30\">20:30</option>\\r\\n<option value=\"21:00\">21:00</option>\\r\\n<option value=\"21:30\">21:30</option>\\r\\n<option value=\"22:00\">22:00</option>\\r\\n<option value=\"22:30\">22:30</option>\\r\\n<option value=\"23:00\">23:00</option>\\r\\n<option value=\"23:30\">23:30</option>\\r\\n</select>                             \\r\\n             \\r\\n             <label for=\"SearchWay\"></label>\\r\\n           <select id=\"SearchWay\" name=\"SearchWay\"  style=\"width: 60px;\" ><option value=\\'DepartureInMandarin\\' selected> \\u51fa\\u767c</option>\\r\\n<option value=\\'ArrivalInMandarin\\' > \\u62b5\\u9054</option>\\r\\n</select>\\r\\n \\r\\n            <input id=\"RestTime\" name=\"RestTime\" type=\"hidden\" value=\"\" />\\r\\n            <input id=\"EarlyOrLater\" name=\"EarlyOrLater\" type=\"hidden\" value=\"\" />                            \\r\\n    </fieldset>\\r\\n    <input class=\"time_search_btn time_search_btn_tw\" type=\"submit\" value=\"\\u7acb\\u5373\\u67e5\\u8a62\" title = \"\\u7acb\\u5373\\u67e5\\u8a62\"  onkeypress=\"QuickSearchSubmit();return false;\" onclick=\"QuickSearchSubmit();return false;\" />\\r\\n</form>\\r\\n<script type=\"text/javascript\">\\r\\n    $(document).ready(function () {\\r\\n    \\r\\n    \\r\\n//            $(\"#SearchDate\").attr(\"readonly\", \"true\");\\r\\n    });\\r\\n\\r\\n    function QuickSearchSubmit() {\\r\\n        var startStation = $(\"#StartStation\").val();\\r\\n        var endStation = $(\"#EndStation\").val();\\r\\n        var time = $(\"#SearchTime\").val();\\r\\n\\r\\n        if (startStation == \"\" || endStation == \"\")\\r\\n            alert(\"\\u8acb\\u9078\\u64c7\\u51fa\\u767c / \\u5230\\u9054\\u7ad9\");\\r\\n        else if (time == \"\")\\r\\n            alert(\"\\u8acb\\u9078\\u64c7\\u6642\\u9593\");\\r\\n        else if (startStation == endStation)\\r\\n            alert(\"\\u8d77\\u7ad9\\u8207\\u8fc4\\u7ad9\\u4e0d\\u80fd\\u8a2d\\u70ba\\u76f8\\u540c\");\\r\\n        else\\r\\n            $(\"#formQuickTimeTableSearch\").submit();\\r\\n    }\\r\\n\\r\\n    function RestTrainSubmit(restTime, earlyOrLater) {\\r\\n        $(\"#RestTime\").val(restTime);\\r\\n        $(\"#EarlyOrLater\").val(earlyOrLater);\\r\\n        QuickSearchSubmit();\\r\\n    }\\r\\n\\r\\n</script>\\r\\n <noscript>\\r\\n \\u8acb\\u9078\\u64c7\\u51fa\\u767c / \\u5230\\u9054\\u7ad9\\r\\n \\u8acb\\u9078\\u64c7\\u6642\\u9593\\r\\n \\u8d77\\u7ad9\\u8207\\u8fc4\\u7ad9\\u4e0d\\u80fd\\u8a2d\\u70ba\\u76f8\\u540c\\r\\n </noscript>\\r\\n         \\r\\n        </section>\\r\\n\\t\\t\\r\\n\\t\\t\\r\\n\\t\\t\\t\\t\\r\\n        \\r\\n<!--time_check_right-->\\r\\n<section class=\"time_check_right time_check_right_tw\">\\r\\n    <h4 title = \"\\u6642\\u523b\\u8868\\u4e0b\\u8f09\">\\u6642\\u523b\\u8868\\u4e0b\\u8f09</h4>\\r\\n    \\r\\n    <ul>\\r\\n        <li><a href=\"/UploadFiles/TicketFile/37d29cc5-722e-409c-b43e-c18102660bcb.pdf\" target=\"_blank\" onkeypress=\"JumpToOtherPage(\\'/UploadFiles/TicketFile/37d29cc5-722e-409c-b43e-c18102660bcb.pdf\\', \\'1\\');return false;\" onclick=\"JumpToOtherPage(\\'/UploadFiles/TicketFile/37d29cc5-722e-409c-b43e-c18102660bcb.pdf\\', \\'1\\');return false;\" title  =\"\\u4e2d\\u79cb\\u5047\\u671f\\u6642\\u523b\\u8868[\\u5c07\\u53e6\\u958b\\u65b0\\u8996\\u7a97](\\u4e2d\\u79cb\\u5047\\u671f\\u6642\\u523b\\u8868.pdf)\" download=\"\\u4e2d\\u79cb\\u5047\\u671f\\u6642\\u523b\\u8868\">\\u4e2d\\u79cb\\u5047\\u671f\\u6642\\u523b\\u8868</a></li>\\r\\n<li><a href=\"http://www2.thsrc.com.tw/UploadFiles/TicketFile/643cb50c-847f-4e19-ace6-94c669bbae13.pdf\" target=\"_blank\" onkeypress=\"JumpToOtherPage(\\'http://www2.thsrc.com.tw/UploadFiles/TicketFile/643cb50c-847f-4e19-ace6-94c669bbae13.pdf\\', \\'1\\');return false;\" onclick=\"JumpToOtherPage(\\'http://www2.thsrc.com.tw/UploadFiles/TicketFile/643cb50c-847f-4e19-ace6-94c669bbae13.pdf\\', \\'1\\');return false;\" title  =\"\\u73fe\\u884c\\u6642\\u523b\\u8868[\\u5c07\\u53e6\\u958b\\u65b0\\u8996\\u7a97](\\u73fe\\u884c\\u6642\\u523b\\u8868.pdf)\" download=\"\\u73fe\\u884c\\u6642\\u523b\\u8868\">\\u73fe\\u884c\\u6642\\u523b\\u8868</a></li>\\r\\n\\r\\n\\t</ul>\\r\\n</section>\\r\\n        <div class=\"clearfix\"></div>\\r\\n    </section>\\r\\n     \\r\\n        \\r\\n      <section class=\"time_check_result time_check_result_tw\">\\r\\n         <h2>Search Result</h2>\\r\\n         <ul>\\r\\n           \\t<aside class=\"result_top result_top_tw\" >\\r\\n                               <h3>\\r\\n                                    <strong class=\"front\">\\u53f0\\u5317\\u7ad9</strong>\\r\\n                                    <strong>\\u53f0\\u5357\\u7ad9</strong>\\r\\n                               </h3>\\r\\n                               <h4>2016/08/23(\\u5468\\u4e8c)</h4>\\r\\n                               <p>06:30 \\u51fa\\u767c</p>\\r\\n                               <a class=\"check_N_S\" target=\"_blank\" href=\"/tw/TimeTable/DailyTimeTable/20160823\" onclick=\"JumpToOtherPage(\\'/tw/TimeTable/DailyTimeTable/20160823\\', \\'1\\');return false;\" OnKeypress=\"this.onclick();return false;\" title = \"\\u6aa2\\u89962016/08/23\\u6642\\u523b\\u8868\\uff08\\u542b\\u5357\\u4e0b/\\u5317\\u4e0a\\u8eca\\u6b21)[\\u5c07\\u53e6\\u958b\\u65b0\\u8996\\u7a97]\">\\u6aa2\\u8996 2016/08/23 \\u6642\\u523b\\u8868\\uff08\\u542b\\u5357\\u4e0b/\\u5317\\u4e0a\\u8eca\\u6b21) </a></aside><section class=\"result_table\">\\r\\n                                 <table>\\r\\n                                    <tr>\\r\\n                                        <th class=\"column1\" scope=\"col\">\\u8eca\\u6b21</th>\\r\\n                                        <th class=\"column3\" scope=\"col\">\\u51fa\\u767c\\u6642\\u9593</th>\\r\\n                                        <th class=\"column4\" scope=\"col\">\\u62b5\\u9054\\u6642\\u9593</th>\\r\\n                                        <th class=\"column2\" scope=\"col\">\\u5099\\u8a3b</th>\\r\\n                                    </tr>\\r\\n                                    <tr>\\r\\n                                    <td class=\"toTouch \" colspan=\"4\">\\r\\n                                        <table class=\"touch_table\"><tr>\\r\\n                                            <td  class=\"column1\"><a href=\"?ID=U3RhcnRTdGF0aW9uPTk3N2FiYjY5LTQxM2EtNGNjZi1hMTA5LTAyNzJjMjRmZDQ5MCZFbmRTdGF0aW9uPTljNWFjNmNhLWVjODktNDhmOC1hYWIwLTQxYjczOGNiMTgxNCZTZWFyY2hEYXRlPTIwMTYvMDgvMjMmU2VhcmNoVGltZT0wNjozMCZTZWFyY2hXYXk9RGVwYXJ0dXJlSW5NYW5kYXJpbiZSZXN0VGltZT0mRWFybHlPckxhdGVyPSZTdGF0aW9uTGluZUN1cnJlbnQ9MDIwMw==\" title = \"0203\">0203</a></td>\\r\\n                                            <td  class=\"column3\">06:30</td>\\r\\n                                            <td  class=\"column4\">08:01</td>\\r\\n                                            <td  class=\"column2\"></td>\\r\\n                                          </tr>\\r\\n                                        </table> \\r\\n                                        <div class=\"touch_show\">\\r\\n                                    <section class=\"touch_table_info touch_table_info_tw\">\\r\\n                                    \\t\\t<a class=\"touch_close\" href=\"?ID=U3RhcnRTdGF0aW9uPTk3N2FiYjY5LTQxM2EtNGNjZi1hMTA5LTAyNzJjMjRmZDQ5MCZFbmRTdGF0aW9uPTljNWFjNmNhLWVjODktNDhmOC1hYWIwLTQxYjczOGNiMTgxNCZTZWFyY2hEYXRlPTIwMTYvMDgvMjMmU2VhcmNoVGltZT0wNjozMCZTZWFyY2hXYXk9RGVwYXJ0dXJlSW5NYW5kYXJpbiZSZXN0VGltZT0mRWFybHlPckxhdGVyPSZTdGF0aW9uTGluZUN1cnJlbnQ9\" title = \"close\">close</a>\\r\\n                                            <h3><strong>0203 \\u5217\\u8eca </strong>\\u505c\\u9760\\u8aaa\\u660e </h3>\\r\\n                                               <ul>\\r\\n                                               <li class=\"station05 \"><a href=\"javascript:;\" title = \"\\u5357\\u6e2f\\u7ad9\">\\u5357\\u6e2f\\u7ad9</a><em></em></li>\\r\\n<li class=\"station10 current\"><a href=\"javascript:;\" title = \"\\u53f0\\u5317\\u7ad9\">\\u53f0\\u5317\\u7ad9</a><em>06:30</em></li>\\r\\n<li class=\"station15 current\"><a href=\"javascript:;\" title = \"\\u677f\\u6a4b\\u7ad9\">\\u677f\\u6a4b\\u7ad9</a><em>06:38</em></li>\\r\\n<li class=\"station20 \"><a href=\"javascript:;\" title = \"\\u6843\\u5712\\u7ad9\">\\u6843\\u5712\\u7ad9</a><em></em></li>\\r\\n<li class=\"station25 \"><a href=\"javascript:;\" title = \"\\u65b0\\u7af9\\u7ad9\">\\u65b0\\u7af9\\u7ad9</a><em></em></li>\\r\\n<li class=\"station30 \"><a href=\"javascript:;\" title = \"\\u82d7\\u6817\\u7ad9\">\\u82d7\\u6817\\u7ad9</a><em></em></li>\\r\\n<li class=\"station40 current\"><a href=\"javascript:;\" title = \"\\u53f0\\u4e2d\\u7ad9\">\\u53f0\\u4e2d\\u7ad9</a><em>07:20</em></li>\\r\\n<li class=\"station45 \"><a href=\"javascript:;\" title = \"\\u5f70\\u5316\\u7ad9\">\\u5f70\\u5316\\u7ad9</a><em></em></li>\\r\\n<li class=\"station50 \"><a href=\"javascript:;\" title = \"\\u96f2\\u6797\\u7ad9\">\\u96f2\\u6797\\u7ad9</a><em></em></li>\\r\\n<li class=\"station55 current\"><a href=\"javascript:;\" title = \"\\u5609\\u7fa9\\u7ad9\">\\u5609\\u7fa9\\u7ad9</a><em>07:45</em></li>\\r\\n<li class=\"station65 current\"><a href=\"javascript:;\" title = \"\\u53f0\\u5357\\u7ad9\">\\u53f0\\u5357\\u7ad9</a><em>08:03</em></li>\\r\\n<li class=\"station75 current\"><a href=\"javascript:;\" title = \"\\u5de6\\u71df\\u7ad9\">\\u5de6\\u71df\\u7ad9</a><em>08:15</em></li>\\r\\n\\r\\n                                               </ul>\\r\\n                                             <h4> </h4>\\r\\n                                    </section>\\r\\n                                 </div> \\r\\n \\r\\n                                    </td>\\r\\n                                  </tr>\\r\\n<tr>\\r\\n                                    <td class=\"toTouch \" colspan=\"4\">\\r\\n                                        <table class=\"touch_table\"><tr>\\r\\n                                            <td  class=\"column1\"><a href=\"?ID=U3RhcnRTdGF0aW9uPTk3N2FiYjY5LTQxM2EtNGNjZi1hMTA5LTAyNzJjMjRmZDQ5MCZFbmRTdGF0aW9uPTljNWFjNmNhLWVjODktNDhmOC1hYWIwLTQxYjczOGNiMTgxNCZTZWFyY2hEYXRlPTIwMTYvMDgvMjMmU2VhcmNoVGltZT0wNjozMCZTZWFyY2hXYXk9RGVwYXJ0dXJlSW5NYW5kYXJpbiZSZXN0VGltZT0mRWFybHlPckxhdGVyPSZTdGF0aW9uTGluZUN1cnJlbnQ9MDYwMw==\" title = \"0603\">0603</a></td>\\r\\n                                            <td  class=\"column3\">06:51</td>\\r\\n                                            <td  class=\"column4\">08:37</td>\\r\\n                                            <td  class=\"column2\"></td>\\r\\n                                          </tr>\\r\\n                                        </table> \\r\\n                                        <div class=\"touch_show\">\\r\\n                                    <section class=\"touch_table_info touch_table_info_tw\">\\r\\n                                    \\t\\t<a class=\"touch_close\" href=\"?ID=U3RhcnRTdGF0aW9uPTk3N2FiYjY5LTQxM2EtNGNjZi1hMTA5LTAyNzJjMjRmZDQ5MCZFbmRTdGF0aW9uPTljNWFjNmNhLWVjODktNDhmOC1hYWIwLTQxYjczOGNiMTgxNCZTZWFyY2hEYXRlPTIwMTYvMDgvMjMmU2VhcmNoVGltZT0wNjozMCZTZWFyY2hXYXk9RGVwYXJ0dXJlSW5NYW5kYXJpbiZSZXN0VGltZT0mRWFybHlPckxhdGVyPSZTdGF0aW9uTGluZUN1cnJlbnQ9\" title = \"close\">close</a>\\r\\n                                            <h3><strong>0603 \\u5217\\u8eca </strong>\\u505c\\u9760\\u8aaa\\u660e </h3>\\r\\n                                               <ul>\\r\\n                                               <li class=\"station05 current\"><a href=\"javascript:;\" title = \"\\u5357\\u6e2f\\u7ad9\">\\u5357\\u6e2f\\u7ad9</a><em>06:40</em></li>\\r\\n<li class=\"station10 current\"><a href=\"javascript:;\" title = \"\\u53f0\\u5317\\u7ad9\">\\u53f0\\u5317\\u7ad9</a><em>06:51</em></li>\\r\\n<li class=\"station15 current\"><a href=\"javascript:;\" title = \"\\u677f\\u6a4b\\u7ad9\">\\u677f\\u6a4b\\u7ad9</a><em>07:00</em></li>\\r\\n<li class=\"station20 current\"><a href=\"javascript:;\" title = \"\\u6843\\u5712\\u7ad9\">\\u6843\\u5712\\u7ad9</a><em>07:15</em></li>\\r\\n<li class=\"station25 current\"><a href=\"javascript:;\" title = \"\\u65b0\\u7af9\\u7ad9\">\\u65b0\\u7af9\\u7ad9</a><em>07:27</em></li>\\r\\n<li class=\"station30 \"><a href=\"javascript:;\" title = \"\\u82d7\\u6817\\u7ad9\">\\u82d7\\u6817\\u7ad9</a><em></em></li>\\r\\n<li class=\"station40 current\"><a href=\"javascript:;\" title = \"\\u53f0\\u4e2d\\u7ad9\">\\u53f0\\u4e2d\\u7ad9</a><em>07:53</em></li>\\r\\n<li class=\"station45 \"><a href=\"javascript:;\" title = \"\\u5f70\\u5316\\u7ad9\">\\u5f70\\u5316\\u7ad9</a><em></em></li>\\r\\n<li class=\"station50 \"><a href=\"javascript:;\" title = \"\\u96f2\\u6797\\u7ad9\">\\u96f2\\u6797\\u7ad9</a><em></em></li>\\r\\n<li class=\"station55 current\"><a href=\"javascript:;\" title = \"\\u5609\\u7fa9\\u7ad9\">\\u5609\\u7fa9\\u7ad9</a><em>08:19</em></li>\\r\\n<li class=\"station65 current\"><a href=\"javascript:;\" title = \"\\u53f0\\u5357\\u7ad9\">\\u53f0\\u5357\\u7ad9</a><em>08:38</em></li>\\r\\n<li class=\"station75 current\"><a href=\"javascript:;\" title = \"\\u5de6\\u71df\\u7ad9\">\\u5de6\\u71df\\u7ad9</a><em>08:50</em></li>\\r\\n\\r\\n                                               </ul>\\r\\n                                             <h4> </h4>\\r\\n                                    </section>\\r\\n                                 </div> \\r\\n \\r\\n                                    </td>\\r\\n                                  </tr>\\r\\n<tr>\\r\\n                                    <td class=\"toTouch \" colspan=\"4\">\\r\\n                                        <table class=\"touch_table\"><tr>\\r\\n                                            <td  class=\"column1\"><a href=\"?ID=U3RhcnRTdGF0aW9uPTk3N2FiYjY5LTQxM2EtNGNjZi1hMTA5LTAyNzJjMjRmZDQ5MCZFbmRTdGF0aW9uPTljNWFjNmNhLWVjODktNDhmOC1hYWIwLTQxYjczOGNiMTgxNCZTZWFyY2hEYXRlPTIwMTYvMDgvMjMmU2VhcmNoVGltZT0wNjozMCZTZWFyY2hXYXk9RGVwYXJ0dXJlSW5NYW5kYXJpbiZSZXN0VGltZT0mRWFybHlPckxhdGVyPSZTdGF0aW9uTGluZUN1cnJlbnQ9MDgwNQ==\" title = \"0805\">0805</a></td>\\r\\n                                            <td  class=\"column3\">07:11</td>\\r\\n                                            <td  class=\"column4\">09:11</td>\\r\\n                                            <td  class=\"column2\"></td>\\r\\n                                          </tr>\\r\\n                                        </table> \\r\\n                                        <div class=\"touch_show\">\\r\\n                                    <section class=\"touch_table_info touch_table_info_tw\">\\r\\n                                    \\t\\t<a class=\"touch_close\" href=\"?ID=U3RhcnRTdGF0aW9uPTk3N2FiYjY5LTQxM2EtNGNjZi1hMTA5LTAyNzJjMjRmZDQ5MCZFbmRTdGF0aW9uPTljNWFjNmNhLWVjODktNDhmOC1hYWIwLTQxYjczOGNiMTgxNCZTZWFyY2hEYXRlPTIwMTYvMDgvMjMmU2VhcmNoVGltZT0wNjozMCZTZWFyY2hXYXk9RGVwYXJ0dXJlSW5NYW5kYXJpbiZSZXN0VGltZT0mRWFybHlPckxhdGVyPSZTdGF0aW9uTGluZUN1cnJlbnQ9\" title = \"close\">close</a>\\r\\n                                            <h3><strong>0805 \\u5217\\u8eca </strong>\\u505c\\u9760\\u8aaa\\u660e </h3>\\r\\n                                               <ul>\\r\\n                                               <li class=\"station05 current\"><a href=\"javascript:;\" title = \"\\u5357\\u6e2f\\u7ad9\">\\u5357\\u6e2f\\u7ad9</a><em>07:00</em></li>\\r\\n<li class=\"station10 current\"><a href=\"javascript:;\" title = \"\\u53f0\\u5317\\u7ad9\">\\u53f0\\u5317\\u7ad9</a><em>07:11</em></li>\\r\\n<li class=\"station15 current\"><a href=\"javascript:;\" title = \"\\u677f\\u6a4b\\u7ad9\">\\u677f\\u6a4b\\u7ad9</a><em>07:19</em></li>\\r\\n<li class=\"station20 current\"><a href=\"javascript:;\" title = \"\\u6843\\u5712\\u7ad9\">\\u6843\\u5712\\u7ad9</a><em>07:34</em></li>\\r\\n<li class=\"station25 current\"><a href=\"javascript:;\" title = \"\\u65b0\\u7af9\\u7ad9\">\\u65b0\\u7af9\\u7ad9</a><em>07:47</em></li>\\r\\n<li class=\"station30 current\"><a href=\"javascript:;\" title = \"\\u82d7\\u6817\\u7ad9\">\\u82d7\\u6817\\u7ad9</a><em>07:58</em></li>\\r\\n<li class=\"station40 current\"><a href=\"javascript:;\" title = \"\\u53f0\\u4e2d\\u7ad9\">\\u53f0\\u4e2d\\u7ad9</a><em>08:17</em></li>\\r\\n<li class=\"station45 current\"><a href=\"javascript:;\" title = \"\\u5f70\\u5316\\u7ad9\">\\u5f70\\u5316\\u7ad9</a><em>08:30</em></li>\\r\\n<li class=\"station50 current\"><a href=\"javascript:;\" title = \"\\u96f2\\u6797\\u7ad9\">\\u96f2\\u6797\\u7ad9</a><em>08:41</em></li>\\r\\n<li class=\"station55 current\"><a href=\"javascript:;\" title = \"\\u5609\\u7fa9\\u7ad9\">\\u5609\\u7fa9\\u7ad9</a><em>08:55</em></li>\\r\\n<li class=\"station65 current\"><a href=\"javascript:;\" title = \"\\u53f0\\u5357\\u7ad9\">\\u53f0\\u5357\\u7ad9</a><em>09:13</em></li>\\r\\n<li class=\"station75 current\"><a href=\"javascript:;\" title = \"\\u5de6\\u71df\\u7ad9\">\\u5de6\\u71df\\u7ad9</a><em>09:25</em></li>\\r\\n\\r\\n                                               </ul>\\r\\n                                             <h4> </h4>\\r\\n                                    </section>\\r\\n                                 </div> \\r\\n \\r\\n                                    </td>\\r\\n                                  </tr>\\r\\n<tr>\\r\\n                                    <td class=\"toTouch \" colspan=\"4\">\\r\\n                                        <table class=\"touch_table\"><tr>\\r\\n                                            <td  class=\"column1\"><a href=\"?ID=U3RhcnRTdGF0aW9uPTk3N2FiYjY5LTQxM2EtNGNjZi1hMTA5LTAyNzJjMjRmZDQ5MCZFbmRTdGF0aW9uPTljNWFjNmNhLWVjODktNDhmOC1hYWIwLTQxYjczOGNiMTgxNCZTZWFyY2hEYXRlPTIwMTYvMDgvMjMmU2VhcmNoVGltZT0wNjozMCZTZWFyY2hXYXk9RGVwYXJ0dXJlSW5NYW5kYXJpbiZSZXN0VGltZT0mRWFybHlPckxhdGVyPSZTdGF0aW9uTGluZUN1cnJlbnQ9MDYwOQ==\" title = \"0609\">0609</a></td>\\r\\n                                            <td  class=\"column3\">07:46</td>\\r\\n                                            <td  class=\"column4\">09:32</td>\\r\\n                                            <td  class=\"column2\"></td>\\r\\n                                          </tr>\\r\\n                                        </table> \\r\\n                                        <div class=\"touch_show\">\\r\\n                                    <section class=\"touch_table_info touch_table_info_tw\">\\r\\n                                    \\t\\t<a class=\"touch_close\" href=\"?ID=U3RhcnRTdGF0aW9uPTk3N2FiYjY5LTQxM2EtNGNjZi1hMTA5LTAyNzJjMjRmZDQ5MCZFbmRTdGF0aW9uPTljNWFjNmNhLWVjODktNDhmOC1hYWIwLTQxYjczOGNiMTgxNCZTZWFyY2hEYXRlPTIwMTYvMDgvMjMmU2VhcmNoVGltZT0wNjozMCZTZWFyY2hXYXk9RGVwYXJ0dXJlSW5NYW5kYXJpbiZSZXN0VGltZT0mRWFybHlPckxhdGVyPSZTdGF0aW9uTGluZUN1cnJlbnQ9\" title = \"close\">close</a>\\r\\n                                            <h3><strong>0609 \\u5217\\u8eca </strong>\\u505c\\u9760\\u8aaa\\u660e </h3>\\r\\n                                               <ul>\\r\\n                                               <li class=\"station05 current\"><a href=\"javascript:;\" title = \"\\u5357\\u6e2f\\u7ad9\">\\u5357\\u6e2f\\u7ad9</a><em>07:35</em></li>\\r\\n<li class=\"station10 current\"><a href=\"javascript:;\" title = \"\\u53f0\\u5317\\u7ad9\">\\u53f0\\u5317\\u7ad9</a><em>07:46</em></li>\\r\\n<li class=\"station15 current\"><a href=\"javascript:;\" title = \"\\u677f\\u6a4b\\u7ad9\">\\u677f\\u6a4b\\u7ad9</a><em>07:55</em></li>\\r\\n<li class=\"station20 current\"><a href=\"javascript:;\" title = \"\\u6843\\u5712\\u7ad9\">\\u6843\\u5712\\u7ad9</a><em>08:10</em></li>\\r\\n<li class=\"station25 current\"><a href=\"javascript:;\" title = \"\\u65b0\\u7af9\\u7ad9\">\\u65b0\\u7af9\\u7ad9</a><em>08:22</em></li>\\r\\n<li class=\"station30 \"><a href=\"javascript:;\" title = \"\\u82d7\\u6817\\u7ad9\">\\u82d7\\u6817\\u7ad9</a><em></em></li>\\r\\n<li class=\"station40 current\"><a href=\"javascript:;\" title = \"\\u53f0\\u4e2d\\u7ad9\">\\u53f0\\u4e2d\\u7ad9</a><em>08:48</em></li>\\r\\n<li class=\"station45 \"><a href=\"javascript:;\" title = \"\\u5f70\\u5316\\u7ad9\">\\u5f70\\u5316\\u7ad9</a><em></em></li>\\r\\n<li class=\"station50 \"><a href=\"javascript:;\" title = \"\\u96f2\\u6797\\u7ad9\">\\u96f2\\u6797\\u7ad9</a><em></em></li>\\r\\n<li class=\"station55 current\"><a href=\"javascript:;\" title = \"\\u5609\\u7fa9\\u7ad9\">\\u5609\\u7fa9\\u7ad9</a><em>09:14</em></li>\\r\\n<li class=\"station65 current\"><a href=\"javascript:;\" title = \"\\u53f0\\u5357\\u7ad9\">\\u53f0\\u5357\\u7ad9</a><em>09:33</em></li>\\r\\n<li class=\"station75 current\"><a href=\"javascript:;\" title = \"\\u5de6\\u71df\\u7ad9\">\\u5de6\\u71df\\u7ad9</a><em>09:45</em></li>\\r\\n\\r\\n                                               </ul>\\r\\n                                             <h4> </h4>\\r\\n                                    </section>\\r\\n                                 </div> \\r\\n \\r\\n                                    </td>\\r\\n                                  </tr>\\r\\n<tr>\\r\\n                                    <td class=\"toTouch \" colspan=\"4\">\\r\\n                                        <table class=\"touch_table\"><tr>\\r\\n                                            <td  class=\"column1\"><a href=\"?ID=U3RhcnRTdGF0aW9uPTk3N2FiYjY5LTQxM2EtNGNjZi1hMTA5LTAyNzJjMjRmZDQ5MCZFbmRTdGF0aW9uPTljNWFjNmNhLWVjODktNDhmOC1hYWIwLTQxYjczOGNiMTgxNCZTZWFyY2hEYXRlPTIwMTYvMDgvMjMmU2VhcmNoVGltZT0wNjozMCZTZWFyY2hXYXk9RGVwYXJ0dXJlSW5NYW5kYXJpbiZSZXN0VGltZT0mRWFybHlPckxhdGVyPSZTdGF0aW9uTGluZUN1cnJlbnQ9MDIwNQ==\" title = \"0205\">0205</a></td>\\r\\n                                            <td  class=\"column3\">07:51</td>\\r\\n                                            <td  class=\"column4\">09:17</td>\\r\\n                                            <td  class=\"column2\"></td>\\r\\n                                          </tr>\\r\\n                                        </table> \\r\\n                                        <div class=\"touch_show\">\\r\\n                                    <section class=\"touch_table_info touch_table_info_tw\">\\r\\n                                    \\t\\t<a class=\"touch_close\" href=\"?ID=U3RhcnRTdGF0aW9uPTk3N2FiYjY5LTQxM2EtNGNjZi1hMTA5LTAyNzJjMjRmZDQ5MCZFbmRTdGF0aW9uPTljNWFjNmNhLWVjODktNDhmOC1hYWIwLTQxYjczOGNiMTgxNCZTZWFyY2hEYXRlPTIwMTYvMDgvMjMmU2VhcmNoVGltZT0wNjozMCZTZWFyY2hXYXk9RGVwYXJ0dXJlSW5NYW5kYXJpbiZSZXN0VGltZT0mRWFybHlPckxhdGVyPSZTdGF0aW9uTGluZUN1cnJlbnQ9\" title = \"close\">close</a>\\r\\n                                            <h3><strong>0205 \\u5217\\u8eca </strong>\\u505c\\u9760\\u8aaa\\u660e </h3>\\r\\n                                               <ul>\\r\\n                                               <li class=\"station05 current\"><a href=\"javascript:;\" title = \"\\u5357\\u6e2f\\u7ad9\">\\u5357\\u6e2f\\u7ad9</a><em>07:40</em></li>\\r\\n<li class=\"station10 current\"><a href=\"javascript:;\" title = \"\\u53f0\\u5317\\u7ad9\">\\u53f0\\u5317\\u7ad9</a><em>07:51</em></li>\\r\\n<li class=\"station15 current\"><a href=\"javascript:;\" title = \"\\u677f\\u6a4b\\u7ad9\">\\u677f\\u6a4b\\u7ad9</a><em>07:59</em></li>\\r\\n<li class=\"station20 \"><a href=\"javascript:;\" title = \"\\u6843\\u5712\\u7ad9\">\\u6843\\u5712\\u7ad9</a><em></em></li>\\r\\n<li class=\"station25 \"><a href=\"javascript:;\" title = \"\\u65b0\\u7af9\\u7ad9\">\\u65b0\\u7af9\\u7ad9</a><em></em></li>\\r\\n<li class=\"station30 \"><a href=\"javascript:;\" title = \"\\u82d7\\u6817\\u7ad9\">\\u82d7\\u6817\\u7ad9</a><em></em></li>\\r\\n<li class=\"station40 current\"><a href=\"javascript:;\" title = \"\\u53f0\\u4e2d\\u7ad9\">\\u53f0\\u4e2d\\u7ad9</a><em>08:40</em></li>\\r\\n<li class=\"station45 \"><a href=\"javascript:;\" title = \"\\u5f70\\u5316\\u7ad9\">\\u5f70\\u5316\\u7ad9</a><em></em></li>\\r\\n<li class=\"station50 \"><a href=\"javascript:;\" title = \"\\u96f2\\u6797\\u7ad9\">\\u96f2\\u6797\\u7ad9</a><em></em></li>\\r\\n<li class=\"station55 \"><a href=\"javascript:;\" title = \"\\u5609\\u7fa9\\u7ad9\">\\u5609\\u7fa9\\u7ad9</a><em></em></li>\\r\\n<li class=\"station65 current\"><a href=\"javascript:;\" title = \"\\u53f0\\u5357\\u7ad9\">\\u53f0\\u5357\\u7ad9</a><em>09:18</em></li>\\r\\n<li class=\"station75 current\"><a href=\"javascript:;\" title = \"\\u5de6\\u71df\\u7ad9\">\\u5de6\\u71df\\u7ad9</a><em>09:30</em></li>\\r\\n\\r\\n                                               </ul>\\r\\n                                             <h4> </h4>\\r\\n                                    </section>\\r\\n                                 </div> \\r\\n \\r\\n                                    </td>\\r\\n                                  </tr>\\r\\n<tr>\\r\\n                                    <td class=\"toTouch \" colspan=\"4\">\\r\\n                                        <table class=\"touch_table\"><tr>\\r\\n                                            <td  class=\"column1\"><a href=\"?ID=U3RhcnRTdGF0aW9uPTk3N2FiYjY5LTQxM2EtNGNjZi1hMTA5LTAyNzJjMjRmZDQ5MCZFbmRTdGF0aW9uPTljNWFjNmNhLWVjODktNDhmOC1hYWIwLTQxYjczOGNiMTgxNCZTZWFyY2hEYXRlPTIwMTYvMDgvMjMmU2VhcmNoVGltZT0wNjozMCZTZWFyY2hXYXk9RGVwYXJ0dXJlSW5NYW5kYXJpbiZSZXN0VGltZT0mRWFybHlPckxhdGVyPSZTdGF0aW9uTGluZUN1cnJlbnQ9MDgwOQ==\" title = \"0809\">0809</a></td>\\r\\n                                            <td  class=\"column3\">08:11</td>\\r\\n                                            <td  class=\"column4\">10:11</td>\\r\\n                                            <td  class=\"column2\"></td>\\r\\n                                          </tr>\\r\\n                                        </table> \\r\\n                                        <div class=\"touch_show\">\\r\\n                                    <section class=\"touch_table_info touch_table_info_tw\">\\r\\n                                    \\t\\t<a class=\"touch_close\" href=\"?ID=U3RhcnRTdGF0aW9uPTk3N2FiYjY5LTQxM2EtNGNjZi1hMTA5LTAyNzJjMjRmZDQ5MCZFbmRTdGF0aW9uPTljNWFjNmNhLWVjODktNDhmOC1hYWIwLTQxYjczOGNiMTgxNCZTZWFyY2hEYXRlPTIwMTYvMDgvMjMmU2VhcmNoVGltZT0wNjozMCZTZWFyY2hXYXk9RGVwYXJ0dXJlSW5NYW5kYXJpbiZSZXN0VGltZT0mRWFybHlPckxhdGVyPSZTdGF0aW9uTGluZUN1cnJlbnQ9\" title = \"close\">close</a>\\r\\n                                            <h3><strong>0809 \\u5217\\u8eca </strong>\\u505c\\u9760\\u8aaa\\u660e </h3>\\r\\n                                               <ul>\\r\\n                                               <li class=\"station05 current\"><a href=\"javascript:;\" title = \"\\u5357\\u6e2f\\u7ad9\">\\u5357\\u6e2f\\u7ad9</a><em>08:00</em></li>\\r\\n<li class=\"station10 current\"><a href=\"javascript:;\" title = \"\\u53f0\\u5317\\u7ad9\">\\u53f0\\u5317\\u7ad9</a><em>08:11</em></li>\\r\\n<li class=\"station15 current\"><a href=\"javascript:;\" title = \"\\u677f\\u6a4b\\u7ad9\">\\u677f\\u6a4b\\u7ad9</a><em>08:19</em></li>\\r\\n<li class=\"station20 current\"><a href=\"javascript:;\" title = \"\\u6843\\u5712\\u7ad9\">\\u6843\\u5712\\u7ad9</a><em>08:34</em></li>\\r\\n<li class=\"station25 current\"><a href=\"javascript:;\" title = \"\\u65b0\\u7af9\\u7ad9\">\\u65b0\\u7af9\\u7ad9</a><em>08:47</em></li>\\r\\n<li class=\"station30 current\"><a href=\"javascript:;\" title = \"\\u82d7\\u6817\\u7ad9\">\\u82d7\\u6817\\u7ad9</a><em>08:58</em></li>\\r\\n<li class=\"station40 current\"><a href=\"javascript:;\" title = \"\\u53f0\\u4e2d\\u7ad9\">\\u53f0\\u4e2d\\u7ad9</a><em>09:17</em></li>\\r\\n<li class=\"station45 current\"><a href=\"javascript:;\" title = \"\\u5f70\\u5316\\u7ad9\">\\u5f70\\u5316\\u7ad9</a><em>09:30</em></li>\\r\\n<li class=\"station50 current\"><a href=\"javascript:;\" title = \"\\u96f2\\u6797\\u7ad9\">\\u96f2\\u6797\\u7ad9</a><em>09:41</em></li>\\r\\n<li class=\"station55 current\"><a href=\"javascript:;\" title = \"\\u5609\\u7fa9\\u7ad9\">\\u5609\\u7fa9\\u7ad9</a><em>09:55</em></li>\\r\\n<li class=\"station65 current\"><a href=\"javascript:;\" title = \"\\u53f0\\u5357\\u7ad9\">\\u53f0\\u5357\\u7ad9</a><em>10:13</em></li>\\r\\n<li class=\"station75 current\"><a href=\"javascript:;\" title = \"\\u5de6\\u71df\\u7ad9\">\\u5de6\\u71df\\u7ad9</a><em>10:25</em></li>\\r\\n\\r\\n                                               </ul>\\r\\n                                             <h4> </h4>\\r\\n                                    </section>\\r\\n                                 </div> \\r\\n \\r\\n                                    </td>\\r\\n                                  </tr>\\r\\n<tr>\\r\\n                                    <td class=\"toTouch \" colspan=\"4\">\\r\\n                                        <table class=\"touch_table\"><tr>\\r\\n                                            <td  class=\"column1\"><a href=\"?ID=U3RhcnRTdGF0aW9uPTk3N2FiYjY5LTQxM2EtNGNjZi1hMTA5LTAyNzJjMjRmZDQ5MCZFbmRTdGF0aW9uPTljNWFjNmNhLWVjODktNDhmOC1hYWIwLTQxYjczOGNiMTgxNCZTZWFyY2hEYXRlPTIwMTYvMDgvMjMmU2VhcmNoVGltZT0wNjozMCZTZWFyY2hXYXk9RGVwYXJ0dXJlSW5NYW5kYXJpbiZSZXN0VGltZT0mRWFybHlPckxhdGVyPSZTdGF0aW9uTGluZUN1cnJlbnQ9MDYxMw==\" title = \"0613\">0613</a></td>\\r\\n                                            <td  class=\"column3\">08:21</td>\\r\\n                                            <td  class=\"column4\">10:06</td>\\r\\n                                            <td  class=\"column2\"></td>\\r\\n                                          </tr>\\r\\n                                        </table> \\r\\n                                        <div class=\"touch_show\">\\r\\n                                    <section class=\"touch_table_info touch_table_info_tw\">\\r\\n                                    \\t\\t<a class=\"touch_close\" href=\"?ID=U3RhcnRTdGF0aW9uPTk3N2FiYjY5LTQxM2EtNGNjZi1hMTA5LTAyNzJjMjRmZDQ5MCZFbmRTdGF0aW9uPTljNWFjNmNhLWVjODktNDhmOC1hYWIwLTQxYjczOGNiMTgxNCZTZWFyY2hEYXRlPTIwMTYvMDgvMjMmU2VhcmNoVGltZT0wNjozMCZTZWFyY2hXYXk9RGVwYXJ0dXJlSW5NYW5kYXJpbiZSZXN0VGltZT0mRWFybHlPckxhdGVyPSZTdGF0aW9uTGluZUN1cnJlbnQ9\" title = \"close\">close</a>\\r\\n                                            <h3><strong>0613 \\u5217\\u8eca </strong>\\u505c\\u9760\\u8aaa\\u660e </h3>\\r\\n                                               <ul>\\r\\n                                               <li class=\"station05 current\"><a href=\"javascript:;\" title = \"\\u5357\\u6e2f\\u7ad9\">\\u5357\\u6e2f\\u7ad9</a><em>08:10</em></li>\\r\\n<li class=\"station10 current\"><a href=\"javascript:;\" title = \"\\u53f0\\u5317\\u7ad9\">\\u53f0\\u5317\\u7ad9</a><em>08:21</em></li>\\r\\n<li class=\"station15 current\"><a href=\"javascript:;\" title = \"\\u677f\\u6a4b\\u7ad9\">\\u677f\\u6a4b\\u7ad9</a><em>08:29</em></li>\\r\\n<li class=\"station20 current\"><a href=\"javascript:;\" title = \"\\u6843\\u5712\\u7ad9\">\\u6843\\u5712\\u7ad9</a><em>08:43</em></li>\\r\\n<li class=\"station25 current\"><a href=\"javascript:;\" title = \"\\u65b0\\u7af9\\u7ad9\">\\u65b0\\u7af9\\u7ad9</a><em>08:56</em></li>\\r\\n<li class=\"station30 \"><a href=\"javascript:;\" title = \"\\u82d7\\u6817\\u7ad9\">\\u82d7\\u6817\\u7ad9</a><em></em></li>\\r\\n<li class=\"station40 current\"><a href=\"javascript:;\" title = \"\\u53f0\\u4e2d\\u7ad9\">\\u53f0\\u4e2d\\u7ad9</a><em>09:25</em></li>\\r\\n<li class=\"station45 \"><a href=\"javascript:;\" title = \"\\u5f70\\u5316\\u7ad9\">\\u5f70\\u5316\\u7ad9</a><em></em></li>\\r\\n<li class=\"station50 \"><a href=\"javascript:;\" title = \"\\u96f2\\u6797\\u7ad9\">\\u96f2\\u6797\\u7ad9</a><em></em></li>\\r\\n<li class=\"station55 current\"><a href=\"javascript:;\" title = \"\\u5609\\u7fa9\\u7ad9\">\\u5609\\u7fa9\\u7ad9</a><em>09:50</em></li>\\r\\n<li class=\"station65 current\"><a href=\"javascript:;\" title = \"\\u53f0\\u5357\\u7ad9\">\\u53f0\\u5357\\u7ad9</a><em>10:07</em></li>\\r\\n<li class=\"station75 current\"><a href=\"javascript:;\" title = \"\\u5de6\\u71df\\u7ad9\">\\u5de6\\u71df\\u7ad9</a><em>10:20</em></li>\\r\\n\\r\\n                                               </ul>\\r\\n                                             <h4> </h4>\\r\\n                                    </section>\\r\\n                                 </div> \\r\\n \\r\\n                                    </td>\\r\\n                                  </tr>\\r\\n<tr>\\r\\n                                    <td class=\"toTouch \" colspan=\"4\">\\r\\n                                        <table class=\"touch_table\"><tr>\\r\\n                                            <td  class=\"column1\"><a href=\"?ID=U3RhcnRTdGF0aW9uPTk3N2FiYjY5LTQxM2EtNGNjZi1hMTA5LTAyNzJjMjRmZDQ5MCZFbmRTdGF0aW9uPTljNWFjNmNhLWVjODktNDhmOC1hYWIwLTQxYjczOGNiMTgxNCZTZWFyY2hEYXRlPTIwMTYvMDgvMjMmU2VhcmNoVGltZT0wNjozMCZTZWFyY2hXYXk9RGVwYXJ0dXJlSW5NYW5kYXJpbiZSZXN0VGltZT0mRWFybHlPckxhdGVyPSZTdGF0aW9uTGluZUN1cnJlbnQ9MDYxNQ==\" title = \"0615\">0615</a></td>\\r\\n                                            <td  class=\"column3\">08:46</td>\\r\\n                                            <td  class=\"column4\">10:32</td>\\r\\n                                            <td  class=\"column2\"></td>\\r\\n                                          </tr>\\r\\n                                        </table> \\r\\n                                        <div class=\"touch_show\">\\r\\n                                    <section class=\"touch_table_info touch_table_info_tw\">\\r\\n                                    \\t\\t<a class=\"touch_close\" href=\"?ID=U3RhcnRTdGF0aW9uPTk3N2FiYjY5LTQxM2EtNGNjZi1hMTA5LTAyNzJjMjRmZDQ5MCZFbmRTdGF0aW9uPTljNWFjNmNhLWVjODktNDhmOC1hYWIwLTQxYjczOGNiMTgxNCZTZWFyY2hEYXRlPTIwMTYvMDgvMjMmU2VhcmNoVGltZT0wNjozMCZTZWFyY2hXYXk9RGVwYXJ0dXJlSW5NYW5kYXJpbiZSZXN0VGltZT0mRWFybHlPckxhdGVyPSZTdGF0aW9uTGluZUN1cnJlbnQ9\" title = \"close\">close</a>\\r\\n                                            <h3><strong>0615 \\u5217\\u8eca </strong>\\u505c\\u9760\\u8aaa\\u660e </h3>\\r\\n                                               <ul>\\r\\n                                               <li class=\"station05 current\"><a href=\"javascript:;\" title = \"\\u5357\\u6e2f\\u7ad9\">\\u5357\\u6e2f\\u7ad9</a><em>08:35</em></li>\\r\\n<li class=\"station10 current\"><a href=\"javascript:;\" title = \"\\u53f0\\u5317\\u7ad9\">\\u53f0\\u5317\\u7ad9</a><em>08:46</em></li>\\r\\n<li class=\"station15 current\"><a href=\"javascript:;\" title = \"\\u677f\\u6a4b\\u7ad9\">\\u677f\\u6a4b\\u7ad9</a><em>08:55</em></li>\\r\\n<li class=\"station20 current\"><a href=\"javascript:;\" title = \"\\u6843\\u5712\\u7ad9\">\\u6843\\u5712\\u7ad9</a><em>09:10</em></li>\\r\\n<li class=\"station25 current\"><a href=\"javascript:;\" title = \"\\u65b0\\u7af9\\u7ad9\">\\u65b0\\u7af9\\u7ad9</a><em>09:22</em></li>\\r\\n<li class=\"station30 \"><a href=\"javascript:;\" title = \"\\u82d7\\u6817\\u7ad9\">\\u82d7\\u6817\\u7ad9</a><em></em></li>\\r\\n<li class=\"station40 current\"><a href=\"javascript:;\" title = \"\\u53f0\\u4e2d\\u7ad9\">\\u53f0\\u4e2d\\u7ad9</a><em>09:48</em></li>\\r\\n<li class=\"station45 \"><a href=\"javascript:;\" title = \"\\u5f70\\u5316\\u7ad9\">\\u5f70\\u5316\\u7ad9</a><em></em></li>\\r\\n<li class=\"station50 \"><a href=\"javascript:;\" title = \"\\u96f2\\u6797\\u7ad9\">\\u96f2\\u6797\\u7ad9</a><em></em></li>\\r\\n<li class=\"station55 current\"><a href=\"javascript:;\" title = \"\\u5609\\u7fa9\\u7ad9\">\\u5609\\u7fa9\\u7ad9</a><em>10:14</em></li>\\r\\n<li class=\"station65 current\"><a href=\"javascript:;\" title = \"\\u53f0\\u5357\\u7ad9\">\\u53f0\\u5357\\u7ad9</a><em>10:33</em></li>\\r\\n<li class=\"station75 current\"><a href=\"javascript:;\" title = \"\\u5de6\\u71df\\u7ad9\">\\u5de6\\u71df\\u7ad9</a><em>10:45</em></li>\\r\\n\\r\\n                                               </ul>\\r\\n                                             <h4> </h4>\\r\\n                                    </section>\\r\\n                                 </div> \\r\\n \\r\\n                                    </td>\\r\\n                                  </tr>\\r\\n<tr>\\r\\n                                    <td class=\"toTouch \" colspan=\"4\">\\r\\n                                        <table class=\"touch_table\"><tr>\\r\\n                                            <td  class=\"column1\"><a href=\"?ID=U3RhcnRTdGF0aW9uPTk3N2FiYjY5LTQxM2EtNGNjZi1hMTA5LTAyNzJjMjRmZDQ5MCZFbmRTdGF0aW9uPTljNWFjNmNhLWVjODktNDhmOC1hYWIwLTQxYjczOGNiMTgxNCZTZWFyY2hEYXRlPTIwMTYvMDgvMjMmU2VhcmNoVGltZT0wNjozMCZTZWFyY2hXYXk9RGVwYXJ0dXJlSW5NYW5kYXJpbiZSZXN0VGltZT0mRWFybHlPckxhdGVyPSZTdGF0aW9uTGluZUN1cnJlbnQ9MDgxMw==\" title = \"0813\">0813</a></td>\\r\\n                                            <td  class=\"column3\">09:11</td>\\r\\n                                            <td  class=\"column4\">11:11</td>\\r\\n                                            <td  class=\"column2\"></td>\\r\\n                                          </tr>\\r\\n                                        </table> \\r\\n                                        <div class=\"touch_show\">\\r\\n                                    <section class=\"touch_table_info touch_table_info_tw\">\\r\\n                                    \\t\\t<a class=\"touch_close\" href=\"?ID=U3RhcnRTdGF0aW9uPTk3N2FiYjY5LTQxM2EtNGNjZi1hMTA5LTAyNzJjMjRmZDQ5MCZFbmRTdGF0aW9uPTljNWFjNmNhLWVjODktNDhmOC1hYWIwLTQxYjczOGNiMTgxNCZTZWFyY2hEYXRlPTIwMTYvMDgvMjMmU2VhcmNoVGltZT0wNjozMCZTZWFyY2hXYXk9RGVwYXJ0dXJlSW5NYW5kYXJpbiZSZXN0VGltZT0mRWFybHlPckxhdGVyPSZTdGF0aW9uTGluZUN1cnJlbnQ9\" title = \"close\">close</a>\\r\\n                                            <h3><strong>0813 \\u5217\\u8eca </strong>\\u505c\\u9760\\u8aaa\\u660e </h3>\\r\\n                                               <ul>\\r\\n                                               <li class=\"station05 current\"><a href=\"javascript:;\" title = \"\\u5357\\u6e2f\\u7ad9\">\\u5357\\u6e2f\\u7ad9</a><em>09:00</em></li>\\r\\n<li class=\"station10 current\"><a href=\"javascript:;\" title = \"\\u53f0\\u5317\\u7ad9\">\\u53f0\\u5317\\u7ad9</a><em>09:11</em></li>\\r\\n<li class=\"station15 current\"><a href=\"javascript:;\" title = \"\\u677f\\u6a4b\\u7ad9\">\\u677f\\u6a4b\\u7ad9</a><em>09:19</em></li>\\r\\n<li class=\"station20 current\"><a href=\"javascript:;\" title = \"\\u6843\\u5712\\u7ad9\">\\u6843\\u5712\\u7ad9</a><em>09:34</em></li>\\r\\n<li class=\"station25 current\"><a href=\"javascript:;\" title = \"\\u65b0\\u7af9\\u7ad9\">\\u65b0\\u7af9\\u7ad9</a><em>09:47</em></li>\\r\\n<li class=\"station30 current\"><a href=\"javascript:;\" title = \"\\u82d7\\u6817\\u7ad9\">\\u82d7\\u6817\\u7ad9</a><em>09:58</em></li>\\r\\n<li class=\"station40 current\"><a href=\"javascript:;\" title = \"\\u53f0\\u4e2d\\u7ad9\">\\u53f0\\u4e2d\\u7ad9</a><em>10:17</em></li>\\r\\n<li class=\"station45 current\"><a href=\"javascript:;\" title = \"\\u5f70\\u5316\\u7ad9\">\\u5f70\\u5316\\u7ad9</a><em>10:30</em></li>\\r\\n<li class=\"station50 current\"><a href=\"javascript:;\" title = \"\\u96f2\\u6797\\u7ad9\">\\u96f2\\u6797\\u7ad9</a><em>10:41</em></li>\\r\\n<li class=\"station55 current\"><a href=\"javascript:;\" title = \"\\u5609\\u7fa9\\u7ad9\">\\u5609\\u7fa9\\u7ad9</a><em>10:55</em></li>\\r\\n<li class=\"station65 current\"><a href=\"javascript:;\" title = \"\\u53f0\\u5357\\u7ad9\">\\u53f0\\u5357\\u7ad9</a><em>11:13</em></li>\\r\\n<li class=\"station75 current\"><a href=\"javascript:;\" title = \"\\u5de6\\u71df\\u7ad9\">\\u5de6\\u71df\\u7ad9</a><em>11:25</em></li>\\r\\n\\r\\n                                               </ul>\\r\\n                                             <h4> </h4>\\r\\n                                    </section>\\r\\n                                 </div> \\r\\n \\r\\n                                    </td>\\r\\n                                  </tr>\\r\\n<tr>\\r\\n                                    <td class=\"toTouch \" colspan=\"4\">\\r\\n                                        <table class=\"touch_table\"><tr>\\r\\n                                            <td  class=\"column1\"><a href=\"?ID=U3RhcnRTdGF0aW9uPTk3N2FiYjY5LTQxM2EtNGNjZi1hMTA5LTAyNzJjMjRmZDQ5MCZFbmRTdGF0aW9uPTljNWFjNmNhLWVjODktNDhmOC1hYWIwLTQxYjczOGNiMTgxNCZTZWFyY2hEYXRlPTIwMTYvMDgvMjMmU2VhcmNoVGltZT0wNjozMCZTZWFyY2hXYXk9RGVwYXJ0dXJlSW5NYW5kYXJpbiZSZXN0VGltZT0mRWFybHlPckxhdGVyPSZTdGF0aW9uTGluZUN1cnJlbnQ9MDYxOQ==\" title = \"0619\">0619</a></td>\\r\\n                                            <td  class=\"column3\">09:21</td>\\r\\n                                            <td  class=\"column4\">11:06</td>\\r\\n                                            <td  class=\"column2\"></td>\\r\\n                                          </tr>\\r\\n                                        </table> \\r\\n                                        <div class=\"touch_show\">\\r\\n                                    <section class=\"touch_table_info touch_table_info_tw\">\\r\\n                                    \\t\\t<a class=\"touch_close\" href=\"?ID=U3RhcnRTdGF0aW9uPTk3N2FiYjY5LTQxM2EtNGNjZi1hMTA5LTAyNzJjMjRmZDQ5MCZFbmRTdGF0aW9uPTljNWFjNmNhLWVjODktNDhmOC1hYWIwLTQxYjczOGNiMTgxNCZTZWFyY2hEYXRlPTIwMTYvMDgvMjMmU2VhcmNoVGltZT0wNjozMCZTZWFyY2hXYXk9RGVwYXJ0dXJlSW5NYW5kYXJpbiZSZXN0VGltZT0mRWFybHlPckxhdGVyPSZTdGF0aW9uTGluZUN1cnJlbnQ9\" title = \"close\">close</a>\\r\\n                                            <h3><strong>0619 \\u5217\\u8eca </strong>\\u505c\\u9760\\u8aaa\\u660e </h3>\\r\\n                                               <ul>\\r\\n                                               <li class=\"station05 current\"><a href=\"javascript:;\" title = \"\\u5357\\u6e2f\\u7ad9\">\\u5357\\u6e2f\\u7ad9</a><em>09:10</em></li>\\r\\n<li class=\"station10 current\"><a href=\"javascript:;\" title = \"\\u53f0\\u5317\\u7ad9\">\\u53f0\\u5317\\u7ad9</a><em>09:21</em></li>\\r\\n<li class=\"station15 current\"><a href=\"javascript:;\" title = \"\\u677f\\u6a4b\\u7ad9\">\\u677f\\u6a4b\\u7ad9</a><em>09:29</em></li>\\r\\n<li class=\"station20 current\"><a href=\"javascript:;\" title = \"\\u6843\\u5712\\u7ad9\">\\u6843\\u5712\\u7ad9</a><em>09:43</em></li>\\r\\n<li class=\"station25 current\"><a href=\"javascript:;\" title = \"\\u65b0\\u7af9\\u7ad9\">\\u65b0\\u7af9\\u7ad9</a><em>09:56</em></li>\\r\\n<li class=\"station30 \"><a href=\"javascript:;\" title = \"\\u82d7\\u6817\\u7ad9\">\\u82d7\\u6817\\u7ad9</a><em></em></li>\\r\\n<li class=\"station40 current\"><a href=\"javascript:;\" title = \"\\u53f0\\u4e2d\\u7ad9\">\\u53f0\\u4e2d\\u7ad9</a><em>10:25</em></li>\\r\\n<li class=\"station45 \"><a href=\"javascript:;\" title = \"\\u5f70\\u5316\\u7ad9\">\\u5f70\\u5316\\u7ad9</a><em></em></li>\\r\\n<li class=\"station50 \"><a href=\"javascript:;\" title = \"\\u96f2\\u6797\\u7ad9\">\\u96f2\\u6797\\u7ad9</a><em></em></li>\\r\\n<li class=\"station55 current\"><a href=\"javascript:;\" title = \"\\u5609\\u7fa9\\u7ad9\">\\u5609\\u7fa9\\u7ad9</a><em>10:50</em></li>\\r\\n<li class=\"station65 current\"><a href=\"javascript:;\" title = \"\\u53f0\\u5357\\u7ad9\">\\u53f0\\u5357\\u7ad9</a><em>11:07</em></li>\\r\\n<li class=\"station75 current\"><a href=\"javascript:;\" title = \"\\u5de6\\u71df\\u7ad9\">\\u5de6\\u71df\\u7ad9</a><em>11:20</em></li>\\r\\n\\r\\n                                               </ul>\\r\\n                                             <h4> </h4>\\r\\n                                    </section>\\r\\n                                 </div> \\r\\n \\r\\n                                    </td>\\r\\n                                  </tr>\\r\\n\\r\\n                                 </table>\\r\\n\\t\\t\\t\\t               </section><!--result_table-->\\r\\n\\r\\n\\r\\n\\r\\n            <div class=\"res_top\"></div>\\r\\n            <div class=\"res_down\"></div>\\r\\n             <nav class=\"res_next_prev\">\\r\\n            \\t<a class=\"res_prev_btn res_prev_btn_tw\" href=\"?ID=U3RhcnRTdGF0aW9uPTk3N2FiYjY5LTQxM2EtNGNjZi1hMTA5LTAyNzJjMjRmZDQ5MCZFbmRTdGF0aW9uPTljNWFjNmNhLWVjODktNDhmOC1hYWIwLTQxYjczOGNiMTgxNCZTZWFyY2hEYXRlPTIwMTYvMDgvMjMmU2VhcmNoVGltZT0wNjozMCZTZWFyY2hXYXk9RGVwYXJ0dXJlSW5NYW5kYXJpbiZSZXN0VGltZT0wNjoyNiZFYXJseU9yTGF0ZXI9MSZTdGF0aW9uTGluZUN1cnJlbnQ9\" onclick=\"RestTrainSubmit(\\'06:26\\', \\'1\\');return false;\" OnKeypress=\"this.onclick();return false;\" titile = \"\\u8f03\\u65e9\\u73ed\\u6b21\">\\u8f03\\u65e9\\u73ed\\u6b21</a>\\r\\n<a class=\"res_next_btn res_next_btn_tw\" href=\"?ID=U3RhcnRTdGF0aW9uPTk3N2FiYjY5LTQxM2EtNGNjZi1hMTA5LTAyNzJjMjRmZDQ5MCZFbmRTdGF0aW9uPTljNWFjNmNhLWVjODktNDhmOC1hYWIwLTQxYjczOGNiMTgxNCZTZWFyY2hEYXRlPTIwMTYvMDgvMjMmU2VhcmNoVGltZT0wNjozMCZTZWFyY2hXYXk9RGVwYXJ0dXJlSW5NYW5kYXJpbiZSZXN0VGltZT0wOTo0NiZFYXJseU9yTGF0ZXI9MiZTdGF0aW9uTGluZUN1cnJlbnQ9\" onclick=\"RestTrainSubmit(\\'09:46\\', \\'2\\');return false;\" OnKeypress=\"this.onclick();return false;\" title  = \"\\u8f03\\u665a\\u73ed\\u6b21\">\\u8f03\\u665a\\u73ed\\u6b21</a>\\r\\n\\r\\n             </nav>\\r\\n         </ul>\\r\\n       </section><!--time_check_result-->\\r\\n\\r\\n<h3 class=\"kind_ticket kind_ticket_tw\">\\u8eca\\u5ec2\\u7968\\u50f9\\u53c3\\u8003</h3>\\r\\n    <section class=\"kind_ticket_list kind_ticket_list_tw\">\\r\\n        <table class=\"word_size\">\\r\\n            <tr>\\r\\n            <th class=\"c1\" scope=\"col\">&nbsp;</th>\\r\\n            <th class=\"c2\" scope=\"col\">\\u6a19\\u6e96\\u8eca\\u5ec2</th>\\r\\n            <th class=\"c3\" scope=\"col\">\\u5546\\u52d9\\u8eca\\u5ec2</th>\\r\\n            <th class=\"c4\" scope=\"col\">\\u81ea\\u7531\\u5ea7\\u8eca\\u5ec2</th>\\r\\n            </tr>\\r\\n            <tr>\\r\\n                           <th scope=\"row\">\\u5168\\u7968\\u7968\\u50f9</th>\\r\\n                                <td>$1350</td>\\r\\n<td>$1780</td>\\r\\n<td>$1305</td>\\r\\n\\r\\n                           </tr>\\r\\n<tr>\\r\\n                           <th scope=\"row\">\\u5b69\\u7ae5\\u7968  \\u656c\\u8001\\u7968\\u611b\\u5fc3\\u7968\\u50f9</th>\\r\\n                                <td>$675</td>\\r\\n<td>$1115</td>\\r\\n<td>$650</td>\\r\\n\\r\\n                           </tr>\\r\\n<tr>\\r\\n                           <th scope=\"row\">\\u5718\\u9ad4\\u7968</th>\\r\\n                                <td>$1280</td>\\r\\n<td>$1690</td>\\r\\n<td>-</td>\\r\\n\\r\\n                           </tr>\\r\\n\\r\\n        </table>\\r\\n\\t\\t<nav> \\r\\n        <a href=\"https://irs.thsrc.com.tw/IMINT/\" title=\"24\\u5c0f\\u6642\\u7db2\\u8def\\u8a02\\u7968\" target=\"_blank\"><img src=\"/Content/UploadFiles/time_search/24hour.gif\" width=\"251\" height=\"42\" alt=\"24\\u5c0f\\u6642\\u7db2\\u8def\\u8a02\\u7968\"></a> \\r\\n        <a href=\"/tw/Article/ArticleContent/caa6fac8-b875-4ad6-b1e6-96c2902d12a6\" title=\"\\u66f4\\u591a\\u7968\\u7a2e\\u3001\\u7968\\u50f9\\u8cc7\\u8a0a\" target=\"_blank\"><img src=\"/Content/UploadFiles/time_search/moreTicket.gif\" width=\"251\" height=\"42\" alt=\"\\u66f4\\u591a\\u7968\\u7a2e\\u3001\\u7968\\u50f9\\u8cc7\\u8a0a\"></a> \\r\\n        </nav>\\r\\n    </section>\\r\\n\\r\\n<article class=\"search_word commonWord\">\\r\\n    <h4 class=\"word_size\" title = \"\\u516c\\u544a\\u4e8b\\u9805\\u8aaa\\u660e\">\\u516c\\u544a\\u4e8b\\u9805\\u8aaa\\u660e</h4>\\r\\n    <ul class=\"word_size\">            \\r\\n            <li title = \"\\u5357\\u6e2f\\u2500\\u53f0\\u5317\\u3001\\u5357\\u6e2f\\u2500\\u677f\\u6a4b\\u3001\\u53f0\\u5317\\u2500\\u677f\\u6a4b\\u5340\\u9593\\u6055\\u4e0d\\u767c\\u552e\\u5546\\u52d9\\u8eca\\u5ec2\\u8eca\\u7968\\u53ca\\u5718\\u9ad4\\u7968\\u3002\">\\u5357\\u6e2f\\u2500\\u53f0\\u5317\\u3001\\u5357\\u6e2f\\u2500\\u677f\\u6a4b\\u3001\\u53f0\\u5317\\u2500\\u677f\\u6a4b\\u5340\\u9593\\u6055\\u4e0d\\u767c\\u552e\\u5546\\u52d9\\u8eca\\u5ec2\\u8eca\\u7968\\u53ca\\u5718\\u9ad4\\u7968\\u3002</li>\\r\\n            <li title = \"\\u6b32\\u5f97\\u77e5\\u5217\\u8eca\\u505c\\u9760\\u7ad9\\u8a73\\u7d30\\u8aaa\\u660e\\uff0c\\u8acb\\u9ede\\u9078\\u4e0a\\u65b9\\u4e4b\\u8eca\\u6b21\\u9023\\u7d50\\u3002\">\\u6b32\\u5f97\\u77e5\\u5217\\u8eca\\u505c\\u9760\\u7ad9\\u8a73\\u7d30\\u8aaa\\u660e\\uff0c\\u8acb\\u9ede\\u9078\\u4e0a\\u65b9\\u4e4b\\u8eca\\u6b21\\u9023\\u7d50\\u3002</li>\\r\\n            <li title = \"\\u672c\\u7cfb\\u7d71\\u50c5\\u63d0\\u4f9b\\u6642\\u523b\\u8868\\u53ca\\u7968\\u50f9\\u67e5\\u8a62\\u529f\\u80fd\\uff0c\\u5982\\u6b32\\u76f4\\u63a5\\u8a02\\u4f4d\\uff0c\\u8acb\\u4f7f\\u7528\\u53f0\\u7063\\u9ad8\\u9435\\u7db2\\u8def\\u8a02\\u4f4d\\u7cfb\\u7d71\\u9032\\u884c\\u7dda\\u4e0a\\u8a02\\u4f4d\\u53ca\\u4ed8\\u6b3e\\u3002\">\\u672c\\u7cfb\\u7d71\\u50c5\\u63d0\\u4f9b\\u6642\\u523b\\u8868\\u53ca\\u7968\\u50f9\\u67e5\\u8a62\\u529f\\u80fd\\uff0c\\u5982\\u6b32\\u76f4\\u63a5\\u8a02\\u4f4d\\uff0c\\u8acb\\u4f7f\\u7528\\u53f0\\u7063\\u9ad8\\u9435\\u7db2\\u8def\\u8a02\\u4f4d\\u7cfb\\u7d71\\u9032\\u884c\\u7dda\\u4e0a\\u8a02\\u4f4d\\u53ca\\u4ed8\\u6b3e\\u3002</li>\\r\\n            <li title = \"\\u672c\\u6642\\u523b\\u8868\\u6240\\u5217\\u5404\\u6b21\\u5217\\u8eca\\u70ba\\u958b\\u8eca\\u6642\\u523b\\uff0c\\u552f\\u65bc\\u7d42\\u9ede\\u7ad9\\u70ba\\u5230\\u9054\\u6642\\u523b\\u3002\">\\u672c\\u6642\\u523b\\u8868\\u6240\\u5217\\u5404\\u6b21\\u5217\\u8eca\\u70ba\\u958b\\u8eca\\u6642\\u523b\\uff0c\\u552f\\u65bc\\u7d42\\u9ede\\u7ad9\\u70ba\\u5230\\u9054\\u6642\\u523b\\u3002</li>\\r\\n    </ul>\\r\\n</article>\\r\\n<article class=\"search_word2 commonWord\">\\r\\n    <h4 class=\"word_size\" title = \"\\u7968\\u50f9\\u512a\\u60e0\\u8aaa\\u660e\">\\u7968\\u50f9\\u512a\\u60e0\\u8aaa\\u660e</h4>\\r\\n    <ul class=\"word_size\">\\r\\n        <li title =\"\\u4ee5\\u4e0a\\u7968\\u50f9\\u70ba\\u6298\\u6263\\u5f8c\\u4e4b\\u50f9\\u683c\\u3002\">\\u4ee5\\u4e0a\\u7968\\u50f9\\u70ba\\u6298\\u6263\\u5f8c\\u4e4b\\u50f9\\u683c\\u3002</li>\\r\\n        <li title = \"\\u4ee5\\u4e0a\\u5217\\u8eca\\u6642\\u523b\\u53ca\\u7968\\u50f9\\u50c5\\u4f9b\\u53c3\\u8003\\uff0c\\u8cc7\\u8a0a\\u82e5\\u6709\\u66f4\\u52d5\\uff0c\\u4ee5\\u5404\\u8eca\\u7ad9\\u73fe\\u5834\\u516c\\u5e03\\u70ba\\u6e96\\u3002\">\\u4ee5\\u4e0a\\u5217\\u8eca\\u6642\\u523b\\u53ca\\u7968\\u50f9\\u50c5\\u4f9b\\u53c3\\u8003\\uff0c\\u8cc7\\u8a0a\\u82e5\\u6709\\u66f4\\u52d5\\uff0c\\u4ee5\\u5404\\u8eca\\u7ad9\\u73fe\\u5834\\u516c\\u5e03\\u70ba\\u6e96\\u3002</li>\\r\\n    </ul>\\r\\n</article>\\r\\n    <article class=\"siteMapTop\"></article>\\r\\n</section>\\r\\n<div style=\"height:20px;\" class=\"footer_list_btn\"></div>\\r\\n\\r\\n\\r\\n        </div>\\r\\n        \\r\\n<!--WebsiteFooter_Start-->\\r\\n<footer>\\r\\n    <!--\\u6587\\u7ae0\\u5206\\u4eab\\u5340\\u584a-->\\r\\n    \\r\\n    <!--\\u6587\\u7ae0\\u5206\\u4eab\\u5340\\u584a end-->\\r\\n    <div class=\"just_line\"></div>\\r\\n    <div style=\"height:10px;\"></div>     \\r\\n<div class=\"footer_top\">\\r\\n        \\t  <article class=\"phone_area\">\\r\\n        \\t    \\r\\n                <strong class=\"footerH2Title\" title = \"\\u5ba2\\u670d\\u5c08\\u7dda : 4066-3000 \">\\u5ba2\\u670d\\u5c08\\u7dda : 4066-3000 </strong>\\r\\n        \\t    <ol>\\r\\n        \\t      <li class=\"phone_01\" title = \"\\u82d7\\u6817\\uff1a4266-3000\">\\u82d7\\u6817\\uff1a4266-3000 </li>\\r\\n        \\t      <li class=\"phone_02\" title = \"\\u53f0\\u6771\\u3001\\u91d1\\u9580\\uff1a4666-3000\">\\u53f0\\u6771\\u3001\\u91d1\\u9580\\uff1a4666-3000 </li>\\r\\n        \\t      <li class=\"phone_03\" title = \"\\u99ac\\u7956\\u53ca\\u884c\\u52d5\\u96fb\\u8a71\\uff1a02-4066-3000\">\\u99ac\\u7956\\u53ca\\u884c\\u52d5\\u96fb\\u8a71\\uff1a02-4066-3000 </li>\\r\\n                    <li class=\"phone_04\" title = \"\\u670d\\u52d9\\u6642\\u9593\\uff1a06:00~24:00\">\\u670d\\u52d9\\u6642\\u9593\\uff1a06:00~24:00 </li>\\r\\n       \\t        </ol>\\r\\n       \\t      </article><!--phone_area-->\\r\\n       \\t    <article class=\"reserve_area\">\\r\\n        \\t    \\r\\n                <strong class=\"footerH2Title\" title = \"\\u8a9e\\u97f3\\u8a02\\u4f4d : 4066-0000 \">\\u8a9e\\u97f3\\u8a02\\u4f4d : 4066-0000 </strong>\\r\\n        \\t    <ol>\\r\\n        \\t      <li class=\"phone_01\" title = \"\\u82d7\\u6817\\uff1a4266-0000\">\\u82d7\\u6817\\uff1a4266-0000 </li>\\r\\n        \\t      <li class=\"phone_02\" title = \"\\u53f0\\u6771\\u3001\\u91d1\\u9580\\uff1a4666-0000\">\\u53f0\\u6771\\u3001\\u91d1\\u9580\\uff1a4666-0000 </li>\\r\\n        \\t      <li class=\"phone_03\" title = \"\\u99ac\\u7956\\u53ca\\u884c\\u52d5\\u96fb\\u8a71\\uff1a02-4066-0000\">\\u99ac\\u7956\\u53ca\\u884c\\u52d5\\u96fb\\u8a71\\uff1a02-4066-0000 </li>\\r\\n                  <li class=\"phone_04\" title = \"\\u670d\\u52d9\\u6642\\u9593\\uff1a00:00~24:00\">\\u670d\\u52d9\\u6642\\u9593\\uff1a00:00~24:00 </li>\\r\\n       \\t      </ol>\\r\\n       \\t      </article><!--reserve_area-->\\r\\n       \\t    <article class=\"service_area\">\\r\\n        \\t    <ul>\\r\\n                    <li class=\"service_area_line\" title = \"\\u7372\\u734e\\u4e8b\\u8e5f\"><a href=\"/tw/Article/ArticleContent/63d60a32-0600-4cd7-ac37-6ad8316b7f1e\" title=\"\\u7372\\u734e\\u4e8b\\u8e5f\">\\u7372\\u734e\\u4e8b\\u8e5f</a></li>\\r\\n                    <li class=\"service_area_line\" title = \"\\u62db\\u6a19\\u8cc7\\u8a0a\"><a href=\"/tw/Tendering\" title=\"\\u62db\\u6a19\\u8cc7\\u8a0a\">\\u62db\\u6a19\\u8cc7\\u8a0a</a></li>\\r\\n                    <li class=\"service_area_line4\" title = \"\\u4f01\\u696d\\u793e\\u6703\\u8cac\\u4efb\"><a href=\"http://www2.thsrc.com.tw/Content/UploadFiles/CorporateResponsibility.pdf\" target=\"_blank\" title = \"\\u4f01\\u696d\\u793e\\u6703\\u8cac\\u4efb[\\u5c07\\u53e6\\u958b\\u65b0\\u8996\\u7a97 ]\">\\u4f01\\u696d\\u793e\\u6703\\u8cac\\u4efb<span style=\"display:none;\">[\\u5c07\\u53e6\\u958b\\u65b0\\u8996\\u7a97 ]</span></a></li>\\r\\n                    <li class=\"service_area_line5\" title = \"\\u907a\\u5931\\u7269\\u67e5\\u8a62\"><a href=\"/tw/LostAndFound\" title=\"\\u907a\\u5931\\u7269\\u67e5\\u8a62\">\\u907a\\u5931\\u7269\\u67e5\\u8a62</a></li>\\r\\n        \\t        <li title = \"\\u5e38\\u898b\\u554f\\u984c\"><a href=\"/tw/FAQ\" title=\"\\u5e38\\u898b\\u554f\\u984c\">\\u5e38\\u898b\\u554f\\u984c</a></li>\\r\\n        \\t        \\r\\n       \\t      </ul>\\r\\n       \\t      <ul>\\r\\n                  <li class=\"service_area_line2\"><a href=\"/tw/Article/ArticleContent/d1fa3bcb-a016-47e2-88c6-7b7cbed00ed5\" title = \"\\u500b\\u4eba\\u8cc7\\u6599\\u4fdd\\u8b77\\u5c08\\u5340\">\\u500b\\u4eba\\u8cc7\\u6599\\u4fdd\\u8b77\\u5c08\\u5340</a></li>\\r\\n                  <li class=\"service_area_line3\"><a href=\"/tw/Article/ArticleContent/b9dcb8ea-02ab-4726-b71d-335904dbd86b\" title = \"\\u667a\\u6167\\u8ca1\\u7522\\u6b0a\\u53ca\\u514d\\u8cac\\u689d\\u6b3e\\u5ba3\\u544a\">\\u667a\\u6167\\u8ca1\\u7522\\u6b0a\\u53ca\\u514d\\u8cac\\u689d\\u6b3e\\u5ba3\\u544a</a></li>\\r\\n        \\t      <li><a href=\"/tw/Article/ArticleContent/291d80fe-080f-4442-90d0-9a9b82f119e5\" title = \"\\u4ea4\\u6613\\u6ce8\\u610f\\u4e8b\\u9805\">\\u4ea4\\u6613\\u6ce8\\u610f\\u4e8b\\u9805</a></li>\\r\\n       \\t        </ul>\\r\\n       \\t      <ul>\\r\\n        \\t      <li title = \"\\u806f\\u7d61\\u6211\\u5011\"><a href=\"https://www.thsrc.com.tw/tw/ContactUs\" title=\"\\u806f\\u7d61\\u6211\\u5011\">\\u806f\\u7d61\\u6211\\u5011</a></li>\\r\\n       \\t      </ul>\\r\\n                \\r\\n       \\t      </article><!--service_area-->\\r\\n      \\t  </div><!--footer_top-->\\r\\n         \\r\\n          \\r\\n          \\r\\n          <div class=\"footerH5\">\\r\\n\\t        <span>\\u4ee5\\u4e0a\\u7686\\u70ba\\u4ed8\\u8cbb\\u96fb\\u8a71\\uff0c\\u4f9d\\u4e00\\u822c\\u5e02\\u8a71\\u53ca\\u884c\\u52d5\\u96fb\\u8a71\\u8cbb\\u7387\\u6a19\\u6e96\\u8a08\\u8cbb\\u3002</span></div>\\r\\n          \\r\\n           <article style=\"width:488px;float:left\">\\r\\n                \\r\\n                \\r\\n\\r\\n               <div class=\"footerH6\">\\r\\n               <div><span>\\u53f0\\u7063\\u9ad8\\u901f\\u9435\\u8def\\u80a1\\u4efd\\u6709\\u9650\\u516c\\u53f8 \\u7248\\u6b0a\\u6240\\u6709 </span>\\xa9 Taiwan High Speed Rail Corporation. All Rights Reserved.</div>\\r\\n               </div>\\r\\n          </article>      \\r\\n          \\r\\n          <article style=\"width: 149px;float: right;margin-top: 6px;margin-right: 10px;\">\\r\\n             <img src=\"/Content/images/bethere_THSRC.png\" alt=\"\\u771f\\u5be6\\u63a5\\u89f8 be there\" title=\"\\u771f\\u5be6\\u63a5\\u89f8 be there\">\\r\\n          </article>\\r\\n      </footer>\\r\\n      <!--WebsiteFooter_End-->\\r\\n    </div>\\r\\n    \\r\\n\\t<script type=\"text/javascript\" src=\"/Content/Script/time_search.js\"></script>\\r\\n\\r\\n    \\r\\n\\r\\n<script type=\"text/javascript\">\\r\\n\\r\\n    var _gaq = _gaq || [];\\r\\n    _gaq.push([\\'_setAccount\\', \\'UA-9967381-1\\']);\\r\\n    _gaq.push([\\'_trackPageview\\']);\\r\\n\\r\\n    (function () {\\r\\n        var ga = document.createElement(\\'script\\'); ga.type = \\'text/javascript\\'; ga.async = true;\\r\\n        ga.src = (\\'https:\\' == document.location.protocol ? \\'https://ssl\\' : \\'http://www\\') + \\'.google-analytics.com/ga.js\\';\\r\\n        var s = document.getElementsByTagName(\\'script\\')[0]; s.parentNode.insertBefore(ga, s);\\r\\n    })();\\r\\n\\r\\n</script>\\r\\n</body>\\r\\n</html>\\r\\n'"
      ]
     },
     "execution_count": 26,
     "metadata": {},
     "output_type": "execute_result"
    }
   ],
   "source": [
    "# 找一下06:30這個字串\n",
    "res.text"
   ]
  },
  {
   "cell_type": "code",
   "execution_count": 59,
   "metadata": {
    "collapsed": true
   },
   "outputs": [
    {
     "data": {
      "text/plain": [
       "u'<!DOCTYPE html>\\n<html>\\n\\t<head>\\n\\t\\t<meta charset=\"utf-8\">\\n\\t\\t\\n\\n<meta name=\"viewport\" content=\"width=device-width, initial-scale=1\">\\n\\n<title>\\u770b\\u677f bicycle \\u6587\\u7ae0\\u5217\\u8868 - \\u6279\\u8e22\\u8e22\\u5be6\\u696d\\u574a</title>\\n\\n<link rel=\"stylesheet\" type=\"text/css\" href=\"//images.ptt.cc/v2.19/bbs-common.css\">\\n<link rel=\"stylesheet\" type=\"text/css\" href=\"//images.ptt.cc/v2.19/bbs-base.css\" media=\"screen\">\\n<link rel=\"stylesheet\" type=\"text/css\" href=\"//images.ptt.cc/v2.19/bbs-custom.css\">\\n<link rel=\"stylesheet\" type=\"text/css\" href=\"//images.ptt.cc/v2.19/pushstream.css\" media=\"screen\">\\n<link rel=\"stylesheet\" type=\"text/css\" href=\"//images.ptt.cc/v2.19/bbs-print.css\" media=\"print\">\\n\\n\\n<script src=\"//ajax.googleapis.com/ajax/libs/jquery/2.1.1/jquery.min.js\"></script>\\n<script src=\"//images.ptt.cc/v2.19/bbs.js\"></script>\\n\\n\\n\\t\\t\\n\\n<script type=\"text/javascript\">\\n\\n  var _gaq = _gaq || [];\\n  _gaq.push([\\'_setAccount\\', \\'UA-32365737-1\\']);\\n  _gaq.push([\\'_setDomainName\\', \\'ptt.cc\\']);\\n  _gaq.push([\\'_trackPageview\\']);\\n\\n  (function() {\\n    var ga = document.createElement(\\'script\\'); ga.type = \\'text/javascript\\'; ga.async = true;\\n    ga.src = (\\'https:\\' == document.location.protocol ? \\'https://ssl\\' : \\'http://www\\') + \\'.google-analytics.com/ga.js\\';\\n    var s = document.getElementsByTagName(\\'script\\')[0]; s.parentNode.insertBefore(ga, s);\\n  })();\\n\\n</script>\\n\\n\\n\\t</head>\\n    <body>\\n\\t\\t\\n<div id=\"topbar-container\">\\n\\t<div id=\"topbar\" class=\"bbs-content\">\\n\\t\\t<a id=\"logo\" href=\"/\">\\u6279\\u8e22\\u8e22\\u5be6\\u696d\\u574a</a>\\n\\t\\t<span>&rsaquo;</span>\\n\\t\\t<a class=\"board\" href=\"/bbs/bicycle/index.html\"><span class=\"board-label\">\\u770b\\u677f </span>bicycle</a>\\n\\t\\t<a class=\"right small\" href=\"/about.html\">\\u95dc\\u65bc\\u6211\\u5011</a>\\n\\t\\t<a class=\"right small\" href=\"/contact.html\">\\u806f\\u7d61\\u8cc7\\u8a0a</a>\\n\\t</div>\\n</div>\\n\\n<div id=\"main-container\">\\n\\t<div id=\"action-bar-container\">\\n\\t\\t<div class=\"action-bar\">\\n\\t\\t\\t<div class=\"btn-group btn-group-dir\">\\n\\t\\t\\t\\t<a class=\"btn selected\" href=\"/bbs/bicycle/index.html\">\\u770b\\u677f</a>\\n\\t\\t\\t\\t<a class=\"btn\" href=\"/man/bicycle/index.html\">\\u7cbe\\u83ef\\u5340</a>\\n\\t\\t\\t</div>\\n\\t\\t\\t<div class=\"btn-group btn-group-paging\">\\n\\t\\t\\t\\t<a class=\"btn wide\" href=\"/bbs/bicycle/index1.html\">\\u6700\\u820a</a>\\n\\t\\t\\t\\t<a class=\"btn wide\" href=\"/bbs/bicycle/index1502.html\">&lsaquo; \\u4e0a\\u9801</a>\\n\\t\\t\\t\\t<a class=\"btn wide disabled\">\\u4e0b\\u9801 &rsaquo;</a>\\n\\t\\t\\t\\t<a class=\"btn wide\" href=\"/bbs/bicycle/index.html\">\\u6700\\u65b0</a>\\n\\t\\t\\t</div>\\n\\t\\t</div>\\n\\t</div>\\n\\n\\t<div class=\"r-list-container bbs-screen\">\\n\\t\\t\\n\\t\\t\\n            \\n        \\n        \\n\\t\\t<div class=\"r-ent\">\\n\\t\\t\\t<div class=\"nrec\"><span class=\"hl f2\">4</span></div>\\n\\t\\t\\t<div class=\"mark\"></div>\\n\\t\\t\\t<div class=\"title\">\\n\\t\\t\\t\\n\\t\\t\\t\\t<a href=\"/bbs/bicycle/M.1471930909.A.16D.html\">Re: [\\u9592\\u804a] \\u70ba\\u4f55\\u53f0\\u7063Endurance Bike\\u63a5\\u53d7\\u5ea6\\u6703\\u9019\\u9ebc\\u4f4e</a>\\n\\t\\t\\t\\n\\t\\t\\t</div>\\n\\t\\t\\t<div class=\"meta\">\\n\\t\\t\\t\\t<div class=\"date\"> 8/23</div>\\n\\t\\t\\t\\t<div class=\"author\">LeoWu</div>\\n\\t\\t\\t</div>\\n\\t\\t</div>\\n\\n\\t\\t\\n            \\n        \\n        \\n\\t\\t<div class=\"r-ent\">\\n\\t\\t\\t<div class=\"nrec\"></div>\\n\\t\\t\\t<div class=\"mark\">S</div>\\n\\t\\t\\t<div class=\"title\">\\n\\t\\t\\t\\n\\t\\t\\t\\t<a href=\"/bbs/bicycle/M.1471933049.A.33D.html\">[\\u4ea4\\u6613] \\u552e\\u78bc\\u8868 \\u5361\\u978b  \\u628a\\u624b Fizik\\u5750\\u588a</a>\\n\\t\\t\\t\\n\\t\\t\\t</div>\\n\\t\\t\\t<div class=\"meta\">\\n\\t\\t\\t\\t<div class=\"date\"> 8/23</div>\\n\\t\\t\\t\\t<div class=\"author\">DonnyHuang</div>\\n\\t\\t\\t</div>\\n\\t\\t</div>\\n\\n\\t\\t\\n            \\n        \\n        \\n\\t\\t<div class=\"r-ent\">\\n\\t\\t\\t<div class=\"nrec\"><span class=\"hl f3\">39</span></div>\\n\\t\\t\\t<div class=\"mark\">M</div>\\n\\t\\t\\t<div class=\"title\">\\n\\t\\t\\t\\n\\t\\t\\t\\t<a href=\"/bbs/bicycle/M.1471935419.A.F97.html\">[\\u5fc3\\u5f97] \\u55ae\\u8eca\\u6b63\\u97f3\\u904b\\u52d5</a>\\n\\t\\t\\t\\n\\t\\t\\t</div>\\n\\t\\t\\t<div class=\"meta\">\\n\\t\\t\\t\\t<div class=\"date\"> 8/23</div>\\n\\t\\t\\t\\t<div class=\"author\">Insomniac</div>\\n\\t\\t\\t</div>\\n\\t\\t</div>\\n\\n\\t\\t\\n            \\n        \\n        \\n\\t\\t<div class=\"r-ent\">\\n\\t\\t\\t<div class=\"nrec\"><span class=\"hl f3\">19</span></div>\\n\\t\\t\\t<div class=\"mark\"></div>\\n\\t\\t\\t<div class=\"title\">\\n\\t\\t\\t\\n\\t\\t\\t\\t<a href=\"/bbs/bicycle/M.1471941230.A.EE9.html\">[\\u5fc3\\u5f97] \\u81ea\\u884c\\u8eca\\u54c1\\u724c\\u516c\\u53f8\\u95dc\\u4fc2</a>\\n\\t\\t\\t\\n\\t\\t\\t</div>\\n\\t\\t\\t<div class=\"meta\">\\n\\t\\t\\t\\t<div class=\"date\"> 8/23</div>\\n\\t\\t\\t\\t<div class=\"author\">CrazyMika</div>\\n\\t\\t\\t</div>\\n\\t\\t</div>\\n\\n\\t\\t\\n            \\n        \\n        \\n\\t\\t<div class=\"r-ent\">\\n\\t\\t\\t<div class=\"nrec\"><span class=\"hl f2\">8</span></div>\\n\\t\\t\\t<div class=\"mark\"></div>\\n\\t\\t\\t<div class=\"title\">\\n\\t\\t\\t\\n\\t\\t\\t\\t<a href=\"/bbs/bicycle/M.1471961334.A.36A.html\">[\\u554f\\u984c] \\u677f\\u9ad8 vs \\u98a8\\u963b</a>\\n\\t\\t\\t\\n\\t\\t\\t</div>\\n\\t\\t\\t<div class=\"meta\">\\n\\t\\t\\t\\t<div class=\"date\"> 8/23</div>\\n\\t\\t\\t\\t<div class=\"author\">christofu</div>\\n\\t\\t\\t</div>\\n\\t\\t</div>\\n\\n\\t\\t\\n            \\n        \\n        \\n\\t\\t<div class=\"r-ent\">\\n\\t\\t\\t<div class=\"nrec\"><span class=\"hl f2\">7</span></div>\\n\\t\\t\\t<div class=\"mark\"></div>\\n\\t\\t\\t<div class=\"title\">\\n\\t\\t\\t\\n\\t\\t\\t\\t<a href=\"/bbs/bicycle/M.1471963150.A.76D.html\">Re: [\\u9592\\u804a] \\u70ba\\u4f55\\u53f0\\u7063Endurance Bike\\u63a5\\u53d7\\u5ea6\\u6703\\u9019\\u9ebc\\u4f4e</a>\\n\\t\\t\\t\\n\\t\\t\\t</div>\\n\\t\\t\\t<div class=\"meta\">\\n\\t\\t\\t\\t<div class=\"date\"> 8/23</div>\\n\\t\\t\\t\\t<div class=\"author\">ddar</div>\\n\\t\\t\\t</div>\\n\\t\\t</div>\\n\\n\\t\\t\\n            \\n        \\n        \\n\\t\\t<div class=\"r-ent\">\\n\\t\\t\\t<div class=\"nrec\"><span class=\"hl f3\">27</span></div>\\n\\t\\t\\t<div class=\"mark\"></div>\\n\\t\\t\\t<div class=\"title\">\\n\\t\\t\\t\\n\\t\\t\\t\\t<a href=\"/bbs/bicycle/M.1471963206.A.AAF.html\">[\\u5fc3\\u5f97] \\u5404\\u570b\\u81ea\\u884c\\u8eca\\u54c1\\u724c\\u6574\\u7406</a>\\n\\t\\t\\t\\n\\t\\t\\t</div>\\n\\t\\t\\t<div class=\"meta\">\\n\\t\\t\\t\\t<div class=\"date\"> 8/23</div>\\n\\t\\t\\t\\t<div class=\"author\">baozi</div>\\n\\t\\t\\t</div>\\n\\t\\t</div>\\n\\n\\t\\t\\n            \\n        \\n        \\n\\t\\t<div class=\"r-ent\">\\n\\t\\t\\t<div class=\"nrec\"><span class=\"hl f2\">5</span></div>\\n\\t\\t\\t<div class=\"mark\"></div>\\n\\t\\t\\t<div class=\"title\">\\n\\t\\t\\t\\n\\t\\t\\t\\t<a href=\"/bbs/bicycle/M.1471966054.A.C7D.html\">Re: [\\u554f\\u984c] \\u5750\\u588a\\u5bec\\u5ea6\\u7684\\u9078\\u64c7?</a>\\n\\t\\t\\t\\n\\t\\t\\t</div>\\n\\t\\t\\t<div class=\"meta\">\\n\\t\\t\\t\\t<div class=\"date\"> 8/23</div>\\n\\t\\t\\t\\t<div class=\"author\">HHHHOOOO</div>\\n\\t\\t\\t</div>\\n\\t\\t</div>\\n\\n\\t\\t\\n            \\n        \\n        \\n\\t\\t<div class=\"r-ent\">\\n\\t\\t\\t<div class=\"nrec\"></div>\\n\\t\\t\\t<div class=\"mark\"></div>\\n\\t\\t\\t<div class=\"title\">\\n\\t\\t\\t\\n\\t\\t\\t\\t<a href=\"/bbs/bicycle/M.1471975068.A.97F.html\">[\\u4ecb\\u7d39] \\u4e2d\\u58e2 a38385588</a>\\n\\t\\t\\t\\n\\t\\t\\t</div>\\n\\t\\t\\t<div class=\"meta\">\\n\\t\\t\\t\\t<div class=\"date\"> 8/24</div>\\n\\t\\t\\t\\t<div class=\"author\">a38385588</div>\\n\\t\\t\\t</div>\\n\\t\\t</div>\\n\\n\\t\\t\\n            \\n        \\n        \\n\\t\\t<div class=\"r-ent\">\\n\\t\\t\\t<div class=\"nrec\"><span class=\"hl f2\">1</span></div>\\n\\t\\t\\t<div class=\"mark\"></div>\\n\\t\\t\\t<div class=\"title\">\\n\\t\\t\\t\\n\\t\\t\\t\\t<a href=\"/bbs/bicycle/M.1471976494.A.DA6.html\">Re: [\\u9592\\u804a] \\u70ba\\u4f55\\u53f0\\u7063Endurance Bike\\u63a5\\u53d7\\u5ea6\\u6703\\u9019\\u9ebc\\u4f4e</a>\\n\\t\\t\\t\\n\\t\\t\\t</div>\\n\\t\\t\\t<div class=\"meta\">\\n\\t\\t\\t\\t<div class=\"date\"> 8/24</div>\\n\\t\\t\\t\\t<div class=\"author\">dachshunds</div>\\n\\t\\t\\t</div>\\n\\t\\t</div>\\n\\n\\t\\t\\n        \\n        <div class=\"r-list-sep\"></div>\\n            \\n                \\n        \\n        \\n\\t\\t<div class=\"r-ent\">\\n\\t\\t\\t<div class=\"nrec\"></div>\\n\\t\\t\\t<div class=\"mark\"></div>\\n\\t\\t\\t<div class=\"title\">\\n\\t\\t\\t\\n\\t\\t\\t\\t<a href=\"/bbs/bicycle/M.1449726320.A.26F.html\">[\\u516c\\u544a] \\u677f\\u898f(s\\u8868\\u793a\\u5408\\u7248\\u898f\\u4ea4\\u6613)           \\u4ea4\\u6613\\u6587</a>\\n\\t\\t\\t\\n\\t\\t\\t</div>\\n\\t\\t\\t<div class=\"meta\">\\n\\t\\t\\t\\t<div class=\"date\">12/10</div>\\n\\t\\t\\t\\t<div class=\"author\">obluda</div>\\n\\t\\t\\t</div>\\n\\t\\t</div>\\n\\n            \\n                \\n        \\n        \\n\\t\\t<div class=\"r-ent\">\\n\\t\\t\\t<div class=\"nrec\"><span class=\"hl f2\">6</span></div>\\n\\t\\t\\t<div class=\"mark\"></div>\\n\\t\\t\\t<div class=\"title\">\\n\\t\\t\\t\\n\\t\\t\\t\\t<a href=\"/bbs/bicycle/M.1448340379.A.ED7.html\">[\\u516c\\u544a] \\u6c34\\u6876\\u540d\\u55ae (\\u5fb5\\u6c42\\u6587\\u8acb\\u770b\\u677f\\u898f\\u4e94)     \\u8acb\\u770b</a>\\n\\t\\t\\t\\n\\t\\t\\t</div>\\n\\t\\t\\t<div class=\"meta\">\\n\\t\\t\\t\\t<div class=\"date\">11/24</div>\\n\\t\\t\\t\\t<div class=\"author\">obluda</div>\\n\\t\\t\\t</div>\\n\\t\\t</div>\\n\\n            \\n                \\n        \\n        \\n\\t\\t<div class=\"r-ent\">\\n\\t\\t\\t<div class=\"nrec\"><span class=\"hl f2\">4</span></div>\\n\\t\\t\\t<div class=\"mark\">M</div>\\n\\t\\t\\t<div class=\"title\">\\n\\t\\t\\t\\n\\t\\t\\t\\t<a href=\"/bbs/bicycle/M.1448620477.A.A0E.html\">[\\u8a0e\\u8ad6] 2016 \\u81ea\\u884c\\u8eca \\u6d3b\\u52d5                \\u677f\\u898f\\u4e94</a>\\n\\t\\t\\t\\n\\t\\t\\t</div>\\n\\t\\t\\t<div class=\"meta\">\\n\\t\\t\\t\\t<div class=\"date\">11/27</div>\\n\\t\\t\\t\\t<div class=\"author\">demo68</div>\\n\\t\\t\\t</div>\\n\\t\\t</div>\\n\\n            \\n                \\n        \\n        \\n\\t\\t<div class=\"r-ent\">\\n\\t\\t\\t<div class=\"nrec\"></div>\\n\\t\\t\\t<div class=\"mark\">M</div>\\n\\t\\t\\t<div class=\"title\">\\n\\t\\t\\t\\n\\t\\t\\t\\t<a href=\"/bbs/bicycle/M.1461859097.A.359.html\">\\u5fb5\\u677f\\u4e3b (\\u4ea4\\u6613\\u4e0d\\u5408\\u677f\\u898f\\u53e6\\u6709\\u9ad4\\u80b2\\u7528\\u54c1\\u4ea4\\u6613\\u7248)</a>\\n\\t\\t\\t\\n\\t\\t\\t</div>\\n\\t\\t\\t<div class=\"meta\">\\n\\t\\t\\t\\t<div class=\"date\"> 4/28</div>\\n\\t\\t\\t\\t<div class=\"author\">obluda</div>\\n\\t\\t\\t</div>\\n\\t\\t</div>\\n\\n            \\n        \\n\\t</div>\\n\\n    \\n</div>\\n\\n    </body>\\n</html>\\n'"
      ]
     },
     "execution_count": 59,
     "metadata": {},
     "output_type": "execute_result"
    }
   ],
   "source": [
    "## 放入custom header\n",
    "headers = {'user-agent': 'my-app/0.0.1'}\n",
    "res = requests.get(\"https://www.ptt.cc/bbs/bicycle/index.html\", headers=headers)\n",
    "res.text"
   ]
  },
  {
   "cell_type": "code",
   "execution_count": 73,
   "metadata": {
    "collapsed": false
   },
   "outputs": [
    {
     "data": {
      "text/plain": [
       "u'{\\n  \"cookies\": {\\n    \"cookies_are\": \"working\"\\n  }\\n}\\n'"
      ]
     },
     "execution_count": 73,
     "metadata": {},
     "output_type": "execute_result"
    }
   ],
   "source": [
    "# Cookies\n",
    "url = 'http://httpbin.org/cookies'\n",
    "cookies = dict(cookies_are='working')\n",
    "\n",
    "res = requests.get(url, cookies=cookies)\n",
    "res.text"
   ]
  },
  {
   "cell_type": "code",
   "execution_count": 75,
   "metadata": {
    "collapsed": false
   },
   "outputs": [
    {
     "name": "stdout",
     "output_type": "stream",
     "text": [
      "{\n",
      "  \"cookies\": {\n",
      "    \"sessioncookie\": \"123456789\"\n",
      "  }\n",
      "}\n",
      "\n"
     ]
    }
   ],
   "source": [
    "# Session\n",
    "s = requests.Session()\n",
    "\n",
    "s.get('http://httpbin.org/cookies/set/sessioncookie/123456789')\n",
    "res = s.get('http://httpbin.org/cookies')\n",
    "\n",
    "print(res.text)"
   ]
  },
  {
   "cell_type": "markdown",
   "metadata": {},
   "source": [
    "解析HTML（BeautifulSoup）\n",
    "---\n",
    "1. ```pip install beautifulsoup```\n",
    "2. ```pip install lxml```"
   ]
  },
  {
   "cell_type": "markdown",
   "metadata": {},
   "source": [
    "## BeautifulSoup\n",
    "---\n",
    "- version 4\n",
    "- Filters can accept a string, a regular expression, a list, a function, or the value True.\n",
    "- BeautifulSoup Object -> HTML\n",
    "- Tag Object -> HTML Tag\n",
    "- 常用的Search Method\n",
    "  - find\\_all(name, class_='container')\n",
    "- CSS Selector\n",
    "  - select()\n",
    "- 改動Tree\n",
    "  - extract()"
   ]
  },
  {
   "cell_type": "code",
   "execution_count": 28,
   "metadata": {
    "collapsed": true
   },
   "outputs": [],
   "source": [
    "from bs4 import BeautifulSoup"
   ]
  },
  {
   "cell_type": "code",
   "execution_count": 46,
   "metadata": {
    "collapsed": true
   },
   "outputs": [],
   "source": [
    "myhtml = \"\"\"\n",
    "<html><head><title>The Dormouse's story</title></head>\n",
    "<body>\n",
    "<p class=\"title\"><b>The Dormouse's story</b></p>\n",
    "\n",
    "<p class=\"story\">Once upon a time there were three little sisters; and their names were\n",
    "<a href=\"http://example.com/elsie\" class=\"sister\" id=\"link1\">Elsie</a>,\n",
    "<a href=\"http://example.com/lacie\" class=\"sister\" id=\"link2\">Lacie</a> and\n",
    "<a href=\"http://example.com/tillie\" class=\"sister\" id=\"link3\">Tillie</a>;\n",
    "and they lived at the bottom of a well.</p>\n",
    "\n",
    "<p class=\"story\">...</p>\n",
    "\"\"\""
   ]
  },
  {
   "cell_type": "code",
   "execution_count": 47,
   "metadata": {
    "collapsed": false
   },
   "outputs": [],
   "source": [
    "soup = BeautifulSoup(myhtml, \"lxml\")"
   ]
  },
  {
   "cell_type": "code",
   "execution_count": 48,
   "metadata": {
    "collapsed": false
   },
   "outputs": [
    {
     "data": {
      "text/plain": [
       "[<a class=\"sister\" href=\"http://example.com/elsie\" id=\"link1\">Elsie</a>,\n",
       " <a class=\"sister\" href=\"http://example.com/lacie\" id=\"link2\">Lacie</a>,\n",
       " <a class=\"sister\" href=\"http://example.com/tillie\" id=\"link3\">Tillie</a>]"
      ]
     },
     "execution_count": 48,
     "metadata": {},
     "output_type": "execute_result"
    }
   ],
   "source": [
    "soup.select(\"body a\")"
   ]
  },
  {
   "cell_type": "code",
   "execution_count": 49,
   "metadata": {
    "collapsed": false
   },
   "outputs": [
    {
     "data": {
      "text/plain": [
       "[<title>The Dormouse's story</title>]"
      ]
     },
     "execution_count": 49,
     "metadata": {},
     "output_type": "execute_result"
    }
   ],
   "source": [
    "soup.select(\"html head title\")"
   ]
  },
  {
   "cell_type": "code",
   "execution_count": 50,
   "metadata": {
    "collapsed": false
   },
   "outputs": [
    {
     "data": {
      "text/plain": [
       "[]"
      ]
     },
     "execution_count": 50,
     "metadata": {},
     "output_type": "execute_result"
    }
   ],
   "source": [
    "soup.select(\"head > title\")"
   ]
  },
  {
   "cell_type": "code",
   "execution_count": 51,
   "metadata": {
    "collapsed": false
   },
   "outputs": [
    {
     "data": {
      "text/plain": [
       "[<a class=\"sister\" href=\"http://example.com/elsie\" id=\"link1\">Elsie</a>,\n",
       " <a class=\"sister\" href=\"http://example.com/lacie\" id=\"link2\">Lacie</a>,\n",
       " <a class=\"sister\" href=\"http://example.com/tillie\" id=\"link3\">Tillie</a>]"
      ]
     },
     "execution_count": 51,
     "metadata": {},
     "output_type": "execute_result"
    }
   ],
   "source": [
    "soup.select(\"p > a\")"
   ]
  },
  {
   "cell_type": "code",
   "execution_count": 52,
   "metadata": {
    "collapsed": false
   },
   "outputs": [
    {
     "data": {
      "text/plain": [
       "[<a class=\"sister\" href=\"http://example.com/lacie\" id=\"link2\">Lacie</a>]"
      ]
     },
     "execution_count": 52,
     "metadata": {},
     "output_type": "execute_result"
    }
   ],
   "source": [
    "soup.select(\"p > a:nth-of-type(2)\")"
   ]
  },
  {
   "cell_type": "code",
   "execution_count": 53,
   "metadata": {
    "collapsed": false
   },
   "outputs": [
    {
     "data": {
      "text/plain": [
       "[<a class=\"sister\" href=\"http://example.com/elsie\" id=\"link1\">Elsie</a>]"
      ]
     },
     "execution_count": 53,
     "metadata": {},
     "output_type": "execute_result"
    }
   ],
   "source": [
    "soup.select(\"p > #link1\")"
   ]
  },
  {
   "cell_type": "code",
   "execution_count": 54,
   "metadata": {
    "collapsed": false
   },
   "outputs": [
    {
     "data": {
      "text/plain": [
       "[]"
      ]
     },
     "execution_count": 54,
     "metadata": {},
     "output_type": "execute_result"
    }
   ],
   "source": [
    "soup.select(\"body > a\")"
   ]
  },
  {
   "cell_type": "code",
   "execution_count": 55,
   "metadata": {
    "collapsed": false
   },
   "outputs": [
    {
     "data": {
      "text/plain": [
       "[<a class=\"sister\" href=\"http://example.com/elsie\" id=\"link1\">Elsie</a>,\n",
       " <a class=\"sister\" href=\"http://example.com/lacie\" id=\"link2\">Lacie</a>,\n",
       " <a class=\"sister\" href=\"http://example.com/tillie\" id=\"link3\">Tillie</a>]"
      ]
     },
     "execution_count": 55,
     "metadata": {},
     "output_type": "execute_result"
    }
   ],
   "source": [
    "soup.select(\".sister\")"
   ]
  },
  {
   "cell_type": "code",
   "execution_count": 56,
   "metadata": {
    "collapsed": false
   },
   "outputs": [
    {
     "data": {
      "text/plain": [
       "[<a class=\"sister\" href=\"http://example.com/lacie\" id=\"link2\">Lacie</a>]"
      ]
     },
     "execution_count": 56,
     "metadata": {},
     "output_type": "execute_result"
    }
   ],
   "source": [
    "soup.select(\"a#link2\")"
   ]
  },
  {
   "cell_type": "code",
   "execution_count": 57,
   "metadata": {
    "collapsed": false
   },
   "outputs": [
    {
     "data": {
      "text/plain": [
       "[<a class=\"sister\" href=\"http://example.com/elsie\" id=\"link1\">Elsie</a>]"
      ]
     },
     "execution_count": 57,
     "metadata": {},
     "output_type": "execute_result"
    }
   ],
   "source": [
    "soup.select('a[href=\"http://example.com/elsie\"]')"
   ]
  },
  {
   "cell_type": "markdown",
   "metadata": {},
   "source": [
    "## 範例"
   ]
  },
  {
   "cell_type": "code",
   "execution_count": null,
   "metadata": {
    "collapsed": true
   },
   "outputs": [],
   "source": [
    "#PTT"
   ]
  },
  {
   "cell_type": "code",
   "execution_count": 76,
   "metadata": {
    "collapsed": true
   },
   "outputs": [],
   "source": [
    "#蘋果新聞"
   ]
  },
  {
   "cell_type": "code",
   "execution_count": 78,
   "metadata": {
    "collapsed": true
   },
   "outputs": [],
   "source": [
    "#中華民國政府電子採購網"
   ]
  },
  {
   "cell_type": "code",
   "execution_count": 79,
   "metadata": {
    "collapsed": true
   },
   "outputs": [],
   "source": [
    "#Facebook Graph API(?)"
   ]
  },
  {
   "cell_type": "code",
   "execution_count": null,
   "metadata": {
    "collapsed": true
   },
   "outputs": [],
   "source": []
  }
 ],
 "metadata": {
  "kernelspec": {
   "display_name": "Python [Root]",
   "language": "python",
   "name": "Python [Root]"
  },
  "language_info": {
   "codemirror_mode": {
    "name": "ipython",
    "version": 2
   },
   "file_extension": ".py",
   "mimetype": "text/x-python",
   "name": "python",
   "nbconvert_exporter": "python",
   "pygments_lexer": "ipython2",
   "version": "2.7.12"
  }
 },
 "nbformat": 4,
 "nbformat_minor": 0
}
