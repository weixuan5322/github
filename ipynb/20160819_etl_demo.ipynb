{
 "cells": [
  {
   "cell_type": "code",
   "execution_count": 1,
   "metadata": {
    "collapsed": false
   },
   "outputs": [
    {
     "data": {
      "text/plain": [
       "'I am a multiline string'"
      ]
     },
     "execution_count": 1,
     "metadata": {},
     "output_type": "execute_result"
    }
   ],
   "source": [
    "\"\"\"I am a multiline string\"\"\""
   ]
  },
  {
   "cell_type": "code",
   "execution_count": 2,
   "metadata": {
    "collapsed": false
   },
   "outputs": [],
   "source": [
    "# I am a comment"
   ]
  },
  {
   "cell_type": "markdown",
   "metadata": {},
   "source": [
    "## I am markdown"
   ]
  },
  {
   "cell_type": "markdown",
   "metadata": {},
   "source": [
    "# Variable"
   ]
  },
  {
   "cell_type": "code",
   "execution_count": 3,
   "metadata": {
    "collapsed": true
   },
   "outputs": [],
   "source": [
    "message = \"I love python\""
   ]
  },
  {
   "cell_type": "code",
   "execution_count": 4,
   "metadata": {
    "collapsed": false
   },
   "outputs": [],
   "source": [
    "#mess age=\"Ilove\" # no sapces in between"
   ]
  },
  {
   "cell_type": "code",
   "execution_count": 5,
   "metadata": {
    "collapsed": false
   },
   "outputs": [],
   "source": [
    "#123python = \"ok\" # cannot start with numbers!"
   ]
  },
  {
   "cell_type": "code",
   "execution_count": 6,
   "metadata": {
    "collapsed": true
   },
   "outputs": [],
   "source": [
    "# student name\n",
    "# variable naming best practices\n",
    "studentName = 'Ian' # Camel case\n",
    "student_name = 'John' # Snake => Use this for variable and fucntion"
   ]
  },
  {
   "cell_type": "code",
   "execution_count": 7,
   "metadata": {
    "collapsed": false
   },
   "outputs": [
    {
     "name": "stdout",
     "output_type": "stream",
     "text": [
      "What is your favorite pokemon?ian\n"
     ]
    }
   ],
   "source": [
    "# How about some interaction?\n",
    "user_input = raw_input(\"What is your favorite pokemon?\")"
   ]
  },
  {
   "cell_type": "markdown",
   "metadata": {},
   "source": [
    "# Built-in Types\n",
    "---\n",
    "- String\n",
    "- Numeric\n",
    "- Sequence(list, tuple)\n",
    "- Boolean\n",
    "- Mapping(dictionary)"
   ]
  },
  {
   "cell_type": "markdown",
   "metadata": {},
   "source": [
    "## String"
   ]
  },
  {
   "cell_type": "code",
   "execution_count": 8,
   "metadata": {
    "collapsed": false
   },
   "outputs": [
    {
     "name": "stdout",
     "output_type": "stream",
     "text": [
      "I am a string\n",
      "I am also a string\n"
     ]
    }
   ],
   "source": [
    "single_quote_str = 'I am a string'\n",
    "double_quote_str = \"I am also a string\"\n",
    "print single_quote_str\n",
    "print double_quote_str"
   ]
  },
  {
   "cell_type": "code",
   "execution_count": 9,
   "metadata": {
    "collapsed": false
   },
   "outputs": [
    {
     "name": "stdout",
     "output_type": "stream",
     "text": [
      "I say 'ok'\n"
     ]
    }
   ],
   "source": [
    "some_quote = \"I say 'ok'\"\n",
    "print some_quote"
   ]
  },
  {
   "cell_type": "code",
   "execution_count": 10,
   "metadata": {
    "collapsed": true
   },
   "outputs": [],
   "source": [
    "mydict = {'key': 123, 'absasdf': \"Cool name bro\"}"
   ]
  },
  {
   "cell_type": "code",
   "execution_count": 11,
   "metadata": {
    "collapsed": true
   },
   "outputs": [],
   "source": [
    "first_name = \"ian\""
   ]
  },
  {
   "cell_type": "code",
   "execution_count": 12,
   "metadata": {
    "collapsed": false
   },
   "outputs": [
    {
     "name": "stdout",
     "output_type": "stream",
     "text": [
      "ian\n"
     ]
    }
   ],
   "source": [
    "print first_name"
   ]
  },
  {
   "cell_type": "code",
   "execution_count": 13,
   "metadata": {
    "collapsed": false
   },
   "outputs": [
    {
     "name": "stdout",
     "output_type": "stream",
     "text": [
      "Ian\n"
     ]
    }
   ],
   "source": [
    "print first_name.title()"
   ]
  },
  {
   "cell_type": "code",
   "execution_count": 14,
   "metadata": {
    "collapsed": false
   },
   "outputs": [
    {
     "name": "stdout",
     "output_type": "stream",
     "text": [
      "IAN\n"
     ]
    }
   ],
   "source": [
    "print first_name.upper()"
   ]
  },
  {
   "cell_type": "code",
   "execution_count": 15,
   "metadata": {
    "collapsed": false
   },
   "outputs": [
    {
     "name": "stdout",
     "output_type": "stream",
     "text": [
      "IAN\n",
      "ian\n"
     ]
    }
   ],
   "source": [
    "upper_ian = 'ian'.upper()\n",
    "print upper_ian\n",
    "print first_name.lower()"
   ]
  },
  {
   "cell_type": "markdown",
   "metadata": {},
   "source": [
    "## Concatenation"
   ]
  },
  {
   "cell_type": "code",
   "execution_count": 16,
   "metadata": {
    "collapsed": false
   },
   "outputs": [
    {
     "name": "stdout",
     "output_type": "stream",
     "text": [
      "Ian Chen\n"
     ]
    }
   ],
   "source": [
    "fist_name = 'ian'\n",
    "last_name = 'chen'\n",
    "full_name = fist_name + ' ' + last_name\n",
    "print full_name.title()"
   ]
  },
  {
   "cell_type": "markdown",
   "metadata": {},
   "source": [
    "# Whitespace\n",
    "----\n",
    "- space: ' '\n",
    "- tab  : \\t\n",
    "- newline: \\n"
   ]
  },
  {
   "cell_type": "code",
   "execution_count": 17,
   "metadata": {
    "collapsed": false
   },
   "outputs": [
    {
     "name": "stdout",
     "output_type": "stream",
     "text": [
      "Hello everyone!\n"
     ]
    }
   ],
   "source": [
    "print \"Hello everyone!\""
   ]
  },
  {
   "cell_type": "code",
   "execution_count": 18,
   "metadata": {
    "collapsed": false
   },
   "outputs": [
    {
     "name": "stdout",
     "output_type": "stream",
     "text": [
      "Hello ever\tyone\n"
     ]
    }
   ],
   "source": [
    "print \"Hello ever\\tyone\""
   ]
  },
  {
   "cell_type": "code",
   "execution_count": 19,
   "metadata": {
    "collapsed": false
   },
   "outputs": [
    {
     "name": "stdout",
     "output_type": "stream",
     "text": [
      "Hello eve\n",
      "ryone!!\n"
     ]
    }
   ],
   "source": [
    "print \"Hello eve\\nryone!!\""
   ]
  },
  {
   "cell_type": "markdown",
   "metadata": {},
   "source": [
    "## 通常會遇到下面的情況"
   ]
  },
  {
   "cell_type": "code",
   "execution_count": 20,
   "metadata": {
    "collapsed": false
   },
   "outputs": [
    {
     "name": "stdout",
     "output_type": "stream",
     "text": [
      "Hello everyone\n",
      "\n"
     ]
    }
   ],
   "source": [
    "print \"Hello everyone\\n\""
   ]
  },
  {
   "cell_type": "code",
   "execution_count": 21,
   "metadata": {
    "collapsed": true
   },
   "outputs": [],
   "source": [
    "myname = \"\\tian\\n\""
   ]
  },
  {
   "cell_type": "code",
   "execution_count": 22,
   "metadata": {
    "collapsed": false
   },
   "outputs": [
    {
     "name": "stdout",
     "output_type": "stream",
     "text": [
      "\tian\n",
      "\n"
     ]
    }
   ],
   "source": [
    "print myname"
   ]
  },
  {
   "cell_type": "code",
   "execution_count": 23,
   "metadata": {
    "collapsed": false
   },
   "outputs": [
    {
     "name": "stdout",
     "output_type": "stream",
     "text": [
      "ian\n"
     ]
    }
   ],
   "source": [
    "print myname.strip() # both side strip"
   ]
  },
  {
   "cell_type": "code",
   "execution_count": 24,
   "metadata": {
    "collapsed": false
   },
   "outputs": [
    {
     "name": "stdout",
     "output_type": "stream",
     "text": [
      "\tian\n"
     ]
    }
   ],
   "source": [
    "print myname.rstrip() #right-side strip"
   ]
  },
  {
   "cell_type": "code",
   "execution_count": 25,
   "metadata": {
    "collapsed": false
   },
   "outputs": [
    {
     "name": "stdout",
     "output_type": "stream",
     "text": [
      "ian\n",
      "\n"
     ]
    }
   ],
   "source": [
    "print myname.lstrip() # left-side strip"
   ]
  },
  {
   "cell_type": "markdown",
   "metadata": {},
   "source": [
    "## Other useful String methods..."
   ]
  },
  {
   "cell_type": "code",
   "execution_count": 26,
   "metadata": {
    "collapsed": false
   },
   "outputs": [
    {
     "name": "stdout",
     "output_type": "stream",
     "text": [
      "it's hot it's hot it's hot it's hot it's hot \n"
     ]
    }
   ],
   "source": [
    "print \"it's hot \" * 5"
   ]
  },
  {
   "cell_type": "code",
   "execution_count": 27,
   "metadata": {
    "collapsed": false,
    "scrolled": true
   },
   "outputs": [
    {
     "name": "stdout",
     "output_type": "stream",
     "text": [
      "==================================================\n",
      "Program start..\n",
      "==================================================\n"
     ]
    }
   ],
   "source": [
    "print \"=\" * 50\n",
    "print \"Program start..\"\n",
    "print \"=\" * 50"
   ]
  },
  {
   "cell_type": "markdown",
   "metadata": {},
   "source": [
    "## Selecting part of string\n",
    "somestr[start:end:step]"
   ]
  },
  {
   "cell_type": "code",
   "execution_count": 28,
   "metadata": {
    "collapsed": true
   },
   "outputs": [],
   "source": [
    "somestr = \"it is hot today\""
   ]
  },
  {
   "cell_type": "code",
   "execution_count": 29,
   "metadata": {
    "collapsed": false,
    "scrolled": true
   },
   "outputs": [
    {
     "name": "stdout",
     "output_type": "stream",
     "text": [
      "i\n",
      "t\n",
      "y\n"
     ]
    }
   ],
   "source": [
    "print somestr[0]\n",
    "print somestr[1]\n",
    "print somestr[-1]"
   ]
  },
  {
   "cell_type": "markdown",
   "metadata": {},
   "source": [
    "### Slicing"
   ]
  },
  {
   "cell_type": "code",
   "execution_count": 30,
   "metadata": {
    "collapsed": false
   },
   "outputs": [
    {
     "name": "stdout",
     "output_type": "stream",
     "text": [
      "it\n"
     ]
    }
   ],
   "source": [
    "print somestr[0:2]"
   ]
  },
  {
   "cell_type": "code",
   "execution_count": 31,
   "metadata": {
    "collapsed": false
   },
   "outputs": [
    {
     "name": "stdout",
     "output_type": "stream",
     "text": [
      " is hot today\n"
     ]
    }
   ],
   "source": [
    "print somestr[2:]"
   ]
  },
  {
   "cell_type": "code",
   "execution_count": 32,
   "metadata": {
    "collapsed": false
   },
   "outputs": [
    {
     "name": "stdout",
     "output_type": "stream",
     "text": [
      "it is ho\n"
     ]
    }
   ],
   "source": [
    "print somestr[:8]"
   ]
  },
  {
   "cell_type": "code",
   "execution_count": 33,
   "metadata": {
    "collapsed": false
   },
   "outputs": [
    {
     "name": "stdout",
     "output_type": "stream",
     "text": [
      "i shttdy\n"
     ]
    }
   ],
   "source": [
    "print somestr[::2]"
   ]
  },
  {
   "cell_type": "code",
   "execution_count": 34,
   "metadata": {
    "collapsed": false
   },
   "outputs": [
    {
     "name": "stdout",
     "output_type": "stream",
     "text": [
      "yadot toh si ti\n"
     ]
    }
   ],
   "source": [
    "print somestr[::-1]"
   ]
  },
  {
   "cell_type": "markdown",
   "metadata": {},
   "source": [
    "## String formatting"
   ]
  },
  {
   "cell_type": "code",
   "execution_count": 35,
   "metadata": {
    "collapsed": true
   },
   "outputs": [],
   "source": [
    "mystory = \"Hi, My name is Ian, I am an engineer. I like to program python. Nice to meet you all, AB103\""
   ]
  },
  {
   "cell_type": "markdown",
   "metadata": {},
   "source": [
    "### method 1"
   ]
  },
  {
   "cell_type": "code",
   "execution_count": 36,
   "metadata": {
    "collapsed": true
   },
   "outputs": [],
   "source": [
    "story_template = \"Hi, My name is %s, I am an %s. I like to program %s. Nice to meet you all, %s\" % ('David', 'CEO', 'Python', 'AB999')"
   ]
  },
  {
   "cell_type": "code",
   "execution_count": 37,
   "metadata": {
    "collapsed": false
   },
   "outputs": [
    {
     "name": "stdout",
     "output_type": "stream",
     "text": [
      "Hi, My name is David, I am an CEO. I like to program Python. Nice to meet you all, AB999\n"
     ]
    }
   ],
   "source": [
    "print story_template"
   ]
  },
  {
   "cell_type": "markdown",
   "metadata": {},
   "source": [
    "### method 2"
   ]
  },
  {
   "cell_type": "code",
   "execution_count": 38,
   "metadata": {
    "collapsed": true
   },
   "outputs": [],
   "source": [
    "story_template2 = \"Hi, My name is {}, I am an {}. I like to program {}. Nice to meet you all, {}\".format('David', 'CEO', 'Python', 'AB999')"
   ]
  },
  {
   "cell_type": "code",
   "execution_count": 39,
   "metadata": {
    "collapsed": false
   },
   "outputs": [
    {
     "name": "stdout",
     "output_type": "stream",
     "text": [
      "Hi, My name is David, I am an CEO. I like to program Python. Nice to meet you all, AB999\n"
     ]
    }
   ],
   "source": [
    "print story_template2"
   ]
  },
  {
   "cell_type": "code",
   "execution_count": 40,
   "metadata": {
    "collapsed": true
   },
   "outputs": [],
   "source": [
    "story_template3 = \"Hi, My name is {1}, I am an {0}. I like to program {2}. Nice to meet you all, {3}\".format('David', 'CEO', 'Python', 'AB999')"
   ]
  },
  {
   "cell_type": "code",
   "execution_count": 41,
   "metadata": {
    "collapsed": false
   },
   "outputs": [
    {
     "name": "stdout",
     "output_type": "stream",
     "text": [
      "Hi, My name is CEO, I am an David. I like to program Python. Nice to meet you all, AB999\n"
     ]
    }
   ],
   "source": [
    "print story_template3"
   ]
  },
  {
   "cell_type": "code",
   "execution_count": 42,
   "metadata": {
    "collapsed": false
   },
   "outputs": [],
   "source": [
    "story_template4 = \"Hi, My name is {name}, I am an {job}. I like to program {lang}. Nice to meet you all, {class_name}\".format(name='David', job='CEO', lang='Python', class_name='AB999')"
   ]
  },
  {
   "cell_type": "code",
   "execution_count": 43,
   "metadata": {
    "collapsed": false
   },
   "outputs": [
    {
     "name": "stdout",
     "output_type": "stream",
     "text": [
      "Hi, My name is David, I am an CEO. I like to program Python. Nice to meet you all, AB999\n"
     ]
    }
   ],
   "source": [
    "print story_template4"
   ]
  },
  {
   "cell_type": "markdown",
   "metadata": {
    "collapsed": true
   },
   "source": [
    "# Integer"
   ]
  },
  {
   "cell_type": "code",
   "execution_count": 44,
   "metadata": {
    "collapsed": false
   },
   "outputs": [
    {
     "name": "stdout",
     "output_type": "stream",
     "text": [
      "2\n",
      "1\n",
      "5\n",
      "6\n"
     ]
    }
   ],
   "source": [
    "print 1 + 1\n",
    "print 2 - 1\n",
    "print 10 / 2\n",
    "print 2 * 3"
   ]
  },
  {
   "cell_type": "code",
   "execution_count": 45,
   "metadata": {
    "collapsed": false
   },
   "outputs": [
    {
     "name": "stdout",
     "output_type": "stream",
     "text": [
      "1\n"
     ]
    }
   ],
   "source": [
    "print 7 % 3 # return remainer"
   ]
  },
  {
   "cell_type": "code",
   "execution_count": 46,
   "metadata": {
    "collapsed": false
   },
   "outputs": [
    {
     "name": "stdout",
     "output_type": "stream",
     "text": [
      "4\n"
     ]
    }
   ],
   "source": [
    "print 2 ** 2 # Exponential"
   ]
  },
  {
   "cell_type": "code",
   "execution_count": 47,
   "metadata": {
    "collapsed": false
   },
   "outputs": [
    {
     "name": "stdout",
     "output_type": "stream",
     "text": [
      "8\n"
     ]
    }
   ],
   "source": [
    "print (2 + 2) * 2 # () change order of compuation"
   ]
  },
  {
   "cell_type": "markdown",
   "metadata": {},
   "source": [
    "## Watch out for division\n",
    "---\n",
    "For example..."
   ]
  },
  {
   "cell_type": "code",
   "execution_count": 48,
   "metadata": {
    "collapsed": false
   },
   "outputs": [
    {
     "name": "stdout",
     "output_type": "stream",
     "text": [
      "1\n"
     ]
    }
   ],
   "source": [
    "print 5/3"
   ]
  },
  {
   "cell_type": "code",
   "execution_count": 49,
   "metadata": {
    "collapsed": false
   },
   "outputs": [
    {
     "name": "stdout",
     "output_type": "stream",
     "text": [
      "1.66666666667\n"
     ]
    }
   ],
   "source": [
    "print 5.0 / 3"
   ]
  },
  {
   "cell_type": "code",
   "execution_count": 50,
   "metadata": {
    "collapsed": false
   },
   "outputs": [
    {
     "name": "stdout",
     "output_type": "stream",
     "text": [
      "1.66666666667\n"
     ]
    }
   ],
   "source": [
    "print 5 / 3.0"
   ]
  },
  {
   "cell_type": "code",
   "execution_count": 51,
   "metadata": {
    "collapsed": false
   },
   "outputs": [
    {
     "name": "stdout",
     "output_type": "stream",
     "text": [
      "1.66666666667\n"
     ]
    }
   ],
   "source": [
    "print 5.0 / 3.0"
   ]
  },
  {
   "cell_type": "markdown",
   "metadata": {},
   "source": [
    "# Boolean"
   ]
  },
  {
   "cell_type": "code",
   "execution_count": 52,
   "metadata": {
    "collapsed": false
   },
   "outputs": [
    {
     "name": "stdout",
     "output_type": "stream",
     "text": [
      "True\n",
      "False\n"
     ]
    }
   ],
   "source": [
    "print True\n",
    "print False"
   ]
  },
  {
   "cell_type": "markdown",
   "metadata": {},
   "source": [
    "### Logical operations\n",
    "- AND: and\n",
    "- OR:  or"
   ]
  },
  {
   "cell_type": "code",
   "execution_count": 53,
   "metadata": {
    "collapsed": false
   },
   "outputs": [
    {
     "name": "stdout",
     "output_type": "stream",
     "text": [
      "False\n",
      "True\n"
     ]
    }
   ],
   "source": [
    "print True and False\n",
    "print True or False"
   ]
  },
  {
   "cell_type": "markdown",
   "metadata": {},
   "source": [
    "### Testing"
   ]
  },
  {
   "cell_type": "code",
   "execution_count": 54,
   "metadata": {
    "collapsed": false
   },
   "outputs": [
    {
     "name": "stdout",
     "output_type": "stream",
     "text": [
      "True\n",
      "True\n",
      "False\n",
      "True\n",
      "False\n",
      "True\n",
      "True\n"
     ]
    }
   ],
   "source": [
    "print 1 == 1\n",
    "print 'hi' == 'hi'\n",
    "print 1 != 1\n",
    "print 2 > 1\n",
    "print 5 < 3\n",
    "print 1 >= 1\n",
    "print 5 <= 9"
   ]
  },
  {
   "cell_type": "markdown",
   "metadata": {},
   "source": [
    "### NOT"
   ]
  },
  {
   "cell_type": "code",
   "execution_count": 55,
   "metadata": {
    "collapsed": false
   },
   "outputs": [
    {
     "name": "stdout",
     "output_type": "stream",
     "text": [
      "False\n",
      "False\n"
     ]
    }
   ],
   "source": [
    "print not True\n",
    "print not 2 > 1"
   ]
  },
  {
   "cell_type": "markdown",
   "metadata": {},
   "source": [
    "### Truthly vs Flasy\n",
    "---\n",
    "#### Falsy values\n",
    "- None\n",
    "- 0, 0.0\n",
    "- [], (), \"\"\n",
    "- {}\n"
   ]
  },
  {
   "cell_type": "code",
   "execution_count": 56,
   "metadata": {
    "collapsed": false
   },
   "outputs": [
    {
     "name": "stdout",
     "output_type": "stream",
     "text": [
      "mylist is truethy\n"
     ]
    }
   ],
   "source": [
    "mylist = [1,2,3]\n",
    "if mylist:\n",
    "    print \"mylist is truethy\"\n",
    "    pass"
   ]
  },
  {
   "cell_type": "markdown",
   "metadata": {},
   "source": [
    "## Squence\n",
    "---\n",
    "- List\n",
    "- Tuple\n",
    "- (string??)"
   ]
  },
  {
   "cell_type": "markdown",
   "metadata": {},
   "source": [
    "### List"
   ]
  },
  {
   "cell_type": "code",
   "execution_count": 57,
   "metadata": {
    "collapsed": true
   },
   "outputs": [],
   "source": [
    "book = 'Happy Potter'\n",
    "books = ['Lord of Rings', 'Happy Potter', 'Snow White'] # I am a List"
   ]
  },
  {
   "cell_type": "code",
   "execution_count": 58,
   "metadata": {
    "collapsed": false
   },
   "outputs": [
    {
     "name": "stdout",
     "output_type": "stream",
     "text": [
      "['Lord of Rings', 'Happy Potter', 'Snow White', 'Laozi']\n"
     ]
    }
   ],
   "source": [
    "books.append('Laozi')\n",
    "print books"
   ]
  },
  {
   "cell_type": "code",
   "execution_count": 59,
   "metadata": {
    "collapsed": false
   },
   "outputs": [
    {
     "name": "stdout",
     "output_type": "stream",
     "text": [
      "['Lord of Rings', 'Happy Potter', 'Snow White', 'Laozi', 'ZhuangZi']\n"
     ]
    }
   ],
   "source": [
    "books.append('ZhuangZi')\n",
    "print books"
   ]
  },
  {
   "cell_type": "code",
   "execution_count": 60,
   "metadata": {
    "collapsed": false
   },
   "outputs": [
    {
     "name": "stdout",
     "output_type": "stream",
     "text": [
      "['Lord of Rings', 'Happy Potter', 'Snow White', 'Laozi']\n"
     ]
    }
   ],
   "source": [
    "books.pop()\n",
    "print books"
   ]
  },
  {
   "cell_type": "code",
   "execution_count": 61,
   "metadata": {
    "collapsed": false
   },
   "outputs": [
    {
     "name": "stdout",
     "output_type": "stream",
     "text": [
      "['Lord of Rings', 'Happy Potter', 'Snow White', 'Laozi', 'ZhuangZi']\n"
     ]
    }
   ],
   "source": [
    "books.append('ZhuangZi')\n",
    "print books"
   ]
  },
  {
   "cell_type": "code",
   "execution_count": 62,
   "metadata": {
    "collapsed": false
   },
   "outputs": [
    {
     "name": "stdout",
     "output_type": "stream",
     "text": [
      "Lord of Rings\n"
     ]
    }
   ],
   "source": [
    "print books[0]"
   ]
  },
  {
   "cell_type": "code",
   "execution_count": 63,
   "metadata": {
    "collapsed": true
   },
   "outputs": [],
   "source": [
    "books[0] = 'Python: Definite Guide'"
   ]
  },
  {
   "cell_type": "code",
   "execution_count": 64,
   "metadata": {
    "collapsed": false
   },
   "outputs": [
    {
     "name": "stdout",
     "output_type": "stream",
     "text": [
      "['Python: Definite Guide', 'Happy Potter', 'Snow White', 'Laozi', 'ZhuangZi']\n"
     ]
    }
   ],
   "source": [
    "print books"
   ]
  },
  {
   "cell_type": "code",
   "execution_count": 65,
   "metadata": {
    "collapsed": false
   },
   "outputs": [
    {
     "name": "stdout",
     "output_type": "stream",
     "text": [
      "ZhuangZi\n"
     ]
    }
   ],
   "source": [
    "print books[-1]"
   ]
  },
  {
   "cell_type": "code",
   "execution_count": 66,
   "metadata": {
    "collapsed": true
   },
   "outputs": [],
   "source": [
    "#print books[99]"
   ]
  },
  {
   "cell_type": "markdown",
   "metadata": {},
   "source": [
    "Slicing is the same..."
   ]
  },
  {
   "cell_type": "code",
   "execution_count": 67,
   "metadata": {
    "collapsed": false
   },
   "outputs": [
    {
     "name": "stdout",
     "output_type": "stream",
     "text": [
      "['Happy Potter', 'Snow White', 'Laozi', 'ZhuangZi']\n",
      "['Python: Definite Guide', 'Happy Potter', 'Snow White']\n",
      "['ZhuangZi', 'Laozi', 'Snow White', 'Happy Potter', 'Python: Definite Guide']\n"
     ]
    }
   ],
   "source": [
    "print books[1:]\n",
    "print books[:3]\n",
    "print books[::-1]"
   ]
  },
  {
   "cell_type": "code",
   "execution_count": 68,
   "metadata": {
    "collapsed": false
   },
   "outputs": [
    {
     "name": "stdout",
     "output_type": "stream",
     "text": [
      "['Python: Definite Guide', 'Happy Potter', 'Snow White', 'Laozi', 'ZhuangZi']\n",
      "['Happy Potter', 'Snow White', 'Laozi', 'ZhuangZi']\n"
     ]
    }
   ],
   "source": [
    "print books\n",
    "del books[0]\n",
    "print books"
   ]
  },
  {
   "cell_type": "code",
   "execution_count": 69,
   "metadata": {
    "collapsed": false
   },
   "outputs": [
    {
     "name": "stdout",
     "output_type": "stream",
     "text": [
      "['Python: Definite Guide', 'Happy Potter', 'Snow White', 'Laozi', 'ZhuangZi']\n"
     ]
    }
   ],
   "source": [
    "print ['Python: Definite Guide'] + books"
   ]
  },
  {
   "cell_type": "code",
   "execution_count": 70,
   "metadata": {
    "collapsed": true
   },
   "outputs": [],
   "source": [
    "books.extend(['Python: Definite Guide'])"
   ]
  },
  {
   "cell_type": "code",
   "execution_count": 71,
   "metadata": {
    "collapsed": false
   },
   "outputs": [
    {
     "name": "stdout",
     "output_type": "stream",
     "text": [
      "['Happy Potter', 'Snow White', 'Laozi', 'ZhuangZi', 'Python: Definite Guide']\n"
     ]
    }
   ],
   "source": [
    "print books"
   ]
  },
  {
   "cell_type": "code",
   "execution_count": 72,
   "metadata": {
    "collapsed": true
   },
   "outputs": [],
   "source": [
    "books.remove('Python: Definite Guide')"
   ]
  },
  {
   "cell_type": "code",
   "execution_count": 73,
   "metadata": {
    "collapsed": false
   },
   "outputs": [
    {
     "name": "stdout",
     "output_type": "stream",
     "text": [
      "['Happy Potter', 'Snow White', 'Laozi', 'ZhuangZi']\n"
     ]
    }
   ],
   "source": [
    "print books"
   ]
  },
  {
   "cell_type": "code",
   "execution_count": 74,
   "metadata": {
    "collapsed": true
   },
   "outputs": [],
   "source": [
    "books.insert(1, 'Python: Definite Guide')"
   ]
  },
  {
   "cell_type": "code",
   "execution_count": 75,
   "metadata": {
    "collapsed": false
   },
   "outputs": [
    {
     "name": "stdout",
     "output_type": "stream",
     "text": [
      "['Happy Potter', 'Python: Definite Guide', 'Snow White', 'Laozi', 'ZhuangZi']\n"
     ]
    }
   ],
   "source": [
    "print books"
   ]
  },
  {
   "cell_type": "code",
   "execution_count": 76,
   "metadata": {
    "collapsed": false
   },
   "outputs": [
    {
     "name": "stdout",
     "output_type": "stream",
     "text": [
      "1\n"
     ]
    }
   ],
   "source": [
    "print books.index('Python: Definite Guide')"
   ]
  },
  {
   "cell_type": "markdown",
   "metadata": {},
   "source": [
    "Practice: \n",
    "---\n",
    "I have a List of books, make user input a book. Return if the the book is in the List."
   ]
  },
  {
   "cell_type": "code",
   "execution_count": 77,
   "metadata": {
    "collapsed": false
   },
   "outputs": [
    {
     "name": "stdout",
     "output_type": "stream",
     "text": [
      "True\n"
     ]
    }
   ],
   "source": [
    "print 'Python: Definite Guide' in books"
   ]
  },
  {
   "cell_type": "code",
   "execution_count": 78,
   "metadata": {
    "collapsed": false
   },
   "outputs": [
    {
     "name": "stdout",
     "output_type": "stream",
     "text": [
      "False\n"
     ]
    }
   ],
   "source": [
    "print 'The pro Ruby developer' in books"
   ]
  },
  {
   "cell_type": "code",
   "execution_count": 79,
   "metadata": {
    "collapsed": false
   },
   "outputs": [
    {
     "name": "stdout",
     "output_type": "stream",
     "text": [
      "['Happy Potter', 'Python: Definite Guide', 'Snow White', 'Laozi', 'ZhuangZi']\n",
      "5\n"
     ]
    }
   ],
   "source": [
    "print books\n",
    "print len(books)"
   ]
  },
  {
   "cell_type": "markdown",
   "metadata": {},
   "source": [
    "## Tuple"
   ]
  },
  {
   "cell_type": "code",
   "execution_count": 80,
   "metadata": {
    "collapsed": false
   },
   "outputs": [
    {
     "name": "stdout",
     "output_type": "stream",
     "text": [
      "(1, 2, 3)\n"
     ]
    }
   ],
   "source": [
    "tup = (1,2,3)\n",
    "print tup"
   ]
  },
  {
   "cell_type": "code",
   "execution_count": 81,
   "metadata": {
    "collapsed": false
   },
   "outputs": [
    {
     "name": "stdout",
     "output_type": "stream",
     "text": [
      "1\n",
      "3\n",
      "(1, 2)\n",
      "True\n"
     ]
    }
   ],
   "source": [
    "print tup[0]\n",
    "print len(tup)\n",
    "print tup[:2]\n",
    "print 2 in tup"
   ]
  },
  {
   "cell_type": "code",
   "execution_count": 82,
   "metadata": {
    "collapsed": false
   },
   "outputs": [
    {
     "name": "stdout",
     "output_type": "stream",
     "text": [
      "['Happy Potter', 'Python: Definite Guide', 'Snow White', 'Laozi', 'ZhuangZi']\n",
      "['Happy Potter', 'Python: Definite Guide', 'Snow White']\n"
     ]
    }
   ],
   "source": [
    "print books\n",
    "print books[:3]\n",
    "no1_fav, no2_fav, no3_fav = books[:3]"
   ]
  },
  {
   "cell_type": "code",
   "execution_count": 83,
   "metadata": {
    "collapsed": false
   },
   "outputs": [
    {
     "name": "stdout",
     "output_type": "stream",
     "text": [
      "Happy Potter\n"
     ]
    }
   ],
   "source": [
    "print no1_fav"
   ]
  },
  {
   "cell_type": "code",
   "execution_count": 84,
   "metadata": {
    "collapsed": false
   },
   "outputs": [
    {
     "name": "stdout",
     "output_type": "stream",
     "text": [
      "ian\n"
     ]
    }
   ],
   "source": [
    "myname = 'ian'\n",
    "myname.upper()\n",
    "print myname"
   ]
  },
  {
   "cell_type": "markdown",
   "metadata": {},
   "source": [
    "# Dictionary\n",
    "---\n",
    "Dictionary has no order, thus no indexing"
   ]
  },
  {
   "cell_type": "code",
   "execution_count": 85,
   "metadata": {
    "collapsed": true
   },
   "outputs": [],
   "source": [
    "mydict = {\"one\": 1, \"two\": 2, \"three\": 3}"
   ]
  },
  {
   "cell_type": "code",
   "execution_count": 86,
   "metadata": {
    "collapsed": false
   },
   "outputs": [
    {
     "name": "stdout",
     "output_type": "stream",
     "text": [
      "1\n",
      "2\n"
     ]
    }
   ],
   "source": [
    "# Look up the dictionary using the key\n",
    "print mydict['one']\n",
    "print mydict['two']"
   ]
  },
  {
   "cell_type": "code",
   "execution_count": 87,
   "metadata": {
    "collapsed": false
   },
   "outputs": [
    {
     "name": "stdout",
     "output_type": "stream",
     "text": [
      "['three', 'two', 'one']\n"
     ]
    }
   ],
   "source": [
    "# Return all the keys of a dictionary\n",
    "print mydict.keys()"
   ]
  },
  {
   "cell_type": "code",
   "execution_count": 88,
   "metadata": {
    "collapsed": false
   },
   "outputs": [
    {
     "name": "stdout",
     "output_type": "stream",
     "text": [
      "[3, 2, 1]\n"
     ]
    }
   ],
   "source": [
    "# Return all the values of a dictionary\n",
    "print mydict.values()"
   ]
  },
  {
   "cell_type": "code",
   "execution_count": 89,
   "metadata": {
    "collapsed": false
   },
   "outputs": [
    {
     "name": "stdout",
     "output_type": "stream",
     "text": [
      "True\n"
     ]
    }
   ],
   "source": [
    "# use \"in\" to lookup if something is a key of the dictionary\n",
    "print 'two' in mydict"
   ]
  },
  {
   "cell_type": "code",
   "execution_count": 90,
   "metadata": {
    "collapsed": false
   },
   "outputs": [
    {
     "name": "stdout",
     "output_type": "stream",
     "text": [
      "True\n"
     ]
    }
   ],
   "source": [
    "# If we want to check if something is a value in the dictionary...\n",
    "print 2 in mydict.values()"
   ]
  },
  {
   "cell_type": "code",
   "execution_count": 91,
   "metadata": {
    "collapsed": false
   },
   "outputs": [
    {
     "name": "stdout",
     "output_type": "stream",
     "text": [
      "[('three', 3), ('two', 2), ('one', 1)]\n",
      "('three', 3)\n",
      "three 3\n"
     ]
    }
   ],
   "source": [
    "# If we want to get the key-value as a pair\n",
    "print mydict.items()\n",
    "print mydict.items()[0]\n",
    "first_key, first_val = mydict.items()[0]\n",
    "print first_key, first_val"
   ]
  },
  {
   "cell_type": "code",
   "execution_count": 92,
   "metadata": {
    "collapsed": false
   },
   "outputs": [
    {
     "name": "stdout",
     "output_type": "stream",
     "text": [
      "key is three\n",
      "val is 3\n",
      "key is two\n",
      "val is 2\n",
      "key is one\n",
      "val is 1\n"
     ]
    }
   ],
   "source": [
    "for key, val in mydict.items():\n",
    "    print \"key is \" + key\n",
    "    print \"val is \" + str(val)"
   ]
  },
  {
   "cell_type": "markdown",
   "metadata": {},
   "source": [
    "### Problem: we lookup a key that is not in the dictionary...."
   ]
  },
  {
   "cell_type": "code",
   "execution_count": 93,
   "metadata": {
    "collapsed": false
   },
   "outputs": [],
   "source": [
    "#print mydict['four']"
   ]
  },
  {
   "cell_type": "markdown",
   "metadata": {},
   "source": [
    "Solution.."
   ]
  },
  {
   "cell_type": "code",
   "execution_count": 94,
   "metadata": {
    "collapsed": false
   },
   "outputs": [
    {
     "name": "stdout",
     "output_type": "stream",
     "text": [
      "None\n",
      "1\n"
     ]
    }
   ],
   "source": [
    "print mydict.get('four')\n",
    "print mydict.get('one')"
   ]
  },
  {
   "cell_type": "code",
   "execution_count": 95,
   "metadata": {
    "collapsed": false
   },
   "outputs": [
    {
     "name": "stdout",
     "output_type": "stream",
     "text": [
      "no such number...\n",
      "1\n"
     ]
    }
   ],
   "source": [
    "print mydict.get('four', 'no such number...')\n",
    "print mydict.get('one', 'no such number...')"
   ]
  },
  {
   "cell_type": "code",
   "execution_count": 96,
   "metadata": {
    "collapsed": false,
    "scrolled": true
   },
   "outputs": [
    {
     "name": "stdout",
     "output_type": "stream",
     "text": [
      "{'four': 4, 'three': 3, 'two': 2, 'one': 1}\n"
     ]
    }
   ],
   "source": [
    "mydict['four'] = 4\n",
    "print mydict"
   ]
  },
  {
   "cell_type": "markdown",
   "metadata": {},
   "source": [
    "setdefault()\n",
    "---\n",
    "- if key does not exist, insert the new key-value pair\n",
    "- if key does exist, do nothing"
   ]
  },
  {
   "cell_type": "code",
   "execution_count": 97,
   "metadata": {
    "collapsed": false
   },
   "outputs": [
    {
     "name": "stdout",
     "output_type": "stream",
     "text": [
      "{'four': 4, 'three': 3, 'five': 5, 'two': 2, 'one': 1}\n"
     ]
    }
   ],
   "source": [
    "mydict.setdefault(\"five\", 5)\n",
    "print mydict"
   ]
  },
  {
   "cell_type": "code",
   "execution_count": 98,
   "metadata": {
    "collapsed": false
   },
   "outputs": [
    {
     "name": "stdout",
     "output_type": "stream",
     "text": [
      "{'four': 4, 'three': 3, 'five': 5, 'two': 2, 'one': 1}\n"
     ]
    }
   ],
   "source": [
    "mydict.setdefault(\"five\", 6)\n",
    "print mydict"
   ]
  },
  {
   "cell_type": "markdown",
   "metadata": {},
   "source": [
    "# Control Flow"
   ]
  },
  {
   "cell_type": "code",
   "execution_count": 99,
   "metadata": {
    "collapsed": true
   },
   "outputs": [],
   "source": [
    "some_var = 10"
   ]
  },
  {
   "cell_type": "code",
   "execution_count": 100,
   "metadata": {
    "collapsed": false
   },
   "outputs": [
    {
     "name": "stdout",
     "output_type": "stream",
     "text": [
      "it is 10\n"
     ]
    }
   ],
   "source": [
    "# If...elif....else\n",
    "if some_var > 10:\n",
    "    print \"it is greater than 10\"\n",
    "elif some_var < 10:\n",
    "    print \"it is less than 10\"\n",
    "else:\n",
    "    print \"it is 10\""
   ]
  },
  {
   "cell_type": "code",
   "execution_count": 101,
   "metadata": {
    "collapsed": false
   },
   "outputs": [
    {
     "name": "stdout",
     "output_type": "stream",
     "text": [
      "Happy Potter is a book\n",
      "Python: Definite Guide is a book\n",
      "Snow White is a book\n",
      "Laozi is a book\n",
      "ZhuangZi is a book\n"
     ]
    }
   ],
   "source": [
    "# For loops\n",
    "books = ['Happy Potter', 'Python: Definite Guide', 'Snow White', 'Laozi', 'ZhuangZi']\n",
    "for book in books:\n",
    "    print \"{} is a book\".format(book)"
   ]
  },
  {
   "cell_type": "code",
   "execution_count": 102,
   "metadata": {
    "collapsed": false
   },
   "outputs": [
    {
     "name": "stdout",
     "output_type": "stream",
     "text": [
      "[1, 2, 3, 4, 5, 6, 7, 8, 9]\n",
      "Current number is 1\n",
      "Current number is 2\n",
      "Current number is 3\n",
      "Current number is 4\n",
      "Current number is 5\n",
      "Current number is 6\n",
      "Current number is 7\n",
      "Current number is 8\n",
      "Current number is 9\n"
     ]
    }
   ],
   "source": [
    "# range(lower, upper)\n",
    "mynumbers = range(1,10)\n",
    "print mynumbers\n",
    "for num in mynumbers:\n",
    "    print \"Current number is {}\".format(num)"
   ]
  },
  {
   "cell_type": "code",
   "execution_count": 103,
   "metadata": {
    "collapsed": false
   },
   "outputs": [
    {
     "name": "stdout",
     "output_type": "stream",
     "text": [
      "[5, 6, 7, 8, 9, 10]\n"
     ]
    }
   ],
   "source": [
    "mynumbers2 = range(5,11)\n",
    "print mynumbers2"
   ]
  },
  {
   "cell_type": "code",
   "execution_count": 104,
   "metadata": {
    "collapsed": false
   },
   "outputs": [
    {
     "name": "stdout",
     "output_type": "stream",
     "text": [
      "Current x is 0\n",
      "Current x is 1\n",
      "Current x is 2\n",
      "Current x is 3\n"
     ]
    }
   ],
   "source": [
    "# While loop, loop until a condition is not met\n",
    "x = 0\n",
    "while x < 4:\n",
    "    print \"Current x is {}\".format(x)\n",
    "    x += 1 # x = x + 1"
   ]
  },
  {
   "cell_type": "code",
   "execution_count": 105,
   "metadata": {
    "collapsed": false
   },
   "outputs": [
    {
     "name": "stdout",
     "output_type": "stream",
     "text": [
      "Current x is 0\n",
      "Current x is 1\n",
      "Current x is 2\n",
      "Current x is 3\n",
      "Current x is 4\n"
     ]
    }
   ],
   "source": [
    "# While loop, loop until a condition is not met\n",
    "x = 0\n",
    "while True:\n",
    "    print \"Current x is {}\".format(x)\n",
    "    x += 1 # x = x + 1\n",
    "    if x > 4:\n",
    "        break"
   ]
  },
  {
   "cell_type": "markdown",
   "metadata": {},
   "source": [
    "## Advanced loop"
   ]
  },
  {
   "cell_type": "markdown",
   "metadata": {},
   "source": [
    "### The normal way for finding even numbers using loops"
   ]
  },
  {
   "cell_type": "code",
   "execution_count": 111,
   "metadata": {
    "collapsed": false
   },
   "outputs": [
    {
     "name": "stdout",
     "output_type": "stream",
     "text": [
      "[0, 1, 2, 3, 4, 5, 6, 7, 8, 9, 10]\n",
      "The remainer is 0\n",
      "The remainer is 1\n",
      "The remainer is 0\n",
      "The remainer is 1\n",
      "The remainer is 0\n",
      "The remainer is 1\n",
      "The remainer is 0\n",
      "The remainer is 1\n",
      "The remainer is 0\n",
      "The remainer is 1\n",
      "The remainer is 0\n",
      "[0, 2, 4, 6, 8, 10]\n"
     ]
    }
   ],
   "source": [
    "mynums = range(0,11)\n",
    "print mynums\n",
    "result = []\n",
    "for num in mynums:\n",
    "    remainder = num % 2\n",
    "    print \"The remainer is {}\".format(remainder)\n",
    "    if remainder == 0:\n",
    "        result.append(num)\n",
    "print result        "
   ]
  },
  {
   "cell_type": "markdown",
   "metadata": {},
   "source": [
    "## using list comprehension"
   ]
  },
  {
   "cell_type": "code",
   "execution_count": 114,
   "metadata": {
    "collapsed": false
   },
   "outputs": [
    {
     "name": "stdout",
     "output_type": "stream",
     "text": [
      "[0, 2, 4, 6, 8, 10]\n"
     ]
    }
   ],
   "source": [
    "print [x for x in range(0,11) if x % 2 == 0]"
   ]
  },
  {
   "cell_type": "markdown",
   "metadata": {},
   "source": [
    "# Exception handling"
   ]
  },
  {
   "cell_type": "code",
   "execution_count": 116,
   "metadata": {
    "collapsed": false
   },
   "outputs": [
    {
     "ename": "IndexError",
     "evalue": "list index out of range",
     "output_type": "error",
     "traceback": [
      "\u001b[1;31m---------------------------------------------------------------------------\u001b[0m",
      "\u001b[1;31mIndexError\u001b[0m                                Traceback (most recent call last)",
      "\u001b[1;32m<ipython-input-116-17c69d55f65d>\u001b[0m in \u001b[0;36m<module>\u001b[1;34m()\u001b[0m\n\u001b[0;32m      1\u001b[0m \u001b[0mmylist\u001b[0m \u001b[1;33m=\u001b[0m \u001b[1;33m[\u001b[0m\u001b[1;36m1\u001b[0m\u001b[1;33m,\u001b[0m \u001b[1;36m2\u001b[0m\u001b[1;33m,\u001b[0m \u001b[1;36m3\u001b[0m\u001b[1;33m]\u001b[0m\u001b[1;33m\u001b[0m\u001b[0m\n\u001b[0;32m      2\u001b[0m \u001b[1;33m\u001b[0m\u001b[0m\n\u001b[1;32m----> 3\u001b[1;33m \u001b[1;32mprint\u001b[0m \u001b[0mmylist\u001b[0m\u001b[1;33m[\u001b[0m\u001b[1;36m3\u001b[0m\u001b[1;33m]\u001b[0m\u001b[1;33m\u001b[0m\u001b[0m\n\u001b[0m",
      "\u001b[1;31mIndexError\u001b[0m: list index out of range"
     ]
    }
   ],
   "source": [
    "mylist = [1, 2, 3]\n",
    "print mylist[3]"
   ]
  },
  {
   "cell_type": "code",
   "execution_count": 115,
   "metadata": {
    "collapsed": false
   },
   "outputs": [
    {
     "name": "stdout",
     "output_type": "stream",
     "text": [
      "not in list\n"
     ]
    }
   ],
   "source": [
    "mylist = [1, 2, 3]\n",
    "try:\n",
    "    print mylist[3]\n",
    "except:\n",
    "    print \"not in list\""
   ]
  },
  {
   "cell_type": "code",
   "execution_count": 117,
   "metadata": {
    "collapsed": false
   },
   "outputs": [
    {
     "name": "stdout",
     "output_type": "stream",
     "text": [
      "An error occured......list index out of range\n"
     ]
    }
   ],
   "source": [
    "mylist = [1, 2, 3]\n",
    "try:\n",
    "    print mylist[3]\n",
    "except IndexError as e:\n",
    "    print \"An error occured......{}\".format(e)"
   ]
  },
  {
   "cell_type": "code",
   "execution_count": 122,
   "metadata": {
    "collapsed": false
   },
   "outputs": [
    {
     "name": "stdout",
     "output_type": "stream",
     "text": [
      "3\n",
      "Yay, there is no exception!\n"
     ]
    }
   ],
   "source": [
    "mylist = [1, 2, 3]\n",
    "try:\n",
    "    print mylist[2]\n",
    "except IndexError as e:\n",
    "    print \"An error occured......{}\".format(e)\n",
    "else: # Only runs, if no exception\n",
    "    print \"Yay, there is no exception!\""
   ]
  },
  {
   "cell_type": "code",
   "execution_count": 124,
   "metadata": {
    "collapsed": false
   },
   "outputs": [
    {
     "name": "stdout",
     "output_type": "stream",
     "text": [
      "An error occured......list index out of range\n",
      "Finally, we are done\n"
     ]
    }
   ],
   "source": [
    "mylist = [1, 2, 3]\n",
    "try:\n",
    "    print mylist[6]\n",
    "except IndexError as e:\n",
    "    print \"An error occured......{}\".format(e)\n",
    "else: # Only runs, if no exception\n",
    "    print \"Yay, there is no exception!\"\n",
    "finally: # Always runs\n",
    "    print \"Finally, we are done\""
   ]
  },
  {
   "cell_type": "markdown",
   "metadata": {},
   "source": [
    "# Functions"
   ]
  },
  {
   "cell_type": "code",
   "execution_count": 126,
   "metadata": {
    "collapsed": true
   },
   "outputs": [],
   "source": [
    "# Define a function using def\n",
    "def add(x, y):\n",
    "    print \"x is {} and y is {}\".format(x, y)\n",
    "    return x + y"
   ]
  },
  {
   "cell_type": "code",
   "execution_count": 129,
   "metadata": {
    "collapsed": false
   },
   "outputs": [
    {
     "name": "stdout",
     "output_type": "stream",
     "text": [
      "x is 1 and y is 2\n",
      "3\n"
     ]
    }
   ],
   "source": [
    "result = add(1,2)\n",
    "print result"
   ]
  },
  {
   "cell_type": "code",
   "execution_count": 128,
   "metadata": {
    "collapsed": false
   },
   "outputs": [
    {
     "name": "stdout",
     "output_type": "stream",
     "text": [
      "x is 5 and y is 5\n"
     ]
    },
    {
     "data": {
      "text/plain": [
       "10"
      ]
     },
     "execution_count": 128,
     "metadata": {},
     "output_type": "execute_result"
    }
   ],
   "source": [
    "add(5,5)"
   ]
  },
  {
   "cell_type": "code",
   "execution_count": 145,
   "metadata": {
    "collapsed": false
   },
   "outputs": [
    {
     "name": "stdout",
     "output_type": "stream",
     "text": [
      "x is 1 and y is 3\n"
     ]
    },
    {
     "data": {
      "text/plain": [
       "4"
      ]
     },
     "execution_count": 145,
     "metadata": {},
     "output_type": "execute_result"
    }
   ],
   "source": [
    "add(x=1, y=3)"
   ]
  },
  {
   "cell_type": "code",
   "execution_count": 146,
   "metadata": {
    "collapsed": false
   },
   "outputs": [
    {
     "name": "stdout",
     "output_type": "stream",
     "text": [
      "x is 1 and y is 5\n"
     ]
    },
    {
     "data": {
      "text/plain": [
       "6"
      ]
     },
     "execution_count": 146,
     "metadata": {},
     "output_type": "execute_result"
    }
   ],
   "source": [
    "add(y=5, x=1)"
   ]
  },
  {
   "cell_type": "markdown",
   "metadata": {},
   "source": [
    "## What if number of arguments is not fixed?"
   ]
  },
  {
   "cell_type": "code",
   "execution_count": 150,
   "metadata": {
    "collapsed": false
   },
   "outputs": [
    {
     "name": "stdout",
     "output_type": "stream",
     "text": [
      "(1, 2, 3, 4, 5)\n",
      "(1, 2)\n"
     ]
    }
   ],
   "source": [
    "def varargs(*args):\n",
    "    # args is a Tuple\n",
    "    print args\n",
    "varargs(1,2,3,4,5) # Number of arguments is flexible\n",
    "varargs(1,2)"
   ]
  },
  {
   "cell_type": "code",
   "execution_count": 152,
   "metadata": {
    "collapsed": false
   },
   "outputs": [
    {
     "name": "stdout",
     "output_type": "stream",
     "text": [
      "{'big': 'foot', 'name': 'ian'}\n"
     ]
    }
   ],
   "source": [
    "def keyword_args(**kwargs):\n",
    "    # kwargs is a dictionary\n",
    "    print kwargs\n",
    "    \n",
    "keyword_args(big=\"foot\", name=\"ian\")"
   ]
  },
  {
   "cell_type": "markdown",
   "metadata": {},
   "source": [
    "## Function scope"
   ]
  },
  {
   "cell_type": "code",
   "execution_count": 141,
   "metadata": {
    "collapsed": true
   },
   "outputs": [],
   "source": [
    "x = 5\n",
    "\n",
    "def set_x(num):\n",
    "    print \"I got x = {}\".format(num)\n",
    "    # If we try to access x before it is defined LOCALLY in the function, we will get an error\n",
    "    #print x\n",
    "    x = num # I am a local variable called x\n",
    "    print x"
   ]
  },
  {
   "cell_type": "code",
   "execution_count": 142,
   "metadata": {
    "collapsed": false
   },
   "outputs": [
    {
     "name": "stdout",
     "output_type": "stream",
     "text": [
      "5\n"
     ]
    }
   ],
   "source": [
    "print x"
   ]
  },
  {
   "cell_type": "code",
   "execution_count": 143,
   "metadata": {
    "collapsed": false
   },
   "outputs": [
    {
     "name": "stdout",
     "output_type": "stream",
     "text": [
      "I got x = 43\n",
      "43\n"
     ]
    }
   ],
   "source": [
    "set_x(43)"
   ]
  },
  {
   "cell_type": "code",
   "execution_count": 137,
   "metadata": {
    "collapsed": false
   },
   "outputs": [
    {
     "name": "stdout",
     "output_type": "stream",
     "text": [
      "5\n"
     ]
    }
   ],
   "source": [
    "print x"
   ]
  },
  {
   "cell_type": "markdown",
   "metadata": {},
   "source": []
  }
 ],
 "metadata": {
  "anaconda-cloud": {},
  "kernelspec": {
   "display_name": "Python [Root]",
   "language": "python",
   "name": "Python [Root]"
  },
  "language_info": {
   "codemirror_mode": {
    "name": "ipython",
    "version": 2
   },
   "file_extension": ".py",
   "mimetype": "text/x-python",
   "name": "python",
   "nbconvert_exporter": "python",
   "pygments_lexer": "ipython2",
   "version": "2.7.12"
  }
 },
 "nbformat": 4,
 "nbformat_minor": 0
}
